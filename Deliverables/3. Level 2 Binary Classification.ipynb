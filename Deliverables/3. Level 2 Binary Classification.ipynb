{
 "cells": [
  {
   "cell_type": "markdown",
   "metadata": {},
   "source": [
    "# **<h3 align=\"center\">Machine Learning - Project</h3>**\n",
    "## **<h3 align=\"center\">3. Level 2 Binary Classification</h3>**\n",
    "### **<h3 align=\"center\">Group 30 - Project</h3>**\n",
    "\n",
    "\n",
    "### Group Members\n",
    "| Name              | Email                        | Student ID |\n",
    "|-------------------|------------------------------|------------|\n",
    "| Alexandra Pinto   | 20211599@novaims.unl.pt      | 20211599   |\n",
    "| Gonçalo Peres     | 20211625@novaims.unl.pt      | 20211625   |\n",
    "| Leonor Mira       | 20240658@novaims.unl.pt      | 20240658   |\n",
    "| Miguel Natário    | 20240498@novaims.unl.pt      | 20240498   |\n",
    "| Nuno Bernardino   | 20211546@novaims.unl.pt      | 20211546    |"
   ]
  },
  {
   "cell_type": "markdown",
   "metadata": {},
   "source": [
    "---\n",
    "\n",
    "### **3. Level 2 Binary Classification Notebook**\n",
    "**Description:**\n",
    "This notebook focuses on the **Level 2 Binary Classification model**, which distinguishes between the two most common classes identified in Level 1:\n",
    "- **2 - NON-COMP**\n",
    "- **4 - TEMPORARY**\n",
    "\n",
    "Key steps include:\n",
    "- Loading the subset of **“Common”** cases from Level 1 predictions.\n",
    "- **Feature selection:** Tailor feature preprocessing and selection for this binary classification task.\n",
    "- **Model training:** Train and evaluate a binary classification model to distinguish between the two classes.\n",
    "- **Evaluation:** Use metrics like accuracy, precision, recall, and F1-score to measure performance.\n",
    "- **Output:** Save predictions for integration in the final notebook.\n",
    "\n",
    "This notebook refines the classification of cases within the most common classes, contributing to the pipeline's accuracy.\n",
    "\n",
    "---\n"
   ]
  },
  {
   "cell_type": "markdown",
   "metadata": {},
   "source": [
    "## Table of Contents\n",
    "* [1. Import the Libraries](#chapter1)\n",
    "* [2. Load and Prepare Datasets](#chapter2)\n",
    "* [3. Setting the Target](#chapter3)\n",
    "* [4. Feature Selection](#chapter4)\n",
    "    * [Scaling the Data](#section_4_1)  \n",
    "    * [Numerical Features](#section_4_2) \n",
    "    * [Categorical Features](#section_4_3) \n",
    "    * [Final Features](#section_4_3)\n",
    "* [5. Modelling](#chapter5)\n",
    "* [6. Loading the results](#chapter6)\n"
   ]
  },
  {
   "cell_type": "markdown",
   "metadata": {},
   "source": [
    "# 1. Import the Libraries 📚<a class=\"anchor\" id=\"chapter1\"></a>"
   ]
  },
  {
   "cell_type": "code",
   "execution_count": null,
   "metadata": {},
   "outputs": [],
   "source": [
    "# --- Standard Libraries ---\n",
    "import pandas as pd\n",
    "import numpy as np\n",
    "import matplotlib.pyplot as plt\n",
    "import seaborn as sns\n",
    "sns.set()\n",
    "import zipfile\n",
    "\n",
    "\n",
    "# --- Scikit-Learn Modules for Data Partitioning and Preprocessing ---\n",
    "from sklearn.model_selection import train_test_split, cross_val_score\n",
    "from sklearn.preprocessing import StandardScaler, OneHotEncoder, LabelEncoder, MinMaxScaler, RobustScaler\n",
    "from sklearn.compose import ColumnTransformer\n",
    "from sklearn.pipeline import Pipeline\n",
    "from sklearn.preprocessing import LabelEncoder\n",
    "\n",
    "\n",
    "# --- Feature Selection Methods ---\n",
    "# Filter Methods\n",
    "import scipy.stats as stats\n",
    "from scipy.stats import chi2_contingency\n",
    "from sklearn.feature_selection import mutual_info_classif, chi2, SelectKBest\n",
    "\n",
    "# Wrapper Methods\n",
    "from sklearn.linear_model import LogisticRegression\n",
    "from sklearn.svm import SVC\n",
    "from sklearn.feature_selection import RFE\n",
    "from sklearn.ensemble import RandomForestClassifier\n",
    "from sklearn.tree import DecisionTreeClassifier\n",
    "\n",
    "# Embedded Methods\n",
    "from sklearn.linear_model import LassoCV\n",
    "\n",
    "# --- Evaluation Metrics ---\n",
    "from sklearn.metrics import classification_report, confusion_matrix, accuracy_score, precision_score, recall_score, f1_score\n",
    "\n",
    "from xgboost import XGBClassifier\n",
    "\n",
    "\n",
    "# --- Warnings ---\n",
    "import warnings\n",
    "warnings.filterwarnings('ignore')\n",
    "\n",
    "\n",
    "#selecionar apenas as função que vamos usar neste :)\n",
    "from utils import plot_importance, cor_heatmap, find_optimal_features_with_rfe, compare_rf_feature_importances,compare_feature_importances, select_high_score_features_chi2_no_model,select_high_score_features_MIC, metrics"
   ]
  },
  {
   "cell_type": "code",
   "execution_count": null,
   "metadata": {},
   "outputs": [],
   "source": []
  },
  {
   "cell_type": "markdown",
   "metadata": {},
   "source": [
    "# 2. Load and Prepare Datasets 📁<a class=\"anchor\" id=\"chapter2\"></a>"
   ]
  },
  {
   "cell_type": "code",
   "execution_count": null,
   "metadata": {},
   "outputs": [],
   "source": []
  },
  {
   "cell_type": "code",
   "execution_count": null,
   "metadata": {},
   "outputs": [],
   "source": []
  },
  {
   "cell_type": "markdown",
   "metadata": {},
   "source": [
    "# 3. Feature Selection <a class=\"anchor\" id=\"chapter3\"></a>"
   ]
  },
  {
   "cell_type": "markdown",
   "metadata": {},
   "source": [
    "The feature selection process involves summarizing the essential features in the dataset to help the model focus on the most relevant information. Here, we assess the categorical and numerical variables in `X_train_processed` by examining unique values, descriptive statistics, and verifying the correctness of categorical bins and continuous feature distributions.\n",
    "\n",
    "The `X_train_processed.describe(include='O').T` command provides an overview of the categorical features in the dataset, displaying the count, unique values, top (most frequent) category, and its frequency. This summary helps us understand the distribution and cardinality of each categorical feature, which is essential for feature selection and preprocessing."
   ]
  },
  {
   "cell_type": "markdown",
   "metadata": {},
   "source": [
    "#### Descriptive Statistics for Categorical Features"
   ]
  },
  {
   "cell_type": "code",
   "execution_count": null,
   "metadata": {},
   "outputs": [
    {
     "data": {
      "text/html": [
       "<div>\n",
       "<style scoped>\n",
       "    .dataframe tbody tr th:only-of-type {\n",
       "        vertical-align: middle;\n",
       "    }\n",
       "\n",
       "    .dataframe tbody tr th {\n",
       "        vertical-align: top;\n",
       "    }\n",
       "\n",
       "    .dataframe thead th {\n",
       "        text-align: right;\n",
       "    }\n",
       "</style>\n",
       "<table border=\"1\" class=\"dataframe\">\n",
       "  <thead>\n",
       "    <tr style=\"text-align: right;\">\n",
       "      <th></th>\n",
       "      <th>count</th>\n",
       "      <th>unique</th>\n",
       "      <th>top</th>\n",
       "      <th>freq</th>\n",
       "    </tr>\n",
       "  </thead>\n",
       "  <tbody>\n",
       "    <tr>\n",
       "      <th>Carrier Name</th>\n",
       "      <td>398994</td>\n",
       "      <td>1960</td>\n",
       "      <td>STATE INSURANCE FUND</td>\n",
       "      <td>77168</td>\n",
       "    </tr>\n",
       "    <tr>\n",
       "      <th>Carrier Type</th>\n",
       "      <td>398994</td>\n",
       "      <td>8</td>\n",
       "      <td>PRIVATE</td>\n",
       "      <td>198800</td>\n",
       "    </tr>\n",
       "    <tr>\n",
       "      <th>County of Injury</th>\n",
       "      <td>398994</td>\n",
       "      <td>63</td>\n",
       "      <td>SUFFOLK</td>\n",
       "      <td>41965</td>\n",
       "    </tr>\n",
       "    <tr>\n",
       "      <th>District Name</th>\n",
       "      <td>398994</td>\n",
       "      <td>8</td>\n",
       "      <td>NYC</td>\n",
       "      <td>188402</td>\n",
       "    </tr>\n",
       "    <tr>\n",
       "      <th>Gender</th>\n",
       "      <td>398994</td>\n",
       "      <td>3</td>\n",
       "      <td>M</td>\n",
       "      <td>232838</td>\n",
       "    </tr>\n",
       "    <tr>\n",
       "      <th>Medical Fee Region</th>\n",
       "      <td>398994</td>\n",
       "      <td>5</td>\n",
       "      <td>IV</td>\n",
       "      <td>185033</td>\n",
       "    </tr>\n",
       "    <tr>\n",
       "      <th>Zip Code</th>\n",
       "      <td>398993</td>\n",
       "      <td>9088</td>\n",
       "      <td>11236</td>\n",
       "      <td>3849</td>\n",
       "    </tr>\n",
       "    <tr>\n",
       "      <th>Category Combination</th>\n",
       "      <td>398994</td>\n",
       "      <td>22</td>\n",
       "      <td>PRIVATE-M</td>\n",
       "      <td>115379</td>\n",
       "    </tr>\n",
       "    <tr>\n",
       "      <th>Carrier_District_Interaction</th>\n",
       "      <td>398994</td>\n",
       "      <td>52</td>\n",
       "      <td>PRIVATE_NYC</td>\n",
       "      <td>92172</td>\n",
       "    </tr>\n",
       "    <tr>\n",
       "      <th>Income_Category</th>\n",
       "      <td>398994</td>\n",
       "      <td>5</td>\n",
       "      <td>Lower-Middle Income</td>\n",
       "      <td>100196</td>\n",
       "    </tr>\n",
       "    <tr>\n",
       "      <th>Age Group</th>\n",
       "      <td>398994</td>\n",
       "      <td>4</td>\n",
       "      <td>Young Adult</td>\n",
       "      <td>199496</td>\n",
       "    </tr>\n",
       "    <tr>\n",
       "      <th>promptness_category</th>\n",
       "      <td>395310</td>\n",
       "      <td>7</td>\n",
       "      <td>Until 1 week</td>\n",
       "      <td>159574</td>\n",
       "    </tr>\n",
       "    <tr>\n",
       "      <th>promptness_C2_category</th>\n",
       "      <td>396231</td>\n",
       "      <td>7</td>\n",
       "      <td>Until 1 week</td>\n",
       "      <td>160468</td>\n",
       "    </tr>\n",
       "    <tr>\n",
       "      <th>promptness_C3_category</th>\n",
       "      <td>396754</td>\n",
       "      <td>8</td>\n",
       "      <td>No form received</td>\n",
       "      <td>269977</td>\n",
       "    </tr>\n",
       "    <tr>\n",
       "      <th>Zip_Code_Simplified</th>\n",
       "      <td>398994</td>\n",
       "      <td>77</td>\n",
       "      <td>OTHER</td>\n",
       "      <td>282759</td>\n",
       "    </tr>\n",
       "    <tr>\n",
       "      <th>Carrier Type Merged</th>\n",
       "      <td>398994</td>\n",
       "      <td>6</td>\n",
       "      <td>PRIVATE</td>\n",
       "      <td>198800</td>\n",
       "    </tr>\n",
       "    <tr>\n",
       "      <th>Carrier_Name_Simplified</th>\n",
       "      <td>398994</td>\n",
       "      <td>105</td>\n",
       "      <td>OTHER</td>\n",
       "      <td>85478</td>\n",
       "    </tr>\n",
       "    <tr>\n",
       "      <th>Body_Part_Category</th>\n",
       "      <td>389881</td>\n",
       "      <td>7</td>\n",
       "      <td>Upper Extremities</td>\n",
       "      <td>124648</td>\n",
       "    </tr>\n",
       "    <tr>\n",
       "      <th>Injury_Nature_Category</th>\n",
       "      <td>390861</td>\n",
       "      <td>4</td>\n",
       "      <td>Specific Injury</td>\n",
       "      <td>353666</td>\n",
       "    </tr>\n",
       "    <tr>\n",
       "      <th>Injury_Cause_Category</th>\n",
       "      <td>390872</td>\n",
       "      <td>11</td>\n",
       "      <td>Strain or Injury By</td>\n",
       "      <td>103852</td>\n",
       "    </tr>\n",
       "    <tr>\n",
       "      <th>Industry Risk</th>\n",
       "      <td>398994</td>\n",
       "      <td>3</td>\n",
       "      <td>Unknown Risk</td>\n",
       "      <td>295133</td>\n",
       "    </tr>\n",
       "  </tbody>\n",
       "</table>\n",
       "</div>"
      ],
      "text/plain": [
       "                               count unique                   top    freq\n",
       "Carrier Name                  398994   1960  STATE INSURANCE FUND   77168\n",
       "Carrier Type                  398994      8               PRIVATE  198800\n",
       "County of Injury              398994     63               SUFFOLK   41965\n",
       "District Name                 398994      8                   NYC  188402\n",
       "Gender                        398994      3                     M  232838\n",
       "Medical Fee Region            398994      5                    IV  185033\n",
       "Zip Code                      398993   9088                 11236    3849\n",
       "Category Combination          398994     22             PRIVATE-M  115379\n",
       "Carrier_District_Interaction  398994     52           PRIVATE_NYC   92172\n",
       "Income_Category               398994      5   Lower-Middle Income  100196\n",
       "Age Group                     398994      4           Young Adult  199496\n",
       "promptness_category           395310      7          Until 1 week  159574\n",
       "promptness_C2_category        396231      7          Until 1 week  160468\n",
       "promptness_C3_category        396754      8      No form received  269977\n",
       "Zip_Code_Simplified           398994     77                 OTHER  282759\n",
       "Carrier Type Merged           398994      6               PRIVATE  198800\n",
       "Carrier_Name_Simplified       398994    105                 OTHER   85478\n",
       "Body_Part_Category            389881      7     Upper Extremities  124648\n",
       "Injury_Nature_Category        390861      4       Specific Injury  353666\n",
       "Injury_Cause_Category         390872     11   Strain or Injury By  103852\n",
       "Industry Risk                 398994      3          Unknown Risk  295133"
      ]
     },
     "metadata": {},
     "output_type": "display_data"
    }
   ],
   "source": [
    "# Displaying descriptive statistics for categorical features in the training dataset\n",
    "X_train.describe(include='O').T"
   ]
  },
  {
   "cell_type": "markdown",
   "metadata": {},
   "source": [
    "This table provides insight into the number of unique categories within each feature, assisting in identifying high-cardinality features that may need simplification or encoding before modeling.\n",
    "\n",
    "The next output explores the Income_Category feature specifically, showing its categorical distribution across different income levels."
   ]
  },
  {
   "cell_type": "code",
   "execution_count": null,
   "metadata": {},
   "outputs": [
    {
     "data": {
      "text/plain": [
       "Lower-Middle Income    100196\n",
       "Low Income              99749\n",
       "Upper-Middle Income     99301\n",
       "High Income             70267\n",
       "Upper-High Income       29481\n",
       "Name: Income_Category, dtype: int64"
      ]
     },
     "metadata": {},
     "output_type": "display_data"
    }
   ],
   "source": [
    "# Exploring the distribution of Income_Category\n",
    "X_train['Income_Category'].value_counts()"
   ]
  },
  {
   "cell_type": "markdown",
   "metadata": {},
   "source": [
    "The `Income_Category` feature categorizes the `Average Weekly Wage` into four levels:\n",
    "- **Low Income**\n",
    "- **Lower-Middle Income**\n",
    "- **Upper-Middle Income**\n",
    "- **High Income**\n",
    "\n",
    "This feature provides a socioeconomic context for the claims, allowing the model to account for income-based disparities in claims."
   ]
  },
  {
   "cell_type": "markdown",
   "metadata": {},
   "source": [
    "#### Descriptive Statistics for Numerical Features"
   ]
  },
  {
   "cell_type": "code",
   "execution_count": null,
   "metadata": {},
   "outputs": [
    {
     "data": {
      "text/html": [
       "<div>\n",
       "<style scoped>\n",
       "    .dataframe tbody tr th:only-of-type {\n",
       "        vertical-align: middle;\n",
       "    }\n",
       "\n",
       "    .dataframe tbody tr th {\n",
       "        vertical-align: top;\n",
       "    }\n",
       "\n",
       "    .dataframe thead th {\n",
       "        text-align: right;\n",
       "    }\n",
       "</style>\n",
       "<table border=\"1\" class=\"dataframe\">\n",
       "  <thead>\n",
       "    <tr style=\"text-align: right;\">\n",
       "      <th></th>\n",
       "      <th>count</th>\n",
       "      <th>mean</th>\n",
       "      <th>std</th>\n",
       "      <th>min</th>\n",
       "      <th>25%</th>\n",
       "      <th>50%</th>\n",
       "      <th>75%</th>\n",
       "      <th>max</th>\n",
       "    </tr>\n",
       "  </thead>\n",
       "  <tbody>\n",
       "    <tr>\n",
       "      <th>Age at Injury</th>\n",
       "      <td>398994.0</td>\n",
       "      <td>42.908502</td>\n",
       "      <td>12.927821</td>\n",
       "      <td>16.000000</td>\n",
       "      <td>32.0000</td>\n",
       "      <td>43.000000</td>\n",
       "      <td>53.000000</td>\n",
       "      <td>80.00</td>\n",
       "    </tr>\n",
       "    <tr>\n",
       "      <th>Attorney/Representative</th>\n",
       "      <td>398994.0</td>\n",
       "      <td>0.315416</td>\n",
       "      <td>0.464682</td>\n",
       "      <td>0.000000</td>\n",
       "      <td>0.0000</td>\n",
       "      <td>0.000000</td>\n",
       "      <td>1.000000</td>\n",
       "      <td>1.00</td>\n",
       "    </tr>\n",
       "    <tr>\n",
       "      <th>Average Weekly Wage</th>\n",
       "      <td>398994.0</td>\n",
       "      <td>1244.287122</td>\n",
       "      <td>7036.370387</td>\n",
       "      <td>17.410000</td>\n",
       "      <td>869.8025</td>\n",
       "      <td>1198.087381</td>\n",
       "      <td>1489.970000</td>\n",
       "      <td>2828079.00</td>\n",
       "    </tr>\n",
       "    <tr>\n",
       "      <th>Birth Year</th>\n",
       "      <td>398994.0</td>\n",
       "      <td>1977.938823</td>\n",
       "      <td>13.038683</td>\n",
       "      <td>1918.101209</td>\n",
       "      <td>1968.0000</td>\n",
       "      <td>1978.101209</td>\n",
       "      <td>1988.000000</td>\n",
       "      <td>2006.00</td>\n",
       "    </tr>\n",
       "    <tr>\n",
       "      <th>COVID-19 Indicator</th>\n",
       "      <td>398994.0</td>\n",
       "      <td>0.048367</td>\n",
       "      <td>0.214540</td>\n",
       "      <td>0.000000</td>\n",
       "      <td>0.0000</td>\n",
       "      <td>0.000000</td>\n",
       "      <td>0.000000</td>\n",
       "      <td>1.00</td>\n",
       "    </tr>\n",
       "    <tr>\n",
       "      <th>IME-4 Count</th>\n",
       "      <td>398994.0</td>\n",
       "      <td>0.747054</td>\n",
       "      <td>1.928570</td>\n",
       "      <td>0.000000</td>\n",
       "      <td>0.0000</td>\n",
       "      <td>0.000000</td>\n",
       "      <td>0.000000</td>\n",
       "      <td>73.00</td>\n",
       "    </tr>\n",
       "    <tr>\n",
       "      <th>Industry Code</th>\n",
       "      <td>398994.0</td>\n",
       "      <td>14.794842</td>\n",
       "      <td>6.791442</td>\n",
       "      <td>-1.000000</td>\n",
       "      <td>9.0000</td>\n",
       "      <td>18.000000</td>\n",
       "      <td>19.000000</td>\n",
       "      <td>23.00</td>\n",
       "    </tr>\n",
       "    <tr>\n",
       "      <th>WCIO Cause of Injury Code</th>\n",
       "      <td>398994.0</td>\n",
       "      <td>53.315619</td>\n",
       "      <td>26.733636</td>\n",
       "      <td>0.000000</td>\n",
       "      <td>29.0000</td>\n",
       "      <td>56.000000</td>\n",
       "      <td>75.000000</td>\n",
       "      <td>99.00</td>\n",
       "    </tr>\n",
       "    <tr>\n",
       "      <th>WCIO Nature of Injury Code</th>\n",
       "      <td>398994.0</td>\n",
       "      <td>40.191752</td>\n",
       "      <td>22.733837</td>\n",
       "      <td>0.000000</td>\n",
       "      <td>13.0000</td>\n",
       "      <td>49.000000</td>\n",
       "      <td>52.000000</td>\n",
       "      <td>91.00</td>\n",
       "    </tr>\n",
       "    <tr>\n",
       "      <th>WCIO Part Of Body Code</th>\n",
       "      <td>398994.0</td>\n",
       "      <td>46.939114</td>\n",
       "      <td>23.969010</td>\n",
       "      <td>0.000000</td>\n",
       "      <td>35.0000</td>\n",
       "      <td>42.000000</td>\n",
       "      <td>55.000000</td>\n",
       "      <td>101.00</td>\n",
       "    </tr>\n",
       "    <tr>\n",
       "      <th>Number of Dependents</th>\n",
       "      <td>398994.0</td>\n",
       "      <td>3.006654</td>\n",
       "      <td>2.000803</td>\n",
       "      <td>0.000000</td>\n",
       "      <td>1.0000</td>\n",
       "      <td>3.000000</td>\n",
       "      <td>5.000000</td>\n",
       "      <td>6.00</td>\n",
       "    </tr>\n",
       "    <tr>\n",
       "      <th>Days_To_First_Hearing</th>\n",
       "      <td>398994.0</td>\n",
       "      <td>88.126303</td>\n",
       "      <td>265.409473</td>\n",
       "      <td>-433.000000</td>\n",
       "      <td>0.0000</td>\n",
       "      <td>0.000000</td>\n",
       "      <td>74.000000</td>\n",
       "      <td>16373.00</td>\n",
       "    </tr>\n",
       "    <tr>\n",
       "      <th>Accident_Quarter</th>\n",
       "      <td>398994.0</td>\n",
       "      <td>2.494311</td>\n",
       "      <td>1.124911</td>\n",
       "      <td>1.000000</td>\n",
       "      <td>1.0000</td>\n",
       "      <td>3.000000</td>\n",
       "      <td>3.000000</td>\n",
       "      <td>4.00</td>\n",
       "    </tr>\n",
       "    <tr>\n",
       "      <th>Accident_Year</th>\n",
       "      <td>398994.0</td>\n",
       "      <td>2020.837614</td>\n",
       "      <td>1.810820</td>\n",
       "      <td>1961.000000</td>\n",
       "      <td>2020.0000</td>\n",
       "      <td>2021.000000</td>\n",
       "      <td>2022.000000</td>\n",
       "      <td>2023.00</td>\n",
       "    </tr>\n",
       "    <tr>\n",
       "      <th>Accident Day</th>\n",
       "      <td>398994.0</td>\n",
       "      <td>2.515579</td>\n",
       "      <td>1.822475</td>\n",
       "      <td>0.000000</td>\n",
       "      <td>1.0000</td>\n",
       "      <td>2.000000</td>\n",
       "      <td>4.000000</td>\n",
       "      <td>6.00</td>\n",
       "    </tr>\n",
       "    <tr>\n",
       "      <th>Accident on Weekend</th>\n",
       "      <td>398994.0</td>\n",
       "      <td>0.157471</td>\n",
       "      <td>0.364245</td>\n",
       "      <td>0.000000</td>\n",
       "      <td>0.0000</td>\n",
       "      <td>0.000000</td>\n",
       "      <td>0.000000</td>\n",
       "      <td>1.00</td>\n",
       "    </tr>\n",
       "    <tr>\n",
       "      <th>Salary_Per_Dependent</th>\n",
       "      <td>398994.0</td>\n",
       "      <td>458.948011</td>\n",
       "      <td>2044.767411</td>\n",
       "      <td>3.324286</td>\n",
       "      <td>193.3570</td>\n",
       "      <td>303.568600</td>\n",
       "      <td>556.387443</td>\n",
       "      <td>707019.75</td>\n",
       "    </tr>\n",
       "  </tbody>\n",
       "</table>\n",
       "</div>"
      ],
      "text/plain": [
       "                               count         mean          std          min  \\\n",
       "Age at Injury               398994.0    42.908502    12.927821    16.000000   \n",
       "Attorney/Representative     398994.0     0.315416     0.464682     0.000000   \n",
       "Average Weekly Wage         398994.0  1244.287122  7036.370387    17.410000   \n",
       "Birth Year                  398994.0  1977.938823    13.038683  1918.101209   \n",
       "COVID-19 Indicator          398994.0     0.048367     0.214540     0.000000   \n",
       "IME-4 Count                 398994.0     0.747054     1.928570     0.000000   \n",
       "Industry Code               398994.0    14.794842     6.791442    -1.000000   \n",
       "WCIO Cause of Injury Code   398994.0    53.315619    26.733636     0.000000   \n",
       "WCIO Nature of Injury Code  398994.0    40.191752    22.733837     0.000000   \n",
       "WCIO Part Of Body Code      398994.0    46.939114    23.969010     0.000000   \n",
       "Number of Dependents        398994.0     3.006654     2.000803     0.000000   \n",
       "Days_To_First_Hearing       398994.0    88.126303   265.409473  -433.000000   \n",
       "Accident_Quarter            398994.0     2.494311     1.124911     1.000000   \n",
       "Accident_Year               398994.0  2020.837614     1.810820  1961.000000   \n",
       "Accident Day                398994.0     2.515579     1.822475     0.000000   \n",
       "Accident on Weekend         398994.0     0.157471     0.364245     0.000000   \n",
       "Salary_Per_Dependent        398994.0   458.948011  2044.767411     3.324286   \n",
       "\n",
       "                                  25%          50%          75%         max  \n",
       "Age at Injury                 32.0000    43.000000    53.000000       80.00  \n",
       "Attorney/Representative        0.0000     0.000000     1.000000        1.00  \n",
       "Average Weekly Wage          869.8025  1198.087381  1489.970000  2828079.00  \n",
       "Birth Year                  1968.0000  1978.101209  1988.000000     2006.00  \n",
       "COVID-19 Indicator             0.0000     0.000000     0.000000        1.00  \n",
       "IME-4 Count                    0.0000     0.000000     0.000000       73.00  \n",
       "Industry Code                  9.0000    18.000000    19.000000       23.00  \n",
       "WCIO Cause of Injury Code     29.0000    56.000000    75.000000       99.00  \n",
       "WCIO Nature of Injury Code    13.0000    49.000000    52.000000       91.00  \n",
       "WCIO Part Of Body Code        35.0000    42.000000    55.000000      101.00  \n",
       "Number of Dependents           1.0000     3.000000     5.000000        6.00  \n",
       "Days_To_First_Hearing          0.0000     0.000000    74.000000    16373.00  \n",
       "Accident_Quarter               1.0000     3.000000     3.000000        4.00  \n",
       "Accident_Year               2020.0000  2021.000000  2022.000000     2023.00  \n",
       "Accident Day                   1.0000     2.000000     4.000000        6.00  \n",
       "Accident on Weekend            0.0000     0.000000     0.000000        1.00  \n",
       "Salary_Per_Dependent         193.3570   303.568600   556.387443   707019.75  "
      ]
     },
     "metadata": {},
     "output_type": "display_data"
    }
   ],
   "source": [
    "X_train.describe().T"
   ]
  },
  {
   "cell_type": "markdown",
   "metadata": {},
   "source": [
    "These features provide comprehensive information across demographics, injury details, socioeconomics, and temporal aspects, making them well-suited to predicting claim outcomes."
   ]
  },
  {
   "cell_type": "code",
   "execution_count": null,
   "metadata": {},
   "outputs": [
    {
     "data": {
      "text/plain": [
       "Index(['Age at Injury', 'Attorney/Representative', 'Average Weekly Wage',\n",
       "       'Birth Year', 'Carrier Name', 'Carrier Type', 'County of Injury',\n",
       "       'COVID-19 Indicator', 'District Name', 'Gender', 'IME-4 Count',\n",
       "       'Industry Code', 'Medical Fee Region', 'WCIO Cause of Injury Code',\n",
       "       'WCIO Nature of Injury Code', 'WCIO Part Of Body Code', 'Zip Code',\n",
       "       'Number of Dependents', 'Carrier_District_Interaction',\n",
       "       'Income_Category', 'Days_To_First_Hearing', 'Accident_Quarter',\n",
       "       'Accident_Year', 'Accident Day', 'Accident on Weekend', 'Age Group',\n",
       "       'promptness_category', 'promptness_C2_category', 'Zip_Code_Simplified',\n",
       "       'Carrier Type Merged', 'Carrier_Name_Simplified', 'Body_Part_Category',\n",
       "       'Injury_Nature_Category', 'Injury_Cause_Category', 'Industry Risk',\n",
       "       'Salary_Per_Dependent'],\n",
       "      dtype='object')"
      ]
     },
     "metadata": {},
     "output_type": "display_data"
    }
   ],
   "source": [
    "X_train.columns"
   ]
  },
  {
   "cell_type": "markdown",
   "metadata": {},
   "source": [
    "#### Analysis of `Age Group`"
   ]
  },
  {
   "cell_type": "code",
   "execution_count": null,
   "metadata": {},
   "outputs": [
    {
     "data": {
      "text/plain": [
       "Claim Identifier\n",
       "5479022          Youth\n",
       "6023025    Young Adult\n",
       "5851908    Young Adult\n",
       "5913931     Middle Age\n",
       "5845976     Middle Age\n",
       "              ...     \n",
       "5655355         Senior\n",
       "5940234    Young Adult\n",
       "6073417     Middle Age\n",
       "5822576    Young Adult\n",
       "5566085    Young Adult\n",
       "Name: Age Group, Length: 398994, dtype: object"
      ]
     },
     "metadata": {},
     "output_type": "display_data"
    }
   ],
   "source": [
    "X_train['Age Group']"
   ]
  },
  {
   "cell_type": "markdown",
   "metadata": {},
   "source": [
    "This feature allows the model to understand age-related variations in claims, which could influence the type and nature of injuries.\n",
    "\n",
    "This structured feature selection summary provides insights into the main features, both categorical and numerical, used in the model. The focus on grouping, simplification, and categorization ensures the model captures the relevant patterns without unnecessary complexity."
   ]
  },
  {
   "cell_type": "markdown",
   "metadata": {},
   "source": [
    "### Feature Categories\n",
    "The features have been organized into three main categories: **Categorical Features**, **Binary Features**, and **Discrete Features**. Each category represents a different data type or structure, allowing for tailored preprocessing steps and analysis."
   ]
  },
  {
   "cell_type": "code",
   "execution_count": null,
   "metadata": {},
   "outputs": [
    {
     "data": {
      "text/plain": [
       "Index(['Age at Injury', 'Attorney/Representative', 'Average Weekly Wage',\n",
       "       'Birth Year', 'Carrier Name', 'Carrier Type', 'County of Injury',\n",
       "       'COVID-19 Indicator', 'District Name', 'Gender', 'IME-4 Count',\n",
       "       'Industry Code', 'Medical Fee Region', 'WCIO Cause of Injury Code',\n",
       "       'WCIO Nature of Injury Code', 'WCIO Part Of Body Code', 'Zip Code',\n",
       "       'Number of Dependents', 'Carrier_District_Interaction',\n",
       "       'Income_Category', 'Days_To_First_Hearing', 'Accident_Quarter',\n",
       "       'Accident_Year', 'Accident Day', 'Accident on Weekend', 'Age Group',\n",
       "       'promptness_category', 'promptness_C2_category', 'Zip_Code_Simplified',\n",
       "       'Carrier Type Merged', 'Carrier_Name_Simplified', 'Body_Part_Category',\n",
       "       'Injury_Nature_Category', 'Injury_Cause_Category', 'Industry Risk',\n",
       "       'Salary_Per_Dependent'],\n",
       "      dtype='object')"
      ]
     },
     "metadata": {},
     "output_type": "display_data"
    }
   ],
   "source": [
    "X_train.columns"
   ]
  },
  {
   "cell_type": "code",
   "execution_count": null,
   "metadata": {},
   "outputs": [
    {
     "name": "stdout",
     "output_type": "stream",
     "text": [
      "Categorical Features: ['Carrier Name', 'Carrier Type', 'County of Injury', 'District Name', 'Gender', 'IME-4 Count', 'Industry Code', 'Medical Fee Region', 'WCIO Cause of Injury Code', 'WCIO Nature of Injury Code', 'WCIO Part Of Body Code', 'Zip Code', 'Carrier_District_Interaction', 'Income_Category', 'Age Group', 'promptness_category', 'promptness_C2_category', 'promptness_C3_category', 'Zip_Code_Simplified', 'Carrier Type Merged', 'Carrier_Name_Simplified', 'Body_Part_Category', 'Injury_Nature_Category', 'Injury_Cause_Category', 'Industry Risk']\n",
      "Binary Features: ['Attorney/Representative', 'COVID-19 Indicator', 'Accident on Weekend']\n",
      "Discrete Features: ['Number of Dependents', 'IME-4 Count', 'Accident_Quarter', 'Accident_Year', 'Accident Day']\n",
      "Continuous Features: ['Days_To_First_Hearing', 'Average Weekly Wage', 'Age at Injury', 'Salary_Per_Dependent']\n"
     ]
    }
   ],
   "source": [
    "# Updating the feature categories with the new columns created\n",
    "categorical_columns = ['Carrier Name', 'Carrier Type', 'County of Injury',\n",
    "       'District Name', 'Gender', 'IME-4 Count',\n",
    "       'Industry Code', 'Medical Fee Region', 'WCIO Cause of Injury Code',\n",
    "       'WCIO Nature of Injury Code', 'WCIO Part Of Body Code', 'Zip Code',\n",
    "    'Carrier_District_Interaction',\n",
    "       'Income_Category', 'Age Group',\n",
    "       'promptness_category', 'promptness_C2_category','promptness_C3_category', 'Zip_Code_Simplified',\n",
    "       'Carrier Type Merged', 'Carrier_Name_Simplified', 'Body_Part_Category',\n",
    "       'Injury_Nature_Category', 'Injury_Cause_Category', 'Industry Risk',\n",
    "]\n",
    "\n",
    "binary_columns = [\n",
    "    'Attorney/Representative', 'COVID-19 Indicator',\n",
    "     'Accident on Weekend'\n",
    "]\n",
    "\n",
    "discrete_columns = [ 'Number of Dependents', 'IME-4 Count',\n",
    "    'Accident_Quarter', 'Accident_Year', 'Accident Day'\n",
    "]\n",
    "\n",
    "continuous_columns = ['Days_To_First_Hearing','Average Weekly Wage','Age at Injury',\n",
    "                      'Salary_Per_Dependent'\n",
    "                      ]\n",
    "\n",
    "# Printing the feature categories\n",
    "print(\"Categorical Features:\", categorical_columns)\n",
    "print(\"Binary Features:\", binary_columns)\n",
    "print(\"Discrete Features:\", discrete_columns)\n",
    "print(\"Continuous Features:\", continuous_columns)"
   ]
  },
  {
   "cell_type": "markdown",
   "metadata": {},
   "source": [
    "## 4.1. Preparing Data</b> <a class=\"anchor\" id=\"section_4_1\"></a>\n",
    "### Converting Discrete Columns to Integer\n",
    "In this step, we ensure all discrete columns are converted to integer data types across the training, validation, and test datasets. This is crucial for consistent data handling and processing in subsequent steps."
   ]
  },
  {
   "cell_type": "code",
   "execution_count": null,
   "metadata": {},
   "outputs": [],
   "source": [
    "# Convert discrete columns to integer\n",
    "for column in discrete_columns:\n",
    "    X_train[column] = X_train[column].astype(int)\n",
    "    X_val[column] = X_val[column].astype(int)\n",
    "    df_test[column] = df_test[column].astype(int)"
   ]
  },
  {
   "cell_type": "markdown",
   "metadata": {},
   "source": [
    "### Scaling Features\n",
    "We apply the RobustScaler to the discrete columns. RobustScaler is beneficial for data containing outliers, as it scales data based on the median and interquartile range. This helps normalize the distribution without being heavily affected by outliers. We also use the same scaler to transform validation and test data."
   ]
  },
  {
   "cell_type": "code",
   "execution_count": null,
   "metadata": {},
   "outputs": [
    {
     "data": {
      "text/html": [
       "<div>\n",
       "<style scoped>\n",
       "    .dataframe tbody tr th:only-of-type {\n",
       "        vertical-align: middle;\n",
       "    }\n",
       "\n",
       "    .dataframe tbody tr th {\n",
       "        vertical-align: top;\n",
       "    }\n",
       "\n",
       "    .dataframe thead th {\n",
       "        text-align: right;\n",
       "    }\n",
       "</style>\n",
       "<table border=\"1\" class=\"dataframe\">\n",
       "  <thead>\n",
       "    <tr style=\"text-align: right;\">\n",
       "      <th></th>\n",
       "      <th>Number of Dependents</th>\n",
       "      <th>IME-4 Count</th>\n",
       "      <th>Accident_Quarter</th>\n",
       "      <th>Accident_Year</th>\n",
       "      <th>Accident Day</th>\n",
       "      <th>Days_To_First_Hearing</th>\n",
       "      <th>Average Weekly Wage</th>\n",
       "      <th>Age at Injury</th>\n",
       "      <th>Salary_Per_Dependent</th>\n",
       "    </tr>\n",
       "    <tr>\n",
       "      <th>Claim Identifier</th>\n",
       "      <th></th>\n",
       "      <th></th>\n",
       "      <th></th>\n",
       "      <th></th>\n",
       "      <th></th>\n",
       "      <th></th>\n",
       "      <th></th>\n",
       "      <th></th>\n",
       "      <th></th>\n",
       "    </tr>\n",
       "  </thead>\n",
       "  <tbody>\n",
       "    <tr>\n",
       "      <th>5479022</th>\n",
       "      <td>0.500000</td>\n",
       "      <td>0.000000</td>\n",
       "      <td>0.333333</td>\n",
       "      <td>0.951613</td>\n",
       "      <td>0.166667</td>\n",
       "      <td>0.025765</td>\n",
       "      <td>0.000282</td>\n",
       "      <td>0.125000</td>\n",
       "      <td>0.000284</td>\n",
       "    </tr>\n",
       "    <tr>\n",
       "      <th>6023025</th>\n",
       "      <td>0.333333</td>\n",
       "      <td>0.054795</td>\n",
       "      <td>0.333333</td>\n",
       "      <td>0.983871</td>\n",
       "      <td>0.166667</td>\n",
       "      <td>0.032369</td>\n",
       "      <td>0.000382</td>\n",
       "      <td>0.312500</td>\n",
       "      <td>0.000512</td>\n",
       "    </tr>\n",
       "    <tr>\n",
       "      <th>5851908</th>\n",
       "      <td>0.500000</td>\n",
       "      <td>0.027397</td>\n",
       "      <td>0.333333</td>\n",
       "      <td>0.967742</td>\n",
       "      <td>0.333333</td>\n",
       "      <td>0.065869</td>\n",
       "      <td>0.000214</td>\n",
       "      <td>0.390625</td>\n",
       "      <td>0.000216</td>\n",
       "    </tr>\n",
       "    <tr>\n",
       "      <th>5913931</th>\n",
       "      <td>0.166667</td>\n",
       "      <td>0.027397</td>\n",
       "      <td>0.000000</td>\n",
       "      <td>0.983871</td>\n",
       "      <td>0.500000</td>\n",
       "      <td>0.042663</td>\n",
       "      <td>0.000362</td>\n",
       "      <td>0.671875</td>\n",
       "      <td>0.000732</td>\n",
       "    </tr>\n",
       "  </tbody>\n",
       "</table>\n",
       "</div>"
      ],
      "text/plain": [
       "                  Number of Dependents  IME-4 Count  Accident_Quarter  \\\n",
       "Claim Identifier                                                        \n",
       "5479022                       0.500000     0.000000          0.333333   \n",
       "6023025                       0.333333     0.054795          0.333333   \n",
       "5851908                       0.500000     0.027397          0.333333   \n",
       "5913931                       0.166667     0.027397          0.000000   \n",
       "\n",
       "                  Accident_Year  Accident Day  Days_To_First_Hearing  \\\n",
       "Claim Identifier                                                       \n",
       "5479022                0.951613      0.166667               0.025765   \n",
       "6023025                0.983871      0.166667               0.032369   \n",
       "5851908                0.967742      0.333333               0.065869   \n",
       "5913931                0.983871      0.500000               0.042663   \n",
       "\n",
       "                  Average Weekly Wage  Age at Injury  Salary_Per_Dependent  \n",
       "Claim Identifier                                                            \n",
       "5479022                      0.000282       0.125000              0.000284  \n",
       "6023025                      0.000382       0.312500              0.000512  \n",
       "5851908                      0.000214       0.390625              0.000216  \n",
       "5913931                      0.000362       0.671875              0.000732  "
      ]
     },
     "metadata": {},
     "output_type": "display_data"
    }
   ],
   "source": [
    "#scaling features\n",
    "from sklearn.preprocessing import MinMaxScaler\n",
    "feat_scaler = MinMaxScaler()\n",
    "X_train[discrete_columns + continuous_columns] = feat_scaler.fit_transform(X_train[discrete_columns + continuous_columns])\n",
    "\n",
    "X_train_num_scaled = X_train[discrete_columns + continuous_columns]\n",
    "\n",
    "#apply same transformation for val data\n",
    "X_val[discrete_columns + continuous_columns] = feat_scaler.transform(X_val[discrete_columns + continuous_columns])\n",
    "\n",
    "X_val_num_scaled = X_val[discrete_columns + continuous_columns]\n",
    "\n",
    "#apply same transformation for test data\n",
    "df_test[discrete_columns + continuous_columns] = feat_scaler.transform(df_test[discrete_columns + continuous_columns])\n",
    "df_test_num_scaled = df_test[discrete_columns + continuous_columns]\n",
    "\n",
    "#X_val, X_train\n",
    "X_train_num_scaled.head(4)"
   ]
  },
  {
   "cell_type": "markdown",
   "metadata": {},
   "source": [
    "### Variance Check After Scaling\n",
    "After scaling, we check the variance of each scaled feature to confirm that the features have been scaled properly. Lower variance after scaling indicates that data is normalized and less affected by magnitude differences."
   ]
  },
  {
   "cell_type": "code",
   "execution_count": null,
   "metadata": {},
   "outputs": [
    {
     "data": {
      "text/plain": [
       "Number of Dependents     0.111200\n",
       "IME-4 Count              0.000698\n",
       "Accident_Quarter         0.140603\n",
       "Accident_Year            0.000853\n",
       "Accident Day             0.092262\n",
       "Days_To_First_Hearing    0.000249\n",
       "Average Weekly Wage      0.000006\n",
       "Age at Injury            0.040803\n",
       "Salary_Per_Dependent     0.000008\n",
       "dtype: float64"
      ]
     },
     "metadata": {},
     "output_type": "display_data"
    }
   ],
   "source": [
    "# Check variance of scaled data\n",
    "X_train_num_scaled.var()"
   ]
  },
  {
   "cell_type": "markdown",
   "metadata": {},
   "source": [
    "The output shows the variance of each discrete column in the scaled training set. These values help validate that the scaling process has achieved a consistent data distribution across features."
   ]
  },
  {
   "cell_type": "markdown",
   "metadata": {},
   "source": [
    " ## 4.2. Numerical Features</b> <a class=\"anchor\" id=\"section_4_2\"></a>"
   ]
  },
  {
   "cell_type": "markdown",
   "metadata": {},
   "source": [
    " > ### 4.2.1. Spearman and Pearson correlation matrix <a class=\"anchor\" id=\"sub_section_4_2_1\"></a>\n",
    "\n",
    "To better understand the relationships between numerical features, we generate Spearman and Pearson correlation matrices. Correlation matrices help identify linear and monotonic relationships between variables, which can be useful in feature selection and engineering."
   ]
  },
  {
   "cell_type": "markdown",
   "metadata": {},
   "source": [
    "##### Correlation Heatmap Function\n",
    "The `cor_heatmap` function displays a heatmap of a given correlation matrix. We set various visual parameters to enhance readability:\n",
    "- **figsize**: Sets the figure size.\n",
    "- **cmap**: Chooses the color palette ('viridis').\n",
    "- **mask**: Hides the upper triangle of the matrix for clarity."
   ]
  },
  {
   "cell_type": "code",
   "execution_count": null,
   "metadata": {},
   "outputs": [],
   "source": [
    "from utils import cor_heatmap"
   ]
  },
  {
   "cell_type": "markdown",
   "metadata": {},
   "source": [
    "#### Spearman Correlation Calculation and Plotting\n",
    "Here, we calculate the Spearman correlation on the scaled numerical features and then plot the resulting matrix."
   ]
  },
  {
   "cell_type": "code",
   "execution_count": null,
   "metadata": {},
   "outputs": [
    {
     "data": {
      "image/png": "[encoded data removed]",
      "text/plain": [
       "<Figure size 1800x1200 with 2 Axes>"
      ]
     },
     "metadata": {},
     "output_type": "display_data"
    }
   ],
   "source": [
    "corr_data_numerical = X_train_num_scaled \n",
    "cor_spearman = corr_data_numerical.corr(method='spearman')\n",
    "\n",
    "cor_heatmap(cor_spearman, 'Spearman')"
   ]
  },
  {
   "cell_type": "code",
   "execution_count": null,
   "metadata": {},
   "outputs": [
    {
     "data": {
      "image/png": "[encoded data removed]",
      "text/plain": [
       "<Figure size 1800x1200 with 2 Axes>"
      ]
     },
     "metadata": {},
     "output_type": "display_data"
    }
   ],
   "source": [
    "cor_pearson = corr_data_numerical.corr(method='pearson')\n",
    "\n",
    "cor_heatmap(cor_pearson, 'Pearson')"
   ]
  },
  {
   "cell_type": "markdown",
   "metadata": {},
   "source": [
    "> ### 4.2.2. LASSO Regression <a class=\"anchor\" id=\"sub_section_4_2_2\"></a>\n",
    "\n",
    " The LASSO (Least Absolute Shrinkage and Selection Operator) regression is used here for feature selection by fitting a model to the standardized dataset and analyzing the coefficients."
   ]
  },
  {
   "cell_type": "code",
   "execution_count": null,
   "metadata": {},
   "outputs": [
    {
     "data": {
      "text/plain": [
       "Accident_Quarter        -0.013479\n",
       "Accident Day            -0.002988\n",
       "Number of Dependents    -0.000233\n",
       "Average Weekly Wage      0.000000\n",
       "Age at Injury            0.099168\n",
       "Accident_Year            0.373430\n",
       "IME-4 Count              0.655242\n",
       "Salary_Per_Dependent     0.805621\n",
       "Days_To_First_Hearing    4.547687\n",
       "dtype: float64"
      ]
     },
     "metadata": {},
     "output_type": "display_data"
    }
   ],
   "source": [
    "# Fit regression\n",
    "reg = LassoCV().fit(X_train_num_scaled, y_train_encoded)\n",
    "#get coefficients\n",
    "coef = pd.Series(reg.coef_, index = X_train_num_scaled.columns)\n",
    "# Sort coefficients to observe importance\n",
    "coef.sort_values()"
   ]
  },
  {
   "cell_type": "markdown",
   "metadata": {},
   "source": [
    "**Observations:**\n",
    "\n",
    "The LASSO model assigns non-zero coefficients only to the features it considers important.\n",
    "\n",
    "IME-4 Count has the highest positive coefficient, indicating a strong positive relationship with the target variable, as well as Days_To_First_Hearing\n",
    "\n",
    "\n",
    "Accident Day and Accident Quarter have smaller negative coefficients, implying a weaker inverse relationship with the target.\n",
    "\n",
    "Average Weekly Wage and Number of Dependents has close to zero impact, suggesting it may not be a significant predictor in the model."
   ]
  },
  {
   "cell_type": "code",
   "execution_count": null,
   "metadata": {},
   "outputs": [],
   "source": [
    "from utils import plot_importance, cor_heatmap"
   ]
  },
  {
   "cell_type": "markdown",
   "metadata": {},
   "source": [
    "This function generates a horizontal bar plot of the feature importance values derived from the LASSO model, helping to visualize which features are prioritized by the model."
   ]
  },
  {
   "cell_type": "code",
   "execution_count": null,
   "metadata": {},
   "outputs": [
    {
     "data": {
      "image/png": "[encoded data removed]",
      "text/plain": [
       "<Figure size 300x500 with 1 Axes>"
      ]
     },
     "metadata": {},
     "output_type": "display_data"
    }
   ],
   "source": [
    "plot_importance(coef,'Lasso')"
   ]
  },
  {
   "cell_type": "markdown",
   "metadata": {},
   "source": [
    "> ### 4.2.3. Recursive Feature Elimination - RFE <a class=\"anchor\" id=\"sub_section_4_2_3\"></a>\n",
    "\n",
    " RFE is employed here to further validate the important features as identified by LASSO. By sequentially removing the least important features, RFE helps to refine the feature set."
   ]
  },
  {
   "cell_type": "markdown",
   "metadata": {},
   "source": [
    "Observations:\n",
    "The selected features after RFE likely overlap with those identified by LASSO, suggesting consistency in feature importance.\n",
    "Using both LASSO and RFE provides a more robust feature selection by cross-validating the importance of individual features."
   ]
  },
  {
   "cell_type": "markdown",
   "metadata": {},
   "source": [
    "This block of code performs RFE to identify the best subset of features by iterating over a range of feature numbers. The code aims to maximize model performance on the validation set."
   ]
  },
  {
   "cell_type": "code",
   "execution_count": null,
   "metadata": {},
   "outputs": [
    {
     "name": "stdout",
     "output_type": "stream",
     "text": [
      "Optimum number of features: 2\n",
      "F1 Macro Score with 2 features: 0.483851\n",
      "Optimal number of features: 2\n",
      "Best F1 Macro score: 0.4838505943263986\n",
      "F1 Macro scores for each feature count: [0.48378754165429627, 0.4838505943263986, 0.480181130066159, 0.48016381453591717, 0.4803235871366873, 0.48171288936050244, 0.4816362753235078, 0.4816593989269552, 0.4815982991182837]\n"
     ]
    }
   ],
   "source": [
    "# RFE using Logistic Regression\n",
    "model = LogisticRegression()\n",
    "\n",
    "\n",
    "#Use the function defined in utils.py\n",
    "best_features, best_score, scores = find_optimal_features_with_rfe(\n",
    "    model, \n",
    "    X_train_num_scaled, \n",
    "    y_train_encoded, \n",
    "    X_val_num_scaled, \n",
    "    y_val_encoded,\n",
    "    max_features=9\n",
    ")\n"
   ]
  },
  {
   "cell_type": "markdown",
   "metadata": {},
   "source": [
    "**Observations:**\n",
    "\n",
    "The loop evaluates models with 1 to 9 features, tracking the score for each.\n",
    "\n",
    "The output indicates that 2 features yielded the highest validation f1_score score of 0.483851."
   ]
  },
  {
   "cell_type": "markdown",
   "metadata": {},
   "source": [
    "#### Applying RFE with the Optimal Number of Features\n",
    "Once the optimal number of features is identified, the RFE model is finalized with this configuration."
   ]
  },
  {
   "cell_type": "code",
   "execution_count": null,
   "metadata": {},
   "outputs": [],
   "source": [
    "#rfscv- to select 1st the number of features we should select\n",
    "model = LogisticRegression()\n",
    "rfe = RFE(estimator = model, n_features_to_select = 2)"
   ]
  },
  {
   "cell_type": "code",
   "execution_count": null,
   "metadata": {},
   "outputs": [],
   "source": [
    "X_rfe= rfe.fit_transform(X=X_train_num_scaled, y=y_train_encoded)"
   ]
  },
  {
   "cell_type": "markdown",
   "metadata": {},
   "source": [
    "This shows the results of the feature selection process, listing the features selected by RFE. The code snippet confirms which features were selected as relevant by the RFE model and displays them in a boolean Series, where True indicates the feature was selected and False means it was not."
   ]
  },
  {
   "cell_type": "code",
   "execution_count": null,
   "metadata": {},
   "outputs": [
    {
     "data": {
      "text/plain": [
       "Number of Dependents     False\n",
       "IME-4 Count              False\n",
       "Accident_Quarter         False\n",
       "Accident_Year            False\n",
       "Accident Day             False\n",
       "Days_To_First_Hearing     True\n",
       "Average Weekly Wage      False\n",
       "Age at Injury            False\n",
       "Salary_Per_Dependent      True\n",
       "dtype: bool"
      ]
     },
     "metadata": {},
     "output_type": "display_data"
    }
   ],
   "source": [
    "selected_features = pd.Series(rfe.support_, index = X_train_num_scaled.columns)\n",
    "selected_features"
   ]
  },
  {
   "cell_type": "markdown",
   "metadata": {},
   "source": [
    "> ### 4.2.4. Feature Importance - Decision Tree <a class=\"anchor\" id=\"sub_section_4_2_4\"></a>\n"
   ]
  },
  {
   "cell_type": "code",
   "execution_count": null,
   "metadata": {},
   "outputs": [],
   "source": [
    "from utils import compare_feature_importances\n"
   ]
  },
  {
   "cell_type": "code",
   "execution_count": null,
   "metadata": {},
   "outputs": [
    {
     "data": {
      "image/png": "[encoded data removed]",
      "text/plain": [
       "<Figure size 1300x500 with 1 Axes>"
      ]
     },
     "metadata": {},
     "output_type": "display_data"
    },
    {
     "name": "stdout",
     "output_type": "stream",
     "text": [
      "       gini   entropy                   col\n",
      "0  0.043051  0.046412  Number of Dependents\n",
      "1  0.093647  0.078562           IME-4 Count\n",
      "2  0.074732  0.076931      Accident_Quarter\n",
      "3  0.044536  0.045622         Accident_Year\n",
      "4  0.114560  0.122835          Accident Day\n"
     ]
    }
   ],
   "source": [
    "# Call the function with your training data\n",
    "zippy = compare_feature_importances(X_train_num_scaled, y_train_encoded)\n",
    "\n",
    "# Access the DataFrame for further analysis if needed\n",
    "print(zippy.head())"
   ]
  },
  {
   "cell_type": "markdown",
   "metadata": {},
   "source": [
    "> ### 4.2.5. Feature Importance - Random Forest <a class=\"anchor\" id=\"sub_section_4_2_5\"></a>"
   ]
  },
  {
   "cell_type": "code",
   "execution_count": null,
   "metadata": {},
   "outputs": [
    {
     "data": {
      "image/png": "[encoded data removed]",
      "text/plain": [
       "<Figure size 1300x500 with 1 Axes>"
      ]
     },
     "metadata": {},
     "output_type": "display_data"
    },
    {
     "name": "stdout",
     "output_type": "stream",
     "text": [
      "       gini   entropy                   col\n",
      "0  0.043457  0.046221  Number of Dependents\n",
      "1  0.081848  0.069238           IME-4 Count\n",
      "2  0.059974  0.062661      Accident_Quarter\n",
      "3  0.043436  0.043287         Accident_Year\n",
      "4  0.103987  0.111115          Accident Day\n"
     ]
    }
   ],
   "source": [
    "# Call the function with your training data\n",
    "importances = compare_rf_feature_importances(X_train_num_scaled, y_train_encoded)\n",
    "\n",
    "# Access the DataFrame for further analysis if needed\n",
    "print(importances.head())"
   ]
  },
  {
   "cell_type": "markdown",
   "metadata": {},
   "source": [
    "## 4.3. Categorical Features</b> <a class=\"anchor\" id=\"section_4_3\"></a>\n",
    "Chi-squared and MIC for the categorical ones."
   ]
  },
  {
   "cell_type": "markdown",
   "metadata": {},
   "source": [
    " > ### $\\chi ^2$ Test for Independence <a class=\"anchor\" id=\"sub_section_4_2_1\"></a>\n",
    "\n",
    " We'll apply the Chi-squared test on categorical features to check for independence. This test is suitable for categorical data and helps identify features that have significant associations with the target variable."
   ]
  },
  {
   "cell_type": "code",
   "execution_count": null,
   "metadata": {},
   "outputs": [
    {
     "data": {
      "text/plain": [
       "['Attorney/Representative', 'COVID-19 Indicator', 'Accident on Weekend']"
      ]
     },
     "metadata": {},
     "output_type": "display_data"
    }
   ],
   "source": [
    "binary_columns"
   ]
  },
  {
   "cell_type": "code",
   "execution_count": null,
   "metadata": {},
   "outputs": [],
   "source": [
    "#To make sure that we keep the preprocessed dataset without the encoded columns\n",
    "X_train_processed_copy = X_train.copy()\n",
    "X_val_processed_copy = X_val.copy()\n",
    "df_test_processed_copy = df_test.copy()"
   ]
  },
  {
   "cell_type": "code",
   "execution_count": null,
   "metadata": {},
   "outputs": [
    {
     "data": {
      "text/plain": [
       "(398994, 38)"
      ]
     },
     "metadata": {},
     "output_type": "display_data"
    }
   ],
   "source": [
    "X_train_processed_copy.shape"
   ]
  },
  {
   "cell_type": "code",
   "execution_count": null,
   "metadata": {},
   "outputs": [
    {
     "data": {
      "text/plain": [
       "(172208, 38)"
      ]
     },
     "metadata": {},
     "output_type": "display_data"
    }
   ],
   "source": [
    "X_val_processed_copy.shape"
   ]
  },
  {
   "cell_type": "code",
   "execution_count": null,
   "metadata": {},
   "outputs": [
    {
     "data": {
      "text/plain": [
       "Index(['Age at Injury', 'Attorney/Representative', 'Average Weekly Wage',\n",
       "       'Birth Year', 'Carrier Name', 'Carrier Type', 'County of Injury',\n",
       "       'COVID-19 Indicator', 'District Name', 'Gender', 'IME-4 Count',\n",
       "       'Industry Code', 'Medical Fee Region', 'WCIO Cause of Injury Code',\n",
       "       'WCIO Nature of Injury Code', 'WCIO Part Of Body Code', 'Zip Code',\n",
       "       'Number of Dependents', 'Category Combination',\n",
       "       'Carrier_District_Interaction', 'Income_Category',\n",
       "       'Days_To_First_Hearing', 'Accident_Quarter', 'Accident_Year',\n",
       "       'Accident Day', 'Accident on Weekend', 'Age Group',\n",
       "       'promptness_category', 'promptness_C2_category',\n",
       "       'promptness_C3_category', 'Zip_Code_Simplified', 'Carrier Type Merged',\n",
       "       'Carrier_Name_Simplified', 'Body_Part_Category',\n",
       "       'Injury_Nature_Category', 'Injury_Cause_Category', 'Industry Risk',\n",
       "       'Salary_Per_Dependent'],\n",
       "      dtype='object')"
      ]
     },
     "metadata": {},
     "output_type": "display_data"
    }
   ],
   "source": [
    "X_val_processed_copy.columns"
   ]
  },
  {
   "cell_type": "markdown",
   "metadata": {},
   "source": [
    "### Approach: Encoding Categorical Features with LabelEncoder, OneHotEncoder and Frequency encoder\n",
    "As our second approach we decided to perform different type of encoding according with each categorical variable. For ordinal features (those with an inherent order like age groups), Label Encoding is applied to assign each category a unique numerical value. For nominal features with low cardinality (few unique values), One-Hot Encoding is used to create binary columns representing each category. For high-cardinality features (many unique values like zip codes), Frequency Encoding is applied to convert categories to their frequency of occurrence, reducing dimensionality without introducing too many columns.\n",
    "\n",
    "These encoding methods are used to properly represent categorical features in a numerical format while considering their characteristics (order or cardinality), which helps models interpret them effectively."
   ]
  },
  {
   "cell_type": "code",
   "execution_count": null,
   "metadata": {},
   "outputs": [
    {
     "data": {
      "text/plain": [
       "NYC           188402\n",
       "ALBANY         59860\n",
       "HAUPPAUGE      42053\n",
       "BUFFALO        31613\n",
       "SYRACUSE       31149\n",
       "ROCHESTER      28041\n",
       "BINGHAMTON     15171\n",
       "STATEWIDE       2704\n",
       "Name: District Name, dtype: int64"
      ]
     },
     "metadata": {},
     "output_type": "display_data"
    }
   ],
   "source": [
    "X_train_processed_copy['District Name'].value_counts()"
   ]
  },
  {
   "cell_type": "code",
   "execution_count": null,
   "metadata": {},
   "outputs": [
    {
     "name": "stdout",
     "output_type": "stream",
     "text": [
      "promptness_category               1817\n",
      "promptness_C2_category            1175\n",
      "promptness_C3_category            1127\n",
      "Age Group                            0\n",
      "Income_Category                      0\n",
      "Industry Risk                        0\n",
      "Gender                               0\n",
      "Medical Fee Region                   0\n",
      "Body_Part_Category              172208\n",
      "Injury_Nature_Category            4701\n",
      "Injury_Cause_Category             4695\n",
      "Carrier_Name_Simplified              0\n",
      "Zip_Code_Simplified                  0\n",
      "Industry Code                        0\n",
      "County of Injury                     0\n",
      "Carrier Type Merged                  0\n",
      "WCIO Cause of Injury Code            0\n",
      "WCIO Nature of Injury Code           0\n",
      "WCIO Part Of Body Code               0\n",
      "Carrier_District_Interaction         0\n",
      "District Name                        0\n",
      "dtype: int64\n"
     ]
    }
   ],
   "source": [
    "\n",
    "\n",
    "# Example columns to encode\n",
    "ordinal_features = ['promptness_category', 'promptness_C2_category','promptness_C3_category', 'Age Group', 'Income_Category', 'Industry Risk']\n",
    "low_cardinality_cols = ['Gender', 'Medical Fee Region','Body_Part_Category',\n",
    "       'Injury_Nature_Category', 'Injury_Cause_Category']\n",
    "high_cardinality_cols = ['Carrier_Name_Simplified', 'Zip_Code_Simplified', 'Industry Code', 'County of Injury', 'Carrier Type Merged',\n",
    "                         'WCIO Cause of Injury Code', 'WCIO Nature of Injury Code', 'WCIO Part Of Body Code','Carrier_District_Interaction', 'District Name']\n",
    "\n",
    "\n",
    "# Check for NaN or nulls\n",
    "print(X_val_processed_copy[ordinal_features + low_cardinality_cols + high_cardinality_cols].isnull().sum())"
   ]
  },
  {
   "cell_type": "code",
   "execution_count": null,
   "metadata": {},
   "outputs": [
    {
     "name": "stdout",
     "output_type": "stream",
     "text": [
      "Age at Injury                   0\n",
      "Attorney/Representative         0\n",
      "Average Weekly Wage             0\n",
      "Birth Year                      0\n",
      "Carrier Name                    0\n",
      "Carrier Type                    0\n",
      "County of Injury                0\n",
      "COVID-19 Indicator              0\n",
      "District Name                   0\n",
      "Gender                          0\n",
      "IME-4 Count                     0\n",
      "Industry Code                   0\n",
      "Medical Fee Region              0\n",
      "WCIO Cause of Injury Code       0\n",
      "WCIO Nature of Injury Code      0\n",
      "WCIO Part Of Body Code          0\n",
      "Zip Code                        1\n",
      "Number of Dependents            0\n",
      "Category Combination            0\n",
      "Carrier_District_Interaction    0\n",
      "Income_Category                 0\n",
      "Days_To_First_Hearing           0\n",
      "Accident_Quarter                0\n",
      "Accident_Year                   0\n",
      "Accident Day                    0\n",
      "Accident on Weekend             0\n",
      "Age Group                       0\n",
      "promptness_category             0\n",
      "promptness_C2_category          0\n",
      "promptness_C3_category          0\n",
      "Zip_Code_Simplified             0\n",
      "Carrier Type Merged             0\n",
      "Carrier_Name_Simplified         0\n",
      "Body_Part_Category              0\n",
      "Injury_Nature_Category          0\n",
      "Injury_Cause_Category           0\n",
      "Industry Risk                   0\n",
      "Salary_Per_Dependent            0\n",
      "dtype: int64\n",
      "Age at Injury                   0\n",
      "Attorney/Representative         0\n",
      "Average Weekly Wage             0\n",
      "Birth Year                      0\n",
      "Carrier Name                    0\n",
      "Carrier Type                    0\n",
      "County of Injury                0\n",
      "COVID-19 Indicator              0\n",
      "District Name                   0\n",
      "Gender                          0\n",
      "IME-4 Count                     0\n",
      "Industry Code                   0\n",
      "Medical Fee Region              0\n",
      "WCIO Cause of Injury Code       0\n",
      "WCIO Nature of Injury Code      0\n",
      "WCIO Part Of Body Code          0\n",
      "Zip Code                        0\n",
      "Number of Dependents            0\n",
      "Category Combination            0\n",
      "Carrier_District_Interaction    0\n",
      "Income_Category                 0\n",
      "Days_To_First_Hearing           0\n",
      "Accident_Quarter                0\n",
      "Accident_Year                   0\n",
      "Accident Day                    0\n",
      "Accident on Weekend             0\n",
      "Age Group                       0\n",
      "promptness_category             0\n",
      "promptness_C2_category          0\n",
      "promptness_C3_category          0\n",
      "Zip_Code_Simplified             0\n",
      "Carrier Type Merged             0\n",
      "Carrier_Name_Simplified         0\n",
      "Body_Part_Category              0\n",
      "Injury_Nature_Category          0\n",
      "Injury_Cause_Category           0\n",
      "Industry Risk                   0\n",
      "Salary_Per_Dependent            0\n",
      "dtype: int64\n",
      "Age at Injury                   0\n",
      "Attorney/Representative         0\n",
      "Average Weekly Wage             0\n",
      "Birth Year                      0\n",
      "Carrier Name                    0\n",
      "Carrier Type                    0\n",
      "County of Injury                0\n",
      "COVID-19 Indicator              0\n",
      "District Name                   0\n",
      "Gender                          0\n",
      "IME-4 Count                     0\n",
      "Industry Code                   0\n",
      "Medical Fee Region              0\n",
      "WCIO Cause of Injury Code       0\n",
      "WCIO Nature of Injury Code      0\n",
      "WCIO Part Of Body Code          0\n",
      "Zip Code                        0\n",
      "Number of Dependents            0\n",
      "Carrier_District_Interaction    0\n",
      "Income_Category                 0\n",
      "Days_To_First_Hearing           0\n",
      "Accident_Quarter                0\n",
      "Accident_Year                   0\n",
      "Accident Day                    0\n",
      "Accident on Weekend             0\n",
      "Age Group                       0\n",
      "promptness_category             0\n",
      "promptness_C2_category          0\n",
      "promptness_C3_category          0\n",
      "Zip_Code_Simplified             0\n",
      "Carrier Type Merged             0\n",
      "Carrier_Name_Simplified         0\n",
      "Body_Part_Category              0\n",
      "Injury_Nature_Category          0\n",
      "Injury_Cause_Category           0\n",
      "Industry Risk                   0\n",
      "Salary_Per_Dependent            0\n",
      "dtype: int64\n"
     ]
    }
   ],
   "source": [
    "#por agora antes de descobrir o erro\n",
    "\n",
    "# Substituir os valores NaN pela moda de cada coluna\n",
    "\n",
    "# Substituir NaNs por moda no conjunto de treino, validação e teste\n",
    "for col in ordinal_features + low_cardinality_cols + high_cardinality_cols:\n",
    "    # Calcular a moda da coluna no conjunto de treino\n",
    "    moda = X_train_processed_copy[col].mode()[0]\n",
    "    \n",
    "    # Substituir NaNs nos três conjuntos de dados pela moda calculada\n",
    "    X_train_processed_copy[col] = X_train_processed_copy[col].fillna(moda)\n",
    "    X_val_processed_copy[col] = X_val_processed_copy[col].fillna(moda)\n",
    "    df_test_processed_copy[col] = df_test_processed_copy[col].fillna(moda)\n",
    "\n",
    "# Verificar se ainda existem valores ausentes\n",
    "print(X_train_processed_copy.isnull().sum())\n",
    "print(X_val_processed_copy.isnull().sum())\n",
    "print(df_test_processed_copy.isnull().sum())"
   ]
  },
  {
   "cell_type": "code",
   "execution_count": null,
   "metadata": {},
   "outputs": [
    {
     "data": {
      "text/plain": [
       "Unknown Risk    293128\n",
       "High Risk        85111\n",
       "Medium Risk       9736\n",
       "Name: Industry Risk, dtype: int64"
      ]
     },
     "metadata": {},
     "output_type": "display_data"
    }
   ],
   "source": [
    "df_test_processed_copy['Industry Risk'].value_counts()"
   ]
  },
  {
   "cell_type": "code",
   "execution_count": null,
   "metadata": {},
   "outputs": [],
   "source": [
    "# #por agoraaaaaaaaaa\n",
    "\n",
    "# # Obter o valor mais frequente (moda) da coluna 'Industry Risk' no conjunto de treino\n",
    "# most_frequent_value = X_train_processed_copy['Industry Risk'].mode()[0]\n",
    "\n",
    "# # Substituir 'Unknown Risk' por esse valor no conjunto de teste\n",
    "# df_test_processed_copy['Industry Risk'] = df_test_processed_copy['Industry Risk'].replace('Unknown Risk', most_frequent_value)"
   ]
  },
  {
   "cell_type": "code",
   "execution_count": null,
   "metadata": {},
   "outputs": [
    {
     "name": "stdout",
     "output_type": "stream",
     "text": [
      "Total NaN values in all  the datasets: 1\n"
     ]
    }
   ],
   "source": [
    "# Sum all the NaN values in the datasets\n",
    "missing_values_total = (\n",
    "    X_train_processed_copy.isnull().sum().sum() +\n",
    "    X_val_processed_copy.isnull().sum().sum() +\n",
    "    df_test_processed_copy.isnull().sum().sum()\n",
    ")\n",
    "\n",
    "print(f\"Total NaN values in all  the datasets: {missing_values_total}\")"
   ]
  },
  {
   "cell_type": "code",
   "execution_count": null,
   "metadata": {},
   "outputs": [],
   "source": [
    "#For now since the pre processing isnt finish lets replace nan by 0 the row tha has nan vlaues\n",
    "X_train_processed_copy = X_train_processed_copy.fillna(0)\n"
   ]
  },
  {
   "cell_type": "code",
   "execution_count": null,
   "metadata": {},
   "outputs": [
    {
     "name": "stdout",
     "output_type": "stream",
     "text": [
      "Processing ordinal feature: promptness_category\n",
      "Processing ordinal feature: promptness_C2_category\n",
      "Processing ordinal feature: promptness_C3_category\n",
      "Processing ordinal feature: Age Group\n",
      "Processing ordinal feature: Income_Category\n",
      "Processing ordinal feature: Industry Risk\n",
      "\n",
      "Processing low-cardinality features for One-Hot Encoding...\n",
      "Shape of one-hot encoded train data: (398994, 25)\n",
      "Shape of one-hot encoded val data: (172208, 25)\n",
      "Shape of one-hot encoded test data: (387975, 25)\n",
      "\n",
      "Processing high-cardinality features for Frequency Encoding...\n",
      "Encoding high-cardinality feature: Carrier_Name_Simplified\n",
      "Encoding high-cardinality feature: Zip_Code_Simplified\n",
      "Encoding high-cardinality feature: Industry Code\n",
      "Encoding high-cardinality feature: County of Injury\n",
      "Encoding high-cardinality feature: Carrier Type Merged\n",
      "Encoding high-cardinality feature: WCIO Cause of Injury Code\n",
      "Encoding high-cardinality feature: WCIO Nature of Injury Code\n",
      "Encoding high-cardinality feature: WCIO Part Of Body Code\n",
      "Encoding high-cardinality feature: Carrier_District_Interaction\n",
      "Encoding high-cardinality feature: District Name\n",
      "\n",
      "Summary of encoded datasets:\n",
      "Final X_train_final shape: (398994, 58)\n",
      "Final X_val_final shape: (172208, 58)\n",
      "Final X_test_final shape: (387975, 57)\n"
     ]
    }
   ],
   "source": [
    "from sklearn.preprocessing import OneHotEncoder, LabelEncoder\n",
    "import pandas as pd\n",
    "\n",
    "# Step 1: Label Encode ordinal features (features with intrinsic order)\n",
    "label_encoder_1 = LabelEncoder()\n",
    "for col in ordinal_features:\n",
    "    # Ensure input is a column from the DataFrame\n",
    "    print(f\"Processing ordinal feature: {col}\")\n",
    "    X_train_processed_copy[col] = label_encoder_1.fit_transform(X_train_processed_copy[col])\n",
    "    X_val_processed_copy[col] = label_encoder_1.transform(X_val_processed_copy[col])\n",
    "    df_test_processed_copy[col] = label_encoder_1.transform(df_test_processed_copy[col])\n",
    "\n",
    "# Step 2: One-Hot Encode low-cardinality nominal features\n",
    "print(\"\\nProcessing low-cardinality features for One-Hot Encoding...\")\n",
    "one_hot_encoder = OneHotEncoder(drop='first', sparse=False, handle_unknown='ignore')  # Ensure dense output\n",
    "# Extract the subset of low-cardinality columns\n",
    "low_cardinality_train = X_train_processed_copy[low_cardinality_cols]\n",
    "low_cardinality_val = X_val_processed_copy[low_cardinality_cols]\n",
    "low_cardinality_test = df_test_processed_copy[low_cardinality_cols]\n",
    "\n",
    "# Apply One-Hot Encoding\n",
    "one_hot_encoded_train = one_hot_encoder.fit_transform(low_cardinality_train)\n",
    "one_hot_encoded_val = one_hot_encoder.transform(low_cardinality_val)\n",
    "one_hot_encoded_test = one_hot_encoder.transform(low_cardinality_test)\n",
    "\n",
    "# Verify the shapes\n",
    "print(\"Shape of one-hot encoded train data:\", one_hot_encoded_train.shape)\n",
    "print(\"Shape of one-hot encoded val data:\", one_hot_encoded_val.shape)\n",
    "print(\"Shape of one-hot encoded test data:\", one_hot_encoded_test.shape)\n",
    "\n",
    "# Convert One-Hot Encoded arrays to DataFrames\n",
    "feature_names = one_hot_encoder.get_feature_names_out(low_cardinality_cols)\n",
    "one_hot_encoded_train_df = pd.DataFrame(one_hot_encoded_train, columns=feature_names, index=X_train_processed_copy.index)\n",
    "one_hot_encoded_val_df = pd.DataFrame(one_hot_encoded_val, columns=feature_names, index=X_val_processed_copy.index)\n",
    "one_hot_encoded_test_df = pd.DataFrame(one_hot_encoded_test, columns=feature_names, index=df_test_processed_copy.index)\n",
    "\n",
    "# Concatenate the encoded columns with the original datasets\n",
    "X_train_processed_copy = pd.concat([X_train_processed_copy, one_hot_encoded_train_df], axis=1)\n",
    "X_val_processed_copy = pd.concat([X_val_processed_copy, one_hot_encoded_val_df], axis=1)\n",
    "df_test_processed_copy = pd.concat([df_test_processed_copy, one_hot_encoded_test_df], axis=1)\n",
    "\n",
    "# Drop original low-cardinality columns\n",
    "X_train_processed_copy.drop(columns=low_cardinality_cols, inplace=True)\n",
    "X_val_processed_copy.drop(columns=low_cardinality_cols, inplace=True)\n",
    "df_test_processed_copy.drop(columns=low_cardinality_cols, inplace=True)\n",
    "\n",
    "# Step 3: Frequency Encoding for high-cardinality nominal features\n",
    "print(\"\\nProcessing high-cardinality features for Frequency Encoding...\")\n",
    "for col in high_cardinality_cols:\n",
    "    print(f\"Encoding high-cardinality feature: {col}\")\n",
    "    # Frequency count based on the training data\n",
    "    freq = X_train_processed_copy[col].value_counts()\n",
    "    # Apply mapping to all datasets\n",
    "    X_train_processed_copy[f\"{col}_freq\"] = X_train_processed_copy[col].map(freq).fillna(0)\n",
    "    X_val_processed_copy[f\"{col}_freq\"] = X_val_processed_copy[col].map(freq).fillna(0)\n",
    "    df_test_processed_copy[f\"{col}_freq\"] = df_test_processed_copy[col].map(freq).fillna(0)\n",
    "\n",
    "# Drop original high-cardinality columns\n",
    "X_train_processed_copy.drop(columns=high_cardinality_cols, inplace=True)\n",
    "X_val_processed_copy.drop(columns=high_cardinality_cols, inplace=True)\n",
    "df_test_processed_copy.drop(columns=high_cardinality_cols, inplace=True)\n",
    "\n",
    "# Final datasets after encoding\n",
    "X_train_final = X_train_processed_copy.copy()\n",
    "X_val_final = X_val_processed_copy.copy()\n",
    "X_test_final = df_test_processed_copy.copy()\n",
    "\n",
    "# Summary\n",
    "print(\"\\nSummary of encoded datasets:\")\n",
    "print(\"Final X_train_final shape:\", X_train_final.shape)\n",
    "print(\"Final X_val_final shape:\", X_val_final.shape)\n",
    "print(\"Final X_test_final shape:\", X_test_final.shape)"
   ]
  },
  {
   "cell_type": "markdown",
   "metadata": {},
   "source": [
    "### Why Are There Missing Values (NaN) in Validation and Test Sets?\n",
    "\n",
    "During the encoding process, missing values (NaN) may appear in the validation and test sets because certain categories that exist in these sets might not be present in the training set. For instance, during frequency encoding, if a category exists only in the validation or test set but not in the training set, it will result in missing values when encoding those rows.\n",
    "\n",
    "To address this, we can fill these missing values with a placeholder such as `0`, ensuring consistent feature representation across all datasets, for now. For next deliverable we will try to implement better approaches."
   ]
  },
  {
   "cell_type": "code",
   "execution_count": null,
   "metadata": {},
   "outputs": [
    {
     "name": "stdout",
     "output_type": "stream",
     "text": [
      "Total NaN sum: 0\n"
     ]
    }
   ],
   "source": [
    "# Summing all the NaN values in the datasets\n",
    "missing_values_total = (\n",
    "    X_train_final.isnull().sum().sum() +\n",
    "    X_val_final.isnull().sum().sum() +\n",
    "    X_test_final.isnull().sum().sum()\n",
    ")\n",
    "\n",
    "print(f\"Total NaN sum: {missing_values_total}\")"
   ]
  },
  {
   "cell_type": "code",
   "execution_count": null,
   "metadata": {},
   "outputs": [],
   "source": [
    "#Prepare final dataset for MIC and χ² analysis\n",
    "# Use only the encoded features for the MIC and chi-squared tests\n",
    "mic_chi2_features = binary_columns + ordinal_features + list(one_hot_encoded_train_df.columns) + [f\"{col}_freq\" for col in high_cardinality_cols]\n",
    "X_train_mic_chi2 = X_train_final[mic_chi2_features]"
   ]
  },
  {
   "cell_type": "code",
   "execution_count": null,
   "metadata": {},
   "outputs": [
    {
     "data": {
      "text/plain": [
       "44"
      ]
     },
     "metadata": {},
     "output_type": "display_data"
    }
   ],
   "source": [
    "len(X_train_mic_chi2.columns)"
   ]
  },
  {
   "cell_type": "code",
   "execution_count": null,
   "metadata": {},
   "outputs": [
    {
     "data": {
      "text/plain": [
       "Index(['Attorney/Representative', 'COVID-19 Indicator', 'Accident on Weekend',\n",
       "       'promptness_category', 'promptness_C2_category',\n",
       "       'promptness_C3_category', 'Age Group', 'Income_Category',\n",
       "       'Industry Risk', 'Gender_M', 'Gender_U', 'Medical Fee Region_II',\n",
       "       'Medical Fee Region_III', 'Medical Fee Region_IV',\n",
       "       'Medical Fee Region_UK', 'Body_Part_Category_Lower Extremities',\n",
       "       'Body_Part_Category_Multiple Body Parts', 'Body_Part_Category_Neck',\n",
       "       'Body_Part_Category_NonClassificable', 'Body_Part_Category_Trunk',\n",
       "       'Body_Part_Category_Upper Extremities',\n",
       "       'Injury_Nature_Category_Multiple Injuries',\n",
       "       'Injury_Nature_Category_Occupational Disease or Cumulative Injury',\n",
       "       'Injury_Nature_Category_Specific Injury',\n",
       "       'Injury_Cause_Category_COVID-19 Injury',\n",
       "       'Injury_Cause_Category_Caught In, Under, or Between',\n",
       "       'Injury_Cause_Category_Cut, Puncture, Scrape',\n",
       "       'Injury_Cause_Category_Fall, Slip, or Trip',\n",
       "       'Injury_Cause_Category_Miscellaneous Causes',\n",
       "       'Injury_Cause_Category_Motor Vehicle',\n",
       "       'Injury_Cause_Category_Rubbed or Abraded by',\n",
       "       'Injury_Cause_Category_Strain or Injury By',\n",
       "       'Injury_Cause_Category_Striking Against or Stepping On',\n",
       "       'Injury_Cause_Category_Struck or Injured by',\n",
       "       'Carrier_Name_Simplified_freq', 'Zip_Code_Simplified_freq',\n",
       "       'Industry Code_freq', 'County of Injury_freq',\n",
       "       'Carrier Type Merged_freq', 'WCIO Cause of Injury Code_freq',\n",
       "       'WCIO Nature of Injury Code_freq', 'WCIO Part Of Body Code_freq',\n",
       "       'Carrier_District_Interaction_freq', 'District Name_freq'],\n",
       "      dtype='object')"
      ]
     },
     "metadata": {},
     "output_type": "display_data"
    }
   ],
   "source": [
    "X_train_mic_chi2.columns"
   ]
  },
  {
   "cell_type": "markdown",
   "metadata": {},
   "source": [
    "#### Chi-Squared Test for Feature Selection\n",
    "The Chi-squared test helps us identify the most relevant categorical and binary features by evaluating their independence with the target variable. In this analysis, we set a threshold to keep the 25 most relevant features."
   ]
  },
  {
   "cell_type": "code",
   "execution_count": null,
   "metadata": {},
   "outputs": [],
   "source": [
    "from utils import select_high_score_features_chi2_no_model\n"
   ]
  },
  {
   "cell_type": "code",
   "execution_count": null,
   "metadata": {},
   "outputs": [
    {
     "name": "stdout",
     "output_type": "stream",
     "text": [
      "Top 25 features based on Chi-square scores: ['Carrier Type Merged_freq', 'WCIO Nature of Injury Code_freq', 'Zip_Code_Simplified_freq', 'Carrier_District_Interaction_freq', 'County of Injury_freq', 'Industry Code_freq', 'WCIO Part Of Body Code_freq', 'Carrier_Name_Simplified_freq', 'WCIO Cause of Injury Code_freq', 'District Name_freq', 'Attorney/Representative', 'promptness_C3_category', 'promptness_C2_category', 'Injury_Cause_Category_Strain or Injury By', 'promptness_category', 'Industry Risk', 'COVID-19 Indicator', 'Body_Part_Category_Trunk', 'Injury_Cause_Category_Cut, Puncture, Scrape', 'Injury_Cause_Category_COVID-19 Injury', 'Income_Category', 'Age Group', 'Body_Part_Category_NonClassificable', 'Body_Part_Category_Multiple Body Parts', 'Body_Part_Category_Upper Extremities']\n",
      "Corresponding Chi-square scores: [61888218.505550124, 24440725.680518415, 15778724.944816345, 14925350.963330219, 7883300.29973166, 6493992.496444894, 6452255.864445573, 609274.4255401233, 440912.17108412297, 312967.36669684015, 23120.081918036158, 6467.373389710754, 3167.258399100217, 2221.8924065691294, 1958.3863427842905, 1920.4797276006416, 1770.2768384756612, 1693.467590952701, 1661.1448565708347, 1610.2847988835256, 1458.7516507514013, 1249.1407535202718, 1170.1242171943911, 724.796469903284, 642.8173133365834]\n"
     ]
    }
   ],
   "source": [
    "# Example usage\n",
    "high_score_features_chi2, scores = select_high_score_features_chi2_no_model(\n",
    "    X_train_mic_chi2, \n",
    "    y_train_encoded, \n",
    "    threshold=25\n",
    ")"
   ]
  },
  {
   "cell_type": "code",
   "execution_count": null,
   "metadata": {},
   "outputs": [
    {
     "data": {
      "text/plain": [
       "['Carrier Type Merged_freq',\n",
       " 'WCIO Nature of Injury Code_freq',\n",
       " 'Zip_Code_Simplified_freq',\n",
       " 'Carrier_District_Interaction_freq',\n",
       " 'County of Injury_freq',\n",
       " 'Industry Code_freq',\n",
       " 'WCIO Part Of Body Code_freq',\n",
       " 'Carrier_Name_Simplified_freq',\n",
       " 'WCIO Cause of Injury Code_freq',\n",
       " 'District Name_freq',\n",
       " 'Attorney/Representative',\n",
       " 'promptness_C3_category',\n",
       " 'promptness_C2_category',\n",
       " 'Injury_Cause_Category_Strain or Injury By',\n",
       " 'promptness_category',\n",
       " 'Industry Risk',\n",
       " 'COVID-19 Indicator',\n",
       " 'Body_Part_Category_Trunk',\n",
       " 'Injury_Cause_Category_Cut, Puncture, Scrape',\n",
       " 'Injury_Cause_Category_COVID-19 Injury',\n",
       " 'Income_Category',\n",
       " 'Age Group',\n",
       " 'Body_Part_Category_NonClassificable',\n",
       " 'Body_Part_Category_Multiple Body Parts',\n",
       " 'Body_Part_Category_Upper Extremities']"
      ]
     },
     "metadata": {},
     "output_type": "display_data"
    }
   ],
   "source": [
    "high_score_features_chi2"
   ]
  },
  {
   "cell_type": "markdown",
   "metadata": {},
   "source": [
    "> ### Mutual Information Criterion (MIC) for Feature Selection <a class=\"anchor\" id=\"sub_section_4_2_2\"></a>\n",
    "\n",
    "The Mutual Information Criterion is used to measure the dependence between each feature and the target variable. By setting a threshold, we retain only the most relevant features."
   ]
  },
  {
   "cell_type": "code",
   "execution_count": null,
   "metadata": {},
   "outputs": [],
   "source": [
    "from utils import select_high_score_features_MIC\n"
   ]
  },
  {
   "cell_type": "code",
   "execution_count": null,
   "metadata": {},
   "outputs": [
    {
     "name": "stdout",
     "output_type": "stream",
     "text": [
      "Top 25 features based on MIC scores: ['promptness_C3_category', 'Zip_Code_Simplified_freq', 'Industry Risk', 'Injury_Nature_Category_Specific Injury', 'Attorney/Representative', 'Carrier_Name_Simplified_freq', 'Carrier Type Merged_freq', 'Age Group', 'WCIO Nature of Injury Code_freq', 'promptness_C2_category', 'District Name_freq', 'promptness_category', 'WCIO Part Of Body Code_freq', 'Gender_M', 'Industry Code_freq', 'Carrier_District_Interaction_freq', 'Income_Category', 'WCIO Cause of Injury Code_freq', 'Medical Fee Region_IV', 'County of Injury_freq', 'Body_Part_Category_Upper Extremities', 'Injury_Cause_Category_Strain or Injury By', 'Body_Part_Category_Trunk', 'COVID-19 Indicator', 'Injury_Cause_Category_Struck or Injured by']\n",
      "Corresponding MIC scores: [0.06131066781166106, 0.05772361035151308, 0.05454169320009461, 0.05171538245407392, 0.046302906417643896, 0.03434141205777963, 0.03209000944668228, 0.02745218652569048, 0.027105165828189337, 0.026267163525183213, 0.025272777827269, 0.022967452084574846, 0.022304853629824484, 0.02111075327149714, 0.02096338264779951, 0.019955704421877662, 0.019677466642240793, 0.019207950541026975, 0.01336025248288486, 0.008450574834749869, 0.00785625050308525, 0.007769866595373598, 0.00477920545110222, 0.003992353113355884, 0.0036284477300043694]\n"
     ]
    }
   ],
   "source": [
    "# Example usage\n",
    "high_score_features_MIC, scores_MIC = select_high_score_features_MIC(\n",
    "    X_train_mic_chi2, \n",
    "    y_train_mapped, \n",
    "    threshold=25, \n",
    "    random_state=42)"
   ]
  },
  {
   "cell_type": "markdown",
   "metadata": {},
   "source": [
    "### Intersection of Selected Features by Chi-squared and MIC\n",
    "To identify the most relevant categorical features, we take the intersection of features selected by both Chi-squared and MIC methods."
   ]
  },
  {
   "cell_type": "code",
   "execution_count": null,
   "metadata": {},
   "outputs": [
    {
     "data": {
      "text/plain": [
       "['Carrier_District_Interaction_freq',\n",
       " 'Zip_Code_Simplified_freq',\n",
       " 'District Name_freq',\n",
       " 'COVID-19 Indicator',\n",
       " 'WCIO Cause of Injury Code_freq',\n",
       " 'WCIO Part Of Body Code_freq',\n",
       " 'Age Group',\n",
       " 'Attorney/Representative',\n",
       " 'Industry Code_freq',\n",
       " 'Body_Part_Category_Trunk',\n",
       " 'promptness_category',\n",
       " 'County of Injury_freq',\n",
       " 'promptness_C2_category',\n",
       " 'promptness_C3_category',\n",
       " 'Body_Part_Category_Upper Extremities',\n",
       " 'Carrier Type Merged_freq',\n",
       " 'Industry Risk',\n",
       " 'Carrier_Name_Simplified_freq',\n",
       " 'Income_Category',\n",
       " 'WCIO Nature of Injury Code_freq',\n",
       " 'Injury_Cause_Category_Strain or Injury By']"
      ]
     },
     "metadata": {},
     "output_type": "display_data"
    }
   ],
   "source": [
    "# Find common features between Chi-squared and MIC selections\n",
    "common_categorical_features = list(set(high_score_features_chi2).intersection(set(high_score_features_MIC)))\n",
    "features_selected = common_categorical_features  # Final list of selected features\n",
    "features_selected  # Display the list of intersected features"
   ]
  },
  {
   "cell_type": "markdown",
   "metadata": {},
   "source": [
    "## 4.4. Final Features</b> <a class=\"anchor\" id=\"section_4_4\"></a>\n",
    "\n"
   ]
  },
  {
   "cell_type": "markdown",
   "metadata": {},
   "source": [
    "| Predictor             | Spearman                         | Pearson                  | Lasso   | RFE LR   | Decision Trees & RF Importance        | What to do? (One possible way to \"solve\")        |\n",
    "|-----------------------|----------------------------------|--------------------------|---------|----------|----------------------------------------|--------------------------------------------------|\n",
    "| Number of Dependents  | High (-0.81 with Salary/Depend) | Low                      | Discard | Discard  | Low                                    | Discard                                          |\n",
    "| IME-4 Count           | High (0.85 with Days to Hear)   | Low                      | Keep    | Keep     | High                                   | Include in the model                             |\n",
    "| Accident_Quarter      | Low                             | Low                      | Discard | Keep     | Low                               | Discard         |\n",
    "| Accident_Year         | Low                             | Low                      | Keep    | Keep     | Low                               | Discard                            |\n",
    "| Accident Day          | Low                             | Low                      | Discard | Keep     | Low                                    | Discard                                          |\n",
    "| Days_To_First_Hearing | High (0.85 with IME-4 Count)    | Low                      | Keep    | Keep     | High                                   | Include in the model                             |\n",
    "| Average Weekly Wage   | Moderate (0.52 with Salary/Dep) | High (0.95)              | Discard | Keep     | High                                   | Discard                             |\n",
    "| Age at Injury         | Low                             | Low                      | Keep    | Keep     | High                                   | Include in the model                \n",
    "| Salary_Per_Dependent  | High (-0.81 and 0.52)           | High (0.95)              | Keep (0.50)  | Keep     | High                                   | Include in the model                             |\n",
    "\n",
    "\n"
   ]
  },
  {
   "cell_type": "markdown",
   "metadata": {},
   "source": [
    "\n"
   ]
  },
  {
   "cell_type": "code",
   "execution_count": null,
   "metadata": {},
   "outputs": [
    {
     "name": "stdout",
     "output_type": "stream",
     "text": [
      "X_train_final shape: (398994, 25)\n",
      "X_val_final shape: (172208, 25)\n",
      "X_test_final shape: (387975, 25)\n"
     ]
    }
   ],
   "source": [
    "final_features = [\n",
    "    # Categorical features selected through MIC and chi2\n",
    "    'Carrier_District_Interaction_freq',\n",
    "    'Zip_Code_Simplified_freq',\n",
    "    'District Name_freq',\n",
    "    'COVID-19 Indicator',\n",
    "    'WCIO Cause of Injury Code_freq',\n",
    "    'WCIO Part Of Body Code_freq',\n",
    "    'Age Group',\n",
    "    'Attorney/Representative',\n",
    "    'Industry Code_freq',\n",
    "    'Body_Part_Category_Trunk',\n",
    "    'promptness_category',\n",
    "    'County of Injury_freq',\n",
    "    'promptness_C2_category',\n",
    "    'promptness_C3_category',\n",
    "    'Body_Part_Category_Upper Extremities',\n",
    "    'Carrier Type Merged_freq',\n",
    "    'Industry Risk',\n",
    "    'Carrier_Name_Simplified_freq',\n",
    "    'Income_Category',\n",
    "    'WCIO Nature of Injury Code_freq',\n",
    "    'Injury_Cause_Category_Strain or Injury By',\n",
    "    # Important numerical features\n",
    "    'IME-4 Count', 'Salary_Per_Dependent','Days_To_First_Hearing','Age at Injury'  \n",
    "]\n",
    "\n",
    "\n",
    "# Extracting the final features from the processed datasets\n",
    "X_train_final = X_train_processed_copy[final_features]\n",
    "X_val_final = X_val_processed_copy[final_features]\n",
    "X_test_final = df_test_processed_copy[final_features]\n",
    "\n",
    "# Print the shape of the final datasets to confirm consistency\n",
    "print(f\"X_train_final shape: {X_train_final.shape}\")\n",
    "print(f\"X_val_final shape: {X_val_final.shape}\")\n",
    "print(f\"X_test_final shape: {X_test_final.shape}\")"
   ]
  },
  {
   "cell_type": "markdown",
   "metadata": {},
   "source": [
    "### 4. Build a Simple Model and Assess Performance\n",
    "#### Problem Type and Model Selection\n",
    "The problem we are dealing with is a classification problem since our goal is to predict the type of variable claim injury as our target variable. As it is a categorical variable we decided to try algorithms like Logistic Regression, Random Forest, XGBoost and other classification models. To start, a simple logistic regression was built due to its interpretability and ease of use. Moreover, it supports an effective starting point for further analysis and comparison against more complex models.\n",
    "\n",
    "#### Cross-Validation for Performance Assessment\n",
    "In order to assess the model’s performance we decided to use cross validation. This technique ensures a reliable evaluation by divding our data into multiple folds and having training/testing the model on different subsets. This really helps to avoid overfitting (which was a problem that from the beginning we identify we had) and provides a comprehensive view of how well the model generalizes to unseen data.\n",
    "\n",
    "#### Metrics for Evaluation\n",
    "For model evaluation we look into some metrics like:\n",
    "Precision, Recall, and F1-Score given that our target variable is claim injury type, and the dataset has an imbalanced class distributions. \n",
    "Precision tells us how many of the predicted positive instances are actually positive, while recall shows how many of the actual positives were correctly predicted. **F1 Score* provides a balance between precision and recall, which is crucial when handling imbalanced data.\n",
    "Even though accuracy can provide a general idea of overall correctness, it is not our main focus due to the class imbalance. Relying solely on accuracy could give misleading insights, as it may be high even if the model is not performing well on minority classes\n",
    "\n",
    "With these metrics we ensure a global evaluation of the model, especially considering the facts above mentioned such as imbalanced dataset and helps guiding model improvement effectively.\n"
   ]
  },
  {
   "cell_type": "code",
   "execution_count": null,
   "metadata": {},
   "outputs": [],
   "source": []
  },
  {
   "cell_type": "markdown",
   "metadata": {},
   "source": [
    "# 4. Setting the Target <a class=\"anchor\" id=\"chapter3\"></a>"
   ]
  },
  {
   "cell_type": "code",
   "execution_count": null,
   "metadata": {},
   "outputs": [],
   "source": [
    "# Importar bibliotecas necessárias\n",
    "from sklearn.ensemble import RandomForestClassifier\n",
    "\n",
    "# Passo 1: Filtrar apenas as instâncias com classes 2 e 4 no conjunto de treino\n",
    "train_majority = X_train_processed[X_train_processed['claim injury type'].isin([2, 4])]\n",
    "val_majority = X_val_processed[X_val_processed['claim injury type'].isin([2, 4])]\n",
    "\n",
    "# Separar as features (X) e o target (y) no conjunto de treino e validação\n",
    "X_train_bin = train_majority.drop(columns=['claim injury type'])  # Features de treino\n",
    "y_train_bin = train_majority['claim injury type']                # Target de treino\n",
    "\n",
    "X_val_bin = val_majority.drop(columns=['claim injury type'])      # Features de validação\n",
    "y_val_bin = val_majority['claim injury type']                    # Target de validação\n"
   ]
  },
  {
   "cell_type": "code",
   "execution_count": null,
   "metadata": {},
   "outputs": [],
   "source": [
    "# Passo 2: Criar e treinar o modelo binário\n",
    "binary_model = RandomForestClassifier(random_state=42)\n",
    "binary_model.fit(X_train_bin, y_train_bin)\n",
    "\n",
    "# Avaliar o modelo na validação\n",
    "accuracy = binary_model.score(X_val_bin, y_val_bin)\n",
    "print(f\"Accuracy on validation set: {accuracy:.2f}\")"
   ]
  },
  {
   "cell_type": "code",
   "execution_count": null,
   "metadata": {},
   "outputs": [],
   "source": [
    "\n",
    "# Passo 3: Aplicar o modelo ao conjunto de teste para as linhas da classe maioritária\n",
    "# Selecionar as linhas da classe \"majoritária\" no conjunto de teste\n",
    "test_majority = df_test_processed[df_test_processed['class_category'] == 'majority']\n",
    "\n",
    "# Remover colunas desnecessárias para obter as features\n",
    "X_test_majority = test_majority.drop(columns=['class_category'])\n",
    "\n",
    "# Fazer previsões\n",
    "predictions = binary_model.predict(X_test_majority)\n",
    "\n",
    "# Adicionar as previsões ao dataset original\n",
    "df_test_processed.loc[test_majority.index, 'predicted_claim_injury_type'] = predictions\n",
    "\n",
    "# (Opcional) Verificar as previsões feitas\n",
    "print(df_test_processed['predicted_claim_injury_type'].value_counts())\n"
   ]
  }
 ],
 "metadata": {
  "language_info": {
   "name": "python"
  }
 },
 "nbformat": 4,
 "nbformat_minor": 2
}
