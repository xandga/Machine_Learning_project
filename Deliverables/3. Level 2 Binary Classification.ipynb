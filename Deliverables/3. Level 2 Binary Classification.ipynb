{
 "cells": [
  {
   "cell_type": "markdown",
   "metadata": {},
   "source": [
    "# **<h3 align=\"center\">Machine Learning - Project</h3>**\n",
    "## **<h3 align=\"center\">3. Level 2 Binary Classification</h3>**\n",
    "### **<h3 align=\"center\">Group 30 - Project</h3>**\n",
    "\n",
    "\n",
    "### Group Members\n",
    "| Name              | Email                        | Student ID |\n",
    "|-------------------|------------------------------|------------|\n",
    "| Alexandra Pinto   | 20211599@novaims.unl.pt      | 20211599   |\n",
    "| Gonçalo Peres     | 20211625@novaims.unl.pt      | 20211625   |\n",
    "| Leonor Mira       | 20240658@novaims.unl.pt      | 20240658   |\n",
    "| Miguel Natário    | 20240498@novaims.unl.pt      | 20240498   |\n",
    "| Nuno Bernardino   | 20211546@novaims.unl.pt      | 20211546    |"
   ]
  },
  {
   "cell_type": "markdown",
   "metadata": {},
   "source": [
    "---\n",
    "\n",
    "### **3. Level 2 Binary Classification Notebook**\n",
    "**Description:**\n",
    "This notebook focuses on the **Level 2 Binary Classification model**, which distinguishes between the two most common classes identified in Level 1:\n",
    "- **2 - NON-COMP**\n",
    "- **4 - TEMPORARY**\n",
    "\n",
    "Key steps include:\n",
    "- Loading the subset of **“Common”** cases from Level 1 predictions.\n",
    "- **Feature selection:** Tailor feature preprocessing and selection for this binary classification task.\n",
    "- **Model training:** Train and evaluate a binary classification model to distinguish between the two classes.\n",
    "- **Evaluation:** Use metrics like accuracy, precision, recall, and F1-score to measure performance.\n",
    "- **Output:** Save predictions for integration in the final notebook.\n",
    "\n",
    "This notebook refines the classification of cases within the most common classes, contributing to the pipeline's accuracy.\n",
    "\n",
    "---\n"
   ]
  },
  {
   "cell_type": "markdown",
   "metadata": {},
   "source": [
    "## Table of Contents\n",
    "* [1. Import the Libraries](#chapter1)\n",
    "* [2. Load and Prepare Datasets](#chapter2)\n",
    "* [3. Setting the Target](#chapter3)\n",
    "* [4. Feature Selection](#chapter4)\n",
    "    * [Scaling the Data](#section_4_1)  \n",
    "    * [Numerical Features](#section_4_2) \n",
    "    * [Categorical Features](#section_4_3) \n",
    "    * [Final Features](#section_4_3)\n",
    "* [5. Modelling](#chapter5)\n",
    "* [6. Loading the results](#chapter6)\n"
   ]
  },
  {
   "cell_type": "markdown",
   "metadata": {},
   "source": [
    "# 1. Import the Libraries 📚<a class=\"anchor\" id=\"chapter1\"></a>"
   ]
  },
  {
   "cell_type": "code",
   "execution_count": 2,
   "metadata": {},
   "outputs": [],
   "source": [
    "# --- Standard Libraries ---\n",
    "import pandas as pd\n",
    "import numpy as np\n",
    "import matplotlib.pyplot as plt\n",
    "import seaborn as sns\n",
    "sns.set()\n",
    "import zipfile\n",
    "\n",
    "\n",
    "# --- Scikit-Learn Modules for Data Partitioning and Preprocessing ---\n",
    "from sklearn.model_selection import train_test_split, cross_val_score\n",
    "from sklearn.preprocessing import StandardScaler, OneHotEncoder, LabelEncoder, MinMaxScaler, RobustScaler\n",
    "from sklearn.compose import ColumnTransformer\n",
    "from sklearn.pipeline import Pipeline\n",
    "from sklearn.preprocessing import LabelEncoder\n",
    "\n",
    "\n",
    "# --- Feature Selection Methods ---\n",
    "# Filter Methods\n",
    "import scipy.stats as stats\n",
    "from scipy.stats import chi2_contingency\n",
    "from sklearn.feature_selection import mutual_info_classif, chi2, SelectKBest\n",
    "\n",
    "# Wrapper Methods\n",
    "from sklearn.linear_model import LogisticRegression\n",
    "from sklearn.svm import SVC\n",
    "from sklearn.feature_selection import RFE\n",
    "from sklearn.ensemble import RandomForestClassifier\n",
    "from sklearn.tree import DecisionTreeClassifier\n",
    "\n",
    "# Embedded Methods\n",
    "from sklearn.linear_model import LassoCV\n",
    "\n",
    "# --- Evaluation Metrics ---\n",
    "from sklearn.metrics import classification_report, confusion_matrix, accuracy_score, precision_score, recall_score, f1_score\n",
    "\n",
    "#from xgboost import XGBClassifier\n",
    "\n",
    "# --- Warnings ---\n",
    "\n",
    "\n",
    "import warnings\n",
    "warnings.filterwarnings('ignore')\n",
    "\n",
    "\n",
    "#selecionar apenas as função que vamos usar neste :)\n",
    "from utils import plot_importance, cor_heatmap, find_optimal_features_with_rfe, compare_rf_feature_importances,compare_feature_importances, select_high_score_features_chi2_no_model,select_high_score_features_MIC, metrics"
   ]
  },
  {
   "cell_type": "code",
   "execution_count": null,
   "metadata": {},
   "outputs": [],
   "source": []
  },
  {
   "cell_type": "markdown",
   "metadata": {},
   "source": [
    "# 2. Load and Prepare Datasets 📁<a class=\"anchor\" id=\"chapter2\"></a>"
   ]
  },
  {
   "cell_type": "code",
   "execution_count": 137,
   "metadata": {},
   "outputs": [],
   "source": [
    "# Caminho para os arquivos\n",
    "X_train_path = r'C:\\Users\\migue\\Downloads\\Data-Mining-24-25-main\\Data-Mining-24-25-main\\Data_Temporary\\X_train_processed.csv'\n",
    "X_val_path = r'C:\\Users\\migue\\Downloads\\Data-Mining-24-25-main\\Data-Mining-24-25-main\\Data_Temporary\\X_val_processed.csv'\n",
    "best_xgb_path = r'C:\\Users\\migue\\Downloads\\Data-Mining-24-25-main\\Data-Mining-24-25-main\\Data_Temporary\\best_xgb_test_predictions.csv'\n",
    "\n",
    "# Importar os arquivos\n",
    "X_train = pd.read_csv(X_train_path, index_col='Claim Identifier')\n",
    "X_val = pd.read_csv(X_val_path, index_col='Claim Identifier')\n",
    "df_test = pd.read_csv(best_xgb_path)\n"
   ]
  },
  {
   "cell_type": "code",
   "execution_count": 138,
   "metadata": {},
   "outputs": [],
   "source": [
    "import numpy as np\n",
    "\n",
    "# Caminhos para os arquivos\n",
    "y_train_path = r\"C:\\Users\\migue\\Downloads\\Data-Mining-24-25-main\\Data-Mining-24-25-main\\Data_Temporary\\y_train.npy\"\n",
    "y_val_path = r\"C:\\Users\\migue\\Downloads\\Data-Mining-24-25-main\\Data-Mining-24-25-main\\Data_Temporary\\y_val.npy\"\n",
    "\n",
    "# Carregar os arrays com allow_pickle=True\n",
    "y_train = np.load(y_train_path, allow_pickle=True)\n",
    "y_val = np.load(y_val_path, allow_pickle=True)\n"
   ]
  },
  {
   "cell_type": "code",
   "execution_count": 139,
   "metadata": {},
   "outputs": [],
   "source": [
    "pd.set_option('display.max_columns', None)  # Mostra todas as colunas\n",
    "pd.set_option('display.width', 1000)       # Ajusta a largura máxima da exibição\n",
    "pd.set_option('display.max_rows', 50) "
   ]
  },
  {
   "cell_type": "code",
   "execution_count": 140,
   "metadata": {},
   "outputs": [],
   "source": [
    "y_train_encoded = np.array([int(item.split('.')[0]) for item in y_train])\n",
    "y_val_encoded = np.array([int(item.split('.')[0]) for item in y_val])"
   ]
  },
  {
   "cell_type": "code",
   "execution_count": 141,
   "metadata": {},
   "outputs": [],
   "source": [
    "# Removendo a coluna 'Predictions' do DataFrame df_test e armazenando em y_test\n",
    "y_test = df_test['Predictions']\n",
    "df_test.drop('Predictions', axis=1, inplace=True)\n"
   ]
  },
  {
   "cell_type": "markdown",
   "metadata": {},
   "source": [
    "# 4. Feature Selection <a class=\"anchor\" id=\"chapter4\"></a>"
   ]
  },
  {
   "cell_type": "markdown",
   "metadata": {},
   "source": [
    "The feature selection process involves summarizing the essential features in the dataset to help the model focus on the most relevant information. Here, we assess the categorical and numerical variables in `X_train_processed` by examining unique values, descriptive statistics, and verifying the correctness of categorical bins and continuous feature distributions.\n",
    "\n",
    "The `X_train_processed.describe(include='O').T` command provides an overview of the categorical features in the dataset, displaying the count, unique values, top (most frequent) category, and its frequency. This summary helps us understand the distribution and cardinality of each categorical feature, which is essential for feature selection and preprocessing."
   ]
  },
  {
   "cell_type": "markdown",
   "metadata": {},
   "source": [
    "#### Descriptive Statistics for Categorical Features"
   ]
  },
  {
   "cell_type": "code",
   "execution_count": 142,
   "metadata": {},
   "outputs": [
    {
     "data": {
      "text/html": [
       "<div>\n",
       "<style scoped>\n",
       "    .dataframe tbody tr th:only-of-type {\n",
       "        vertical-align: middle;\n",
       "    }\n",
       "\n",
       "    .dataframe tbody tr th {\n",
       "        vertical-align: top;\n",
       "    }\n",
       "\n",
       "    .dataframe thead th {\n",
       "        text-align: right;\n",
       "    }\n",
       "</style>\n",
       "<table border=\"1\" class=\"dataframe\">\n",
       "  <thead>\n",
       "    <tr style=\"text-align: right;\">\n",
       "      <th></th>\n",
       "      <th>count</th>\n",
       "      <th>unique</th>\n",
       "      <th>top</th>\n",
       "      <th>freq</th>\n",
       "    </tr>\n",
       "  </thead>\n",
       "  <tbody>\n",
       "    <tr>\n",
       "      <th>Carrier Name</th>\n",
       "      <td>398994</td>\n",
       "      <td>1960</td>\n",
       "      <td>STATE INSURANCE FUND</td>\n",
       "      <td>77168</td>\n",
       "    </tr>\n",
       "    <tr>\n",
       "      <th>Carrier Type</th>\n",
       "      <td>398994</td>\n",
       "      <td>8</td>\n",
       "      <td>PRIVATE</td>\n",
       "      <td>198800</td>\n",
       "    </tr>\n",
       "    <tr>\n",
       "      <th>County of Injury</th>\n",
       "      <td>398994</td>\n",
       "      <td>63</td>\n",
       "      <td>SUFFOLK</td>\n",
       "      <td>41965</td>\n",
       "    </tr>\n",
       "    <tr>\n",
       "      <th>District Name</th>\n",
       "      <td>398994</td>\n",
       "      <td>8</td>\n",
       "      <td>NYC</td>\n",
       "      <td>188402</td>\n",
       "    </tr>\n",
       "    <tr>\n",
       "      <th>Gender</th>\n",
       "      <td>398994</td>\n",
       "      <td>3</td>\n",
       "      <td>M</td>\n",
       "      <td>232838</td>\n",
       "    </tr>\n",
       "    <tr>\n",
       "      <th>Medical Fee Region</th>\n",
       "      <td>398994</td>\n",
       "      <td>5</td>\n",
       "      <td>IV</td>\n",
       "      <td>185033</td>\n",
       "    </tr>\n",
       "    <tr>\n",
       "      <th>Zip Code</th>\n",
       "      <td>398993</td>\n",
       "      <td>9088</td>\n",
       "      <td>11236</td>\n",
       "      <td>3849</td>\n",
       "    </tr>\n",
       "    <tr>\n",
       "      <th>Category Combination</th>\n",
       "      <td>398994</td>\n",
       "      <td>22</td>\n",
       "      <td>PRIVATE-M</td>\n",
       "      <td>115379</td>\n",
       "    </tr>\n",
       "    <tr>\n",
       "      <th>Carrier_District_Interaction</th>\n",
       "      <td>398994</td>\n",
       "      <td>52</td>\n",
       "      <td>PRIVATE_NYC</td>\n",
       "      <td>92172</td>\n",
       "    </tr>\n",
       "    <tr>\n",
       "      <th>Income_Category</th>\n",
       "      <td>398994</td>\n",
       "      <td>5</td>\n",
       "      <td>Lower-Middle Income</td>\n",
       "      <td>100196</td>\n",
       "    </tr>\n",
       "    <tr>\n",
       "      <th>Age Group</th>\n",
       "      <td>398994</td>\n",
       "      <td>4</td>\n",
       "      <td>Young Adult</td>\n",
       "      <td>199496</td>\n",
       "    </tr>\n",
       "    <tr>\n",
       "      <th>promptness_category</th>\n",
       "      <td>395310</td>\n",
       "      <td>7</td>\n",
       "      <td>Until 1 week</td>\n",
       "      <td>159574</td>\n",
       "    </tr>\n",
       "    <tr>\n",
       "      <th>promptness_C2_category</th>\n",
       "      <td>396231</td>\n",
       "      <td>7</td>\n",
       "      <td>Until 1 week</td>\n",
       "      <td>160468</td>\n",
       "    </tr>\n",
       "    <tr>\n",
       "      <th>promptness_C3_category</th>\n",
       "      <td>396754</td>\n",
       "      <td>8</td>\n",
       "      <td>No form received</td>\n",
       "      <td>269977</td>\n",
       "    </tr>\n",
       "    <tr>\n",
       "      <th>Zip_Code_Simplified</th>\n",
       "      <td>398994</td>\n",
       "      <td>77</td>\n",
       "      <td>OTHER</td>\n",
       "      <td>282759</td>\n",
       "    </tr>\n",
       "    <tr>\n",
       "      <th>Carrier Type Merged</th>\n",
       "      <td>398994</td>\n",
       "      <td>6</td>\n",
       "      <td>PRIVATE</td>\n",
       "      <td>198800</td>\n",
       "    </tr>\n",
       "    <tr>\n",
       "      <th>Carrier_Name_Simplified</th>\n",
       "      <td>398994</td>\n",
       "      <td>105</td>\n",
       "      <td>OTHER</td>\n",
       "      <td>85478</td>\n",
       "    </tr>\n",
       "    <tr>\n",
       "      <th>Body_Part_Category</th>\n",
       "      <td>389881</td>\n",
       "      <td>7</td>\n",
       "      <td>Upper Extremities</td>\n",
       "      <td>124648</td>\n",
       "    </tr>\n",
       "    <tr>\n",
       "      <th>Injury_Nature_Category</th>\n",
       "      <td>390861</td>\n",
       "      <td>4</td>\n",
       "      <td>Specific Injury</td>\n",
       "      <td>353666</td>\n",
       "    </tr>\n",
       "    <tr>\n",
       "      <th>Injury_Cause_Category</th>\n",
       "      <td>390872</td>\n",
       "      <td>11</td>\n",
       "      <td>Strain or Injury By</td>\n",
       "      <td>103852</td>\n",
       "    </tr>\n",
       "    <tr>\n",
       "      <th>Industry Risk</th>\n",
       "      <td>398994</td>\n",
       "      <td>3</td>\n",
       "      <td>Unknown Risk</td>\n",
       "      <td>295133</td>\n",
       "    </tr>\n",
       "  </tbody>\n",
       "</table>\n",
       "</div>"
      ],
      "text/plain": [
       "                               count unique                   top    freq\n",
       "Carrier Name                  398994   1960  STATE INSURANCE FUND   77168\n",
       "Carrier Type                  398994      8               PRIVATE  198800\n",
       "County of Injury              398994     63               SUFFOLK   41965\n",
       "District Name                 398994      8                   NYC  188402\n",
       "Gender                        398994      3                     M  232838\n",
       "Medical Fee Region            398994      5                    IV  185033\n",
       "Zip Code                      398993   9088                 11236    3849\n",
       "Category Combination          398994     22             PRIVATE-M  115379\n",
       "Carrier_District_Interaction  398994     52           PRIVATE_NYC   92172\n",
       "Income_Category               398994      5   Lower-Middle Income  100196\n",
       "Age Group                     398994      4           Young Adult  199496\n",
       "promptness_category           395310      7          Until 1 week  159574\n",
       "promptness_C2_category        396231      7          Until 1 week  160468\n",
       "promptness_C3_category        396754      8      No form received  269977\n",
       "Zip_Code_Simplified           398994     77                 OTHER  282759\n",
       "Carrier Type Merged           398994      6               PRIVATE  198800\n",
       "Carrier_Name_Simplified       398994    105                 OTHER   85478\n",
       "Body_Part_Category            389881      7     Upper Extremities  124648\n",
       "Injury_Nature_Category        390861      4       Specific Injury  353666\n",
       "Injury_Cause_Category         390872     11   Strain or Injury By  103852\n",
       "Industry Risk                 398994      3          Unknown Risk  295133"
      ]
     },
     "execution_count": 142,
     "metadata": {},
     "output_type": "execute_result"
    }
   ],
   "source": [
    "# Displaying descriptive statistics for categorical features in the training dataset\n",
    "X_train.describe(include='O').T"
   ]
  },
  {
   "cell_type": "markdown",
   "metadata": {},
   "source": [
    "This table provides insight into the number of unique categories within each feature, assisting in identifying high-cardinality features that may need simplification or encoding before modeling.\n",
    "\n",
    "The next output explores the Income_Category feature specifically, showing its categorical distribution across different income levels."
   ]
  },
  {
   "cell_type": "code",
   "execution_count": 143,
   "metadata": {},
   "outputs": [
    {
     "data": {
      "text/plain": [
       "Income_Category\n",
       "Lower-Middle Income    100196\n",
       "Low Income              99749\n",
       "Upper-Middle Income     99301\n",
       "High Income             70267\n",
       "Upper-High Income       29481\n",
       "Name: count, dtype: int64"
      ]
     },
     "execution_count": 143,
     "metadata": {},
     "output_type": "execute_result"
    }
   ],
   "source": [
    "# Exploring the distribution of Income_Category\n",
    "X_train['Income_Category'].value_counts()"
   ]
  },
  {
   "cell_type": "markdown",
   "metadata": {},
   "source": [
    "The `Income_Category` feature categorizes the `Average Weekly Wage` into four levels:\n",
    "- **Low Income**\n",
    "- **Lower-Middle Income**\n",
    "- **Upper-Middle Income**\n",
    "- **High Income**\n",
    "\n",
    "This feature provides a socioeconomic context for the claims, allowing the model to account for income-based disparities in claims."
   ]
  },
  {
   "cell_type": "markdown",
   "metadata": {},
   "source": [
    "#### Descriptive Statistics for Numerical Features"
   ]
  },
  {
   "cell_type": "code",
   "execution_count": 144,
   "metadata": {},
   "outputs": [
    {
     "data": {
      "text/html": [
       "<div>\n",
       "<style scoped>\n",
       "    .dataframe tbody tr th:only-of-type {\n",
       "        vertical-align: middle;\n",
       "    }\n",
       "\n",
       "    .dataframe tbody tr th {\n",
       "        vertical-align: top;\n",
       "    }\n",
       "\n",
       "    .dataframe thead th {\n",
       "        text-align: right;\n",
       "    }\n",
       "</style>\n",
       "<table border=\"1\" class=\"dataframe\">\n",
       "  <thead>\n",
       "    <tr style=\"text-align: right;\">\n",
       "      <th></th>\n",
       "      <th>count</th>\n",
       "      <th>mean</th>\n",
       "      <th>std</th>\n",
       "      <th>min</th>\n",
       "      <th>25%</th>\n",
       "      <th>50%</th>\n",
       "      <th>75%</th>\n",
       "      <th>max</th>\n",
       "    </tr>\n",
       "  </thead>\n",
       "  <tbody>\n",
       "    <tr>\n",
       "      <th>Age at Injury</th>\n",
       "      <td>398994.0</td>\n",
       "      <td>42.908502</td>\n",
       "      <td>12.927821</td>\n",
       "      <td>16.000000</td>\n",
       "      <td>32.0000</td>\n",
       "      <td>43.000000</td>\n",
       "      <td>53.000000</td>\n",
       "      <td>80.00</td>\n",
       "    </tr>\n",
       "    <tr>\n",
       "      <th>Attorney/Representative</th>\n",
       "      <td>398994.0</td>\n",
       "      <td>0.315416</td>\n",
       "      <td>0.464682</td>\n",
       "      <td>0.000000</td>\n",
       "      <td>0.0000</td>\n",
       "      <td>0.000000</td>\n",
       "      <td>1.000000</td>\n",
       "      <td>1.00</td>\n",
       "    </tr>\n",
       "    <tr>\n",
       "      <th>Average Weekly Wage</th>\n",
       "      <td>398994.0</td>\n",
       "      <td>1244.287122</td>\n",
       "      <td>7036.370387</td>\n",
       "      <td>17.410000</td>\n",
       "      <td>869.8025</td>\n",
       "      <td>1198.087381</td>\n",
       "      <td>1489.970000</td>\n",
       "      <td>2828079.00</td>\n",
       "    </tr>\n",
       "    <tr>\n",
       "      <th>Birth Year</th>\n",
       "      <td>398994.0</td>\n",
       "      <td>1977.938823</td>\n",
       "      <td>13.038683</td>\n",
       "      <td>1918.101209</td>\n",
       "      <td>1968.0000</td>\n",
       "      <td>1978.101209</td>\n",
       "      <td>1988.000000</td>\n",
       "      <td>2006.00</td>\n",
       "    </tr>\n",
       "    <tr>\n",
       "      <th>COVID-19 Indicator</th>\n",
       "      <td>398994.0</td>\n",
       "      <td>0.048367</td>\n",
       "      <td>0.214540</td>\n",
       "      <td>0.000000</td>\n",
       "      <td>0.0000</td>\n",
       "      <td>0.000000</td>\n",
       "      <td>0.000000</td>\n",
       "      <td>1.00</td>\n",
       "    </tr>\n",
       "    <tr>\n",
       "      <th>IME-4 Count</th>\n",
       "      <td>398994.0</td>\n",
       "      <td>0.747054</td>\n",
       "      <td>1.928570</td>\n",
       "      <td>0.000000</td>\n",
       "      <td>0.0000</td>\n",
       "      <td>0.000000</td>\n",
       "      <td>0.000000</td>\n",
       "      <td>73.00</td>\n",
       "    </tr>\n",
       "    <tr>\n",
       "      <th>Industry Code</th>\n",
       "      <td>398994.0</td>\n",
       "      <td>14.794842</td>\n",
       "      <td>6.791442</td>\n",
       "      <td>-1.000000</td>\n",
       "      <td>9.0000</td>\n",
       "      <td>18.000000</td>\n",
       "      <td>19.000000</td>\n",
       "      <td>23.00</td>\n",
       "    </tr>\n",
       "    <tr>\n",
       "      <th>WCIO Cause of Injury Code</th>\n",
       "      <td>398994.0</td>\n",
       "      <td>53.315619</td>\n",
       "      <td>26.733636</td>\n",
       "      <td>0.000000</td>\n",
       "      <td>29.0000</td>\n",
       "      <td>56.000000</td>\n",
       "      <td>75.000000</td>\n",
       "      <td>99.00</td>\n",
       "    </tr>\n",
       "    <tr>\n",
       "      <th>WCIO Nature of Injury Code</th>\n",
       "      <td>398994.0</td>\n",
       "      <td>40.191752</td>\n",
       "      <td>22.733837</td>\n",
       "      <td>0.000000</td>\n",
       "      <td>13.0000</td>\n",
       "      <td>49.000000</td>\n",
       "      <td>52.000000</td>\n",
       "      <td>91.00</td>\n",
       "    </tr>\n",
       "    <tr>\n",
       "      <th>WCIO Part Of Body Code</th>\n",
       "      <td>398994.0</td>\n",
       "      <td>46.939114</td>\n",
       "      <td>23.969010</td>\n",
       "      <td>0.000000</td>\n",
       "      <td>35.0000</td>\n",
       "      <td>42.000000</td>\n",
       "      <td>55.000000</td>\n",
       "      <td>101.00</td>\n",
       "    </tr>\n",
       "    <tr>\n",
       "      <th>Number of Dependents</th>\n",
       "      <td>398994.0</td>\n",
       "      <td>3.006654</td>\n",
       "      <td>2.000803</td>\n",
       "      <td>0.000000</td>\n",
       "      <td>1.0000</td>\n",
       "      <td>3.000000</td>\n",
       "      <td>5.000000</td>\n",
       "      <td>6.00</td>\n",
       "    </tr>\n",
       "    <tr>\n",
       "      <th>Days_To_First_Hearing</th>\n",
       "      <td>398994.0</td>\n",
       "      <td>88.126303</td>\n",
       "      <td>265.409473</td>\n",
       "      <td>-433.000000</td>\n",
       "      <td>0.0000</td>\n",
       "      <td>0.000000</td>\n",
       "      <td>74.000000</td>\n",
       "      <td>16373.00</td>\n",
       "    </tr>\n",
       "    <tr>\n",
       "      <th>Accident_Quarter</th>\n",
       "      <td>398994.0</td>\n",
       "      <td>2.494311</td>\n",
       "      <td>1.124911</td>\n",
       "      <td>1.000000</td>\n",
       "      <td>1.0000</td>\n",
       "      <td>3.000000</td>\n",
       "      <td>3.000000</td>\n",
       "      <td>4.00</td>\n",
       "    </tr>\n",
       "    <tr>\n",
       "      <th>Accident_Year</th>\n",
       "      <td>398994.0</td>\n",
       "      <td>2020.837614</td>\n",
       "      <td>1.810820</td>\n",
       "      <td>1961.000000</td>\n",
       "      <td>2020.0000</td>\n",
       "      <td>2021.000000</td>\n",
       "      <td>2022.000000</td>\n",
       "      <td>2023.00</td>\n",
       "    </tr>\n",
       "    <tr>\n",
       "      <th>Accident Day</th>\n",
       "      <td>398994.0</td>\n",
       "      <td>2.515579</td>\n",
       "      <td>1.822475</td>\n",
       "      <td>0.000000</td>\n",
       "      <td>1.0000</td>\n",
       "      <td>2.000000</td>\n",
       "      <td>4.000000</td>\n",
       "      <td>6.00</td>\n",
       "    </tr>\n",
       "    <tr>\n",
       "      <th>Accident on Weekend</th>\n",
       "      <td>398994.0</td>\n",
       "      <td>0.157471</td>\n",
       "      <td>0.364245</td>\n",
       "      <td>0.000000</td>\n",
       "      <td>0.0000</td>\n",
       "      <td>0.000000</td>\n",
       "      <td>0.000000</td>\n",
       "      <td>1.00</td>\n",
       "    </tr>\n",
       "    <tr>\n",
       "      <th>Salary_Per_Dependent</th>\n",
       "      <td>398994.0</td>\n",
       "      <td>458.948011</td>\n",
       "      <td>2044.767411</td>\n",
       "      <td>3.324286</td>\n",
       "      <td>193.3570</td>\n",
       "      <td>303.568600</td>\n",
       "      <td>556.387443</td>\n",
       "      <td>707019.75</td>\n",
       "    </tr>\n",
       "  </tbody>\n",
       "</table>\n",
       "</div>"
      ],
      "text/plain": [
       "                               count         mean          std          min        25%          50%          75%         max\n",
       "Age at Injury               398994.0    42.908502    12.927821    16.000000    32.0000    43.000000    53.000000       80.00\n",
       "Attorney/Representative     398994.0     0.315416     0.464682     0.000000     0.0000     0.000000     1.000000        1.00\n",
       "Average Weekly Wage         398994.0  1244.287122  7036.370387    17.410000   869.8025  1198.087381  1489.970000  2828079.00\n",
       "Birth Year                  398994.0  1977.938823    13.038683  1918.101209  1968.0000  1978.101209  1988.000000     2006.00\n",
       "COVID-19 Indicator          398994.0     0.048367     0.214540     0.000000     0.0000     0.000000     0.000000        1.00\n",
       "IME-4 Count                 398994.0     0.747054     1.928570     0.000000     0.0000     0.000000     0.000000       73.00\n",
       "Industry Code               398994.0    14.794842     6.791442    -1.000000     9.0000    18.000000    19.000000       23.00\n",
       "WCIO Cause of Injury Code   398994.0    53.315619    26.733636     0.000000    29.0000    56.000000    75.000000       99.00\n",
       "WCIO Nature of Injury Code  398994.0    40.191752    22.733837     0.000000    13.0000    49.000000    52.000000       91.00\n",
       "WCIO Part Of Body Code      398994.0    46.939114    23.969010     0.000000    35.0000    42.000000    55.000000      101.00\n",
       "Number of Dependents        398994.0     3.006654     2.000803     0.000000     1.0000     3.000000     5.000000        6.00\n",
       "Days_To_First_Hearing       398994.0    88.126303   265.409473  -433.000000     0.0000     0.000000    74.000000    16373.00\n",
       "Accident_Quarter            398994.0     2.494311     1.124911     1.000000     1.0000     3.000000     3.000000        4.00\n",
       "Accident_Year               398994.0  2020.837614     1.810820  1961.000000  2020.0000  2021.000000  2022.000000     2023.00\n",
       "Accident Day                398994.0     2.515579     1.822475     0.000000     1.0000     2.000000     4.000000        6.00\n",
       "Accident on Weekend         398994.0     0.157471     0.364245     0.000000     0.0000     0.000000     0.000000        1.00\n",
       "Salary_Per_Dependent        398994.0   458.948011  2044.767411     3.324286   193.3570   303.568600   556.387443   707019.75"
      ]
     },
     "execution_count": 144,
     "metadata": {},
     "output_type": "execute_result"
    }
   ],
   "source": [
    "X_train.describe().T"
   ]
  },
  {
   "cell_type": "markdown",
   "metadata": {},
   "source": [
    "These features provide comprehensive information across demographics, injury details, socioeconomics, and temporal aspects, making them well-suited to predicting claim outcomes."
   ]
  },
  {
   "cell_type": "code",
   "execution_count": 145,
   "metadata": {},
   "outputs": [
    {
     "data": {
      "text/plain": [
       "Index(['Age at Injury', 'Attorney/Representative', 'Average Weekly Wage', 'Birth Year', 'Carrier Name', 'Carrier Type', 'County of Injury', 'COVID-19 Indicator', 'District Name', 'Gender', 'IME-4 Count', 'Industry Code', 'Medical Fee Region', 'WCIO Cause of Injury Code', 'WCIO Nature of Injury Code', 'WCIO Part Of Body Code', 'Zip Code', 'Number of Dependents', 'Category Combination', 'Carrier_District_Interaction', 'Income_Category', 'Days_To_First_Hearing', 'Accident_Quarter', 'Accident_Year', 'Accident Day', 'Accident on Weekend', 'Age Group', 'promptness_category', 'promptness_C2_category', 'promptness_C3_category', 'Zip_Code_Simplified', 'Carrier Type Merged', 'Carrier_Name_Simplified', 'Body_Part_Category', 'Injury_Nature_Category', 'Injury_Cause_Category', 'Industry Risk', 'Salary_Per_Dependent'], dtype='object')"
      ]
     },
     "execution_count": 145,
     "metadata": {},
     "output_type": "execute_result"
    }
   ],
   "source": [
    "X_train.columns"
   ]
  },
  {
   "cell_type": "markdown",
   "metadata": {},
   "source": [
    "#### Analysis of `Age Group`"
   ]
  },
  {
   "cell_type": "code",
   "execution_count": 146,
   "metadata": {},
   "outputs": [
    {
     "data": {
      "text/plain": [
       "Claim Identifier\n",
       "5479022          Youth\n",
       "6023025    Young Adult\n",
       "5851908    Young Adult\n",
       "5913931     Middle Age\n",
       "5845976     Middle Age\n",
       "              ...     \n",
       "5655355         Senior\n",
       "5940234    Young Adult\n",
       "6073417     Middle Age\n",
       "5822576    Young Adult\n",
       "5566085    Young Adult\n",
       "Name: Age Group, Length: 398994, dtype: object"
      ]
     },
     "execution_count": 146,
     "metadata": {},
     "output_type": "execute_result"
    }
   ],
   "source": [
    "X_train['Age Group']"
   ]
  },
  {
   "cell_type": "markdown",
   "metadata": {},
   "source": [
    "This feature allows the model to understand age-related variations in claims, which could influence the type and nature of injuries.\n",
    "\n",
    "This structured feature selection summary provides insights into the main features, both categorical and numerical, used in the model. The focus on grouping, simplification, and categorization ensures the model captures the relevant patterns without unnecessary complexity."
   ]
  },
  {
   "cell_type": "markdown",
   "metadata": {},
   "source": [
    "### Feature Categories\n",
    "The features have been organized into three main categories: **Categorical Features**, **Binary Features**, and **Discrete Features**. Each category represents a different data type or structure, allowing for tailored preprocessing steps and analysis."
   ]
  },
  {
   "cell_type": "code",
   "execution_count": 147,
   "metadata": {},
   "outputs": [
    {
     "data": {
      "text/plain": [
       "Index(['Age at Injury', 'Attorney/Representative', 'Average Weekly Wage', 'Birth Year', 'Carrier Name', 'Carrier Type', 'County of Injury', 'COVID-19 Indicator', 'District Name', 'Gender', 'IME-4 Count', 'Industry Code', 'Medical Fee Region', 'WCIO Cause of Injury Code', 'WCIO Nature of Injury Code', 'WCIO Part Of Body Code', 'Zip Code', 'Number of Dependents', 'Category Combination', 'Carrier_District_Interaction', 'Income_Category', 'Days_To_First_Hearing', 'Accident_Quarter', 'Accident_Year', 'Accident Day', 'Accident on Weekend', 'Age Group', 'promptness_category', 'promptness_C2_category', 'promptness_C3_category', 'Zip_Code_Simplified', 'Carrier Type Merged', 'Carrier_Name_Simplified', 'Body_Part_Category', 'Injury_Nature_Category', 'Injury_Cause_Category', 'Industry Risk', 'Salary_Per_Dependent'], dtype='object')"
      ]
     },
     "execution_count": 147,
     "metadata": {},
     "output_type": "execute_result"
    }
   ],
   "source": [
    "X_train.columns"
   ]
  },
  {
   "cell_type": "code",
   "execution_count": 148,
   "metadata": {},
   "outputs": [
    {
     "name": "stdout",
     "output_type": "stream",
     "text": [
      "Categorical Features: ['Carrier Name', 'Carrier Type', 'County of Injury', 'District Name', 'Gender', 'IME-4 Count', 'Industry Code', 'Medical Fee Region', 'WCIO Cause of Injury Code', 'WCIO Nature of Injury Code', 'WCIO Part Of Body Code', 'Zip Code', 'Carrier_District_Interaction', 'Income_Category', 'Age Group', 'promptness_category', 'promptness_C2_category', 'promptness_C3_category', 'Zip_Code_Simplified', 'Carrier Type Merged', 'Carrier_Name_Simplified', 'Body_Part_Category', 'Injury_Nature_Category', 'Injury_Cause_Category', 'Industry Risk']\n",
      "Binary Features: ['Attorney/Representative', 'COVID-19 Indicator', 'Accident on Weekend']\n",
      "Discrete Features: ['Number of Dependents', 'IME-4 Count', 'Accident_Quarter', 'Accident_Year', 'Accident Day']\n",
      "Continuous Features: ['Days_To_First_Hearing', 'Average Weekly Wage', 'Age at Injury', 'Salary_Per_Dependent']\n"
     ]
    }
   ],
   "source": [
    "# Updating the feature categories with the new columns created\n",
    "categorical_columns = ['Carrier Name', 'Carrier Type', 'County of Injury',\n",
    "       'District Name', 'Gender', 'IME-4 Count',\n",
    "       'Industry Code', 'Medical Fee Region', 'WCIO Cause of Injury Code',\n",
    "       'WCIO Nature of Injury Code', 'WCIO Part Of Body Code', 'Zip Code',\n",
    "    'Carrier_District_Interaction',\n",
    "       'Income_Category', 'Age Group',\n",
    "       'promptness_category', 'promptness_C2_category','promptness_C3_category', 'Zip_Code_Simplified',\n",
    "       'Carrier Type Merged', 'Carrier_Name_Simplified', 'Body_Part_Category',\n",
    "       'Injury_Nature_Category', 'Injury_Cause_Category', 'Industry Risk',\n",
    "]\n",
    "\n",
    "binary_columns = [\n",
    "    'Attorney/Representative', 'COVID-19 Indicator',\n",
    "     'Accident on Weekend'\n",
    "]\n",
    "\n",
    "discrete_columns = [ 'Number of Dependents', 'IME-4 Count',\n",
    "    'Accident_Quarter', 'Accident_Year', 'Accident Day'\n",
    "]\n",
    "\n",
    "continuous_columns = ['Days_To_First_Hearing','Average Weekly Wage','Age at Injury',\n",
    "                      'Salary_Per_Dependent'\n",
    "                      ]\n",
    "\n",
    "# Printing the feature categories\n",
    "print(\"Categorical Features:\", categorical_columns)\n",
    "print(\"Binary Features:\", binary_columns)\n",
    "print(\"Discrete Features:\", discrete_columns)\n",
    "print(\"Continuous Features:\", continuous_columns)"
   ]
  },
  {
   "cell_type": "markdown",
   "metadata": {},
   "source": [
    "## 4.1. Preparing Data</b> <a class=\"anchor\" id=\"section_4_1\"></a>\n",
    "### Converting Discrete Columns to Integer\n",
    "In this step, we ensure all discrete columns are converted to integer data types across the training, validation, and test datasets. This is crucial for consistent data handling and processing in subsequent steps."
   ]
  },
  {
   "cell_type": "code",
   "execution_count": 149,
   "metadata": {},
   "outputs": [],
   "source": [
    "# Convert discrete columns to integer\n",
    "for column in discrete_columns:\n",
    "    X_train[column] = X_train[column].astype(int)\n",
    "    X_val[column] = X_val[column].astype(int)\n",
    "    df_test[column] = df_test[column].astype(int)"
   ]
  },
  {
   "cell_type": "markdown",
   "metadata": {},
   "source": [
    "### Scaling Features\n",
    "We apply the RobustScaler to the discrete columns. RobustScaler is beneficial for data containing outliers, as it scales data based on the median and interquartile range. This helps normalize the distribution without being heavily affected by outliers. We also use the same scaler to transform validation and test data."
   ]
  },
  {
   "cell_type": "code",
   "execution_count": 150,
   "metadata": {},
   "outputs": [
    {
     "data": {
      "text/html": [
       "<div>\n",
       "<style scoped>\n",
       "    .dataframe tbody tr th:only-of-type {\n",
       "        vertical-align: middle;\n",
       "    }\n",
       "\n",
       "    .dataframe tbody tr th {\n",
       "        vertical-align: top;\n",
       "    }\n",
       "\n",
       "    .dataframe thead th {\n",
       "        text-align: right;\n",
       "    }\n",
       "</style>\n",
       "<table border=\"1\" class=\"dataframe\">\n",
       "  <thead>\n",
       "    <tr style=\"text-align: right;\">\n",
       "      <th></th>\n",
       "      <th>Number of Dependents</th>\n",
       "      <th>IME-4 Count</th>\n",
       "      <th>Accident_Quarter</th>\n",
       "      <th>Accident_Year</th>\n",
       "      <th>Accident Day</th>\n",
       "      <th>Days_To_First_Hearing</th>\n",
       "      <th>Average Weekly Wage</th>\n",
       "      <th>Age at Injury</th>\n",
       "      <th>Salary_Per_Dependent</th>\n",
       "    </tr>\n",
       "    <tr>\n",
       "      <th>Claim Identifier</th>\n",
       "      <th></th>\n",
       "      <th></th>\n",
       "      <th></th>\n",
       "      <th></th>\n",
       "      <th></th>\n",
       "      <th></th>\n",
       "      <th></th>\n",
       "      <th></th>\n",
       "      <th></th>\n",
       "    </tr>\n",
       "  </thead>\n",
       "  <tbody>\n",
       "    <tr>\n",
       "      <th>5479022</th>\n",
       "      <td>0.500000</td>\n",
       "      <td>0.000000</td>\n",
       "      <td>0.333333</td>\n",
       "      <td>0.951613</td>\n",
       "      <td>0.166667</td>\n",
       "      <td>0.025765</td>\n",
       "      <td>0.000282</td>\n",
       "      <td>0.125000</td>\n",
       "      <td>0.000284</td>\n",
       "    </tr>\n",
       "    <tr>\n",
       "      <th>6023025</th>\n",
       "      <td>0.333333</td>\n",
       "      <td>0.054795</td>\n",
       "      <td>0.333333</td>\n",
       "      <td>0.983871</td>\n",
       "      <td>0.166667</td>\n",
       "      <td>0.032369</td>\n",
       "      <td>0.000382</td>\n",
       "      <td>0.312500</td>\n",
       "      <td>0.000512</td>\n",
       "    </tr>\n",
       "    <tr>\n",
       "      <th>5851908</th>\n",
       "      <td>0.500000</td>\n",
       "      <td>0.027397</td>\n",
       "      <td>0.333333</td>\n",
       "      <td>0.967742</td>\n",
       "      <td>0.333333</td>\n",
       "      <td>0.065869</td>\n",
       "      <td>0.000214</td>\n",
       "      <td>0.390625</td>\n",
       "      <td>0.000216</td>\n",
       "    </tr>\n",
       "    <tr>\n",
       "      <th>5913931</th>\n",
       "      <td>0.166667</td>\n",
       "      <td>0.027397</td>\n",
       "      <td>0.000000</td>\n",
       "      <td>0.983871</td>\n",
       "      <td>0.500000</td>\n",
       "      <td>0.042663</td>\n",
       "      <td>0.000362</td>\n",
       "      <td>0.671875</td>\n",
       "      <td>0.000732</td>\n",
       "    </tr>\n",
       "  </tbody>\n",
       "</table>\n",
       "</div>"
      ],
      "text/plain": [
       "                  Number of Dependents  IME-4 Count  Accident_Quarter  Accident_Year  Accident Day  Days_To_First_Hearing  Average Weekly Wage  Age at Injury  Salary_Per_Dependent\n",
       "Claim Identifier                                                                                                                                                                   \n",
       "5479022                       0.500000     0.000000          0.333333       0.951613      0.166667               0.025765             0.000282       0.125000              0.000284\n",
       "6023025                       0.333333     0.054795          0.333333       0.983871      0.166667               0.032369             0.000382       0.312500              0.000512\n",
       "5851908                       0.500000     0.027397          0.333333       0.967742      0.333333               0.065869             0.000214       0.390625              0.000216\n",
       "5913931                       0.166667     0.027397          0.000000       0.983871      0.500000               0.042663             0.000362       0.671875              0.000732"
      ]
     },
     "execution_count": 150,
     "metadata": {},
     "output_type": "execute_result"
    }
   ],
   "source": [
    "#scaling features\n",
    "from sklearn.preprocessing import MinMaxScaler\n",
    "feat_scaler = MinMaxScaler()\n",
    "X_train[discrete_columns + continuous_columns] = feat_scaler.fit_transform(X_train[discrete_columns + continuous_columns])\n",
    "\n",
    "X_train_num_scaled = X_train[discrete_columns + continuous_columns]\n",
    "\n",
    "#apply same transformation for val data\n",
    "X_val[discrete_columns + continuous_columns] = feat_scaler.transform(X_val[discrete_columns + continuous_columns])\n",
    "\n",
    "X_val_num_scaled = X_val[discrete_columns + continuous_columns]\n",
    "\n",
    "#apply same transformation for test data\n",
    "df_test[discrete_columns + continuous_columns] = feat_scaler.transform(df_test[discrete_columns + continuous_columns])\n",
    "df_test_num_scaled = df_test[discrete_columns + continuous_columns]\n",
    "\n",
    "#X_val, X_train\n",
    "X_train_num_scaled.head(4)"
   ]
  },
  {
   "cell_type": "markdown",
   "metadata": {},
   "source": [
    "### Variance Check After Scaling\n",
    "After scaling, we check the variance of each scaled feature to confirm that the features have been scaled properly. Lower variance after scaling indicates that data is normalized and less affected by magnitude differences."
   ]
  },
  {
   "cell_type": "code",
   "execution_count": 151,
   "metadata": {},
   "outputs": [
    {
     "data": {
      "text/plain": [
       "Number of Dependents     0.111200\n",
       "IME-4 Count              0.000698\n",
       "Accident_Quarter         0.140603\n",
       "Accident_Year            0.000853\n",
       "Accident Day             0.092262\n",
       "Days_To_First_Hearing    0.000249\n",
       "Average Weekly Wage      0.000006\n",
       "Age at Injury            0.040803\n",
       "Salary_Per_Dependent     0.000008\n",
       "dtype: float64"
      ]
     },
     "execution_count": 151,
     "metadata": {},
     "output_type": "execute_result"
    }
   ],
   "source": [
    "# Check variance of scaled data\n",
    "X_train_num_scaled.var()"
   ]
  },
  {
   "cell_type": "markdown",
   "metadata": {},
   "source": [
    "The output shows the variance of each discrete column in the scaled training set. These values help validate that the scaling process has achieved a consistent data distribution across features."
   ]
  },
  {
   "cell_type": "markdown",
   "metadata": {},
   "source": [
    " ## 4.2. Numerical Features</b> <a class=\"anchor\" id=\"section_4_2\"></a>"
   ]
  },
  {
   "cell_type": "markdown",
   "metadata": {},
   "source": [
    " > ### 4.2.1. Spearman and Pearson correlation matrix <a class=\"anchor\" id=\"sub_section_4_2_1\"></a>\n",
    "\n",
    "To better understand the relationships between numerical features, we generate Spearman and Pearson correlation matrices. Correlation matrices help identify linear and monotonic relationships between variables, which can be useful in feature selection and engineering."
   ]
  },
  {
   "cell_type": "markdown",
   "metadata": {},
   "source": [
    "##### Correlation Heatmap Function\n",
    "The `cor_heatmap` function displays a heatmap of a given correlation matrix. We set various visual parameters to enhance readability:\n",
    "- **figsize**: Sets the figure size.\n",
    "- **cmap**: Chooses the color palette ('viridis').\n",
    "- **mask**: Hides the upper triangle of the matrix for clarity."
   ]
  },
  {
   "cell_type": "code",
   "execution_count": 152,
   "metadata": {},
   "outputs": [],
   "source": [
    "from utils import cor_heatmap"
   ]
  },
  {
   "cell_type": "markdown",
   "metadata": {},
   "source": [
    "#### Spearman Correlation Calculation and Plotting\n",
    "Here, we calculate the Spearman correlation on the scaled numerical features and then plot the resulting matrix."
   ]
  },
  {
   "cell_type": "code",
   "execution_count": 153,
   "metadata": {},
   "outputs": [
    {
     "data": {
      "image/png": "[encoded data removed]",
      "text/plain": [
       "<Figure size 1800x1200 with 2 Axes>"
      ]
     },
     "metadata": {},
     "output_type": "display_data"
    }
   ],
   "source": [
    "corr_data_numerical = X_train_num_scaled \n",
    "cor_spearman = corr_data_numerical.corr(method='spearman')\n",
    "\n",
    "cor_heatmap(cor_spearman, 'Spearman')"
   ]
  },
  {
   "cell_type": "code",
   "execution_count": 154,
   "metadata": {},
   "outputs": [
    {
     "data": {
      "image/png": "[encoded data removed]",
      "text/plain": [
       "<Figure size 1800x1200 with 2 Axes>"
      ]
     },
     "metadata": {},
     "output_type": "display_data"
    }
   ],
   "source": [
    "cor_pearson = corr_data_numerical.corr(method='pearson')\n",
    "\n",
    "cor_heatmap(cor_pearson, 'Pearson')"
   ]
  },
  {
   "cell_type": "markdown",
   "metadata": {},
   "source": [
    "> ### 4.2.2. LASSO Regression <a class=\"anchor\" id=\"sub_section_4_2_2\"></a>\n",
    "\n",
    " The LASSO (Least Absolute Shrinkage and Selection Operator) regression is used here for feature selection by fitting a model to the standardized dataset and analyzing the coefficients."
   ]
  },
  {
   "cell_type": "code",
   "execution_count": 155,
   "metadata": {},
   "outputs": [
    {
     "data": {
      "text/plain": [
       "Accident_Quarter         -0.026670\n",
       "Accident Day             -0.006687\n",
       "Number of Dependents     -0.001388\n",
       "Average Weekly Wage       0.000000\n",
       "Age at Injury             0.296662\n",
       "Accident_Year             0.595072\n",
       "Salary_Per_Dependent      0.807858\n",
       "Days_To_First_Hearing    14.538486\n",
       "IME-4 Count              16.109199\n",
       "dtype: float64"
      ]
     },
     "execution_count": 155,
     "metadata": {},
     "output_type": "execute_result"
    }
   ],
   "source": [
    "# Fit regression\n",
    "reg = LassoCV().fit(X_train_num_scaled, y_train_encoded)\n",
    "#get coefficients\n",
    "coef = pd.Series(reg.coef_, index = X_train_num_scaled.columns)\n",
    "# Sort coefficients to observe importance\n",
    "coef.sort_values()"
   ]
  },
  {
   "cell_type": "markdown",
   "metadata": {},
   "source": [
    "**Observations:**\n",
    "\n",
    "The LASSO model assigns non-zero coefficients only to the features it considers important.\n",
    "\n",
    "IME-4 Count has the highest positive coefficient, indicating a strong positive relationship with the target variable, as well as Days_To_First_Hearing\n",
    "\n",
    "\n",
    "Accident Day and Accident Quarter have smaller negative coefficients, implying a weaker inverse relationship with the target.\n",
    "\n",
    "Average Weekly Wage and Number of Dependents has close to zero impact, suggesting it may not be a significant predictor in the model."
   ]
  },
  {
   "cell_type": "code",
   "execution_count": 156,
   "metadata": {},
   "outputs": [],
   "source": [
    "from utils import plot_importance, cor_heatmap"
   ]
  },
  {
   "cell_type": "markdown",
   "metadata": {},
   "source": [
    "This function generates a horizontal bar plot of the feature importance values derived from the LASSO model, helping to visualize which features are prioritized by the model."
   ]
  },
  {
   "cell_type": "code",
   "execution_count": 157,
   "metadata": {},
   "outputs": [
    {
     "data": {
      "image/png": "[encoded data removed]",
      "text/plain": [
       "<Figure size 300x500 with 1 Axes>"
      ]
     },
     "metadata": {},
     "output_type": "display_data"
    }
   ],
   "source": [
    "plot_importance(coef,'Lasso')"
   ]
  },
  {
   "cell_type": "markdown",
   "metadata": {},
   "source": [
    "> ### 4.2.3. Recursive Feature Elimination - RFE <a class=\"anchor\" id=\"sub_section_4_2_3\"></a>\n",
    "\n",
    " RFE is employed here to further validate the important features as identified by LASSO. By sequentially removing the least important features, RFE helps to refine the feature set."
   ]
  },
  {
   "cell_type": "markdown",
   "metadata": {},
   "source": [
    "Observations:\n",
    "The selected features after RFE likely overlap with those identified by LASSO, suggesting consistency in feature importance.\n",
    "Using both LASSO and RFE provides a more robust feature selection by cross-validating the importance of individual features."
   ]
  },
  {
   "cell_type": "markdown",
   "metadata": {},
   "source": [
    "This block of code performs RFE to identify the best subset of features by iterating over a range of feature numbers. The code aims to maximize model performance on the validation set."
   ]
  },
  {
   "cell_type": "code",
   "execution_count": null,
   "metadata": {},
   "outputs": [
    {
     "name": "stdout",
     "output_type": "stream",
     "text": [
      "Optimum number of features: 2\n",
      "F1 Macro Score with 2 features: 0.483851\n",
      "Optimal number of features: 2\n",
      "Best F1 Macro score: 0.4838505943263986\n",
      "F1 Macro scores for each feature count: [0.48378754165429627, 0.4838505943263986, 0.480181130066159, 0.48016381453591717, 0.4803235871366873, 0.48171288936050244, 0.4816362753235078, 0.4816593989269552, 0.4815982991182837]\n"
     ]
    }
   ],
   "source": [
    "# RFE using Logistic Regression\n",
    "model = LogisticRegression()\n",
    "\n",
    "\n",
    "#Use the function defined in utils.py\n",
    "best_features, best_score, scores = find_optimal_features_with_rfe(\n",
    "    model, \n",
    "    X_train_num_scaled, \n",
    "    y_train_encoded, \n",
    "    X_val_num_scaled, \n",
    "    y_val_encoded,\n",
    "    max_features=9\n",
    ")\n"
   ]
  },
  {
   "cell_type": "markdown",
   "metadata": {},
   "source": [
    "**Observations:**\n",
    "\n",
    "The loop evaluates models with 1 to 9 features, tracking the score for each.\n",
    "\n",
    "The output indicates that 2 features yielded the highest validation f1_score score of 0.483851."
   ]
  },
  {
   "cell_type": "markdown",
   "metadata": {},
   "source": [
    "#### Applying RFE with the Optimal Number of Features\n",
    "Once the optimal number of features is identified, the RFE model is finalized with this configuration."
   ]
  },
  {
   "cell_type": "code",
   "execution_count": 158,
   "metadata": {},
   "outputs": [],
   "source": [
    "#rfscv- to select 1st the number of features we should select\n",
    "model = LogisticRegression()\n",
    "rfe = RFE(estimator = model, n_features_to_select = 2)"
   ]
  },
  {
   "cell_type": "code",
   "execution_count": 159,
   "metadata": {},
   "outputs": [],
   "source": [
    "X_rfe= rfe.fit_transform(X=X_train_num_scaled, y=y_train_encoded)"
   ]
  },
  {
   "cell_type": "markdown",
   "metadata": {},
   "source": [
    "This shows the results of the feature selection process, listing the features selected by RFE. The code snippet confirms which features were selected as relevant by the RFE model and displays them in a boolean Series, where True indicates the feature was selected and False means it was not."
   ]
  },
  {
   "cell_type": "code",
   "execution_count": 160,
   "metadata": {},
   "outputs": [
    {
     "data": {
      "text/plain": [
       "Number of Dependents     False\n",
       "IME-4 Count               True\n",
       "Accident_Quarter         False\n",
       "Accident_Year            False\n",
       "Accident Day             False\n",
       "Days_To_First_Hearing     True\n",
       "Average Weekly Wage      False\n",
       "Age at Injury            False\n",
       "Salary_Per_Dependent     False\n",
       "dtype: bool"
      ]
     },
     "execution_count": 160,
     "metadata": {},
     "output_type": "execute_result"
    }
   ],
   "source": [
    "selected_features = pd.Series(rfe.support_, index = X_train_num_scaled.columns)\n",
    "selected_features"
   ]
  },
  {
   "cell_type": "markdown",
   "metadata": {},
   "source": [
    "> ### 4.2.4. Feature Importance - Decision Tree <a class=\"anchor\" id=\"sub_section_4_2_4\"></a>\n"
   ]
  },
  {
   "cell_type": "code",
   "execution_count": 161,
   "metadata": {},
   "outputs": [],
   "source": [
    "from utils import compare_feature_importances\n"
   ]
  },
  {
   "cell_type": "code",
   "execution_count": 162,
   "metadata": {},
   "outputs": [
    {
     "data": {
      "image/png": "[encoded data removed]",
      "text/plain": [
       "<Figure size 1300x500 with 1 Axes>"
      ]
     },
     "metadata": {},
     "output_type": "display_data"
    },
    {
     "name": "stdout",
     "output_type": "stream",
     "text": [
      "       gini   entropy                   col\n",
      "0  0.030819  0.028004  Number of Dependents\n",
      "1  0.183937  0.184513           IME-4 Count\n",
      "2  0.050574  0.052362      Accident_Quarter\n",
      "3  0.037144  0.039016         Accident_Year\n",
      "4  0.074099  0.079065          Accident Day\n"
     ]
    }
   ],
   "source": [
    "# Call the function with your training data\n",
    "zippy = compare_feature_importances(X_train_num_scaled, y_train_encoded)\n",
    "\n",
    "# Access the DataFrame for further analysis if needed\n",
    "print(zippy.head())"
   ]
  },
  {
   "cell_type": "markdown",
   "metadata": {},
   "source": [
    "> ### 4.2.5. Feature Importance - Random Forest <a class=\"anchor\" id=\"sub_section_4_2_5\"></a>"
   ]
  },
  {
   "cell_type": "code",
   "execution_count": 163,
   "metadata": {},
   "outputs": [
    {
     "ename": "KeyboardInterrupt",
     "evalue": "",
     "output_type": "error",
     "traceback": [
      "\u001b[1;31m---------------------------------------------------------------------------\u001b[0m",
      "\u001b[1;31mKeyboardInterrupt\u001b[0m                         Traceback (most recent call last)",
      "Cell \u001b[1;32mIn[163], line 2\u001b[0m\n\u001b[0;32m      1\u001b[0m \u001b[38;5;66;03m# Call the function with your training data\u001b[39;00m\n\u001b[1;32m----> 2\u001b[0m importances \u001b[38;5;241m=\u001b[39m compare_rf_feature_importances(X_train_num_scaled, y_train_encoded)\n\u001b[0;32m      4\u001b[0m \u001b[38;5;66;03m# Access the DataFrame for further analysis if needed\u001b[39;00m\n\u001b[0;32m      5\u001b[0m \u001b[38;5;28mprint\u001b[39m(importances\u001b[38;5;241m.\u001b[39mhead())\n",
      "File \u001b[1;32mc:\\Users\\migue\\OneDrive\\Documentos\\GitHub\\Machine_Learning_project\\Deliverables\\utils.py:267\u001b[0m, in \u001b[0;36mcompare_rf_feature_importances\u001b[1;34m(X_train, y_train, figsize, random_state)\u001b[0m\n\u001b[0;32m    265\u001b[0m \u001b[38;5;66;03m# Calculate feature importances using Gini and Entropy criteria\u001b[39;00m\n\u001b[0;32m    266\u001b[0m gini_importance \u001b[38;5;241m=\u001b[39m RandomForestClassifier(random_state\u001b[38;5;241m=\u001b[39mrandom_state)\u001b[38;5;241m.\u001b[39mfit(X_train, y_train)\u001b[38;5;241m.\u001b[39mfeature_importances_\n\u001b[1;32m--> 267\u001b[0m entropy_importance \u001b[38;5;241m=\u001b[39m RandomForestClassifier(criterion\u001b[38;5;241m=\u001b[39m\u001b[38;5;124m'\u001b[39m\u001b[38;5;124mentropy\u001b[39m\u001b[38;5;124m'\u001b[39m, random_state\u001b[38;5;241m=\u001b[39mrandom_state)\u001b[38;5;241m.\u001b[39mfit(X_train, y_train)\u001b[38;5;241m.\u001b[39mfeature_importances_\n\u001b[0;32m    269\u001b[0m \u001b[38;5;66;03m# Create a DataFrame to store and organize the feature importances\u001b[39;00m\n\u001b[0;32m    270\u001b[0m importances \u001b[38;5;241m=\u001b[39m pd\u001b[38;5;241m.\u001b[39mDataFrame({\n\u001b[0;32m    271\u001b[0m     \u001b[38;5;124m'\u001b[39m\u001b[38;5;124mgini\u001b[39m\u001b[38;5;124m'\u001b[39m: gini_importance,\n\u001b[0;32m    272\u001b[0m     \u001b[38;5;124m'\u001b[39m\u001b[38;5;124mentropy\u001b[39m\u001b[38;5;124m'\u001b[39m: entropy_importance,\n\u001b[0;32m    273\u001b[0m     \u001b[38;5;124m'\u001b[39m\u001b[38;5;124mcol\u001b[39m\u001b[38;5;124m'\u001b[39m: X_train\u001b[38;5;241m.\u001b[39mcolumns\n\u001b[0;32m    274\u001b[0m })\n",
      "File \u001b[1;32mc:\\Users\\migue\\anaconda3\\anaconda31\\Lib\\site-packages\\sklearn\\base.py:1473\u001b[0m, in \u001b[0;36m_fit_context.<locals>.decorator.<locals>.wrapper\u001b[1;34m(estimator, *args, **kwargs)\u001b[0m\n\u001b[0;32m   1466\u001b[0m     estimator\u001b[38;5;241m.\u001b[39m_validate_params()\n\u001b[0;32m   1468\u001b[0m \u001b[38;5;28;01mwith\u001b[39;00m config_context(\n\u001b[0;32m   1469\u001b[0m     skip_parameter_validation\u001b[38;5;241m=\u001b[39m(\n\u001b[0;32m   1470\u001b[0m         prefer_skip_nested_validation \u001b[38;5;129;01mor\u001b[39;00m global_skip_validation\n\u001b[0;32m   1471\u001b[0m     )\n\u001b[0;32m   1472\u001b[0m ):\n\u001b[1;32m-> 1473\u001b[0m     \u001b[38;5;28;01mreturn\u001b[39;00m fit_method(estimator, \u001b[38;5;241m*\u001b[39margs, \u001b[38;5;241m*\u001b[39m\u001b[38;5;241m*\u001b[39mkwargs)\n",
      "File \u001b[1;32mc:\\Users\\migue\\anaconda3\\anaconda31\\Lib\\site-packages\\sklearn\\ensemble\\_forest.py:489\u001b[0m, in \u001b[0;36mBaseForest.fit\u001b[1;34m(self, X, y, sample_weight)\u001b[0m\n\u001b[0;32m    478\u001b[0m trees \u001b[38;5;241m=\u001b[39m [\n\u001b[0;32m    479\u001b[0m     \u001b[38;5;28mself\u001b[39m\u001b[38;5;241m.\u001b[39m_make_estimator(append\u001b[38;5;241m=\u001b[39m\u001b[38;5;28;01mFalse\u001b[39;00m, random_state\u001b[38;5;241m=\u001b[39mrandom_state)\n\u001b[0;32m    480\u001b[0m     \u001b[38;5;28;01mfor\u001b[39;00m i \u001b[38;5;129;01min\u001b[39;00m \u001b[38;5;28mrange\u001b[39m(n_more_estimators)\n\u001b[0;32m    481\u001b[0m ]\n\u001b[0;32m    483\u001b[0m \u001b[38;5;66;03m# Parallel loop: we prefer the threading backend as the Cython code\u001b[39;00m\n\u001b[0;32m    484\u001b[0m \u001b[38;5;66;03m# for fitting the trees is internally releasing the Python GIL\u001b[39;00m\n\u001b[0;32m    485\u001b[0m \u001b[38;5;66;03m# making threading more efficient than multiprocessing in\u001b[39;00m\n\u001b[0;32m    486\u001b[0m \u001b[38;5;66;03m# that case. However, for joblib 0.12+ we respect any\u001b[39;00m\n\u001b[0;32m    487\u001b[0m \u001b[38;5;66;03m# parallel_backend contexts set at a higher level,\u001b[39;00m\n\u001b[0;32m    488\u001b[0m \u001b[38;5;66;03m# since correctness does not rely on using threads.\u001b[39;00m\n\u001b[1;32m--> 489\u001b[0m trees \u001b[38;5;241m=\u001b[39m Parallel(\n\u001b[0;32m    490\u001b[0m     n_jobs\u001b[38;5;241m=\u001b[39m\u001b[38;5;28mself\u001b[39m\u001b[38;5;241m.\u001b[39mn_jobs,\n\u001b[0;32m    491\u001b[0m     verbose\u001b[38;5;241m=\u001b[39m\u001b[38;5;28mself\u001b[39m\u001b[38;5;241m.\u001b[39mverbose,\n\u001b[0;32m    492\u001b[0m     prefer\u001b[38;5;241m=\u001b[39m\u001b[38;5;124m\"\u001b[39m\u001b[38;5;124mthreads\u001b[39m\u001b[38;5;124m\"\u001b[39m,\n\u001b[0;32m    493\u001b[0m )(\n\u001b[0;32m    494\u001b[0m     delayed(_parallel_build_trees)(\n\u001b[0;32m    495\u001b[0m         t,\n\u001b[0;32m    496\u001b[0m         \u001b[38;5;28mself\u001b[39m\u001b[38;5;241m.\u001b[39mbootstrap,\n\u001b[0;32m    497\u001b[0m         X,\n\u001b[0;32m    498\u001b[0m         y,\n\u001b[0;32m    499\u001b[0m         sample_weight,\n\u001b[0;32m    500\u001b[0m         i,\n\u001b[0;32m    501\u001b[0m         \u001b[38;5;28mlen\u001b[39m(trees),\n\u001b[0;32m    502\u001b[0m         verbose\u001b[38;5;241m=\u001b[39m\u001b[38;5;28mself\u001b[39m\u001b[38;5;241m.\u001b[39mverbose,\n\u001b[0;32m    503\u001b[0m         class_weight\u001b[38;5;241m=\u001b[39m\u001b[38;5;28mself\u001b[39m\u001b[38;5;241m.\u001b[39mclass_weight,\n\u001b[0;32m    504\u001b[0m         n_samples_bootstrap\u001b[38;5;241m=\u001b[39mn_samples_bootstrap,\n\u001b[0;32m    505\u001b[0m         missing_values_in_feature_mask\u001b[38;5;241m=\u001b[39mmissing_values_in_feature_mask,\n\u001b[0;32m    506\u001b[0m     )\n\u001b[0;32m    507\u001b[0m     \u001b[38;5;28;01mfor\u001b[39;00m i, t \u001b[38;5;129;01min\u001b[39;00m \u001b[38;5;28menumerate\u001b[39m(trees)\n\u001b[0;32m    508\u001b[0m )\n\u001b[0;32m    510\u001b[0m \u001b[38;5;66;03m# Collect newly grown trees\u001b[39;00m\n\u001b[0;32m    511\u001b[0m \u001b[38;5;28mself\u001b[39m\u001b[38;5;241m.\u001b[39mestimators_\u001b[38;5;241m.\u001b[39mextend(trees)\n",
      "File \u001b[1;32mc:\\Users\\migue\\anaconda3\\anaconda31\\Lib\\site-packages\\sklearn\\utils\\parallel.py:74\u001b[0m, in \u001b[0;36mParallel.__call__\u001b[1;34m(self, iterable)\u001b[0m\n\u001b[0;32m     69\u001b[0m config \u001b[38;5;241m=\u001b[39m get_config()\n\u001b[0;32m     70\u001b[0m iterable_with_config \u001b[38;5;241m=\u001b[39m (\n\u001b[0;32m     71\u001b[0m     (_with_config(delayed_func, config), args, kwargs)\n\u001b[0;32m     72\u001b[0m     \u001b[38;5;28;01mfor\u001b[39;00m delayed_func, args, kwargs \u001b[38;5;129;01min\u001b[39;00m iterable\n\u001b[0;32m     73\u001b[0m )\n\u001b[1;32m---> 74\u001b[0m \u001b[38;5;28;01mreturn\u001b[39;00m \u001b[38;5;28msuper\u001b[39m()\u001b[38;5;241m.\u001b[39m\u001b[38;5;21m__call__\u001b[39m(iterable_with_config)\n",
      "File \u001b[1;32mc:\\Users\\migue\\anaconda3\\anaconda31\\Lib\\site-packages\\joblib\\parallel.py:1918\u001b[0m, in \u001b[0;36mParallel.__call__\u001b[1;34m(self, iterable)\u001b[0m\n\u001b[0;32m   1916\u001b[0m     output \u001b[38;5;241m=\u001b[39m \u001b[38;5;28mself\u001b[39m\u001b[38;5;241m.\u001b[39m_get_sequential_output(iterable)\n\u001b[0;32m   1917\u001b[0m     \u001b[38;5;28mnext\u001b[39m(output)\n\u001b[1;32m-> 1918\u001b[0m     \u001b[38;5;28;01mreturn\u001b[39;00m output \u001b[38;5;28;01mif\u001b[39;00m \u001b[38;5;28mself\u001b[39m\u001b[38;5;241m.\u001b[39mreturn_generator \u001b[38;5;28;01melse\u001b[39;00m \u001b[38;5;28mlist\u001b[39m(output)\n\u001b[0;32m   1920\u001b[0m \u001b[38;5;66;03m# Let's create an ID that uniquely identifies the current call. If the\u001b[39;00m\n\u001b[0;32m   1921\u001b[0m \u001b[38;5;66;03m# call is interrupted early and that the same instance is immediately\u001b[39;00m\n\u001b[0;32m   1922\u001b[0m \u001b[38;5;66;03m# re-used, this id will be used to prevent workers that were\u001b[39;00m\n\u001b[0;32m   1923\u001b[0m \u001b[38;5;66;03m# concurrently finalizing a task from the previous call to run the\u001b[39;00m\n\u001b[0;32m   1924\u001b[0m \u001b[38;5;66;03m# callback.\u001b[39;00m\n\u001b[0;32m   1925\u001b[0m \u001b[38;5;28;01mwith\u001b[39;00m \u001b[38;5;28mself\u001b[39m\u001b[38;5;241m.\u001b[39m_lock:\n",
      "File \u001b[1;32mc:\\Users\\migue\\anaconda3\\anaconda31\\Lib\\site-packages\\joblib\\parallel.py:1847\u001b[0m, in \u001b[0;36mParallel._get_sequential_output\u001b[1;34m(self, iterable)\u001b[0m\n\u001b[0;32m   1845\u001b[0m \u001b[38;5;28mself\u001b[39m\u001b[38;5;241m.\u001b[39mn_dispatched_batches \u001b[38;5;241m+\u001b[39m\u001b[38;5;241m=\u001b[39m \u001b[38;5;241m1\u001b[39m\n\u001b[0;32m   1846\u001b[0m \u001b[38;5;28mself\u001b[39m\u001b[38;5;241m.\u001b[39mn_dispatched_tasks \u001b[38;5;241m+\u001b[39m\u001b[38;5;241m=\u001b[39m \u001b[38;5;241m1\u001b[39m\n\u001b[1;32m-> 1847\u001b[0m res \u001b[38;5;241m=\u001b[39m func(\u001b[38;5;241m*\u001b[39margs, \u001b[38;5;241m*\u001b[39m\u001b[38;5;241m*\u001b[39mkwargs)\n\u001b[0;32m   1848\u001b[0m \u001b[38;5;28mself\u001b[39m\u001b[38;5;241m.\u001b[39mn_completed_tasks \u001b[38;5;241m+\u001b[39m\u001b[38;5;241m=\u001b[39m \u001b[38;5;241m1\u001b[39m\n\u001b[0;32m   1849\u001b[0m \u001b[38;5;28mself\u001b[39m\u001b[38;5;241m.\u001b[39mprint_progress()\n",
      "File \u001b[1;32mc:\\Users\\migue\\anaconda3\\anaconda31\\Lib\\site-packages\\sklearn\\utils\\parallel.py:136\u001b[0m, in \u001b[0;36m_FuncWrapper.__call__\u001b[1;34m(self, *args, **kwargs)\u001b[0m\n\u001b[0;32m    134\u001b[0m     config \u001b[38;5;241m=\u001b[39m {}\n\u001b[0;32m    135\u001b[0m \u001b[38;5;28;01mwith\u001b[39;00m config_context(\u001b[38;5;241m*\u001b[39m\u001b[38;5;241m*\u001b[39mconfig):\n\u001b[1;32m--> 136\u001b[0m     \u001b[38;5;28;01mreturn\u001b[39;00m \u001b[38;5;28mself\u001b[39m\u001b[38;5;241m.\u001b[39mfunction(\u001b[38;5;241m*\u001b[39margs, \u001b[38;5;241m*\u001b[39m\u001b[38;5;241m*\u001b[39mkwargs)\n",
      "File \u001b[1;32mc:\\Users\\migue\\anaconda3\\anaconda31\\Lib\\site-packages\\sklearn\\ensemble\\_forest.py:192\u001b[0m, in \u001b[0;36m_parallel_build_trees\u001b[1;34m(tree, bootstrap, X, y, sample_weight, tree_idx, n_trees, verbose, class_weight, n_samples_bootstrap, missing_values_in_feature_mask)\u001b[0m\n\u001b[0;32m    189\u001b[0m     \u001b[38;5;28;01melif\u001b[39;00m class_weight \u001b[38;5;241m==\u001b[39m \u001b[38;5;124m\"\u001b[39m\u001b[38;5;124mbalanced_subsample\u001b[39m\u001b[38;5;124m\"\u001b[39m:\n\u001b[0;32m    190\u001b[0m         curr_sample_weight \u001b[38;5;241m*\u001b[39m\u001b[38;5;241m=\u001b[39m compute_sample_weight(\u001b[38;5;124m\"\u001b[39m\u001b[38;5;124mbalanced\u001b[39m\u001b[38;5;124m\"\u001b[39m, y, indices\u001b[38;5;241m=\u001b[39mindices)\n\u001b[1;32m--> 192\u001b[0m     tree\u001b[38;5;241m.\u001b[39m_fit(\n\u001b[0;32m    193\u001b[0m         X,\n\u001b[0;32m    194\u001b[0m         y,\n\u001b[0;32m    195\u001b[0m         sample_weight\u001b[38;5;241m=\u001b[39mcurr_sample_weight,\n\u001b[0;32m    196\u001b[0m         check_input\u001b[38;5;241m=\u001b[39m\u001b[38;5;28;01mFalse\u001b[39;00m,\n\u001b[0;32m    197\u001b[0m         missing_values_in_feature_mask\u001b[38;5;241m=\u001b[39mmissing_values_in_feature_mask,\n\u001b[0;32m    198\u001b[0m     )\n\u001b[0;32m    199\u001b[0m \u001b[38;5;28;01melse\u001b[39;00m:\n\u001b[0;32m    200\u001b[0m     tree\u001b[38;5;241m.\u001b[39m_fit(\n\u001b[0;32m    201\u001b[0m         X,\n\u001b[0;32m    202\u001b[0m         y,\n\u001b[1;32m   (...)\u001b[0m\n\u001b[0;32m    205\u001b[0m         missing_values_in_feature_mask\u001b[38;5;241m=\u001b[39mmissing_values_in_feature_mask,\n\u001b[0;32m    206\u001b[0m     )\n",
      "File \u001b[1;32mc:\\Users\\migue\\anaconda3\\anaconda31\\Lib\\site-packages\\sklearn\\tree\\_classes.py:472\u001b[0m, in \u001b[0;36mBaseDecisionTree._fit\u001b[1;34m(self, X, y, sample_weight, check_input, missing_values_in_feature_mask)\u001b[0m\n\u001b[0;32m    461\u001b[0m \u001b[38;5;28;01melse\u001b[39;00m:\n\u001b[0;32m    462\u001b[0m     builder \u001b[38;5;241m=\u001b[39m BestFirstTreeBuilder(\n\u001b[0;32m    463\u001b[0m         splitter,\n\u001b[0;32m    464\u001b[0m         min_samples_split,\n\u001b[1;32m   (...)\u001b[0m\n\u001b[0;32m    469\u001b[0m         \u001b[38;5;28mself\u001b[39m\u001b[38;5;241m.\u001b[39mmin_impurity_decrease,\n\u001b[0;32m    470\u001b[0m     )\n\u001b[1;32m--> 472\u001b[0m builder\u001b[38;5;241m.\u001b[39mbuild(\u001b[38;5;28mself\u001b[39m\u001b[38;5;241m.\u001b[39mtree_, X, y, sample_weight, missing_values_in_feature_mask)\n\u001b[0;32m    474\u001b[0m \u001b[38;5;28;01mif\u001b[39;00m \u001b[38;5;28mself\u001b[39m\u001b[38;5;241m.\u001b[39mn_outputs_ \u001b[38;5;241m==\u001b[39m \u001b[38;5;241m1\u001b[39m \u001b[38;5;129;01mand\u001b[39;00m is_classifier(\u001b[38;5;28mself\u001b[39m):\n\u001b[0;32m    475\u001b[0m     \u001b[38;5;28mself\u001b[39m\u001b[38;5;241m.\u001b[39mn_classes_ \u001b[38;5;241m=\u001b[39m \u001b[38;5;28mself\u001b[39m\u001b[38;5;241m.\u001b[39mn_classes_[\u001b[38;5;241m0\u001b[39m]\n",
      "\u001b[1;31mKeyboardInterrupt\u001b[0m: "
     ]
    }
   ],
   "source": [
    "# Call the function with your training data\n",
    "importances = compare_rf_feature_importances(X_train_num_scaled, y_train_encoded)\n",
    "\n",
    "# Access the DataFrame for further analysis if needed\n",
    "print(importances.head())"
   ]
  },
  {
   "cell_type": "markdown",
   "metadata": {},
   "source": [
    "## 4.3. Categorical Features</b> <a class=\"anchor\" id=\"section_4_3\"></a>\n",
    "Chi-squared and MIC for the categorical ones."
   ]
  },
  {
   "cell_type": "markdown",
   "metadata": {},
   "source": [
    " > ### $\\chi ^2$ Test for Independence <a class=\"anchor\" id=\"sub_section_4_2_1\"></a>\n",
    "\n",
    " We'll apply the Chi-squared test on categorical features to check for independence. This test is suitable for categorical data and helps identify features that have significant associations with the target variable."
   ]
  },
  {
   "cell_type": "code",
   "execution_count": 164,
   "metadata": {},
   "outputs": [
    {
     "data": {
      "text/plain": [
       "['Attorney/Representative', 'COVID-19 Indicator', 'Accident on Weekend']"
      ]
     },
     "execution_count": 164,
     "metadata": {},
     "output_type": "execute_result"
    }
   ],
   "source": [
    "binary_columns"
   ]
  },
  {
   "cell_type": "code",
   "execution_count": 165,
   "metadata": {},
   "outputs": [],
   "source": [
    "#To make sure that we keep the preprocessed dataset without the encoded columns\n",
    "X_train_processed_copy = X_train.copy()\n",
    "X_val_processed_copy = X_val.copy()\n",
    "df_test_processed_copy = df_test.copy()"
   ]
  },
  {
   "cell_type": "code",
   "execution_count": 166,
   "metadata": {},
   "outputs": [
    {
     "data": {
      "text/plain": [
       "(398994, 38)"
      ]
     },
     "execution_count": 166,
     "metadata": {},
     "output_type": "execute_result"
    }
   ],
   "source": [
    "X_train_processed_copy.shape"
   ]
  },
  {
   "cell_type": "code",
   "execution_count": 167,
   "metadata": {},
   "outputs": [
    {
     "data": {
      "text/plain": [
       "(172208, 38)"
      ]
     },
     "execution_count": 167,
     "metadata": {},
     "output_type": "execute_result"
    }
   ],
   "source": [
    "X_val_processed_copy.shape"
   ]
  },
  {
   "cell_type": "code",
   "execution_count": 168,
   "metadata": {},
   "outputs": [
    {
     "data": {
      "text/plain": [
       "Index(['Age at Injury', 'Attorney/Representative', 'Average Weekly Wage', 'Birth Year', 'Carrier Name', 'Carrier Type', 'County of Injury', 'COVID-19 Indicator', 'District Name', 'Gender', 'IME-4 Count', 'Industry Code', 'Medical Fee Region', 'WCIO Cause of Injury Code', 'WCIO Nature of Injury Code', 'WCIO Part Of Body Code', 'Zip Code', 'Number of Dependents', 'Category Combination', 'Carrier_District_Interaction', 'Income_Category', 'Days_To_First_Hearing', 'Accident_Quarter', 'Accident_Year', 'Accident Day', 'Accident on Weekend', 'Age Group', 'promptness_category', 'promptness_C2_category', 'promptness_C3_category', 'Zip_Code_Simplified', 'Carrier Type Merged', 'Carrier_Name_Simplified', 'Body_Part_Category', 'Injury_Nature_Category', 'Injury_Cause_Category', 'Industry Risk', 'Salary_Per_Dependent'], dtype='object')"
      ]
     },
     "execution_count": 168,
     "metadata": {},
     "output_type": "execute_result"
    }
   ],
   "source": [
    "X_val_processed_copy.columns"
   ]
  },
  {
   "cell_type": "markdown",
   "metadata": {},
   "source": [
    "### Approach: Encoding Categorical Features with LabelEncoder, OneHotEncoder and Frequency encoder\n",
    "As our second approach we decided to perform different type of encoding according with each categorical variable. For ordinal features (those with an inherent order like age groups), Label Encoding is applied to assign each category a unique numerical value. For nominal features with low cardinality (few unique values), One-Hot Encoding is used to create binary columns representing each category. For high-cardinality features (many unique values like zip codes), Frequency Encoding is applied to convert categories to their frequency of occurrence, reducing dimensionality without introducing too many columns.\n",
    "\n",
    "These encoding methods are used to properly represent categorical features in a numerical format while considering their characteristics (order or cardinality), which helps models interpret them effectively."
   ]
  },
  {
   "cell_type": "code",
   "execution_count": 169,
   "metadata": {},
   "outputs": [
    {
     "data": {
      "text/plain": [
       "District Name\n",
       "NYC           188402\n",
       "ALBANY         59860\n",
       "HAUPPAUGE      42054\n",
       "BUFFALO        31613\n",
       "SYRACUSE       31149\n",
       "ROCHESTER      28041\n",
       "BINGHAMTON     15171\n",
       "STATEWIDE       2704\n",
       "Name: count, dtype: int64"
      ]
     },
     "execution_count": 169,
     "metadata": {},
     "output_type": "execute_result"
    }
   ],
   "source": [
    "X_train_processed_copy['District Name'].value_counts()"
   ]
  },
  {
   "cell_type": "code",
   "execution_count": 170,
   "metadata": {},
   "outputs": [
    {
     "name": "stdout",
     "output_type": "stream",
     "text": [
      "promptness_category               1817\n",
      "promptness_C2_category            1175\n",
      "promptness_C3_category            1127\n",
      "Age Group                            0\n",
      "Income_Category                      0\n",
      "Industry Risk                        0\n",
      "Gender                               0\n",
      "Medical Fee Region                   0\n",
      "Body_Part_Category              172208\n",
      "Injury_Nature_Category            4701\n",
      "Injury_Cause_Category             4695\n",
      "Carrier_Name_Simplified              0\n",
      "Zip_Code_Simplified                  0\n",
      "Industry Code                        0\n",
      "County of Injury                     0\n",
      "Carrier Type Merged                  0\n",
      "WCIO Cause of Injury Code            0\n",
      "WCIO Nature of Injury Code           0\n",
      "WCIO Part Of Body Code               0\n",
      "Carrier_District_Interaction         0\n",
      "District Name                        0\n",
      "dtype: int64\n"
     ]
    }
   ],
   "source": [
    "\n",
    "\n",
    "# Example columns to encode\n",
    "ordinal_features = ['promptness_category', 'promptness_C2_category','promptness_C3_category', 'Age Group', 'Income_Category', 'Industry Risk']\n",
    "low_cardinality_cols = ['Gender', 'Medical Fee Region','Body_Part_Category',\n",
    "       'Injury_Nature_Category', 'Injury_Cause_Category']\n",
    "high_cardinality_cols = ['Carrier_Name_Simplified', 'Zip_Code_Simplified', 'Industry Code', 'County of Injury', 'Carrier Type Merged',\n",
    "                         'WCIO Cause of Injury Code', 'WCIO Nature of Injury Code', 'WCIO Part Of Body Code','Carrier_District_Interaction', 'District Name']\n",
    "\n",
    "\n",
    "# Check for NaN or nulls\n",
    "print(X_val_processed_copy[ordinal_features + low_cardinality_cols + high_cardinality_cols].isnull().sum())"
   ]
  },
  {
   "cell_type": "code",
   "execution_count": 171,
   "metadata": {},
   "outputs": [
    {
     "name": "stdout",
     "output_type": "stream",
     "text": [
      "Age at Injury                   0\n",
      "Attorney/Representative         0\n",
      "Average Weekly Wage             0\n",
      "Birth Year                      0\n",
      "Carrier Name                    0\n",
      "Carrier Type                    0\n",
      "County of Injury                0\n",
      "COVID-19 Indicator              0\n",
      "District Name                   0\n",
      "Gender                          0\n",
      "IME-4 Count                     0\n",
      "Industry Code                   0\n",
      "Medical Fee Region              0\n",
      "WCIO Cause of Injury Code       0\n",
      "WCIO Nature of Injury Code      0\n",
      "WCIO Part Of Body Code          0\n",
      "Zip Code                        1\n",
      "Number of Dependents            0\n",
      "Category Combination            0\n",
      "Carrier_District_Interaction    0\n",
      "Income_Category                 0\n",
      "Days_To_First_Hearing           0\n",
      "Accident_Quarter                0\n",
      "Accident_Year                   0\n",
      "Accident Day                    0\n",
      "Accident on Weekend             0\n",
      "Age Group                       0\n",
      "promptness_category             0\n",
      "promptness_C2_category          0\n",
      "promptness_C3_category          0\n",
      "Zip_Code_Simplified             0\n",
      "Carrier Type Merged             0\n",
      "Carrier_Name_Simplified         0\n",
      "Body_Part_Category              0\n",
      "Injury_Nature_Category          0\n",
      "Injury_Cause_Category           0\n",
      "Industry Risk                   0\n",
      "Salary_Per_Dependent            0\n",
      "dtype: int64\n",
      "Age at Injury                   0\n",
      "Attorney/Representative         0\n",
      "Average Weekly Wage             0\n",
      "Birth Year                      0\n",
      "Carrier Name                    0\n",
      "Carrier Type                    0\n",
      "County of Injury                0\n",
      "COVID-19 Indicator              0\n",
      "District Name                   0\n",
      "Gender                          0\n",
      "IME-4 Count                     0\n",
      "Industry Code                   0\n",
      "Medical Fee Region              0\n",
      "WCIO Cause of Injury Code       0\n",
      "WCIO Nature of Injury Code      0\n",
      "WCIO Part Of Body Code          0\n",
      "Zip Code                        0\n",
      "Number of Dependents            0\n",
      "Category Combination            0\n",
      "Carrier_District_Interaction    0\n",
      "Income_Category                 0\n",
      "Days_To_First_Hearing           0\n",
      "Accident_Quarter                0\n",
      "Accident_Year                   0\n",
      "Accident Day                    0\n",
      "Accident on Weekend             0\n",
      "Age Group                       0\n",
      "promptness_category             0\n",
      "promptness_C2_category          0\n",
      "promptness_C3_category          0\n",
      "Zip_Code_Simplified             0\n",
      "Carrier Type Merged             0\n",
      "Carrier_Name_Simplified         0\n",
      "Body_Part_Category              0\n",
      "Injury_Nature_Category          0\n",
      "Injury_Cause_Category           0\n",
      "Industry Risk                   0\n",
      "Salary_Per_Dependent            0\n",
      "dtype: int64\n",
      "Claim Identifier                0\n",
      "Age at Injury                   0\n",
      "Attorney/Representative         0\n",
      "Average Weekly Wage             0\n",
      "Birth Year                      0\n",
      "Carrier Name                    0\n",
      "Carrier Type                    0\n",
      "County of Injury                0\n",
      "COVID-19 Indicator              0\n",
      "District Name                   0\n",
      "Gender                          0\n",
      "IME-4 Count                     0\n",
      "Industry Code                   0\n",
      "Medical Fee Region              0\n",
      "WCIO Cause of Injury Code       0\n",
      "WCIO Nature of Injury Code      0\n",
      "WCIO Part Of Body Code          0\n",
      "Zip Code                        0\n",
      "Number of Dependents            0\n",
      "Carrier_District_Interaction    0\n",
      "Income_Category                 0\n",
      "Days_To_First_Hearing           0\n",
      "Accident_Quarter                0\n",
      "Accident_Year                   0\n",
      "Accident Day                    0\n",
      "Accident on Weekend             0\n",
      "Age Group                       0\n",
      "promptness_category             0\n",
      "promptness_C2_category          0\n",
      "promptness_C3_category          0\n",
      "Zip_Code_Simplified             0\n",
      "Carrier Type Merged             0\n",
      "Carrier_Name_Simplified         0\n",
      "Body_Part_Category              0\n",
      "Injury_Nature_Category          0\n",
      "Injury_Cause_Category           0\n",
      "Industry Risk                   0\n",
      "Salary_Per_Dependent            0\n",
      "dtype: int64\n"
     ]
    }
   ],
   "source": [
    "#por agora antes de descobrir o erro\n",
    "\n",
    "# Substituir os valores NaN pela moda de cada coluna\n",
    "\n",
    "# Substituir NaNs por moda no conjunto de treino, validação e teste\n",
    "for col in ordinal_features + low_cardinality_cols + high_cardinality_cols:\n",
    "    # Calcular a moda da coluna no conjunto de treino\n",
    "    moda = X_train_processed_copy[col].mode()[0]\n",
    "    \n",
    "    # Substituir NaNs nos três conjuntos de dados pela moda calculada\n",
    "    X_train_processed_copy[col] = X_train_processed_copy[col].fillna(moda)\n",
    "    X_val_processed_copy[col] = X_val_processed_copy[col].fillna(moda)\n",
    "    df_test_processed_copy[col] = df_test_processed_copy[col].fillna(moda)\n",
    "\n",
    "# Verificar se ainda existem valores ausentes\n",
    "print(X_train_processed_copy.isnull().sum())\n",
    "print(X_val_processed_copy.isnull().sum())\n",
    "print(df_test_processed_copy.isnull().sum())"
   ]
  },
  {
   "cell_type": "code",
   "execution_count": 172,
   "metadata": {},
   "outputs": [
    {
     "data": {
      "text/plain": [
       "Industry Risk\n",
       "Unknown Risk    293128\n",
       "High Risk        85111\n",
       "Medium Risk       9736\n",
       "Name: count, dtype: int64"
      ]
     },
     "execution_count": 172,
     "metadata": {},
     "output_type": "execute_result"
    }
   ],
   "source": [
    "df_test_processed_copy['Industry Risk'].value_counts()"
   ]
  },
  {
   "cell_type": "code",
   "execution_count": 173,
   "metadata": {},
   "outputs": [],
   "source": [
    "# #por agoraaaaaaaaaa\n",
    "\n",
    "# # Obter o valor mais frequente (moda) da coluna 'Industry Risk' no conjunto de treino\n",
    "# most_frequent_value = X_train_processed_copy['Industry Risk'].mode()[0]\n",
    "\n",
    "# # Substituir 'Unknown Risk' por esse valor no conjunto de teste\n",
    "# df_test_processed_copy['Industry Risk'] = df_test_processed_copy['Industry Risk'].replace('Unknown Risk', most_frequent_value)"
   ]
  },
  {
   "cell_type": "code",
   "execution_count": 174,
   "metadata": {},
   "outputs": [
    {
     "name": "stdout",
     "output_type": "stream",
     "text": [
      "Total NaN values in all  the datasets: 1\n"
     ]
    }
   ],
   "source": [
    "# Sum all the NaN values in the datasets\n",
    "missing_values_total = (\n",
    "    X_train_processed_copy.isnull().sum().sum() +\n",
    "    X_val_processed_copy.isnull().sum().sum() +\n",
    "    df_test_processed_copy.isnull().sum().sum()\n",
    ")\n",
    "\n",
    "print(f\"Total NaN values in all  the datasets: {missing_values_total}\")"
   ]
  },
  {
   "cell_type": "code",
   "execution_count": 175,
   "metadata": {},
   "outputs": [],
   "source": [
    "#For now since the pre processing isnt finish lets replace nan by 0 the row tha has nan vlaues\n",
    "X_train_processed_copy = X_train_processed_copy.fillna(0)\n"
   ]
  },
  {
   "cell_type": "code",
   "execution_count": 176,
   "metadata": {},
   "outputs": [
    {
     "name": "stdout",
     "output_type": "stream",
     "text": [
      "                  Age at Injury  Attorney/Representative  Average Weekly Wage  Birth Year County of Injury  COVID-19 Indicator District Name Gender  IME-4 Count  Industry Code Medical Fee Region  WCIO Cause of Injury Code  WCIO Nature of Injury Code  WCIO Part Of Body Code Zip Code  Number of Dependents Category Combination Carrier_District_Interaction      Income_Category  Days_To_First_Hearing  Accident_Quarter  Accident_Year  Accident Day  Accident on Weekend    Age Group promptness_category promptness_C2_category promptness_C3_category Zip_Code_Simplified Carrier Type Merged         Carrier_Name_Simplified   Body_Part_Category Injury_Nature_Category Injury_Cause_Category Industry Risk  Salary_Per_Dependent\n",
      "Claim Identifier                                                                                                                                                                                                                                                                                                                                                                                                                                                                                                                                                                                                                                                                                                                               \n",
      "5479022                0.125000                      0.0             0.000282      1996.0           CAYUGA                 0.0      SYRACUSE      M     0.000000              0                  I                         53                          52                      55    13143              0.500000                SIF-M                 SIF_SYRACUSE           Low Income               0.025765          0.333333       0.951613      0.166667                    0        Youth        Until 1 week           Until 1 week       No form received               OTHER                 SIF            STATE INSURANCE FUND    Lower Extremities        Specific Injury   Strain or Injury By  Unknown Risk              0.000284\n",
      "6023025                0.312500                      1.0             0.000382      1986.0           QUEENS                 0.0           NYC      M     0.054795              4                 IV                         31                          10                      65    11368              0.333333            PRIVATE-M                  PRIVATE_NYC  Lower-Middle Income               0.032369          0.333333       0.983871      0.166667                    0  Young Adult       1 to 3 months          1 to 3 months          1 to 3 months               11368             PRIVATE                           OTHER  Multiple Body Parts        Specific Injury   Fall, Slip, or Trip  Unknown Risk              0.000512\n",
      "5851908                0.390625                      1.0             0.000214      1980.0           MONROE                 0.0     ROCHESTER      F     0.027397              6                  I                         56                          52                      38    14580              0.500000            PRIVATE-F            PRIVATE_ROCHESTER           Low Income               0.065869          0.333333       0.967742      0.333333                    0  Young Adult       3 to 6 months          3 to 6 months          3 to 6 months               OTHER             PRIVATE     INDEMNITY INS. OF N AMERICA    Upper Extremities        Specific Injury   Strain or Injury By  Unknown Risk              0.000216\n",
      "5913931                0.671875                      1.0             0.000362      1963.0           ALBANY                 0.0        ALBANY      M     0.027397              4                  I                         32                          49                      32    12065              0.166667            PRIVATE-M               PRIVATE_ALBANY  Lower-Middle Income               0.042663          0.000000       0.983871      0.500000                    0   Middle Age        Until 1 week           Until 1 week       No form received               12065             PRIVATE     INDEMNITY INS. OF N AMERICA    Upper Extremities        Specific Injury   Fall, Slip, or Trip  Unknown Risk              0.000732\n",
      "5845976                0.656250                      0.0             0.000427      1963.0            KINGS                 0.0           NYC      F     0.000000             19                 IV                         29                          90                      90    11203              0.833333            PRIVATE-F                  PRIVATE_NYC  Upper-Middle Income               0.025765          0.666667       0.967742      0.166667                    0   Middle Age       1 to 3 months          1 to 3 months       No form received               11203             PRIVATE  SECURITY NATIONAL INSURANCE CO  Multiple Body Parts      Multiple Injuries   Fall, Slip, or Trip  Unknown Risk              0.000284\n",
      "                  Age at Injury  Attorney/Representative  Average Weekly Wage   Birth Year County of Injury  COVID-19 Indicator District Name Gender  IME-4 Count  Industry Code Medical Fee Region  WCIO Cause of Injury Code  WCIO Nature of Injury Code  WCIO Part Of Body Code  Zip Code  Number of Dependents Category Combination Carrier_District_Interaction      Income_Category  Days_To_First_Hearing  Accident_Quarter  Accident_Year  Accident Day  Accident on Weekend    Age Group          promptness_category promptness_C2_category promptness_C3_category Zip_Code_Simplified Carrier Type Merged       Carrier_Name_Simplified Body_Part_Category                     Injury_Nature_Category Injury_Cause_Category Industry Risk  Salary_Per_Dependent\n",
      "Claim Identifier                                                                                                                                                                                                                                                                                                                                                                                                                                                                                                                                                                                                                                                                                                                                                          \n",
      "5893917                0.421875                      1.0             0.000538  1978.101209            BRONX                 0.0           NYC      M     0.027397              3                 UK                         97                          80                     101     10467              0.333333            PRIVATE-M                  PRIVATE_NYC    Upper-High Income               0.040164          0.666667       0.967742      0.000000                    0  Young Adult                3 to 6 months          3 to 6 months          3 to 6 months               10467             PRIVATE    ACE AMERICAN INSURANCE CO.  Upper Extremities  Occupational Disease or Cumulative Injury   Strain or Injury By  Unknown Risk              0.000720\n",
      "5978089                0.671875                      0.0             0.000594  1963.000000          NIAGARA                 0.0       BUFFALO      M     0.000000              7                  I                         81                          10                      32     14094              0.500000            PRIVATE-M              PRIVATE_BUFFALO          High Income               0.025765          0.333333       0.983871      0.000000                    0   Middle Age                 Until 1 week           Until 1 week       No form received               14094             PRIVATE  ZURICH AMERICAN INSURANCE CO  Upper Extremities                            Specific Injury  Struck or Injured by  Unknown Risk              0.000595\n",
      "5622704                0.187500                      1.0             0.000442  1987.000000             ERIE                 0.0       BUFFALO      M     0.013699             20                 UK                         60                          52                      38     20171              0.833333            PRIVATE-M              PRIVATE_BUFFALO  Upper-Middle Income               0.151970          0.666667       0.870968      0.166667                    0  Young Adult             More than 1 year       More than 1 year       More than 1 year               OTHER             PRIVATE                         OTHER  Upper Extremities                            Specific Injury   Strain or Injury By  Unknown Risk              0.000294\n",
      "5774156                0.468750                      1.0             0.000876  1975.000000          SUFFOLK                 0.0     HAUPPAUGE      M     0.000000              3                 IV                         53                          49                      53     11727              0.333333            PRIVATE-M            PRIVATE_HAUPPAUGE          High Income               0.029037          0.666667       0.967742      0.666667                    0   Middle Age  Between 2 weeks and 1 month  Between 1 and 2 weeks       No form received               OTHER             PRIVATE       LIBERTY INSURANCE CORP.  Upper Extremities                            Specific Injury   Strain or Injury By  Unknown Risk              0.001172\n",
      "6126437                0.250000                      0.0             0.000589  1990.000000           QUEENS                 0.0           NYC      F     0.000000             23                 IV                         31                          59                     101     11691              0.500000        SELF PUBLIC-F              SELF PUBLIC_NYC          High Income               0.025765          0.666667       0.983871      0.666667                    0  Young Adult                1 to 3 months          1 to 3 months       No form received               11691         SELF PUBLIC      POLICE, FIRE, SANITATION  Upper Extremities                            Specific Injury   Fall, Slip, or Trip     High Risk              0.000590\n",
      "   Claim Identifier  Age at Injury  Attorney/Representative  Average Weekly Wage   Birth Year County of Injury  COVID-19 Indicator District Name Gender  IME-4 Count  Industry Code Medical Fee Region  WCIO Cause of Injury Code  WCIO Nature of Injury Code  WCIO Part Of Body Code  Zip Code  Number of Dependents Carrier_District_Interaction      Income_Category  Days_To_First_Hearing  Accident_Quarter  Accident_Year  Accident Day  Accident on Weekend    Age Group    promptness_category promptness_C2_category promptness_C3_category Zip_Code_Simplified Carrier Type Merged      Carrier_Name_Simplified Body_Part_Category Injury_Nature_Category            Injury_Cause_Category Industry Risk  Salary_Per_Dependent\n",
      "0           6165911       0.046875                        0             0.000434  2003.000000            BRONX                   0           NYC      M          0.0             10                 IV                         31                          10                      54     10466              0.166667                  PRIVATE_NYC  Upper-Middle Income               0.025765               1.0       0.983871      0.833333                    1        Youth  Between 1 and 2 weeks  Between 1 and 2 weeks       No form received               10466             PRIVATE    INDEMNITY INSURANCE CO OF  Lower Extremities        Specific Injury              Fall, Slip, or Trip  Unknown Risk              0.000876\n",
      "1           6166141       0.046875                        0             0.000280  2003.000000           QUEENS                   0           NYC      F          0.0              9                 IV                         75                          10                      10     11691              0.166667                  PRIVATE_NYC           Low Income               0.025765               1.0       0.983871      1.000000                    1        Youth          1 to 3 months          1 to 3 months       No form received               11691             PRIVATE      A I U INSURANCE COMPANY               Head        Specific Injury             Struck or Injured by  Unknown Risk              0.000568\n",
      "2           6165907       0.671875                        0             0.000326  1963.000000      WESTCHESTER                   0           NYC      F          0.0             17                III                         68                          49                      62     10604              0.000000                  PRIVATE_NYC  Lower-Middle Income               0.025765               1.0       0.983871      0.000000                    0   Middle Age           Until 1 week           Until 1 week       No form received               OTHER             PRIVATE                        OTHER              Trunk        Specific Injury  Striking Against or Stepping On  Unknown Risk              0.001322\n",
      "3           6166047       0.421875                        0             0.000434  1979.101209           QUEENS                   0           NYC      F          0.0             10                 IV                         25                          10                      53     11411              1.000000                  PRIVATE_NYC  Upper-Middle Income               0.025765               1.0       0.983871      0.333333                    0  Young Adult           Until 1 week           Until 1 week       No form received               OTHER             PRIVATE  INDEMNITY INS. OF N AMERICA  Lower Extremities        Specific Injury              Fall, Slip, or Trip  Unknown Risk              0.000247\n",
      "4           6166102       0.140625                        0             0.000423  1997.000000            KINGS                   0           NYC      M          0.0             16                 IV                         79                          40                      37     11212              0.833333                  PRIVATE_NYC  Upper-Middle Income               0.025765               1.0       0.983871      0.166667                    0        Youth  Between 1 and 2 weeks  Between 1 and 2 weeks       No form received               11212             PRIVATE   NEW HAMPSHIRE INSURANCE CO  Upper Extremities        Specific Injury             Struck or Injured by  Unknown Risk              0.000282\n"
     ]
    }
   ],
   "source": [
    "# Lista de colunas a remover\n",
    "columns_to_drop = ['Carrier Name', 'Carrier Type']\n",
    "\n",
    "# Remover as colunas dos datasets\n",
    "X_train_processed_copy = X_train_processed_copy.drop(columns=columns_to_drop)\n",
    "X_val_processed_copy = X_val_processed_copy.drop(columns=columns_to_drop)\n",
    "df_test_processed_copy = df_test_processed_copy.drop(columns=columns_to_drop)\n",
    "\n",
    "# Verificar as alterações\n",
    "print(X_train_processed_copy.head())\n",
    "print(X_val_processed_copy.head())\n",
    "print(df_test_processed_copy.head())\n"
   ]
  },
  {
   "cell_type": "code",
   "execution_count": 177,
   "metadata": {},
   "outputs": [
    {
     "name": "stdout",
     "output_type": "stream",
     "text": [
      "Processing ordinal feature: promptness_category\n",
      "Processing ordinal feature: promptness_C2_category\n",
      "Processing ordinal feature: promptness_C3_category\n",
      "Processing ordinal feature: Age Group\n",
      "Processing ordinal feature: Income_Category\n",
      "Processing ordinal feature: Industry Risk\n",
      "\n",
      "Processing low-cardinality features for One-Hot Encoding...\n",
      "Shape of one-hot encoded train data: (398994, 25)\n",
      "Shape of one-hot encoded val data: (172208, 25)\n",
      "Shape of one-hot encoded test data: (387975, 25)\n",
      "\n",
      "Processing high-cardinality features for Frequency Encoding...\n",
      "Encoding high-cardinality feature: Carrier_Name_Simplified\n",
      "Encoding high-cardinality feature: Zip_Code_Simplified\n",
      "Encoding high-cardinality feature: Industry Code\n",
      "Encoding high-cardinality feature: County of Injury\n",
      "Encoding high-cardinality feature: Carrier Type Merged\n",
      "Encoding high-cardinality feature: WCIO Cause of Injury Code\n",
      "Encoding high-cardinality feature: WCIO Nature of Injury Code\n",
      "Encoding high-cardinality feature: WCIO Part Of Body Code\n",
      "Encoding high-cardinality feature: Carrier_District_Interaction\n",
      "Encoding high-cardinality feature: District Name\n",
      "\n",
      "Summary of encoded datasets:\n",
      "Final X_train_final shape: (398994, 56)\n",
      "Final X_val_final shape: (172208, 56)\n",
      "Final X_test_final shape: (387975, 56)\n"
     ]
    }
   ],
   "source": [
    "from sklearn.preprocessing import OneHotEncoder, LabelEncoder\n",
    "import pandas as pd\n",
    "\n",
    "# Step 1: Label Encode ordinal features (features with intrinsic order)\n",
    "label_encoder_1 = LabelEncoder()\n",
    "for col in ordinal_features:\n",
    "    # Ensure input is a column from the DataFrame\n",
    "    print(f\"Processing ordinal feature: {col}\")\n",
    "    X_train_processed_copy[col] = label_encoder_1.fit_transform(X_train_processed_copy[col])\n",
    "    X_val_processed_copy[col] = label_encoder_1.transform(X_val_processed_copy[col])\n",
    "    df_test_processed_copy[col] = label_encoder_1.transform(df_test_processed_copy[col])\n",
    "\n",
    "# Step 2: One-Hot Encode low-cardinality nominal features\n",
    "print(\"\\nProcessing low-cardinality features for One-Hot Encoding...\")\n",
    "one_hot_encoder = OneHotEncoder(drop='first', sparse_output=False, handle_unknown='ignore')  # Corrected argument\n",
    "\n",
    "# Extract the subset of low-cardinality columns\n",
    "low_cardinality_train = X_train_processed_copy[low_cardinality_cols]\n",
    "low_cardinality_val = X_val_processed_copy[low_cardinality_cols]\n",
    "low_cardinality_test = df_test_processed_copy[low_cardinality_cols]\n",
    "\n",
    "# Apply One-Hot Encoding\n",
    "one_hot_encoded_train = one_hot_encoder.fit_transform(low_cardinality_train)\n",
    "one_hot_encoded_val = one_hot_encoder.transform(low_cardinality_val)\n",
    "one_hot_encoded_test = one_hot_encoder.transform(low_cardinality_test)\n",
    "\n",
    "# Verify the shapes\n",
    "print(\"Shape of one-hot encoded train data:\", one_hot_encoded_train.shape)\n",
    "print(\"Shape of one-hot encoded val data:\", one_hot_encoded_val.shape)\n",
    "print(\"Shape of one-hot encoded test data:\", one_hot_encoded_test.shape)\n",
    "\n",
    "# Convert One-Hot Encoded arrays to DataFrames\n",
    "feature_names = one_hot_encoder.get_feature_names_out(low_cardinality_cols)\n",
    "one_hot_encoded_train_df = pd.DataFrame(one_hot_encoded_train, columns=feature_names, index=X_train_processed_copy.index)\n",
    "one_hot_encoded_val_df = pd.DataFrame(one_hot_encoded_val, columns=feature_names, index=X_val_processed_copy.index)\n",
    "one_hot_encoded_test_df = pd.DataFrame(one_hot_encoded_test, columns=feature_names, index=df_test_processed_copy.index)\n",
    "\n",
    "# Concatenate the encoded columns with the original datasets\n",
    "X_train_processed_copy = pd.concat([X_train_processed_copy, one_hot_encoded_train_df], axis=1)\n",
    "X_val_processed_copy = pd.concat([X_val_processed_copy, one_hot_encoded_val_df], axis=1)\n",
    "df_test_processed_copy = pd.concat([df_test_processed_copy, one_hot_encoded_test_df], axis=1)\n",
    "\n",
    "# Drop original low-cardinality columns\n",
    "X_train_processed_copy.drop(columns=low_cardinality_cols, inplace=True)\n",
    "X_val_processed_copy.drop(columns=low_cardinality_cols, inplace=True)\n",
    "df_test_processed_copy.drop(columns=low_cardinality_cols, inplace=True)\n",
    "\n",
    "# Step 3: Frequency Encoding for high-cardinality nominal features\n",
    "print(\"\\nProcessing high-cardinality features for Frequency Encoding...\")\n",
    "for col in high_cardinality_cols:\n",
    "    print(f\"Encoding high-cardinality feature: {col}\")\n",
    "    # Frequency count based on the training data\n",
    "    freq = X_train_processed_copy[col].value_counts()\n",
    "    # Apply mapping to all datasets\n",
    "    X_train_processed_copy[f\"{col}_freq\"] = X_train_processed_copy[col].map(freq).fillna(0)\n",
    "    X_val_processed_copy[f\"{col}_freq\"] = X_val_processed_copy[col].map(freq).fillna(0)\n",
    "    df_test_processed_copy[f\"{col}_freq\"] = df_test_processed_copy[col].map(freq).fillna(0)\n",
    "\n",
    "# Drop original high-cardinality columns\n",
    "X_train_processed_copy.drop(columns=high_cardinality_cols, inplace=True)\n",
    "X_val_processed_copy.drop(columns=high_cardinality_cols, inplace=True)\n",
    "df_test_processed_copy.drop(columns=high_cardinality_cols, inplace=True)\n",
    "\n",
    "# Final datasets after encoding\n",
    "X_train_final = X_train_processed_copy.copy()\n",
    "X_val_final = X_val_processed_copy.copy()\n",
    "X_test_final = df_test_processed_copy.copy()\n",
    "\n",
    "# Summary\n",
    "print(\"\\nSummary of encoded datasets:\")\n",
    "print(\"Final X_train_final shape:\", X_train_final.shape)\n",
    "print(\"Final X_val_final shape:\", X_val_final.shape)\n",
    "print(\"Final X_test_final shape:\", X_test_final.shape)\n"
   ]
  },
  {
   "cell_type": "code",
   "execution_count": 178,
   "metadata": {},
   "outputs": [
    {
     "data": {
      "text/html": [
       "<div>\n",
       "<style scoped>\n",
       "    .dataframe tbody tr th:only-of-type {\n",
       "        vertical-align: middle;\n",
       "    }\n",
       "\n",
       "    .dataframe tbody tr th {\n",
       "        vertical-align: top;\n",
       "    }\n",
       "\n",
       "    .dataframe thead th {\n",
       "        text-align: right;\n",
       "    }\n",
       "</style>\n",
       "<table border=\"1\" class=\"dataframe\">\n",
       "  <thead>\n",
       "    <tr style=\"text-align: right;\">\n",
       "      <th></th>\n",
       "      <th>Age at Injury</th>\n",
       "      <th>Attorney/Representative</th>\n",
       "      <th>Average Weekly Wage</th>\n",
       "      <th>Birth Year</th>\n",
       "      <th>COVID-19 Indicator</th>\n",
       "      <th>IME-4 Count</th>\n",
       "      <th>Zip Code</th>\n",
       "      <th>Number of Dependents</th>\n",
       "      <th>Category Combination</th>\n",
       "      <th>Income_Category</th>\n",
       "      <th>Days_To_First_Hearing</th>\n",
       "      <th>Accident_Quarter</th>\n",
       "      <th>Accident_Year</th>\n",
       "      <th>Accident Day</th>\n",
       "      <th>Accident on Weekend</th>\n",
       "      <th>Age Group</th>\n",
       "      <th>promptness_category</th>\n",
       "      <th>promptness_C2_category</th>\n",
       "      <th>promptness_C3_category</th>\n",
       "      <th>Industry Risk</th>\n",
       "      <th>Salary_Per_Dependent</th>\n",
       "      <th>Gender_M</th>\n",
       "      <th>Gender_U</th>\n",
       "      <th>Medical Fee Region_II</th>\n",
       "      <th>Medical Fee Region_III</th>\n",
       "      <th>Medical Fee Region_IV</th>\n",
       "      <th>Medical Fee Region_UK</th>\n",
       "      <th>Body_Part_Category_Lower Extremities</th>\n",
       "      <th>Body_Part_Category_Multiple Body Parts</th>\n",
       "      <th>Body_Part_Category_Neck</th>\n",
       "      <th>Body_Part_Category_NonClassificable</th>\n",
       "      <th>Body_Part_Category_Trunk</th>\n",
       "      <th>Body_Part_Category_Upper Extremities</th>\n",
       "      <th>Injury_Nature_Category_Multiple Injuries</th>\n",
       "      <th>Injury_Nature_Category_Occupational Disease or Cumulative Injury</th>\n",
       "      <th>Injury_Nature_Category_Specific Injury</th>\n",
       "      <th>Injury_Cause_Category_COVID-19 Injury</th>\n",
       "      <th>Injury_Cause_Category_Caught In, Under, or Between</th>\n",
       "      <th>Injury_Cause_Category_Cut, Puncture, Scrape</th>\n",
       "      <th>Injury_Cause_Category_Fall, Slip, or Trip</th>\n",
       "      <th>Injury_Cause_Category_Miscellaneous Causes</th>\n",
       "      <th>Injury_Cause_Category_Motor Vehicle</th>\n",
       "      <th>Injury_Cause_Category_Rubbed or Abraded by</th>\n",
       "      <th>Injury_Cause_Category_Strain or Injury By</th>\n",
       "      <th>Injury_Cause_Category_Striking Against or Stepping On</th>\n",
       "      <th>Injury_Cause_Category_Struck or Injured by</th>\n",
       "      <th>Carrier_Name_Simplified_freq</th>\n",
       "      <th>Zip_Code_Simplified_freq</th>\n",
       "      <th>Industry Code_freq</th>\n",
       "      <th>County of Injury_freq</th>\n",
       "      <th>Carrier Type Merged_freq</th>\n",
       "      <th>WCIO Cause of Injury Code_freq</th>\n",
       "      <th>WCIO Nature of Injury Code_freq</th>\n",
       "      <th>WCIO Part Of Body Code_freq</th>\n",
       "      <th>Carrier_District_Interaction_freq</th>\n",
       "      <th>District Name_freq</th>\n",
       "    </tr>\n",
       "    <tr>\n",
       "      <th>Claim Identifier</th>\n",
       "      <th></th>\n",
       "      <th></th>\n",
       "      <th></th>\n",
       "      <th></th>\n",
       "      <th></th>\n",
       "      <th></th>\n",
       "      <th></th>\n",
       "      <th></th>\n",
       "      <th></th>\n",
       "      <th></th>\n",
       "      <th></th>\n",
       "      <th></th>\n",
       "      <th></th>\n",
       "      <th></th>\n",
       "      <th></th>\n",
       "      <th></th>\n",
       "      <th></th>\n",
       "      <th></th>\n",
       "      <th></th>\n",
       "      <th></th>\n",
       "      <th></th>\n",
       "      <th></th>\n",
       "      <th></th>\n",
       "      <th></th>\n",
       "      <th></th>\n",
       "      <th></th>\n",
       "      <th></th>\n",
       "      <th></th>\n",
       "      <th></th>\n",
       "      <th></th>\n",
       "      <th></th>\n",
       "      <th></th>\n",
       "      <th></th>\n",
       "      <th></th>\n",
       "      <th></th>\n",
       "      <th></th>\n",
       "      <th></th>\n",
       "      <th></th>\n",
       "      <th></th>\n",
       "      <th></th>\n",
       "      <th></th>\n",
       "      <th></th>\n",
       "      <th></th>\n",
       "      <th></th>\n",
       "      <th></th>\n",
       "      <th></th>\n",
       "      <th></th>\n",
       "      <th></th>\n",
       "      <th></th>\n",
       "      <th></th>\n",
       "      <th></th>\n",
       "      <th></th>\n",
       "      <th></th>\n",
       "      <th></th>\n",
       "      <th></th>\n",
       "      <th></th>\n",
       "    </tr>\n",
       "  </thead>\n",
       "  <tbody>\n",
       "    <tr>\n",
       "      <th>5893917</th>\n",
       "      <td>0.421875</td>\n",
       "      <td>1.0</td>\n",
       "      <td>0.000538</td>\n",
       "      <td>1978.101209</td>\n",
       "      <td>0.0</td>\n",
       "      <td>0.027397</td>\n",
       "      <td>10467</td>\n",
       "      <td>0.333333</td>\n",
       "      <td>PRIVATE-M</td>\n",
       "      <td>3</td>\n",
       "      <td>0.040164</td>\n",
       "      <td>0.666667</td>\n",
       "      <td>0.967742</td>\n",
       "      <td>0.000000</td>\n",
       "      <td>0</td>\n",
       "      <td>2</td>\n",
       "      <td>1</td>\n",
       "      <td>1</td>\n",
       "      <td>1</td>\n",
       "      <td>2</td>\n",
       "      <td>0.000720</td>\n",
       "      <td>1.0</td>\n",
       "      <td>0.0</td>\n",
       "      <td>0.0</td>\n",
       "      <td>0.0</td>\n",
       "      <td>0.0</td>\n",
       "      <td>1.0</td>\n",
       "      <td>0.0</td>\n",
       "      <td>0.0</td>\n",
       "      <td>0.0</td>\n",
       "      <td>0.0</td>\n",
       "      <td>0.0</td>\n",
       "      <td>1.0</td>\n",
       "      <td>0.0</td>\n",
       "      <td>1.0</td>\n",
       "      <td>0.0</td>\n",
       "      <td>0.0</td>\n",
       "      <td>0.0</td>\n",
       "      <td>0.0</td>\n",
       "      <td>0.0</td>\n",
       "      <td>0.0</td>\n",
       "      <td>0.0</td>\n",
       "      <td>0.0</td>\n",
       "      <td>1.0</td>\n",
       "      <td>0.0</td>\n",
       "      <td>0.0</td>\n",
       "      <td>3159.0</td>\n",
       "      <td>3049.0</td>\n",
       "      <td>21385</td>\n",
       "      <td>27559</td>\n",
       "      <td>198800</td>\n",
       "      <td>8249</td>\n",
       "      <td>1963</td>\n",
       "      <td>29320</td>\n",
       "      <td>92172.0</td>\n",
       "      <td>188402</td>\n",
       "    </tr>\n",
       "    <tr>\n",
       "      <th>5978089</th>\n",
       "      <td>0.671875</td>\n",
       "      <td>0.0</td>\n",
       "      <td>0.000594</td>\n",
       "      <td>1963.000000</td>\n",
       "      <td>0.0</td>\n",
       "      <td>0.000000</td>\n",
       "      <td>14094</td>\n",
       "      <td>0.500000</td>\n",
       "      <td>PRIVATE-M</td>\n",
       "      <td>0</td>\n",
       "      <td>0.025765</td>\n",
       "      <td>0.333333</td>\n",
       "      <td>0.983871</td>\n",
       "      <td>0.000000</td>\n",
       "      <td>0</td>\n",
       "      <td>0</td>\n",
       "      <td>6</td>\n",
       "      <td>6</td>\n",
       "      <td>6</td>\n",
       "      <td>2</td>\n",
       "      <td>0.000595</td>\n",
       "      <td>1.0</td>\n",
       "      <td>0.0</td>\n",
       "      <td>0.0</td>\n",
       "      <td>0.0</td>\n",
       "      <td>0.0</td>\n",
       "      <td>0.0</td>\n",
       "      <td>0.0</td>\n",
       "      <td>0.0</td>\n",
       "      <td>0.0</td>\n",
       "      <td>0.0</td>\n",
       "      <td>0.0</td>\n",
       "      <td>1.0</td>\n",
       "      <td>0.0</td>\n",
       "      <td>0.0</td>\n",
       "      <td>1.0</td>\n",
       "      <td>0.0</td>\n",
       "      <td>0.0</td>\n",
       "      <td>0.0</td>\n",
       "      <td>0.0</td>\n",
       "      <td>0.0</td>\n",
       "      <td>0.0</td>\n",
       "      <td>0.0</td>\n",
       "      <td>0.0</td>\n",
       "      <td>0.0</td>\n",
       "      <td>1.0</td>\n",
       "      <td>1981.0</td>\n",
       "      <td>1429.0</td>\n",
       "      <td>10596</td>\n",
       "      <td>5069</td>\n",
       "      <td>198800</td>\n",
       "      <td>10225</td>\n",
       "      <td>77440</td>\n",
       "      <td>6925</td>\n",
       "      <td>17351.0</td>\n",
       "      <td>31613</td>\n",
       "    </tr>\n",
       "    <tr>\n",
       "      <th>5622704</th>\n",
       "      <td>0.187500</td>\n",
       "      <td>1.0</td>\n",
       "      <td>0.000442</td>\n",
       "      <td>1987.000000</td>\n",
       "      <td>0.0</td>\n",
       "      <td>0.013699</td>\n",
       "      <td>20171</td>\n",
       "      <td>0.833333</td>\n",
       "      <td>PRIVATE-M</td>\n",
       "      <td>4</td>\n",
       "      <td>0.151970</td>\n",
       "      <td>0.666667</td>\n",
       "      <td>0.870968</td>\n",
       "      <td>0.166667</td>\n",
       "      <td>0</td>\n",
       "      <td>2</td>\n",
       "      <td>5</td>\n",
       "      <td>5</td>\n",
       "      <td>5</td>\n",
       "      <td>2</td>\n",
       "      <td>0.000294</td>\n",
       "      <td>1.0</td>\n",
       "      <td>0.0</td>\n",
       "      <td>0.0</td>\n",
       "      <td>0.0</td>\n",
       "      <td>0.0</td>\n",
       "      <td>1.0</td>\n",
       "      <td>0.0</td>\n",
       "      <td>0.0</td>\n",
       "      <td>0.0</td>\n",
       "      <td>0.0</td>\n",
       "      <td>0.0</td>\n",
       "      <td>1.0</td>\n",
       "      <td>0.0</td>\n",
       "      <td>0.0</td>\n",
       "      <td>1.0</td>\n",
       "      <td>0.0</td>\n",
       "      <td>0.0</td>\n",
       "      <td>0.0</td>\n",
       "      <td>0.0</td>\n",
       "      <td>0.0</td>\n",
       "      <td>0.0</td>\n",
       "      <td>0.0</td>\n",
       "      <td>1.0</td>\n",
       "      <td>0.0</td>\n",
       "      <td>0.0</td>\n",
       "      <td>85478.0</td>\n",
       "      <td>282759.0</td>\n",
       "      <td>6970</td>\n",
       "      <td>21355</td>\n",
       "      <td>198800</td>\n",
       "      <td>23269</td>\n",
       "      <td>107391</td>\n",
       "      <td>26424</td>\n",
       "      <td>17351.0</td>\n",
       "      <td>31613</td>\n",
       "    </tr>\n",
       "    <tr>\n",
       "      <th>5774156</th>\n",
       "      <td>0.468750</td>\n",
       "      <td>1.0</td>\n",
       "      <td>0.000876</td>\n",
       "      <td>1975.000000</td>\n",
       "      <td>0.0</td>\n",
       "      <td>0.000000</td>\n",
       "      <td>11727</td>\n",
       "      <td>0.333333</td>\n",
       "      <td>PRIVATE-M</td>\n",
       "      <td>0</td>\n",
       "      <td>0.029037</td>\n",
       "      <td>0.666667</td>\n",
       "      <td>0.967742</td>\n",
       "      <td>0.666667</td>\n",
       "      <td>0</td>\n",
       "      <td>0</td>\n",
       "      <td>4</td>\n",
       "      <td>3</td>\n",
       "      <td>6</td>\n",
       "      <td>2</td>\n",
       "      <td>0.001172</td>\n",
       "      <td>1.0</td>\n",
       "      <td>0.0</td>\n",
       "      <td>0.0</td>\n",
       "      <td>0.0</td>\n",
       "      <td>1.0</td>\n",
       "      <td>0.0</td>\n",
       "      <td>0.0</td>\n",
       "      <td>0.0</td>\n",
       "      <td>0.0</td>\n",
       "      <td>0.0</td>\n",
       "      <td>0.0</td>\n",
       "      <td>1.0</td>\n",
       "      <td>0.0</td>\n",
       "      <td>0.0</td>\n",
       "      <td>1.0</td>\n",
       "      <td>0.0</td>\n",
       "      <td>0.0</td>\n",
       "      <td>0.0</td>\n",
       "      <td>0.0</td>\n",
       "      <td>0.0</td>\n",
       "      <td>0.0</td>\n",
       "      <td>0.0</td>\n",
       "      <td>1.0</td>\n",
       "      <td>0.0</td>\n",
       "      <td>0.0</td>\n",
       "      <td>1154.0</td>\n",
       "      <td>282759.0</td>\n",
       "      <td>21385</td>\n",
       "      <td>41965</td>\n",
       "      <td>198800</td>\n",
       "      <td>8335</td>\n",
       "      <td>38955</td>\n",
       "      <td>33692</td>\n",
       "      <td>22238.0</td>\n",
       "      <td>42054</td>\n",
       "    </tr>\n",
       "    <tr>\n",
       "      <th>6126437</th>\n",
       "      <td>0.250000</td>\n",
       "      <td>0.0</td>\n",
       "      <td>0.000589</td>\n",
       "      <td>1990.000000</td>\n",
       "      <td>0.0</td>\n",
       "      <td>0.000000</td>\n",
       "      <td>11691</td>\n",
       "      <td>0.500000</td>\n",
       "      <td>SELF PUBLIC-F</td>\n",
       "      <td>0</td>\n",
       "      <td>0.025765</td>\n",
       "      <td>0.666667</td>\n",
       "      <td>0.983871</td>\n",
       "      <td>0.666667</td>\n",
       "      <td>0</td>\n",
       "      <td>2</td>\n",
       "      <td>0</td>\n",
       "      <td>0</td>\n",
       "      <td>6</td>\n",
       "      <td>0</td>\n",
       "      <td>0.000590</td>\n",
       "      <td>0.0</td>\n",
       "      <td>0.0</td>\n",
       "      <td>0.0</td>\n",
       "      <td>0.0</td>\n",
       "      <td>1.0</td>\n",
       "      <td>0.0</td>\n",
       "      <td>0.0</td>\n",
       "      <td>0.0</td>\n",
       "      <td>0.0</td>\n",
       "      <td>0.0</td>\n",
       "      <td>0.0</td>\n",
       "      <td>1.0</td>\n",
       "      <td>0.0</td>\n",
       "      <td>0.0</td>\n",
       "      <td>1.0</td>\n",
       "      <td>0.0</td>\n",
       "      <td>0.0</td>\n",
       "      <td>0.0</td>\n",
       "      <td>1.0</td>\n",
       "      <td>0.0</td>\n",
       "      <td>0.0</td>\n",
       "      <td>0.0</td>\n",
       "      <td>0.0</td>\n",
       "      <td>0.0</td>\n",
       "      <td>0.0</td>\n",
       "      <td>14917.0</td>\n",
       "      <td>1009.0</td>\n",
       "      <td>64452</td>\n",
       "      <td>40411</td>\n",
       "      <td>84894</td>\n",
       "      <td>22242</td>\n",
       "      <td>25377</td>\n",
       "      <td>29320</td>\n",
       "      <td>46924.0</td>\n",
       "      <td>188402</td>\n",
       "    </tr>\n",
       "    <tr>\n",
       "      <th>...</th>\n",
       "      <td>...</td>\n",
       "      <td>...</td>\n",
       "      <td>...</td>\n",
       "      <td>...</td>\n",
       "      <td>...</td>\n",
       "      <td>...</td>\n",
       "      <td>...</td>\n",
       "      <td>...</td>\n",
       "      <td>...</td>\n",
       "      <td>...</td>\n",
       "      <td>...</td>\n",
       "      <td>...</td>\n",
       "      <td>...</td>\n",
       "      <td>...</td>\n",
       "      <td>...</td>\n",
       "      <td>...</td>\n",
       "      <td>...</td>\n",
       "      <td>...</td>\n",
       "      <td>...</td>\n",
       "      <td>...</td>\n",
       "      <td>...</td>\n",
       "      <td>...</td>\n",
       "      <td>...</td>\n",
       "      <td>...</td>\n",
       "      <td>...</td>\n",
       "      <td>...</td>\n",
       "      <td>...</td>\n",
       "      <td>...</td>\n",
       "      <td>...</td>\n",
       "      <td>...</td>\n",
       "      <td>...</td>\n",
       "      <td>...</td>\n",
       "      <td>...</td>\n",
       "      <td>...</td>\n",
       "      <td>...</td>\n",
       "      <td>...</td>\n",
       "      <td>...</td>\n",
       "      <td>...</td>\n",
       "      <td>...</td>\n",
       "      <td>...</td>\n",
       "      <td>...</td>\n",
       "      <td>...</td>\n",
       "      <td>...</td>\n",
       "      <td>...</td>\n",
       "      <td>...</td>\n",
       "      <td>...</td>\n",
       "      <td>...</td>\n",
       "      <td>...</td>\n",
       "      <td>...</td>\n",
       "      <td>...</td>\n",
       "      <td>...</td>\n",
       "      <td>...</td>\n",
       "      <td>...</td>\n",
       "      <td>...</td>\n",
       "      <td>...</td>\n",
       "      <td>...</td>\n",
       "    </tr>\n",
       "    <tr>\n",
       "      <th>5933260</th>\n",
       "      <td>0.203125</td>\n",
       "      <td>1.0</td>\n",
       "      <td>0.000516</td>\n",
       "      <td>1993.000000</td>\n",
       "      <td>0.0</td>\n",
       "      <td>0.000000</td>\n",
       "      <td>13325</td>\n",
       "      <td>0.500000</td>\n",
       "      <td>SIF-M</td>\n",
       "      <td>4</td>\n",
       "      <td>0.056468</td>\n",
       "      <td>0.000000</td>\n",
       "      <td>0.983871</td>\n",
       "      <td>1.000000</td>\n",
       "      <td>1</td>\n",
       "      <td>2</td>\n",
       "      <td>6</td>\n",
       "      <td>6</td>\n",
       "      <td>6</td>\n",
       "      <td>0</td>\n",
       "      <td>0.000518</td>\n",
       "      <td>1.0</td>\n",
       "      <td>0.0</td>\n",
       "      <td>0.0</td>\n",
       "      <td>0.0</td>\n",
       "      <td>0.0</td>\n",
       "      <td>0.0</td>\n",
       "      <td>0.0</td>\n",
       "      <td>0.0</td>\n",
       "      <td>0.0</td>\n",
       "      <td>0.0</td>\n",
       "      <td>0.0</td>\n",
       "      <td>1.0</td>\n",
       "      <td>0.0</td>\n",
       "      <td>0.0</td>\n",
       "      <td>1.0</td>\n",
       "      <td>0.0</td>\n",
       "      <td>0.0</td>\n",
       "      <td>0.0</td>\n",
       "      <td>0.0</td>\n",
       "      <td>0.0</td>\n",
       "      <td>0.0</td>\n",
       "      <td>0.0</td>\n",
       "      <td>0.0</td>\n",
       "      <td>0.0</td>\n",
       "      <td>1.0</td>\n",
       "      <td>77168.0</td>\n",
       "      <td>282759.0</td>\n",
       "      <td>64452</td>\n",
       "      <td>876</td>\n",
       "      <td>77168</td>\n",
       "      <td>25993</td>\n",
       "      <td>107391</td>\n",
       "      <td>26424</td>\n",
       "      <td>7776.0</td>\n",
       "      <td>31149</td>\n",
       "    </tr>\n",
       "    <tr>\n",
       "      <th>5969588</th>\n",
       "      <td>0.171875</td>\n",
       "      <td>0.0</td>\n",
       "      <td>0.000427</td>\n",
       "      <td>1995.000000</td>\n",
       "      <td>0.0</td>\n",
       "      <td>0.000000</td>\n",
       "      <td>10469</td>\n",
       "      <td>0.000000</td>\n",
       "      <td>PRIVATE-F</td>\n",
       "      <td>4</td>\n",
       "      <td>0.025765</td>\n",
       "      <td>0.333333</td>\n",
       "      <td>0.983871</td>\n",
       "      <td>0.500000</td>\n",
       "      <td>0</td>\n",
       "      <td>2</td>\n",
       "      <td>6</td>\n",
       "      <td>6</td>\n",
       "      <td>6</td>\n",
       "      <td>2</td>\n",
       "      <td>0.001729</td>\n",
       "      <td>0.0</td>\n",
       "      <td>0.0</td>\n",
       "      <td>0.0</td>\n",
       "      <td>0.0</td>\n",
       "      <td>1.0</td>\n",
       "      <td>0.0</td>\n",
       "      <td>0.0</td>\n",
       "      <td>0.0</td>\n",
       "      <td>0.0</td>\n",
       "      <td>0.0</td>\n",
       "      <td>0.0</td>\n",
       "      <td>1.0</td>\n",
       "      <td>0.0</td>\n",
       "      <td>0.0</td>\n",
       "      <td>1.0</td>\n",
       "      <td>0.0</td>\n",
       "      <td>0.0</td>\n",
       "      <td>0.0</td>\n",
       "      <td>1.0</td>\n",
       "      <td>0.0</td>\n",
       "      <td>0.0</td>\n",
       "      <td>0.0</td>\n",
       "      <td>0.0</td>\n",
       "      <td>0.0</td>\n",
       "      <td>0.0</td>\n",
       "      <td>4491.0</td>\n",
       "      <td>1462.0</td>\n",
       "      <td>79723</td>\n",
       "      <td>27559</td>\n",
       "      <td>198800</td>\n",
       "      <td>22242</td>\n",
       "      <td>107391</td>\n",
       "      <td>798</td>\n",
       "      <td>92172.0</td>\n",
       "      <td>188402</td>\n",
       "    </tr>\n",
       "    <tr>\n",
       "      <th>6070626</th>\n",
       "      <td>0.421875</td>\n",
       "      <td>0.0</td>\n",
       "      <td>0.000290</td>\n",
       "      <td>1979.101209</td>\n",
       "      <td>0.0</td>\n",
       "      <td>0.000000</td>\n",
       "      <td>6853</td>\n",
       "      <td>0.500000</td>\n",
       "      <td>PRIVATE-F</td>\n",
       "      <td>1</td>\n",
       "      <td>0.025765</td>\n",
       "      <td>0.666667</td>\n",
       "      <td>0.983871</td>\n",
       "      <td>0.500000</td>\n",
       "      <td>0</td>\n",
       "      <td>2</td>\n",
       "      <td>6</td>\n",
       "      <td>6</td>\n",
       "      <td>6</td>\n",
       "      <td>2</td>\n",
       "      <td>0.000292</td>\n",
       "      <td>0.0</td>\n",
       "      <td>0.0</td>\n",
       "      <td>0.0</td>\n",
       "      <td>0.0</td>\n",
       "      <td>0.0</td>\n",
       "      <td>1.0</td>\n",
       "      <td>0.0</td>\n",
       "      <td>0.0</td>\n",
       "      <td>0.0</td>\n",
       "      <td>0.0</td>\n",
       "      <td>0.0</td>\n",
       "      <td>1.0</td>\n",
       "      <td>0.0</td>\n",
       "      <td>0.0</td>\n",
       "      <td>1.0</td>\n",
       "      <td>0.0</td>\n",
       "      <td>0.0</td>\n",
       "      <td>1.0</td>\n",
       "      <td>0.0</td>\n",
       "      <td>0.0</td>\n",
       "      <td>0.0</td>\n",
       "      <td>0.0</td>\n",
       "      <td>0.0</td>\n",
       "      <td>0.0</td>\n",
       "      <td>0.0</td>\n",
       "      <td>85478.0</td>\n",
       "      <td>282759.0</td>\n",
       "      <td>30501</td>\n",
       "      <td>17914</td>\n",
       "      <td>198800</td>\n",
       "      <td>10268</td>\n",
       "      <td>32898</td>\n",
       "      <td>21876</td>\n",
       "      <td>92172.0</td>\n",
       "      <td>188402</td>\n",
       "    </tr>\n",
       "    <tr>\n",
       "      <th>5416835</th>\n",
       "      <td>0.343750</td>\n",
       "      <td>0.0</td>\n",
       "      <td>0.000620</td>\n",
       "      <td>1981.000000</td>\n",
       "      <td>0.0</td>\n",
       "      <td>0.000000</td>\n",
       "      <td>14094</td>\n",
       "      <td>0.666667</td>\n",
       "      <td>SELF PRIVATE-M</td>\n",
       "      <td>0</td>\n",
       "      <td>0.025765</td>\n",
       "      <td>1.000000</td>\n",
       "      <td>0.935484</td>\n",
       "      <td>0.000000</td>\n",
       "      <td>0</td>\n",
       "      <td>2</td>\n",
       "      <td>0</td>\n",
       "      <td>0</td>\n",
       "      <td>6</td>\n",
       "      <td>2</td>\n",
       "      <td>0.000496</td>\n",
       "      <td>1.0</td>\n",
       "      <td>0.0</td>\n",
       "      <td>0.0</td>\n",
       "      <td>0.0</td>\n",
       "      <td>0.0</td>\n",
       "      <td>0.0</td>\n",
       "      <td>0.0</td>\n",
       "      <td>0.0</td>\n",
       "      <td>0.0</td>\n",
       "      <td>0.0</td>\n",
       "      <td>0.0</td>\n",
       "      <td>1.0</td>\n",
       "      <td>0.0</td>\n",
       "      <td>0.0</td>\n",
       "      <td>1.0</td>\n",
       "      <td>0.0</td>\n",
       "      <td>0.0</td>\n",
       "      <td>0.0</td>\n",
       "      <td>1.0</td>\n",
       "      <td>0.0</td>\n",
       "      <td>0.0</td>\n",
       "      <td>0.0</td>\n",
       "      <td>0.0</td>\n",
       "      <td>0.0</td>\n",
       "      <td>0.0</td>\n",
       "      <td>2757.0</td>\n",
       "      <td>1429.0</td>\n",
       "      <td>12655</td>\n",
       "      <td>5069</td>\n",
       "      <td>36441</td>\n",
       "      <td>8447</td>\n",
       "      <td>32898</td>\n",
       "      <td>6925</td>\n",
       "      <td>4073.0</td>\n",
       "      <td>31613</td>\n",
       "    </tr>\n",
       "    <tr>\n",
       "      <th>5540785</th>\n",
       "      <td>0.718750</td>\n",
       "      <td>0.0</td>\n",
       "      <td>0.000427</td>\n",
       "      <td>1958.000000</td>\n",
       "      <td>0.0</td>\n",
       "      <td>0.000000</td>\n",
       "      <td>12528</td>\n",
       "      <td>0.000000</td>\n",
       "      <td>PRIVATE-F</td>\n",
       "      <td>4</td>\n",
       "      <td>0.025765</td>\n",
       "      <td>0.666667</td>\n",
       "      <td>0.951613</td>\n",
       "      <td>0.166667</td>\n",
       "      <td>0</td>\n",
       "      <td>0</td>\n",
       "      <td>6</td>\n",
       "      <td>6</td>\n",
       "      <td>6</td>\n",
       "      <td>2</td>\n",
       "      <td>0.001729</td>\n",
       "      <td>0.0</td>\n",
       "      <td>0.0</td>\n",
       "      <td>1.0</td>\n",
       "      <td>0.0</td>\n",
       "      <td>0.0</td>\n",
       "      <td>0.0</td>\n",
       "      <td>0.0</td>\n",
       "      <td>0.0</td>\n",
       "      <td>0.0</td>\n",
       "      <td>0.0</td>\n",
       "      <td>0.0</td>\n",
       "      <td>1.0</td>\n",
       "      <td>0.0</td>\n",
       "      <td>0.0</td>\n",
       "      <td>1.0</td>\n",
       "      <td>0.0</td>\n",
       "      <td>0.0</td>\n",
       "      <td>0.0</td>\n",
       "      <td>0.0</td>\n",
       "      <td>0.0</td>\n",
       "      <td>0.0</td>\n",
       "      <td>0.0</td>\n",
       "      <td>1.0</td>\n",
       "      <td>0.0</td>\n",
       "      <td>0.0</td>\n",
       "      <td>9738.0</td>\n",
       "      <td>282759.0</td>\n",
       "      <td>79723</td>\n",
       "      <td>3569</td>\n",
       "      <td>198800</td>\n",
       "      <td>32701</td>\n",
       "      <td>107391</td>\n",
       "      <td>5659</td>\n",
       "      <td>29045.0</td>\n",
       "      <td>59860</td>\n",
       "    </tr>\n",
       "  </tbody>\n",
       "</table>\n",
       "<p>172208 rows × 56 columns</p>\n",
       "</div>"
      ],
      "text/plain": [
       "                  Age at Injury  Attorney/Representative  Average Weekly Wage   Birth Year  COVID-19 Indicator  IME-4 Count  Zip Code  Number of Dependents Category Combination  Income_Category  Days_To_First_Hearing  Accident_Quarter  Accident_Year  Accident Day  Accident on Weekend  Age Group  promptness_category  promptness_C2_category  promptness_C3_category  Industry Risk  Salary_Per_Dependent  Gender_M  Gender_U  Medical Fee Region_II  Medical Fee Region_III  Medical Fee Region_IV  Medical Fee Region_UK  Body_Part_Category_Lower Extremities  Body_Part_Category_Multiple Body Parts  Body_Part_Category_Neck  Body_Part_Category_NonClassificable  Body_Part_Category_Trunk  Body_Part_Category_Upper Extremities  Injury_Nature_Category_Multiple Injuries  Injury_Nature_Category_Occupational Disease or Cumulative Injury  Injury_Nature_Category_Specific Injury  Injury_Cause_Category_COVID-19 Injury  Injury_Cause_Category_Caught In, Under, or Between  \\\n",
       "Claim Identifier                                                                                                                                                                                                                                                                                                                                                                                                                                                                                                                                                                                                                                                                                                                                                                                                                                                                                                                                                                                \n",
       "5893917                0.421875                      1.0             0.000538  1978.101209                 0.0     0.027397     10467              0.333333            PRIVATE-M                3               0.040164          0.666667       0.967742      0.000000                    0          2                    1                       1                       1              2              0.000720       1.0       0.0                    0.0                     0.0                    0.0                    1.0                                   0.0                                     0.0                      0.0                                  0.0                       0.0                                   1.0                                       0.0                                                1.0                                                    0.0                                    0.0                                                0.0    \n",
       "5978089                0.671875                      0.0             0.000594  1963.000000                 0.0     0.000000     14094              0.500000            PRIVATE-M                0               0.025765          0.333333       0.983871      0.000000                    0          0                    6                       6                       6              2              0.000595       1.0       0.0                    0.0                     0.0                    0.0                    0.0                                   0.0                                     0.0                      0.0                                  0.0                       0.0                                   1.0                                       0.0                                                0.0                                                    1.0                                    0.0                                                0.0    \n",
       "5622704                0.187500                      1.0             0.000442  1987.000000                 0.0     0.013699     20171              0.833333            PRIVATE-M                4               0.151970          0.666667       0.870968      0.166667                    0          2                    5                       5                       5              2              0.000294       1.0       0.0                    0.0                     0.0                    0.0                    1.0                                   0.0                                     0.0                      0.0                                  0.0                       0.0                                   1.0                                       0.0                                                0.0                                                    1.0                                    0.0                                                0.0    \n",
       "5774156                0.468750                      1.0             0.000876  1975.000000                 0.0     0.000000     11727              0.333333            PRIVATE-M                0               0.029037          0.666667       0.967742      0.666667                    0          0                    4                       3                       6              2              0.001172       1.0       0.0                    0.0                     0.0                    1.0                    0.0                                   0.0                                     0.0                      0.0                                  0.0                       0.0                                   1.0                                       0.0                                                0.0                                                    1.0                                    0.0                                                0.0    \n",
       "6126437                0.250000                      0.0             0.000589  1990.000000                 0.0     0.000000     11691              0.500000        SELF PUBLIC-F                0               0.025765          0.666667       0.983871      0.666667                    0          2                    0                       0                       6              0              0.000590       0.0       0.0                    0.0                     0.0                    1.0                    0.0                                   0.0                                     0.0                      0.0                                  0.0                       0.0                                   1.0                                       0.0                                                0.0                                                    1.0                                    0.0                                                0.0    \n",
       "...                         ...                      ...                  ...          ...                 ...          ...       ...                   ...                  ...              ...                    ...               ...            ...           ...                  ...        ...                  ...                     ...                     ...            ...                   ...       ...       ...                    ...                     ...                    ...                    ...                                   ...                                     ...                      ...                                  ...                       ...                                   ...                                       ...                                                ...                                                    ...                                    ...                                                ...    \n",
       "5933260                0.203125                      1.0             0.000516  1993.000000                 0.0     0.000000     13325              0.500000                SIF-M                4               0.056468          0.000000       0.983871      1.000000                    1          2                    6                       6                       6              0              0.000518       1.0       0.0                    0.0                     0.0                    0.0                    0.0                                   0.0                                     0.0                      0.0                                  0.0                       0.0                                   1.0                                       0.0                                                0.0                                                    1.0                                    0.0                                                0.0    \n",
       "5969588                0.171875                      0.0             0.000427  1995.000000                 0.0     0.000000     10469              0.000000            PRIVATE-F                4               0.025765          0.333333       0.983871      0.500000                    0          2                    6                       6                       6              2              0.001729       0.0       0.0                    0.0                     0.0                    1.0                    0.0                                   0.0                                     0.0                      0.0                                  0.0                       0.0                                   1.0                                       0.0                                                0.0                                                    1.0                                    0.0                                                0.0    \n",
       "6070626                0.421875                      0.0             0.000290  1979.101209                 0.0     0.000000      6853              0.500000            PRIVATE-F                1               0.025765          0.666667       0.983871      0.500000                    0          2                    6                       6                       6              2              0.000292       0.0       0.0                    0.0                     0.0                    0.0                    1.0                                   0.0                                     0.0                      0.0                                  0.0                       0.0                                   1.0                                       0.0                                                0.0                                                    1.0                                    0.0                                                0.0    \n",
       "5416835                0.343750                      0.0             0.000620  1981.000000                 0.0     0.000000     14094              0.666667       SELF PRIVATE-M                0               0.025765          1.000000       0.935484      0.000000                    0          2                    0                       0                       6              2              0.000496       1.0       0.0                    0.0                     0.0                    0.0                    0.0                                   0.0                                     0.0                      0.0                                  0.0                       0.0                                   1.0                                       0.0                                                0.0                                                    1.0                                    0.0                                                0.0    \n",
       "5540785                0.718750                      0.0             0.000427  1958.000000                 0.0     0.000000     12528              0.000000            PRIVATE-F                4               0.025765          0.666667       0.951613      0.166667                    0          0                    6                       6                       6              2              0.001729       0.0       0.0                    1.0                     0.0                    0.0                    0.0                                   0.0                                     0.0                      0.0                                  0.0                       0.0                                   1.0                                       0.0                                                0.0                                                    1.0                                    0.0                                                0.0    \n",
       "\n",
       "                  Injury_Cause_Category_Cut, Puncture, Scrape  Injury_Cause_Category_Fall, Slip, or Trip  Injury_Cause_Category_Miscellaneous Causes  Injury_Cause_Category_Motor Vehicle  Injury_Cause_Category_Rubbed or Abraded by  Injury_Cause_Category_Strain or Injury By  Injury_Cause_Category_Striking Against or Stepping On  Injury_Cause_Category_Struck or Injured by  Carrier_Name_Simplified_freq  Zip_Code_Simplified_freq  Industry Code_freq  County of Injury_freq  Carrier Type Merged_freq  WCIO Cause of Injury Code_freq  WCIO Nature of Injury Code_freq  WCIO Part Of Body Code_freq  Carrier_District_Interaction_freq  District Name_freq  \n",
       "Claim Identifier                                                                                                                                                                                                                                                                                                                                                                                                                                                                                                                                                                                                                                                       \n",
       "5893917                                                   0.0                                        0.0                                         0.0                                  0.0                                         0.0                                        1.0                                                0.0                                             0.0                        3159.0                    3049.0               21385                  27559                    198800                            8249                             1963                        29320                            92172.0              188402  \n",
       "5978089                                                   0.0                                        0.0                                         0.0                                  0.0                                         0.0                                        0.0                                                0.0                                             1.0                        1981.0                    1429.0               10596                   5069                    198800                           10225                            77440                         6925                            17351.0               31613  \n",
       "5622704                                                   0.0                                        0.0                                         0.0                                  0.0                                         0.0                                        1.0                                                0.0                                             0.0                       85478.0                  282759.0                6970                  21355                    198800                           23269                           107391                        26424                            17351.0               31613  \n",
       "5774156                                                   0.0                                        0.0                                         0.0                                  0.0                                         0.0                                        1.0                                                0.0                                             0.0                        1154.0                  282759.0               21385                  41965                    198800                            8335                            38955                        33692                            22238.0               42054  \n",
       "6126437                                                   0.0                                        1.0                                         0.0                                  0.0                                         0.0                                        0.0                                                0.0                                             0.0                       14917.0                    1009.0               64452                  40411                     84894                           22242                            25377                        29320                            46924.0              188402  \n",
       "...                                                       ...                                        ...                                         ...                                  ...                                         ...                                        ...                                                ...                                             ...                           ...                       ...                 ...                    ...                       ...                             ...                              ...                          ...                                ...                 ...  \n",
       "5933260                                                   0.0                                        0.0                                         0.0                                  0.0                                         0.0                                        0.0                                                0.0                                             1.0                       77168.0                  282759.0               64452                    876                     77168                           25993                           107391                        26424                             7776.0               31149  \n",
       "5969588                                                   0.0                                        1.0                                         0.0                                  0.0                                         0.0                                        0.0                                                0.0                                             0.0                        4491.0                    1462.0               79723                  27559                    198800                           22242                           107391                          798                            92172.0              188402  \n",
       "6070626                                                   1.0                                        0.0                                         0.0                                  0.0                                         0.0                                        0.0                                                0.0                                             0.0                       85478.0                  282759.0               30501                  17914                    198800                           10268                            32898                        21876                            92172.0              188402  \n",
       "5416835                                                   0.0                                        1.0                                         0.0                                  0.0                                         0.0                                        0.0                                                0.0                                             0.0                        2757.0                    1429.0               12655                   5069                     36441                            8447                            32898                         6925                             4073.0               31613  \n",
       "5540785                                                   0.0                                        0.0                                         0.0                                  0.0                                         0.0                                        1.0                                                0.0                                             0.0                        9738.0                  282759.0               79723                   3569                    198800                           32701                           107391                         5659                            29045.0               59860  \n",
       "\n",
       "[172208 rows x 56 columns]"
      ]
     },
     "execution_count": 178,
     "metadata": {},
     "output_type": "execute_result"
    }
   ],
   "source": [
    "X_val_final"
   ]
  },
  {
   "cell_type": "markdown",
   "metadata": {},
   "source": [
    "### Why Are There Missing Values (NaN) in Validation and Test Sets?\n",
    "\n",
    "During the encoding process, missing values (NaN) may appear in the validation and test sets because certain categories that exist in these sets might not be present in the training set. For instance, during frequency encoding, if a category exists only in the validation or test set but not in the training set, it will result in missing values when encoding those rows.\n",
    "\n",
    "To address this, we can fill these missing values with a placeholder such as `0`, ensuring consistent feature representation across all datasets, for now. For next deliverable we will try to implement better approaches."
   ]
  },
  {
   "cell_type": "code",
   "execution_count": 179,
   "metadata": {},
   "outputs": [
    {
     "name": "stdout",
     "output_type": "stream",
     "text": [
      "Total NaN sum: 0\n"
     ]
    }
   ],
   "source": [
    "# Summing all the NaN values in the datasets\n",
    "missing_values_total = (\n",
    "    X_train_final.isnull().sum().sum() +\n",
    "    X_val_final.isnull().sum().sum() +\n",
    "    X_test_final.isnull().sum().sum()\n",
    ")\n",
    "\n",
    "print(f\"Total NaN sum: {missing_values_total}\")"
   ]
  },
  {
   "cell_type": "code",
   "execution_count": 180,
   "metadata": {},
   "outputs": [],
   "source": [
    "#Prepare final dataset for MIC and χ² analysis\n",
    "# Use only the encoded features for the MIC and chi-squared tests\n",
    "mic_chi2_features = binary_columns + ordinal_features + list(one_hot_encoded_train_df.columns) + [f\"{col}_freq\" for col in high_cardinality_cols]\n",
    "X_train_mic_chi2 = X_train_final[mic_chi2_features]"
   ]
  },
  {
   "cell_type": "code",
   "execution_count": 181,
   "metadata": {},
   "outputs": [
    {
     "data": {
      "text/plain": [
       "44"
      ]
     },
     "execution_count": 181,
     "metadata": {},
     "output_type": "execute_result"
    }
   ],
   "source": [
    "len(X_train_mic_chi2.columns)"
   ]
  },
  {
   "cell_type": "code",
   "execution_count": 182,
   "metadata": {},
   "outputs": [
    {
     "data": {
      "text/plain": [
       "Index(['Attorney/Representative', 'COVID-19 Indicator', 'Accident on Weekend', 'promptness_category', 'promptness_C2_category', 'promptness_C3_category', 'Age Group', 'Income_Category', 'Industry Risk', 'Gender_M', 'Gender_U', 'Medical Fee Region_II', 'Medical Fee Region_III', 'Medical Fee Region_IV', 'Medical Fee Region_UK', 'Body_Part_Category_Lower Extremities', 'Body_Part_Category_Multiple Body Parts', 'Body_Part_Category_Neck', 'Body_Part_Category_NonClassificable', 'Body_Part_Category_Trunk', 'Body_Part_Category_Upper Extremities', 'Injury_Nature_Category_Multiple Injuries', 'Injury_Nature_Category_Occupational Disease or Cumulative Injury', 'Injury_Nature_Category_Specific Injury', 'Injury_Cause_Category_COVID-19 Injury', 'Injury_Cause_Category_Caught In, Under, or Between', 'Injury_Cause_Category_Cut, Puncture, Scrape', 'Injury_Cause_Category_Fall, Slip, or Trip', 'Injury_Cause_Category_Miscellaneous Causes', 'Injury_Cause_Category_Motor Vehicle',\n",
       "       'Injury_Cause_Category_Rubbed or Abraded by', 'Injury_Cause_Category_Strain or Injury By', 'Injury_Cause_Category_Striking Against or Stepping On', 'Injury_Cause_Category_Struck or Injured by', 'Carrier_Name_Simplified_freq', 'Zip_Code_Simplified_freq', 'Industry Code_freq', 'County of Injury_freq', 'Carrier Type Merged_freq', 'WCIO Cause of Injury Code_freq', 'WCIO Nature of Injury Code_freq', 'WCIO Part Of Body Code_freq', 'Carrier_District_Interaction_freq', 'District Name_freq'],\n",
       "      dtype='object')"
      ]
     },
     "execution_count": 182,
     "metadata": {},
     "output_type": "execute_result"
    }
   ],
   "source": [
    "X_train_mic_chi2.columns"
   ]
  },
  {
   "cell_type": "markdown",
   "metadata": {},
   "source": [
    "#### Chi-Squared Test for Feature Selection\n",
    "The Chi-squared test helps us identify the most relevant categorical and binary features by evaluating their independence with the target variable. In this analysis, we set a threshold to keep the 25 most relevant features."
   ]
  },
  {
   "cell_type": "code",
   "execution_count": 183,
   "metadata": {},
   "outputs": [],
   "source": [
    "from utils import select_high_score_features_chi2_no_model\n"
   ]
  },
  {
   "cell_type": "code",
   "execution_count": 184,
   "metadata": {},
   "outputs": [
    {
     "name": "stdout",
     "output_type": "stream",
     "text": [
      "Top 25 features based on Chi-square scores: ['WCIO Nature of Injury Code_freq', 'Carrier Type Merged_freq', 'District Name_freq', 'Zip_Code_Simplified_freq', 'Industry Code_freq', 'WCIO Part Of Body Code_freq', 'Carrier_Name_Simplified_freq', 'Carrier_District_Interaction_freq', 'County of Injury_freq', 'WCIO Cause of Injury Code_freq', 'Attorney/Representative', 'promptness_C3_category', 'Income_Category', 'Injury_Cause_Category_Strain or Injury By', 'Injury_Cause_Category_Cut, Puncture, Scrape', 'Body_Part_Category_Trunk', 'promptness_C2_category', 'Body_Part_Category_Upper Extremities', 'promptness_category', 'Industry Risk', 'Age Group', 'COVID-19 Indicator', 'Injury_Cause_Category_Fall, Slip, or Trip', 'Injury_Cause_Category_COVID-19 Injury', 'Injury_Cause_Category_Motor Vehicle']\n",
      "Corresponding Chi-square scores: [212491586.70222616, 94266275.39525677, 78470493.63273214, 68720608.0951044, 59692192.26503737, 52297710.57697825, 44429958.47383238, 39243249.11669883, 26182982.38754533, 18560765.276675, 103667.78304407242, 32221.00233907979, 15852.099266777699, 7383.7965235880765, 7196.684653581509, 7109.779227825875, 5137.834431106782, 5093.459037488587, 4720.658181327973, 4166.642399369549, 3854.2606007402487, 3838.0314054736145, 3625.235611652341, 3371.3023851314592, 3033.6208442260317]\n"
     ]
    }
   ],
   "source": [
    "# Example usage\n",
    "high_score_features_chi2, scores = select_high_score_features_chi2_no_model(\n",
    "    X_train_mic_chi2, \n",
    "    y_train_encoded, \n",
    "    threshold=25\n",
    ")"
   ]
  },
  {
   "cell_type": "code",
   "execution_count": 185,
   "metadata": {},
   "outputs": [
    {
     "data": {
      "text/plain": [
       "['WCIO Nature of Injury Code_freq',\n",
       " 'Carrier Type Merged_freq',\n",
       " 'District Name_freq',\n",
       " 'Zip_Code_Simplified_freq',\n",
       " 'Industry Code_freq',\n",
       " 'WCIO Part Of Body Code_freq',\n",
       " 'Carrier_Name_Simplified_freq',\n",
       " 'Carrier_District_Interaction_freq',\n",
       " 'County of Injury_freq',\n",
       " 'WCIO Cause of Injury Code_freq',\n",
       " 'Attorney/Representative',\n",
       " 'promptness_C3_category',\n",
       " 'Income_Category',\n",
       " 'Injury_Cause_Category_Strain or Injury By',\n",
       " 'Injury_Cause_Category_Cut, Puncture, Scrape',\n",
       " 'Body_Part_Category_Trunk',\n",
       " 'promptness_C2_category',\n",
       " 'Body_Part_Category_Upper Extremities',\n",
       " 'promptness_category',\n",
       " 'Industry Risk',\n",
       " 'Age Group',\n",
       " 'COVID-19 Indicator',\n",
       " 'Injury_Cause_Category_Fall, Slip, or Trip',\n",
       " 'Injury_Cause_Category_COVID-19 Injury',\n",
       " 'Injury_Cause_Category_Motor Vehicle']"
      ]
     },
     "execution_count": 185,
     "metadata": {},
     "output_type": "execute_result"
    }
   ],
   "source": [
    "high_score_features_chi2"
   ]
  },
  {
   "cell_type": "markdown",
   "metadata": {},
   "source": [
    "> ### Mutual Information Criterion (MIC) for Feature Selection <a class=\"anchor\" id=\"sub_section_4_2_2\"></a>\n",
    "\n",
    "The Mutual Information Criterion is used to measure the dependence between each feature and the target variable. By setting a threshold, we retain only the most relevant features."
   ]
  },
  {
   "cell_type": "code",
   "execution_count": 51,
   "metadata": {},
   "outputs": [],
   "source": [
    "from utils import select_high_score_features_MIC\n"
   ]
  },
  {
   "cell_type": "code",
   "execution_count": 52,
   "metadata": {},
   "outputs": [
    {
     "ename": "NameError",
     "evalue": "name 'y_train_mapped' is not defined",
     "output_type": "error",
     "traceback": [
      "\u001b[1;31m---------------------------------------------------------------------------\u001b[0m",
      "\u001b[1;31mNameError\u001b[0m                                 Traceback (most recent call last)",
      "Cell \u001b[1;32mIn[52], line 4\u001b[0m\n\u001b[0;32m      1\u001b[0m \u001b[38;5;66;03m# Example usage\u001b[39;00m\n\u001b[0;32m      2\u001b[0m high_score_features_MIC, scores_MIC \u001b[38;5;241m=\u001b[39m select_high_score_features_MIC(\n\u001b[0;32m      3\u001b[0m     X_train_mic_chi2, \n\u001b[1;32m----> 4\u001b[0m     y_train_mapped, \n\u001b[0;32m      5\u001b[0m     threshold\u001b[38;5;241m=\u001b[39m\u001b[38;5;241m25\u001b[39m, \n\u001b[0;32m      6\u001b[0m     random_state\u001b[38;5;241m=\u001b[39m\u001b[38;5;241m42\u001b[39m)\n",
      "\u001b[1;31mNameError\u001b[0m: name 'y_train_mapped' is not defined"
     ]
    }
   ],
   "source": [
    "# Example usage\n",
    "high_score_features_MIC, scores_MIC = select_high_score_features_MIC(\n",
    "    X_train_mic_chi2, \n",
    "    y_train_mapped, \n",
    "    threshold=25, \n",
    "    random_state=42)"
   ]
  },
  {
   "cell_type": "markdown",
   "metadata": {},
   "source": [
    "### Intersection of Selected Features by Chi-squared and MIC\n",
    "To identify the most relevant categorical features, we take the intersection of features selected by both Chi-squared and MIC methods."
   ]
  },
  {
   "cell_type": "code",
   "execution_count": 53,
   "metadata": {},
   "outputs": [
    {
     "ename": "NameError",
     "evalue": "name 'high_score_features_MIC' is not defined",
     "output_type": "error",
     "traceback": [
      "\u001b[1;31m---------------------------------------------------------------------------\u001b[0m",
      "\u001b[1;31mNameError\u001b[0m                                 Traceback (most recent call last)",
      "Cell \u001b[1;32mIn[53], line 2\u001b[0m\n\u001b[0;32m      1\u001b[0m \u001b[38;5;66;03m# Find common features between Chi-squared and MIC selections\u001b[39;00m\n\u001b[1;32m----> 2\u001b[0m common_categorical_features \u001b[38;5;241m=\u001b[39m \u001b[38;5;28mlist\u001b[39m(\u001b[38;5;28mset\u001b[39m(high_score_features_chi2)\u001b[38;5;241m.\u001b[39mintersection(\u001b[38;5;28mset\u001b[39m(high_score_features_MIC)))\n\u001b[0;32m      3\u001b[0m features_selected \u001b[38;5;241m=\u001b[39m common_categorical_features  \u001b[38;5;66;03m# Final list of selected features\u001b[39;00m\n\u001b[0;32m      4\u001b[0m features_selected\n",
      "\u001b[1;31mNameError\u001b[0m: name 'high_score_features_MIC' is not defined"
     ]
    }
   ],
   "source": [
    "# Find common features between Chi-squared and MIC selections\n",
    "common_categorical_features = list(set(high_score_features_chi2).intersection(set(high_score_features_MIC)))\n",
    "features_selected = common_categorical_features  # Final list of selected features\n",
    "features_selected  # Display the list of intersected features"
   ]
  },
  {
   "cell_type": "markdown",
   "metadata": {},
   "source": [
    "## 4.4. Final Features</b> <a class=\"anchor\" id=\"section_4_4\"></a>\n",
    "\n"
   ]
  },
  {
   "cell_type": "markdown",
   "metadata": {},
   "source": [
    "| Predictor             | Spearman                         | Pearson                  | Lasso   | RFE LR   | Decision Trees & RF Importance        | What to do? (One possible way to \"solve\")        |\n",
    "|-----------------------|----------------------------------|--------------------------|---------|----------|----------------------------------------|--------------------------------------------------|\n",
    "| Number of Dependents  | High (-0.81 with Salary/Depend) | Low                      | Discard | Discard  | Low                                    | Discard                                          |\n",
    "| IME-4 Count           | High (0.85 with Days to Hear)   | Low                      | Keep    | Keep     | High                                   | Include in the model                             |\n",
    "| Accident_Quarter      | Low                             | Low                      | Discard | Keep     | Low                               | Discard         |\n",
    "| Accident_Year         | Low                             | Low                      | Keep    | Keep     | Low                               | Discard                            |\n",
    "| Accident Day          | Low                             | Low                      | Discard | Keep     | Low                                    | Discard                                          |\n",
    "| Days_To_First_Hearing | High (0.85 with IME-4 Count)    | Low                      | Keep    | Keep     | High                                   | Include in the model                             |\n",
    "| Average Weekly Wage   | Moderate (0.52 with Salary/Dep) | High (0.95)              | Discard | Keep     | High                                   | Discard                             |\n",
    "| Age at Injury         | Low                             | Low                      | Keep    | Keep     | High                                   | Include in the model                \n",
    "| Salary_Per_Dependent  | High (-0.81 and 0.52)           | High (0.95)              | Keep (0.50)  | Keep     | High                                   | Include in the model                             |\n",
    "\n",
    "\n"
   ]
  },
  {
   "cell_type": "markdown",
   "metadata": {},
   "source": [
    "\n"
   ]
  },
  {
   "cell_type": "code",
   "execution_count": null,
   "metadata": {},
   "outputs": [
    {
     "name": "stdout",
     "output_type": "stream",
     "text": [
      "X_train_final shape: (398994, 25)\n",
      "X_val_final shape: (172208, 25)\n",
      "X_test_final shape: (387975, 25)\n"
     ]
    }
   ],
   "source": [
    "final_features = [\n",
    "    # Categorical features selected through MIC and chi2\n",
    "    'Carrier_District_Interaction_freq',\n",
    "    'Zip_Code_Simplified_freq',\n",
    "    'District Name_freq',\n",
    "    'COVID-19 Indicator',\n",
    "    'WCIO Cause of Injury Code_freq',\n",
    "    'WCIO Part Of Body Code_freq',\n",
    "    'Age Group',\n",
    "    'Attorney/Representative',\n",
    "    'Industry Code_freq',\n",
    "    'Body_Part_Category_Trunk',\n",
    "    'promptness_category',\n",
    "    'County of Injury_freq',\n",
    "    'promptness_C2_category',\n",
    "    'promptness_C3_category',\n",
    "    'Body_Part_Category_Upper Extremities',\n",
    "    'Carrier Type Merged_freq',\n",
    "    'Industry Risk',\n",
    "    'Carrier_Name_Simplified_freq',\n",
    "    'Income_Category',\n",
    "    'WCIO Nature of Injury Code_freq',\n",
    "    'Injury_Cause_Category_Strain or Injury By',\n",
    "    # Important numerical features\n",
    "    'IME-4 Count', 'Salary_Per_Dependent','Days_To_First_Hearing','Age at Injury'  \n",
    "]\n",
    "\n",
    "\n",
    "# Extracting the final features from the processed datasets\n",
    "X_train_final = X_train_processed_copy[final_features]\n",
    "X_val_final = X_val_processed_copy[final_features]\n",
    "X_test_final = df_test_processed_copy[final_features]\n",
    "\n",
    "# Print the shape of the final datasets to confirm consistency\n",
    "print(f\"X_train_final shape: {X_train_final.shape}\")\n",
    "print(f\"X_val_final shape: {X_val_final.shape}\")\n",
    "print(f\"X_test_final shape: {X_test_final.shape}\")"
   ]
  },
  {
   "cell_type": "markdown",
   "metadata": {},
   "source": [
    "### 4. Build a Simple Model and Assess Performance\n",
    "#### Problem Type and Model Selection\n",
    "The problem we are dealing with is a classification problem since our goal is to predict the type of variable claim injury as our target variable. As it is a categorical variable we decided to try algorithms like Logistic Regression, Random Forest, XGBoost and other classification models. To start, a simple logistic regression was built due to its interpretability and ease of use. Moreover, it supports an effective starting point for further analysis and comparison against more complex models.\n",
    "\n",
    "#### Cross-Validation for Performance Assessment\n",
    "In order to assess the model’s performance we decided to use cross validation. This technique ensures a reliable evaluation by divding our data into multiple folds and having training/testing the model on different subsets. This really helps to avoid overfitting (which was a problem that from the beginning we identify we had) and provides a comprehensive view of how well the model generalizes to unseen data.\n",
    "\n",
    "#### Metrics for Evaluation\n",
    "For model evaluation we look into some metrics like:\n",
    "Precision, Recall, and F1-Score given that our target variable is claim injury type, and the dataset has an imbalanced class distributions. \n",
    "Precision tells us how many of the predicted positive instances are actually positive, while recall shows how many of the actual positives were correctly predicted. **F1 Score* provides a balance between precision and recall, which is crucial when handling imbalanced data.\n",
    "Even though accuracy can provide a general idea of overall correctness, it is not our main focus due to the class imbalance. Relying solely on accuracy could give misleading insights, as it may be high even if the model is not performing well on minority classes\n",
    "\n",
    "With these metrics we ensure a global evaluation of the model, especially considering the facts above mentioned such as imbalanced dataset and helps guiding model improvement effectively.\n"
   ]
  },
  {
   "cell_type": "markdown",
   "metadata": {},
   "source": [
    "# 4. Setting the Target <a class=\"anchor\" id=\"chapter3\"></a>"
   ]
  },
  {
   "cell_type": "code",
   "execution_count": 186,
   "metadata": {},
   "outputs": [],
   "source": [
    "# Importar bibliotecas necessárias\n",
    "from sklearn.ensemble import RandomForestClassifier\n",
    "\n",
    "# Criar uma máscara booleana para valores 2 e 4 no y_train\n",
    "mask = (y_train_encoded == 2) | (y_train_encoded == 4)\n",
    "# Filtrar X_train com base na máscara\n",
    "X_train_2_4 = X_train_final[mask]\n",
    "# Filtrar y_train com base na mesma máscara\n",
    "y_train_2_4 = y_train_encoded[mask]\n",
    "\n",
    "# Criar uma máscara booleana para valores 2 e 4 no y_train\n",
    "mask = (y_val_encoded == 2) | (y_val_encoded == 4)\n",
    "# Filtrar X_train com base na máscara\n",
    "X_val_2_4 = X_val_final[mask]\n",
    "# Filtrar y_train com base na mesma máscara\n",
    "y_val_2_4 = y_val_encoded[mask]"
   ]
  },
  {
   "cell_type": "code",
   "execution_count": 187,
   "metadata": {},
   "outputs": [
    {
     "ename": "ValueError",
     "evalue": "could not convert string to float: '22-40'",
     "output_type": "error",
     "traceback": [
      "\u001b[1;31m---------------------------------------------------------------------------\u001b[0m",
      "\u001b[1;31mValueError\u001b[0m                                Traceback (most recent call last)",
      "\u001b[1;32m~\\AppData\\Local\\Temp\\ipykernel_24200\\321287557.py\u001b[0m in \u001b[0;36m?\u001b[1;34m()\u001b[0m\n\u001b[0;32m      1\u001b[0m \u001b[1;31m# Inicializar o classificador Random Forest\u001b[0m\u001b[1;33m\u001b[0m\u001b[1;33m\u001b[0m\u001b[0m\n\u001b[0;32m      2\u001b[0m \u001b[0mrf_model\u001b[0m \u001b[1;33m=\u001b[0m \u001b[0mRandomForestClassifier\u001b[0m\u001b[1;33m(\u001b[0m\u001b[0mrandom_state\u001b[0m\u001b[1;33m=\u001b[0m\u001b[1;36m42\u001b[0m\u001b[1;33m)\u001b[0m\u001b[1;33m\u001b[0m\u001b[1;33m\u001b[0m\u001b[0m\n\u001b[0;32m      3\u001b[0m \u001b[1;33m\u001b[0m\u001b[0m\n\u001b[0;32m      4\u001b[0m \u001b[1;31m# Treinar o modelo com os dados filtrados\u001b[0m\u001b[1;33m\u001b[0m\u001b[1;33m\u001b[0m\u001b[0m\n\u001b[1;32m----> 5\u001b[1;33m \u001b[0mrf_model\u001b[0m\u001b[1;33m.\u001b[0m\u001b[0mfit\u001b[0m\u001b[1;33m(\u001b[0m\u001b[0mX_train_2_4\u001b[0m\u001b[1;33m,\u001b[0m \u001b[0my_train_2_4\u001b[0m\u001b[1;33m)\u001b[0m\u001b[1;33m\u001b[0m\u001b[1;33m\u001b[0m\u001b[0m\n\u001b[0m",
      "\u001b[1;32mc:\\Users\\migue\\anaconda3\\anaconda31\\Lib\\site-packages\\sklearn\\base.py\u001b[0m in \u001b[0;36m?\u001b[1;34m(estimator, *args, **kwargs)\u001b[0m\n\u001b[0;32m   1469\u001b[0m                 skip_parameter_validation=(\n\u001b[0;32m   1470\u001b[0m                     \u001b[0mprefer_skip_nested_validation\u001b[0m \u001b[1;32mor\u001b[0m \u001b[0mglobal_skip_validation\u001b[0m\u001b[1;33m\u001b[0m\u001b[1;33m\u001b[0m\u001b[0m\n\u001b[0;32m   1471\u001b[0m                 \u001b[1;33m)\u001b[0m\u001b[1;33m\u001b[0m\u001b[1;33m\u001b[0m\u001b[0m\n\u001b[0;32m   1472\u001b[0m             \u001b[1;33m)\u001b[0m\u001b[1;33m:\u001b[0m\u001b[1;33m\u001b[0m\u001b[1;33m\u001b[0m\u001b[0m\n\u001b[1;32m-> 1473\u001b[1;33m                 \u001b[1;32mreturn\u001b[0m \u001b[0mfit_method\u001b[0m\u001b[1;33m(\u001b[0m\u001b[0mestimator\u001b[0m\u001b[1;33m,\u001b[0m \u001b[1;33m*\u001b[0m\u001b[0margs\u001b[0m\u001b[1;33m,\u001b[0m \u001b[1;33m**\u001b[0m\u001b[0mkwargs\u001b[0m\u001b[1;33m)\u001b[0m\u001b[1;33m\u001b[0m\u001b[1;33m\u001b[0m\u001b[0m\n\u001b[0m",
      "\u001b[1;32mc:\\Users\\migue\\anaconda3\\anaconda31\\Lib\\site-packages\\sklearn\\ensemble\\_forest.py\u001b[0m in \u001b[0;36m?\u001b[1;34m(self, X, y, sample_weight)\u001b[0m\n\u001b[0;32m    359\u001b[0m         \u001b[1;31m# Validate or convert input data\u001b[0m\u001b[1;33m\u001b[0m\u001b[1;33m\u001b[0m\u001b[0m\n\u001b[0;32m    360\u001b[0m         \u001b[1;32mif\u001b[0m \u001b[0missparse\u001b[0m\u001b[1;33m(\u001b[0m\u001b[0my\u001b[0m\u001b[1;33m)\u001b[0m\u001b[1;33m:\u001b[0m\u001b[1;33m\u001b[0m\u001b[1;33m\u001b[0m\u001b[0m\n\u001b[0;32m    361\u001b[0m             \u001b[1;32mraise\u001b[0m \u001b[0mValueError\u001b[0m\u001b[1;33m(\u001b[0m\u001b[1;34m\"sparse multilabel-indicator for y is not supported.\"\u001b[0m\u001b[1;33m)\u001b[0m\u001b[1;33m\u001b[0m\u001b[1;33m\u001b[0m\u001b[0m\n\u001b[0;32m    362\u001b[0m \u001b[1;33m\u001b[0m\u001b[0m\n\u001b[1;32m--> 363\u001b[1;33m         X, y = self._validate_data(\n\u001b[0m\u001b[0;32m    364\u001b[0m             \u001b[0mX\u001b[0m\u001b[1;33m,\u001b[0m\u001b[1;33m\u001b[0m\u001b[1;33m\u001b[0m\u001b[0m\n\u001b[0;32m    365\u001b[0m             \u001b[0my\u001b[0m\u001b[1;33m,\u001b[0m\u001b[1;33m\u001b[0m\u001b[1;33m\u001b[0m\u001b[0m\n\u001b[0;32m    366\u001b[0m             \u001b[0mmulti_output\u001b[0m\u001b[1;33m=\u001b[0m\u001b[1;32mTrue\u001b[0m\u001b[1;33m,\u001b[0m\u001b[1;33m\u001b[0m\u001b[1;33m\u001b[0m\u001b[0m\n",
      "\u001b[1;32mc:\\Users\\migue\\anaconda3\\anaconda31\\Lib\\site-packages\\sklearn\\base.py\u001b[0m in \u001b[0;36m?\u001b[1;34m(self, X, y, reset, validate_separately, cast_to_ndarray, **check_params)\u001b[0m\n\u001b[0;32m    646\u001b[0m                 \u001b[1;32mif\u001b[0m \u001b[1;34m\"estimator\"\u001b[0m \u001b[1;32mnot\u001b[0m \u001b[1;32min\u001b[0m \u001b[0mcheck_y_params\u001b[0m\u001b[1;33m:\u001b[0m\u001b[1;33m\u001b[0m\u001b[1;33m\u001b[0m\u001b[0m\n\u001b[0;32m    647\u001b[0m                     \u001b[0mcheck_y_params\u001b[0m \u001b[1;33m=\u001b[0m \u001b[1;33m{\u001b[0m\u001b[1;33m**\u001b[0m\u001b[0mdefault_check_params\u001b[0m\u001b[1;33m,\u001b[0m \u001b[1;33m**\u001b[0m\u001b[0mcheck_y_params\u001b[0m\u001b[1;33m}\u001b[0m\u001b[1;33m\u001b[0m\u001b[1;33m\u001b[0m\u001b[0m\n\u001b[0;32m    648\u001b[0m                 \u001b[0my\u001b[0m \u001b[1;33m=\u001b[0m \u001b[0mcheck_array\u001b[0m\u001b[1;33m(\u001b[0m\u001b[0my\u001b[0m\u001b[1;33m,\u001b[0m \u001b[0minput_name\u001b[0m\u001b[1;33m=\u001b[0m\u001b[1;34m\"y\"\u001b[0m\u001b[1;33m,\u001b[0m \u001b[1;33m**\u001b[0m\u001b[0mcheck_y_params\u001b[0m\u001b[1;33m)\u001b[0m\u001b[1;33m\u001b[0m\u001b[1;33m\u001b[0m\u001b[0m\n\u001b[0;32m    649\u001b[0m             \u001b[1;32melse\u001b[0m\u001b[1;33m:\u001b[0m\u001b[1;33m\u001b[0m\u001b[1;33m\u001b[0m\u001b[0m\n\u001b[1;32m--> 650\u001b[1;33m                 \u001b[0mX\u001b[0m\u001b[1;33m,\u001b[0m \u001b[0my\u001b[0m \u001b[1;33m=\u001b[0m \u001b[0mcheck_X_y\u001b[0m\u001b[1;33m(\u001b[0m\u001b[0mX\u001b[0m\u001b[1;33m,\u001b[0m \u001b[0my\u001b[0m\u001b[1;33m,\u001b[0m \u001b[1;33m**\u001b[0m\u001b[0mcheck_params\u001b[0m\u001b[1;33m)\u001b[0m\u001b[1;33m\u001b[0m\u001b[1;33m\u001b[0m\u001b[0m\n\u001b[0m\u001b[0;32m    651\u001b[0m             \u001b[0mout\u001b[0m \u001b[1;33m=\u001b[0m \u001b[0mX\u001b[0m\u001b[1;33m,\u001b[0m \u001b[0my\u001b[0m\u001b[1;33m\u001b[0m\u001b[1;33m\u001b[0m\u001b[0m\n\u001b[0;32m    652\u001b[0m \u001b[1;33m\u001b[0m\u001b[0m\n\u001b[0;32m    653\u001b[0m         \u001b[1;32mif\u001b[0m \u001b[1;32mnot\u001b[0m \u001b[0mno_val_X\u001b[0m \u001b[1;32mand\u001b[0m \u001b[0mcheck_params\u001b[0m\u001b[1;33m.\u001b[0m\u001b[0mget\u001b[0m\u001b[1;33m(\u001b[0m\u001b[1;34m\"ensure_2d\"\u001b[0m\u001b[1;33m,\u001b[0m \u001b[1;32mTrue\u001b[0m\u001b[1;33m)\u001b[0m\u001b[1;33m:\u001b[0m\u001b[1;33m\u001b[0m\u001b[1;33m\u001b[0m\u001b[0m\n",
      "\u001b[1;32mc:\\Users\\migue\\anaconda3\\anaconda31\\Lib\\site-packages\\sklearn\\utils\\validation.py\u001b[0m in \u001b[0;36m?\u001b[1;34m(X, y, accept_sparse, accept_large_sparse, dtype, order, copy, force_writeable, force_all_finite, ensure_2d, allow_nd, multi_output, ensure_min_samples, ensure_min_features, y_numeric, estimator)\u001b[0m\n\u001b[0;32m   1297\u001b[0m         raise ValueError(\n\u001b[0;32m   1298\u001b[0m             \u001b[1;33mf\"\u001b[0m\u001b[1;33m{\u001b[0m\u001b[0mestimator_name\u001b[0m\u001b[1;33m}\u001b[0m\u001b[1;33m requires y to be passed, but the target y is None\u001b[0m\u001b[1;33m\"\u001b[0m\u001b[1;33m\u001b[0m\u001b[1;33m\u001b[0m\u001b[0m\n\u001b[0;32m   1299\u001b[0m         \u001b[1;33m)\u001b[0m\u001b[1;33m\u001b[0m\u001b[1;33m\u001b[0m\u001b[0m\n\u001b[0;32m   1300\u001b[0m \u001b[1;33m\u001b[0m\u001b[0m\n\u001b[1;32m-> 1301\u001b[1;33m     X = check_array(\n\u001b[0m\u001b[0;32m   1302\u001b[0m         \u001b[0mX\u001b[0m\u001b[1;33m,\u001b[0m\u001b[1;33m\u001b[0m\u001b[1;33m\u001b[0m\u001b[0m\n\u001b[0;32m   1303\u001b[0m         \u001b[0maccept_sparse\u001b[0m\u001b[1;33m=\u001b[0m\u001b[0maccept_sparse\u001b[0m\u001b[1;33m,\u001b[0m\u001b[1;33m\u001b[0m\u001b[1;33m\u001b[0m\u001b[0m\n\u001b[0;32m   1304\u001b[0m         \u001b[0maccept_large_sparse\u001b[0m\u001b[1;33m=\u001b[0m\u001b[0maccept_large_sparse\u001b[0m\u001b[1;33m,\u001b[0m\u001b[1;33m\u001b[0m\u001b[1;33m\u001b[0m\u001b[0m\n",
      "\u001b[1;32mc:\\Users\\migue\\anaconda3\\anaconda31\\Lib\\site-packages\\sklearn\\utils\\validation.py\u001b[0m in \u001b[0;36m?\u001b[1;34m(array, accept_sparse, accept_large_sparse, dtype, order, copy, force_writeable, force_all_finite, ensure_2d, allow_nd, ensure_min_samples, ensure_min_features, estimator, input_name)\u001b[0m\n\u001b[0;32m   1009\u001b[0m                         \u001b[1;33m)\u001b[0m\u001b[1;33m\u001b[0m\u001b[1;33m\u001b[0m\u001b[0m\n\u001b[0;32m   1010\u001b[0m                     \u001b[0marray\u001b[0m \u001b[1;33m=\u001b[0m \u001b[0mxp\u001b[0m\u001b[1;33m.\u001b[0m\u001b[0mastype\u001b[0m\u001b[1;33m(\u001b[0m\u001b[0marray\u001b[0m\u001b[1;33m,\u001b[0m \u001b[0mdtype\u001b[0m\u001b[1;33m,\u001b[0m \u001b[0mcopy\u001b[0m\u001b[1;33m=\u001b[0m\u001b[1;32mFalse\u001b[0m\u001b[1;33m)\u001b[0m\u001b[1;33m\u001b[0m\u001b[1;33m\u001b[0m\u001b[0m\n\u001b[0;32m   1011\u001b[0m                 \u001b[1;32melse\u001b[0m\u001b[1;33m:\u001b[0m\u001b[1;33m\u001b[0m\u001b[1;33m\u001b[0m\u001b[0m\n\u001b[0;32m   1012\u001b[0m                     \u001b[0marray\u001b[0m \u001b[1;33m=\u001b[0m \u001b[0m_asarray_with_order\u001b[0m\u001b[1;33m(\u001b[0m\u001b[0marray\u001b[0m\u001b[1;33m,\u001b[0m \u001b[0morder\u001b[0m\u001b[1;33m=\u001b[0m\u001b[0morder\u001b[0m\u001b[1;33m,\u001b[0m \u001b[0mdtype\u001b[0m\u001b[1;33m=\u001b[0m\u001b[0mdtype\u001b[0m\u001b[1;33m,\u001b[0m \u001b[0mxp\u001b[0m\u001b[1;33m=\u001b[0m\u001b[0mxp\u001b[0m\u001b[1;33m)\u001b[0m\u001b[1;33m\u001b[0m\u001b[1;33m\u001b[0m\u001b[0m\n\u001b[1;32m-> 1013\u001b[1;33m             \u001b[1;32mexcept\u001b[0m \u001b[0mComplexWarning\u001b[0m \u001b[1;32mas\u001b[0m \u001b[0mcomplex_warning\u001b[0m\u001b[1;33m:\u001b[0m\u001b[1;33m\u001b[0m\u001b[1;33m\u001b[0m\u001b[0m\n\u001b[0m\u001b[0;32m   1014\u001b[0m                 raise ValueError(\n\u001b[0;32m   1015\u001b[0m                     \u001b[1;34m\"Complex data not supported\\n{}\\n\"\u001b[0m\u001b[1;33m.\u001b[0m\u001b[0mformat\u001b[0m\u001b[1;33m(\u001b[0m\u001b[0marray\u001b[0m\u001b[1;33m)\u001b[0m\u001b[1;33m\u001b[0m\u001b[1;33m\u001b[0m\u001b[0m\n\u001b[0;32m   1016\u001b[0m                 \u001b[1;33m)\u001b[0m \u001b[1;32mfrom\u001b[0m \u001b[0mcomplex_warning\u001b[0m\u001b[1;33m\u001b[0m\u001b[1;33m\u001b[0m\u001b[0m\n",
      "\u001b[1;32mc:\\Users\\migue\\anaconda3\\anaconda31\\Lib\\site-packages\\sklearn\\utils\\_array_api.py\u001b[0m in \u001b[0;36m?\u001b[1;34m(array, dtype, order, copy, xp, device)\u001b[0m\n\u001b[0;32m    741\u001b[0m         \u001b[1;31m# Use NumPy API to support order\u001b[0m\u001b[1;33m\u001b[0m\u001b[1;33m\u001b[0m\u001b[0m\n\u001b[0;32m    742\u001b[0m         \u001b[1;32mif\u001b[0m \u001b[0mcopy\u001b[0m \u001b[1;32mis\u001b[0m \u001b[1;32mTrue\u001b[0m\u001b[1;33m:\u001b[0m\u001b[1;33m\u001b[0m\u001b[1;33m\u001b[0m\u001b[0m\n\u001b[0;32m    743\u001b[0m             \u001b[0marray\u001b[0m \u001b[1;33m=\u001b[0m \u001b[0mnumpy\u001b[0m\u001b[1;33m.\u001b[0m\u001b[0marray\u001b[0m\u001b[1;33m(\u001b[0m\u001b[0marray\u001b[0m\u001b[1;33m,\u001b[0m \u001b[0morder\u001b[0m\u001b[1;33m=\u001b[0m\u001b[0morder\u001b[0m\u001b[1;33m,\u001b[0m \u001b[0mdtype\u001b[0m\u001b[1;33m=\u001b[0m\u001b[0mdtype\u001b[0m\u001b[1;33m)\u001b[0m\u001b[1;33m\u001b[0m\u001b[1;33m\u001b[0m\u001b[0m\n\u001b[0;32m    744\u001b[0m         \u001b[1;32melse\u001b[0m\u001b[1;33m:\u001b[0m\u001b[1;33m\u001b[0m\u001b[1;33m\u001b[0m\u001b[0m\n\u001b[1;32m--> 745\u001b[1;33m             \u001b[0marray\u001b[0m \u001b[1;33m=\u001b[0m \u001b[0mnumpy\u001b[0m\u001b[1;33m.\u001b[0m\u001b[0masarray\u001b[0m\u001b[1;33m(\u001b[0m\u001b[0marray\u001b[0m\u001b[1;33m,\u001b[0m \u001b[0morder\u001b[0m\u001b[1;33m=\u001b[0m\u001b[0morder\u001b[0m\u001b[1;33m,\u001b[0m \u001b[0mdtype\u001b[0m\u001b[1;33m=\u001b[0m\u001b[0mdtype\u001b[0m\u001b[1;33m)\u001b[0m\u001b[1;33m\u001b[0m\u001b[1;33m\u001b[0m\u001b[0m\n\u001b[0m\u001b[0;32m    746\u001b[0m \u001b[1;33m\u001b[0m\u001b[0m\n\u001b[0;32m    747\u001b[0m         \u001b[1;31m# At this point array is a NumPy ndarray. We convert it to an array\u001b[0m\u001b[1;33m\u001b[0m\u001b[1;33m\u001b[0m\u001b[0m\n\u001b[0;32m    748\u001b[0m         \u001b[1;31m# container that is consistent with the input's namespace.\u001b[0m\u001b[1;33m\u001b[0m\u001b[1;33m\u001b[0m\u001b[0m\n",
      "\u001b[1;32mc:\\Users\\migue\\anaconda3\\anaconda31\\Lib\\site-packages\\pandas\\core\\generic.py\u001b[0m in \u001b[0;36m?\u001b[1;34m(self, dtype, copy)\u001b[0m\n\u001b[0;32m   2149\u001b[0m     def __array__(\n\u001b[0;32m   2150\u001b[0m         \u001b[0mself\u001b[0m\u001b[1;33m,\u001b[0m \u001b[0mdtype\u001b[0m\u001b[1;33m:\u001b[0m \u001b[0mnpt\u001b[0m\u001b[1;33m.\u001b[0m\u001b[0mDTypeLike\u001b[0m \u001b[1;33m|\u001b[0m \u001b[1;32mNone\u001b[0m \u001b[1;33m=\u001b[0m \u001b[1;32mNone\u001b[0m\u001b[1;33m,\u001b[0m \u001b[0mcopy\u001b[0m\u001b[1;33m:\u001b[0m \u001b[0mbool_t\u001b[0m \u001b[1;33m|\u001b[0m \u001b[1;32mNone\u001b[0m \u001b[1;33m=\u001b[0m \u001b[1;32mNone\u001b[0m\u001b[1;33m\u001b[0m\u001b[1;33m\u001b[0m\u001b[0m\n\u001b[0;32m   2151\u001b[0m     \u001b[1;33m)\u001b[0m \u001b[1;33m->\u001b[0m \u001b[0mnp\u001b[0m\u001b[1;33m.\u001b[0m\u001b[0mndarray\u001b[0m\u001b[1;33m:\u001b[0m\u001b[1;33m\u001b[0m\u001b[1;33m\u001b[0m\u001b[0m\n\u001b[0;32m   2152\u001b[0m         \u001b[0mvalues\u001b[0m \u001b[1;33m=\u001b[0m \u001b[0mself\u001b[0m\u001b[1;33m.\u001b[0m\u001b[0m_values\u001b[0m\u001b[1;33m\u001b[0m\u001b[1;33m\u001b[0m\u001b[0m\n\u001b[1;32m-> 2153\u001b[1;33m         \u001b[0marr\u001b[0m \u001b[1;33m=\u001b[0m \u001b[0mnp\u001b[0m\u001b[1;33m.\u001b[0m\u001b[0masarray\u001b[0m\u001b[1;33m(\u001b[0m\u001b[0mvalues\u001b[0m\u001b[1;33m,\u001b[0m \u001b[0mdtype\u001b[0m\u001b[1;33m=\u001b[0m\u001b[0mdtype\u001b[0m\u001b[1;33m)\u001b[0m\u001b[1;33m\u001b[0m\u001b[1;33m\u001b[0m\u001b[0m\n\u001b[0m\u001b[0;32m   2154\u001b[0m         if (\n\u001b[0;32m   2155\u001b[0m             \u001b[0mastype_is_view\u001b[0m\u001b[1;33m(\u001b[0m\u001b[0mvalues\u001b[0m\u001b[1;33m.\u001b[0m\u001b[0mdtype\u001b[0m\u001b[1;33m,\u001b[0m \u001b[0marr\u001b[0m\u001b[1;33m.\u001b[0m\u001b[0mdtype\u001b[0m\u001b[1;33m)\u001b[0m\u001b[1;33m\u001b[0m\u001b[1;33m\u001b[0m\u001b[0m\n\u001b[0;32m   2156\u001b[0m             \u001b[1;32mand\u001b[0m \u001b[0musing_copy_on_write\u001b[0m\u001b[1;33m(\u001b[0m\u001b[1;33m)\u001b[0m\u001b[1;33m\u001b[0m\u001b[1;33m\u001b[0m\u001b[0m\n",
      "\u001b[1;31mValueError\u001b[0m: could not convert string to float: '22-40'"
     ]
    }
   ],
   "source": [
    "# Inicializar o classificador Random Forest\n",
    "rf_model = RandomForestClassifier(random_state=42)\n",
    "\n",
    "# Treinar o modelo com os dados filtrados\n",
    "rf_model.fit(X_train_2_4, y_train_2_4)\n"
   ]
  },
  {
   "cell_type": "code",
   "execution_count": 121,
   "metadata": {},
   "outputs": [
    {
     "name": "stdout",
     "output_type": "stream",
     "text": [
      "Acurácia no conjunto de validação: 0.9309\n",
      "\n",
      "Relatório de Classificação:\n",
      "              precision    recall  f1-score   support\n",
      "\n",
      "           2       0.93      0.97      0.95     87324\n",
      "           4       0.93      0.86      0.89     44552\n",
      "\n",
      "    accuracy                           0.93    131876\n",
      "   macro avg       0.93      0.91      0.92    131876\n",
      "weighted avg       0.93      0.93      0.93    131876\n",
      "\n",
      "\n",
      "Matriz de Confusão:\n",
      "[[84496  2828]\n",
      " [ 6280 38272]]\n"
     ]
    }
   ],
   "source": [
    "from sklearn.metrics import accuracy_score, classification_report, confusion_matrix\n",
    "\n",
    "# Fazer previsões no conjunto de validação\n",
    "val_predictions = rf_model.predict(X_val_2_4)\n",
    "\n",
    "# Avaliar a precisão\n",
    "val_accuracy = accuracy_score(y_val_2_4, val_predictions)\n",
    "print(f\"Acurácia no conjunto de validação: {val_accuracy:.4f}\")\n",
    "\n",
    "# Exibir relatório de classificação\n",
    "print(\"\\nRelatório de Classificação:\")\n",
    "print(classification_report(y_val_2_4, val_predictions))\n",
    "\n",
    "# Matriz de Confusão\n",
    "print(\"\\nMatriz de Confusão:\")\n",
    "print(confusion_matrix(y_val_2_4, val_predictions))\n"
   ]
  },
  {
   "cell_type": "code",
   "execution_count": 122,
   "metadata": {},
   "outputs": [
    {
     "name": "stdout",
     "output_type": "stream",
     "text": [
      "Acurácia no conjunto de validação com XGBoost: 0.9527\n",
      "\n",
      "Relatório de Classificação (XGBoost):\n",
      "              precision    recall  f1-score   support\n",
      "\n",
      "           0       0.95      0.98      0.96     87324\n",
      "           1       0.97      0.89      0.93     44552\n",
      "\n",
      "    accuracy                           0.95    131876\n",
      "   macro avg       0.96      0.94      0.95    131876\n",
      "weighted avg       0.95      0.95      0.95    131876\n",
      "\n",
      "\n",
      "Matriz de Confusão (XGBoost):\n",
      "[[85981  1343]\n",
      " [ 4896 39656]]\n"
     ]
    }
   ],
   "source": [
    "# Reajustar o target para 0 e 1\n",
    "y_train_binary = (y_train_2_4 == 4).astype(int)\n",
    "y_val_binary = (y_val_2_4 == 4).astype(int)\n",
    "\n",
    "from xgboost import XGBClassifier\n",
    "from sklearn.metrics import accuracy_score, classification_report, confusion_matrix\n",
    "\n",
    "# Treinar o modelo XGBoost\n",
    "xgb_model = XGBClassifier(random_state=42, n_estimators=200, learning_rate=0.1, max_depth=6)\n",
    "xgb_model.fit(X_train_2_4, y_train_binary)\n",
    "\n",
    "# Fazer previsões no conjunto de validação\n",
    "val_predictions_xgb = xgb_model.predict(X_val_2_4)\n",
    "\n",
    "# Avaliar o desempenho\n",
    "val_accuracy_xgb = accuracy_score(y_val_binary, val_predictions_xgb)\n",
    "print(f\"Acurácia no conjunto de validação com XGBoost: {val_accuracy_xgb:.4f}\")\n",
    "\n",
    "# Relatório de Classificação\n",
    "print(\"\\nRelatório de Classificação (XGBoost):\")\n",
    "print(classification_report(y_val_binary, val_predictions_xgb))\n",
    "\n",
    "# Matriz de Confusão\n",
    "print(\"\\nMatriz de Confusão (XGBoost):\")\n",
    "print(confusion_matrix(y_val_binary, val_predictions_xgb))\n",
    "\n"
   ]
  },
  {
   "cell_type": "code",
   "execution_count": 123,
   "metadata": {},
   "outputs": [
    {
     "name": "stdout",
     "output_type": "stream",
     "text": [
      "[LightGBM] [Warning] Found whitespace in feature_names, replace with underlines\n",
      "[LightGBM] [Info] Number of positive: 103933, number of negative: 202442\n",
      "[LightGBM] [Info] Auto-choosing row-wise multi-threading, the overhead of testing was 0.018902 seconds.\n",
      "You can set `force_row_wise=true` to remove the overhead.\n",
      "And if memory is not enough, you can set `force_col_wise=true`.\n",
      "[LightGBM] [Info] Total Bins 1174\n",
      "[LightGBM] [Info] Number of data points in the train set: 306375, number of used features: 25\n",
      "[LightGBM] [Info] [binary:BoostFromScore]: pavg=0.339235 -> initscore=-0.666707\n",
      "[LightGBM] [Info] Start training from score -0.666707\n",
      "Acurácia no conjunto de validação com LightGBM: 0.9561\n",
      "\n",
      "Relatório de Classificação (LightGBM):\n",
      "              precision    recall  f1-score   support\n",
      "\n",
      "           0       0.95      0.99      0.97     87324\n",
      "           1       0.97      0.90      0.93     44552\n",
      "\n",
      "    accuracy                           0.96    131876\n",
      "   macro avg       0.96      0.94      0.95    131876\n",
      "weighted avg       0.96      0.96      0.96    131876\n",
      "\n",
      "\n",
      "Matriz de Confusão (LightGBM):\n",
      "[[86081  1243]\n",
      " [ 4544 40008]]\n"
     ]
    }
   ],
   "source": [
    "from lightgbm import LGBMClassifier\n",
    "\n",
    "# Treinar o modelo LightGBM\n",
    "lgb_model = LGBMClassifier(random_state=42, n_estimators=200, learning_rate=0.1, max_depth=6)\n",
    "lgb_model.fit(X_train_2_4, y_train_binary)\n",
    "\n",
    "# Fazer previsões no conjunto de validação\n",
    "val_predictions_lgb = lgb_model.predict(X_val_2_4)\n",
    "\n",
    "# Avaliar o desempenho\n",
    "val_accuracy_lgb = accuracy_score(y_val_binary, val_predictions_lgb)\n",
    "print(f\"Acurácia no conjunto de validação com LightGBM: {val_accuracy_lgb:.4f}\")\n",
    "print(\"\\nRelatório de Classificação (LightGBM):\")\n",
    "print(classification_report(y_val_binary, val_predictions_lgb))\n",
    "print(\"\\nMatriz de Confusão (LightGBM):\")\n",
    "print(confusion_matrix(y_val_binary, val_predictions_lgb))\n"
   ]
  },
  {
   "cell_type": "code",
   "execution_count": 124,
   "metadata": {},
   "outputs": [
    {
     "name": "stdout",
     "output_type": "stream",
     "text": [
      "Acurácia no conjunto de validação com CatBoost: 0.9490\n",
      "\n",
      "Relatório de Classificação (CatBoost):\n",
      "              precision    recall  f1-score   support\n",
      "\n",
      "           0       0.94      0.98      0.96     87324\n",
      "           1       0.97      0.88      0.92     44552\n",
      "\n",
      "    accuracy                           0.95    131876\n",
      "   macro avg       0.95      0.93      0.94    131876\n",
      "weighted avg       0.95      0.95      0.95    131876\n",
      "\n",
      "\n",
      "Matriz de Confusão (CatBoost):\n",
      "[[85912  1412]\n",
      " [ 5315 39237]]\n"
     ]
    }
   ],
   "source": [
    "from catboost import CatBoostClassifier\n",
    "\n",
    "# Treinar o modelo CatBoost\n",
    "cat_model = CatBoostClassifier(random_state=42, iterations=200, learning_rate=0.1, depth=6, verbose=0)\n",
    "cat_model.fit(X_train_2_4, y_train_binary)\n",
    "\n",
    "# Fazer previsões no conjunto de validação\n",
    "val_predictions_cat = cat_model.predict(X_val_2_4)\n",
    "\n",
    "# Avaliar o desempenho\n",
    "val_accuracy_cat = accuracy_score(y_val_binary, val_predictions_cat)\n",
    "print(f\"Acurácia no conjunto de validação com CatBoost: {val_accuracy_cat:.4f}\")\n",
    "print(\"\\nRelatório de Classificação (CatBoost):\")\n",
    "print(classification_report(y_val_binary, val_predictions_cat))\n",
    "print(\"\\nMatriz de Confusão (CatBoost):\")\n",
    "print(confusion_matrix(y_val_binary, val_predictions_cat))\n"
   ]
  },
  {
   "cell_type": "code",
   "execution_count": 63,
   "metadata": {},
   "outputs": [
    {
     "name": "stdout",
     "output_type": "stream",
     "text": [
      "Acurácia no conjunto de validação com Gradient Boosting: 0.9558\n",
      "\n",
      "Relatório de Classificação (Gradient Boosting):\n",
      "              precision    recall  f1-score   support\n",
      "\n",
      "           0       0.95      0.99      0.97     87324\n",
      "           1       0.97      0.90      0.93     44552\n",
      "\n",
      "    accuracy                           0.96    131876\n",
      "   macro avg       0.96      0.94      0.95    131876\n",
      "weighted avg       0.96      0.96      0.96    131876\n",
      "\n",
      "\n",
      "Matriz de Confusão (Gradient Boosting):\n",
      "[[86015  1309]\n",
      " [ 4514 40038]]\n"
     ]
    }
   ],
   "source": [
    "from sklearn.ensemble import GradientBoostingClassifier\n",
    "\n",
    "# Treinar o modelo Gradient Boosting\n",
    "gb_model = GradientBoostingClassifier(random_state=42, n_estimators=200, learning_rate=0.1, max_depth=6)\n",
    "gb_model.fit(X_train_2_4, y_train_binary)\n",
    "\n",
    "# Fazer previsões no conjunto de validação\n",
    "val_predictions_gb = gb_model.predict(X_val_2_4)\n",
    "\n",
    "# Avaliar o desempenho\n",
    "val_accuracy_gb = accuracy_score(y_val_binary, val_predictions_gb)\n",
    "print(f\"Acurácia no conjunto de validação com Gradient Boosting: {val_accuracy_gb:.4f}\")\n",
    "print(\"\\nRelatório de Classificação (Gradient Boosting):\")\n",
    "print(classification_report(y_val_binary, val_predictions_gb))\n",
    "print(\"\\nMatriz de Confusão (Gradient Boosting):\")\n",
    "print(confusion_matrix(y_val_binary, val_predictions_gb))\n"
   ]
  },
  {
   "cell_type": "code",
   "execution_count": 136,
   "metadata": {},
   "outputs": [
    {
     "ename": "ValueError",
     "evalue": "Number of features of the model must match the input. Model n_features_ is 25 and input n_features is 27",
     "output_type": "error",
     "traceback": [
      "\u001b[1;31m---------------------------------------------------------------------------\u001b[0m",
      "\u001b[1;31mValueError\u001b[0m                                Traceback (most recent call last)",
      "Cell \u001b[1;32mIn[136], line 5\u001b[0m\n\u001b[0;32m      2\u001b[0m X_test_majority \u001b[38;5;241m=\u001b[39m X_test_final[y_test \u001b[38;5;241m==\u001b[39m \u001b[38;5;241m1\u001b[39m]\n\u001b[0;32m      4\u001b[0m \u001b[38;5;66;03m# Fazer previsões nas linhas majoritárias\u001b[39;00m\n\u001b[1;32m----> 5\u001b[0m test_majority_predictions \u001b[38;5;241m=\u001b[39m lgb_model\u001b[38;5;241m.\u001b[39mpredict(X_test_majority)\n\u001b[0;32m      7\u001b[0m \u001b[38;5;66;03m# Adicionar as previsões ao dataset de teste\u001b[39;00m\n\u001b[0;32m      8\u001b[0m \u001b[38;5;66;03m# Ajustar previsões para classes originais\u001b[39;00m\n\u001b[0;32m      9\u001b[0m X_test_final\u001b[38;5;241m.\u001b[39mloc[y_test \u001b[38;5;241m==\u001b[39m \u001b[38;5;241m1\u001b[39m, \u001b[38;5;124m'\u001b[39m\u001b[38;5;124mFinal_Predictions\u001b[39m\u001b[38;5;124m'\u001b[39m] \u001b[38;5;241m=\u001b[39m np\u001b[38;5;241m.\u001b[39mwhere(\n\u001b[0;32m     10\u001b[0m     test_majority_predictions \u001b[38;5;241m==\u001b[39m \u001b[38;5;241m1\u001b[39m, \u001b[38;5;241m4\u001b[39m, \u001b[38;5;241m2\u001b[39m\n\u001b[0;32m     11\u001b[0m )\n",
      "File \u001b[1;32mc:\\Users\\migue\\anaconda3\\anaconda31\\Lib\\site-packages\\lightgbm\\sklearn.py:1321\u001b[0m, in \u001b[0;36mLGBMClassifier.predict\u001b[1;34m(self, X, raw_score, start_iteration, num_iteration, pred_leaf, pred_contrib, validate_features, **kwargs)\u001b[0m\n\u001b[0;32m   1309\u001b[0m \u001b[38;5;28;01mdef\u001b[39;00m \u001b[38;5;21mpredict\u001b[39m(\n\u001b[0;32m   1310\u001b[0m     \u001b[38;5;28mself\u001b[39m,\n\u001b[0;32m   1311\u001b[0m     X: _LGBM_ScikitMatrixLike,\n\u001b[1;32m   (...)\u001b[0m\n\u001b[0;32m   1318\u001b[0m     \u001b[38;5;241m*\u001b[39m\u001b[38;5;241m*\u001b[39mkwargs: Any,\n\u001b[0;32m   1319\u001b[0m ):\n\u001b[0;32m   1320\u001b[0m \u001b[38;5;250m    \u001b[39m\u001b[38;5;124;03m\"\"\"Docstring is inherited from the LGBMModel.\"\"\"\u001b[39;00m\n\u001b[1;32m-> 1321\u001b[0m     result \u001b[38;5;241m=\u001b[39m \u001b[38;5;28mself\u001b[39m\u001b[38;5;241m.\u001b[39mpredict_proba(\n\u001b[0;32m   1322\u001b[0m         X\u001b[38;5;241m=\u001b[39mX,\n\u001b[0;32m   1323\u001b[0m         raw_score\u001b[38;5;241m=\u001b[39mraw_score,\n\u001b[0;32m   1324\u001b[0m         start_iteration\u001b[38;5;241m=\u001b[39mstart_iteration,\n\u001b[0;32m   1325\u001b[0m         num_iteration\u001b[38;5;241m=\u001b[39mnum_iteration,\n\u001b[0;32m   1326\u001b[0m         pred_leaf\u001b[38;5;241m=\u001b[39mpred_leaf,\n\u001b[0;32m   1327\u001b[0m         pred_contrib\u001b[38;5;241m=\u001b[39mpred_contrib,\n\u001b[0;32m   1328\u001b[0m         validate_features\u001b[38;5;241m=\u001b[39mvalidate_features,\n\u001b[0;32m   1329\u001b[0m         \u001b[38;5;241m*\u001b[39m\u001b[38;5;241m*\u001b[39mkwargs,\n\u001b[0;32m   1330\u001b[0m     )\n\u001b[0;32m   1331\u001b[0m     \u001b[38;5;28;01mif\u001b[39;00m \u001b[38;5;28mcallable\u001b[39m(\u001b[38;5;28mself\u001b[39m\u001b[38;5;241m.\u001b[39m_objective) \u001b[38;5;129;01mor\u001b[39;00m raw_score \u001b[38;5;129;01mor\u001b[39;00m pred_leaf \u001b[38;5;129;01mor\u001b[39;00m pred_contrib:\n\u001b[0;32m   1332\u001b[0m         \u001b[38;5;28;01mreturn\u001b[39;00m result\n",
      "File \u001b[1;32mc:\\Users\\migue\\anaconda3\\anaconda31\\Lib\\site-packages\\lightgbm\\sklearn.py:1351\u001b[0m, in \u001b[0;36mLGBMClassifier.predict_proba\u001b[1;34m(self, X, raw_score, start_iteration, num_iteration, pred_leaf, pred_contrib, validate_features, **kwargs)\u001b[0m\n\u001b[0;32m   1339\u001b[0m \u001b[38;5;28;01mdef\u001b[39;00m \u001b[38;5;21mpredict_proba\u001b[39m(\n\u001b[0;32m   1340\u001b[0m     \u001b[38;5;28mself\u001b[39m,\n\u001b[0;32m   1341\u001b[0m     X: _LGBM_ScikitMatrixLike,\n\u001b[1;32m   (...)\u001b[0m\n\u001b[0;32m   1348\u001b[0m     \u001b[38;5;241m*\u001b[39m\u001b[38;5;241m*\u001b[39mkwargs: Any,\n\u001b[0;32m   1349\u001b[0m ):\n\u001b[0;32m   1350\u001b[0m \u001b[38;5;250m    \u001b[39m\u001b[38;5;124;03m\"\"\"Docstring is set after definition, using a template.\"\"\"\u001b[39;00m\n\u001b[1;32m-> 1351\u001b[0m     result \u001b[38;5;241m=\u001b[39m \u001b[38;5;28msuper\u001b[39m()\u001b[38;5;241m.\u001b[39mpredict(\n\u001b[0;32m   1352\u001b[0m         X\u001b[38;5;241m=\u001b[39mX,\n\u001b[0;32m   1353\u001b[0m         raw_score\u001b[38;5;241m=\u001b[39mraw_score,\n\u001b[0;32m   1354\u001b[0m         start_iteration\u001b[38;5;241m=\u001b[39mstart_iteration,\n\u001b[0;32m   1355\u001b[0m         num_iteration\u001b[38;5;241m=\u001b[39mnum_iteration,\n\u001b[0;32m   1356\u001b[0m         pred_leaf\u001b[38;5;241m=\u001b[39mpred_leaf,\n\u001b[0;32m   1357\u001b[0m         pred_contrib\u001b[38;5;241m=\u001b[39mpred_contrib,\n\u001b[0;32m   1358\u001b[0m         validate_features\u001b[38;5;241m=\u001b[39mvalidate_features,\n\u001b[0;32m   1359\u001b[0m         \u001b[38;5;241m*\u001b[39m\u001b[38;5;241m*\u001b[39mkwargs,\n\u001b[0;32m   1360\u001b[0m     )\n\u001b[0;32m   1361\u001b[0m     \u001b[38;5;28;01mif\u001b[39;00m \u001b[38;5;28mcallable\u001b[39m(\u001b[38;5;28mself\u001b[39m\u001b[38;5;241m.\u001b[39m_objective) \u001b[38;5;129;01mand\u001b[39;00m \u001b[38;5;129;01mnot\u001b[39;00m (raw_score \u001b[38;5;129;01mor\u001b[39;00m pred_leaf \u001b[38;5;129;01mor\u001b[39;00m pred_contrib):\n\u001b[0;32m   1362\u001b[0m         _log_warning(\n\u001b[0;32m   1363\u001b[0m             \u001b[38;5;124m\"\u001b[39m\u001b[38;5;124mCannot compute class probabilities or labels \u001b[39m\u001b[38;5;124m\"\u001b[39m\n\u001b[0;32m   1364\u001b[0m             \u001b[38;5;124m\"\u001b[39m\u001b[38;5;124mdue to the usage of customized objective function.\u001b[39m\u001b[38;5;130;01m\\n\u001b[39;00m\u001b[38;5;124m\"\u001b[39m\n\u001b[0;32m   1365\u001b[0m             \u001b[38;5;124m\"\u001b[39m\u001b[38;5;124mReturning raw scores instead.\u001b[39m\u001b[38;5;124m\"\u001b[39m\n\u001b[0;32m   1366\u001b[0m         )\n",
      "File \u001b[1;32mc:\\Users\\migue\\anaconda3\\anaconda31\\Lib\\site-packages\\lightgbm\\sklearn.py:1010\u001b[0m, in \u001b[0;36mLGBMModel.predict\u001b[1;34m(self, X, raw_score, start_iteration, num_iteration, pred_leaf, pred_contrib, validate_features, **kwargs)\u001b[0m\n\u001b[0;32m   1008\u001b[0m n_features \u001b[38;5;241m=\u001b[39m X\u001b[38;5;241m.\u001b[39mshape[\u001b[38;5;241m1\u001b[39m]\n\u001b[0;32m   1009\u001b[0m \u001b[38;5;28;01mif\u001b[39;00m \u001b[38;5;28mself\u001b[39m\u001b[38;5;241m.\u001b[39m_n_features \u001b[38;5;241m!=\u001b[39m n_features:\n\u001b[1;32m-> 1010\u001b[0m     \u001b[38;5;28;01mraise\u001b[39;00m \u001b[38;5;167;01mValueError\u001b[39;00m(\n\u001b[0;32m   1011\u001b[0m         \u001b[38;5;124m\"\u001b[39m\u001b[38;5;124mNumber of features of the model must \u001b[39m\u001b[38;5;124m\"\u001b[39m\n\u001b[0;32m   1012\u001b[0m         \u001b[38;5;124mf\u001b[39m\u001b[38;5;124m\"\u001b[39m\u001b[38;5;124mmatch the input. Model n_features_ is \u001b[39m\u001b[38;5;132;01m{\u001b[39;00m\u001b[38;5;28mself\u001b[39m\u001b[38;5;241m.\u001b[39m_n_features\u001b[38;5;132;01m}\u001b[39;00m\u001b[38;5;124m and \u001b[39m\u001b[38;5;124m\"\u001b[39m\n\u001b[0;32m   1013\u001b[0m         \u001b[38;5;124mf\u001b[39m\u001b[38;5;124m\"\u001b[39m\u001b[38;5;124minput n_features is \u001b[39m\u001b[38;5;132;01m{\u001b[39;00mn_features\u001b[38;5;132;01m}\u001b[39;00m\u001b[38;5;124m\"\u001b[39m\n\u001b[0;32m   1014\u001b[0m     )\n\u001b[0;32m   1015\u001b[0m \u001b[38;5;66;03m# retrieve original params that possibly can be used in both training and prediction\u001b[39;00m\n\u001b[0;32m   1016\u001b[0m \u001b[38;5;66;03m# and then overwrite them (considering aliases) with params that were passed directly in prediction\u001b[39;00m\n\u001b[0;32m   1017\u001b[0m predict_params \u001b[38;5;241m=\u001b[39m \u001b[38;5;28mself\u001b[39m\u001b[38;5;241m.\u001b[39m_process_params(stage\u001b[38;5;241m=\u001b[39m\u001b[38;5;124m\"\u001b[39m\u001b[38;5;124mpredict\u001b[39m\u001b[38;5;124m\"\u001b[39m)\n",
      "\u001b[1;31mValueError\u001b[0m: Number of features of the model must match the input. Model n_features_ is 25 and input n_features is 27"
     ]
    }
   ],
   "source": [
    "\n",
    "# Filtrar linhas majoritárias no dataset de teste com base em y_test\n",
    "X_test_majority = X_test_final[y_test == 1]\n",
    "\n",
    "# Fazer previsões nas linhas majoritárias\n",
    "test_majority_predictions = lgb_model.predict(X_test_majority)\n",
    "\n",
    "# Adicionar as previsões ao dataset de teste\n",
    "# Ajustar previsões para classes originais\n",
    "X_test_final.loc[y_test == 1, 'Final_Predictions'] = np.where(\n",
    "    test_majority_predictions == 1, 4, 2\n",
    ")\n",
    "\n",
    "\n"
   ]
  },
  {
   "cell_type": "code",
   "execution_count": 133,
   "metadata": {},
   "outputs": [],
   "source": [
    "# Adicionar y_test ao DataFrame X_test_final\n",
    "X_test_final['Predictions'] = y_test.values\n"
   ]
  },
  {
   "cell_type": "code",
   "execution_count": 135,
   "metadata": {},
   "outputs": [
    {
     "data": {
      "text/plain": [
       "Final_Predictions\n",
       "0.0    169697\n",
       "1.0     43308\n",
       "Name: count, dtype: int64"
      ]
     },
     "execution_count": 135,
     "metadata": {},
     "output_type": "execute_result"
    }
   ],
   "source": [
    "X_test_final['Final_Predictions'].value_counts()"
   ]
  },
  {
   "cell_type": "code",
   "execution_count": 132,
   "metadata": {},
   "outputs": [
    {
     "data": {
      "text/plain": [
       "387975"
      ]
     },
     "execution_count": 132,
     "metadata": {},
     "output_type": "execute_result"
    }
   ],
   "source": [
    "len(y_test)"
   ]
  },
  {
   "cell_type": "code",
   "execution_count": null,
   "metadata": {},
   "outputs": [],
   "source": []
  }
 ],
 "metadata": {
  "kernelspec": {
   "display_name": "base",
   "language": "python",
   "name": "python3"
  },
  "language_info": {
   "codemirror_mode": {
    "name": "ipython",
    "version": 3
   },
   "file_extension": ".py",
   "mimetype": "text/x-python",
   "name": "python",
   "nbconvert_exporter": "python",
   "pygments_lexer": "ipython3",
   "version": "3.12.4"
  }
 },
 "nbformat": 4,
 "nbformat_minor": 2
}
