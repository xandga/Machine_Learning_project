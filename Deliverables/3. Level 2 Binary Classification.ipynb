{
 "cells": [
  {
   "cell_type": "markdown",
   "metadata": {},
   "source": [
    "# **<h3 align=\"center\">Machine Learning - Project</h3>**\n",
    "## **<h3 align=\"center\">3. Level 2 Binary Classification</h3>**\n",
    "### **<h3 align=\"center\">Group 30 - Project</h3>**\n",
    "\n",
    "\n",
    "### Group Members\n",
    "| Name              | Email                        | Student ID |\n",
    "|-------------------|------------------------------|------------|\n",
    "| Alexandra Pinto   | 20211599@novaims.unl.pt      | 20211599   |\n",
    "| Gonçalo Peres     | 20211625@novaims.unl.pt      | 20211625   |\n",
    "| Leonor Mira       | 20240658@novaims.unl.pt      | 20240658   |\n",
    "| Miguel Natário    | 20240498@novaims.unl.pt      | 20240498   |\n",
    "| Nuno Bernardino   | 2021546@novaims.unl.pt       | 2021546    |"
   ]
  },
  {
   "cell_type": "markdown",
   "metadata": {},
   "source": [
    "---\n",
    "\n",
    "### **3. Level 2 Binary Classification Notebook**\n",
    "**Description:**\n",
    "This notebook focuses on the **Level 2 Binary Classification model**, which distinguishes between the two most common classes identified in Level 1:\n",
    "- **2 - NON-COMP**\n",
    "- **4 - TEMPORARY**\n",
    "\n",
    "Key steps include:\n",
    "- Loading the subset of **“Common”** cases from Level 1 predictions.\n",
    "- **Feature selection:** Tailor feature preprocessing and selection for this binary classification task.\n",
    "- **Model training:** Train and evaluate a binary classification model to distinguish between the two classes.\n",
    "- **Evaluation:** Use metrics like accuracy, precision, recall, and F1-score to measure performance.\n",
    "- **Output:** Save predictions for integration in the final notebook.\n",
    "\n",
    "This notebook refines the classification of cases within the most common classes, contributing to the pipeline's accuracy.\n",
    "\n",
    "---\n"
   ]
  },
  {
   "cell_type": "markdown",
   "metadata": {},
   "source": [
    "## Table of Contents\n",
    "* [1. Import the Libraries](#chapter1)\n",
    "* [2. Load and Prepare Datasets](#chapter2)\n",
    "* [3. Setting the Target](#chapter3)\n",
    "* [4. Feature Selection](#chapter4)\n",
    "    * [Scaling the Data](#section_4_1)  \n",
    "    * [Numerical Features](#section_4_2) \n",
    "    * [Categorical Features](#section_4_3) \n",
    "    * [Final Features](#section_4_3)\n",
    "* [5. Modelling](#chapter5)\n",
    "* [6. Loading the results](#chapter6)\n"
   ]
  },
  {
   "cell_type": "markdown",
   "metadata": {},
   "source": [
    "# 1. Import the Libraries 📚<a class=\"anchor\" id=\"chapter1\"></a>"
   ]
  },
  {
   "cell_type": "code",
   "execution_count": null,
   "metadata": {},
   "outputs": [],
   "source": []
  },
  {
   "cell_type": "code",
   "execution_count": null,
   "metadata": {},
   "outputs": [],
   "source": []
  },
  {
   "cell_type": "code",
   "execution_count": null,
   "metadata": {},
   "outputs": [],
   "source": []
  },
  {
   "cell_type": "code",
   "execution_count": null,
   "metadata": {},
   "outputs": [],
   "source": []
  },
  {
   "cell_type": "code",
   "execution_count": null,
   "metadata": {},
   "outputs": [],
   "source": []
  },
  {
   "cell_type": "code",
   "execution_count": null,
   "metadata": {},
   "outputs": [],
   "source": []
  },
  {
   "cell_type": "markdown",
   "metadata": {},
   "source": [
    "# 2. Load and Prepare Datasets 📁<a class=\"anchor\" id=\"chapter2\"></a>"
   ]
  },
  {
   "cell_type": "code",
   "execution_count": null,
   "metadata": {},
   "outputs": [],
   "source": []
  },
  {
   "cell_type": "code",
   "execution_count": null,
   "metadata": {},
   "outputs": [],
   "source": []
  },
  {
   "cell_type": "markdown",
   "metadata": {},
   "source": [
    "# 3. Setting the Target <a class=\"anchor\" id=\"chapter3\"></a>"
   ]
  },
  {
   "cell_type": "code",
   "execution_count": null,
   "metadata": {},
   "outputs": [],
   "source": []
  },
  {
   "cell_type": "code",
   "execution_count": null,
   "metadata": {},
   "outputs": [],
   "source": []
  },
  {
   "cell_type": "code",
   "execution_count": null,
   "metadata": {},
   "outputs": [],
   "source": []
  }
 ],
 "metadata": {
  "language_info": {
   "name": "python"
  }
 },
 "nbformat": 4,
 "nbformat_minor": 2
}
