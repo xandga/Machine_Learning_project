{
 "cells": [
  {
   "cell_type": "markdown",
   "metadata": {},
   "source": [
    "# **<h3 align=\"center\">Machine Learning - Project</h3>**\n",
    "## **<h3 align=\"center\">5. Level 2 Binary Classification</h3>**\n",
    "### **<h3 align=\"center\">Group 30 - Project</h3>**\n",
    "\n",
    "\n",
    "### Group Members\n",
    "| Name              | Email                        | Student ID |\n",
    "|-------------------|------------------------------|------------|\n",
    "| Alexandra Pinto   | 20211599@novaims.unl.pt      | 20211599   |\n",
    "| Gonçalo Peres     | 20211625@novaims.unl.pt      | 20211625   |\n",
    "| Leonor Mira       | 20240658@novaims.unl.pt      | 20240658   |\n",
    "| Miguel Natário    | 20240498@novaims.unl.pt      | 20240498   |\n",
    "| Nuno Bernardino   | 20211546@novaims.unl.pt      | 20211546    |"
   ]
  },
  {
   "cell_type": "markdown",
   "metadata": {},
   "source": [
    "---\n",
    "\n",
    "### **5. Level 2 Binary Classification Notebook**\n",
    "**Description:**\n",
    "This notebook focuses on the **Level 2 Binary Classification model**, which distinguishes between the two most common classes identified in Level 1:\n",
    "- **2 - NON-COMP**\n",
    "- **4 - TEMPORARY**\n",
    "\n",
    "Key steps include:\n",
    "- Loading the subset of **“Common”** cases from Level 1 predictions.\n",
    "- **Feature selection:** Tailor feature preprocessing and selection for this binary classification task.\n",
    "- **Model training:** Train and evaluate a binary classification model to distinguish between the two classes.\n",
    "- **Evaluation:** Use metrics like accuracy, precision, recall, and F1-score to measure performance.\n",
    "- **Output:** Save predictions for integration in the final notebook.\n",
    "\n",
    "This notebook refines the classification of cases within the most common classes, contributing to the pipeline's accuracy.\n",
    "\n",
    "---\n"
   ]
  },
  {
   "cell_type": "markdown",
   "metadata": {},
   "source": [
    "<a id = \"toc\"></a>\n",
    "\n",
    "## Table of Contents\n",
    "* [1. Import the Libraries](#chapter1)\n",
    "* [2. Load and Prepare Datasets](#chapter2)\n",
    "* [3. Setting the Target](#chapter3)\n",
    "* [4. Feature Selection](#chapter4)\n",
    "    * [4.1. Preparing the Data](#section_4_1)  \n",
    "    * [4.2. Numerical Features](#section_4_2) \n",
    "        * [4.2.1. LASSO Regression](#section_4_2_1)\n",
    "        * [4.2.2. Recursive Feature Elimination - RFE](#section_4_2_2)\n",
    "        * [4.2.3. Feature Importance - Decision Tree](#section_4_2_3)\n",
    "        * [4.2.4. Feature Importance - Random Forest](#section_4_2_4)\n",
    "    * [4.3. Categorical Features](#section_4_3)\n",
    "        * [4.3.1. $\\chi ^2$ Test for Independence](#section_4_3_1)\n",
    "        * [4.3.2. Mutual Information Criterion (MIC)](#section_4_3_2)\n",
    "    * [4.4. Final Features](#section_4_4)\n",
    "* [5. Modelling](#chapter5)\n",
    "  * [5.1. Logistic Regression](#section_5_1)\n",
    "  * [5.2. Random Forest Trees](#section_5_2)\n",
    "  * [5.3. Decision Trees](#section_5_3)\n",
    "  * [5.4. Gradient Boosting](#section_5_4)\n",
    "  * [5.5. Summary of Models](#section_5_5)\n",
    "* [6. Loading the results](#chapter6)\n"
   ]
  },
  {
   "cell_type": "markdown",
   "metadata": {},
   "source": [
    "# 1. Import the Libraries 📚<a class=\"anchor\" id=\"chapter1\"></a>\n",
    "[Back to ToC](#toc)<br>"
   ]
  },
  {
   "cell_type": "code",
   "execution_count": 185,
   "metadata": {},
   "outputs": [],
   "source": [
    "# --- Standard Libraries ---\n",
    "import pandas as pd\n",
    "import numpy as np\n",
    "import pickle\n",
    "import time\n",
    "\n",
    "# --- Scikit-Learn Modules for Data Partitioning and Preprocessing ---\n",
    "from sklearn.preprocessing import LabelEncoder, RobustScaler\n",
    "\n",
    "# Wrapper Methods and Modeling\n",
    "from sklearn.linear_model import LogisticRegression\n",
    "from sklearn.feature_selection import RFE\n",
    "from sklearn.ensemble import RandomForestClassifier\n",
    "from sklearn.tree import DecisionTreeClassifier\n",
    "from catboost import CatBoostClassifier\n",
    "from xgboost import XGBClassifier\n",
    "\n",
    "# Embedded Methods\n",
    "from sklearn.linear_model import LassoCV\n",
    "\n",
    "# --- Warnings ---\n",
    "import warnings\n",
    "warnings.filterwarnings('ignore')\n",
    "\n",
    "\n",
    "#Import from utils the used functions\n",
    "from utils import plot_importance, cor_heatmap, find_optimal_features_with_rfe, compare_rf_feature_importances\n",
    "from utils import compare_feature_importances, select_high_score_features_chi2_no_model, select_high_score_features_MIC, metrics\n"
   ]
  },
  {
   "cell_type": "markdown",
   "metadata": {},
   "source": [
    "In this topic we will also import the pre-saved feature categories dictionary from Notebook 3, ensuring consistency in feature grouping for feature selection and modeling."
   ]
  },
  {
   "cell_type": "code",
   "execution_count": 186,
   "metadata": {},
   "outputs": [],
   "source": [
    "# Load the feature categories dictionary\n",
    "feature_categories_file = \"feature_categories.pkl\"\n",
    "with open(feature_categories_file, \"rb\") as file:\n",
    "    feature_categories = pickle.load(file)"
   ]
  },
  {
   "cell_type": "markdown",
   "metadata": {},
   "source": [
    "# 2. Load and Prepare Datasets 📁<a class=\"anchor\" id=\"chapter2\"></a>\n",
    "[Back to ToC](#toc)<br>\n",
    "\n",
    "Now that we preprocessed the dataset in notebook 3. we will upload those datasets"
   ]
  },
  {
   "cell_type": "code",
   "execution_count": 187,
   "metadata": {},
   "outputs": [],
   "source": [
    "#Import the datasets\n",
    "X_train = pd.read_csv(\"../processed_datasets/X_train_model.csv\", index_col=\"Claim Identifier\")\n",
    "X_val = pd.read_csv(\"../processed_datasets/X_val_model.csv\", index_col=\"Claim Identifier\")\n",
    "df_test = pd.read_csv(\"../Data_Temporary/df_test_predictions_not4.csv\", index_col=\"Claim Identifier\")"
   ]
  },
  {
   "cell_type": "markdown",
   "metadata": {},
   "source": [
    "Let's open the dataset."
   ]
  },
  {
   "cell_type": "code",
   "execution_count": 188,
   "metadata": {},
   "outputs": [
    {
     "data": {
      "text/html": [
       "<div>\n",
       "<style scoped>\n",
       "    .dataframe tbody tr th:only-of-type {\n",
       "        vertical-align: middle;\n",
       "    }\n",
       "\n",
       "    .dataframe tbody tr th {\n",
       "        vertical-align: top;\n",
       "    }\n",
       "\n",
       "    .dataframe thead th {\n",
       "        text-align: right;\n",
       "    }\n",
       "</style>\n",
       "<table border=\"1\" class=\"dataframe\">\n",
       "  <thead>\n",
       "    <tr style=\"text-align: right;\">\n",
       "      <th></th>\n",
       "      <th>Age at Injury</th>\n",
       "      <th>IME-4 Count</th>\n",
       "      <th>Agreement Reached</th>\n",
       "      <th>Accident Year</th>\n",
       "      <th>Income_Category</th>\n",
       "      <th>Accident_Quarter</th>\n",
       "      <th>Accident_Year</th>\n",
       "      <th>Accident Day</th>\n",
       "      <th>Age Group</th>\n",
       "      <th>promptness_category</th>\n",
       "      <th>...</th>\n",
       "      <th>Industry Code_freq</th>\n",
       "      <th>County of Injury_freq</th>\n",
       "      <th>District Name_freq</th>\n",
       "      <th>WCIO Cause of Injury Code_freq</th>\n",
       "      <th>WCIO Nature of Injury Code_freq</th>\n",
       "      <th>WCIO Part Of Body Code_freq</th>\n",
       "      <th>Carrier Name_freq</th>\n",
       "      <th>Body_Part_Category_freq</th>\n",
       "      <th>Injury_Nature_Category_freq</th>\n",
       "      <th>Carrier Type Merged_freq</th>\n",
       "    </tr>\n",
       "    <tr>\n",
       "      <th>Claim Identifier</th>\n",
       "      <th></th>\n",
       "      <th></th>\n",
       "      <th></th>\n",
       "      <th></th>\n",
       "      <th></th>\n",
       "      <th></th>\n",
       "      <th></th>\n",
       "      <th></th>\n",
       "      <th></th>\n",
       "      <th></th>\n",
       "      <th></th>\n",
       "      <th></th>\n",
       "      <th></th>\n",
       "      <th></th>\n",
       "      <th></th>\n",
       "      <th></th>\n",
       "      <th></th>\n",
       "      <th></th>\n",
       "      <th></th>\n",
       "      <th></th>\n",
       "      <th></th>\n",
       "    </tr>\n",
       "  </thead>\n",
       "  <tbody>\n",
       "    <tr>\n",
       "      <th>6099734</th>\n",
       "      <td>67</td>\n",
       "      <td>4.0</td>\n",
       "      <td>0.0</td>\n",
       "      <td>2022</td>\n",
       "      <td>1</td>\n",
       "      <td>3</td>\n",
       "      <td>2022</td>\n",
       "      <td>3</td>\n",
       "      <td>1</td>\n",
       "      <td>3</td>\n",
       "      <td>...</td>\n",
       "      <td>34856</td>\n",
       "      <td>34897</td>\n",
       "      <td>216798</td>\n",
       "      <td>9648</td>\n",
       "      <td>44601</td>\n",
       "      <td>38469</td>\n",
       "      <td>11544</td>\n",
       "      <td>96343</td>\n",
       "      <td>404174</td>\n",
       "      <td>228492</td>\n",
       "    </tr>\n",
       "    <tr>\n",
       "      <th>5796182</th>\n",
       "      <td>30</td>\n",
       "      <td>0.0</td>\n",
       "      <td>0.0</td>\n",
       "      <td>2021</td>\n",
       "      <td>1</td>\n",
       "      <td>3</td>\n",
       "      <td>2021</td>\n",
       "      <td>5</td>\n",
       "      <td>2</td>\n",
       "      <td>7</td>\n",
       "      <td>...</td>\n",
       "      <td>34856</td>\n",
       "      <td>13901</td>\n",
       "      <td>68763</td>\n",
       "      <td>6081</td>\n",
       "      <td>88312</td>\n",
       "      <td>15038</td>\n",
       "      <td>11163</td>\n",
       "      <td>96343</td>\n",
       "      <td>404174</td>\n",
       "      <td>228492</td>\n",
       "    </tr>\n",
       "    <tr>\n",
       "      <th>6128237</th>\n",
       "      <td>58</td>\n",
       "      <td>0.0</td>\n",
       "      <td>0.0</td>\n",
       "      <td>2022</td>\n",
       "      <td>0</td>\n",
       "      <td>4</td>\n",
       "      <td>2022</td>\n",
       "      <td>3</td>\n",
       "      <td>0</td>\n",
       "      <td>7</td>\n",
       "      <td>...</td>\n",
       "      <td>2362</td>\n",
       "      <td>636</td>\n",
       "      <td>17442</td>\n",
       "      <td>11777</td>\n",
       "      <td>13917</td>\n",
       "      <td>6521</td>\n",
       "      <td>14012</td>\n",
       "      <td>80866</td>\n",
       "      <td>404174</td>\n",
       "      <td>228492</td>\n",
       "    </tr>\n",
       "  </tbody>\n",
       "</table>\n",
       "<p>3 rows × 31 columns</p>\n",
       "</div>"
      ],
      "text/plain": [
       "                  Age at Injury  IME-4 Count  Agreement Reached  \\\n",
       "Claim Identifier                                                  \n",
       "6099734                      67          4.0                0.0   \n",
       "5796182                      30          0.0                0.0   \n",
       "6128237                      58          0.0                0.0   \n",
       "\n",
       "                  Accident Year  Income_Category  Accident_Quarter  \\\n",
       "Claim Identifier                                                     \n",
       "6099734                    2022                1                 3   \n",
       "5796182                    2021                1                 3   \n",
       "6128237                    2022                0                 4   \n",
       "\n",
       "                  Accident_Year  Accident Day  Age Group  promptness_category  \\\n",
       "Claim Identifier                                                                \n",
       "6099734                    2022             3          1                    3   \n",
       "5796182                    2021             5          2                    7   \n",
       "6128237                    2022             3          0                    7   \n",
       "\n",
       "                  ...  Industry Code_freq  County of Injury_freq  \\\n",
       "Claim Identifier  ...                                              \n",
       "6099734           ...               34856                  34897   \n",
       "5796182           ...               34856                  13901   \n",
       "6128237           ...                2362                    636   \n",
       "\n",
       "                  District Name_freq  WCIO Cause of Injury Code_freq  \\\n",
       "Claim Identifier                                                       \n",
       "6099734                       216798                            9648   \n",
       "5796182                        68763                            6081   \n",
       "6128237                        17442                           11777   \n",
       "\n",
       "                  WCIO Nature of Injury Code_freq  \\\n",
       "Claim Identifier                                    \n",
       "6099734                                     44601   \n",
       "5796182                                     88312   \n",
       "6128237                                     13917   \n",
       "\n",
       "                  WCIO Part Of Body Code_freq  Carrier Name_freq  \\\n",
       "Claim Identifier                                                   \n",
       "6099734                                 38469              11544   \n",
       "5796182                                 15038              11163   \n",
       "6128237                                  6521              14012   \n",
       "\n",
       "                  Body_Part_Category_freq  Injury_Nature_Category_freq  \\\n",
       "Claim Identifier                                                         \n",
       "6099734                             96343                       404174   \n",
       "5796182                             96343                       404174   \n",
       "6128237                             80866                       404174   \n",
       "\n",
       "                  Carrier Type Merged_freq  \n",
       "Claim Identifier                            \n",
       "6099734                             228492  \n",
       "5796182                             228492  \n",
       "6128237                             228492  \n",
       "\n",
       "[3 rows x 31 columns]"
      ]
     },
     "execution_count": 188,
     "metadata": {},
     "output_type": "execute_result"
    }
   ],
   "source": [
    "X_train.head(3)"
   ]
  },
  {
   "cell_type": "code",
   "execution_count": 189,
   "metadata": {},
   "outputs": [
    {
     "data": {
      "text/html": [
       "<div>\n",
       "<style scoped>\n",
       "    .dataframe tbody tr th:only-of-type {\n",
       "        vertical-align: middle;\n",
       "    }\n",
       "\n",
       "    .dataframe tbody tr th {\n",
       "        vertical-align: top;\n",
       "    }\n",
       "\n",
       "    .dataframe thead th {\n",
       "        text-align: right;\n",
       "    }\n",
       "</style>\n",
       "<table border=\"1\" class=\"dataframe\">\n",
       "  <thead>\n",
       "    <tr style=\"text-align: right;\">\n",
       "      <th></th>\n",
       "      <th>Age at Injury</th>\n",
       "      <th>IME-4 Count</th>\n",
       "      <th>Agreement Reached</th>\n",
       "      <th>Accident Year</th>\n",
       "      <th>Income_Category</th>\n",
       "      <th>Accident_Quarter</th>\n",
       "      <th>Accident_Year</th>\n",
       "      <th>Accident Day</th>\n",
       "      <th>Age Group</th>\n",
       "      <th>promptness_category</th>\n",
       "      <th>...</th>\n",
       "      <th>Industry Code_freq</th>\n",
       "      <th>County of Injury_freq</th>\n",
       "      <th>District Name_freq</th>\n",
       "      <th>WCIO Cause of Injury Code_freq</th>\n",
       "      <th>WCIO Nature of Injury Code_freq</th>\n",
       "      <th>WCIO Part Of Body Code_freq</th>\n",
       "      <th>Carrier Name_freq</th>\n",
       "      <th>Body_Part_Category_freq</th>\n",
       "      <th>Injury_Nature_Category_freq</th>\n",
       "      <th>Carrier Type Merged_freq</th>\n",
       "    </tr>\n",
       "    <tr>\n",
       "      <th>Claim Identifier</th>\n",
       "      <th></th>\n",
       "      <th></th>\n",
       "      <th></th>\n",
       "      <th></th>\n",
       "      <th></th>\n",
       "      <th></th>\n",
       "      <th></th>\n",
       "      <th></th>\n",
       "      <th></th>\n",
       "      <th></th>\n",
       "      <th></th>\n",
       "      <th></th>\n",
       "      <th></th>\n",
       "      <th></th>\n",
       "      <th></th>\n",
       "      <th></th>\n",
       "      <th></th>\n",
       "      <th></th>\n",
       "      <th></th>\n",
       "      <th></th>\n",
       "      <th></th>\n",
       "    </tr>\n",
       "  </thead>\n",
       "  <tbody>\n",
       "    <tr>\n",
       "      <th>5730729</th>\n",
       "      <td>52</td>\n",
       "      <td>1.0</td>\n",
       "      <td>0.0</td>\n",
       "      <td>2021</td>\n",
       "      <td>4</td>\n",
       "      <td>2</td>\n",
       "      <td>2021</td>\n",
       "      <td>1</td>\n",
       "      <td>0</td>\n",
       "      <td>7</td>\n",
       "      <td>...</td>\n",
       "      <td>73733</td>\n",
       "      <td>42680</td>\n",
       "      <td>216798</td>\n",
       "      <td>23476</td>\n",
       "      <td>122811</td>\n",
       "      <td>15038</td>\n",
       "      <td>88862.0</td>\n",
       "      <td>96343</td>\n",
       "      <td>404174</td>\n",
       "      <td>88862</td>\n",
       "    </tr>\n",
       "    <tr>\n",
       "      <th>6038049</th>\n",
       "      <td>28</td>\n",
       "      <td>0.0</td>\n",
       "      <td>0.0</td>\n",
       "      <td>2022</td>\n",
       "      <td>1</td>\n",
       "      <td>2</td>\n",
       "      <td>2022</td>\n",
       "      <td>5</td>\n",
       "      <td>2</td>\n",
       "      <td>1</td>\n",
       "      <td>...</td>\n",
       "      <td>21175</td>\n",
       "      <td>42680</td>\n",
       "      <td>216798</td>\n",
       "      <td>8659</td>\n",
       "      <td>4398</td>\n",
       "      <td>6314</td>\n",
       "      <td>88862.0</td>\n",
       "      <td>45491</td>\n",
       "      <td>404174</td>\n",
       "      <td>88862</td>\n",
       "    </tr>\n",
       "    <tr>\n",
       "      <th>5887035</th>\n",
       "      <td>61</td>\n",
       "      <td>0.0</td>\n",
       "      <td>0.0</td>\n",
       "      <td>2021</td>\n",
       "      <td>2</td>\n",
       "      <td>4</td>\n",
       "      <td>2021</td>\n",
       "      <td>3</td>\n",
       "      <td>0</td>\n",
       "      <td>0</td>\n",
       "      <td>...</td>\n",
       "      <td>8092</td>\n",
       "      <td>1001</td>\n",
       "      <td>35808</td>\n",
       "      <td>26555</td>\n",
       "      <td>44601</td>\n",
       "      <td>41385</td>\n",
       "      <td>11544.0</td>\n",
       "      <td>80866</td>\n",
       "      <td>404174</td>\n",
       "      <td>228492</td>\n",
       "    </tr>\n",
       "  </tbody>\n",
       "</table>\n",
       "<p>3 rows × 31 columns</p>\n",
       "</div>"
      ],
      "text/plain": [
       "                  Age at Injury  IME-4 Count  Agreement Reached  \\\n",
       "Claim Identifier                                                  \n",
       "5730729                      52          1.0                0.0   \n",
       "6038049                      28          0.0                0.0   \n",
       "5887035                      61          0.0                0.0   \n",
       "\n",
       "                  Accident Year  Income_Category  Accident_Quarter  \\\n",
       "Claim Identifier                                                     \n",
       "5730729                    2021                4                 2   \n",
       "6038049                    2022                1                 2   \n",
       "5887035                    2021                2                 4   \n",
       "\n",
       "                  Accident_Year  Accident Day  Age Group  promptness_category  \\\n",
       "Claim Identifier                                                                \n",
       "5730729                    2021             1          0                    7   \n",
       "6038049                    2022             5          2                    1   \n",
       "5887035                    2021             3          0                    0   \n",
       "\n",
       "                  ...  Industry Code_freq  County of Injury_freq  \\\n",
       "Claim Identifier  ...                                              \n",
       "5730729           ...               73733                  42680   \n",
       "6038049           ...               21175                  42680   \n",
       "5887035           ...                8092                   1001   \n",
       "\n",
       "                  District Name_freq  WCIO Cause of Injury Code_freq  \\\n",
       "Claim Identifier                                                       \n",
       "5730729                       216798                           23476   \n",
       "6038049                       216798                            8659   \n",
       "5887035                        35808                           26555   \n",
       "\n",
       "                  WCIO Nature of Injury Code_freq  \\\n",
       "Claim Identifier                                    \n",
       "5730729                                    122811   \n",
       "6038049                                      4398   \n",
       "5887035                                     44601   \n",
       "\n",
       "                  WCIO Part Of Body Code_freq  Carrier Name_freq  \\\n",
       "Claim Identifier                                                   \n",
       "5730729                                 15038            88862.0   \n",
       "6038049                                  6314            88862.0   \n",
       "5887035                                 41385            11544.0   \n",
       "\n",
       "                  Body_Part_Category_freq  Injury_Nature_Category_freq  \\\n",
       "Claim Identifier                                                         \n",
       "5730729                             96343                       404174   \n",
       "6038049                             45491                       404174   \n",
       "5887035                             80866                       404174   \n",
       "\n",
       "                  Carrier Type Merged_freq  \n",
       "Claim Identifier                            \n",
       "5730729                              88862  \n",
       "6038049                              88862  \n",
       "5887035                             228492  \n",
       "\n",
       "[3 rows x 31 columns]"
      ]
     },
     "execution_count": 189,
     "metadata": {},
     "output_type": "execute_result"
    }
   ],
   "source": [
    "X_val.head(3)"
   ]
  },
  {
   "cell_type": "markdown",
   "metadata": {},
   "source": [
    "We also need to load the test dataset resulted from notebook 4., with the best predictions."
   ]
  },
  {
   "cell_type": "code",
   "execution_count": 190,
   "metadata": {},
   "outputs": [
    {
     "data": {
      "text/html": [
       "<div>\n",
       "<style scoped>\n",
       "    .dataframe tbody tr th:only-of-type {\n",
       "        vertical-align: middle;\n",
       "    }\n",
       "\n",
       "    .dataframe tbody tr th {\n",
       "        vertical-align: top;\n",
       "    }\n",
       "\n",
       "    .dataframe thead th {\n",
       "        text-align: right;\n",
       "    }\n",
       "</style>\n",
       "<table border=\"1\" class=\"dataframe\">\n",
       "  <thead>\n",
       "    <tr style=\"text-align: right;\">\n",
       "      <th></th>\n",
       "      <th>Age at Injury</th>\n",
       "      <th>IME-4 Count</th>\n",
       "      <th>Income_Category</th>\n",
       "      <th>Accident_Quarter</th>\n",
       "      <th>Accident_Year</th>\n",
       "      <th>Accident Day</th>\n",
       "      <th>Age Group</th>\n",
       "      <th>promptness_category</th>\n",
       "      <th>promptness_C2_category</th>\n",
       "      <th>promptness_C3_category</th>\n",
       "      <th>...</th>\n",
       "      <th>County of Injury_freq</th>\n",
       "      <th>District Name_freq</th>\n",
       "      <th>WCIO Cause of Injury Code_freq</th>\n",
       "      <th>WCIO Nature of Injury Code_freq</th>\n",
       "      <th>WCIO Part Of Body Code_freq</th>\n",
       "      <th>Carrier Name_freq</th>\n",
       "      <th>Body_Part_Category_freq</th>\n",
       "      <th>Injury_Nature_Category_freq</th>\n",
       "      <th>Carrier Type Merged_freq</th>\n",
       "      <th>Predicted_Class</th>\n",
       "    </tr>\n",
       "    <tr>\n",
       "      <th>Claim Identifier</th>\n",
       "      <th></th>\n",
       "      <th></th>\n",
       "      <th></th>\n",
       "      <th></th>\n",
       "      <th></th>\n",
       "      <th></th>\n",
       "      <th></th>\n",
       "      <th></th>\n",
       "      <th></th>\n",
       "      <th></th>\n",
       "      <th></th>\n",
       "      <th></th>\n",
       "      <th></th>\n",
       "      <th></th>\n",
       "      <th></th>\n",
       "      <th></th>\n",
       "      <th></th>\n",
       "      <th></th>\n",
       "      <th></th>\n",
       "      <th></th>\n",
       "      <th></th>\n",
       "    </tr>\n",
       "  </thead>\n",
       "  <tbody>\n",
       "    <tr>\n",
       "      <th>6165911</th>\n",
       "      <td>19</td>\n",
       "      <td>0.0</td>\n",
       "      <td>3</td>\n",
       "      <td>4</td>\n",
       "      <td>2022</td>\n",
       "      <td>5</td>\n",
       "      <td>3</td>\n",
       "      <td>3</td>\n",
       "      <td>3</td>\n",
       "      <td>5</td>\n",
       "      <td>...</td>\n",
       "      <td>31684</td>\n",
       "      <td>216798</td>\n",
       "      <td>25490</td>\n",
       "      <td>88312</td>\n",
       "      <td>9326</td>\n",
       "      <td>7246.0</td>\n",
       "      <td>96343</td>\n",
       "      <td>404174</td>\n",
       "      <td>228492</td>\n",
       "      <td>0</td>\n",
       "    </tr>\n",
       "    <tr>\n",
       "      <th>6166141</th>\n",
       "      <td>19</td>\n",
       "      <td>0.0</td>\n",
       "      <td>1</td>\n",
       "      <td>4</td>\n",
       "      <td>2022</td>\n",
       "      <td>6</td>\n",
       "      <td>3</td>\n",
       "      <td>0</td>\n",
       "      <td>0</td>\n",
       "      <td>5</td>\n",
       "      <td>...</td>\n",
       "      <td>46587</td>\n",
       "      <td>216798</td>\n",
       "      <td>14632</td>\n",
       "      <td>88312</td>\n",
       "      <td>6322</td>\n",
       "      <td>8907.0</td>\n",
       "      <td>45491</td>\n",
       "      <td>404174</td>\n",
       "      <td>228492</td>\n",
       "      <td>0</td>\n",
       "    </tr>\n",
       "    <tr>\n",
       "      <th>6165907</th>\n",
       "      <td>59</td>\n",
       "      <td>0.0</td>\n",
       "      <td>2</td>\n",
       "      <td>4</td>\n",
       "      <td>2022</td>\n",
       "      <td>0</td>\n",
       "      <td>0</td>\n",
       "      <td>7</td>\n",
       "      <td>7</td>\n",
       "      <td>5</td>\n",
       "      <td>...</td>\n",
       "      <td>20637</td>\n",
       "      <td>216798</td>\n",
       "      <td>8659</td>\n",
       "      <td>44601</td>\n",
       "      <td>929</td>\n",
       "      <td>149.0</td>\n",
       "      <td>80866</td>\n",
       "      <td>404174</td>\n",
       "      <td>228492</td>\n",
       "      <td>0</td>\n",
       "    </tr>\n",
       "  </tbody>\n",
       "</table>\n",
       "<p>3 rows × 30 columns</p>\n",
       "</div>"
      ],
      "text/plain": [
       "                  Age at Injury  IME-4 Count  Income_Category  \\\n",
       "Claim Identifier                                                \n",
       "6165911                      19          0.0                3   \n",
       "6166141                      19          0.0                1   \n",
       "6165907                      59          0.0                2   \n",
       "\n",
       "                  Accident_Quarter  Accident_Year  Accident Day  Age Group  \\\n",
       "Claim Identifier                                                             \n",
       "6165911                          4           2022             5          3   \n",
       "6166141                          4           2022             6          3   \n",
       "6165907                          4           2022             0          0   \n",
       "\n",
       "                  promptness_category  promptness_C2_category  \\\n",
       "Claim Identifier                                                \n",
       "6165911                             3                       3   \n",
       "6166141                             0                       0   \n",
       "6165907                             7                       7   \n",
       "\n",
       "                  promptness_C3_category  ...  County of Injury_freq  \\\n",
       "Claim Identifier                          ...                          \n",
       "6165911                                5  ...                  31684   \n",
       "6166141                                5  ...                  46587   \n",
       "6165907                                5  ...                  20637   \n",
       "\n",
       "                  District Name_freq  WCIO Cause of Injury Code_freq  \\\n",
       "Claim Identifier                                                       \n",
       "6165911                       216798                           25490   \n",
       "6166141                       216798                           14632   \n",
       "6165907                       216798                            8659   \n",
       "\n",
       "                  WCIO Nature of Injury Code_freq  \\\n",
       "Claim Identifier                                    \n",
       "6165911                                     88312   \n",
       "6166141                                     88312   \n",
       "6165907                                     44601   \n",
       "\n",
       "                  WCIO Part Of Body Code_freq  Carrier Name_freq  \\\n",
       "Claim Identifier                                                   \n",
       "6165911                                  9326             7246.0   \n",
       "6166141                                  6322             8907.0   \n",
       "6165907                                   929              149.0   \n",
       "\n",
       "                  Body_Part_Category_freq  Injury_Nature_Category_freq  \\\n",
       "Claim Identifier                                                         \n",
       "6165911                             96343                       404174   \n",
       "6166141                             45491                       404174   \n",
       "6165907                             80866                       404174   \n",
       "\n",
       "                  Carrier Type Merged_freq  Predicted_Class  \n",
       "Claim Identifier                                             \n",
       "6165911                             228492                0  \n",
       "6166141                             228492                0  \n",
       "6165907                             228492                0  \n",
       "\n",
       "[3 rows x 30 columns]"
      ]
     },
     "execution_count": 190,
     "metadata": {},
     "output_type": "execute_result"
    }
   ],
   "source": [
    "df_test.head(3)"
   ]
  },
  {
   "cell_type": "markdown",
   "metadata": {},
   "source": [
    "We will also upload the y train and y_val."
   ]
  },
  {
   "cell_type": "code",
   "execution_count": 191,
   "metadata": {},
   "outputs": [],
   "source": [
    "# Load the arrays\n",
    "y_train = np.load(\"../processed_datasets/y_train_preprocessed.npy\", allow_pickle=True)\n",
    "y_val =  np.load(\"../processed_datasets/y_val_preprocessed.npy\", allow_pickle=True)"
   ]
  },
  {
   "cell_type": "code",
   "execution_count": 193,
   "metadata": {},
   "outputs": [
    {
     "data": {
      "text/plain": [
       "(114805, 31)"
      ]
     },
     "execution_count": 193,
     "metadata": {},
     "output_type": "execute_result"
    }
   ],
   "source": [
    "X_val.shape"
   ]
  },
  {
   "cell_type": "code",
   "execution_count": 194,
   "metadata": {},
   "outputs": [
    {
     "data": {
      "text/plain": [
       "114805"
      ]
     },
     "execution_count": 194,
     "metadata": {},
     "output_type": "execute_result"
    }
   ],
   "source": [
    "len(y_val)"
   ]
  },
  {
   "cell_type": "markdown",
   "metadata": {},
   "source": [
    "Let's remove the column predictions from the df_test saving in a variable y_test"
   ]
  },
  {
   "cell_type": "code",
   "execution_count": 145,
   "metadata": {},
   "outputs": [],
   "source": [
    "y_test = df_test['Predicted_Class']\n",
    "df_test.drop('Predicted_Class', axis=1, inplace=True)"
   ]
  },
  {
   "cell_type": "code",
   "execution_count": 146,
   "metadata": {},
   "outputs": [
    {
     "data": {
      "text/plain": [
       "array([0, 1], dtype=int64)"
      ]
     },
     "execution_count": 146,
     "metadata": {},
     "output_type": "execute_result"
    }
   ],
   "source": [
    "#Print the y_test values\n",
    "y_test.unique()"
   ]
  },
  {
   "cell_type": "markdown",
   "metadata": {},
   "source": [
    "# 3. Setting the Target <a class=\"anchor\" id=\"chapter3\"></a>\n",
    "\n",
    "[Back to ToC](#toc)<br>"
   ]
  },
  {
   "cell_type": "markdown",
   "metadata": {},
   "source": [
    "In this notebook, our objective is to distinguish the majority classes from the subset of the dataset where the predicted targets from Notebook 2 were identified as majority classes. Specifically, we will focus on the portion of the dataset with target labels `'2. NON-COMP'` or `'4. TEMPORARY'`. This refined selection allows us to target the classification of majority classes with greater precision."
   ]
  },
  {
   "cell_type": "code",
   "execution_count": 147,
   "metadata": {},
   "outputs": [],
   "source": [
    "#Filtering the majority classes\n",
    "X_train_2_4 = X_train[(y_train == '2. NON-COMP') | (y_train == '4. TEMPORARY')]\n",
    "\n",
    "y_train_2_4 = y_train[(y_train == '2. NON-COMP') | (y_train == '4. TEMPORARY')]"
   ]
  },
  {
   "cell_type": "markdown",
   "metadata": {},
   "source": [
    "Do the same for validation dataset."
   ]
  },
  {
   "cell_type": "code",
   "execution_count": 148,
   "metadata": {},
   "outputs": [],
   "source": [
    "#Filtering the majority classes\n",
    "X_val_2_4 = X_val[(y_val == '2. NON-COMP') | (y_val == '4. TEMPORARY')]\n",
    "\n",
    "y_val_2_4 = y_val[(y_val == '2. NON-COMP') | (y_val == '4. TEMPORARY')]"
   ]
  },
  {
   "cell_type": "markdown",
   "metadata": {},
   "source": [
    "Now, we will encode the target."
   ]
  },
  {
   "cell_type": "code",
   "execution_count": 149,
   "metadata": {},
   "outputs": [],
   "source": [
    "# Create a LabelEncoder instance\n",
    "encoder = LabelEncoder()\n",
    "\n",
    "# Encode y_train_new and y_val_new\n",
    "y_train_encoded = encoder.fit_transform(y_train_2_4)  # Fit and transform on y_train_2_4\n",
    "y_val_encoded = encoder.transform(y_val_2_4)  # Only transform on y_val_2_4"
   ]
  },
  {
   "cell_type": "code",
   "execution_count": 150,
   "metadata": {},
   "outputs": [
    {
     "name": "stdout",
     "output_type": "stream",
     "text": [
      "[1 0 0 ... 1 0 0]\n",
      "[0 1]\n"
     ]
    }
   ],
   "source": [
    "# Verify that the target is encoded \n",
    "print(f'{y_train_encoded}')\n",
    "print(f'{np.unique(y_train_encoded)}')"
   ]
  },
  {
   "cell_type": "markdown",
   "metadata": {},
   "source": [
    "# 4. Feature Selection <a class=\"anchor\" id=\"chapter4\"></a>\n",
    "\n",
    "[Back to ToC](#toc)<br>\n"
   ]
  },
  {
   "cell_type": "markdown",
   "metadata": {},
   "source": [
    "The feature selection process involves summarizing the essential features in the dataset to help the model focus on the most relevant information. Here, we assess the categorical and numerical variables in `X_train_2_4` by examining unique values, descriptive statistics, and verifying the correctness of categorical bins and continuous feature distributions."
   ]
  },
  {
   "cell_type": "code",
   "execution_count": 151,
   "metadata": {},
   "outputs": [
    {
     "data": {
      "text/html": [
       "<div>\n",
       "<style scoped>\n",
       "    .dataframe tbody tr th:only-of-type {\n",
       "        vertical-align: middle;\n",
       "    }\n",
       "\n",
       "    .dataframe tbody tr th {\n",
       "        vertical-align: top;\n",
       "    }\n",
       "\n",
       "    .dataframe thead th {\n",
       "        text-align: right;\n",
       "    }\n",
       "</style>\n",
       "<table border=\"1\" class=\"dataframe\">\n",
       "  <thead>\n",
       "    <tr style=\"text-align: right;\">\n",
       "      <th></th>\n",
       "      <th>count</th>\n",
       "      <th>mean</th>\n",
       "      <th>std</th>\n",
       "      <th>min</th>\n",
       "      <th>25%</th>\n",
       "      <th>50%</th>\n",
       "      <th>75%</th>\n",
       "      <th>max</th>\n",
       "    </tr>\n",
       "  </thead>\n",
       "  <tbody>\n",
       "    <tr>\n",
       "      <th>Age at Injury</th>\n",
       "      <td>351667.0</td>\n",
       "      <td>42.432383</td>\n",
       "      <td>13.047048</td>\n",
       "      <td>5.000000</td>\n",
       "      <td>32.0</td>\n",
       "      <td>42.000000</td>\n",
       "      <td>53.0</td>\n",
       "      <td>82.0</td>\n",
       "    </tr>\n",
       "    <tr>\n",
       "      <th>IME-4 Count</th>\n",
       "      <td>351667.0</td>\n",
       "      <td>0.649919</td>\n",
       "      <td>1.946154</td>\n",
       "      <td>0.000000</td>\n",
       "      <td>0.0</td>\n",
       "      <td>0.000000</td>\n",
       "      <td>0.0</td>\n",
       "      <td>48.0</td>\n",
       "    </tr>\n",
       "    <tr>\n",
       "      <th>Agreement Reached</th>\n",
       "      <td>351667.0</td>\n",
       "      <td>0.058968</td>\n",
       "      <td>0.235565</td>\n",
       "      <td>0.000000</td>\n",
       "      <td>0.0</td>\n",
       "      <td>0.000000</td>\n",
       "      <td>0.0</td>\n",
       "      <td>1.0</td>\n",
       "    </tr>\n",
       "    <tr>\n",
       "      <th>Accident Year</th>\n",
       "      <td>351667.0</td>\n",
       "      <td>2020.836482</td>\n",
       "      <td>1.887932</td>\n",
       "      <td>1967.000000</td>\n",
       "      <td>2020.0</td>\n",
       "      <td>2021.000000</td>\n",
       "      <td>2022.0</td>\n",
       "      <td>2023.0</td>\n",
       "    </tr>\n",
       "    <tr>\n",
       "      <th>Income_Category</th>\n",
       "      <td>351667.0</td>\n",
       "      <td>2.150540</td>\n",
       "      <td>1.152357</td>\n",
       "      <td>0.000000</td>\n",
       "      <td>1.0</td>\n",
       "      <td>2.000000</td>\n",
       "      <td>3.0</td>\n",
       "      <td>4.0</td>\n",
       "    </tr>\n",
       "    <tr>\n",
       "      <th>Accident_Quarter</th>\n",
       "      <td>351667.0</td>\n",
       "      <td>2.497058</td>\n",
       "      <td>1.130417</td>\n",
       "      <td>1.000000</td>\n",
       "      <td>1.0</td>\n",
       "      <td>3.000000</td>\n",
       "      <td>4.0</td>\n",
       "      <td>4.0</td>\n",
       "    </tr>\n",
       "    <tr>\n",
       "      <th>Accident_Year</th>\n",
       "      <td>351667.0</td>\n",
       "      <td>2020.836482</td>\n",
       "      <td>1.887932</td>\n",
       "      <td>1967.000000</td>\n",
       "      <td>2020.0</td>\n",
       "      <td>2021.000000</td>\n",
       "      <td>2022.0</td>\n",
       "      <td>2023.0</td>\n",
       "    </tr>\n",
       "    <tr>\n",
       "      <th>Accident Day</th>\n",
       "      <td>351667.0</td>\n",
       "      <td>2.523461</td>\n",
       "      <td>1.828102</td>\n",
       "      <td>0.000000</td>\n",
       "      <td>1.0</td>\n",
       "      <td>2.000000</td>\n",
       "      <td>4.0</td>\n",
       "      <td>6.0</td>\n",
       "    </tr>\n",
       "    <tr>\n",
       "      <th>Age Group</th>\n",
       "      <td>351667.0</td>\n",
       "      <td>1.372241</td>\n",
       "      <td>1.079051</td>\n",
       "      <td>0.000000</td>\n",
       "      <td>0.0</td>\n",
       "      <td>2.000000</td>\n",
       "      <td>2.0</td>\n",
       "      <td>3.0</td>\n",
       "    </tr>\n",
       "    <tr>\n",
       "      <th>promptness_category</th>\n",
       "      <td>351667.0</td>\n",
       "      <td>4.471898</td>\n",
       "      <td>2.477463</td>\n",
       "      <td>0.000000</td>\n",
       "      <td>3.0</td>\n",
       "      <td>4.000000</td>\n",
       "      <td>7.0</td>\n",
       "      <td>7.0</td>\n",
       "    </tr>\n",
       "    <tr>\n",
       "      <th>promptness_C2_category</th>\n",
       "      <td>351667.0</td>\n",
       "      <td>4.506323</td>\n",
       "      <td>2.487333</td>\n",
       "      <td>0.000000</td>\n",
       "      <td>3.0</td>\n",
       "      <td>4.000000</td>\n",
       "      <td>7.0</td>\n",
       "      <td>7.0</td>\n",
       "    </tr>\n",
       "    <tr>\n",
       "      <th>promptness_C3_category</th>\n",
       "      <td>351667.0</td>\n",
       "      <td>4.447318</td>\n",
       "      <td>1.516820</td>\n",
       "      <td>0.000000</td>\n",
       "      <td>5.0</td>\n",
       "      <td>5.000000</td>\n",
       "      <td>5.0</td>\n",
       "      <td>7.0</td>\n",
       "    </tr>\n",
       "    <tr>\n",
       "      <th>Industry Risk</th>\n",
       "      <td>351667.0</td>\n",
       "      <td>1.415896</td>\n",
       "      <td>0.825952</td>\n",
       "      <td>0.000000</td>\n",
       "      <td>1.0</td>\n",
       "      <td>2.000000</td>\n",
       "      <td>2.0</td>\n",
       "      <td>2.0</td>\n",
       "    </tr>\n",
       "    <tr>\n",
       "      <th>Salary_Per_Dependent</th>\n",
       "      <td>351667.0</td>\n",
       "      <td>424.538857</td>\n",
       "      <td>386.158901</td>\n",
       "      <td>3.285714</td>\n",
       "      <td>186.5</td>\n",
       "      <td>279.333333</td>\n",
       "      <td>530.5</td>\n",
       "      <td>10000.0</td>\n",
       "    </tr>\n",
       "    <tr>\n",
       "      <th>Gender_M</th>\n",
       "      <td>351667.0</td>\n",
       "      <td>0.569758</td>\n",
       "      <td>0.495111</td>\n",
       "      <td>0.000000</td>\n",
       "      <td>0.0</td>\n",
       "      <td>1.000000</td>\n",
       "      <td>1.0</td>\n",
       "      <td>1.0</td>\n",
       "    </tr>\n",
       "    <tr>\n",
       "      <th>Gender_U</th>\n",
       "      <td>351667.0</td>\n",
       "      <td>0.008838</td>\n",
       "      <td>0.093594</td>\n",
       "      <td>0.000000</td>\n",
       "      <td>0.0</td>\n",
       "      <td>0.000000</td>\n",
       "      <td>0.0</td>\n",
       "      <td>1.0</td>\n",
       "    </tr>\n",
       "    <tr>\n",
       "      <th>Medical Fee Region_II</th>\n",
       "      <td>351667.0</td>\n",
       "      <td>0.152366</td>\n",
       "      <td>0.359376</td>\n",
       "      <td>0.000000</td>\n",
       "      <td>0.0</td>\n",
       "      <td>0.000000</td>\n",
       "      <td>0.0</td>\n",
       "      <td>1.0</td>\n",
       "    </tr>\n",
       "    <tr>\n",
       "      <th>Medical Fee Region_III</th>\n",
       "      <td>351667.0</td>\n",
       "      <td>0.093495</td>\n",
       "      <td>0.291125</td>\n",
       "      <td>0.000000</td>\n",
       "      <td>0.0</td>\n",
       "      <td>0.000000</td>\n",
       "      <td>0.0</td>\n",
       "      <td>1.0</td>\n",
       "    </tr>\n",
       "    <tr>\n",
       "      <th>Medical Fee Region_UK</th>\n",
       "      <td>351667.0</td>\n",
       "      <td>0.059062</td>\n",
       "      <td>0.235740</td>\n",
       "      <td>0.000000</td>\n",
       "      <td>0.0</td>\n",
       "      <td>0.000000</td>\n",
       "      <td>0.0</td>\n",
       "      <td>1.0</td>\n",
       "    </tr>\n",
       "    <tr>\n",
       "      <th>Carrier_Name_Simplified_freq</th>\n",
       "      <td>351667.0</td>\n",
       "      <td>39589.375116</td>\n",
       "      <td>41762.259418</td>\n",
       "      <td>505.000000</td>\n",
       "      <td>3158.0</td>\n",
       "      <td>11544.000000</td>\n",
       "      <td>88862.0</td>\n",
       "      <td>93013.0</td>\n",
       "    </tr>\n",
       "    <tr>\n",
       "      <th>Zip_Code_Simplified_freq</th>\n",
       "      <td>351667.0</td>\n",
       "      <td>269233.966929</td>\n",
       "      <td>147257.746485</td>\n",
       "      <td>1002.000000</td>\n",
       "      <td>350333.0</td>\n",
       "      <td>350333.000000</td>\n",
       "      <td>350333.0</td>\n",
       "      <td>350333.0</td>\n",
       "    </tr>\n",
       "    <tr>\n",
       "      <th>Industry Code_freq</th>\n",
       "      <td>351667.0</td>\n",
       "      <td>45733.039742</td>\n",
       "      <td>34945.963715</td>\n",
       "      <td>296.000000</td>\n",
       "      <td>14481.0</td>\n",
       "      <td>34856.000000</td>\n",
       "      <td>73733.0</td>\n",
       "      <td>99366.0</td>\n",
       "    </tr>\n",
       "    <tr>\n",
       "      <th>County of Injury_freq</th>\n",
       "      <td>351667.0</td>\n",
       "      <td>24830.409845</td>\n",
       "      <td>16640.214759</td>\n",
       "      <td>109.000000</td>\n",
       "      <td>9173.0</td>\n",
       "      <td>24019.000000</td>\n",
       "      <td>42680.0</td>\n",
       "      <td>48468.0</td>\n",
       "    </tr>\n",
       "    <tr>\n",
       "      <th>District Name_freq</th>\n",
       "      <td>351667.0</td>\n",
       "      <td>126191.855076</td>\n",
       "      <td>86428.986128</td>\n",
       "      <td>3191.000000</td>\n",
       "      <td>36466.0</td>\n",
       "      <td>68763.000000</td>\n",
       "      <td>216798.0</td>\n",
       "      <td>216798.0</td>\n",
       "    </tr>\n",
       "    <tr>\n",
       "      <th>WCIO Cause of Injury Code_freq</th>\n",
       "      <td>351667.0</td>\n",
       "      <td>15979.026056</td>\n",
       "      <td>10599.575841</td>\n",
       "      <td>11.000000</td>\n",
       "      <td>8102.0</td>\n",
       "      <td>12448.000000</td>\n",
       "      <td>25490.0</td>\n",
       "      <td>37259.0</td>\n",
       "    </tr>\n",
       "    <tr>\n",
       "      <th>WCIO Nature of Injury Code_freq</th>\n",
       "      <td>351667.0</td>\n",
       "      <td>61294.736956</td>\n",
       "      <td>45319.305620</td>\n",
       "      <td>1.000000</td>\n",
       "      <td>18237.0</td>\n",
       "      <td>44601.000000</td>\n",
       "      <td>122811.0</td>\n",
       "      <td>122811.0</td>\n",
       "    </tr>\n",
       "    <tr>\n",
       "      <th>WCIO Part Of Body Code_freq</th>\n",
       "      <td>351667.0</td>\n",
       "      <td>19993.215721</td>\n",
       "      <td>13057.307854</td>\n",
       "      <td>40.000000</td>\n",
       "      <td>8977.0</td>\n",
       "      <td>18172.000000</td>\n",
       "      <td>30191.0</td>\n",
       "      <td>41385.0</td>\n",
       "    </tr>\n",
       "    <tr>\n",
       "      <th>Carrier Name_freq</th>\n",
       "      <td>351667.0</td>\n",
       "      <td>20091.562586</td>\n",
       "      <td>33019.829635</td>\n",
       "      <td>1.000000</td>\n",
       "      <td>713.0</td>\n",
       "      <td>3899.000000</td>\n",
       "      <td>13697.0</td>\n",
       "      <td>88862.0</td>\n",
       "    </tr>\n",
       "    <tr>\n",
       "      <th>Body_Part_Category_freq</th>\n",
       "      <td>351667.0</td>\n",
       "      <td>89090.134172</td>\n",
       "      <td>42306.355038</td>\n",
       "      <td>9593.000000</td>\n",
       "      <td>45491.0</td>\n",
       "      <td>96343.000000</td>\n",
       "      <td>142559.0</td>\n",
       "      <td>142559.0</td>\n",
       "    </tr>\n",
       "    <tr>\n",
       "      <th>Injury_Nature_Category_freq</th>\n",
       "      <td>351667.0</td>\n",
       "      <td>358362.466575</td>\n",
       "      <td>125328.945709</td>\n",
       "      <td>10480.000000</td>\n",
       "      <td>404174.0</td>\n",
       "      <td>404174.000000</td>\n",
       "      <td>404174.0</td>\n",
       "      <td>404174.0</td>\n",
       "    </tr>\n",
       "    <tr>\n",
       "      <th>Carrier Type Merged_freq</th>\n",
       "      <td>351667.0</td>\n",
       "      <td>158330.049254</td>\n",
       "      <td>74932.241497</td>\n",
       "      <td>833.000000</td>\n",
       "      <td>88862.0</td>\n",
       "      <td>228492.000000</td>\n",
       "      <td>228492.0</td>\n",
       "      <td>228492.0</td>\n",
       "    </tr>\n",
       "  </tbody>\n",
       "</table>\n",
       "</div>"
      ],
      "text/plain": [
       "                                    count           mean            std  \\\n",
       "Age at Injury                    351667.0      42.432383      13.047048   \n",
       "IME-4 Count                      351667.0       0.649919       1.946154   \n",
       "Agreement Reached                351667.0       0.058968       0.235565   \n",
       "Accident Year                    351667.0    2020.836482       1.887932   \n",
       "Income_Category                  351667.0       2.150540       1.152357   \n",
       "Accident_Quarter                 351667.0       2.497058       1.130417   \n",
       "Accident_Year                    351667.0    2020.836482       1.887932   \n",
       "Accident Day                     351667.0       2.523461       1.828102   \n",
       "Age Group                        351667.0       1.372241       1.079051   \n",
       "promptness_category              351667.0       4.471898       2.477463   \n",
       "promptness_C2_category           351667.0       4.506323       2.487333   \n",
       "promptness_C3_category           351667.0       4.447318       1.516820   \n",
       "Industry Risk                    351667.0       1.415896       0.825952   \n",
       "Salary_Per_Dependent             351667.0     424.538857     386.158901   \n",
       "Gender_M                         351667.0       0.569758       0.495111   \n",
       "Gender_U                         351667.0       0.008838       0.093594   \n",
       "Medical Fee Region_II            351667.0       0.152366       0.359376   \n",
       "Medical Fee Region_III           351667.0       0.093495       0.291125   \n",
       "Medical Fee Region_UK            351667.0       0.059062       0.235740   \n",
       "Carrier_Name_Simplified_freq     351667.0   39589.375116   41762.259418   \n",
       "Zip_Code_Simplified_freq         351667.0  269233.966929  147257.746485   \n",
       "Industry Code_freq               351667.0   45733.039742   34945.963715   \n",
       "County of Injury_freq            351667.0   24830.409845   16640.214759   \n",
       "District Name_freq               351667.0  126191.855076   86428.986128   \n",
       "WCIO Cause of Injury Code_freq   351667.0   15979.026056   10599.575841   \n",
       "WCIO Nature of Injury Code_freq  351667.0   61294.736956   45319.305620   \n",
       "WCIO Part Of Body Code_freq      351667.0   19993.215721   13057.307854   \n",
       "Carrier Name_freq                351667.0   20091.562586   33019.829635   \n",
       "Body_Part_Category_freq          351667.0   89090.134172   42306.355038   \n",
       "Injury_Nature_Category_freq      351667.0  358362.466575  125328.945709   \n",
       "Carrier Type Merged_freq         351667.0  158330.049254   74932.241497   \n",
       "\n",
       "                                          min       25%            50%  \\\n",
       "Age at Injury                        5.000000      32.0      42.000000   \n",
       "IME-4 Count                          0.000000       0.0       0.000000   \n",
       "Agreement Reached                    0.000000       0.0       0.000000   \n",
       "Accident Year                     1967.000000    2020.0    2021.000000   \n",
       "Income_Category                      0.000000       1.0       2.000000   \n",
       "Accident_Quarter                     1.000000       1.0       3.000000   \n",
       "Accident_Year                     1967.000000    2020.0    2021.000000   \n",
       "Accident Day                         0.000000       1.0       2.000000   \n",
       "Age Group                            0.000000       0.0       2.000000   \n",
       "promptness_category                  0.000000       3.0       4.000000   \n",
       "promptness_C2_category               0.000000       3.0       4.000000   \n",
       "promptness_C3_category               0.000000       5.0       5.000000   \n",
       "Industry Risk                        0.000000       1.0       2.000000   \n",
       "Salary_Per_Dependent                 3.285714     186.5     279.333333   \n",
       "Gender_M                             0.000000       0.0       1.000000   \n",
       "Gender_U                             0.000000       0.0       0.000000   \n",
       "Medical Fee Region_II                0.000000       0.0       0.000000   \n",
       "Medical Fee Region_III               0.000000       0.0       0.000000   \n",
       "Medical Fee Region_UK                0.000000       0.0       0.000000   \n",
       "Carrier_Name_Simplified_freq       505.000000    3158.0   11544.000000   \n",
       "Zip_Code_Simplified_freq          1002.000000  350333.0  350333.000000   \n",
       "Industry Code_freq                 296.000000   14481.0   34856.000000   \n",
       "County of Injury_freq              109.000000    9173.0   24019.000000   \n",
       "District Name_freq                3191.000000   36466.0   68763.000000   \n",
       "WCIO Cause of Injury Code_freq      11.000000    8102.0   12448.000000   \n",
       "WCIO Nature of Injury Code_freq      1.000000   18237.0   44601.000000   \n",
       "WCIO Part Of Body Code_freq         40.000000    8977.0   18172.000000   \n",
       "Carrier Name_freq                    1.000000     713.0    3899.000000   \n",
       "Body_Part_Category_freq           9593.000000   45491.0   96343.000000   \n",
       "Injury_Nature_Category_freq      10480.000000  404174.0  404174.000000   \n",
       "Carrier Type Merged_freq           833.000000   88862.0  228492.000000   \n",
       "\n",
       "                                      75%       max  \n",
       "Age at Injury                        53.0      82.0  \n",
       "IME-4 Count                           0.0      48.0  \n",
       "Agreement Reached                     0.0       1.0  \n",
       "Accident Year                      2022.0    2023.0  \n",
       "Income_Category                       3.0       4.0  \n",
       "Accident_Quarter                      4.0       4.0  \n",
       "Accident_Year                      2022.0    2023.0  \n",
       "Accident Day                          4.0       6.0  \n",
       "Age Group                             2.0       3.0  \n",
       "promptness_category                   7.0       7.0  \n",
       "promptness_C2_category                7.0       7.0  \n",
       "promptness_C3_category                5.0       7.0  \n",
       "Industry Risk                         2.0       2.0  \n",
       "Salary_Per_Dependent                530.5   10000.0  \n",
       "Gender_M                              1.0       1.0  \n",
       "Gender_U                              0.0       1.0  \n",
       "Medical Fee Region_II                 0.0       1.0  \n",
       "Medical Fee Region_III                0.0       1.0  \n",
       "Medical Fee Region_UK                 0.0       1.0  \n",
       "Carrier_Name_Simplified_freq      88862.0   93013.0  \n",
       "Zip_Code_Simplified_freq         350333.0  350333.0  \n",
       "Industry Code_freq                73733.0   99366.0  \n",
       "County of Injury_freq             42680.0   48468.0  \n",
       "District Name_freq               216798.0  216798.0  \n",
       "WCIO Cause of Injury Code_freq    25490.0   37259.0  \n",
       "WCIO Nature of Injury Code_freq  122811.0  122811.0  \n",
       "WCIO Part Of Body Code_freq       30191.0   41385.0  \n",
       "Carrier Name_freq                 13697.0   88862.0  \n",
       "Body_Part_Category_freq          142559.0  142559.0  \n",
       "Injury_Nature_Category_freq      404174.0  404174.0  \n",
       "Carrier Type Merged_freq         228492.0  228492.0  "
      ]
     },
     "execution_count": 151,
     "metadata": {},
     "output_type": "execute_result"
    }
   ],
   "source": [
    "# Displaying descriptive statistics for categorical features in the training dataset\n",
    "X_train_2_4.describe().T"
   ]
  },
  {
   "cell_type": "markdown",
   "metadata": {},
   "source": [
    "In this section we will use the created dictionary in Notebook 3."
   ]
  },
  {
   "cell_type": "code",
   "execution_count": 152,
   "metadata": {},
   "outputs": [
    {
     "name": "stdout",
     "output_type": "stream",
     "text": [
      "Categorical Features (6):\n",
      "['Income_Category', 'Age Group', 'promptness_category', 'promptness_C2_category', 'promptness_C3_category', 'Industry Risk'] \n",
      "\n",
      "Binary Features (5):\n",
      "['Gender_M', 'Gender_U', 'Medical Fee Region_II', 'Medical Fee Region_III', 'Medical Fee Region_UK'] \n",
      "\n",
      "Numerical Features (18):\n",
      "['Age at Injury', 'IME-4 Count', 'Accident_Quarter', 'Accident_Year', 'Accident Day', 'Salary_Per_Dependent', 'Carrier_Name_Simplified_freq', 'Zip_Code_Simplified_freq', 'Industry Code_freq', 'County of Injury_freq', 'District Name_freq', 'WCIO Cause of Injury Code_freq', 'WCIO Nature of Injury Code_freq', 'WCIO Part Of Body Code_freq', 'Carrier Name_freq', 'Body_Part_Category_freq', 'Injury_Nature_Category_freq', 'Carrier Type Merged_freq'] \n",
      "\n"
     ]
    }
   ],
   "source": [
    "# Print summary\n",
    "for category, features in feature_categories.items():\n",
    "    print(f\"{category.capitalize()} Features ({len(features)}):\")\n",
    "    print(features, \"\\n\")"
   ]
  },
  {
   "cell_type": "markdown",
   "metadata": {},
   "source": [
    "## 4.1. Preparing Data</b> <a class=\"anchor\" id=\"section_4_1\"></a>\n",
    "\n",
    "[Back to 4. Feature Selection](#chapter4)<br>\n",
    "\n",
    "\n",
    "To perform feature selection techniques like Lasso, RFE, and feature importance, the numerical features must first be scaled. Scaling ensures that all features have a consistent range, which is particularly important for methods sensitive to feature magnitude.\n",
    "\n",
    "In this step, we will use the RobustScaler to standardize the numerical features in the dataset. This scaling process will be applied to a temporary dataset containing only the numerical features, allowing us to focus on selecting the most relevant features effectively. The scaled dataset will then be used as input for feature selection techniques."
   ]
  },
  {
   "cell_type": "code",
   "execution_count": 153,
   "metadata": {},
   "outputs": [],
   "source": [
    "# Extract numerical features from the dictionary\n",
    "numerical_features = feature_categories[\"numerical\"]\n",
    "\n",
    "# Initialize RobustScaler\n",
    "num_scaler = RobustScaler()\n",
    "\n",
    "# Scale numerical features in X_train\n",
    "X_train_2_4[numerical_features] = num_scaler.fit_transform(X_train_2_4[numerical_features])\n",
    "\n",
    "X_train_num_scaled= X_train_2_4[numerical_features]\n",
    "\n",
    "# Scale numerical features in X_val\n",
    "X_val_2_4[numerical_features] = num_scaler.transform(X_val_2_4[numerical_features])\n",
    "\n",
    "X_val_num_scaled= X_val_2_4[numerical_features]"
   ]
  },
  {
   "cell_type": "markdown",
   "metadata": {},
   "source": [
    "**Variance Check After Scaling**\n",
    "\n",
    "After scaling, we check the variance of each scaled feature to confirm that the features have been scaled properly. Lower variance after scaling indicates that data is normalized and less affected by magnitude differences."
   ]
  },
  {
   "cell_type": "code",
   "execution_count": 154,
   "metadata": {},
   "outputs": [
    {
     "data": {
      "text/plain": [
       "Age at Injury                      1.000003\n",
       "IME-4 Count                        1.000003\n",
       "Accident_Quarter                   1.000003\n",
       "Accident_Year                      1.000003\n",
       "Accident Day                       1.000003\n",
       "Salary_Per_Dependent               1.000003\n",
       "Carrier_Name_Simplified_freq       1.000003\n",
       "Zip_Code_Simplified_freq           1.000003\n",
       "Industry Code_freq                 1.000003\n",
       "County of Injury_freq              1.000003\n",
       "District Name_freq                 1.000003\n",
       "WCIO Cause of Injury Code_freq     1.000003\n",
       "WCIO Nature of Injury Code_freq    1.000003\n",
       "WCIO Part Of Body Code_freq        1.000003\n",
       "Carrier Name_freq                  1.000003\n",
       "Body_Part_Category_freq            1.000003\n",
       "Injury_Nature_Category_freq        1.000003\n",
       "Carrier Type Merged_freq           1.000003\n",
       "dtype: float64"
      ]
     },
     "execution_count": 154,
     "metadata": {},
     "output_type": "execute_result"
    }
   ],
   "source": [
    "# Check variance of scaled data\n",
    "X_train_num_scaled.var()"
   ]
  },
  {
   "cell_type": "markdown",
   "metadata": {},
   "source": [
    "The output shows the variance of each numerical column in the scaled training set. These values help validate that the scaling process has achieved a consistent data distribution across features."
   ]
  },
  {
   "cell_type": "markdown",
   "metadata": {},
   "source": [
    " ## 4.2. Numerical Features</b> <a class=\"anchor\" id=\"section_4_2\"></a>\n",
    " [Back to 4. Feature Selection](#chapter4)<br>\n",
    " "
   ]
  },
  {
   "cell_type": "markdown",
   "metadata": {},
   "source": [
    "### 4.2.1. LASSO Regression <a class=\"anchor\" id=\"sub_section_4_2_1\"></a>\n",
    "\n",
    " [Back to 4.2. Numerical Features](#section_4_2)<br>\n",
    "\n",
    "\n",
    " The LASSO (Least Absolute Shrinkage and Selection Operator) regression is used here for feature selection by fitting a model to the standardized dataset and analyzing the coefficients."
   ]
  },
  {
   "cell_type": "code",
   "execution_count": 155,
   "metadata": {},
   "outputs": [
    {
     "data": {
      "text/plain": [
       "Accident_Year                     -0.023968\n",
       "District Name_freq                -0.015595\n",
       "Industry Code_freq                -0.010690\n",
       "Carrier_Name_Simplified_freq      -0.007127\n",
       "Body_Part_Category_freq           -0.005276\n",
       "Zip_Code_Simplified_freq          -0.002744\n",
       "Carrier Type Merged_freq          -0.002211\n",
       "Accident Day                      -0.000863\n",
       "Accident_Quarter                  -0.000784\n",
       "Salary_Per_Dependent              -0.000676\n",
       "WCIO Nature of Injury Code_freq    0.007990\n",
       "Injury_Nature_Category_freq        0.010477\n",
       "County of Injury_freq              0.012870\n",
       "Age at Injury                      0.019984\n",
       "WCIO Cause of Injury Code_freq     0.021752\n",
       "WCIO Part Of Body Code_freq        0.034115\n",
       "Carrier Name_freq                  0.048872\n",
       "IME-4 Count                        0.200174\n",
       "dtype: float64"
      ]
     },
     "execution_count": 155,
     "metadata": {},
     "output_type": "execute_result"
    }
   ],
   "source": [
    "# Fit regression\n",
    "reg = LassoCV().fit(X_train_num_scaled, y_train_encoded)\n",
    "#get coefficients\n",
    "coef = pd.Series(reg.coef_, index = X_train_num_scaled.columns)\n",
    "# Sort coefficients to observe importance\n",
    "coef.sort_values()"
   ]
  },
  {
   "cell_type": "markdown",
   "metadata": {},
   "source": [
    "This function generates a horizontal bar plot of the feature importance values derived from the LASSO model, helping to visualize which features are prioritized by the model."
   ]
  },
  {
   "cell_type": "code",
   "execution_count": 156,
   "metadata": {},
   "outputs": [
    {
     "data": {
      "image/png": "[encoded data removed]",
      "text/plain": [
       "<Figure size 300x500 with 1 Axes>"
      ]
     },
     "metadata": {},
     "output_type": "display_data"
    }
   ],
   "source": [
    "plot_importance(coef,'Lasso')"
   ]
  },
  {
   "cell_type": "markdown",
   "metadata": {},
   "source": [
    "Let's consider all the values above 0.015."
   ]
  },
  {
   "cell_type": "markdown",
   "metadata": {},
   "source": [
    " ### 4.2.2. Recursive Feature Elimination - RFE <a class=\"anchor\" id=\"sub_section_4_2_2\"></a>\n",
    "\n",
    "  [Back to 4.2. Numerical Features](#section_4_2)<br>\n",
    " \n",
    "\n",
    "RFE is employed here to further validate the important features as identified by LASSO. By sequentially removing the least important features, RFE helps to refine the feature set.\n",
    "\n",
    "The selected features after RFE likely overlap with those identified by LASSO, suggesting consistency in feature importance.\n",
    "Using both LASSO and RFE provides a more robust feature selection by cross-validating the importance of individual features.\n",
    "\n",
    "This block of code performs RFE to identify the best subset of features by iterating over a range of feature numbers. The code aims to maximize model performance on the validation set."
   ]
  },
  {
   "cell_type": "code",
   "execution_count": 157,
   "metadata": {},
   "outputs": [
    {
     "data": {
      "text/plain": [
       "18"
      ]
     },
     "execution_count": 157,
     "metadata": {},
     "output_type": "execute_result"
    }
   ],
   "source": [
    "len(numerical_features)"
   ]
  },
  {
   "cell_type": "code",
   "execution_count": 158,
   "metadata": {},
   "outputs": [
    {
     "name": "stdout",
     "output_type": "stream",
     "text": [
      "Optimum number of features: 4\n",
      "F1 Macro Score with 4 features: 0.756563\n"
     ]
    }
   ],
   "source": [
    "# RFE using Logistic Regression\n",
    "model = LogisticRegression()\n",
    "\n",
    "#Use the function defined in utils.py\n",
    "best_features, best_score, scores = find_optimal_features_with_rfe(\n",
    "    model, \n",
    "    X_train_num_scaled, \n",
    "    y_train_encoded, \n",
    "    X_val_num_scaled, \n",
    "    y_val_encoded,\n",
    "    max_features=19\n",
    ")"
   ]
  },
  {
   "cell_type": "markdown",
   "metadata": {},
   "source": [
    "\n",
    "The loop evaluates models with 1 to 18 features, tracking the score for each.\n",
    "\n",
    "The output indicates that 4 features yielded the highest validation f1_score score of 0.756563."
   ]
  },
  {
   "cell_type": "markdown",
   "metadata": {},
   "source": [
    "**Applying RFE with the Optimal Number of Features**\n",
    "\n",
    "Once the optimal number of features is identified, the RFE model is finalized with this configuration."
   ]
  },
  {
   "cell_type": "code",
   "execution_count": 159,
   "metadata": {},
   "outputs": [],
   "source": [
    "#rfscv- to select 1st the number of features we should select\n",
    "model = LogisticRegression()\n",
    "rfe = RFE(estimator = model, n_features_to_select = 4)"
   ]
  },
  {
   "cell_type": "code",
   "execution_count": 160,
   "metadata": {},
   "outputs": [],
   "source": [
    "X_rfe= rfe.fit_transform(X=X_train_num_scaled, y=y_train_encoded)"
   ]
  },
  {
   "cell_type": "markdown",
   "metadata": {},
   "source": [
    "This shows the results of the feature selection process, listing the features selected by RFE. The code snippet confirms which features were selected as relevant by the RFE model and displays them in a boolean Series, where True indicates the feature was selected and False means it was not."
   ]
  },
  {
   "cell_type": "code",
   "execution_count": 161,
   "metadata": {},
   "outputs": [
    {
     "data": {
      "text/plain": [
       "Age at Injury                      False\n",
       "IME-4 Count                         True\n",
       "Accident_Quarter                   False\n",
       "Accident_Year                       True\n",
       "Accident Day                       False\n",
       "Salary_Per_Dependent               False\n",
       "Carrier_Name_Simplified_freq       False\n",
       "Zip_Code_Simplified_freq           False\n",
       "Industry Code_freq                 False\n",
       "County of Injury_freq              False\n",
       "District Name_freq                 False\n",
       "WCIO Cause of Injury Code_freq     False\n",
       "WCIO Nature of Injury Code_freq    False\n",
       "WCIO Part Of Body Code_freq         True\n",
       "Carrier Name_freq                   True\n",
       "Body_Part_Category_freq            False\n",
       "Injury_Nature_Category_freq        False\n",
       "Carrier Type Merged_freq           False\n",
       "dtype: bool"
      ]
     },
     "execution_count": 161,
     "metadata": {},
     "output_type": "execute_result"
    }
   ],
   "source": [
    "selected_features = pd.Series(rfe.support_, index = X_train_num_scaled.columns)\n",
    "selected_features"
   ]
  },
  {
   "cell_type": "markdown",
   "metadata": {},
   "source": [
    "### 4.2.3. Feature Importance - Decision Tree <a class=\"anchor\" id=\"sub_section_4_2_3\"></a>\n",
    " [Back to 4.2. Numerical Features](#section_4_2)<br>\n",
    "\n"
   ]
  },
  {
   "cell_type": "code",
   "execution_count": 162,
   "metadata": {},
   "outputs": [],
   "source": [
    "from utils import compare_feature_importances"
   ]
  },
  {
   "cell_type": "code",
   "execution_count": 163,
   "metadata": {},
   "outputs": [
    {
     "data": {
      "image/png": "[encoded data removed]",
      "text/plain": [
       "<Figure size 1300x500 with 1 Axes>"
      ]
     },
     "metadata": {},
     "output_type": "display_data"
    },
    {
     "name": "stdout",
     "output_type": "stream",
     "text": [
      "       gini   entropy               col\n",
      "0  0.029494  0.037180     Age at Injury\n",
      "1  0.334685  0.270384       IME-4 Count\n",
      "2  0.010798  0.011710  Accident_Quarter\n",
      "3  0.016970  0.018759     Accident_Year\n",
      "4  0.015244  0.018431      Accident Day\n"
     ]
    }
   ],
   "source": [
    "# Call the function with your training data\n",
    "zippy = compare_feature_importances(X_train_num_scaled, y_train_encoded)\n",
    "\n",
    "# Access the DataFrame for further analysis if needed\n",
    "print(zippy.head())"
   ]
  },
  {
   "cell_type": "markdown",
   "metadata": {},
   "source": [
    "### 4.2.4. Feature Importance - Random Forest <a class=\"anchor\" id=\"sub_section_4_2_4\"></a>\n",
    "\n",
    " [Back to 4.2. Numerical Features](#section_4_2)<br>\n"
   ]
  },
  {
   "cell_type": "code",
   "execution_count": 164,
   "metadata": {},
   "outputs": [
    {
     "data": {
      "image/png": "[encoded data removed]",
      "text/plain": [
       "<Figure size 1300x500 with 1 Axes>"
      ]
     },
     "metadata": {},
     "output_type": "display_data"
    },
    {
     "name": "stdout",
     "output_type": "stream",
     "text": [
      "       gini   entropy               col\n",
      "0  0.061458  0.069652     Age at Injury\n",
      "1  0.298197  0.246534       IME-4 Count\n",
      "2  0.024217  0.027513  Accident_Quarter\n",
      "3  0.028703  0.030494     Accident_Year\n",
      "4  0.034631  0.039057      Accident Day\n"
     ]
    }
   ],
   "source": [
    "# Call the function with your training data\n",
    "importances = compare_rf_feature_importances(X_train_num_scaled, y_train_encoded)\n",
    "\n",
    "# Access the DataFrame for further analysis if needed\n",
    "print(importances.head())"
   ]
  },
  {
   "cell_type": "markdown",
   "metadata": {},
   "source": [
    "## 4.3. Categorical Features</b> <a class=\"anchor\" id=\"section_4_3\"></a>\n",
    "[Back to 4. Feature Selection](#chapter4)<br>\n",
    "\n",
    "Chi-squared and MIC for the categorical ones."
   ]
  },
  {
   "cell_type": "code",
   "execution_count": 165,
   "metadata": {},
   "outputs": [],
   "source": [
    "X_train_mic_chi2 = X_train_2_4[feature_categories['categorical'] + feature_categories['binary']]"
   ]
  },
  {
   "cell_type": "code",
   "execution_count": 166,
   "metadata": {},
   "outputs": [
    {
     "data": {
      "text/plain": [
       "(351667, 11)"
      ]
     },
     "execution_count": 166,
     "metadata": {},
     "output_type": "execute_result"
    }
   ],
   "source": [
    "X_train_mic_chi2.shape"
   ]
  },
  {
   "cell_type": "code",
   "execution_count": 167,
   "metadata": {},
   "outputs": [
    {
     "data": {
      "text/plain": [
       "Index(['Income_Category', 'Age Group', 'promptness_category',\n",
       "       'promptness_C2_category', 'promptness_C3_category', 'Industry Risk',\n",
       "       'Gender_M', 'Gender_U', 'Medical Fee Region_II',\n",
       "       'Medical Fee Region_III', 'Medical Fee Region_UK'],\n",
       "      dtype='object')"
      ]
     },
     "execution_count": 167,
     "metadata": {},
     "output_type": "execute_result"
    }
   ],
   "source": [
    "X_train_mic_chi2.columns"
   ]
  },
  {
   "cell_type": "markdown",
   "metadata": {},
   "source": [
    " ### 4.3.1. $\\chi ^2$ Test for Independence <a class=\"anchor\" id=\"sub_section_4_3_1\"></a>\n",
    "\n",
    "[Back to 4.3. Categorical Features](#section_4_3)<br>\n",
    "\n",
    "\n",
    "The Chi-squared test helps us identify the most relevant categorical and binary features by evaluating their independence with the target variable. "
   ]
  },
  {
   "cell_type": "code",
   "execution_count": 168,
   "metadata": {},
   "outputs": [],
   "source": [
    "from utils import select_high_score_features_chi2_no_model"
   ]
  },
  {
   "cell_type": "code",
   "execution_count": 169,
   "metadata": {},
   "outputs": [
    {
     "name": "stdout",
     "output_type": "stream",
     "text": [
      "Top 6 features based on Chi-square scores: ['Income_Category', 'promptness_C3_category', 'Age Group', 'Industry Risk', 'Gender_M', 'promptness_C2_category']\n",
      "Corresponding Chi-square scores: [18070.663019890526, 11820.939622418879, 1903.049535399994, 1528.827444958079, 739.4178618093894, 508.5256175773334]\n"
     ]
    }
   ],
   "source": [
    "# Example usage\n",
    "high_score_features_chi2, scores = select_high_score_features_chi2_no_model(\n",
    "    X_train_mic_chi2, \n",
    "    y_train_encoded, \n",
    "    threshold=6\n",
    ")"
   ]
  },
  {
   "cell_type": "code",
   "execution_count": 170,
   "metadata": {},
   "outputs": [
    {
     "data": {
      "text/plain": [
       "['Income_Category',\n",
       " 'promptness_C3_category',\n",
       " 'Age Group',\n",
       " 'Industry Risk',\n",
       " 'Gender_M',\n",
       " 'promptness_C2_category']"
      ]
     },
     "execution_count": 170,
     "metadata": {},
     "output_type": "execute_result"
    }
   ],
   "source": [
    "high_score_features_chi2"
   ]
  },
  {
   "cell_type": "markdown",
   "metadata": {},
   "source": [
    " ### 4.3.2. Mutual Information Criterion (MIC) <a class=\"anchor\" id=\"sub_section_4_3_2\"></a>\n",
    "\n",
    " [Back to 4.3. Categorical Features](#section_4_3)<br>\n",
    " \n",
    "\n",
    "The Mutual Information Criterion is used to measure the dependence between each feature and the target variable. By setting a threshold, we retain only the most relevant features."
   ]
  },
  {
   "cell_type": "code",
   "execution_count": 171,
   "metadata": {},
   "outputs": [],
   "source": [
    "from utils import select_high_score_features_MIC"
   ]
  },
  {
   "cell_type": "code",
   "execution_count": 172,
   "metadata": {},
   "outputs": [
    {
     "name": "stdout",
     "output_type": "stream",
     "text": [
      "Top 6 features based on MIC scores: ['promptness_C3_category', 'Income_Category', 'Industry Risk', 'Age Group', 'Gender_M', 'promptness_category']\n",
      "Corresponding MIC scores: [0.12839258947775467, 0.09873720152605703, 0.03738639559045165, 0.02259036939653436, 0.01585640417979861, 0.0149665946007973]\n"
     ]
    }
   ],
   "source": [
    "# Example usage\n",
    "high_score_features_MIC, scores_MIC = select_high_score_features_MIC(\n",
    "    X_train_mic_chi2, \n",
    "    y_train_encoded, \n",
    "    threshold=6, \n",
    "    random_state=42)"
   ]
  },
  {
   "cell_type": "markdown",
   "metadata": {},
   "source": [
    "**Intersection of Selected Features by Chi-squared and MIC** <br>\n",
    "To identify the most relevant categorical features, we take the intersection of features selected by both Chi-squared and MIC methods."
   ]
  },
  {
   "cell_type": "code",
   "execution_count": 173,
   "metadata": {},
   "outputs": [
    {
     "data": {
      "text/plain": [
       "['promptness_C3_category',\n",
       " 'Industry Risk',\n",
       " 'Income_Category',\n",
       " 'Age Group',\n",
       " 'Gender_M']"
      ]
     },
     "execution_count": 173,
     "metadata": {},
     "output_type": "execute_result"
    }
   ],
   "source": [
    "# Find common features between Chi-squared and MIC selections\n",
    "common_categorical_features = list(set(high_score_features_chi2).intersection(set(high_score_features_MIC)))\n",
    "features_selected = common_categorical_features  # Final list of selected features\n",
    "features_selected  # Display the list of intersected features"
   ]
  },
  {
   "cell_type": "markdown",
   "metadata": {},
   "source": [
    "## 4.4. Final Features</b> <a class=\"anchor\" id=\"section_4_4\"></a>\n",
    "[Back to 4. Feature Selection](#chapter4)<br>\n",
    "\n",
    "The following table evaluates all numerical features using multiple feature selection techniques: Spearman Correlation, LASSO Regression, RFE, Decision Tree, and Random Forest. Based on these combined insights, a final decision is provided in the \"What to do?\" column."
   ]
  },
  {
   "cell_type": "markdown",
   "metadata": {},
   "source": [
    "\n",
    "| **Predictor**                 | **LASSO**         | **RFE**            | **Decision Tree Importance**   | **Random Forest Importance**  | **What to do?**               |\n",
    "|-------------------------------|-------------------|--------------------|--------------------------------|--------------------------------|--------------------------------|\n",
    "| Carrier Type Merged_freq      | Discard              | Discard               | Low                            | Low                            | Discard                       |\n",
    "| Carrier_Name_Simplified_freq  | Discard              | Discard               | Low                            | Low                            | Discard                       |\n",
    "| Injury_Nature_Category_freq    | Discard           | Discard               | Low                            | Low                            | Discard                       |\n",
    "| District Name_freq            | Keep           | Discard               | Low                            | Low                            | Discard                       |\n",
    "| Accident_Quarter              | Discard           | Discard               | Low                            | Low                            | Discard                       |\n",
    "| Accident_Year                 |Keep           | Keep               | Keep                            | Low                            | Include                       |\n",
    "| Zip_Code_Simplified_freq      |Discard           | Discard               | Low                            | Low                            | Discard                       |\n",
    "| WCIO Cause of Injury Code_freq| Keep           | Discard               | Low                           | Low                           | Consider include in the model                        |\n",
    "| Accident Day                  | Discard           | Discard            | Low                           | Low                            | Discard                       |\n",
    "| Industry Code_freq            | Discard           | Discard               | Low                           | Low                            | Discard                       |\n",
    "| Body_Part_Category_freq       | Discard           | Discard               | Low                            | Low                            | Discard                       |\n",
    "| WCIO Part Of Body Code_freq |  Keep           | Keep               | Keep                            | Low                            | Include                       |\n",
    "| WCIO Nature of Injury Code_freq| Discard           | Discard               | Low                            | Low                            | Discard                       |\n",
    "| Carrier Name_freq             | Keep              | Keep               | Keep                           | Low                           | Include                       |\n",
    "| Salary_Per_Dependent          | Discard              | Discard               | Keep                           | Keep                           | Include                       |\n",
    "| County of Injury_freq         | Discard              | Discard               | Low                           | Low                           | Discard                       |\n",
    "| Age at Injury                 | Keep              | Discard               | Low                           | Keep                           | Include                       |\n",
    "| IME-4 Count                   | Keep              | Keep               | Keep                           | Keep                           | Include                       |"
   ]
  },
  {
   "cell_type": "markdown",
   "metadata": {},
   "source": [
    "### **Categorical Feature Selection Results**\n",
    "\n",
    "The following table summarizes the decisions for each categorical feature based on **Mutual Information (MIC)** and **Chi-Squared** (X²) results. The retained features will be used in subsequent modeling to enhance predictive performance.\n",
    "\n",
    "| **Feature**              | **X² Results**          | **MIC Results**         | **Decision**               |\n",
    "|---------------------------|-------------------------|-------------------------|----------------------------|\n",
    "| promptness_C2_category | Keep                  | -                  | Consider include in model               |\n",
    "| promptness_category    | -                     | Keep                       | Consider include in model                |\n",
    "| promptness_C3_category | Keep                       | Keep                  | Include                |\n",
    "| Age Group              | Keep                  | Keep                  | Include                |\n",
    "| Income_Category        | Keep                  | Keep                  | Include                |\n",
    "| Industry Risk         | Keep                   | Keep                  | Include            |\n",
    "| Gender_M               | Keep                  | Keep                  | Include                |\n",
    "| Gender_U               | -                       | -                       | Exclude          |\n",
    "| Medical Fee Region_II  | -                       | -                       | Exclude               |\n",
    "| Medical Fee Region_III | -                       | -                       | Exclude               |\n",
    "| Medical Fee Region_UK  | -                       | -                       | Exclude                |\n"
   ]
  },
  {
   "cell_type": "code",
   "execution_count": 174,
   "metadata": {},
   "outputs": [
    {
     "data": {
      "text/plain": [
       "['Age at Injury',\n",
       " 'IME-4 Count',\n",
       " 'Accident_Quarter',\n",
       " 'Accident_Year',\n",
       " 'Accident Day',\n",
       " 'Salary_Per_Dependent',\n",
       " 'Carrier_Name_Simplified_freq',\n",
       " 'Zip_Code_Simplified_freq',\n",
       " 'Industry Code_freq',\n",
       " 'County of Injury_freq',\n",
       " 'District Name_freq',\n",
       " 'WCIO Cause of Injury Code_freq',\n",
       " 'WCIO Nature of Injury Code_freq',\n",
       " 'WCIO Part Of Body Code_freq',\n",
       " 'Carrier Name_freq',\n",
       " 'Body_Part_Category_freq',\n",
       " 'Injury_Nature_Category_freq',\n",
       " 'Carrier Type Merged_freq']"
      ]
     },
     "execution_count": 174,
     "metadata": {},
     "output_type": "execute_result"
    }
   ],
   "source": [
    "numerical_features"
   ]
  },
  {
   "cell_type": "code",
   "execution_count": 175,
   "metadata": {},
   "outputs": [
    {
     "name": "stdout",
     "output_type": "stream",
     "text": [
      "X_train_final shape: (351667, 11)\n",
      "X_val_final shape: (87918, 11)\n",
      "X_test_final shape: (387975, 11)\n"
     ]
    }
   ],
   "source": [
    "final_features = [\n",
    "    # Categorical features selected through MIC and chi2\n",
    "    'promptness_C3_category','Industry Risk',\n",
    "    'Income_Category', 'Age Group', 'Gender_M',\n",
    "    # Important numerical features\n",
    "    'Accident_Year', 'WCIO Part Of Body Code_freq','Carrier Name_freq',\n",
    "    'Salary_Per_Dependent', 'Age at Injury', 'IME-4 Count']\n",
    "\n",
    "\n",
    "# Extracting the final features from the processed datasets\n",
    "X_train_final = X_train_2_4[final_features]\n",
    "X_val_final = X_val_2_4[final_features]\n",
    "X_test_final = df_test[final_features]\n",
    "\n",
    "# Print the shape of the final datasets to confirm consistency\n",
    "print(f\"X_train_final shape: {X_train_final.shape}\")\n",
    "print(f\"X_val_final shape: {X_val_final.shape}\")\n",
    "print(f\"X_test_final shape: {X_test_final.shape}\")"
   ]
  },
  {
   "cell_type": "code",
   "execution_count": 176,
   "metadata": {},
   "outputs": [
    {
     "data": {
      "text/plain": [
       "351667"
      ]
     },
     "execution_count": 176,
     "metadata": {},
     "output_type": "execute_result"
    }
   ],
   "source": [
    "len(y_train_encoded)"
   ]
  },
  {
   "cell_type": "code",
   "execution_count": 177,
   "metadata": {},
   "outputs": [
    {
     "data": {
      "text/plain": [
       "87918"
      ]
     },
     "execution_count": 177,
     "metadata": {},
     "output_type": "execute_result"
    }
   ],
   "source": [
    "len(y_val_encoded)"
   ]
  },
  {
   "cell_type": "markdown",
   "metadata": {},
   "source": [
    "# 5. Modeling <a class=\"anchor\" id=\"chapter5\"></a>\n",
    "\n",
    "[Back to ToC](#toc)<br>"
   ]
  },
  {
   "cell_type": "markdown",
   "metadata": {},
   "source": [
    "For this binary classification task, we’ll use logistic regression as a simple and interpretable baseline. To capture non-linear patterns, we’ll include decision trees and random forests, which are robust and versatile. Additionally, we’ll apply gradient boosting methods like XGBoost or LightGBM for their strong performance on complex datasets. This mix of models balances simplicity and power for effective classification."
   ]
  },
  {
   "cell_type": "markdown",
   "metadata": {},
   "source": [
    "## 5.1. Logistic Regression </b> <a class=\"anchor\" id=\"section_5_1\"></a>\n",
    "\n",
    "[Back to 5. Modeling ](#chapter5)<br>\n",
    "\n",
    "Logistic Regression is a simple and interpretable model that is effective for binary classification when the relationship between features and the target is linear.\n"
   ]
  },
  {
   "cell_type": "code",
   "execution_count": 178,
   "metadata": {},
   "outputs": [
    {
     "name": "stdout",
     "output_type": "stream",
     "text": [
      "___________________________________________________________________________________________________________\n",
      "                                                     TRAIN                                                 \n",
      "-----------------------------------------------------------------------------------------------------------\n",
      "              precision    recall  f1-score   support\n",
      "\n",
      " 2. NON-COMP       0.81      0.96      0.88    232862\n",
      "4. TEMPORARY       0.89      0.56      0.69    118805\n",
      "\n",
      "    accuracy                           0.83    351667\n",
      "   macro avg       0.85      0.76      0.78    351667\n",
      "weighted avg       0.84      0.83      0.82    351667\n",
      "\n",
      "___________________________________________________________________________________________________________\n",
      "                                                VALIDATION                                                 \n",
      "-----------------------------------------------------------------------------------------------------------\n",
      "              precision    recall  f1-score   support\n",
      "\n",
      " 2. NON-COMP       0.81      0.96      0.88     58216\n",
      "4. TEMPORARY       0.89      0.56      0.69     29702\n",
      "\n",
      "    accuracy                           0.83     87918\n",
      "   macro avg       0.85      0.76      0.78     87918\n",
      "weighted avg       0.84      0.83      0.82     87918\n",
      "\n"
     ]
    },
    {
     "data": {
      "image/png": "[encoded data removed]",
      "text/plain": [
       "<Figure size 1000x400 with 2 Axes>"
      ]
     },
     "metadata": {},
     "output_type": "display_data"
    },
    {
     "name": "stdout",
     "output_type": "stream",
     "text": [
      "Time taken to run the cell: 51.56 seconds\n"
     ]
    }
   ],
   "source": [
    "# Record the start time\n",
    "start_time = time.time()\n",
    "\n",
    "# Initialize the model\n",
    "lr_model = LogisticRegression(random_state=42, max_iter=1000)\n",
    "\n",
    "# Fit the model to the train data\n",
    "lr_model.fit(X_train_final, y_train_2_4)\n",
    "\n",
    "# Predict the model for the train data\n",
    "y_pred_lr_train = lr_model.predict(X_train_final)\n",
    "\n",
    "# Predict the model for the validation data\n",
    "y_pred_lr = lr_model.predict(X_val_final)\n",
    "\n",
    "#Print the classification report\n",
    "metrics(y_train_2_4, y_pred_lr_train, y_val_2_4, y_pred_lr)\n",
    "\n",
    "# Record the end time and calculate duration\n",
    "end_time = time.time()\n",
    "print(f\"Time taken to run the cell: {end_time - start_time:.2f} seconds\")"
   ]
  },
  {
   "cell_type": "markdown",
   "metadata": {},
   "source": [
    "## 5.2. Random Forest Trees</b> <a class=\"anchor\" id=\"section_5_2\"></a>\n",
    "[Back to 5. Modelling ](#chapter5)<br>\n",
    "\n"
   ]
  },
  {
   "cell_type": "code",
   "execution_count": 179,
   "metadata": {},
   "outputs": [
    {
     "name": "stdout",
     "output_type": "stream",
     "text": [
      "___________________________________________________________________________________________________________\n",
      "                                                     TRAIN                                                 \n",
      "-----------------------------------------------------------------------------------------------------------\n",
      "              precision    recall  f1-score   support\n",
      "\n",
      " 2. NON-COMP       1.00      1.00      1.00    232862\n",
      "4. TEMPORARY       1.00      1.00      1.00    118805\n",
      "\n",
      "    accuracy                           1.00    351667\n",
      "   macro avg       1.00      1.00      1.00    351667\n",
      "weighted avg       1.00      1.00      1.00    351667\n",
      "\n",
      "___________________________________________________________________________________________________________\n",
      "                                                VALIDATION                                                 \n",
      "-----------------------------------------------------------------------------------------------------------\n",
      "              precision    recall  f1-score   support\n",
      "\n",
      " 2. NON-COMP       0.90      0.96      0.93     58216\n",
      "4. TEMPORARY       0.92      0.80      0.85     29702\n",
      "\n",
      "    accuracy                           0.91     87918\n",
      "   macro avg       0.91      0.88      0.89     87918\n",
      "weighted avg       0.91      0.91      0.91     87918\n",
      "\n"
     ]
    },
    {
     "data": {
      "image/png": "[encoded data removed]",
      "text/plain": [
       "<Figure size 1000x400 with 2 Axes>"
      ]
     },
     "metadata": {},
     "output_type": "display_data"
    },
    {
     "name": "stdout",
     "output_type": "stream",
     "text": [
      "Time taken to run the cell: 194.73 seconds\n"
     ]
    }
   ],
   "source": [
    "# Record the start time\n",
    "start_time = time.time()\n",
    "\n",
    "#Initialize the model\n",
    "rf_model = RandomForestClassifier(random_state=42)\n",
    "\n",
    "#Fit the model to the train data\n",
    "rf_model.fit(X_train_final, y_train_2_4)\n",
    "\n",
    "#Predict the model for the train data\n",
    "y_pred_rf_train = rf_model.predict(X_train_final)\n",
    "\n",
    "#Predict the model for the validation data\n",
    "y_pred_rf = rf_model.predict(X_val_final)\n",
    "\n",
    "#Print the classification report\n",
    "metrics(y_train_2_4, y_pred_rf_train, y_val_2_4, y_pred_rf)\n",
    "\n",
    "# Record the end time and calculate duration\n",
    "end_time = time.time()\n",
    "print(f\"Time taken to run the cell: {end_time - start_time:.2f} seconds\")"
   ]
  },
  {
   "cell_type": "markdown",
   "metadata": {},
   "source": [
    "## 5.3. Decision Trees</b> <a class=\"anchor\" id=\"section_5_3\"></a>\n",
    "[Back to 5. Modeling ](#chapter5)<br>\n",
    "\n",
    "\n",
    "Decision Trees are versatile models that can capture non-linear patterns by splitting data based on feature values."
   ]
  },
  {
   "cell_type": "code",
   "execution_count": 180,
   "metadata": {},
   "outputs": [
    {
     "name": "stdout",
     "output_type": "stream",
     "text": [
      "___________________________________________________________________________________________________________\n",
      "                                                     TRAIN                                                 \n",
      "-----------------------------------------------------------------------------------------------------------\n",
      "              precision    recall  f1-score   support\n",
      "\n",
      " 2. NON-COMP       1.00      1.00      1.00    232862\n",
      "4. TEMPORARY       1.00      1.00      1.00    118805\n",
      "\n",
      "    accuracy                           1.00    351667\n",
      "   macro avg       1.00      1.00      1.00    351667\n",
      "weighted avg       1.00      1.00      1.00    351667\n",
      "\n",
      "___________________________________________________________________________________________________________\n",
      "                                                VALIDATION                                                 \n",
      "-----------------------------------------------------------------------------------------------------------\n",
      "              precision    recall  f1-score   support\n",
      "\n",
      " 2. NON-COMP       0.94      0.94      0.94     58216\n",
      "4. TEMPORARY       0.89      0.88      0.89     29702\n",
      "\n",
      "    accuracy                           0.92     87918\n",
      "   macro avg       0.91      0.91      0.91     87918\n",
      "weighted avg       0.92      0.92      0.92     87918\n",
      "\n"
     ]
    },
    {
     "data": {
      "image/png": "[encoded data removed]",
      "text/plain": [
       "<Figure size 1000x400 with 2 Axes>"
      ]
     },
     "metadata": {},
     "output_type": "display_data"
    },
    {
     "name": "stdout",
     "output_type": "stream",
     "text": [
      "Time taken to run the cell: 62.08 seconds\n"
     ]
    }
   ],
   "source": [
    "# Record the start time\n",
    "start_time = time.time()\n",
    "\n",
    "# Initialize the model\n",
    "dt_model = DecisionTreeClassifier(random_state=42)\n",
    "\n",
    "# Fit the model to the train data\n",
    "dt_model.fit(X_train_final, y_train_2_4)\n",
    "\n",
    "# Predict the model for the train data\n",
    "y_pred_dt_train = dt_model.predict(X_train_final)\n",
    "\n",
    "# Predict the model for the validation data\n",
    "y_pred_dt = dt_model.predict(X_val_final)\n",
    "\n",
    "#Print the metric report\n",
    "metrics(y_train_2_4, y_pred_dt_train, y_val_2_4, y_pred_dt)\n",
    "\n",
    "# Record the end time and calculate duration\n",
    "end_time = time.time()\n",
    "print(f\"Time taken to run the cell: {end_time - start_time:.2f} seconds\")\n"
   ]
  },
  {
   "cell_type": "markdown",
   "metadata": {},
   "source": [
    "## 5.4. Gradient Boosting </b> <a class=\"anchor\" id=\"section_5_4\"></a>\n",
    "[Back to 5. Modeling ](#chapter5)<br>\n",
    "\n",
    "\n",
    "Gradient Boosting models (e.g., XGBoost, LightGBM) are powerful ensemble methods that iteratively improve performance by minimizing errors. <br>\n",
    "\n",
    "**XGBClassifier**"
   ]
  },
  {
   "cell_type": "code",
   "execution_count": 181,
   "metadata": {},
   "outputs": [
    {
     "name": "stdout",
     "output_type": "stream",
     "text": [
      "___________________________________________________________________________________________________________\n",
      "                                                     TRAIN                                                 \n",
      "-----------------------------------------------------------------------------------------------------------\n",
      "              precision    recall  f1-score   support\n",
      "\n",
      "           0       0.95      0.98      0.96    232862\n",
      "           1       0.96      0.89      0.92    118805\n",
      "\n",
      "    accuracy                           0.95    351667\n",
      "   macro avg       0.95      0.94      0.94    351667\n",
      "weighted avg       0.95      0.95      0.95    351667\n",
      "\n",
      "___________________________________________________________________________________________________________\n",
      "                                                VALIDATION                                                 \n",
      "-----------------------------------------------------------------------------------------------------------\n",
      "              precision    recall  f1-score   support\n",
      "\n",
      "           0       0.94      0.98      0.96     58216\n",
      "           1       0.96      0.89      0.92     29702\n",
      "\n",
      "    accuracy                           0.95     87918\n",
      "   macro avg       0.95      0.93      0.94     87918\n",
      "weighted avg       0.95      0.95      0.95     87918\n",
      "\n"
     ]
    },
    {
     "data": {
      "image/png": "[encoded data removed]",
      "text/plain": [
       "<Figure size 1000x400 with 2 Axes>"
      ]
     },
     "metadata": {},
     "output_type": "display_data"
    },
    {
     "name": "stdout",
     "output_type": "stream",
     "text": [
      "Time taken to run the cell: 3.77 seconds\n"
     ]
    }
   ],
   "source": [
    "# Record the start time\n",
    "start_time = time.time()\n",
    "\n",
    "# Encode the target variable\n",
    "label_encoder = LabelEncoder()\n",
    "y_train_2_4_encoded = label_encoder.fit_transform(y_train_2_4)\n",
    "y_val_2_4_encoded = label_encoder.transform(y_val_2_4)\n",
    "\n",
    "# Initialize the model\n",
    "gb_model = XGBClassifier(random_state=42, use_label_encoder=False, eval_metric='logloss')\n",
    "\n",
    "# Fit the model to the train data\n",
    "gb_model.fit(X_train_final, y_train_2_4_encoded)\n",
    "\n",
    "# Predict the model for the train data\n",
    "y_pred_gb_train = gb_model.predict(X_train_final)\n",
    "\n",
    "# Predict the model for the validation data\n",
    "y_pred_gb = gb_model.predict(X_val_final)\n",
    "\n",
    "# Print the classification report\n",
    "metrics(y_train_2_4_encoded, y_pred_gb_train, y_val_2_4_encoded, y_pred_gb)\n",
    "\n",
    "# Record the end time and calculate duration\n",
    "end_time = time.time()\n",
    "print(f\"Time taken to run the cell: {end_time - start_time:.2f} seconds\")\n"
   ]
  },
  {
   "cell_type": "markdown",
   "metadata": {},
   "source": [
    "**CatBoost (CatBoostClassifier)** <br>\n",
    "CatBoost is a gradient boosting framework designed to natively support categorical features. It is efficient, easy to implement, and often performs well on tabular data."
   ]
  },
  {
   "cell_type": "code",
   "execution_count": 182,
   "metadata": {},
   "outputs": [
    {
     "name": "stdout",
     "output_type": "stream",
     "text": [
      "___________________________________________________________________________________________________________\n",
      "                                                     TRAIN                                                 \n",
      "-----------------------------------------------------------------------------------------------------------\n",
      "              precision    recall  f1-score   support\n",
      "\n",
      "           0       0.96      0.99      0.97    232862\n",
      "           1       0.97      0.92      0.95    118805\n",
      "\n",
      "    accuracy                           0.96    351667\n",
      "   macro avg       0.97      0.95      0.96    351667\n",
      "weighted avg       0.97      0.96      0.96    351667\n",
      "\n",
      "___________________________________________________________________________________________________________\n",
      "                                                VALIDATION                                                 \n",
      "-----------------------------------------------------------------------------------------------------------\n",
      "              precision    recall  f1-score   support\n",
      "\n",
      "           0       0.96      0.99      0.97     58216\n",
      "           1       0.97      0.92      0.94     29702\n",
      "\n",
      "    accuracy                           0.96     87918\n",
      "   macro avg       0.96      0.95      0.96     87918\n",
      "weighted avg       0.96      0.96      0.96     87918\n",
      "\n"
     ]
    },
    {
     "data": {
      "image/png": "[encoded data removed]",
      "text/plain": [
       "<Figure size 1000x400 with 2 Axes>"
      ]
     },
     "metadata": {},
     "output_type": "display_data"
    },
    {
     "name": "stdout",
     "output_type": "stream",
     "text": [
      "Time taken to run the cell: 56.03 seconds\n"
     ]
    }
   ],
   "source": [
    "# Record the start time\n",
    "start_time = time.time()\n",
    "\n",
    "# Initialize the CatBoost model\n",
    "catboost_model = CatBoostClassifier(random_state=42, verbose=0)  # Set verbose=0 to suppress training logs\n",
    "\n",
    "# Fit the model to the training data\n",
    "catboost_model.fit(X_train_final, y_train_2_4_encoded)\n",
    "\n",
    "# Predict the model for the training data\n",
    "y_pred_catboost_train = catboost_model.predict(X_train_final)\n",
    "\n",
    "# Predict the model for the validation data\n",
    "y_pred_catboost = catboost_model.predict(X_val_final)\n",
    "\n",
    "# Print the classification report\n",
    "metrics(y_train_2_4_encoded, y_pred_catboost_train, y_val_2_4_encoded, y_pred_catboost)\n",
    "\n",
    "# Record the end time and calculate duration\n",
    "end_time = time.time()\n",
    "print(f\"Time taken to run the cell: {end_time - start_time:.2f} seconds\")"
   ]
  },
  {
   "cell_type": "markdown",
   "metadata": {},
   "source": [
    "## 5.5. Summary of Models </b> <a class=\"anchor\" id=\"section_5_5\"></a>\n",
    "\n",
    "[Back to 5. Modelling ](#chapter5)<br>\n",
    "\n",
    "\n",
    "\n",
    "We focused on a select set of models for binary classification as the initial results provided promising performance metrics. Below is the performance table, including F1 scores for training and validation datasets, along with the time taken for each model to run.\n",
    "\n",
    "| **Model**             | **F1 Score (Train)** | **F1 Score (Validation)** | **Time (seconds)** |\n",
    "|------------------------|----------------------|----------------------------|---------------------|\n",
    "| Logistic Regression    | 0.78                | 0.78                       | 43.09              |\n",
    "| Random Forest          | 1.00                | 0.89                       | 190.42             |\n",
    "| Decision Trees         | 1.00                | 0.91                       | 52.83              |\n",
    "| XGBoost                | 0.94                | 0.94                       | 3.62               |\n",
    "| CatBoost               | 0.96                | 0.96                       | 77.40              |\n",
    "\n",
    "- **Logistic Regression**: Despite being simple and efficient, it showed lower F1 scores compared to other models.\n",
    "- **Random Forest & Decision Trees**: Both achieved near-perfect training performance but showed slight overfitting on validation data.\n",
    "- **XGBoost and CatBoost**: Achieved balanced F1 scores for both training and validation, with XGBoost being notably faster.\n",
    "\n",
    "The ensemble methods, particularly XGBoost, exhibited strong performance with high F1 scores for both training and validation datasets, combined with efficient computation time. Due to its robustness and computational efficiency, we selected XGBoost as the primary model to apply to X_test_final.\n"
   ]
  },
  {
   "cell_type": "markdown",
   "metadata": {},
   "source": [
    "# 6. Loading the Results <a class=\"anchor\" id=\"chapter6\"></a>\n",
    "[Back to ToC](#toc)<br>\n",
    "\n",
    "For this evaluation, we will focus on the majority class (y_test == 0) while retaining the original output labels (using inverse label encoding). Additionally, we will count instances of NaN values for the minority classes to provide a comprehensive view of the test dataset distribution."
   ]
  },
  {
   "cell_type": "code",
   "execution_count": 183,
   "metadata": {},
   "outputs": [
    {
     "name": "stdout",
     "output_type": "stream",
     "text": [
      "Predicted Class Counts (Original Labels) for y_test == 0:\n",
      "2. NON-COMP     222416\n",
      "4. TEMPORARY    154506\n",
      "dtype: int64\n"
     ]
    }
   ],
   "source": [
    "# Filter the test data where y_test == 0\n",
    "X_test_filtered = X_test_final.loc[y_test[y_test == 0].index]\n",
    "\n",
    "# Remove non-numeric columns (like 'Final_Predictions') before prediction\n",
    "X_test_filtered_numeric = X_test_filtered.select_dtypes(include=['int', 'float', 'bool', 'category'])\n",
    "\n",
    "# Apply the model to predict on the filtered numeric test data\n",
    "y_pred_test_filtered = catboost_model.predict(X_test_filtered_numeric)\n",
    "\n",
    "# Inverse transform the predictions to the original labels\n",
    "label_encoder = LabelEncoder()\n",
    "label_encoder.fit(y_train_2_4)  # Use the encoder already fitted on training data\n",
    "y_pred_test_original_filtered = label_encoder.inverse_transform(y_pred_test_filtered)\n",
    "\n",
    "# Add the predictions back to the original test dataset\n",
    "X_test_final.loc[y_test[y_test == 0].index, 'Pred_notebook_5'] = y_pred_test_original_filtered\n",
    "\n",
    "# Count the occurrences of each class in the filtered test predictions\n",
    "class_counts_filtered = pd.Series(y_pred_test_original_filtered).value_counts()\n",
    "\n",
    "# Display results\n",
    "print(\"Predicted Class Counts (Original Labels) for y_test == 0:\")\n",
    "print(class_counts_filtered)"
   ]
  },
  {
   "cell_type": "code",
   "execution_count": 184,
   "metadata": {},
   "outputs": [
    {
     "name": "stdout",
     "output_type": "stream",
     "text": [
      "Predictions saved successfully to 'df_test_predictions_not5.csv'.\n"
     ]
    }
   ],
   "source": [
    "# Ensure the index alignment before assigning predictions\n",
    "df_test['Pred_notebook_5'] = np.nan  # Initialize with NaN\n",
    "df_test.loc[X_test_final.index, 'Pred_notebook_5'] = X_test_final['Pred_notebook_5']\n",
    "\n",
    "# Save the updated DataFrame to a file\n",
    "df_test.to_csv('../Data_Temporary/df_test_predictions_not5.csv', index=True)\n",
    "print(\"Predictions saved successfully to 'df_test_predictions_not5.csv'.\")"
   ]
  }
 ],
 "metadata": {
  "kernelspec": {
   "display_name": "Python 3",
   "language": "python",
   "name": "python3"
  },
  "language_info": {
   "codemirror_mode": {
    "name": "ipython",
    "version": 3
   },
   "file_extension": ".py",
   "mimetype": "text/x-python",
   "name": "python",
   "nbconvert_exporter": "python",
   "pygments_lexer": "ipython3",
   "version": "3.11.3"
  }
 },
 "nbformat": 4,
 "nbformat_minor": 2
}
