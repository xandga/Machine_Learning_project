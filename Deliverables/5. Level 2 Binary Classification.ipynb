{
 "cells": [
  {
   "cell_type": "markdown",
   "metadata": {},
   "source": [
    "# **<h3 align=\"center\">Machine Learning - Project</h3>**\n",
    "## **<h3 align=\"center\">5. Level 2 Binary Classification</h3>**\n",
    "### **<h3 align=\"center\">Group 30 - Project</h3>**\n",
    "\n",
    "\n",
    "### Group Members\n",
    "| Name              | Email                        | Student ID |\n",
    "|-------------------|------------------------------|------------|\n",
    "| Alexandra Pinto   | 20211599@novaims.unl.pt      | 20211599   |\n",
    "| Gonçalo Peres     | 20211625@novaims.unl.pt      | 20211625   |\n",
    "| Leonor Mira       | 20240658@novaims.unl.pt      | 20240658   |\n",
    "| Miguel Natário    | 20240498@novaims.unl.pt      | 20240498   |\n",
    "| Nuno Bernardino   | 20211546@novaims.unl.pt      | 20211546    |"
   ]
  },
  {
   "cell_type": "markdown",
   "metadata": {},
   "source": [
    "---\n",
    "\n",
    "### **5. Level 2 Binary Classification Notebook**\n",
    "**Description:**\n",
    "This notebook focuses on the **Level 2 Binary Classification model**, which distinguishes between the two most common classes identified in Level 1:\n",
    "- **2 - NON-COMP**\n",
    "- **4 - TEMPORARY**\n",
    "\n",
    "Key steps include:\n",
    "- Loading the subset of **“Common”** cases from Level 1 predictions.\n",
    "- **Feature selection:** Tailor feature preprocessing and selection for this binary classification task.\n",
    "- **Model training:** Train and evaluate a binary classification model to distinguish between the two classes.\n",
    "- **Evaluation:** Use metrics like accuracy, precision, recall, and F1-score to measure performance.\n",
    "- **Output:** Save predictions for integration in the final notebook.\n",
    "\n",
    "This notebook refines the classification of cases within the most common classes, contributing to the pipeline's accuracy.\n",
    "\n",
    "---\n"
   ]
  },
  {
   "cell_type": "markdown",
   "metadata": {},
   "source": [
    "<a id = \"toc\"></a>\n",
    "\n",
    "## Table of Contents\n",
    "* [1. Import the Libraries](#chapter1)\n",
    "* [2. Load and Prepare Datasets](#chapter2)\n",
    "* [3. Setting the Target](#chapter3)\n",
    "* [4. Feature Selection](#chapter4)\n",
    "    * [4.1. Preparing the Data](#section_4_1)  \n",
    "    * [4.2. Numerical Features](#section_4_2) \n",
    "        * [4.2.1. LASSO Regression](#section_4_2_1)\n",
    "        * [4.2.2. Recursive Feature Elimination - RFE](#section_4_2_2)\n",
    "        * [4.2.3. Feature Importance - Decision Tree](#section_4_2_3)\n",
    "        * [4.2.4. Feature Importance - Random Forest](#section_4_2_4)\n",
    "    * [4.3. Categorical Features](#section_4_3)\n",
    "        * [4.3.1. $\\chi ^2$ Test for Independence](#section_4_3_1)\n",
    "        * [4.3.2. Mutual Information Criterion (MIC)](#section_4_3_2)\n",
    "    * [4.4. Final Features](#section_4_4)\n",
    "* [5. Modelling](#chapter5)\n",
    "  * [5.1. Logistic Regression](#section_5_1)\n",
    "  * [5.2. Random Forest Trees](#section_5_2)\n",
    "  * [5.3. Decision Trees](#section_5_3)\n",
    "  * [5.4. Gradient Boosting](#section_5_4)\n",
    "  * [5.5. Summary of Models](#section_5_5)\n",
    "* [6. Loading the results](#chapter6)\n"
   ]
  },
  {
   "cell_type": "markdown",
   "metadata": {},
   "source": [
    "# 1. Import the Libraries 📚<a class=\"anchor\" id=\"chapter1\"></a>\n",
    "[Back to ToC](#toc)<br>"
   ]
  },
  {
   "cell_type": "code",
   "execution_count": 69,
   "metadata": {},
   "outputs": [],
   "source": [
    "# --- Standard Libraries ---\n",
    "import pandas as pd\n",
    "import numpy as np\n",
    "import matplotlib.pyplot as plt\n",
    "import seaborn as sns\n",
    "sns.set()\n",
    "import zipfile\n",
    "\n",
    "\n",
    "# --- Scikit-Learn Modules for Data Partitioning and Preprocessing ---\n",
    "from sklearn.model_selection import train_test_split, cross_val_score\n",
    "from sklearn.preprocessing import StandardScaler, OneHotEncoder, LabelEncoder, MinMaxScaler, RobustScaler\n",
    "from sklearn.compose import ColumnTransformer\n",
    "from sklearn.pipeline import Pipeline\n",
    "from sklearn.preprocessing import LabelEncoder\n",
    "\n",
    "\n",
    "# --- Feature Selection Methods ---\n",
    "# Filter Methods\n",
    "import scipy.stats as stats\n",
    "from scipy.stats import chi2_contingency\n",
    "from sklearn.feature_selection import mutual_info_classif, chi2, SelectKBest\n",
    "\n",
    "# Wrapper Methods\n",
    "from sklearn.linear_model import LogisticRegression\n",
    "from sklearn.svm import SVC\n",
    "from sklearn.feature_selection import RFE\n",
    "from sklearn.ensemble import RandomForestClassifier\n",
    "from sklearn.tree import DecisionTreeClassifier\n",
    "\n",
    "# Embedded Methods\n",
    "from sklearn.linear_model import LassoCV\n",
    "\n",
    "# --- Evaluation Metrics ---\n",
    "from sklearn.metrics import classification_report, confusion_matrix, accuracy_score, precision_score, recall_score, f1_score\n",
    "\n",
    "#from xgboost import XGBClassifier\n",
    "\n",
    "# --- Warnings ---\n",
    "\n",
    "import warnings\n",
    "warnings.filterwarnings('ignore')\n",
    "\n",
    "\n",
    "#Import from utils the used functions\n",
    "from utils import plot_importance, cor_heatmap, find_optimal_features_with_rfe, compare_rf_feature_importances,compare_feature_importances, select_high_score_features_chi2_no_model,select_high_score_features_MIC, metrics\n",
    "\n",
    "#Modeling \n",
    "from sklearn.ensemble import RandomForestClassifier"
   ]
  },
  {
   "cell_type": "markdown",
   "metadata": {},
   "source": [
    "In this topic we will also import the pre-saved feature categories dictionary from Notebook 3, ensuring consistency in feature grouping for feature selection and modeling."
   ]
  },
  {
   "cell_type": "code",
   "execution_count": null,
   "metadata": {},
   "outputs": [],
   "source": [
    "# Load the feature categories dictionary\n",
    "feature_categories_file = \"feature_categories.pkl\"\n",
    "with open(feature_categories_file, \"rb\") as file:\n",
    "    feature_categories = pickle.load(file)"
   ]
  },
  {
   "cell_type": "markdown",
   "metadata": {},
   "source": [
    "# 2. Load and Prepare Datasets 📁<a class=\"anchor\" id=\"chapter2\"></a>\n",
    "[Back to ToC](#toc)<br>\n",
    "\n",
    "Now that we preprocessed the dataset in notebook 3. we will upload those datasets"
   ]
  },
  {
   "cell_type": "code",
   "execution_count": 70,
   "metadata": {},
   "outputs": [],
   "source": [
    "#Import the datasets\n",
    "X_train = pd.read_csv(\"../processed_datasets/X_train_model.csv\", index_col=\"Claim Identifier\")\n",
    "X_val = pd.read_csv(\"../processed_datasets/X_val_model.csv\", index_col=\"Claim Identifier\")\n",
    "df_test = pd.read_csv(\"../Data_Temporary/df_test_predictions_not4.csv\", index_col=\"Claim Identifier\")"
   ]
  },
  {
   "cell_type": "markdown",
   "metadata": {},
   "source": [
    "Let's open the dataset."
   ]
  },
  {
   "cell_type": "code",
   "execution_count": 71,
   "metadata": {},
   "outputs": [
    {
     "data": {
      "text/html": [
       "<div>\n",
       "<style scoped>\n",
       "    .dataframe tbody tr th:only-of-type {\n",
       "        vertical-align: middle;\n",
       "    }\n",
       "\n",
       "    .dataframe tbody tr th {\n",
       "        vertical-align: top;\n",
       "    }\n",
       "\n",
       "    .dataframe thead th {\n",
       "        text-align: right;\n",
       "    }\n",
       "</style>\n",
       "<table border=\"1\" class=\"dataframe\">\n",
       "  <thead>\n",
       "    <tr style=\"text-align: right;\">\n",
       "      <th></th>\n",
       "      <th>Unnamed: 0</th>\n",
       "      <th>Age at Injury</th>\n",
       "      <th>Attorney/Representative</th>\n",
       "      <th>Average Weekly Wage</th>\n",
       "      <th>Birth Year</th>\n",
       "      <th>Carrier Name</th>\n",
       "      <th>Carrier Type</th>\n",
       "      <th>County of Injury</th>\n",
       "      <th>COVID-19 Indicator</th>\n",
       "      <th>District Name</th>\n",
       "      <th>Gender</th>\n",
       "      <th>IME-4 Count</th>\n",
       "      <th>Industry Code</th>\n",
       "      <th>Medical Fee Region</th>\n",
       "      <th>WCIO Cause of Injury Code</th>\n",
       "      <th>WCIO Nature of Injury Code</th>\n",
       "      <th>WCIO Part Of Body Code</th>\n",
       "      <th>Zip Code</th>\n",
       "      <th>Number of Dependents</th>\n",
       "      <th>Category Combination</th>\n",
       "      <th>Carrier_District_Interaction</th>\n",
       "      <th>Income_Category</th>\n",
       "      <th>Days_To_First_Hearing</th>\n",
       "      <th>Accident_Quarter</th>\n",
       "      <th>Accident_Year</th>\n",
       "      <th>Accident Day</th>\n",
       "      <th>Accident on Weekend</th>\n",
       "      <th>Age Group</th>\n",
       "      <th>promptness_category</th>\n",
       "      <th>promptness_C2_category</th>\n",
       "      <th>promptness_C3_category</th>\n",
       "      <th>Zip_Code_Simplified</th>\n",
       "      <th>Carrier Type Merged</th>\n",
       "      <th>Carrier_Name_Simplified</th>\n",
       "      <th>Body_Part_Category</th>\n",
       "      <th>Injury_Nature_Category</th>\n",
       "      <th>Injury_Cause_Category</th>\n",
       "      <th>Industry Risk</th>\n",
       "      <th>Salary_Per_Dependent</th>\n",
       "    </tr>\n",
       "    <tr>\n",
       "      <th>Claim Identifier</th>\n",
       "      <th></th>\n",
       "      <th></th>\n",
       "      <th></th>\n",
       "      <th></th>\n",
       "      <th></th>\n",
       "      <th></th>\n",
       "      <th></th>\n",
       "      <th></th>\n",
       "      <th></th>\n",
       "      <th></th>\n",
       "      <th></th>\n",
       "      <th></th>\n",
       "      <th></th>\n",
       "      <th></th>\n",
       "      <th></th>\n",
       "      <th></th>\n",
       "      <th></th>\n",
       "      <th></th>\n",
       "      <th></th>\n",
       "      <th></th>\n",
       "      <th></th>\n",
       "      <th></th>\n",
       "      <th></th>\n",
       "      <th></th>\n",
       "      <th></th>\n",
       "      <th></th>\n",
       "      <th></th>\n",
       "      <th></th>\n",
       "      <th></th>\n",
       "      <th></th>\n",
       "      <th></th>\n",
       "      <th></th>\n",
       "      <th></th>\n",
       "      <th></th>\n",
       "      <th></th>\n",
       "      <th></th>\n",
       "      <th></th>\n",
       "      <th></th>\n",
       "      <th></th>\n",
       "    </tr>\n",
       "  </thead>\n",
       "  <tbody>\n",
       "    <tr>\n",
       "      <th>5479022</th>\n",
       "      <td>0</td>\n",
       "      <td>24.0</td>\n",
       "      <td>0.0</td>\n",
       "      <td>816.0</td>\n",
       "      <td>1996.0</td>\n",
       "      <td>STATE INSURANCE FUND</td>\n",
       "      <td>SIF</td>\n",
       "      <td>CAYUGA</td>\n",
       "      <td>0.0</td>\n",
       "      <td>SYRACUSE</td>\n",
       "      <td>M</td>\n",
       "      <td>0.0</td>\n",
       "      <td>11.0</td>\n",
       "      <td>I</td>\n",
       "      <td>53.0</td>\n",
       "      <td>52.0</td>\n",
       "      <td>55.0</td>\n",
       "      <td>13143.0</td>\n",
       "      <td>3.0</td>\n",
       "      <td>SIF-M</td>\n",
       "      <td>SIF_SYRACUSE</td>\n",
       "      <td>Lower-Middle Income</td>\n",
       "      <td>0</td>\n",
       "      <td>2</td>\n",
       "      <td>2020</td>\n",
       "      <td>1</td>\n",
       "      <td>0</td>\n",
       "      <td>Youth</td>\n",
       "      <td>Until 1 week</td>\n",
       "      <td>Until 1 week</td>\n",
       "      <td>Form Not Received</td>\n",
       "      <td>OTHER</td>\n",
       "      <td>SIF</td>\n",
       "      <td>STATE INSURANCE FUND</td>\n",
       "      <td>Lower Extremities</td>\n",
       "      <td>Specific Injury</td>\n",
       "      <td>Strain or Injury By</td>\n",
       "      <td>High Risk</td>\n",
       "      <td>204.000000</td>\n",
       "    </tr>\n",
       "    <tr>\n",
       "      <th>6023025</th>\n",
       "      <td>1</td>\n",
       "      <td>36.0</td>\n",
       "      <td>1.0</td>\n",
       "      <td>1097.0</td>\n",
       "      <td>1986.0</td>\n",
       "      <td>SIRIUSPOINT AMERICA INSURANCE</td>\n",
       "      <td>PRIVATE</td>\n",
       "      <td>QUEENS</td>\n",
       "      <td>0.0</td>\n",
       "      <td>NYC</td>\n",
       "      <td>M</td>\n",
       "      <td>4.0</td>\n",
       "      <td>31.0</td>\n",
       "      <td>IV</td>\n",
       "      <td>31.0</td>\n",
       "      <td>10.0</td>\n",
       "      <td>65.0</td>\n",
       "      <td>11368.0</td>\n",
       "      <td>2.0</td>\n",
       "      <td>PRIVATE-M</td>\n",
       "      <td>PRIVATE_NYC</td>\n",
       "      <td>Middle Income</td>\n",
       "      <td>111</td>\n",
       "      <td>2</td>\n",
       "      <td>2022</td>\n",
       "      <td>1</td>\n",
       "      <td>0</td>\n",
       "      <td>Young Adult</td>\n",
       "      <td>1 to 3 months</td>\n",
       "      <td>1 to 3 months</td>\n",
       "      <td>1 to 3 months</td>\n",
       "      <td>11368.0</td>\n",
       "      <td>PRIVATE</td>\n",
       "      <td>OTHER</td>\n",
       "      <td>Multiple Body Parts</td>\n",
       "      <td>Specific Injury</td>\n",
       "      <td>Fall, Slip, or Trip</td>\n",
       "      <td>High Risk</td>\n",
       "      <td>365.666667</td>\n",
       "    </tr>\n",
       "    <tr>\n",
       "      <th>5851908</th>\n",
       "      <td>2</td>\n",
       "      <td>41.0</td>\n",
       "      <td>1.0</td>\n",
       "      <td>623.0</td>\n",
       "      <td>1980.0</td>\n",
       "      <td>INDEMNITY INS. OF N AMERICA</td>\n",
       "      <td>PRIVATE</td>\n",
       "      <td>MONROE</td>\n",
       "      <td>0.0</td>\n",
       "      <td>ROCHESTER</td>\n",
       "      <td>F</td>\n",
       "      <td>2.0</td>\n",
       "      <td>33.0</td>\n",
       "      <td>I</td>\n",
       "      <td>56.0</td>\n",
       "      <td>52.0</td>\n",
       "      <td>38.0</td>\n",
       "      <td>14580.0</td>\n",
       "      <td>3.0</td>\n",
       "      <td>PRIVATE-F</td>\n",
       "      <td>PRIVATE_ROCHESTER</td>\n",
       "      <td>Low Income</td>\n",
       "      <td>674</td>\n",
       "      <td>2</td>\n",
       "      <td>2021</td>\n",
       "      <td>2</td>\n",
       "      <td>0</td>\n",
       "      <td>Young Adult</td>\n",
       "      <td>3 to 6 months</td>\n",
       "      <td>3 to 6 months</td>\n",
       "      <td>3 to 6 months</td>\n",
       "      <td>OTHER</td>\n",
       "      <td>PRIVATE</td>\n",
       "      <td>INDEMNITY INS. OF N AMERICA</td>\n",
       "      <td>Upper Extremities</td>\n",
       "      <td>Specific Injury</td>\n",
       "      <td>Strain or Injury By</td>\n",
       "      <td>High Risk</td>\n",
       "      <td>155.750000</td>\n",
       "    </tr>\n",
       "  </tbody>\n",
       "</table>\n",
       "</div>"
      ],
      "text/plain": [
       "                  Unnamed: 0  Age at Injury  Attorney/Representative  \\\n",
       "Claim Identifier                                                       \n",
       "5479022                    0           24.0                      0.0   \n",
       "6023025                    1           36.0                      1.0   \n",
       "5851908                    2           41.0                      1.0   \n",
       "\n",
       "                  Average Weekly Wage  Birth Year  \\\n",
       "Claim Identifier                                    \n",
       "5479022                         816.0      1996.0   \n",
       "6023025                        1097.0      1986.0   \n",
       "5851908                         623.0      1980.0   \n",
       "\n",
       "                                   Carrier Name Carrier Type County of Injury  \\\n",
       "Claim Identifier                                                                \n",
       "5479022                    STATE INSURANCE FUND          SIF           CAYUGA   \n",
       "6023025           SIRIUSPOINT AMERICA INSURANCE      PRIVATE           QUEENS   \n",
       "5851908             INDEMNITY INS. OF N AMERICA      PRIVATE           MONROE   \n",
       "\n",
       "                  COVID-19 Indicator District Name Gender  IME-4 Count  \\\n",
       "Claim Identifier                                                         \n",
       "5479022                          0.0      SYRACUSE      M          0.0   \n",
       "6023025                          0.0           NYC      M          4.0   \n",
       "5851908                          0.0     ROCHESTER      F          2.0   \n",
       "\n",
       "                  Industry Code Medical Fee Region  WCIO Cause of Injury Code  \\\n",
       "Claim Identifier                                                                \n",
       "5479022                    11.0                  I                       53.0   \n",
       "6023025                    31.0                 IV                       31.0   \n",
       "5851908                    33.0                  I                       56.0   \n",
       "\n",
       "                  WCIO Nature of Injury Code  WCIO Part Of Body Code Zip Code  \\\n",
       "Claim Identifier                                                                \n",
       "5479022                                 52.0                    55.0  13143.0   \n",
       "6023025                                 10.0                    65.0  11368.0   \n",
       "5851908                                 52.0                    38.0  14580.0   \n",
       "\n",
       "                  Number of Dependents Category Combination  \\\n",
       "Claim Identifier                                              \n",
       "5479022                            3.0                SIF-M   \n",
       "6023025                            2.0            PRIVATE-M   \n",
       "5851908                            3.0            PRIVATE-F   \n",
       "\n",
       "                 Carrier_District_Interaction      Income_Category  \\\n",
       "Claim Identifier                                                     \n",
       "5479022                          SIF_SYRACUSE  Lower-Middle Income   \n",
       "6023025                           PRIVATE_NYC        Middle Income   \n",
       "5851908                     PRIVATE_ROCHESTER           Low Income   \n",
       "\n",
       "                  Days_To_First_Hearing  Accident_Quarter  Accident_Year  \\\n",
       "Claim Identifier                                                           \n",
       "5479022                               0                 2           2020   \n",
       "6023025                             111                 2           2022   \n",
       "5851908                             674                 2           2021   \n",
       "\n",
       "                  Accident Day  Accident on Weekend    Age Group  \\\n",
       "Claim Identifier                                                   \n",
       "5479022                      1                    0        Youth   \n",
       "6023025                      1                    0  Young Adult   \n",
       "5851908                      2                    0  Young Adult   \n",
       "\n",
       "                 promptness_category promptness_C2_category  \\\n",
       "Claim Identifier                                              \n",
       "5479022                 Until 1 week           Until 1 week   \n",
       "6023025                1 to 3 months          1 to 3 months   \n",
       "5851908                3 to 6 months          3 to 6 months   \n",
       "\n",
       "                 promptness_C3_category Zip_Code_Simplified  \\\n",
       "Claim Identifier                                              \n",
       "5479022               Form Not Received               OTHER   \n",
       "6023025                   1 to 3 months             11368.0   \n",
       "5851908                   3 to 6 months               OTHER   \n",
       "\n",
       "                 Carrier Type Merged      Carrier_Name_Simplified  \\\n",
       "Claim Identifier                                                    \n",
       "5479022                          SIF         STATE INSURANCE FUND   \n",
       "6023025                      PRIVATE                        OTHER   \n",
       "5851908                      PRIVATE  INDEMNITY INS. OF N AMERICA   \n",
       "\n",
       "                   Body_Part_Category Injury_Nature_Category  \\\n",
       "Claim Identifier                                               \n",
       "5479022             Lower Extremities        Specific Injury   \n",
       "6023025           Multiple Body Parts        Specific Injury   \n",
       "5851908             Upper Extremities        Specific Injury   \n",
       "\n",
       "                 Injury_Cause_Category Industry Risk  Salary_Per_Dependent  \n",
       "Claim Identifier                                                            \n",
       "5479022            Strain or Injury By     High Risk            204.000000  \n",
       "6023025            Fall, Slip, or Trip     High Risk            365.666667  \n",
       "5851908            Strain or Injury By     High Risk            155.750000  "
      ]
     },
     "execution_count": 71,
     "metadata": {},
     "output_type": "execute_result"
    }
   ],
   "source": [
    "X_train.head(3)"
   ]
  },
  {
   "cell_type": "code",
   "execution_count": 72,
   "metadata": {},
   "outputs": [
    {
     "data": {
      "text/html": [
       "<div>\n",
       "<style scoped>\n",
       "    .dataframe tbody tr th:only-of-type {\n",
       "        vertical-align: middle;\n",
       "    }\n",
       "\n",
       "    .dataframe tbody tr th {\n",
       "        vertical-align: top;\n",
       "    }\n",
       "\n",
       "    .dataframe thead th {\n",
       "        text-align: right;\n",
       "    }\n",
       "</style>\n",
       "<table border=\"1\" class=\"dataframe\">\n",
       "  <thead>\n",
       "    <tr style=\"text-align: right;\">\n",
       "      <th></th>\n",
       "      <th>Unnamed: 0</th>\n",
       "      <th>Age at Injury</th>\n",
       "      <th>Attorney/Representative</th>\n",
       "      <th>Average Weekly Wage</th>\n",
       "      <th>Birth Year</th>\n",
       "      <th>Carrier Name</th>\n",
       "      <th>Carrier Type</th>\n",
       "      <th>County of Injury</th>\n",
       "      <th>COVID-19 Indicator</th>\n",
       "      <th>District Name</th>\n",
       "      <th>Gender</th>\n",
       "      <th>IME-4 Count</th>\n",
       "      <th>Industry Code</th>\n",
       "      <th>Medical Fee Region</th>\n",
       "      <th>WCIO Cause of Injury Code</th>\n",
       "      <th>WCIO Nature of Injury Code</th>\n",
       "      <th>WCIO Part Of Body Code</th>\n",
       "      <th>Zip Code</th>\n",
       "      <th>Number of Dependents</th>\n",
       "      <th>Category Combination</th>\n",
       "      <th>Carrier_District_Interaction</th>\n",
       "      <th>Income_Category</th>\n",
       "      <th>Days_To_First_Hearing</th>\n",
       "      <th>Accident_Quarter</th>\n",
       "      <th>Accident_Year</th>\n",
       "      <th>Accident Day</th>\n",
       "      <th>Accident on Weekend</th>\n",
       "      <th>Age Group</th>\n",
       "      <th>promptness_category</th>\n",
       "      <th>promptness_C2_category</th>\n",
       "      <th>promptness_C3_category</th>\n",
       "      <th>Zip_Code_Simplified</th>\n",
       "      <th>Carrier Type Merged</th>\n",
       "      <th>Carrier_Name_Simplified</th>\n",
       "      <th>Body_Part_Category</th>\n",
       "      <th>Injury_Nature_Category</th>\n",
       "      <th>Injury_Cause_Category</th>\n",
       "      <th>Industry Risk</th>\n",
       "      <th>Salary_Per_Dependent</th>\n",
       "    </tr>\n",
       "    <tr>\n",
       "      <th>Claim Identifier</th>\n",
       "      <th></th>\n",
       "      <th></th>\n",
       "      <th></th>\n",
       "      <th></th>\n",
       "      <th></th>\n",
       "      <th></th>\n",
       "      <th></th>\n",
       "      <th></th>\n",
       "      <th></th>\n",
       "      <th></th>\n",
       "      <th></th>\n",
       "      <th></th>\n",
       "      <th></th>\n",
       "      <th></th>\n",
       "      <th></th>\n",
       "      <th></th>\n",
       "      <th></th>\n",
       "      <th></th>\n",
       "      <th></th>\n",
       "      <th></th>\n",
       "      <th></th>\n",
       "      <th></th>\n",
       "      <th></th>\n",
       "      <th></th>\n",
       "      <th></th>\n",
       "      <th></th>\n",
       "      <th></th>\n",
       "      <th></th>\n",
       "      <th></th>\n",
       "      <th></th>\n",
       "      <th></th>\n",
       "      <th></th>\n",
       "      <th></th>\n",
       "      <th></th>\n",
       "      <th></th>\n",
       "      <th></th>\n",
       "      <th></th>\n",
       "      <th></th>\n",
       "      <th></th>\n",
       "    </tr>\n",
       "  </thead>\n",
       "  <tbody>\n",
       "    <tr>\n",
       "      <th>5893917</th>\n",
       "      <td>0</td>\n",
       "      <td>NaN</td>\n",
       "      <td>1.0</td>\n",
       "      <td>1538.0</td>\n",
       "      <td>NaN</td>\n",
       "      <td>ACE AMERICAN INSURANCE CO.</td>\n",
       "      <td>PRIVATE</td>\n",
       "      <td>BRONX</td>\n",
       "      <td>0.0</td>\n",
       "      <td>NYC</td>\n",
       "      <td>M</td>\n",
       "      <td>2.0</td>\n",
       "      <td>23.0</td>\n",
       "      <td>UK</td>\n",
       "      <td>97.0</td>\n",
       "      <td>80.0</td>\n",
       "      <td>101.0</td>\n",
       "      <td>10467.0</td>\n",
       "      <td>2.0</td>\n",
       "      <td>PRIVATE-M</td>\n",
       "      <td>PRIVATE_NYC</td>\n",
       "      <td>Upper-Middle Income</td>\n",
       "      <td>242</td>\n",
       "      <td>3</td>\n",
       "      <td>2021</td>\n",
       "      <td>0</td>\n",
       "      <td>0</td>\n",
       "      <td>NaN</td>\n",
       "      <td>3 to 6 months</td>\n",
       "      <td>3 to 6 months</td>\n",
       "      <td>3 to 6 months</td>\n",
       "      <td>10467.0</td>\n",
       "      <td>PRIVATE</td>\n",
       "      <td>ACE AMERICAN INSURANCE CO.</td>\n",
       "      <td>Lower Extremities</td>\n",
       "      <td>Occupational Disease or Cumulative Injury</td>\n",
       "      <td>Strain or Injury By</td>\n",
       "      <td>High Risk</td>\n",
       "      <td>512.666667</td>\n",
       "    </tr>\n",
       "    <tr>\n",
       "      <th>5978089</th>\n",
       "      <td>1</td>\n",
       "      <td>59.0</td>\n",
       "      <td>0.0</td>\n",
       "      <td>1696.0</td>\n",
       "      <td>1963.0</td>\n",
       "      <td>ZURICH AMERICAN INSURANCE CO</td>\n",
       "      <td>PRIVATE</td>\n",
       "      <td>NIAGARA</td>\n",
       "      <td>0.0</td>\n",
       "      <td>BUFFALO</td>\n",
       "      <td>M</td>\n",
       "      <td>0.0</td>\n",
       "      <td>42.0</td>\n",
       "      <td>I</td>\n",
       "      <td>81.0</td>\n",
       "      <td>10.0</td>\n",
       "      <td>32.0</td>\n",
       "      <td>14094.0</td>\n",
       "      <td>3.0</td>\n",
       "      <td>PRIVATE-M</td>\n",
       "      <td>PRIVATE_BUFFALO</td>\n",
       "      <td>Upper-Middle Income</td>\n",
       "      <td>0</td>\n",
       "      <td>2</td>\n",
       "      <td>2022</td>\n",
       "      <td>0</td>\n",
       "      <td>0</td>\n",
       "      <td>Middle Age</td>\n",
       "      <td>Until 1 week</td>\n",
       "      <td>Until 1 week</td>\n",
       "      <td>Form Not Received</td>\n",
       "      <td>14094.0</td>\n",
       "      <td>PRIVATE</td>\n",
       "      <td>ZURICH AMERICAN INSURANCE CO</td>\n",
       "      <td>Multiple Body Parts</td>\n",
       "      <td>Specific Injury</td>\n",
       "      <td>Struck or Injured by</td>\n",
       "      <td>Medium Risk</td>\n",
       "      <td>424.000000</td>\n",
       "    </tr>\n",
       "    <tr>\n",
       "      <th>5622704</th>\n",
       "      <td>2</td>\n",
       "      <td>28.0</td>\n",
       "      <td>1.0</td>\n",
       "      <td>1266.0</td>\n",
       "      <td>1987.0</td>\n",
       "      <td>GREAT DIVIDE INSURANCE COMPANY</td>\n",
       "      <td>PRIVATE</td>\n",
       "      <td>ERIE</td>\n",
       "      <td>0.0</td>\n",
       "      <td>BUFFALO</td>\n",
       "      <td>M</td>\n",
       "      <td>1.0</td>\n",
       "      <td>71.0</td>\n",
       "      <td>UK</td>\n",
       "      <td>60.0</td>\n",
       "      <td>52.0</td>\n",
       "      <td>38.0</td>\n",
       "      <td>20171.0</td>\n",
       "      <td>5.0</td>\n",
       "      <td>PRIVATE-M</td>\n",
       "      <td>PRIVATE_BUFFALO</td>\n",
       "      <td>Middle Income</td>\n",
       "      <td>2121</td>\n",
       "      <td>3</td>\n",
       "      <td>2015</td>\n",
       "      <td>1</td>\n",
       "      <td>0</td>\n",
       "      <td>Young Adult</td>\n",
       "      <td>More than 1 year</td>\n",
       "      <td>More than 1 year</td>\n",
       "      <td>More than 1 year</td>\n",
       "      <td>OTHER</td>\n",
       "      <td>PRIVATE</td>\n",
       "      <td>OTHER</td>\n",
       "      <td>Upper Extremities</td>\n",
       "      <td>Specific Injury</td>\n",
       "      <td>Strain or Injury By</td>\n",
       "      <td>Medium Risk</td>\n",
       "      <td>211.000000</td>\n",
       "    </tr>\n",
       "  </tbody>\n",
       "</table>\n",
       "</div>"
      ],
      "text/plain": [
       "                  Unnamed: 0  Age at Injury  Attorney/Representative  \\\n",
       "Claim Identifier                                                       \n",
       "5893917                    0            NaN                      1.0   \n",
       "5978089                    1           59.0                      0.0   \n",
       "5622704                    2           28.0                      1.0   \n",
       "\n",
       "                  Average Weekly Wage  Birth Year  \\\n",
       "Claim Identifier                                    \n",
       "5893917                        1538.0         NaN   \n",
       "5978089                        1696.0      1963.0   \n",
       "5622704                        1266.0      1987.0   \n",
       "\n",
       "                                    Carrier Name Carrier Type  \\\n",
       "Claim Identifier                                                \n",
       "5893917               ACE AMERICAN INSURANCE CO.      PRIVATE   \n",
       "5978089             ZURICH AMERICAN INSURANCE CO      PRIVATE   \n",
       "5622704           GREAT DIVIDE INSURANCE COMPANY      PRIVATE   \n",
       "\n",
       "                 County of Injury  COVID-19 Indicator District Name Gender  \\\n",
       "Claim Identifier                                                             \n",
       "5893917                     BRONX                 0.0           NYC      M   \n",
       "5978089                   NIAGARA                 0.0       BUFFALO      M   \n",
       "5622704                      ERIE                 0.0       BUFFALO      M   \n",
       "\n",
       "                  IME-4 Count  Industry Code Medical Fee Region  \\\n",
       "Claim Identifier                                                  \n",
       "5893917                   2.0           23.0                 UK   \n",
       "5978089                   0.0           42.0                  I   \n",
       "5622704                   1.0           71.0                 UK   \n",
       "\n",
       "                  WCIO Cause of Injury Code  WCIO Nature of Injury Code  \\\n",
       "Claim Identifier                                                          \n",
       "5893917                                97.0                        80.0   \n",
       "5978089                                81.0                        10.0   \n",
       "5622704                                60.0                        52.0   \n",
       "\n",
       "                  WCIO Part Of Body Code  Zip Code  Number of Dependents  \\\n",
       "Claim Identifier                                                           \n",
       "5893917                            101.0   10467.0                   2.0   \n",
       "5978089                             32.0   14094.0                   3.0   \n",
       "5622704                             38.0   20171.0                   5.0   \n",
       "\n",
       "                 Category Combination Carrier_District_Interaction  \\\n",
       "Claim Identifier                                                     \n",
       "5893917                     PRIVATE-M                  PRIVATE_NYC   \n",
       "5978089                     PRIVATE-M              PRIVATE_BUFFALO   \n",
       "5622704                     PRIVATE-M              PRIVATE_BUFFALO   \n",
       "\n",
       "                      Income_Category  Days_To_First_Hearing  \\\n",
       "Claim Identifier                                               \n",
       "5893917           Upper-Middle Income                    242   \n",
       "5978089           Upper-Middle Income                      0   \n",
       "5622704                 Middle Income                   2121   \n",
       "\n",
       "                  Accident_Quarter  Accident_Year  Accident Day  \\\n",
       "Claim Identifier                                                  \n",
       "5893917                          3           2021             0   \n",
       "5978089                          2           2022             0   \n",
       "5622704                          3           2015             1   \n",
       "\n",
       "                  Accident on Weekend    Age Group promptness_category  \\\n",
       "Claim Identifier                                                         \n",
       "5893917                             0          NaN       3 to 6 months   \n",
       "5978089                             0   Middle Age        Until 1 week   \n",
       "5622704                             0  Young Adult    More than 1 year   \n",
       "\n",
       "                 promptness_C2_category promptness_C3_category  \\\n",
       "Claim Identifier                                                 \n",
       "5893917                   3 to 6 months          3 to 6 months   \n",
       "5978089                    Until 1 week      Form Not Received   \n",
       "5622704                More than 1 year       More than 1 year   \n",
       "\n",
       "                 Zip_Code_Simplified Carrier Type Merged  \\\n",
       "Claim Identifier                                           \n",
       "5893917                      10467.0             PRIVATE   \n",
       "5978089                      14094.0             PRIVATE   \n",
       "5622704                        OTHER             PRIVATE   \n",
       "\n",
       "                       Carrier_Name_Simplified   Body_Part_Category  \\\n",
       "Claim Identifier                                                      \n",
       "5893917             ACE AMERICAN INSURANCE CO.    Lower Extremities   \n",
       "5978089           ZURICH AMERICAN INSURANCE CO  Multiple Body Parts   \n",
       "5622704                                  OTHER    Upper Extremities   \n",
       "\n",
       "                                     Injury_Nature_Category  \\\n",
       "Claim Identifier                                              \n",
       "5893917           Occupational Disease or Cumulative Injury   \n",
       "5978089                                     Specific Injury   \n",
       "5622704                                     Specific Injury   \n",
       "\n",
       "                 Injury_Cause_Category Industry Risk  Salary_Per_Dependent  \n",
       "Claim Identifier                                                            \n",
       "5893917            Strain or Injury By     High Risk            512.666667  \n",
       "5978089           Struck or Injured by   Medium Risk            424.000000  \n",
       "5622704            Strain or Injury By   Medium Risk            211.000000  "
      ]
     },
     "execution_count": 72,
     "metadata": {},
     "output_type": "execute_result"
    }
   ],
   "source": [
    "X_val.head(3)"
   ]
  },
  {
   "cell_type": "code",
   "execution_count": 73,
   "metadata": {},
   "outputs": [],
   "source": [
    "X_train = X_train.drop(columns=['Unnamed: 0'])\n",
    "X_val = X_val.drop(columns=['Unnamed: 0'])"
   ]
  },
  {
   "cell_type": "code",
   "execution_count": null,
   "metadata": {},
   "outputs": [],
   "source": []
  },
  {
   "cell_type": "code",
   "execution_count": 89,
   "metadata": {},
   "outputs": [
    {
     "data": {
      "text/plain": [
       "171781"
      ]
     },
     "execution_count": 89,
     "metadata": {},
     "output_type": "execute_result"
    }
   ],
   "source": [
    "X_train.isna().sum().sum()"
   ]
  },
  {
   "cell_type": "code",
   "execution_count": 90,
   "metadata": {},
   "outputs": [
    {
     "data": {
      "text/plain": [
       "75617"
      ]
     },
     "execution_count": 90,
     "metadata": {},
     "output_type": "execute_result"
    }
   ],
   "source": [
    "X_val.isna().sum().sum()"
   ]
  },
  {
   "cell_type": "markdown",
   "metadata": {},
   "source": [
    "We also need to load the test dataset resulted from notebook 2, with the best predictions."
   ]
  },
  {
   "cell_type": "code",
   "execution_count": 77,
   "metadata": {},
   "outputs": [
    {
     "data": {
      "text/html": [
       "<div>\n",
       "<style scoped>\n",
       "    .dataframe tbody tr th:only-of-type {\n",
       "        vertical-align: middle;\n",
       "    }\n",
       "\n",
       "    .dataframe tbody tr th {\n",
       "        vertical-align: top;\n",
       "    }\n",
       "\n",
       "    .dataframe thead th {\n",
       "        text-align: right;\n",
       "    }\n",
       "</style>\n",
       "<table border=\"1\" class=\"dataframe\">\n",
       "  <thead>\n",
       "    <tr style=\"text-align: right;\">\n",
       "      <th></th>\n",
       "      <th>Age at Injury</th>\n",
       "      <th>Attorney/Representative</th>\n",
       "      <th>Average Weekly Wage</th>\n",
       "      <th>Birth Year</th>\n",
       "      <th>Carrier Name</th>\n",
       "      <th>Carrier Type</th>\n",
       "      <th>County of Injury</th>\n",
       "      <th>COVID-19 Indicator</th>\n",
       "      <th>District Name</th>\n",
       "      <th>Gender</th>\n",
       "      <th>IME-4 Count</th>\n",
       "      <th>Industry Code</th>\n",
       "      <th>Medical Fee Region</th>\n",
       "      <th>WCIO Cause of Injury Code</th>\n",
       "      <th>WCIO Nature of Injury Code</th>\n",
       "      <th>WCIO Part Of Body Code</th>\n",
       "      <th>Zip Code</th>\n",
       "      <th>Number of Dependents</th>\n",
       "      <th>Carrier_District_Interaction</th>\n",
       "      <th>Income_Category</th>\n",
       "      <th>Days_To_First_Hearing</th>\n",
       "      <th>Accident_Quarter</th>\n",
       "      <th>Accident_Year</th>\n",
       "      <th>Accident Day</th>\n",
       "      <th>Accident on Weekend</th>\n",
       "      <th>Age Group</th>\n",
       "      <th>promptness_category</th>\n",
       "      <th>promptness_C2_category</th>\n",
       "      <th>promptness_C3_category</th>\n",
       "      <th>Zip_Code_Simplified</th>\n",
       "      <th>Carrier Type Merged</th>\n",
       "      <th>Carrier_Name_Simplified</th>\n",
       "      <th>Body_Part_Category</th>\n",
       "      <th>Injury_Nature_Category</th>\n",
       "      <th>Injury_Cause_Category</th>\n",
       "      <th>Industry Risk</th>\n",
       "      <th>Salary_Per_Dependent</th>\n",
       "      <th>Predictions</th>\n",
       "    </tr>\n",
       "    <tr>\n",
       "      <th>Claim Identifier</th>\n",
       "      <th></th>\n",
       "      <th></th>\n",
       "      <th></th>\n",
       "      <th></th>\n",
       "      <th></th>\n",
       "      <th></th>\n",
       "      <th></th>\n",
       "      <th></th>\n",
       "      <th></th>\n",
       "      <th></th>\n",
       "      <th></th>\n",
       "      <th></th>\n",
       "      <th></th>\n",
       "      <th></th>\n",
       "      <th></th>\n",
       "      <th></th>\n",
       "      <th></th>\n",
       "      <th></th>\n",
       "      <th></th>\n",
       "      <th></th>\n",
       "      <th></th>\n",
       "      <th></th>\n",
       "      <th></th>\n",
       "      <th></th>\n",
       "      <th></th>\n",
       "      <th></th>\n",
       "      <th></th>\n",
       "      <th></th>\n",
       "      <th></th>\n",
       "      <th></th>\n",
       "      <th></th>\n",
       "      <th></th>\n",
       "      <th></th>\n",
       "      <th></th>\n",
       "      <th></th>\n",
       "      <th></th>\n",
       "      <th></th>\n",
       "      <th></th>\n",
       "    </tr>\n",
       "  </thead>\n",
       "  <tbody>\n",
       "    <tr>\n",
       "      <th>6165911</th>\n",
       "      <td>19</td>\n",
       "      <td>0</td>\n",
       "      <td>1245.935970</td>\n",
       "      <td>2003.0</td>\n",
       "      <td>INDEMNITY INSURANCE CO OF</td>\n",
       "      <td>PRIVATE</td>\n",
       "      <td>BRONX</td>\n",
       "      <td>0</td>\n",
       "      <td>NYC</td>\n",
       "      <td>M</td>\n",
       "      <td>0.0</td>\n",
       "      <td>10</td>\n",
       "      <td>IV</td>\n",
       "      <td>31</td>\n",
       "      <td>10</td>\n",
       "      <td>54</td>\n",
       "      <td>10466</td>\n",
       "      <td>1</td>\n",
       "      <td>PRIVATE_NYC</td>\n",
       "      <td>Upper-Middle Income</td>\n",
       "      <td>0</td>\n",
       "      <td>4</td>\n",
       "      <td>2022</td>\n",
       "      <td>5</td>\n",
       "      <td>1</td>\n",
       "      <td>Youth</td>\n",
       "      <td>Between 1 and 2 weeks</td>\n",
       "      <td>Between 1 and 2 weeks</td>\n",
       "      <td>No form received</td>\n",
       "      <td>10466</td>\n",
       "      <td>PRIVATE</td>\n",
       "      <td>INDEMNITY INSURANCE CO OF</td>\n",
       "      <td>Lower Extremities</td>\n",
       "      <td>Specific Injury</td>\n",
       "      <td>Fall, Slip, or Trip</td>\n",
       "      <td>Unknown Risk</td>\n",
       "      <td>622.967985</td>\n",
       "      <td>0</td>\n",
       "    </tr>\n",
       "    <tr>\n",
       "      <th>6166141</th>\n",
       "      <td>19</td>\n",
       "      <td>0</td>\n",
       "      <td>809.300149</td>\n",
       "      <td>2003.0</td>\n",
       "      <td>A I U INSURANCE COMPANY</td>\n",
       "      <td>PRIVATE</td>\n",
       "      <td>QUEENS</td>\n",
       "      <td>0</td>\n",
       "      <td>NYC</td>\n",
       "      <td>F</td>\n",
       "      <td>0.0</td>\n",
       "      <td>9</td>\n",
       "      <td>IV</td>\n",
       "      <td>75</td>\n",
       "      <td>10</td>\n",
       "      <td>10</td>\n",
       "      <td>11691</td>\n",
       "      <td>1</td>\n",
       "      <td>PRIVATE_NYC</td>\n",
       "      <td>Low Income</td>\n",
       "      <td>0</td>\n",
       "      <td>4</td>\n",
       "      <td>2022</td>\n",
       "      <td>6</td>\n",
       "      <td>1</td>\n",
       "      <td>Youth</td>\n",
       "      <td>1 to 3 months</td>\n",
       "      <td>1 to 3 months</td>\n",
       "      <td>No form received</td>\n",
       "      <td>11691</td>\n",
       "      <td>PRIVATE</td>\n",
       "      <td>A I U INSURANCE COMPANY</td>\n",
       "      <td>Head</td>\n",
       "      <td>Specific Injury</td>\n",
       "      <td>Struck or Injured by</td>\n",
       "      <td>Unknown Risk</td>\n",
       "      <td>404.650075</td>\n",
       "      <td>0</td>\n",
       "    </tr>\n",
       "    <tr>\n",
       "      <th>6165907</th>\n",
       "      <td>59</td>\n",
       "      <td>0</td>\n",
       "      <td>938.125909</td>\n",
       "      <td>1963.0</td>\n",
       "      <td>AMGUARD INSURANCE COMPANY</td>\n",
       "      <td>PRIVATE</td>\n",
       "      <td>WESTCHESTER</td>\n",
       "      <td>0</td>\n",
       "      <td>NYC</td>\n",
       "      <td>F</td>\n",
       "      <td>0.0</td>\n",
       "      <td>17</td>\n",
       "      <td>III</td>\n",
       "      <td>68</td>\n",
       "      <td>49</td>\n",
       "      <td>62</td>\n",
       "      <td>10604</td>\n",
       "      <td>0</td>\n",
       "      <td>PRIVATE_NYC</td>\n",
       "      <td>Lower-Middle Income</td>\n",
       "      <td>0</td>\n",
       "      <td>4</td>\n",
       "      <td>2022</td>\n",
       "      <td>0</td>\n",
       "      <td>0</td>\n",
       "      <td>Middle Age</td>\n",
       "      <td>Until 1 week</td>\n",
       "      <td>Until 1 week</td>\n",
       "      <td>No form received</td>\n",
       "      <td>OTHER</td>\n",
       "      <td>PRIVATE</td>\n",
       "      <td>OTHER</td>\n",
       "      <td>Trunk</td>\n",
       "      <td>Specific Injury</td>\n",
       "      <td>Striking Against or Stepping On</td>\n",
       "      <td>Unknown Risk</td>\n",
       "      <td>938.125909</td>\n",
       "      <td>0</td>\n",
       "    </tr>\n",
       "  </tbody>\n",
       "</table>\n",
       "</div>"
      ],
      "text/plain": [
       "                  Age at Injury  Attorney/Representative  Average Weekly Wage  \\\n",
       "Claim Identifier                                                                \n",
       "6165911                      19                        0          1245.935970   \n",
       "6166141                      19                        0           809.300149   \n",
       "6165907                      59                        0           938.125909   \n",
       "\n",
       "                  Birth Year               Carrier Name Carrier Type  \\\n",
       "Claim Identifier                                                       \n",
       "6165911               2003.0  INDEMNITY INSURANCE CO OF      PRIVATE   \n",
       "6166141               2003.0    A I U INSURANCE COMPANY      PRIVATE   \n",
       "6165907               1963.0  AMGUARD INSURANCE COMPANY      PRIVATE   \n",
       "\n",
       "                 County of Injury  COVID-19 Indicator District Name Gender  \\\n",
       "Claim Identifier                                                             \n",
       "6165911                     BRONX                   0           NYC      M   \n",
       "6166141                    QUEENS                   0           NYC      F   \n",
       "6165907               WESTCHESTER                   0           NYC      F   \n",
       "\n",
       "                  IME-4 Count  Industry Code Medical Fee Region  \\\n",
       "Claim Identifier                                                  \n",
       "6165911                   0.0             10                 IV   \n",
       "6166141                   0.0              9                 IV   \n",
       "6165907                   0.0             17                III   \n",
       "\n",
       "                  WCIO Cause of Injury Code  WCIO Nature of Injury Code  \\\n",
       "Claim Identifier                                                          \n",
       "6165911                                  31                          10   \n",
       "6166141                                  75                          10   \n",
       "6165907                                  68                          49   \n",
       "\n",
       "                  WCIO Part Of Body Code  Zip Code  Number of Dependents  \\\n",
       "Claim Identifier                                                           \n",
       "6165911                               54     10466                     1   \n",
       "6166141                               10     11691                     1   \n",
       "6165907                               62     10604                     0   \n",
       "\n",
       "                 Carrier_District_Interaction      Income_Category  \\\n",
       "Claim Identifier                                                     \n",
       "6165911                           PRIVATE_NYC  Upper-Middle Income   \n",
       "6166141                           PRIVATE_NYC           Low Income   \n",
       "6165907                           PRIVATE_NYC  Lower-Middle Income   \n",
       "\n",
       "                  Days_To_First_Hearing  Accident_Quarter  Accident_Year  \\\n",
       "Claim Identifier                                                           \n",
       "6165911                               0                 4           2022   \n",
       "6166141                               0                 4           2022   \n",
       "6165907                               0                 4           2022   \n",
       "\n",
       "                  Accident Day  Accident on Weekend   Age Group  \\\n",
       "Claim Identifier                                                  \n",
       "6165911                      5                    1       Youth   \n",
       "6166141                      6                    1       Youth   \n",
       "6165907                      0                    0  Middle Age   \n",
       "\n",
       "                    promptness_category promptness_C2_category  \\\n",
       "Claim Identifier                                                 \n",
       "6165911           Between 1 and 2 weeks  Between 1 and 2 weeks   \n",
       "6166141                   1 to 3 months          1 to 3 months   \n",
       "6165907                    Until 1 week           Until 1 week   \n",
       "\n",
       "                 promptness_C3_category Zip_Code_Simplified  \\\n",
       "Claim Identifier                                              \n",
       "6165911                No form received               10466   \n",
       "6166141                No form received               11691   \n",
       "6165907                No form received               OTHER   \n",
       "\n",
       "                 Carrier Type Merged    Carrier_Name_Simplified  \\\n",
       "Claim Identifier                                                  \n",
       "6165911                      PRIVATE  INDEMNITY INSURANCE CO OF   \n",
       "6166141                      PRIVATE    A I U INSURANCE COMPANY   \n",
       "6165907                      PRIVATE                      OTHER   \n",
       "\n",
       "                 Body_Part_Category Injury_Nature_Category  \\\n",
       "Claim Identifier                                             \n",
       "6165911           Lower Extremities        Specific Injury   \n",
       "6166141                        Head        Specific Injury   \n",
       "6165907                       Trunk        Specific Injury   \n",
       "\n",
       "                            Injury_Cause_Category Industry Risk  \\\n",
       "Claim Identifier                                                  \n",
       "6165911                       Fall, Slip, or Trip  Unknown Risk   \n",
       "6166141                      Struck or Injured by  Unknown Risk   \n",
       "6165907           Striking Against or Stepping On  Unknown Risk   \n",
       "\n",
       "                  Salary_Per_Dependent  Predictions  \n",
       "Claim Identifier                                     \n",
       "6165911                     622.967985            0  \n",
       "6166141                     404.650075            0  \n",
       "6165907                     938.125909            0  "
      ]
     },
     "execution_count": 77,
     "metadata": {},
     "output_type": "execute_result"
    }
   ],
   "source": [
    "df_test.head(3)"
   ]
  },
  {
   "cell_type": "markdown",
   "metadata": {},
   "source": [
    "We will also upload the y train and y_val."
   ]
  },
  {
   "cell_type": "code",
   "execution_count": 78,
   "metadata": {},
   "outputs": [],
   "source": [
    "# Load the arrays\n",
    "y_train = np.load(\"../processed_datasets/y_train_preprocessed.npy\", allow_pickle=True)\n",
    "y_val =  np.load(\"../processed_datasets/y_train_preprocessed.npy\", allow_pickle=True)"
   ]
  },
  {
   "cell_type": "markdown",
   "metadata": {},
   "source": [
    "Let's remove the column predictions from the df_test saving in a variable y_test"
   ]
  },
  {
   "cell_type": "code",
   "execution_count": 79,
   "metadata": {},
   "outputs": [],
   "source": [
    "y_test = df_test['Predicted_Class']\n",
    "df_test.drop('Predicted_Class', axis=1, inplace=True)"
   ]
  },
  {
   "cell_type": "markdown",
   "metadata": {},
   "source": [
    "# 3. Setting the Target <a class=\"anchor\" id=\"chapter3\"></a>\n",
    "\n",
    "[Back to ToC](#toc)<br>"
   ]
  },
  {
   "cell_type": "markdown",
   "metadata": {},
   "source": [
    "In this notebook, our objective is to distinguish the majority classes from the subset of the dataset where the predicted targets from Notebook 2 were identified as majority classes. Specifically, we will focus on the portion of the dataset with target labels `'2. NON-COMP'` or `'4. TEMPORARY'`. This refined selection allows us to target the classification of majority classes with greater precision."
   ]
  },
  {
   "cell_type": "code",
   "execution_count": 80,
   "metadata": {},
   "outputs": [],
   "source": [
    "#Filtering the majority classes\n",
    "X_train_2_4 = X_train[(y_train == '2. NON-COMP') | (y_train == '4. TEMPORARY')]\n",
    "\n",
    "y_train_2_4 = y_train[(y_train == '2. NON-COMP') | (y_train == '4. TEMPORARY')]"
   ]
  },
  {
   "cell_type": "markdown",
   "metadata": {},
   "source": [
    "Do the same for validation dataset."
   ]
  },
  {
   "cell_type": "code",
   "execution_count": 81,
   "metadata": {},
   "outputs": [],
   "source": [
    "#Filtering the majority classes\n",
    "X_val_2_4 = X_val[(y_val == '2. NON-COMP') | (y_val == '4. TEMPORARY')]\n",
    "\n",
    "y_val_2_4 = y_val[(y_val == '2. NON-COMP') | (y_val == '4. TEMPORARY')]"
   ]
  },
  {
   "cell_type": "markdown",
   "metadata": {},
   "source": [
    "Now, we will encode the target."
   ]
  },
  {
   "cell_type": "code",
   "execution_count": 82,
   "metadata": {},
   "outputs": [],
   "source": [
    "# Create a LabelEncoder instance\n",
    "encoder = LabelEncoder()\n",
    "\n",
    "# Encode y_train_new and y_val_new\n",
    "y_train_encoded = encoder.fit_transform(y_train_2_4)  # Fit and transform on y_train_2_4\n",
    "y_val_encoded = encoder.transform(y_val_2_4)  # Only transform on y_val_2_4"
   ]
  },
  {
   "cell_type": "code",
   "execution_count": 83,
   "metadata": {},
   "outputs": [
    {
     "name": "stdout",
     "output_type": "stream",
     "text": [
      "[0 1 1 ... 1 0 0]\n"
     ]
    },
    {
     "data": {
      "text/plain": [
       "array([1, 1, 0, ..., 0, 0, 0])"
      ]
     },
     "execution_count": 83,
     "metadata": {},
     "output_type": "execute_result"
    }
   ],
   "source": [
    "# Verify that the target is encoded \n",
    "print(f'{y_train_encoded}')\n",
    "y_val_encoded"
   ]
  },
  {
   "cell_type": "markdown",
   "metadata": {},
   "source": [
    "# 4. Feature Selection <a class=\"anchor\" id=\"chapter4\"></a>\n",
    "\n",
    "[Back to ToC](#toc)<br>\n"
   ]
  },
  {
   "cell_type": "markdown",
   "metadata": {},
   "source": [
    "The feature selection process involves summarizing the essential features in the dataset to help the model focus on the most relevant information. Here, we assess the categorical and numerical variables in `X_train_2_4` by examining unique values, descriptive statistics, and verifying the correctness of categorical bins and continuous feature distributions."
   ]
  },
  {
   "cell_type": "code",
   "execution_count": null,
   "metadata": {},
   "outputs": [
    {
     "data": {
      "text/html": [
       "<div>\n",
       "<style scoped>\n",
       "    .dataframe tbody tr th:only-of-type {\n",
       "        vertical-align: middle;\n",
       "    }\n",
       "\n",
       "    .dataframe tbody tr th {\n",
       "        vertical-align: top;\n",
       "    }\n",
       "\n",
       "    .dataframe thead th {\n",
       "        text-align: right;\n",
       "    }\n",
       "</style>\n",
       "<table border=\"1\" class=\"dataframe\">\n",
       "  <thead>\n",
       "    <tr style=\"text-align: right;\">\n",
       "      <th></th>\n",
       "      <th>count</th>\n",
       "      <th>mean</th>\n",
       "      <th>std</th>\n",
       "      <th>min</th>\n",
       "      <th>25%</th>\n",
       "      <th>50%</th>\n",
       "      <th>75%</th>\n",
       "      <th>max</th>\n",
       "    </tr>\n",
       "  </thead>\n",
       "  <tbody>\n",
       "    <tr>\n",
       "      <th>Age at Injury</th>\n",
       "      <td>459219.0</td>\n",
       "      <td>42.884970</td>\n",
       "      <td>12.952508</td>\n",
       "      <td>5.000000</td>\n",
       "      <td>33.0</td>\n",
       "      <td>42.00</td>\n",
       "      <td>53.0</td>\n",
       "      <td>82.0</td>\n",
       "    </tr>\n",
       "    <tr>\n",
       "      <th>IME-4 Count</th>\n",
       "      <td>459219.0</td>\n",
       "      <td>0.742171</td>\n",
       "      <td>1.924972</td>\n",
       "      <td>0.000000</td>\n",
       "      <td>0.0</td>\n",
       "      <td>0.00</td>\n",
       "      <td>0.0</td>\n",
       "      <td>73.0</td>\n",
       "    </tr>\n",
       "    <tr>\n",
       "      <th>Agreement Reached</th>\n",
       "      <td>459219.0</td>\n",
       "      <td>0.046468</td>\n",
       "      <td>0.210497</td>\n",
       "      <td>0.000000</td>\n",
       "      <td>0.0</td>\n",
       "      <td>0.00</td>\n",
       "      <td>0.0</td>\n",
       "      <td>1.0</td>\n",
       "    </tr>\n",
       "    <tr>\n",
       "      <th>Income_Category</th>\n",
       "      <td>459219.0</td>\n",
       "      <td>2.117887</td>\n",
       "      <td>1.205360</td>\n",
       "      <td>0.000000</td>\n",
       "      <td>1.0</td>\n",
       "      <td>2.00</td>\n",
       "      <td>3.0</td>\n",
       "      <td>4.0</td>\n",
       "    </tr>\n",
       "    <tr>\n",
       "      <th>Accident_Quarter</th>\n",
       "      <td>459219.0</td>\n",
       "      <td>2.485058</td>\n",
       "      <td>1.129401</td>\n",
       "      <td>1.000000</td>\n",
       "      <td>1.0</td>\n",
       "      <td>3.00</td>\n",
       "      <td>3.0</td>\n",
       "      <td>4.0</td>\n",
       "    </tr>\n",
       "    <tr>\n",
       "      <th>Accident_Year</th>\n",
       "      <td>459219.0</td>\n",
       "      <td>2020.822706</td>\n",
       "      <td>1.852020</td>\n",
       "      <td>1961.000000</td>\n",
       "      <td>2020.0</td>\n",
       "      <td>2021.00</td>\n",
       "      <td>2022.0</td>\n",
       "      <td>2023.0</td>\n",
       "    </tr>\n",
       "    <tr>\n",
       "      <th>Accident Day</th>\n",
       "      <td>459219.0</td>\n",
       "      <td>2.524671</td>\n",
       "      <td>1.828200</td>\n",
       "      <td>0.000000</td>\n",
       "      <td>1.0</td>\n",
       "      <td>2.00</td>\n",
       "      <td>4.0</td>\n",
       "      <td>6.0</td>\n",
       "    </tr>\n",
       "    <tr>\n",
       "      <th>Age Group</th>\n",
       "      <td>459219.0</td>\n",
       "      <td>1.337506</td>\n",
       "      <td>1.076315</td>\n",
       "      <td>0.000000</td>\n",
       "      <td>0.0</td>\n",
       "      <td>2.00</td>\n",
       "      <td>2.0</td>\n",
       "      <td>3.0</td>\n",
       "    </tr>\n",
       "    <tr>\n",
       "      <th>promptness_category</th>\n",
       "      <td>459219.0</td>\n",
       "      <td>4.370087</td>\n",
       "      <td>2.496478</td>\n",
       "      <td>0.000000</td>\n",
       "      <td>3.0</td>\n",
       "      <td>4.00</td>\n",
       "      <td>7.0</td>\n",
       "      <td>7.0</td>\n",
       "    </tr>\n",
       "    <tr>\n",
       "      <th>promptness_C2_category</th>\n",
       "      <td>459219.0</td>\n",
       "      <td>4.399069</td>\n",
       "      <td>2.505514</td>\n",
       "      <td>0.000000</td>\n",
       "      <td>3.0</td>\n",
       "      <td>4.00</td>\n",
       "      <td>7.0</td>\n",
       "      <td>7.0</td>\n",
       "    </tr>\n",
       "    <tr>\n",
       "      <th>promptness_C3_category</th>\n",
       "      <td>459219.0</td>\n",
       "      <td>4.350613</td>\n",
       "      <td>1.650894</td>\n",
       "      <td>0.000000</td>\n",
       "      <td>4.0</td>\n",
       "      <td>5.00</td>\n",
       "      <td>5.0</td>\n",
       "      <td>7.0</td>\n",
       "    </tr>\n",
       "    <tr>\n",
       "      <th>Industry Risk</th>\n",
       "      <td>459219.0</td>\n",
       "      <td>1.419623</td>\n",
       "      <td>0.826775</td>\n",
       "      <td>0.000000</td>\n",
       "      <td>1.0</td>\n",
       "      <td>2.00</td>\n",
       "      <td>2.0</td>\n",
       "      <td>2.0</td>\n",
       "    </tr>\n",
       "    <tr>\n",
       "      <th>Salary_Per_Dependent</th>\n",
       "      <td>459219.0</td>\n",
       "      <td>436.143125</td>\n",
       "      <td>405.110006</td>\n",
       "      <td>3.285714</td>\n",
       "      <td>187.5</td>\n",
       "      <td>284.25</td>\n",
       "      <td>544.0</td>\n",
       "      <td>10000.0</td>\n",
       "    </tr>\n",
       "    <tr>\n",
       "      <th>Gender_M</th>\n",
       "      <td>459219.0</td>\n",
       "      <td>0.584285</td>\n",
       "      <td>0.492845</td>\n",
       "      <td>0.000000</td>\n",
       "      <td>0.0</td>\n",
       "      <td>1.00</td>\n",
       "      <td>1.0</td>\n",
       "      <td>1.0</td>\n",
       "    </tr>\n",
       "    <tr>\n",
       "      <th>Gender_U</th>\n",
       "      <td>459219.0</td>\n",
       "      <td>0.008218</td>\n",
       "      <td>0.090282</td>\n",
       "      <td>0.000000</td>\n",
       "      <td>0.0</td>\n",
       "      <td>0.00</td>\n",
       "      <td>0.0</td>\n",
       "      <td>1.0</td>\n",
       "    </tr>\n",
       "    <tr>\n",
       "      <th>Medical Fee Region_II</th>\n",
       "      <td>459219.0</td>\n",
       "      <td>0.148060</td>\n",
       "      <td>0.355160</td>\n",
       "      <td>0.000000</td>\n",
       "      <td>0.0</td>\n",
       "      <td>0.00</td>\n",
       "      <td>0.0</td>\n",
       "      <td>1.0</td>\n",
       "    </tr>\n",
       "    <tr>\n",
       "      <th>Medical Fee Region_III</th>\n",
       "      <td>459219.0</td>\n",
       "      <td>0.093746</td>\n",
       "      <td>0.291476</td>\n",
       "      <td>0.000000</td>\n",
       "      <td>0.0</td>\n",
       "      <td>0.00</td>\n",
       "      <td>0.0</td>\n",
       "      <td>1.0</td>\n",
       "    </tr>\n",
       "    <tr>\n",
       "      <th>Medical Fee Region_UK</th>\n",
       "      <td>459219.0</td>\n",
       "      <td>0.058499</td>\n",
       "      <td>0.234685</td>\n",
       "      <td>0.000000</td>\n",
       "      <td>0.0</td>\n",
       "      <td>0.00</td>\n",
       "      <td>0.0</td>\n",
       "      <td>1.0</td>\n",
       "    </tr>\n",
       "    <tr>\n",
       "      <th>Carrier_Name_Simplified_freq</th>\n",
       "      <td>459219.0</td>\n",
       "      <td>39856.144800</td>\n",
       "      <td>41615.826373</td>\n",
       "      <td>505.000000</td>\n",
       "      <td>3295.0</td>\n",
       "      <td>11544.00</td>\n",
       "      <td>88862.0</td>\n",
       "      <td>93013.0</td>\n",
       "    </tr>\n",
       "    <tr>\n",
       "      <th>Zip_Code_Simplified_freq</th>\n",
       "      <td>459219.0</td>\n",
       "      <td>267705.836390</td>\n",
       "      <td>148210.796343</td>\n",
       "      <td>1002.000000</td>\n",
       "      <td>350333.0</td>\n",
       "      <td>350333.00</td>\n",
       "      <td>350333.0</td>\n",
       "      <td>350333.0</td>\n",
       "    </tr>\n",
       "    <tr>\n",
       "      <th>Industry Code_freq</th>\n",
       "      <td>459219.0</td>\n",
       "      <td>46336.203665</td>\n",
       "      <td>34702.730643</td>\n",
       "      <td>296.000000</td>\n",
       "      <td>14481.0</td>\n",
       "      <td>34856.00</td>\n",
       "      <td>73733.0</td>\n",
       "      <td>99366.0</td>\n",
       "    </tr>\n",
       "    <tr>\n",
       "      <th>County of Injury_freq</th>\n",
       "      <td>459219.0</td>\n",
       "      <td>25243.274557</td>\n",
       "      <td>16749.471571</td>\n",
       "      <td>109.000000</td>\n",
       "      <td>9173.0</td>\n",
       "      <td>24019.00</td>\n",
       "      <td>42680.0</td>\n",
       "      <td>48468.0</td>\n",
       "    </tr>\n",
       "    <tr>\n",
       "      <th>District Name_freq</th>\n",
       "      <td>459219.0</td>\n",
       "      <td>126410.317655</td>\n",
       "      <td>86353.765470</td>\n",
       "      <td>3191.000000</td>\n",
       "      <td>36466.0</td>\n",
       "      <td>68763.00</td>\n",
       "      <td>216798.0</td>\n",
       "      <td>216798.0</td>\n",
       "    </tr>\n",
       "    <tr>\n",
       "      <th>WCIO Cause of Injury Code_freq</th>\n",
       "      <td>459219.0</td>\n",
       "      <td>16060.298570</td>\n",
       "      <td>10549.378684</td>\n",
       "      <td>11.000000</td>\n",
       "      <td>8102.0</td>\n",
       "      <td>13345.00</td>\n",
       "      <td>25490.0</td>\n",
       "      <td>37259.0</td>\n",
       "    </tr>\n",
       "    <tr>\n",
       "      <th>WCIO Nature of Injury Code_freq</th>\n",
       "      <td>459219.0</td>\n",
       "      <td>62313.777241</td>\n",
       "      <td>45398.650902</td>\n",
       "      <td>1.000000</td>\n",
       "      <td>18237.0</td>\n",
       "      <td>44601.00</td>\n",
       "      <td>122811.0</td>\n",
       "      <td>122811.0</td>\n",
       "    </tr>\n",
       "    <tr>\n",
       "      <th>WCIO Part Of Body Code_freq</th>\n",
       "      <td>459219.0</td>\n",
       "      <td>20327.620105</td>\n",
       "      <td>13011.723707</td>\n",
       "      <td>40.000000</td>\n",
       "      <td>8977.0</td>\n",
       "      <td>18172.00</td>\n",
       "      <td>30191.0</td>\n",
       "      <td>41385.0</td>\n",
       "    </tr>\n",
       "    <tr>\n",
       "      <th>Carrier Name_freq</th>\n",
       "      <td>459219.0</td>\n",
       "      <td>21056.740586</td>\n",
       "      <td>33536.593158</td>\n",
       "      <td>1.000000</td>\n",
       "      <td>809.0</td>\n",
       "      <td>4478.00</td>\n",
       "      <td>14012.0</td>\n",
       "      <td>88862.0</td>\n",
       "    </tr>\n",
       "    <tr>\n",
       "      <th>Body_Part_Category_freq</th>\n",
       "      <td>459219.0</td>\n",
       "      <td>89288.750764</td>\n",
       "      <td>42925.518744</td>\n",
       "      <td>9593.000000</td>\n",
       "      <td>45491.0</td>\n",
       "      <td>96343.00</td>\n",
       "      <td>142559.0</td>\n",
       "      <td>142559.0</td>\n",
       "    </tr>\n",
       "    <tr>\n",
       "      <th>Injury_Nature_Category_freq</th>\n",
       "      <td>459219.0</td>\n",
       "      <td>357519.156078</td>\n",
       "      <td>126431.433102</td>\n",
       "      <td>10480.000000</td>\n",
       "      <td>404174.0</td>\n",
       "      <td>404174.00</td>\n",
       "      <td>404174.0</td>\n",
       "      <td>404174.0</td>\n",
       "    </tr>\n",
       "    <tr>\n",
       "      <th>Carrier Type Merged_freq</th>\n",
       "      <td>459219.0</td>\n",
       "      <td>155445.700511</td>\n",
       "      <td>74302.201535</td>\n",
       "      <td>833.000000</td>\n",
       "      <td>88862.0</td>\n",
       "      <td>97456.00</td>\n",
       "      <td>228492.0</td>\n",
       "      <td>228492.0</td>\n",
       "    </tr>\n",
       "  </tbody>\n",
       "</table>\n",
       "</div>"
      ],
      "text/plain": [
       "                                    count           mean            std  \\\n",
       "Age at Injury                    459219.0      42.884970      12.952508   \n",
       "IME-4 Count                      459219.0       0.742171       1.924972   \n",
       "Agreement Reached                459219.0       0.046468       0.210497   \n",
       "Income_Category                  459219.0       2.117887       1.205360   \n",
       "Accident_Quarter                 459219.0       2.485058       1.129401   \n",
       "Accident_Year                    459219.0    2020.822706       1.852020   \n",
       "Accident Day                     459219.0       2.524671       1.828200   \n",
       "Age Group                        459219.0       1.337506       1.076315   \n",
       "promptness_category              459219.0       4.370087       2.496478   \n",
       "promptness_C2_category           459219.0       4.399069       2.505514   \n",
       "promptness_C3_category           459219.0       4.350613       1.650894   \n",
       "Industry Risk                    459219.0       1.419623       0.826775   \n",
       "Salary_Per_Dependent             459219.0     436.143125     405.110006   \n",
       "Gender_M                         459219.0       0.584285       0.492845   \n",
       "Gender_U                         459219.0       0.008218       0.090282   \n",
       "Medical Fee Region_II            459219.0       0.148060       0.355160   \n",
       "Medical Fee Region_III           459219.0       0.093746       0.291476   \n",
       "Medical Fee Region_UK            459219.0       0.058499       0.234685   \n",
       "Carrier_Name_Simplified_freq     459219.0   39856.144800   41615.826373   \n",
       "Zip_Code_Simplified_freq         459219.0  267705.836390  148210.796343   \n",
       "Industry Code_freq               459219.0   46336.203665   34702.730643   \n",
       "County of Injury_freq            459219.0   25243.274557   16749.471571   \n",
       "District Name_freq               459219.0  126410.317655   86353.765470   \n",
       "WCIO Cause of Injury Code_freq   459219.0   16060.298570   10549.378684   \n",
       "WCIO Nature of Injury Code_freq  459219.0   62313.777241   45398.650902   \n",
       "WCIO Part Of Body Code_freq      459219.0   20327.620105   13011.723707   \n",
       "Carrier Name_freq                459219.0   21056.740586   33536.593158   \n",
       "Body_Part_Category_freq          459219.0   89288.750764   42925.518744   \n",
       "Injury_Nature_Category_freq      459219.0  357519.156078  126431.433102   \n",
       "Carrier Type Merged_freq         459219.0  155445.700511   74302.201535   \n",
       "\n",
       "                                          min       25%        50%       75%  \\\n",
       "Age at Injury                        5.000000      33.0      42.00      53.0   \n",
       "IME-4 Count                          0.000000       0.0       0.00       0.0   \n",
       "Agreement Reached                    0.000000       0.0       0.00       0.0   \n",
       "Income_Category                      0.000000       1.0       2.00       3.0   \n",
       "Accident_Quarter                     1.000000       1.0       3.00       3.0   \n",
       "Accident_Year                     1961.000000    2020.0    2021.00    2022.0   \n",
       "Accident Day                         0.000000       1.0       2.00       4.0   \n",
       "Age Group                            0.000000       0.0       2.00       2.0   \n",
       "promptness_category                  0.000000       3.0       4.00       7.0   \n",
       "promptness_C2_category               0.000000       3.0       4.00       7.0   \n",
       "promptness_C3_category               0.000000       4.0       5.00       5.0   \n",
       "Industry Risk                        0.000000       1.0       2.00       2.0   \n",
       "Salary_Per_Dependent                 3.285714     187.5     284.25     544.0   \n",
       "Gender_M                             0.000000       0.0       1.00       1.0   \n",
       "Gender_U                             0.000000       0.0       0.00       0.0   \n",
       "Medical Fee Region_II                0.000000       0.0       0.00       0.0   \n",
       "Medical Fee Region_III               0.000000       0.0       0.00       0.0   \n",
       "Medical Fee Region_UK                0.000000       0.0       0.00       0.0   \n",
       "Carrier_Name_Simplified_freq       505.000000    3295.0   11544.00   88862.0   \n",
       "Zip_Code_Simplified_freq          1002.000000  350333.0  350333.00  350333.0   \n",
       "Industry Code_freq                 296.000000   14481.0   34856.00   73733.0   \n",
       "County of Injury_freq              109.000000    9173.0   24019.00   42680.0   \n",
       "District Name_freq                3191.000000   36466.0   68763.00  216798.0   \n",
       "WCIO Cause of Injury Code_freq      11.000000    8102.0   13345.00   25490.0   \n",
       "WCIO Nature of Injury Code_freq      1.000000   18237.0   44601.00  122811.0   \n",
       "WCIO Part Of Body Code_freq         40.000000    8977.0   18172.00   30191.0   \n",
       "Carrier Name_freq                    1.000000     809.0    4478.00   14012.0   \n",
       "Body_Part_Category_freq           9593.000000   45491.0   96343.00  142559.0   \n",
       "Injury_Nature_Category_freq      10480.000000  404174.0  404174.00  404174.0   \n",
       "Carrier Type Merged_freq           833.000000   88862.0   97456.00  228492.0   \n",
       "\n",
       "                                      max  \n",
       "Age at Injury                        82.0  \n",
       "IME-4 Count                          73.0  \n",
       "Agreement Reached                     1.0  \n",
       "Income_Category                       4.0  \n",
       "Accident_Quarter                      4.0  \n",
       "Accident_Year                      2023.0  \n",
       "Accident Day                          6.0  \n",
       "Age Group                             3.0  \n",
       "promptness_category                   7.0  \n",
       "promptness_C2_category                7.0  \n",
       "promptness_C3_category                7.0  \n",
       "Industry Risk                         2.0  \n",
       "Salary_Per_Dependent              10000.0  \n",
       "Gender_M                              1.0  \n",
       "Gender_U                              1.0  \n",
       "Medical Fee Region_II                 1.0  \n",
       "Medical Fee Region_III                1.0  \n",
       "Medical Fee Region_UK                 1.0  \n",
       "Carrier_Name_Simplified_freq      93013.0  \n",
       "Zip_Code_Simplified_freq         350333.0  \n",
       "Industry Code_freq                99366.0  \n",
       "County of Injury_freq             48468.0  \n",
       "District Name_freq               216798.0  \n",
       "WCIO Cause of Injury Code_freq    37259.0  \n",
       "WCIO Nature of Injury Code_freq  122811.0  \n",
       "WCIO Part Of Body Code_freq       41385.0  \n",
       "Carrier Name_freq                 88862.0  \n",
       "Body_Part_Category_freq          142559.0  \n",
       "Injury_Nature_Category_freq      404174.0  \n",
       "Carrier Type Merged_freq         228492.0  "
      ]
     },
     "metadata": {},
     "output_type": "display_data"
    }
   ],
   "source": [
    "# Displaying descriptive statistics for categorical features in the training dataset\n",
    "X_train_2_4.describe().T"
   ]
  },
  {
   "cell_type": "markdown",
   "metadata": {},
   "source": [
    "In this section we will use the created dictionary in Notebook 3."
   ]
  },
  {
   "cell_type": "code",
   "execution_count": null,
   "metadata": {},
   "outputs": [
    {
     "name": "stdout",
     "output_type": "stream",
     "text": [
      "Categorical Features (6):\n",
      "['Income_Category', 'Age Group', 'promptness_category', 'promptness_C2_category', 'promptness_C3_category', 'Industry Risk'] \n",
      "\n",
      "Binary Features (5):\n",
      "['Gender_M', 'Gender_U', 'Medical Fee Region_II', 'Medical Fee Region_III', 'Medical Fee Region_UK'] \n",
      "\n",
      "Numerical Features (18):\n",
      "['Age at Injury', 'IME-4 Count', 'Accident_Quarter', 'Accident_Year', 'Accident Day', 'Salary_Per_Dependent', 'Carrier_Name_Simplified_freq', 'Zip_Code_Simplified_freq', 'Industry Code_freq', 'County of Injury_freq', 'District Name_freq', 'WCIO Cause of Injury Code_freq', 'WCIO Nature of Injury Code_freq', 'WCIO Part Of Body Code_freq', 'Carrier Name_freq', 'Body_Part_Category_freq', 'Injury_Nature_Category_freq', 'Carrier Type Merged_freq'] \n",
      "\n"
     ]
    }
   ],
   "source": [
    "# Print summary\n",
    "for category, features in feature_categories.items():\n",
    "    print(f\"{category.capitalize()} Features ({len(features)}):\")\n",
    "    print(features, \"\\n\")"
   ]
  },
  {
   "cell_type": "markdown",
   "metadata": {},
   "source": [
    "## 4.1. Preparing Data</b> <a class=\"anchor\" id=\"section_4_1\"></a>\n",
    "\n",
    "[Back to 4. Feature Selection](#chapter4)<br>\n",
    "\n",
    "\n",
    "To perform feature selection techniques like Lasso, RFE, and feature importance, the numerical features must first be scaled. Scaling ensures that all features have a consistent range, which is particularly important for methods sensitive to feature magnitude.\n",
    "\n",
    "In this step, we will use the RobustScaler to standardize the numerical features in the dataset. This scaling process will be applied to a temporary dataset containing only the numerical features, allowing us to focus on selecting the most relevant features effectively. The scaled dataset will then be used as input for feature selection techniques."
   ]
  },
  {
   "cell_type": "code",
   "execution_count": null,
   "metadata": {},
   "outputs": [],
   "source": [
    "# Extract numerical features from the dictionary\n",
    "numerical_features = feature_categories[\"numerical\"]\n",
    "\n",
    "# Initialize RobustScaler\n",
    "num_scaler = StandardScaler()\n",
    "\n",
    "# Scale numerical features in X_train\n",
    "X_train_2_4[numerical_features] = num_scaler.fit_transform(X_train_2_4[numerical_features])\n",
    "\n",
    "X_train_num_scaled= X_train[numerical_features]\n",
    "\n",
    "# Scale numerical features in X_val\n",
    "X_val_2_4[numerical_features] = num_scaler.transform(X_val_2_4[numerical_features])\n",
    "\n",
    "X_val_num_scaled= X_val[numerical_features]"
   ]
  },
  {
   "cell_type": "markdown",
   "metadata": {},
   "source": [
    "**Variance Check After Scaling**\n",
    "\n",
    "After scaling, we check the variance of each scaled feature to confirm that the features have been scaled properly. Lower variance after scaling indicates that data is normalized and less affected by magnitude differences."
   ]
  },
  {
   "cell_type": "code",
   "execution_count": null,
   "metadata": {},
   "outputs": [
    {
     "data": {
      "text/plain": [
       "Age at Injury                      1.000002\n",
       "IME-4 Count                        1.000002\n",
       "Accident_Quarter                   1.000002\n",
       "Accident_Year                      1.000002\n",
       "Accident Day                       1.000002\n",
       "Salary_Per_Dependent               1.000002\n",
       "Carrier_Name_Simplified_freq       1.000002\n",
       "Zip_Code_Simplified_freq           1.000002\n",
       "Industry Code_freq                 1.000002\n",
       "County of Injury_freq              1.000002\n",
       "District Name_freq                 1.000002\n",
       "WCIO Cause of Injury Code_freq     1.000002\n",
       "WCIO Nature of Injury Code_freq    1.000002\n",
       "WCIO Part Of Body Code_freq        1.000002\n",
       "Carrier Name_freq                  1.000002\n",
       "Body_Part_Category_freq            1.000002\n",
       "Injury_Nature_Category_freq        1.000002\n",
       "Carrier Type Merged_freq           1.000002\n",
       "dtype: float64"
      ]
     },
     "metadata": {},
     "output_type": "display_data"
    }
   ],
   "source": [
    "# Check variance of scaled data\n",
    "X_train_num_scaled.var()"
   ]
  },
  {
   "cell_type": "markdown",
   "metadata": {},
   "source": [
    "The output shows the variance of each numerical column in the scaled training set. These values help validate that the scaling process has achieved a consistent data distribution across features."
   ]
  },
  {
   "cell_type": "markdown",
   "metadata": {},
   "source": [
    " ## 4.2. Numerical Features</b> <a class=\"anchor\" id=\"section_4_2\"></a>\n",
    " [Back to 4. Feature Selection](#chapter4)<br>\n",
    " "
   ]
  },
  {
   "cell_type": "markdown",
   "metadata": {},
   "source": [
    "### 4.2.1. LASSO Regression <a class=\"anchor\" id=\"sub_section_4_2_1\"></a>\n",
    "\n",
    " [Back to 4.2. Numerical Features](#section_4_2)<br>\n",
    "\n",
    "\n",
    " The LASSO (Least Absolute Shrinkage and Selection Operator) regression is used here for feature selection by fitting a model to the standardized dataset and analyzing the coefficients."
   ]
  },
  {
   "cell_type": "code",
   "execution_count": null,
   "metadata": {},
   "outputs": [
    {
     "data": {
      "text/plain": [
       "Carrier Type Merged_freq          -0.025868\n",
       "Carrier_Name_Simplified_freq      -0.015137\n",
       "Injury_Nature_Category_freq       -0.014406\n",
       "District Name_freq                -0.012156\n",
       "Accident_Quarter                  -0.006593\n",
       "Accident_Year                     -0.006267\n",
       "Zip_Code_Simplified_freq          -0.003569\n",
       "WCIO Cause of Injury Code_freq    -0.002663\n",
       "Accident Day                       0.000938\n",
       "Industry Code_freq                 0.001702\n",
       "Body_Part_Category_freq            0.008791\n",
       "WCIO Part Of Body Code_freq        0.014453\n",
       "WCIO Nature of Injury Code_freq    0.014828\n",
       "Carrier Name_freq                  0.015862\n",
       "Salary_Per_Dependent               0.017812\n",
       "County of Injury_freq              0.019162\n",
       "Age at Injury                      0.020537\n",
       "IME-4 Count                        0.032249\n",
       "dtype: float64"
      ]
     },
     "metadata": {},
     "output_type": "display_data"
    }
   ],
   "source": [
    "# Fit regression\n",
    "reg = LassoCV().fit(X_train_num_scaled, y_train_encoded)\n",
    "#get coefficients\n",
    "coef = pd.Series(reg.coef_, index = X_train_num_scaled.columns)\n",
    "# Sort coefficients to observe importance\n",
    "coef.sort_values()"
   ]
  },
  {
   "cell_type": "markdown",
   "metadata": {},
   "source": [
    "This function generates a horizontal bar plot of the feature importance values derived from the LASSO model, helping to visualize which features are prioritized by the model."
   ]
  },
  {
   "cell_type": "code",
   "execution_count": null,
   "metadata": {},
   "outputs": [
    {
     "data": {
      "image/png": "[encoded data removed]",
      "text/plain": [
       "<Figure size 300x500 with 1 Axes>"
      ]
     },
     "metadata": {},
     "output_type": "display_data"
    }
   ],
   "source": [
    "plot_importance(coef,'Lasso')"
   ]
  },
  {
   "cell_type": "markdown",
   "metadata": {},
   "source": [
    " ### 4.2.2. Recursive Feature Elimination - RFE <a class=\"anchor\" id=\"sub_section_4_2_2\"></a>\n",
    "\n",
    "  [Back to 4.2. Numerical Features](#section_4_2)<br>\n",
    " \n",
    "\n",
    "RFE is employed here to further validate the important features as identified by LASSO. By sequentially removing the least important features, RFE helps to refine the feature set.\n",
    "\n",
    "The selected features after RFE likely overlap with those identified by LASSO, suggesting consistency in feature importance.\n",
    "Using both LASSO and RFE provides a more robust feature selection by cross-validating the importance of individual features.\n",
    "\n",
    "This block of code performs RFE to identify the best subset of features by iterating over a range of feature numbers. The code aims to maximize model performance on the validation set."
   ]
  },
  {
   "cell_type": "code",
   "execution_count": null,
   "metadata": {},
   "outputs": [
    {
     "name": "stdout",
     "output_type": "stream",
     "text": [
      "Optimum number of features: 17\n",
      "F1 Macro Score with 17 features: 0.436202\n"
     ]
    }
   ],
   "source": [
    "# RFE using Logistic Regression\n",
    "model = LogisticRegression()\n",
    "\n",
    "#Use the function defined in utils.py\n",
    "best_features, best_score, scores = find_optimal_features_with_rfe(\n",
    "    model, \n",
    "    X_train_num_scaled, \n",
    "    y_train_encoded, \n",
    "    X_val_num_scaled, \n",
    "    y_val_encoded,\n",
    "    max_features=19\n",
    ")"
   ]
  },
  {
   "cell_type": "markdown",
   "metadata": {},
   "source": [
    "\n",
    "The loop evaluates models with 1 to 18 features, tracking the score for each.\n",
    "\n",
    "The output indicates that 17 features yielded the highest validation f1_score score of 0.436202."
   ]
  },
  {
   "cell_type": "markdown",
   "metadata": {},
   "source": [
    "**Applying RFE with the Optimal Number of Features**\n",
    "\n",
    "Once the optimal number of features is identified, the RFE model is finalized with this configuration."
   ]
  },
  {
   "cell_type": "code",
   "execution_count": null,
   "metadata": {},
   "outputs": [],
   "source": [
    "#rfscv- to select 1st the number of features we should select\n",
    "model = LogisticRegression()\n",
    "rfe = RFE(estimator = model, n_features_to_select = 17)"
   ]
  },
  {
   "cell_type": "code",
   "execution_count": null,
   "metadata": {},
   "outputs": [],
   "source": [
    "X_rfe= rfe.fit_transform(X=X_train_num_scaled, y=y_train_encoded)"
   ]
  },
  {
   "cell_type": "markdown",
   "metadata": {},
   "source": [
    "This shows the results of the feature selection process, listing the features selected by RFE. The code snippet confirms which features were selected as relevant by the RFE model and displays them in a boolean Series, where True indicates the feature was selected and False means it was not."
   ]
  },
  {
   "cell_type": "code",
   "execution_count": null,
   "metadata": {},
   "outputs": [
    {
     "data": {
      "text/plain": [
       "Age at Injury                       True\n",
       "IME-4 Count                         True\n",
       "Accident_Quarter                    True\n",
       "Accident_Year                       True\n",
       "Accident Day                       False\n",
       "Salary_Per_Dependent                True\n",
       "Carrier_Name_Simplified_freq        True\n",
       "Zip_Code_Simplified_freq            True\n",
       "Industry Code_freq                  True\n",
       "County of Injury_freq               True\n",
       "District Name_freq                  True\n",
       "WCIO Cause of Injury Code_freq      True\n",
       "WCIO Nature of Injury Code_freq     True\n",
       "WCIO Part Of Body Code_freq         True\n",
       "Carrier Name_freq                   True\n",
       "Body_Part_Category_freq             True\n",
       "Injury_Nature_Category_freq         True\n",
       "Carrier Type Merged_freq            True\n",
       "dtype: bool"
      ]
     },
     "metadata": {},
     "output_type": "display_data"
    }
   ],
   "source": [
    "selected_features = pd.Series(rfe.support_, index = X_train_num_scaled.columns)\n",
    "selected_features"
   ]
  },
  {
   "cell_type": "markdown",
   "metadata": {},
   "source": [
    "### 4.2.3. Feature Importance - Decision Tree <a class=\"anchor\" id=\"sub_section_4_2_3\"></a>\n",
    " [Back to 4.2. Numerical Features](#section_4_2)<br>\n",
    "\n"
   ]
  },
  {
   "cell_type": "code",
   "execution_count": null,
   "metadata": {},
   "outputs": [],
   "source": [
    "from utils import compare_feature_importances"
   ]
  },
  {
   "cell_type": "code",
   "execution_count": null,
   "metadata": {},
   "outputs": [
    {
     "data": {
      "image/png": "[encoded data removed]",
      "text/plain": [
       "<Figure size 1300x500 with 1 Axes>"
      ]
     },
     "metadata": {},
     "output_type": "display_data"
    },
    {
     "name": "stdout",
     "output_type": "stream",
     "text": [
      "       gini   entropy               col\n",
      "0  0.110028  0.117534     Age at Injury\n",
      "1  0.075258  0.064800       IME-4 Count\n",
      "2  0.040439  0.041146  Accident_Quarter\n",
      "3  0.033763  0.032626     Accident_Year\n",
      "4  0.061329  0.061480      Accident Day\n"
     ]
    }
   ],
   "source": [
    "# Call the function with your training data\n",
    "zippy = compare_feature_importances(X_train_num_scaled, y_train_encoded)\n",
    "\n",
    "# Access the DataFrame for further analysis if needed\n",
    "print(zippy.head())"
   ]
  },
  {
   "cell_type": "markdown",
   "metadata": {},
   "source": [
    "### 4.2.4. Feature Importance - Random Forest <a class=\"anchor\" id=\"sub_section_4_2_4\"></a>\n",
    "\n",
    " [Back to 4.2. Numerical Features](#section_4_2)<br>\n"
   ]
  },
  {
   "cell_type": "code",
   "execution_count": null,
   "metadata": {},
   "outputs": [
    {
     "data": {
      "image/png": "[encoded data removed]",
      "text/plain": [
       "<Figure size 1300x500 with 1 Axes>"
      ]
     },
     "metadata": {},
     "output_type": "display_data"
    },
    {
     "name": "stdout",
     "output_type": "stream",
     "text": [
      "       gini   entropy               col\n",
      "0  0.104548  0.107440     Age at Injury\n",
      "1  0.075728  0.065405       IME-4 Count\n",
      "2  0.042077  0.043309  Accident_Quarter\n",
      "3  0.037564  0.037736     Accident_Year\n",
      "4  0.060837  0.062431      Accident Day\n"
     ]
    }
   ],
   "source": [
    "# Call the function with your training data\n",
    "importances = compare_rf_feature_importances(X_train_num_scaled, y_train_encoded)\n",
    "\n",
    "# Access the DataFrame for further analysis if needed\n",
    "print(importances.head())"
   ]
  },
  {
   "cell_type": "markdown",
   "metadata": {},
   "source": [
    "## 4.3. Categorical Features</b> <a class=\"anchor\" id=\"section_4_3\"></a>\n",
    "[Back to 4. Feature Selection](#chapter4)<br>\n",
    "\n",
    "Chi-squared and MIC for the categorical ones."
   ]
  },
  {
   "cell_type": "code",
   "execution_count": null,
   "metadata": {},
   "outputs": [],
   "source": [
    "X_train_mic_chi2 = X_train[feature_categories['categorical'] + feature_categories['binary']]"
   ]
  },
  {
   "cell_type": "code",
   "execution_count": null,
   "metadata": {},
   "outputs": [
    {
     "data": {
      "text/plain": [
       "(459219, 11)"
      ]
     },
     "metadata": {},
     "output_type": "display_data"
    }
   ],
   "source": [
    "X_train_mic_chi2.shape"
   ]
  },
  {
   "cell_type": "code",
   "execution_count": null,
   "metadata": {},
   "outputs": [
    {
     "data": {
      "text/plain": [
       "Index(['Income_Category', 'Age Group', 'promptness_category',\n",
       "       'promptness_C2_category', 'promptness_C3_category', 'Industry Risk',\n",
       "       'Gender_M', 'Gender_U', 'Medical Fee Region_II',\n",
       "       'Medical Fee Region_III', 'Medical Fee Region_UK'],\n",
       "      dtype='object')"
      ]
     },
     "metadata": {},
     "output_type": "display_data"
    }
   ],
   "source": [
    "X_train_mic_chi2.columns"
   ]
  },
  {
   "cell_type": "markdown",
   "metadata": {},
   "source": [
    " ### 4.3.1. $\\chi ^2$ Test for Independence <a class=\"anchor\" id=\"sub_section_4_3_1\"></a>\n",
    "\n",
    "[Back to 4.3. Categorical Features](#section_4_3)<br>\n",
    "\n",
    "\n",
    "The Chi-squared test helps us identify the most relevant categorical and binary features by evaluating their independence with the target variable. "
   ]
  },
  {
   "cell_type": "code",
   "execution_count": null,
   "metadata": {},
   "outputs": [],
   "source": [
    "from utils import select_high_score_features_chi2_no_model"
   ]
  },
  {
   "cell_type": "code",
   "execution_count": null,
   "metadata": {},
   "outputs": [
    {
     "name": "stdout",
     "output_type": "stream",
     "text": [
      "Top 6 features based on Chi-square scores: ['promptness_C2_category', 'promptness_category', 'promptness_C3_category', 'Age Group', 'Income_Category', 'Gender_M']\n",
      "Corresponding Chi-square scores: [3926.434088704915, 3561.501052874994, 3227.631195728296, 1354.5340717089923, 755.9224280930574, 542.3803735581471]\n"
     ]
    }
   ],
   "source": [
    "# Example usage\n",
    "high_score_features_chi2, scores = select_high_score_features_chi2_no_model(\n",
    "    X_train_mic_chi2, \n",
    "    y_train_encoded, \n",
    "    threshold=6\n",
    ")"
   ]
  },
  {
   "cell_type": "code",
   "execution_count": null,
   "metadata": {},
   "outputs": [
    {
     "data": {
      "text/plain": [
       "['promptness_C2_category',\n",
       " 'promptness_category',\n",
       " 'promptness_C3_category',\n",
       " 'Age Group',\n",
       " 'Income_Category',\n",
       " 'Gender_M']"
      ]
     },
     "metadata": {},
     "output_type": "display_data"
    }
   ],
   "source": [
    "high_score_features_chi2"
   ]
  },
  {
   "cell_type": "markdown",
   "metadata": {},
   "source": [
    " ### 4.3.2. Mutual Information Criterion (MIC) <a class=\"anchor\" id=\"sub_section_4_3_2\"></a>\n",
    "\n",
    " [Back to 4.3. Categorical Features](#section_4_3)<br>\n",
    " \n",
    "\n",
    "The Mutual Information Criterion is used to measure the dependence between each feature and the target variable. By setting a threshold, we retain only the most relevant features."
   ]
  },
  {
   "cell_type": "code",
   "execution_count": null,
   "metadata": {},
   "outputs": [],
   "source": [
    "from utils import select_high_score_features_MIC"
   ]
  },
  {
   "cell_type": "code",
   "execution_count": null,
   "metadata": {},
   "outputs": [
    {
     "name": "stdout",
     "output_type": "stream",
     "text": [
      "Top 6 features based on MIC scores: ['promptness_C3_category', 'Industry Risk', 'Age Group', 'promptness_C2_category', 'Income_Category', 'Gender_M']\n",
      "Corresponding MIC scores: [0.07182690168096895, 0.04322634506633838, 0.03306161693882226, 0.028891721670421644, 0.027583111239713576, 0.025194436216467997]\n"
     ]
    }
   ],
   "source": [
    "# Example usage\n",
    "high_score_features_MIC, scores_MIC = select_high_score_features_MIC(\n",
    "    X_train_mic_chi2, \n",
    "    y_train_mapped, \n",
    "    threshold=6, \n",
    "    random_state=42)"
   ]
  },
  {
   "cell_type": "markdown",
   "metadata": {},
   "source": [
    "**Intersection of Selected Features by Chi-squared and MIC** <br>\n",
    "To identify the most relevant categorical features, we take the intersection of features selected by both Chi-squared and MIC methods."
   ]
  },
  {
   "cell_type": "code",
   "execution_count": null,
   "metadata": {},
   "outputs": [
    {
     "data": {
      "text/plain": [
       "['Age Group',\n",
       " 'promptness_C2_category',\n",
       " 'Income_Category',\n",
       " 'Gender_M',\n",
       " 'promptness_C3_category']"
      ]
     },
     "metadata": {},
     "output_type": "display_data"
    }
   ],
   "source": [
    "# Find common features between Chi-squared and MIC selections\n",
    "common_categorical_features = list(set(high_score_features_chi2).intersection(set(high_score_features_MIC)))\n",
    "features_selected = common_categorical_features  # Final list of selected features\n",
    "features_selected  # Display the list of intersected features"
   ]
  },
  {
   "cell_type": "markdown",
   "metadata": {},
   "source": [
    "## 4.4. Final Features</b> <a class=\"anchor\" id=\"section_4_4\"></a>\n",
    "[Back to 4. Feature Selection](#chapter4)<br>\n",
    "\n",
    "The following table evaluates all numerical features using multiple feature selection techniques: Spearman Correlation, LASSO Regression, RFE, Decision Tree, and Random Forest. Based on these combined insights, a final decision is provided in the \"What to do?\" column."
   ]
  },
  {
   "cell_type": "markdown",
   "metadata": {},
   "source": [
    "\n",
    "| **Predictor**                 | **Spearman**                       | **LASSO**         | **RFE**            | **Decision Tree Importance**   | **Random Forest Importance**  | **What to do?**               |\n",
    "|-------------------------------|------------------------------------|-------------------|--------------------|--------------------------------|--------------------------------|--------------------------------|\n",
    "| Carrier Type Merged_freq      | Low                                | Keep              | Keep               | Low                            | Low                            | Discard                       |\n",
    "| Carrier_Name_Simplified_freq  | Low                                | Keep              | Keep               | Low                            | Low                            | Discard                       |\n",
    "| Injury_Nature_Category_freq   | Low                                | Discard           | Keep               | Low                            | Low                            | Discard                       |\n",
    "| District Name_freq            | Low                                | Discard           | Keep               | Low                            | Low                            | Discard                       |\n",
    "| Accident_Quarter              | Low                                | Discard           | Keep               | Low                            | Low                            | Discard                       |\n",
    "| Accident_Year                 | Low                                | Discard           | Keep               | Low                            | Low                            | Discard                       |\n",
    "| Zip_Code_Simplified_freq      | Low                                | Discard           | Keep               | Low                            | Low                            | Discard                       |\n",
    "| WCIO Cause of Injury Code_freq| Low                                | Discard           | Keep               | Keep                           | Keep                           | Include                       |\n",
    "| Accident Day                  | Low                                | Discard           | Discard            | Keep                           | Low                            | Discard                       |\n",
    "| Industry Code_freq            | Low                                | Discard           | Keep               | Keep                           | Low                            | Include                       |\n",
    "| Body_Part_Category_freq       | Low                                | Discard           | Keep               | Low                            | Low                            | Discard                       |\n",
    "| WCIO Part Of Body Code_freq   | Low                                | Discard           | Keep               | Low                            | Low                            | Discard                       |\n",
    "| WCIO Nature of Injury Code_freq| Low                               | Discard           | Keep               | Low                            | Low                            | Discard                       |\n",
    "| Carrier Name_freq             | Moderate                          | Keep              | Keep               | Keep                           | Keep                           | Include                       |\n",
    "| Salary_Per_Dependent          | Moderate                          | Keep              | Keep               | Keep                           | Keep                           | Include                       |\n",
    "| County of Injury_freq         | Moderate                          | Keep              | Keep               | Keep                           | Keep                           | Include                       |\n",
    "| Age at Injury                 | Moderate                          | Keep              | Keep               | Keep                           | Keep                           | Include                       |\n",
    "| IME-4 Count                   | Moderate                          | Keep              | Keep               | Keep                           | Keep                           | Include                       |"
   ]
  },
  {
   "cell_type": "markdown",
   "metadata": {},
   "source": [
    "### **Categorical Feature Selection Results**\n",
    "\n",
    "The following table summarizes the decisions for each categorical feature based on **Mutual Information (MIC)** and **Chi-Squared** (X²) results. The retained features will be used in subsequent modeling to enhance predictive performance.\n",
    "\n",
    "| **Feature**              | **X² Results**          | **MIC Results**         | **Decision**               |\n",
    "|---------------------------|-------------------------|-------------------------|----------------------------|\n",
    "| promptness_C2_category | Keep                  | Keep                  | Include               |\n",
    "| promptness_category    | Keep                 | -                       | Consider include in model                |\n",
    "| promptness_C3_category | Keep                       | Keep                  | Include                |\n",
    "| Age Group              | Keep                  | Keep                  | Include                |\n",
    "| Income_Category        | Keep                  | Keep                  | Include                |\n",
    "| Industry Risk         |                        | Keep                  | Consider include in model                |\n",
    "| Gender_M               | Keep                  | Keep                  | Include                |\n",
    "| Gender_U               | -                       | -                       | Exclude          |\n",
    "| Medical Fee Region_II  | -                       | -                       | Exclude               |\n",
    "| Medical Fee Region_III | -                       | -                       | Exclude               |\n",
    "| Medical Fee Region_UK  | -                       | -                       | Exclude                |\n"
   ]
  },
  {
   "cell_type": "code",
   "execution_count": null,
   "metadata": {},
   "outputs": [
    {
     "data": {
      "text/plain": [
       "['Age at Injury',\n",
       " 'IME-4 Count',\n",
       " 'Accident_Quarter',\n",
       " 'Accident_Year',\n",
       " 'Accident Day',\n",
       " 'Salary_Per_Dependent',\n",
       " 'Carrier_Name_Simplified_freq',\n",
       " 'Zip_Code_Simplified_freq',\n",
       " 'Industry Code_freq',\n",
       " 'County of Injury_freq',\n",
       " 'District Name_freq',\n",
       " 'WCIO Cause of Injury Code_freq',\n",
       " 'WCIO Nature of Injury Code_freq',\n",
       " 'WCIO Part Of Body Code_freq',\n",
       " 'Carrier Name_freq',\n",
       " 'Body_Part_Category_freq',\n",
       " 'Injury_Nature_Category_freq',\n",
       " 'Carrier Type Merged_freq']"
      ]
     },
     "metadata": {},
     "output_type": "display_data"
    }
   ],
   "source": [
    "numerical_features"
   ]
  },
  {
   "cell_type": "code",
   "execution_count": null,
   "metadata": {},
   "outputs": [
    {
     "name": "stdout",
     "output_type": "stream",
     "text": [
      "X_train_final shape: (459219, 13)\n",
      "X_val_final shape: (114805, 13)\n",
      "X_test_final shape: (387975, 13)\n"
     ]
    }
   ],
   "source": [
    "final_features = [\n",
    "    # Categorical features selected through MIC and chi2\n",
    "    'Age Group','promptness_C2_category',\n",
    "    'Income_Category','Gender_M', 'promptness_C3_category',\n",
    "    # Important numerical features\n",
    "    'Age at Injury', 'IME-4 Count','Salary_Per_Dependent','Industry Code_freq',\n",
    "    'County of Injury_freq','WCIO Part Of Body Code_freq','WCIO Cause of Injury Code_freq',\n",
    "    'Carrier Name_freq']\n",
    "\n",
    "\n",
    "# Extracting the final features from the processed datasets\n",
    "X_train_final = X_train[final_features]\n",
    "X_val_final = X_val[final_features]\n",
    "X_test_final = df_test[final_features]\n",
    "\n",
    "# Print the shape of the final datasets to confirm consistency\n",
    "print(f\"X_train_final shape: {X_train_final.shape}\")\n",
    "print(f\"X_val_final shape: {X_val_final.shape}\")\n",
    "print(f\"X_test_final shape: {X_test_final.shape}\")"
   ]
  },
  {
   "cell_type": "code",
   "execution_count": null,
   "metadata": {},
   "outputs": [
    {
     "data": {
      "text/plain": [
       "459219"
      ]
     },
     "metadata": {},
     "output_type": "display_data"
    }
   ],
   "source": [
    "len(y_train_encoded)"
   ]
  },
  {
   "cell_type": "code",
   "execution_count": null,
   "metadata": {},
   "outputs": [
    {
     "data": {
      "text/plain": [
       "114805"
      ]
     },
     "metadata": {},
     "output_type": "display_data"
    }
   ],
   "source": [
    "len(y_val_encoded)"
   ]
  },
  {
   "cell_type": "markdown",
   "metadata": {},
   "source": [
    "# 5. Modelling <a class=\"anchor\" id=\"chapter5\"></a>\n",
    "\n",
    "[Back to ToC](#toc)<br>"
   ]
  },
  {
   "cell_type": "markdown",
   "metadata": {},
   "source": [
    "For this binary classification task, we’ll use logistic regression as a simple and interpretable baseline. To capture non-linear patterns, we’ll include decision trees and random forests, which are robust and versatile. Additionally, we’ll apply gradient boosting methods like XGBoost or LightGBM for their strong performance on complex datasets. This mix of models balances simplicity and power for effective classification."
   ]
  },
  {
   "cell_type": "markdown",
   "metadata": {},
   "source": [
    "## 5.1. Logistic Regression </b> <a class=\"anchor\" id=\"section_5_1\"></a>\n",
    "\n",
    "[Back to 5. Modelling ](#chapter5)<br>\n",
    "\n",
    "Logistic Regression is a simple and interpretable model that is effective for binary classification when the relationship between features and the target is linear.\n"
   ]
  },
  {
   "cell_type": "code",
   "execution_count": 242,
   "metadata": {},
   "outputs": [
    {
     "name": "stdout",
     "output_type": "stream",
     "text": [
      "___________________________________________________________________________________________________________\n",
      "                                                     TRAIN                                                 \n",
      "-----------------------------------------------------------------------------------------------------------\n",
      "              precision    recall  f1-score   support\n",
      "\n",
      " 2. NON-COMP       0.66      0.98      0.79    202442\n",
      "4. TEMPORARY       0.46      0.04      0.07    103933\n",
      "\n",
      "    accuracy                           0.66    306375\n",
      "   macro avg       0.56      0.51      0.43    306375\n",
      "weighted avg       0.59      0.66      0.55    306375\n",
      "\n",
      "___________________________________________________________________________________________________________\n",
      "                                                VALIDATION                                                 \n",
      "-----------------------------------------------------------------------------------------------------------\n",
      "              precision    recall  f1-score   support\n",
      "\n",
      " 2. NON-COMP       0.67      0.98      0.79     87324\n",
      "4. TEMPORARY       0.45      0.04      0.07     44552\n",
      "\n",
      "    accuracy                           0.66    131876\n",
      "   macro avg       0.56      0.51      0.43    131876\n",
      "weighted avg       0.59      0.66      0.55    131876\n",
      "\n"
     ]
    },
    {
     "data": {
      "image/png": "[encoded data removed]",
      "text/plain": [
       "<Figure size 1000x400 with 2 Axes>"
      ]
     },
     "metadata": {},
     "output_type": "display_data"
    },
    {
     "name": "stdout",
     "output_type": "stream",
     "text": [
      "Time taken to run the cell: 39.03 seconds\n"
     ]
    }
   ],
   "source": [
    "from sklearn.linear_model import LogisticRegression\n",
    "from sklearn.metrics import classification_report\n",
    "import time\n",
    "\n",
    "# Record the start time\n",
    "start_time = time.time()\n",
    "\n",
    "# Initialize the model\n",
    "lr_model = LogisticRegression(random_state=42, max_iter=1000)\n",
    "\n",
    "# Fit the model to the train data\n",
    "lr_model.fit(X_train_final, y_train_2_4)\n",
    "\n",
    "# Predict the model for the train data\n",
    "y_pred_lr_train = lr_model.predict(X_train_final)\n",
    "\n",
    "# Predict the model for the validation data\n",
    "y_pred_lr = lr_model.predict(X_val_final)\n",
    "\n",
    "#Print the classification report\n",
    "metrics(y_train_2_4, y_pred_lr_train, y_val_2_4, y_pred_lr)\n",
    "\n",
    "# Record the end time and calculate duration\n",
    "end_time = time.time()\n",
    "print(f\"Time taken to run the cell: {end_time - start_time:.2f} seconds\")"
   ]
  },
  {
   "cell_type": "markdown",
   "metadata": {},
   "source": [
    "## 5.2. Random Forest Trees</b> <a class=\"anchor\" id=\"section_5_2\"></a>\n",
    "[Back to 5. Modelling ](#chapter5)<br>\n",
    "\n"
   ]
  },
  {
   "cell_type": "code",
   "execution_count": 243,
   "metadata": {},
   "outputs": [
    {
     "name": "stdout",
     "output_type": "stream",
     "text": [
      "___________________________________________________________________________________________________________\n",
      "                                                     TRAIN                                                 \n",
      "-----------------------------------------------------------------------------------------------------------\n",
      "              precision    recall  f1-score   support\n",
      "\n",
      " 2. NON-COMP       1.00      1.00      1.00    202442\n",
      "4. TEMPORARY       1.00      1.00      1.00    103933\n",
      "\n",
      "    accuracy                           1.00    306375\n",
      "   macro avg       1.00      1.00      1.00    306375\n",
      "weighted avg       1.00      1.00      1.00    306375\n",
      "\n",
      "___________________________________________________________________________________________________________\n",
      "                                                VALIDATION                                                 \n",
      "-----------------------------------------------------------------------------------------------------------\n",
      "              precision    recall  f1-score   support\n",
      "\n",
      " 2. NON-COMP       0.95      0.98      0.97     87324\n",
      "4. TEMPORARY       0.95      0.91      0.93     44552\n",
      "\n",
      "    accuracy                           0.95    131876\n",
      "   macro avg       0.95      0.94      0.95    131876\n",
      "weighted avg       0.95      0.95      0.95    131876\n",
      "\n"
     ]
    },
    {
     "data": {
      "image/png": "[encoded data removed]",
      "text/plain": [
       "<Figure size 1000x400 with 2 Axes>"
      ]
     },
     "metadata": {},
     "output_type": "display_data"
    },
    {
     "name": "stdout",
     "output_type": "stream",
     "text": [
      "Time taken to run the cell: 140.98 seconds\n"
     ]
    }
   ],
   "source": [
    "# Record the start time\n",
    "start_time = time.time()\n",
    "\n",
    "#Initialize the model\n",
    "rf_model = RandomForestClassifier(random_state=42)\n",
    "\n",
    "#Fit the model to the train data\n",
    "rf_model.fit(X_train_final, y_train_2_4)\n",
    "\n",
    "#Predict the model for the train data\n",
    "y_pred_rf_train = rf_model.predict(X_train_final)\n",
    "\n",
    "#Predict the model for the validation data\n",
    "y_pred_rf = rf_model.predict(X_val_final)\n",
    "\n",
    "#Print the classification report\n",
    "metrics(y_train_2_4, y_pred_rf_train, y_val_2_4, y_pred_rf)\n",
    "\n",
    "# Record the end time and calculate duration\n",
    "end_time = time.time()\n",
    "print(f\"Time taken to run the cell: {end_time - start_time:.2f} seconds\")"
   ]
  },
  {
   "cell_type": "markdown",
   "metadata": {},
   "source": [
    "## 5.3. Decision Trees</b> <a class=\"anchor\" id=\"section_5_3\"></a>\n",
    "[Back to 5. Modelling ](#chapter5)<br>\n",
    "\n",
    "\n",
    "Decision Trees are versatile models that can capture non-linear patterns by splitting data based on feature values."
   ]
  },
  {
   "cell_type": "code",
   "execution_count": 244,
   "metadata": {},
   "outputs": [
    {
     "name": "stdout",
     "output_type": "stream",
     "text": [
      "___________________________________________________________________________________________________________\n",
      "                                                     TRAIN                                                 \n",
      "-----------------------------------------------------------------------------------------------------------\n",
      "              precision    recall  f1-score   support\n",
      "\n",
      " 2. NON-COMP       1.00      1.00      1.00    202442\n",
      "4. TEMPORARY       1.00      1.00      1.00    103933\n",
      "\n",
      "    accuracy                           1.00    306375\n",
      "   macro avg       1.00      1.00      1.00    306375\n",
      "weighted avg       1.00      1.00      1.00    306375\n",
      "\n",
      "___________________________________________________________________________________________________________\n",
      "                                                VALIDATION                                                 \n",
      "-----------------------------------------------------------------------------------------------------------\n",
      "              precision    recall  f1-score   support\n",
      "\n",
      " 2. NON-COMP       0.96      0.96      0.96     87324\n",
      "4. TEMPORARY       0.91      0.93      0.92     44552\n",
      "\n",
      "    accuracy                           0.95    131876\n",
      "   macro avg       0.94      0.94      0.94    131876\n",
      "weighted avg       0.95      0.95      0.95    131876\n",
      "\n"
     ]
    },
    {
     "data": {
      "image/png": "[encoded data removed]",
      "text/plain": [
       "<Figure size 1000x400 with 2 Axes>"
      ]
     },
     "metadata": {},
     "output_type": "display_data"
    },
    {
     "name": "stdout",
     "output_type": "stream",
     "text": [
      "Time taken to run the cell: 31.81 seconds\n"
     ]
    }
   ],
   "source": [
    "\n",
    "from sklearn.tree import DecisionTreeClassifier\n",
    "# Record the start time\n",
    "start_time = time.time()\n",
    "\n",
    "# Initialize the model\n",
    "dt_model = DecisionTreeClassifier(random_state=42)\n",
    "\n",
    "# Fit the model to the train data\n",
    "dt_model.fit(X_train_final, y_train_2_4)\n",
    "\n",
    "# Predict the model for the train data\n",
    "y_pred_dt_train = dt_model.predict(X_train_final)\n",
    "\n",
    "# Predict the model for the validation data\n",
    "y_pred_dt = dt_model.predict(X_val_final)\n",
    "\n",
    "#Print the metric report\n",
    "metrics(y_train_2_4, y_pred_dt_train, y_val_2_4, y_pred_dt)\n",
    "\n",
    "# Record the end time and calculate duration\n",
    "end_time = time.time()\n",
    "print(f\"Time taken to run the cell: {end_time - start_time:.2f} seconds\")\n"
   ]
  },
  {
   "cell_type": "markdown",
   "metadata": {},
   "source": [
    "## 5.4. Gradient Boosting </b> <a class=\"anchor\" id=\"section_5_4\"></a>\n",
    "[Back to 5. Modelling ](#chapter5)<br>\n",
    "\n",
    "\n",
    "Gradient Boosting models (e.g., XGBoost, LightGBM) are powerful ensemble methods that iteratively improve performance by minimizing errors. <br>\n",
    "\n",
    "**XGBClassifier**"
   ]
  },
  {
   "cell_type": "code",
   "execution_count": 245,
   "metadata": {},
   "outputs": [
    {
     "name": "stdout",
     "output_type": "stream",
     "text": [
      "___________________________________________________________________________________________________________\n",
      "                                                     TRAIN                                                 \n",
      "-----------------------------------------------------------------------------------------------------------\n",
      "              precision    recall  f1-score   support\n",
      "\n",
      "           0       0.97      0.99      0.98    202442\n",
      "           1       0.98      0.94      0.96    103933\n",
      "\n",
      "    accuracy                           0.97    306375\n",
      "   macro avg       0.98      0.97      0.97    306375\n",
      "weighted avg       0.97      0.97      0.97    306375\n",
      "\n",
      "___________________________________________________________________________________________________________\n",
      "                                                VALIDATION                                                 \n",
      "-----------------------------------------------------------------------------------------------------------\n",
      "              precision    recall  f1-score   support\n",
      "\n",
      "           0       0.97      0.99      0.98     87324\n",
      "           1       0.98      0.94      0.96     44552\n",
      "\n",
      "    accuracy                           0.97    131876\n",
      "   macro avg       0.97      0.96      0.97    131876\n",
      "weighted avg       0.97      0.97      0.97    131876\n",
      "\n"
     ]
    },
    {
     "data": {
      "image/png": "[encoded data removed]",
      "text/plain": [
       "<Figure size 1000x400 with 2 Axes>"
      ]
     },
     "metadata": {},
     "output_type": "display_data"
    },
    {
     "name": "stdout",
     "output_type": "stream",
     "text": [
      "Time taken to run the cell: 3.39 seconds\n"
     ]
    }
   ],
   "source": [
    "from sklearn.preprocessing import LabelEncoder\n",
    "from xgboost import XGBClassifier\n",
    "\n",
    "# Record the start time\n",
    "start_time = time.time()\n",
    "\n",
    "# Encode the target variable\n",
    "label_encoder = LabelEncoder()\n",
    "y_train_2_4_encoded = label_encoder.fit_transform(y_train_2_4)\n",
    "y_val_2_4_encoded = label_encoder.transform(y_val_2_4)\n",
    "\n",
    "# Initialize the model\n",
    "gb_model = XGBClassifier(random_state=42, use_label_encoder=False, eval_metric='logloss')\n",
    "\n",
    "# Fit the model to the train data\n",
    "gb_model.fit(X_train_final, y_train_2_4_encoded)\n",
    "\n",
    "# Predict the model for the train data\n",
    "y_pred_gb_train = gb_model.predict(X_train_final)\n",
    "\n",
    "# Predict the model for the validation data\n",
    "y_pred_gb = gb_model.predict(X_val_final)\n",
    "\n",
    "# Print the classification report\n",
    "metrics(y_train_2_4_encoded, y_pred_gb_train, y_val_2_4_encoded, y_pred_gb)\n",
    "\n",
    "# Record the end time and calculate duration\n",
    "end_time = time.time()\n",
    "print(f\"Time taken to run the cell: {end_time - start_time:.2f} seconds\")\n"
   ]
  },
  {
   "cell_type": "markdown",
   "metadata": {},
   "source": [
    "**CatBoost (CatBoostClassifier)** <br>\n",
    "CatBoost is a gradient boosting framework designed to natively support categorical features. It is efficient, easy to implement, and often performs well on tabular data."
   ]
  },
  {
   "cell_type": "code",
   "execution_count": 246,
   "metadata": {},
   "outputs": [
    {
     "name": "stdout",
     "output_type": "stream",
     "text": [
      "___________________________________________________________________________________________________________\n",
      "                                                     TRAIN                                                 \n",
      "-----------------------------------------------------------------------------------------------------------\n",
      "              precision    recall  f1-score   support\n",
      "\n",
      "           0       0.97      0.99      0.98    202442\n",
      "           1       0.98      0.95      0.97    103933\n",
      "\n",
      "    accuracy                           0.98    306375\n",
      "   macro avg       0.98      0.97      0.97    306375\n",
      "weighted avg       0.98      0.98      0.98    306375\n",
      "\n",
      "___________________________________________________________________________________________________________\n",
      "                                                VALIDATION                                                 \n",
      "-----------------------------------------------------------------------------------------------------------\n",
      "              precision    recall  f1-score   support\n",
      "\n",
      "           0       0.97      0.99      0.98     87324\n",
      "           1       0.97      0.94      0.96     44552\n",
      "\n",
      "    accuracy                           0.97    131876\n",
      "   macro avg       0.97      0.96      0.97    131876\n",
      "weighted avg       0.97      0.97      0.97    131876\n",
      "\n"
     ]
    },
    {
     "data": {
      "image/png": "[encoded data removed]",
      "text/plain": [
       "<Figure size 1000x400 with 2 Axes>"
      ]
     },
     "metadata": {},
     "output_type": "display_data"
    },
    {
     "name": "stdout",
     "output_type": "stream",
     "text": [
      "Time taken to run the cell: 39.59 seconds\n"
     ]
    }
   ],
   "source": [
    "from catboost import CatBoostClassifier\n",
    "# Record the start time\n",
    "start_time = time.time()\n",
    "\n",
    "# Initialize the CatBoost model\n",
    "catboost_model = CatBoostClassifier(random_state=42, verbose=0)  # Set verbose=0 to suppress training logs\n",
    "\n",
    "# Fit the model to the training data\n",
    "catboost_model.fit(X_train_final, y_train_2_4_encoded)\n",
    "\n",
    "# Predict the model for the training data\n",
    "y_pred_catboost_train = catboost_model.predict(X_train_final)\n",
    "\n",
    "# Predict the model for the validation data\n",
    "y_pred_catboost = catboost_model.predict(X_val_final)\n",
    "\n",
    "# Print the classification report\n",
    "metrics(y_train_2_4_encoded, y_pred_catboost_train, y_val_2_4_encoded, y_pred_catboost)\n",
    "\n",
    "# Record the end time and calculate duration\n",
    "end_time = time.time()\n",
    "print(f\"Time taken to run the cell: {end_time - start_time:.2f} seconds\")"
   ]
  },
  {
   "cell_type": "markdown",
   "metadata": {},
   "source": [
    "## 5.5. Summary of Models </b> <a class=\"anchor\" id=\"section_5_5\"></a>\n",
    "\n",
    "[Back to 5. Modelling ](#chapter5)<br>\n",
    "\n",
    "\n",
    "\n",
    "We focused on a select set of models for binary classification as the initial results provided promising performance metrics. Below is the performance table, including F1 scores for training and validation datasets, along with the time taken for each model to run.\n",
    "\n",
    "| **Model**             | **F1 Score (Train)** | **F1 Score (Validation)** | **Time (seconds)** |\n",
    "|------------------------|----------------------|----------------------------|---------------------|\n",
    "| Logistic Regression    | 0.43                | 0.43                       | 35.77              |\n",
    "| Random Forest          | 1.00                | 0.95                       | 144.97             |\n",
    "| Decision Trees         | 1.00                | 0.94                       | 39.73              |\n",
    "| XGBoost                | 0.97                | 0.97                       | 4.32               |\n",
    "| CatBoost               | 0.97                | 0.97                       | 42.10              |\n",
    "\n",
    "- **Logistic Regression**: Despite being simple and efficient, it showed lower F1 scores compared to other models.\n",
    "- **Random Forest & Decision Trees**: Both achieved near-perfect training performance but showed slight overfitting on validation data.\n",
    "- **XGBoost and CatBoost**: Achieved balanced F1 scores for both training and validation, with XGBoost being notably faster.\n",
    "\n",
    "The ensemble methods, particularly XGBoost, exhibited strong performance with high F1 scores for both training and validation datasets, combined with efficient computation time. Due to its robustness and computational efficiency, we selected XGBoost as the primary model to apply to X_test_final.\n",
    "\n",
    "For this evaluation, we will focus on the majority class (y_test == 1) while retaining the original output labels (using inverse label encoding). Additionally, we will count instances of NaN values for the minority classes (y_test == 2 and y_test == 4) to provide a comprehensive view of the test dataset distribution."
   ]
  },
  {
   "cell_type": "markdown",
   "metadata": {},
   "source": [
    "# 6. Loading the Results <a class=\"anchor\" id=\"chapter6\"></a>\n",
    "[Back to ToC](#toc)<br>"
   ]
  },
  {
   "cell_type": "code",
   "execution_count": 247,
   "metadata": {},
   "outputs": [
    {
     "name": "stdout",
     "output_type": "stream",
     "text": [
      "Predicted Class Counts (Original Labels) for y_test == 1:\n",
      "4. TEMPORARY    212961\n",
      "2. NON-COMP         44\n",
      "dtype: int64\n"
     ]
    }
   ],
   "source": [
    "# Filter the test data where y_test == 1\n",
    "X_test_filtered = X_test_final.loc[y_test[y_test == 1].index]\n",
    "\n",
    "# Remove non-numeric columns (like 'Final_Predictions') before prediction\n",
    "X_test_filtered_numeric = X_test_filtered.select_dtypes(include=['int', 'float', 'bool', 'category'])\n",
    "\n",
    "# Apply the model to predict on the filtered numeric test data\n",
    "y_pred_test_filtered = gb_model.predict(X_test_filtered_numeric)\n",
    "\n",
    "# Inverse transform the predictions to the original labels\n",
    "label_encoder = LabelEncoder()\n",
    "label_encoder.fit(y_train_2_4)  # Use the encoder already fitted on training data\n",
    "y_pred_test_original_filtered = label_encoder.inverse_transform(y_pred_test_filtered)\n",
    "\n",
    "# Add the predictions back to the original test dataset\n",
    "X_test_final.loc[y_test[y_test == 1].index, 'Pred_notebook_5'] = y_pred_test_original_filtered\n",
    "\n",
    "# Count the occurrences of each class in the filtered test predictions\n",
    "class_counts_filtered = pd.Series(y_pred_test_original_filtered).value_counts()\n",
    "\n",
    "# Display results\n",
    "print(\"Predicted Class Counts (Original Labels) for y_test == 1:\")\n",
    "print(class_counts_filtered)\n"
   ]
  },
  {
   "cell_type": "code",
   "execution_count": 253,
   "metadata": {},
   "outputs": [],
   "source": [
    "# Ensure the index alignment before assigning\n",
    "df_test['Pred_notebook_5'] = X_test_final.loc[df_test.index, 'Pred_notebook_5']\n",
    "\n",
    "# Save the updated DataFrame to a file\n",
    "df_test.to_csv('../Data_Temporary/df_test_predictions_not5.csv', index=True)"
   ]
  }
 ],
 "metadata": {
  "kernelspec": {
   "display_name": "Python 3",
   "language": "python",
   "name": "python3"
  },
  "language_info": {
   "codemirror_mode": {
    "name": "ipython",
    "version": 3
   },
   "file_extension": ".py",
   "mimetype": "text/x-python",
   "name": "python",
   "nbconvert_exporter": "python",
   "pygments_lexer": "ipython3",
   "version": "3.11.3"
  }
 },
 "nbformat": 4,
 "nbformat_minor": 2
}
