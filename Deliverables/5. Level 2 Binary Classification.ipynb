{
 "cells": [
  {
   "cell_type": "markdown",
   "metadata": {},
   "source": [
    "# **<h3 align=\"center\">Machine Learning - Project</h3>**\n",
    "## **<h3 align=\"center\">5. Level 2 Binary Classification</h3>**\n",
    "### **<h3 align=\"center\">Group 30 - Project</h3>**\n",
    "\n",
    "\n",
    "### Group Members\n",
    "| Name              | Email                        | Student ID |\n",
    "|-------------------|------------------------------|------------|\n",
    "| Alexandra Pinto   | 20211599@novaims.unl.pt      | 20211599   |\n",
    "| Gonçalo Peres     | 20211625@novaims.unl.pt      | 20211625   |\n",
    "| Leonor Mira       | 20240658@novaims.unl.pt      | 20240658   |\n",
    "| Miguel Natário    | 20240498@novaims.unl.pt      | 20240498   |\n",
    "| Nuno Bernardino   | 20211546@novaims.unl.pt      | 20211546    |"
   ]
  },
  {
   "cell_type": "markdown",
   "metadata": {},
   "source": [
    "---\n",
    "\n",
    "### **5. Level 2 Binary Classification Notebook**\n",
    "**Description:**\n",
    "This notebook focuses on the **Level 2 Binary Classification model**, which distinguishes between the two most common classes identified in Level 1:\n",
    "- **2 - NON-COMP**\n",
    "- **4 - TEMPORARY**\n",
    "\n",
    "Key steps include:\n",
    "- Loading the subset of **“Common”** cases from Level 1 predictions.\n",
    "- **Feature selection:** Tailor feature preprocessing and selection for this binary classification task.\n",
    "- **Model training:** Train and evaluate a binary classification model to distinguish between the two classes.\n",
    "- **Evaluation:** Use metrics like accuracy, precision, recall, and F1-score to measure performance.\n",
    "- **Output:** Save predictions for integration in the final notebook.\n",
    "\n",
    "This notebook refines the classification of cases within the most common classes, contributing to the pipeline's accuracy.\n",
    "\n",
    "---\n"
   ]
  },
  {
   "cell_type": "markdown",
   "metadata": {},
   "source": [
    "## Table of Contents\n",
    "* [1. Import the Libraries](#chapter1)\n",
    "* [2. Load and Prepare Datasets](#chapter2)\n",
    "* [3. Setting the Target](#chapter3)\n",
    "* [4. Feature Selection](#chapter4)\n",
    "    * [4.1. Preparing the Data](#section_4_1)  \n",
    "        * [4.1.1. Scaling the Numerical Data](#section_4_1_1)\n",
    "        * [4.1.2. Encoding the Categorical Data](#section_4_1_2)\n",
    "    * [4.2. Numerical Features](#section_4_2) \n",
    "        * [4.2.1. Spearman Correlation Matrix](#section_4_2_1)\n",
    "        * [4.2.2. LASSO Regression](#section_4_2_2)\n",
    "        * [4.2.3. Recursive Feature Elimination - RFE](#section_4_2_3)\n",
    "        * [4.2.4. Feature Importance - Decision Tree](#section_4_2_4)\n",
    "        * [4.2.5. Feature Importance - Random Forest](#section_4_2_5)\n",
    "    * [4.3. Categorical Features](#section_4_3)\n",
    "        * [4.3.1. $\\chi ^2$ Test for Independence](#section_4_3_1)\n",
    "        * [4.3.2. Mutual Information Criterion (MIC)](#section_4_3_2)\n",
    "    * [4.4. Final Features](#section_4_4)\n",
    "* [5. Modelling](#chapter5)\n",
    "  * [5.1. Logistic Regression](#section_5_1)\n",
    "  * [5.2. Random Forest Trees](#section_5_2)\n",
    "  * [5.3. Decision Trees](#section_5_3)\n",
    "  * [5.4. Gradient Boosting](#section_5_4)\n",
    "  * [5.5. Summary of Models](#section_5_5)\n",
    "* [6. Loading the results](#chapter6)\n"
   ]
  },
  {
   "cell_type": "markdown",
   "metadata": {},
   "source": [
    "# 1. Import the Libraries 📚<a class=\"anchor\" id=\"chapter1\"></a>"
   ]
  },
  {
   "cell_type": "code",
   "execution_count": 69,
   "metadata": {},
   "outputs": [],
   "source": [
    "# --- Standard Libraries ---\n",
    "import pandas as pd\n",
    "import numpy as np\n",
    "import matplotlib.pyplot as plt\n",
    "import seaborn as sns\n",
    "sns.set()\n",
    "import zipfile\n",
    "\n",
    "\n",
    "# --- Scikit-Learn Modules for Data Partitioning and Preprocessing ---\n",
    "from sklearn.model_selection import train_test_split, cross_val_score\n",
    "from sklearn.preprocessing import StandardScaler, OneHotEncoder, LabelEncoder, MinMaxScaler, RobustScaler\n",
    "from sklearn.compose import ColumnTransformer\n",
    "from sklearn.pipeline import Pipeline\n",
    "from sklearn.preprocessing import LabelEncoder\n",
    "\n",
    "\n",
    "# --- Feature Selection Methods ---\n",
    "# Filter Methods\n",
    "import scipy.stats as stats\n",
    "from scipy.stats import chi2_contingency\n",
    "from sklearn.feature_selection import mutual_info_classif, chi2, SelectKBest\n",
    "\n",
    "# Wrapper Methods\n",
    "from sklearn.linear_model import LogisticRegression\n",
    "from sklearn.svm import SVC\n",
    "from sklearn.feature_selection import RFE\n",
    "from sklearn.ensemble import RandomForestClassifier\n",
    "from sklearn.tree import DecisionTreeClassifier\n",
    "\n",
    "# Embedded Methods\n",
    "from sklearn.linear_model import LassoCV\n",
    "\n",
    "# --- Evaluation Metrics ---\n",
    "from sklearn.metrics import classification_report, confusion_matrix, accuracy_score, precision_score, recall_score, f1_score\n",
    "\n",
    "#from xgboost import XGBClassifier\n",
    "\n",
    "# --- Warnings ---\n",
    "\n",
    "\n",
    "import warnings\n",
    "warnings.filterwarnings('ignore')\n",
    "\n",
    "\n",
    "#Import from utils the used functions\n",
    "from utils import plot_importance, cor_heatmap, find_optimal_features_with_rfe, compare_rf_feature_importances,compare_feature_importances, select_high_score_features_chi2_no_model,select_high_score_features_MIC, metrics\n",
    "\n",
    "#Modeling \n",
    "from sklearn.ensemble import RandomForestClassifier"
   ]
  },
  {
   "cell_type": "markdown",
   "metadata": {},
   "source": [
    "# 2. Load and Prepare Datasets 📁<a class=\"anchor\" id=\"chapter2\"></a>\n",
    "In this topic we will load the X_train and X_val preprocessed from Notebook 1, and the df_test with the prediction from notebook 2."
   ]
  },
  {
   "cell_type": "code",
   "execution_count": 70,
   "metadata": {},
   "outputs": [],
   "source": [
    "#Import the datasets\n",
    "X_train = pd.read_csv(\"../processed_datasets/X_train_model.csv\", index_col=\"Claim Identifier\")\n",
    "X_val = pd.read_csv(\"../processed_datasets/X_val_model.csv\", index_col=\"Claim Identifier\")\n",
    "df_test = pd.read_csv(\"../processed_datasets/df_test_model.csv\", index_col=\"Claim Identifier\")"
   ]
  },
  {
   "cell_type": "markdown",
   "metadata": {},
   "source": [
    "Let's open the dataset."
   ]
  },
  {
   "cell_type": "code",
   "execution_count": 71,
   "metadata": {},
   "outputs": [
    {
     "data": {
      "text/html": [
       "<div>\n",
       "<style scoped>\n",
       "    .dataframe tbody tr th:only-of-type {\n",
       "        vertical-align: middle;\n",
       "    }\n",
       "\n",
       "    .dataframe tbody tr th {\n",
       "        vertical-align: top;\n",
       "    }\n",
       "\n",
       "    .dataframe thead th {\n",
       "        text-align: right;\n",
       "    }\n",
       "</style>\n",
       "<table border=\"1\" class=\"dataframe\">\n",
       "  <thead>\n",
       "    <tr style=\"text-align: right;\">\n",
       "      <th></th>\n",
       "      <th>Unnamed: 0</th>\n",
       "      <th>Age at Injury</th>\n",
       "      <th>Attorney/Representative</th>\n",
       "      <th>Average Weekly Wage</th>\n",
       "      <th>Birth Year</th>\n",
       "      <th>Carrier Name</th>\n",
       "      <th>Carrier Type</th>\n",
       "      <th>County of Injury</th>\n",
       "      <th>COVID-19 Indicator</th>\n",
       "      <th>District Name</th>\n",
       "      <th>Gender</th>\n",
       "      <th>IME-4 Count</th>\n",
       "      <th>Industry Code</th>\n",
       "      <th>Medical Fee Region</th>\n",
       "      <th>WCIO Cause of Injury Code</th>\n",
       "      <th>WCIO Nature of Injury Code</th>\n",
       "      <th>WCIO Part Of Body Code</th>\n",
       "      <th>Zip Code</th>\n",
       "      <th>Number of Dependents</th>\n",
       "      <th>Category Combination</th>\n",
       "      <th>Carrier_District_Interaction</th>\n",
       "      <th>Income_Category</th>\n",
       "      <th>Days_To_First_Hearing</th>\n",
       "      <th>Accident_Quarter</th>\n",
       "      <th>Accident_Year</th>\n",
       "      <th>Accident Day</th>\n",
       "      <th>Accident on Weekend</th>\n",
       "      <th>Age Group</th>\n",
       "      <th>promptness_category</th>\n",
       "      <th>promptness_C2_category</th>\n",
       "      <th>promptness_C3_category</th>\n",
       "      <th>Zip_Code_Simplified</th>\n",
       "      <th>Carrier Type Merged</th>\n",
       "      <th>Carrier_Name_Simplified</th>\n",
       "      <th>Body_Part_Category</th>\n",
       "      <th>Injury_Nature_Category</th>\n",
       "      <th>Injury_Cause_Category</th>\n",
       "      <th>Industry Risk</th>\n",
       "      <th>Salary_Per_Dependent</th>\n",
       "    </tr>\n",
       "    <tr>\n",
       "      <th>Claim Identifier</th>\n",
       "      <th></th>\n",
       "      <th></th>\n",
       "      <th></th>\n",
       "      <th></th>\n",
       "      <th></th>\n",
       "      <th></th>\n",
       "      <th></th>\n",
       "      <th></th>\n",
       "      <th></th>\n",
       "      <th></th>\n",
       "      <th></th>\n",
       "      <th></th>\n",
       "      <th></th>\n",
       "      <th></th>\n",
       "      <th></th>\n",
       "      <th></th>\n",
       "      <th></th>\n",
       "      <th></th>\n",
       "      <th></th>\n",
       "      <th></th>\n",
       "      <th></th>\n",
       "      <th></th>\n",
       "      <th></th>\n",
       "      <th></th>\n",
       "      <th></th>\n",
       "      <th></th>\n",
       "      <th></th>\n",
       "      <th></th>\n",
       "      <th></th>\n",
       "      <th></th>\n",
       "      <th></th>\n",
       "      <th></th>\n",
       "      <th></th>\n",
       "      <th></th>\n",
       "      <th></th>\n",
       "      <th></th>\n",
       "      <th></th>\n",
       "      <th></th>\n",
       "      <th></th>\n",
       "    </tr>\n",
       "  </thead>\n",
       "  <tbody>\n",
       "    <tr>\n",
       "      <th>5479022</th>\n",
       "      <td>0</td>\n",
       "      <td>24.0</td>\n",
       "      <td>0.0</td>\n",
       "      <td>816.0</td>\n",
       "      <td>1996.0</td>\n",
       "      <td>STATE INSURANCE FUND</td>\n",
       "      <td>SIF</td>\n",
       "      <td>CAYUGA</td>\n",
       "      <td>0.0</td>\n",
       "      <td>SYRACUSE</td>\n",
       "      <td>M</td>\n",
       "      <td>0.0</td>\n",
       "      <td>11.0</td>\n",
       "      <td>I</td>\n",
       "      <td>53.0</td>\n",
       "      <td>52.0</td>\n",
       "      <td>55.0</td>\n",
       "      <td>13143.0</td>\n",
       "      <td>3.0</td>\n",
       "      <td>SIF-M</td>\n",
       "      <td>SIF_SYRACUSE</td>\n",
       "      <td>Lower-Middle Income</td>\n",
       "      <td>0</td>\n",
       "      <td>2</td>\n",
       "      <td>2020</td>\n",
       "      <td>1</td>\n",
       "      <td>0</td>\n",
       "      <td>Youth</td>\n",
       "      <td>Until 1 week</td>\n",
       "      <td>Until 1 week</td>\n",
       "      <td>Form Not Received</td>\n",
       "      <td>OTHER</td>\n",
       "      <td>SIF</td>\n",
       "      <td>STATE INSURANCE FUND</td>\n",
       "      <td>Lower Extremities</td>\n",
       "      <td>Specific Injury</td>\n",
       "      <td>Strain or Injury By</td>\n",
       "      <td>High Risk</td>\n",
       "      <td>204.000000</td>\n",
       "    </tr>\n",
       "    <tr>\n",
       "      <th>6023025</th>\n",
       "      <td>1</td>\n",
       "      <td>36.0</td>\n",
       "      <td>1.0</td>\n",
       "      <td>1097.0</td>\n",
       "      <td>1986.0</td>\n",
       "      <td>SIRIUSPOINT AMERICA INSURANCE</td>\n",
       "      <td>PRIVATE</td>\n",
       "      <td>QUEENS</td>\n",
       "      <td>0.0</td>\n",
       "      <td>NYC</td>\n",
       "      <td>M</td>\n",
       "      <td>4.0</td>\n",
       "      <td>31.0</td>\n",
       "      <td>IV</td>\n",
       "      <td>31.0</td>\n",
       "      <td>10.0</td>\n",
       "      <td>65.0</td>\n",
       "      <td>11368.0</td>\n",
       "      <td>2.0</td>\n",
       "      <td>PRIVATE-M</td>\n",
       "      <td>PRIVATE_NYC</td>\n",
       "      <td>Middle Income</td>\n",
       "      <td>111</td>\n",
       "      <td>2</td>\n",
       "      <td>2022</td>\n",
       "      <td>1</td>\n",
       "      <td>0</td>\n",
       "      <td>Young Adult</td>\n",
       "      <td>1 to 3 months</td>\n",
       "      <td>1 to 3 months</td>\n",
       "      <td>1 to 3 months</td>\n",
       "      <td>11368.0</td>\n",
       "      <td>PRIVATE</td>\n",
       "      <td>OTHER</td>\n",
       "      <td>Multiple Body Parts</td>\n",
       "      <td>Specific Injury</td>\n",
       "      <td>Fall, Slip, or Trip</td>\n",
       "      <td>High Risk</td>\n",
       "      <td>365.666667</td>\n",
       "    </tr>\n",
       "    <tr>\n",
       "      <th>5851908</th>\n",
       "      <td>2</td>\n",
       "      <td>41.0</td>\n",
       "      <td>1.0</td>\n",
       "      <td>623.0</td>\n",
       "      <td>1980.0</td>\n",
       "      <td>INDEMNITY INS. OF N AMERICA</td>\n",
       "      <td>PRIVATE</td>\n",
       "      <td>MONROE</td>\n",
       "      <td>0.0</td>\n",
       "      <td>ROCHESTER</td>\n",
       "      <td>F</td>\n",
       "      <td>2.0</td>\n",
       "      <td>33.0</td>\n",
       "      <td>I</td>\n",
       "      <td>56.0</td>\n",
       "      <td>52.0</td>\n",
       "      <td>38.0</td>\n",
       "      <td>14580.0</td>\n",
       "      <td>3.0</td>\n",
       "      <td>PRIVATE-F</td>\n",
       "      <td>PRIVATE_ROCHESTER</td>\n",
       "      <td>Low Income</td>\n",
       "      <td>674</td>\n",
       "      <td>2</td>\n",
       "      <td>2021</td>\n",
       "      <td>2</td>\n",
       "      <td>0</td>\n",
       "      <td>Young Adult</td>\n",
       "      <td>3 to 6 months</td>\n",
       "      <td>3 to 6 months</td>\n",
       "      <td>3 to 6 months</td>\n",
       "      <td>OTHER</td>\n",
       "      <td>PRIVATE</td>\n",
       "      <td>INDEMNITY INS. OF N AMERICA</td>\n",
       "      <td>Upper Extremities</td>\n",
       "      <td>Specific Injury</td>\n",
       "      <td>Strain or Injury By</td>\n",
       "      <td>High Risk</td>\n",
       "      <td>155.750000</td>\n",
       "    </tr>\n",
       "  </tbody>\n",
       "</table>\n",
       "</div>"
      ],
      "text/plain": [
       "                  Unnamed: 0  Age at Injury  Attorney/Representative  \\\n",
       "Claim Identifier                                                       \n",
       "5479022                    0           24.0                      0.0   \n",
       "6023025                    1           36.0                      1.0   \n",
       "5851908                    2           41.0                      1.0   \n",
       "\n",
       "                  Average Weekly Wage  Birth Year  \\\n",
       "Claim Identifier                                    \n",
       "5479022                         816.0      1996.0   \n",
       "6023025                        1097.0      1986.0   \n",
       "5851908                         623.0      1980.0   \n",
       "\n",
       "                                   Carrier Name Carrier Type County of Injury  \\\n",
       "Claim Identifier                                                                \n",
       "5479022                    STATE INSURANCE FUND          SIF           CAYUGA   \n",
       "6023025           SIRIUSPOINT AMERICA INSURANCE      PRIVATE           QUEENS   \n",
       "5851908             INDEMNITY INS. OF N AMERICA      PRIVATE           MONROE   \n",
       "\n",
       "                  COVID-19 Indicator District Name Gender  IME-4 Count  \\\n",
       "Claim Identifier                                                         \n",
       "5479022                          0.0      SYRACUSE      M          0.0   \n",
       "6023025                          0.0           NYC      M          4.0   \n",
       "5851908                          0.0     ROCHESTER      F          2.0   \n",
       "\n",
       "                  Industry Code Medical Fee Region  WCIO Cause of Injury Code  \\\n",
       "Claim Identifier                                                                \n",
       "5479022                    11.0                  I                       53.0   \n",
       "6023025                    31.0                 IV                       31.0   \n",
       "5851908                    33.0                  I                       56.0   \n",
       "\n",
       "                  WCIO Nature of Injury Code  WCIO Part Of Body Code Zip Code  \\\n",
       "Claim Identifier                                                                \n",
       "5479022                                 52.0                    55.0  13143.0   \n",
       "6023025                                 10.0                    65.0  11368.0   \n",
       "5851908                                 52.0                    38.0  14580.0   \n",
       "\n",
       "                  Number of Dependents Category Combination  \\\n",
       "Claim Identifier                                              \n",
       "5479022                            3.0                SIF-M   \n",
       "6023025                            2.0            PRIVATE-M   \n",
       "5851908                            3.0            PRIVATE-F   \n",
       "\n",
       "                 Carrier_District_Interaction      Income_Category  \\\n",
       "Claim Identifier                                                     \n",
       "5479022                          SIF_SYRACUSE  Lower-Middle Income   \n",
       "6023025                           PRIVATE_NYC        Middle Income   \n",
       "5851908                     PRIVATE_ROCHESTER           Low Income   \n",
       "\n",
       "                  Days_To_First_Hearing  Accident_Quarter  Accident_Year  \\\n",
       "Claim Identifier                                                           \n",
       "5479022                               0                 2           2020   \n",
       "6023025                             111                 2           2022   \n",
       "5851908                             674                 2           2021   \n",
       "\n",
       "                  Accident Day  Accident on Weekend    Age Group  \\\n",
       "Claim Identifier                                                   \n",
       "5479022                      1                    0        Youth   \n",
       "6023025                      1                    0  Young Adult   \n",
       "5851908                      2                    0  Young Adult   \n",
       "\n",
       "                 promptness_category promptness_C2_category  \\\n",
       "Claim Identifier                                              \n",
       "5479022                 Until 1 week           Until 1 week   \n",
       "6023025                1 to 3 months          1 to 3 months   \n",
       "5851908                3 to 6 months          3 to 6 months   \n",
       "\n",
       "                 promptness_C3_category Zip_Code_Simplified  \\\n",
       "Claim Identifier                                              \n",
       "5479022               Form Not Received               OTHER   \n",
       "6023025                   1 to 3 months             11368.0   \n",
       "5851908                   3 to 6 months               OTHER   \n",
       "\n",
       "                 Carrier Type Merged      Carrier_Name_Simplified  \\\n",
       "Claim Identifier                                                    \n",
       "5479022                          SIF         STATE INSURANCE FUND   \n",
       "6023025                      PRIVATE                        OTHER   \n",
       "5851908                      PRIVATE  INDEMNITY INS. OF N AMERICA   \n",
       "\n",
       "                   Body_Part_Category Injury_Nature_Category  \\\n",
       "Claim Identifier                                               \n",
       "5479022             Lower Extremities        Specific Injury   \n",
       "6023025           Multiple Body Parts        Specific Injury   \n",
       "5851908             Upper Extremities        Specific Injury   \n",
       "\n",
       "                 Injury_Cause_Category Industry Risk  Salary_Per_Dependent  \n",
       "Claim Identifier                                                            \n",
       "5479022            Strain or Injury By     High Risk            204.000000  \n",
       "6023025            Fall, Slip, or Trip     High Risk            365.666667  \n",
       "5851908            Strain or Injury By     High Risk            155.750000  "
      ]
     },
     "execution_count": 71,
     "metadata": {},
     "output_type": "execute_result"
    }
   ],
   "source": [
    "X_train.head(3)"
   ]
  },
  {
   "cell_type": "code",
   "execution_count": 72,
   "metadata": {},
   "outputs": [
    {
     "data": {
      "text/html": [
       "<div>\n",
       "<style scoped>\n",
       "    .dataframe tbody tr th:only-of-type {\n",
       "        vertical-align: middle;\n",
       "    }\n",
       "\n",
       "    .dataframe tbody tr th {\n",
       "        vertical-align: top;\n",
       "    }\n",
       "\n",
       "    .dataframe thead th {\n",
       "        text-align: right;\n",
       "    }\n",
       "</style>\n",
       "<table border=\"1\" class=\"dataframe\">\n",
       "  <thead>\n",
       "    <tr style=\"text-align: right;\">\n",
       "      <th></th>\n",
       "      <th>Unnamed: 0</th>\n",
       "      <th>Age at Injury</th>\n",
       "      <th>Attorney/Representative</th>\n",
       "      <th>Average Weekly Wage</th>\n",
       "      <th>Birth Year</th>\n",
       "      <th>Carrier Name</th>\n",
       "      <th>Carrier Type</th>\n",
       "      <th>County of Injury</th>\n",
       "      <th>COVID-19 Indicator</th>\n",
       "      <th>District Name</th>\n",
       "      <th>Gender</th>\n",
       "      <th>IME-4 Count</th>\n",
       "      <th>Industry Code</th>\n",
       "      <th>Medical Fee Region</th>\n",
       "      <th>WCIO Cause of Injury Code</th>\n",
       "      <th>WCIO Nature of Injury Code</th>\n",
       "      <th>WCIO Part Of Body Code</th>\n",
       "      <th>Zip Code</th>\n",
       "      <th>Number of Dependents</th>\n",
       "      <th>Category Combination</th>\n",
       "      <th>Carrier_District_Interaction</th>\n",
       "      <th>Income_Category</th>\n",
       "      <th>Days_To_First_Hearing</th>\n",
       "      <th>Accident_Quarter</th>\n",
       "      <th>Accident_Year</th>\n",
       "      <th>Accident Day</th>\n",
       "      <th>Accident on Weekend</th>\n",
       "      <th>Age Group</th>\n",
       "      <th>promptness_category</th>\n",
       "      <th>promptness_C2_category</th>\n",
       "      <th>promptness_C3_category</th>\n",
       "      <th>Zip_Code_Simplified</th>\n",
       "      <th>Carrier Type Merged</th>\n",
       "      <th>Carrier_Name_Simplified</th>\n",
       "      <th>Body_Part_Category</th>\n",
       "      <th>Injury_Nature_Category</th>\n",
       "      <th>Injury_Cause_Category</th>\n",
       "      <th>Industry Risk</th>\n",
       "      <th>Salary_Per_Dependent</th>\n",
       "    </tr>\n",
       "    <tr>\n",
       "      <th>Claim Identifier</th>\n",
       "      <th></th>\n",
       "      <th></th>\n",
       "      <th></th>\n",
       "      <th></th>\n",
       "      <th></th>\n",
       "      <th></th>\n",
       "      <th></th>\n",
       "      <th></th>\n",
       "      <th></th>\n",
       "      <th></th>\n",
       "      <th></th>\n",
       "      <th></th>\n",
       "      <th></th>\n",
       "      <th></th>\n",
       "      <th></th>\n",
       "      <th></th>\n",
       "      <th></th>\n",
       "      <th></th>\n",
       "      <th></th>\n",
       "      <th></th>\n",
       "      <th></th>\n",
       "      <th></th>\n",
       "      <th></th>\n",
       "      <th></th>\n",
       "      <th></th>\n",
       "      <th></th>\n",
       "      <th></th>\n",
       "      <th></th>\n",
       "      <th></th>\n",
       "      <th></th>\n",
       "      <th></th>\n",
       "      <th></th>\n",
       "      <th></th>\n",
       "      <th></th>\n",
       "      <th></th>\n",
       "      <th></th>\n",
       "      <th></th>\n",
       "      <th></th>\n",
       "      <th></th>\n",
       "    </tr>\n",
       "  </thead>\n",
       "  <tbody>\n",
       "    <tr>\n",
       "      <th>5893917</th>\n",
       "      <td>0</td>\n",
       "      <td>NaN</td>\n",
       "      <td>1.0</td>\n",
       "      <td>1538.0</td>\n",
       "      <td>NaN</td>\n",
       "      <td>ACE AMERICAN INSURANCE CO.</td>\n",
       "      <td>PRIVATE</td>\n",
       "      <td>BRONX</td>\n",
       "      <td>0.0</td>\n",
       "      <td>NYC</td>\n",
       "      <td>M</td>\n",
       "      <td>2.0</td>\n",
       "      <td>23.0</td>\n",
       "      <td>UK</td>\n",
       "      <td>97.0</td>\n",
       "      <td>80.0</td>\n",
       "      <td>101.0</td>\n",
       "      <td>10467.0</td>\n",
       "      <td>2.0</td>\n",
       "      <td>PRIVATE-M</td>\n",
       "      <td>PRIVATE_NYC</td>\n",
       "      <td>Upper-Middle Income</td>\n",
       "      <td>242</td>\n",
       "      <td>3</td>\n",
       "      <td>2021</td>\n",
       "      <td>0</td>\n",
       "      <td>0</td>\n",
       "      <td>NaN</td>\n",
       "      <td>3 to 6 months</td>\n",
       "      <td>3 to 6 months</td>\n",
       "      <td>3 to 6 months</td>\n",
       "      <td>10467.0</td>\n",
       "      <td>PRIVATE</td>\n",
       "      <td>ACE AMERICAN INSURANCE CO.</td>\n",
       "      <td>Lower Extremities</td>\n",
       "      <td>Occupational Disease or Cumulative Injury</td>\n",
       "      <td>Strain or Injury By</td>\n",
       "      <td>High Risk</td>\n",
       "      <td>512.666667</td>\n",
       "    </tr>\n",
       "    <tr>\n",
       "      <th>5978089</th>\n",
       "      <td>1</td>\n",
       "      <td>59.0</td>\n",
       "      <td>0.0</td>\n",
       "      <td>1696.0</td>\n",
       "      <td>1963.0</td>\n",
       "      <td>ZURICH AMERICAN INSURANCE CO</td>\n",
       "      <td>PRIVATE</td>\n",
       "      <td>NIAGARA</td>\n",
       "      <td>0.0</td>\n",
       "      <td>BUFFALO</td>\n",
       "      <td>M</td>\n",
       "      <td>0.0</td>\n",
       "      <td>42.0</td>\n",
       "      <td>I</td>\n",
       "      <td>81.0</td>\n",
       "      <td>10.0</td>\n",
       "      <td>32.0</td>\n",
       "      <td>14094.0</td>\n",
       "      <td>3.0</td>\n",
       "      <td>PRIVATE-M</td>\n",
       "      <td>PRIVATE_BUFFALO</td>\n",
       "      <td>Upper-Middle Income</td>\n",
       "      <td>0</td>\n",
       "      <td>2</td>\n",
       "      <td>2022</td>\n",
       "      <td>0</td>\n",
       "      <td>0</td>\n",
       "      <td>Middle Age</td>\n",
       "      <td>Until 1 week</td>\n",
       "      <td>Until 1 week</td>\n",
       "      <td>Form Not Received</td>\n",
       "      <td>14094.0</td>\n",
       "      <td>PRIVATE</td>\n",
       "      <td>ZURICH AMERICAN INSURANCE CO</td>\n",
       "      <td>Multiple Body Parts</td>\n",
       "      <td>Specific Injury</td>\n",
       "      <td>Struck or Injured by</td>\n",
       "      <td>Medium Risk</td>\n",
       "      <td>424.000000</td>\n",
       "    </tr>\n",
       "    <tr>\n",
       "      <th>5622704</th>\n",
       "      <td>2</td>\n",
       "      <td>28.0</td>\n",
       "      <td>1.0</td>\n",
       "      <td>1266.0</td>\n",
       "      <td>1987.0</td>\n",
       "      <td>GREAT DIVIDE INSURANCE COMPANY</td>\n",
       "      <td>PRIVATE</td>\n",
       "      <td>ERIE</td>\n",
       "      <td>0.0</td>\n",
       "      <td>BUFFALO</td>\n",
       "      <td>M</td>\n",
       "      <td>1.0</td>\n",
       "      <td>71.0</td>\n",
       "      <td>UK</td>\n",
       "      <td>60.0</td>\n",
       "      <td>52.0</td>\n",
       "      <td>38.0</td>\n",
       "      <td>20171.0</td>\n",
       "      <td>5.0</td>\n",
       "      <td>PRIVATE-M</td>\n",
       "      <td>PRIVATE_BUFFALO</td>\n",
       "      <td>Middle Income</td>\n",
       "      <td>2121</td>\n",
       "      <td>3</td>\n",
       "      <td>2015</td>\n",
       "      <td>1</td>\n",
       "      <td>0</td>\n",
       "      <td>Young Adult</td>\n",
       "      <td>More than 1 year</td>\n",
       "      <td>More than 1 year</td>\n",
       "      <td>More than 1 year</td>\n",
       "      <td>OTHER</td>\n",
       "      <td>PRIVATE</td>\n",
       "      <td>OTHER</td>\n",
       "      <td>Upper Extremities</td>\n",
       "      <td>Specific Injury</td>\n",
       "      <td>Strain or Injury By</td>\n",
       "      <td>Medium Risk</td>\n",
       "      <td>211.000000</td>\n",
       "    </tr>\n",
       "  </tbody>\n",
       "</table>\n",
       "</div>"
      ],
      "text/plain": [
       "                  Unnamed: 0  Age at Injury  Attorney/Representative  \\\n",
       "Claim Identifier                                                       \n",
       "5893917                    0            NaN                      1.0   \n",
       "5978089                    1           59.0                      0.0   \n",
       "5622704                    2           28.0                      1.0   \n",
       "\n",
       "                  Average Weekly Wage  Birth Year  \\\n",
       "Claim Identifier                                    \n",
       "5893917                        1538.0         NaN   \n",
       "5978089                        1696.0      1963.0   \n",
       "5622704                        1266.0      1987.0   \n",
       "\n",
       "                                    Carrier Name Carrier Type  \\\n",
       "Claim Identifier                                                \n",
       "5893917               ACE AMERICAN INSURANCE CO.      PRIVATE   \n",
       "5978089             ZURICH AMERICAN INSURANCE CO      PRIVATE   \n",
       "5622704           GREAT DIVIDE INSURANCE COMPANY      PRIVATE   \n",
       "\n",
       "                 County of Injury  COVID-19 Indicator District Name Gender  \\\n",
       "Claim Identifier                                                             \n",
       "5893917                     BRONX                 0.0           NYC      M   \n",
       "5978089                   NIAGARA                 0.0       BUFFALO      M   \n",
       "5622704                      ERIE                 0.0       BUFFALO      M   \n",
       "\n",
       "                  IME-4 Count  Industry Code Medical Fee Region  \\\n",
       "Claim Identifier                                                  \n",
       "5893917                   2.0           23.0                 UK   \n",
       "5978089                   0.0           42.0                  I   \n",
       "5622704                   1.0           71.0                 UK   \n",
       "\n",
       "                  WCIO Cause of Injury Code  WCIO Nature of Injury Code  \\\n",
       "Claim Identifier                                                          \n",
       "5893917                                97.0                        80.0   \n",
       "5978089                                81.0                        10.0   \n",
       "5622704                                60.0                        52.0   \n",
       "\n",
       "                  WCIO Part Of Body Code  Zip Code  Number of Dependents  \\\n",
       "Claim Identifier                                                           \n",
       "5893917                            101.0   10467.0                   2.0   \n",
       "5978089                             32.0   14094.0                   3.0   \n",
       "5622704                             38.0   20171.0                   5.0   \n",
       "\n",
       "                 Category Combination Carrier_District_Interaction  \\\n",
       "Claim Identifier                                                     \n",
       "5893917                     PRIVATE-M                  PRIVATE_NYC   \n",
       "5978089                     PRIVATE-M              PRIVATE_BUFFALO   \n",
       "5622704                     PRIVATE-M              PRIVATE_BUFFALO   \n",
       "\n",
       "                      Income_Category  Days_To_First_Hearing  \\\n",
       "Claim Identifier                                               \n",
       "5893917           Upper-Middle Income                    242   \n",
       "5978089           Upper-Middle Income                      0   \n",
       "5622704                 Middle Income                   2121   \n",
       "\n",
       "                  Accident_Quarter  Accident_Year  Accident Day  \\\n",
       "Claim Identifier                                                  \n",
       "5893917                          3           2021             0   \n",
       "5978089                          2           2022             0   \n",
       "5622704                          3           2015             1   \n",
       "\n",
       "                  Accident on Weekend    Age Group promptness_category  \\\n",
       "Claim Identifier                                                         \n",
       "5893917                             0          NaN       3 to 6 months   \n",
       "5978089                             0   Middle Age        Until 1 week   \n",
       "5622704                             0  Young Adult    More than 1 year   \n",
       "\n",
       "                 promptness_C2_category promptness_C3_category  \\\n",
       "Claim Identifier                                                 \n",
       "5893917                   3 to 6 months          3 to 6 months   \n",
       "5978089                    Until 1 week      Form Not Received   \n",
       "5622704                More than 1 year       More than 1 year   \n",
       "\n",
       "                 Zip_Code_Simplified Carrier Type Merged  \\\n",
       "Claim Identifier                                           \n",
       "5893917                      10467.0             PRIVATE   \n",
       "5978089                      14094.0             PRIVATE   \n",
       "5622704                        OTHER             PRIVATE   \n",
       "\n",
       "                       Carrier_Name_Simplified   Body_Part_Category  \\\n",
       "Claim Identifier                                                      \n",
       "5893917             ACE AMERICAN INSURANCE CO.    Lower Extremities   \n",
       "5978089           ZURICH AMERICAN INSURANCE CO  Multiple Body Parts   \n",
       "5622704                                  OTHER    Upper Extremities   \n",
       "\n",
       "                                     Injury_Nature_Category  \\\n",
       "Claim Identifier                                              \n",
       "5893917           Occupational Disease or Cumulative Injury   \n",
       "5978089                                     Specific Injury   \n",
       "5622704                                     Specific Injury   \n",
       "\n",
       "                 Injury_Cause_Category Industry Risk  Salary_Per_Dependent  \n",
       "Claim Identifier                                                            \n",
       "5893917            Strain or Injury By     High Risk            512.666667  \n",
       "5978089           Struck or Injured by   Medium Risk            424.000000  \n",
       "5622704            Strain or Injury By   Medium Risk            211.000000  "
      ]
     },
     "execution_count": 72,
     "metadata": {},
     "output_type": "execute_result"
    }
   ],
   "source": [
    "X_val.head(3)"
   ]
  },
  {
   "cell_type": "code",
   "execution_count": 73,
   "metadata": {},
   "outputs": [],
   "source": [
    "X_train = X_train.drop(columns=['Unnamed: 0'])\n",
    "X_val = X_val.drop(columns=['Unnamed: 0'])"
   ]
  },
  {
   "cell_type": "code",
   "execution_count": null,
   "metadata": {},
   "outputs": [],
   "source": []
  },
  {
   "cell_type": "code",
   "execution_count": 89,
   "metadata": {},
   "outputs": [
    {
     "data": {
      "text/plain": [
       "171781"
      ]
     },
     "execution_count": 89,
     "metadata": {},
     "output_type": "execute_result"
    }
   ],
   "source": [
    "X_train.isna().sum().sum()"
   ]
  },
  {
   "cell_type": "code",
   "execution_count": 90,
   "metadata": {},
   "outputs": [
    {
     "data": {
      "text/plain": [
       "75617"
      ]
     },
     "execution_count": 90,
     "metadata": {},
     "output_type": "execute_result"
    }
   ],
   "source": [
    "X_val.isna().sum().sum()"
   ]
  },
  {
   "cell_type": "markdown",
   "metadata": {},
   "source": [
    "We also need to load the test dataset resulted from notebook 2, with the best predictions."
   ]
  },
  {
   "cell_type": "code",
   "execution_count": 77,
   "metadata": {},
   "outputs": [
    {
     "data": {
      "text/html": [
       "<div>\n",
       "<style scoped>\n",
       "    .dataframe tbody tr th:only-of-type {\n",
       "        vertical-align: middle;\n",
       "    }\n",
       "\n",
       "    .dataframe tbody tr th {\n",
       "        vertical-align: top;\n",
       "    }\n",
       "\n",
       "    .dataframe thead th {\n",
       "        text-align: right;\n",
       "    }\n",
       "</style>\n",
       "<table border=\"1\" class=\"dataframe\">\n",
       "  <thead>\n",
       "    <tr style=\"text-align: right;\">\n",
       "      <th></th>\n",
       "      <th>Age at Injury</th>\n",
       "      <th>Attorney/Representative</th>\n",
       "      <th>Average Weekly Wage</th>\n",
       "      <th>Birth Year</th>\n",
       "      <th>Carrier Name</th>\n",
       "      <th>Carrier Type</th>\n",
       "      <th>County of Injury</th>\n",
       "      <th>COVID-19 Indicator</th>\n",
       "      <th>District Name</th>\n",
       "      <th>Gender</th>\n",
       "      <th>IME-4 Count</th>\n",
       "      <th>Industry Code</th>\n",
       "      <th>Medical Fee Region</th>\n",
       "      <th>WCIO Cause of Injury Code</th>\n",
       "      <th>WCIO Nature of Injury Code</th>\n",
       "      <th>WCIO Part Of Body Code</th>\n",
       "      <th>Zip Code</th>\n",
       "      <th>Number of Dependents</th>\n",
       "      <th>Carrier_District_Interaction</th>\n",
       "      <th>Income_Category</th>\n",
       "      <th>Days_To_First_Hearing</th>\n",
       "      <th>Accident_Quarter</th>\n",
       "      <th>Accident_Year</th>\n",
       "      <th>Accident Day</th>\n",
       "      <th>Accident on Weekend</th>\n",
       "      <th>Age Group</th>\n",
       "      <th>promptness_category</th>\n",
       "      <th>promptness_C2_category</th>\n",
       "      <th>promptness_C3_category</th>\n",
       "      <th>Zip_Code_Simplified</th>\n",
       "      <th>Carrier Type Merged</th>\n",
       "      <th>Carrier_Name_Simplified</th>\n",
       "      <th>Body_Part_Category</th>\n",
       "      <th>Injury_Nature_Category</th>\n",
       "      <th>Injury_Cause_Category</th>\n",
       "      <th>Industry Risk</th>\n",
       "      <th>Salary_Per_Dependent</th>\n",
       "      <th>Predictions</th>\n",
       "    </tr>\n",
       "    <tr>\n",
       "      <th>Claim Identifier</th>\n",
       "      <th></th>\n",
       "      <th></th>\n",
       "      <th></th>\n",
       "      <th></th>\n",
       "      <th></th>\n",
       "      <th></th>\n",
       "      <th></th>\n",
       "      <th></th>\n",
       "      <th></th>\n",
       "      <th></th>\n",
       "      <th></th>\n",
       "      <th></th>\n",
       "      <th></th>\n",
       "      <th></th>\n",
       "      <th></th>\n",
       "      <th></th>\n",
       "      <th></th>\n",
       "      <th></th>\n",
       "      <th></th>\n",
       "      <th></th>\n",
       "      <th></th>\n",
       "      <th></th>\n",
       "      <th></th>\n",
       "      <th></th>\n",
       "      <th></th>\n",
       "      <th></th>\n",
       "      <th></th>\n",
       "      <th></th>\n",
       "      <th></th>\n",
       "      <th></th>\n",
       "      <th></th>\n",
       "      <th></th>\n",
       "      <th></th>\n",
       "      <th></th>\n",
       "      <th></th>\n",
       "      <th></th>\n",
       "      <th></th>\n",
       "      <th></th>\n",
       "    </tr>\n",
       "  </thead>\n",
       "  <tbody>\n",
       "    <tr>\n",
       "      <th>6165911</th>\n",
       "      <td>19</td>\n",
       "      <td>0</td>\n",
       "      <td>1245.935970</td>\n",
       "      <td>2003.0</td>\n",
       "      <td>INDEMNITY INSURANCE CO OF</td>\n",
       "      <td>PRIVATE</td>\n",
       "      <td>BRONX</td>\n",
       "      <td>0</td>\n",
       "      <td>NYC</td>\n",
       "      <td>M</td>\n",
       "      <td>0.0</td>\n",
       "      <td>10</td>\n",
       "      <td>IV</td>\n",
       "      <td>31</td>\n",
       "      <td>10</td>\n",
       "      <td>54</td>\n",
       "      <td>10466</td>\n",
       "      <td>1</td>\n",
       "      <td>PRIVATE_NYC</td>\n",
       "      <td>Upper-Middle Income</td>\n",
       "      <td>0</td>\n",
       "      <td>4</td>\n",
       "      <td>2022</td>\n",
       "      <td>5</td>\n",
       "      <td>1</td>\n",
       "      <td>Youth</td>\n",
       "      <td>Between 1 and 2 weeks</td>\n",
       "      <td>Between 1 and 2 weeks</td>\n",
       "      <td>No form received</td>\n",
       "      <td>10466</td>\n",
       "      <td>PRIVATE</td>\n",
       "      <td>INDEMNITY INSURANCE CO OF</td>\n",
       "      <td>Lower Extremities</td>\n",
       "      <td>Specific Injury</td>\n",
       "      <td>Fall, Slip, or Trip</td>\n",
       "      <td>Unknown Risk</td>\n",
       "      <td>622.967985</td>\n",
       "      <td>0</td>\n",
       "    </tr>\n",
       "    <tr>\n",
       "      <th>6166141</th>\n",
       "      <td>19</td>\n",
       "      <td>0</td>\n",
       "      <td>809.300149</td>\n",
       "      <td>2003.0</td>\n",
       "      <td>A I U INSURANCE COMPANY</td>\n",
       "      <td>PRIVATE</td>\n",
       "      <td>QUEENS</td>\n",
       "      <td>0</td>\n",
       "      <td>NYC</td>\n",
       "      <td>F</td>\n",
       "      <td>0.0</td>\n",
       "      <td>9</td>\n",
       "      <td>IV</td>\n",
       "      <td>75</td>\n",
       "      <td>10</td>\n",
       "      <td>10</td>\n",
       "      <td>11691</td>\n",
       "      <td>1</td>\n",
       "      <td>PRIVATE_NYC</td>\n",
       "      <td>Low Income</td>\n",
       "      <td>0</td>\n",
       "      <td>4</td>\n",
       "      <td>2022</td>\n",
       "      <td>6</td>\n",
       "      <td>1</td>\n",
       "      <td>Youth</td>\n",
       "      <td>1 to 3 months</td>\n",
       "      <td>1 to 3 months</td>\n",
       "      <td>No form received</td>\n",
       "      <td>11691</td>\n",
       "      <td>PRIVATE</td>\n",
       "      <td>A I U INSURANCE COMPANY</td>\n",
       "      <td>Head</td>\n",
       "      <td>Specific Injury</td>\n",
       "      <td>Struck or Injured by</td>\n",
       "      <td>Unknown Risk</td>\n",
       "      <td>404.650075</td>\n",
       "      <td>0</td>\n",
       "    </tr>\n",
       "    <tr>\n",
       "      <th>6165907</th>\n",
       "      <td>59</td>\n",
       "      <td>0</td>\n",
       "      <td>938.125909</td>\n",
       "      <td>1963.0</td>\n",
       "      <td>AMGUARD INSURANCE COMPANY</td>\n",
       "      <td>PRIVATE</td>\n",
       "      <td>WESTCHESTER</td>\n",
       "      <td>0</td>\n",
       "      <td>NYC</td>\n",
       "      <td>F</td>\n",
       "      <td>0.0</td>\n",
       "      <td>17</td>\n",
       "      <td>III</td>\n",
       "      <td>68</td>\n",
       "      <td>49</td>\n",
       "      <td>62</td>\n",
       "      <td>10604</td>\n",
       "      <td>0</td>\n",
       "      <td>PRIVATE_NYC</td>\n",
       "      <td>Lower-Middle Income</td>\n",
       "      <td>0</td>\n",
       "      <td>4</td>\n",
       "      <td>2022</td>\n",
       "      <td>0</td>\n",
       "      <td>0</td>\n",
       "      <td>Middle Age</td>\n",
       "      <td>Until 1 week</td>\n",
       "      <td>Until 1 week</td>\n",
       "      <td>No form received</td>\n",
       "      <td>OTHER</td>\n",
       "      <td>PRIVATE</td>\n",
       "      <td>OTHER</td>\n",
       "      <td>Trunk</td>\n",
       "      <td>Specific Injury</td>\n",
       "      <td>Striking Against or Stepping On</td>\n",
       "      <td>Unknown Risk</td>\n",
       "      <td>938.125909</td>\n",
       "      <td>0</td>\n",
       "    </tr>\n",
       "  </tbody>\n",
       "</table>\n",
       "</div>"
      ],
      "text/plain": [
       "                  Age at Injury  Attorney/Representative  Average Weekly Wage  \\\n",
       "Claim Identifier                                                                \n",
       "6165911                      19                        0          1245.935970   \n",
       "6166141                      19                        0           809.300149   \n",
       "6165907                      59                        0           938.125909   \n",
       "\n",
       "                  Birth Year               Carrier Name Carrier Type  \\\n",
       "Claim Identifier                                                       \n",
       "6165911               2003.0  INDEMNITY INSURANCE CO OF      PRIVATE   \n",
       "6166141               2003.0    A I U INSURANCE COMPANY      PRIVATE   \n",
       "6165907               1963.0  AMGUARD INSURANCE COMPANY      PRIVATE   \n",
       "\n",
       "                 County of Injury  COVID-19 Indicator District Name Gender  \\\n",
       "Claim Identifier                                                             \n",
       "6165911                     BRONX                   0           NYC      M   \n",
       "6166141                    QUEENS                   0           NYC      F   \n",
       "6165907               WESTCHESTER                   0           NYC      F   \n",
       "\n",
       "                  IME-4 Count  Industry Code Medical Fee Region  \\\n",
       "Claim Identifier                                                  \n",
       "6165911                   0.0             10                 IV   \n",
       "6166141                   0.0              9                 IV   \n",
       "6165907                   0.0             17                III   \n",
       "\n",
       "                  WCIO Cause of Injury Code  WCIO Nature of Injury Code  \\\n",
       "Claim Identifier                                                          \n",
       "6165911                                  31                          10   \n",
       "6166141                                  75                          10   \n",
       "6165907                                  68                          49   \n",
       "\n",
       "                  WCIO Part Of Body Code  Zip Code  Number of Dependents  \\\n",
       "Claim Identifier                                                           \n",
       "6165911                               54     10466                     1   \n",
       "6166141                               10     11691                     1   \n",
       "6165907                               62     10604                     0   \n",
       "\n",
       "                 Carrier_District_Interaction      Income_Category  \\\n",
       "Claim Identifier                                                     \n",
       "6165911                           PRIVATE_NYC  Upper-Middle Income   \n",
       "6166141                           PRIVATE_NYC           Low Income   \n",
       "6165907                           PRIVATE_NYC  Lower-Middle Income   \n",
       "\n",
       "                  Days_To_First_Hearing  Accident_Quarter  Accident_Year  \\\n",
       "Claim Identifier                                                           \n",
       "6165911                               0                 4           2022   \n",
       "6166141                               0                 4           2022   \n",
       "6165907                               0                 4           2022   \n",
       "\n",
       "                  Accident Day  Accident on Weekend   Age Group  \\\n",
       "Claim Identifier                                                  \n",
       "6165911                      5                    1       Youth   \n",
       "6166141                      6                    1       Youth   \n",
       "6165907                      0                    0  Middle Age   \n",
       "\n",
       "                    promptness_category promptness_C2_category  \\\n",
       "Claim Identifier                                                 \n",
       "6165911           Between 1 and 2 weeks  Between 1 and 2 weeks   \n",
       "6166141                   1 to 3 months          1 to 3 months   \n",
       "6165907                    Until 1 week           Until 1 week   \n",
       "\n",
       "                 promptness_C3_category Zip_Code_Simplified  \\\n",
       "Claim Identifier                                              \n",
       "6165911                No form received               10466   \n",
       "6166141                No form received               11691   \n",
       "6165907                No form received               OTHER   \n",
       "\n",
       "                 Carrier Type Merged    Carrier_Name_Simplified  \\\n",
       "Claim Identifier                                                  \n",
       "6165911                      PRIVATE  INDEMNITY INSURANCE CO OF   \n",
       "6166141                      PRIVATE    A I U INSURANCE COMPANY   \n",
       "6165907                      PRIVATE                      OTHER   \n",
       "\n",
       "                 Body_Part_Category Injury_Nature_Category  \\\n",
       "Claim Identifier                                             \n",
       "6165911           Lower Extremities        Specific Injury   \n",
       "6166141                        Head        Specific Injury   \n",
       "6165907                       Trunk        Specific Injury   \n",
       "\n",
       "                            Injury_Cause_Category Industry Risk  \\\n",
       "Claim Identifier                                                  \n",
       "6165911                       Fall, Slip, or Trip  Unknown Risk   \n",
       "6166141                      Struck or Injured by  Unknown Risk   \n",
       "6165907           Striking Against or Stepping On  Unknown Risk   \n",
       "\n",
       "                  Salary_Per_Dependent  Predictions  \n",
       "Claim Identifier                                     \n",
       "6165911                     622.967985            0  \n",
       "6166141                     404.650075            0  \n",
       "6165907                     938.125909            0  "
      ]
     },
     "execution_count": 77,
     "metadata": {},
     "output_type": "execute_result"
    }
   ],
   "source": [
    "df_test.head(3)"
   ]
  },
  {
   "cell_type": "markdown",
   "metadata": {},
   "source": [
    "We will also upload the y train and y_val."
   ]
  },
  {
   "cell_type": "code",
   "execution_count": 78,
   "metadata": {},
   "outputs": [],
   "source": [
    "# Load the arrays\n",
    "y_train = np.load(\"../processed_datasets/y_train_preprocessed.npy\", allow_pickle=True)\n",
    "y_val =  np.load(\"../processed_datasets/y_train_preprocessed.npy\", allow_pickle=True)"
   ]
  },
  {
   "cell_type": "markdown",
   "metadata": {},
   "source": [
    "Let's remove the column predictions from the df_test saving in a variable y_test"
   ]
  },
  {
   "cell_type": "code",
   "execution_count": 79,
   "metadata": {},
   "outputs": [],
   "source": [
    "y_test = df_test['Predictions']\n",
    "df_test.drop('Predictions', axis=1, inplace=True)"
   ]
  },
  {
   "cell_type": "markdown",
   "metadata": {},
   "source": [
    "# 3. Setting the Target <a class=\"anchor\" id=\"chapter3\"></a>"
   ]
  },
  {
   "cell_type": "markdown",
   "metadata": {},
   "source": [
    "In this notebook, our objective is to distinguish the majority classes from the subset of the dataset where the predicted targets from Notebook 2 were identified as majority classes. Specifically, we will focus on the portion of the dataset with target labels `'2. NON-COMP'` or `'4. TEMPORARY'`. This refined selection allows us to target the classification of majority classes with greater precision."
   ]
  },
  {
   "cell_type": "code",
   "execution_count": 80,
   "metadata": {},
   "outputs": [],
   "source": [
    "#Filtering the majority classes\n",
    "X_train_2_4 = X_train[(y_train == '2. NON-COMP') | (y_train == '4. TEMPORARY')]\n",
    "\n",
    "y_train_2_4 = y_train[(y_train == '2. NON-COMP') | (y_train == '4. TEMPORARY')]"
   ]
  },
  {
   "cell_type": "markdown",
   "metadata": {},
   "source": [
    "Do the same for validation dataset."
   ]
  },
  {
   "cell_type": "code",
   "execution_count": 81,
   "metadata": {},
   "outputs": [],
   "source": [
    "#Filtering the majority classes\n",
    "X_val_2_4 = X_val[(y_val == '2. NON-COMP') | (y_val == '4. TEMPORARY')]\n",
    "\n",
    "y_val_2_4 = y_val[(y_val == '2. NON-COMP') | (y_val == '4. TEMPORARY')]"
   ]
  },
  {
   "cell_type": "markdown",
   "metadata": {},
   "source": [
    "Now, we will encode the target."
   ]
  },
  {
   "cell_type": "code",
   "execution_count": 82,
   "metadata": {},
   "outputs": [],
   "source": [
    "# Create a LabelEncoder instance\n",
    "encoder = LabelEncoder()\n",
    "\n",
    "# Encode y_train_new and y_val_new\n",
    "y_train_encoded = encoder.fit_transform(y_train_2_4)  # Fit and transform on y_train_2_4\n",
    "y_val_encoded = encoder.transform(y_val_2_4)  # Only transform on y_val_2_4"
   ]
  },
  {
   "cell_type": "code",
   "execution_count": 83,
   "metadata": {},
   "outputs": [
    {
     "name": "stdout",
     "output_type": "stream",
     "text": [
      "[0 1 1 ... 1 0 0]\n"
     ]
    },
    {
     "data": {
      "text/plain": [
       "array([1, 1, 0, ..., 0, 0, 0])"
      ]
     },
     "execution_count": 83,
     "metadata": {},
     "output_type": "execute_result"
    }
   ],
   "source": [
    "# Verify that the target is encoded \n",
    "print(f'{y_train_encoded}')\n",
    "y_val_encoded"
   ]
  },
  {
   "cell_type": "markdown",
   "metadata": {},
   "source": [
    "# 4. Feature Selection <a class=\"anchor\" id=\"chapter4\"></a>"
   ]
  },
  {
   "cell_type": "markdown",
   "metadata": {},
   "source": [
    "The feature selection process involves summarizing the essential features in the dataset to help the model focus on the most relevant information. Here, we assess the categorical and numerical variables in `X_train_processed` by examining unique values, descriptive statistics, and verifying the correctness of categorical bins and continuous feature distributions.\n",
    "\n",
    "The `X_train_processed.describe(include='O').T` command provides an overview of the categorical features in the dataset, displaying the count, unique values, top (most frequent) category, and its frequency. This summary helps us understand the distribution and cardinality of each categorical feature, which is essential for feature selection and preprocessing."
   ]
  },
  {
   "cell_type": "markdown",
   "metadata": {},
   "source": [
    "#### Descriptive Statistics for Categorical Features"
   ]
  },
  {
   "cell_type": "code",
   "execution_count": 84,
   "metadata": {},
   "outputs": [
    {
     "data": {
      "text/html": [
       "<div>\n",
       "<style scoped>\n",
       "    .dataframe tbody tr th:only-of-type {\n",
       "        vertical-align: middle;\n",
       "    }\n",
       "\n",
       "    .dataframe tbody tr th {\n",
       "        vertical-align: top;\n",
       "    }\n",
       "\n",
       "    .dataframe thead th {\n",
       "        text-align: right;\n",
       "    }\n",
       "</style>\n",
       "<table border=\"1\" class=\"dataframe\">\n",
       "  <thead>\n",
       "    <tr style=\"text-align: right;\">\n",
       "      <th></th>\n",
       "      <th>count</th>\n",
       "      <th>unique</th>\n",
       "      <th>top</th>\n",
       "      <th>freq</th>\n",
       "    </tr>\n",
       "  </thead>\n",
       "  <tbody>\n",
       "    <tr>\n",
       "      <th>Carrier Name</th>\n",
       "      <td>307445</td>\n",
       "      <td>1878</td>\n",
       "      <td>STATE INSURANCE FUND</td>\n",
       "      <td>56694</td>\n",
       "    </tr>\n",
       "    <tr>\n",
       "      <th>Carrier Type</th>\n",
       "      <td>307445</td>\n",
       "      <td>7</td>\n",
       "      <td>PRIVATE</td>\n",
       "      <td>160393</td>\n",
       "    </tr>\n",
       "    <tr>\n",
       "      <th>County of Injury</th>\n",
       "      <td>307445</td>\n",
       "      <td>63</td>\n",
       "      <td>QUEENS</td>\n",
       "      <td>30429</td>\n",
       "    </tr>\n",
       "    <tr>\n",
       "      <th>District Name</th>\n",
       "      <td>307445</td>\n",
       "      <td>8</td>\n",
       "      <td>NYC</td>\n",
       "      <td>145157</td>\n",
       "    </tr>\n",
       "    <tr>\n",
       "      <th>Gender</th>\n",
       "      <td>307445</td>\n",
       "      <td>3</td>\n",
       "      <td>M</td>\n",
       "      <td>175189</td>\n",
       "    </tr>\n",
       "    <tr>\n",
       "      <th>Medical Fee Region</th>\n",
       "      <td>307445</td>\n",
       "      <td>5</td>\n",
       "      <td>IV</td>\n",
       "      <td>139750</td>\n",
       "    </tr>\n",
       "    <tr>\n",
       "      <th>Zip Code</th>\n",
       "      <td>307445.0</td>\n",
       "      <td>8294.0</td>\n",
       "      <td>11236.0</td>\n",
       "      <td>2815.0</td>\n",
       "    </tr>\n",
       "    <tr>\n",
       "      <th>Category Combination</th>\n",
       "      <td>307445</td>\n",
       "      <td>19</td>\n",
       "      <td>PRIVATE-M</td>\n",
       "      <td>91459</td>\n",
       "    </tr>\n",
       "    <tr>\n",
       "      <th>Carrier_District_Interaction</th>\n",
       "      <td>307445</td>\n",
       "      <td>49</td>\n",
       "      <td>PRIVATE_NYC</td>\n",
       "      <td>75473</td>\n",
       "    </tr>\n",
       "    <tr>\n",
       "      <th>Income_Category</th>\n",
       "      <td>303448</td>\n",
       "      <td>5</td>\n",
       "      <td>Middle Income</td>\n",
       "      <td>121377</td>\n",
       "    </tr>\n",
       "    <tr>\n",
       "      <th>Age Group</th>\n",
       "      <td>277778</td>\n",
       "      <td>4</td>\n",
       "      <td>Young Adult</td>\n",
       "      <td>124490</td>\n",
       "    </tr>\n",
       "    <tr>\n",
       "      <th>promptness_category</th>\n",
       "      <td>307445</td>\n",
       "      <td>8</td>\n",
       "      <td>Until 1 week</td>\n",
       "      <td>128204</td>\n",
       "    </tr>\n",
       "    <tr>\n",
       "      <th>promptness_C2_category</th>\n",
       "      <td>307445</td>\n",
       "      <td>8</td>\n",
       "      <td>Until 1 week</td>\n",
       "      <td>129943</td>\n",
       "    </tr>\n",
       "    <tr>\n",
       "      <th>promptness_C3_category</th>\n",
       "      <td>307445</td>\n",
       "      <td>8</td>\n",
       "      <td>Form Not Received</td>\n",
       "      <td>227048</td>\n",
       "    </tr>\n",
       "    <tr>\n",
       "      <th>Zip_Code_Simplified</th>\n",
       "      <td>307445</td>\n",
       "      <td>51</td>\n",
       "      <td>OTHER</td>\n",
       "      <td>249600</td>\n",
       "    </tr>\n",
       "    <tr>\n",
       "      <th>Carrier Type Merged</th>\n",
       "      <td>307445</td>\n",
       "      <td>6</td>\n",
       "      <td>PRIVATE</td>\n",
       "      <td>160393</td>\n",
       "    </tr>\n",
       "    <tr>\n",
       "      <th>Carrier_Name_Simplified</th>\n",
       "      <td>307445</td>\n",
       "      <td>106</td>\n",
       "      <td>OTHER</td>\n",
       "      <td>67904</td>\n",
       "    </tr>\n",
       "    <tr>\n",
       "      <th>Body_Part_Category</th>\n",
       "      <td>300942</td>\n",
       "      <td>7</td>\n",
       "      <td>Upper Extremities</td>\n",
       "      <td>93357</td>\n",
       "    </tr>\n",
       "    <tr>\n",
       "      <th>Injury_Nature_Category</th>\n",
       "      <td>301749</td>\n",
       "      <td>4</td>\n",
       "      <td>Specific Injury</td>\n",
       "      <td>271432</td>\n",
       "    </tr>\n",
       "    <tr>\n",
       "      <th>Injury_Cause_Category</th>\n",
       "      <td>301756</td>\n",
       "      <td>11</td>\n",
       "      <td>Strain or Injury By</td>\n",
       "      <td>74703</td>\n",
       "    </tr>\n",
       "    <tr>\n",
       "      <th>Industry Risk</th>\n",
       "      <td>307445</td>\n",
       "      <td>4</td>\n",
       "      <td>Medium Risk</td>\n",
       "      <td>191075</td>\n",
       "    </tr>\n",
       "  </tbody>\n",
       "</table>\n",
       "</div>"
      ],
      "text/plain": [
       "                                 count  unique                   top    freq\n",
       "Carrier Name                    307445    1878  STATE INSURANCE FUND   56694\n",
       "Carrier Type                    307445       7               PRIVATE  160393\n",
       "County of Injury                307445      63                QUEENS   30429\n",
       "District Name                   307445       8                   NYC  145157\n",
       "Gender                          307445       3                     M  175189\n",
       "Medical Fee Region              307445       5                    IV  139750\n",
       "Zip Code                      307445.0  8294.0               11236.0  2815.0\n",
       "Category Combination            307445      19             PRIVATE-M   91459\n",
       "Carrier_District_Interaction    307445      49           PRIVATE_NYC   75473\n",
       "Income_Category                 303448       5         Middle Income  121377\n",
       "Age Group                       277778       4           Young Adult  124490\n",
       "promptness_category             307445       8          Until 1 week  128204\n",
       "promptness_C2_category          307445       8          Until 1 week  129943\n",
       "promptness_C3_category          307445       8     Form Not Received  227048\n",
       "Zip_Code_Simplified             307445      51                 OTHER  249600\n",
       "Carrier Type Merged             307445       6               PRIVATE  160393\n",
       "Carrier_Name_Simplified         307445     106                 OTHER   67904\n",
       "Body_Part_Category              300942       7     Upper Extremities   93357\n",
       "Injury_Nature_Category          301749       4       Specific Injury  271432\n",
       "Injury_Cause_Category           301756      11   Strain or Injury By   74703\n",
       "Industry Risk                   307445       4           Medium Risk  191075"
      ]
     },
     "execution_count": 84,
     "metadata": {},
     "output_type": "execute_result"
    }
   ],
   "source": [
    "# Displaying descriptive statistics for categorical features in the training dataset\n",
    "X_train_2_4.describe(include='O').T"
   ]
  },
  {
   "cell_type": "markdown",
   "metadata": {},
   "source": [
    "#### Descriptive Statistics for Numerical Features"
   ]
  },
  {
   "cell_type": "code",
   "execution_count": 85,
   "metadata": {},
   "outputs": [
    {
     "data": {
      "text/html": [
       "<div>\n",
       "<style scoped>\n",
       "    .dataframe tbody tr th:only-of-type {\n",
       "        vertical-align: middle;\n",
       "    }\n",
       "\n",
       "    .dataframe tbody tr th {\n",
       "        vertical-align: top;\n",
       "    }\n",
       "\n",
       "    .dataframe thead th {\n",
       "        text-align: right;\n",
       "    }\n",
       "</style>\n",
       "<table border=\"1\" class=\"dataframe\">\n",
       "  <thead>\n",
       "    <tr style=\"text-align: right;\">\n",
       "      <th></th>\n",
       "      <th>count</th>\n",
       "      <th>mean</th>\n",
       "      <th>std</th>\n",
       "      <th>min</th>\n",
       "      <th>25%</th>\n",
       "      <th>50%</th>\n",
       "      <th>75%</th>\n",
       "      <th>max</th>\n",
       "    </tr>\n",
       "  </thead>\n",
       "  <tbody>\n",
       "    <tr>\n",
       "      <th>Age at Injury</th>\n",
       "      <td>277778.0</td>\n",
       "      <td>42.463554</td>\n",
       "      <td>13.732722</td>\n",
       "      <td>5.000000</td>\n",
       "      <td>31.0</td>\n",
       "      <td>42.00</td>\n",
       "      <td>54.0</td>\n",
       "      <td>82.0</td>\n",
       "    </tr>\n",
       "    <tr>\n",
       "      <th>Attorney/Representative</th>\n",
       "      <td>307445.0</td>\n",
       "      <td>0.241370</td>\n",
       "      <td>0.427915</td>\n",
       "      <td>0.000000</td>\n",
       "      <td>0.0</td>\n",
       "      <td>0.00</td>\n",
       "      <td>0.0</td>\n",
       "      <td>1.0</td>\n",
       "    </tr>\n",
       "    <tr>\n",
       "      <th>Average Weekly Wage</th>\n",
       "      <td>303448.0</td>\n",
       "      <td>1209.541902</td>\n",
       "      <td>5747.811383</td>\n",
       "      <td>23.000000</td>\n",
       "      <td>838.0</td>\n",
       "      <td>1163.00</td>\n",
       "      <td>1326.0</td>\n",
       "      <td>2659398.0</td>\n",
       "    </tr>\n",
       "    <tr>\n",
       "      <th>Birth Year</th>\n",
       "      <td>277778.0</td>\n",
       "      <td>1978.402152</td>\n",
       "      <td>13.817211</td>\n",
       "      <td>1940.000000</td>\n",
       "      <td>1967.0</td>\n",
       "      <td>1979.00</td>\n",
       "      <td>1990.0</td>\n",
       "      <td>2006.0</td>\n",
       "    </tr>\n",
       "    <tr>\n",
       "      <th>COVID-19 Indicator</th>\n",
       "      <td>307445.0</td>\n",
       "      <td>0.056521</td>\n",
       "      <td>0.230925</td>\n",
       "      <td>0.000000</td>\n",
       "      <td>0.0</td>\n",
       "      <td>0.00</td>\n",
       "      <td>0.0</td>\n",
       "      <td>1.0</td>\n",
       "    </tr>\n",
       "    <tr>\n",
       "      <th>IME-4 Count</th>\n",
       "      <td>307445.0</td>\n",
       "      <td>0.651323</td>\n",
       "      <td>1.945058</td>\n",
       "      <td>0.000000</td>\n",
       "      <td>0.0</td>\n",
       "      <td>0.00</td>\n",
       "      <td>0.0</td>\n",
       "      <td>48.0</td>\n",
       "    </tr>\n",
       "    <tr>\n",
       "      <th>Industry Code</th>\n",
       "      <td>303338.0</td>\n",
       "      <td>57.699068</td>\n",
       "      <td>18.806121</td>\n",
       "      <td>11.000000</td>\n",
       "      <td>45.0</td>\n",
       "      <td>61.00</td>\n",
       "      <td>62.0</td>\n",
       "      <td>92.0</td>\n",
       "    </tr>\n",
       "    <tr>\n",
       "      <th>WCIO Cause of Injury Code</th>\n",
       "      <td>307445.0</td>\n",
       "      <td>53.367217</td>\n",
       "      <td>26.984142</td>\n",
       "      <td>0.000000</td>\n",
       "      <td>29.0</td>\n",
       "      <td>56.00</td>\n",
       "      <td>75.0</td>\n",
       "      <td>99.0</td>\n",
       "    </tr>\n",
       "    <tr>\n",
       "      <th>WCIO Nature of Injury Code</th>\n",
       "      <td>307445.0</td>\n",
       "      <td>40.550121</td>\n",
       "      <td>22.812505</td>\n",
       "      <td>0.000000</td>\n",
       "      <td>13.0</td>\n",
       "      <td>49.00</td>\n",
       "      <td>52.0</td>\n",
       "      <td>91.0</td>\n",
       "    </tr>\n",
       "    <tr>\n",
       "      <th>WCIO Part Of Body Code</th>\n",
       "      <td>307445.0</td>\n",
       "      <td>46.676404</td>\n",
       "      <td>23.670941</td>\n",
       "      <td>0.000000</td>\n",
       "      <td>35.0</td>\n",
       "      <td>42.00</td>\n",
       "      <td>55.0</td>\n",
       "      <td>101.0</td>\n",
       "    </tr>\n",
       "    <tr>\n",
       "      <th>Number of Dependents</th>\n",
       "      <td>307445.0</td>\n",
       "      <td>3.007992</td>\n",
       "      <td>2.000193</td>\n",
       "      <td>0.000000</td>\n",
       "      <td>1.0</td>\n",
       "      <td>3.00</td>\n",
       "      <td>5.0</td>\n",
       "      <td>6.0</td>\n",
       "    </tr>\n",
       "    <tr>\n",
       "      <th>Days_To_First_Hearing</th>\n",
       "      <td>307445.0</td>\n",
       "      <td>61.983691</td>\n",
       "      <td>241.939910</td>\n",
       "      <td>-429.000000</td>\n",
       "      <td>0.0</td>\n",
       "      <td>0.00</td>\n",
       "      <td>0.0</td>\n",
       "      <td>16373.0</td>\n",
       "    </tr>\n",
       "    <tr>\n",
       "      <th>Accident_Quarter</th>\n",
       "      <td>307445.0</td>\n",
       "      <td>2.504923</td>\n",
       "      <td>1.126088</td>\n",
       "      <td>1.000000</td>\n",
       "      <td>1.0</td>\n",
       "      <td>3.00</td>\n",
       "      <td>4.0</td>\n",
       "      <td>4.0</td>\n",
       "    </tr>\n",
       "    <tr>\n",
       "      <th>Accident_Year</th>\n",
       "      <td>307445.0</td>\n",
       "      <td>2020.842525</td>\n",
       "      <td>1.885296</td>\n",
       "      <td>1967.000000</td>\n",
       "      <td>2020.0</td>\n",
       "      <td>2021.00</td>\n",
       "      <td>2022.0</td>\n",
       "      <td>2023.0</td>\n",
       "    </tr>\n",
       "    <tr>\n",
       "      <th>Accident Day</th>\n",
       "      <td>307445.0</td>\n",
       "      <td>2.502119</td>\n",
       "      <td>1.811448</td>\n",
       "      <td>0.000000</td>\n",
       "      <td>1.0</td>\n",
       "      <td>2.00</td>\n",
       "      <td>4.0</td>\n",
       "      <td>6.0</td>\n",
       "    </tr>\n",
       "    <tr>\n",
       "      <th>Accident on Weekend</th>\n",
       "      <td>307445.0</td>\n",
       "      <td>0.154086</td>\n",
       "      <td>0.361032</td>\n",
       "      <td>0.000000</td>\n",
       "      <td>0.0</td>\n",
       "      <td>0.00</td>\n",
       "      <td>0.0</td>\n",
       "      <td>1.0</td>\n",
       "    </tr>\n",
       "    <tr>\n",
       "      <th>Salary_Per_Dependent</th>\n",
       "      <td>303448.0</td>\n",
       "      <td>446.689776</td>\n",
       "      <td>1825.705990</td>\n",
       "      <td>3.285714</td>\n",
       "      <td>190.5</td>\n",
       "      <td>290.75</td>\n",
       "      <td>540.0</td>\n",
       "      <td>664849.5</td>\n",
       "    </tr>\n",
       "  </tbody>\n",
       "</table>\n",
       "</div>"
      ],
      "text/plain": [
       "                               count         mean          std          min  \\\n",
       "Age at Injury               277778.0    42.463554    13.732722     5.000000   \n",
       "Attorney/Representative     307445.0     0.241370     0.427915     0.000000   \n",
       "Average Weekly Wage         303448.0  1209.541902  5747.811383    23.000000   \n",
       "Birth Year                  277778.0  1978.402152    13.817211  1940.000000   \n",
       "COVID-19 Indicator          307445.0     0.056521     0.230925     0.000000   \n",
       "IME-4 Count                 307445.0     0.651323     1.945058     0.000000   \n",
       "Industry Code               303338.0    57.699068    18.806121    11.000000   \n",
       "WCIO Cause of Injury Code   307445.0    53.367217    26.984142     0.000000   \n",
       "WCIO Nature of Injury Code  307445.0    40.550121    22.812505     0.000000   \n",
       "WCIO Part Of Body Code      307445.0    46.676404    23.670941     0.000000   \n",
       "Number of Dependents        307445.0     3.007992     2.000193     0.000000   \n",
       "Days_To_First_Hearing       307445.0    61.983691   241.939910  -429.000000   \n",
       "Accident_Quarter            307445.0     2.504923     1.126088     1.000000   \n",
       "Accident_Year               307445.0  2020.842525     1.885296  1967.000000   \n",
       "Accident Day                307445.0     2.502119     1.811448     0.000000   \n",
       "Accident on Weekend         307445.0     0.154086     0.361032     0.000000   \n",
       "Salary_Per_Dependent        303448.0   446.689776  1825.705990     3.285714   \n",
       "\n",
       "                               25%      50%     75%        max  \n",
       "Age at Injury                 31.0    42.00    54.0       82.0  \n",
       "Attorney/Representative        0.0     0.00     0.0        1.0  \n",
       "Average Weekly Wage          838.0  1163.00  1326.0  2659398.0  \n",
       "Birth Year                  1967.0  1979.00  1990.0     2006.0  \n",
       "COVID-19 Indicator             0.0     0.00     0.0        1.0  \n",
       "IME-4 Count                    0.0     0.00     0.0       48.0  \n",
       "Industry Code                 45.0    61.00    62.0       92.0  \n",
       "WCIO Cause of Injury Code     29.0    56.00    75.0       99.0  \n",
       "WCIO Nature of Injury Code    13.0    49.00    52.0       91.0  \n",
       "WCIO Part Of Body Code        35.0    42.00    55.0      101.0  \n",
       "Number of Dependents           1.0     3.00     5.0        6.0  \n",
       "Days_To_First_Hearing          0.0     0.00     0.0    16373.0  \n",
       "Accident_Quarter               1.0     3.00     4.0        4.0  \n",
       "Accident_Year               2020.0  2021.00  2022.0     2023.0  \n",
       "Accident Day                   1.0     2.00     4.0        6.0  \n",
       "Accident on Weekend            0.0     0.00     0.0        1.0  \n",
       "Salary_Per_Dependent         190.5   290.75   540.0   664849.5  "
      ]
     },
     "execution_count": 85,
     "metadata": {},
     "output_type": "execute_result"
    }
   ],
   "source": [
    "X_train_2_4.describe().T"
   ]
  },
  {
   "cell_type": "markdown",
   "metadata": {},
   "source": [
    "These features provide comprehensive information across demographics, injury details, socioeconomics, and temporal aspects, making them well-suited to predicting claim outcomes."
   ]
  },
  {
   "cell_type": "code",
   "execution_count": 86,
   "metadata": {},
   "outputs": [
    {
     "data": {
      "text/plain": [
       "Index(['Age at Injury', 'Attorney/Representative', 'Average Weekly Wage',\n",
       "       'Birth Year', 'Carrier Name', 'Carrier Type', 'County of Injury',\n",
       "       'COVID-19 Indicator', 'District Name', 'Gender', 'IME-4 Count',\n",
       "       'Industry Code', 'Medical Fee Region', 'WCIO Cause of Injury Code',\n",
       "       'WCIO Nature of Injury Code', 'WCIO Part Of Body Code', 'Zip Code',\n",
       "       'Number of Dependents', 'Category Combination',\n",
       "       'Carrier_District_Interaction', 'Income_Category',\n",
       "       'Days_To_First_Hearing', 'Accident_Quarter', 'Accident_Year',\n",
       "       'Accident Day', 'Accident on Weekend', 'Age Group',\n",
       "       'promptness_category', 'promptness_C2_category',\n",
       "       'promptness_C3_category', 'Zip_Code_Simplified', 'Carrier Type Merged',\n",
       "       'Carrier_Name_Simplified', 'Body_Part_Category',\n",
       "       'Injury_Nature_Category', 'Injury_Cause_Category', 'Industry Risk',\n",
       "       'Salary_Per_Dependent'],\n",
       "      dtype='object')"
      ]
     },
     "execution_count": 86,
     "metadata": {},
     "output_type": "execute_result"
    }
   ],
   "source": [
    "X_train_2_4.columns"
   ]
  },
  {
   "cell_type": "markdown",
   "metadata": {},
   "source": [
    "This structured feature selection summary provides insights into the main features, both categorical and numerical, used in the model. The focus on grouping, simplification, and categorization ensures the model captures the relevant patterns without unnecessary complexity."
   ]
  },
  {
   "cell_type": "markdown",
   "metadata": {},
   "source": [
    "## 4.1. Preparing Data</b> <a class=\"anchor\" id=\"section_4_1\"></a>"
   ]
  },
  {
   "cell_type": "markdown",
   "metadata": {},
   "source": [
    " ### 4.1.1. Encoding the Categorical Data<a class=\"anchor\" id=\"sub_section_4_1_1\"></a>\n",
    "\n",
    " We'll apply the Chi-squared test on categorical features to check for independence. This test is suitable for categorical data and helps identify features that have significant associations with the target variable."
   ]
  },
  {
   "cell_type": "code",
   "execution_count": 87,
   "metadata": {},
   "outputs": [],
   "source": [
    "#To make sure that we keep the preprocessed dataset without the encoded columns\n",
    "X_train_processed_copy = X_train_2_4.copy()\n",
    "X_val_processed_copy = X_val_2_4.copy()\n",
    "df_test_processed_copy = df_test.copy()"
   ]
  },
  {
   "cell_type": "markdown",
   "metadata": {},
   "source": [
    "**Approach: Encoding Categorical Features with LabelEncoder, OneHotEncoder and Frequency encoder**\n",
    "\n",
    "In our approach we decided to perform different type of encoding according with each categorical variable. For ordinal features (those with an inherent order like age groups), Label Encoding is applied to assign each category a unique numerical value. For nominal features with low cardinality (few unique values), One-Hot Encoding is used to create binary columns representing each category. For high-cardinality features (many unique values like zip codes), Frequency Encoding is applied to convert categories to their frequency of occurrence, reducing dimensionality without introducing too many columns.\n",
    "\n",
    "These encoding methods are used to properly represent categorical features in a numerical format while considering their characteristics (order or cardinality), which helps models interpret them effectively."
   ]
  },
  {
   "cell_type": "code",
   "execution_count": 88,
   "metadata": {},
   "outputs": [
    {
     "name": "stdout",
     "output_type": "stream",
     "text": [
      "Total NaN values in all  the datasets: 214376\n"
     ]
    }
   ],
   "source": [
    "# Columns to encode\n",
    "ordinal_features = ['promptness_category', 'promptness_C2_category','promptness_C3_category', 'Age Group', 'Income_Category', 'Industry Risk']\n",
    "low_cardinality_cols = ['Gender', 'Medical Fee Region','Body_Part_Category',\n",
    "       'Injury_Nature_Category', 'Injury_Cause_Category']\n",
    "high_cardinality_cols = ['Carrier_Name_Simplified', 'Zip_Code_Simplified', 'Industry Code', 'County of Injury', 'Carrier Type Merged',\n",
    "                         'WCIO Cause of Injury Code', 'WCIO Nature of Injury Code', 'WCIO Part Of Body Code','Carrier_District_Interaction', 'District Name']\n",
    "\n",
    "\n",
    "# Check for NaN or nulls\n",
    "# print(X_val_processed_copy[ordinal_features + low_cardinality_cols + high_cardinality_cols].isnull().sum())\n",
    "\n",
    "# Sum all the NaN values in the datasets\n",
    "missing_values_total = (\n",
    "    X_train_processed_copy.isnull().sum().sum() +\n",
    "    X_val_processed_copy.isnull().sum().sum() +\n",
    "    df_test_processed_copy.isnull().sum().sum()\n",
    ")\n",
    "\n",
    "print(f\"Total NaN values in all  the datasets: {missing_values_total}\")"
   ]
  },
  {
   "cell_type": "markdown",
   "metadata": {},
   "source": [
    "###ISTO DEVERÁ DAR ZERO MISSING VALYES, SE DER ENTÃO APAGAR A CELULA DE BAIXO"
   ]
  },
  {
   "cell_type": "code",
   "execution_count": 62,
   "metadata": {},
   "outputs": [
    {
     "name": "stdout",
     "output_type": "stream",
     "text": [
      "X_val_processed_copy missing values:\n",
      " Age Group                 0\n",
      "Income_Category           0\n",
      "Body_Part_Category        0\n",
      "Injury_Nature_Category    0\n",
      "Injury_Cause_Category     0\n",
      "Industry Code             0\n",
      "dtype: int64\n",
      "\n",
      "X_train_processed_copy missing values:\n",
      " Age Group                 0\n",
      "Income_Category           0\n",
      "Body_Part_Category        0\n",
      "Injury_Nature_Category    0\n",
      "Injury_Cause_Category     0\n",
      "Industry Code             0\n",
      "dtype: int64\n",
      "\n",
      "df_test_processed_copy missing values:\n",
      " Age Group                 0\n",
      "Income_Category           0\n",
      "Body_Part_Category        0\n",
      "Injury_Nature_Category    0\n",
      "Injury_Cause_Category     0\n",
      "Industry Code             0\n",
      "dtype: int64\n"
     ]
    }
   ],
   "source": [
    "# Columns with missing values\n",
    "columns_with_missing = ['Age Group', 'Income_Category', 'Body_Part_Category', \n",
    "                        'Injury_Nature_Category', 'Injury_Cause_Category', 'Industry Code']\n",
    "\n",
    "# Function to replace missing values with mode\n",
    "def replace_missing_with_mode(df, columns):\n",
    "    for col in columns:\n",
    "        mode_value = df[col].mode()[0]  # Calculate mode for the column\n",
    "        df[col].fillna(mode_value, inplace=True)  # Replace missing values with mode\n",
    "\n",
    "# Apply the function to all datasets\n",
    "replace_missing_with_mode(X_val_processed_copy, columns_with_missing)\n",
    "replace_missing_with_mode(X_train_processed_copy, columns_with_missing)\n",
    "replace_missing_with_mode(df_test_processed_copy, columns_with_missing)\n",
    "\n",
    "# Verify that missing values have been replaced\n",
    "print(\"X_val_processed_copy missing values:\\n\", X_val_processed_copy[columns_with_missing].isnull().sum())\n",
    "print(\"\\nX_train_processed_copy missing values:\\n\", X_train_processed_copy[columns_with_missing].isnull().sum())\n",
    "print(\"\\ndf_test_processed_copy missing values:\\n\", df_test_processed_copy[columns_with_missing].isnull().sum())"
   ]
  },
  {
   "cell_type": "code",
   "execution_count": 66,
   "metadata": {},
   "outputs": [
    {
     "name": "stdout",
     "output_type": "stream",
     "text": [
      "Total NaN values in all  the datasets: 103121\n"
     ]
    }
   ],
   "source": [
    "# Sum all the NaN values in the datasets\n",
    "missing_values_total = (\n",
    "    X_train_processed_copy.isnull().sum().sum() +\n",
    "    X_val_processed_copy.isnull().sum().sum() +\n",
    "    df_test_processed_copy.isnull().sum().sum()\n",
    ")\n",
    "\n",
    "print(f\"Total NaN values in all  the datasets: {missing_values_total}\")"
   ]
  },
  {
   "cell_type": "code",
   "execution_count": null,
   "metadata": {},
   "outputs": [],
   "source": [
    "#For now since the pre processing isnt finish lets replace nan by 0 the row tha has nan vlaues\n",
    "X_train_processed_copy = X_train_processed_copy.fillna(0)"
   ]
  },
  {
   "cell_type": "code",
   "execution_count": null,
   "metadata": {},
   "outputs": [
    {
     "name": "stdout",
     "output_type": "stream",
     "text": [
      "Processing ordinal feature: promptness_category\n",
      "Processing ordinal feature: promptness_C2_category\n",
      "Processing ordinal feature: promptness_C3_category\n",
      "Processing ordinal feature: Age Group\n",
      "Processing ordinal feature: Income_Category\n",
      "Processing ordinal feature: Industry Risk\n",
      "\n",
      "Processing low-cardinality features for One-Hot Encoding...\n",
      "\n",
      "Processing high-cardinality features for Frequency Encoding...\n",
      "Encoding high-cardinality feature: Carrier_Name_Simplified\n",
      "Encoding high-cardinality feature: Zip_Code_Simplified\n",
      "Encoding high-cardinality feature: Industry Code\n",
      "Encoding high-cardinality feature: County of Injury\n",
      "Encoding high-cardinality feature: Carrier Type Merged\n",
      "Encoding high-cardinality feature: WCIO Cause of Injury Code\n",
      "Encoding high-cardinality feature: WCIO Nature of Injury Code\n",
      "Encoding high-cardinality feature: WCIO Part Of Body Code\n",
      "Encoding high-cardinality feature: Carrier_District_Interaction\n",
      "Encoding high-cardinality feature: District Name\n",
      "\n",
      "Summary of encoded datasets:\n",
      "Final X_train_final shape: (306375, 58)\n",
      "Final X_val_final shape: (131876, 58)\n",
      "Final X_test_final shape: (387975, 57)\n"
     ]
    }
   ],
   "source": [
    "from sklearn.preprocessing import OneHotEncoder, LabelEncoder\n",
    "import pandas as pd\n",
    "\n",
    "# Step 1: Label Encode ordinal features (features with intrinsic order)\n",
    "label_encoder_1 = LabelEncoder()\n",
    "for col in ordinal_features:\n",
    "    # Ensure input is a column from the DataFrame\n",
    "    print(f\"Processing ordinal feature: {col}\")\n",
    "    X_train_processed_copy[col] = label_encoder_1.fit_transform(X_train_processed_copy[col])\n",
    "    X_val_processed_copy[col] = label_encoder_1.transform(X_val_processed_copy[col])\n",
    "    df_test_processed_copy[col] = label_encoder_1.transform(df_test_processed_copy[col])\n",
    "\n",
    "# Step 2: One-Hot Encode low-cardinality nominal features\n",
    "print(\"\\nProcessing low-cardinality features for One-Hot Encoding...\")\n",
    "one_hot_encoder = OneHotEncoder(drop='first', handle_unknown='ignore')  # Corrected argument\n",
    "\n",
    "# Extract the subset of low-cardinality columns\n",
    "low_cardinality_train = X_train_processed_copy[low_cardinality_cols]\n",
    "low_cardinality_val = X_val_processed_copy[low_cardinality_cols]\n",
    "low_cardinality_test = df_test_processed_copy[low_cardinality_cols]\n",
    "\n",
    "# Apply One-Hot Encoding and convert sparse matrix to dense\n",
    "one_hot_encoded_train = one_hot_encoder.fit_transform(low_cardinality_train).toarray()\n",
    "one_hot_encoded_val = one_hot_encoder.transform(low_cardinality_val).toarray()\n",
    "one_hot_encoded_test = one_hot_encoder.transform(low_cardinality_test).toarray()\n",
    "\n",
    "# Get feature names for the encoded columns\n",
    "feature_names = one_hot_encoder.get_feature_names_out(low_cardinality_cols)\n",
    "\n",
    "# Convert One-Hot Encoded arrays to DataFrames with correct index and columns\n",
    "one_hot_encoded_train_df = pd.DataFrame(one_hot_encoded_train, columns=feature_names, index=low_cardinality_train.index)\n",
    "one_hot_encoded_val_df = pd.DataFrame(one_hot_encoded_val, columns=feature_names, index=low_cardinality_val.index)\n",
    "one_hot_encoded_test_df = pd.DataFrame(one_hot_encoded_test, columns=feature_names, index=low_cardinality_test.index)\n",
    "\n",
    "# Concatenate with original datasets\n",
    "X_train_processed_copy = pd.concat([X_train_processed_copy, one_hot_encoded_train_df], axis=1)\n",
    "X_val_processed_copy = pd.concat([X_val_processed_copy, one_hot_encoded_val_df], axis=1)\n",
    "df_test_processed_copy = pd.concat([df_test_processed_copy, one_hot_encoded_test_df], axis=1)\n",
    "\n",
    "# Drop original low-cardinality columns\n",
    "X_train_processed_copy.drop(columns=low_cardinality_cols, inplace=True)\n",
    "X_val_processed_copy.drop(columns=low_cardinality_cols, inplace=True)\n",
    "df_test_processed_copy.drop(columns=low_cardinality_cols, inplace=True)\n",
    "\n",
    "# Step 3: Frequency Encoding for high-cardinality nominal features\n",
    "print(\"\\nProcessing high-cardinality features for Frequency Encoding...\")\n",
    "for col in high_cardinality_cols:\n",
    "    print(f\"Encoding high-cardinality feature: {col}\")\n",
    "    # Frequency count based on the training data\n",
    "    freq = X_train_processed_copy[col].value_counts()\n",
    "    # Apply mapping to all datasets\n",
    "    X_train_processed_copy[f\"{col}_freq\"] = X_train_processed_copy[col].map(freq).fillna(0)\n",
    "    X_val_processed_copy[f\"{col}_freq\"] = X_val_processed_copy[col].map(freq).fillna(0)\n",
    "    df_test_processed_copy[f\"{col}_freq\"] = df_test_processed_copy[col].map(freq).fillna(0)\n",
    "\n",
    "# Drop original high-cardinality columns\n",
    "X_train_processed_copy.drop(columns=high_cardinality_cols, inplace=True)\n",
    "X_val_processed_copy.drop(columns=high_cardinality_cols, inplace=True)\n",
    "df_test_processed_copy.drop(columns=high_cardinality_cols, inplace=True)\n",
    "\n",
    "# Final datasets after encoding\n",
    "X_train_final = X_train_processed_copy.copy()\n",
    "X_val_final = X_val_processed_copy.copy()\n",
    "X_test_final = df_test_processed_copy.copy()\n",
    "\n",
    "# Summary\n",
    "print(\"\\nSummary of encoded datasets:\")\n",
    "print(\"Final X_train_final shape:\", X_train_final.shape)\n",
    "print(\"Final X_val_final shape:\", X_val_final.shape)\n",
    "print(\"Final X_test_final shape:\", X_test_final.shape)"
   ]
  },
  {
   "cell_type": "markdown",
   "metadata": {},
   "source": [
    "**Why Are There Missing Values (NaN) in Validation and Test Sets?**\n",
    "\n",
    "During the encoding process, missing values (NaN) may appear in the validation and test sets because certain categories that exist in these sets might not be present in the training set. For instance, during frequency encoding, if a category exists only in the validation or test set but not in the training set, it will result in missing values when encoding those rows.\n",
    "\n",
    "To address this, we can fill these missing values with a placeholder such as `0`, ensuring consistent feature representation across all datasets, for now. For next deliverable we will try to implement better approaches."
   ]
  },
  {
   "cell_type": "code",
   "execution_count": null,
   "metadata": {},
   "outputs": [
    {
     "name": "stdout",
     "output_type": "stream",
     "text": [
      "Total NaN sum: 0\n"
     ]
    }
   ],
   "source": [
    "# Summing all the NaN values in the datasets\n",
    "missing_values_total = (\n",
    "    X_train_processed_copy.isnull().sum().sum() +\n",
    "    X_val_processed_copy.isnull().sum().sum() +\n",
    "    df_test_processed_copy.isnull().sum().sum()\n",
    ")\n",
    "\n",
    "print(f\"Total NaN sum: {missing_values_total}\")"
   ]
  },
  {
   "cell_type": "code",
   "execution_count": null,
   "metadata": {},
   "outputs": [],
   "source": [
    "#Prepare final dataset for MIC and χ² analysis\n",
    "# Use only the encoded features for the MIC and chi-squared tests\n",
    "mic_chi2_features = binary_columns + ordinal_features + list(one_hot_encoded_train_df.columns) + [f\"{col}_freq\" for col in high_cardinality_cols]\n",
    "X_train_mic_chi2 = X_train_processed_copy[mic_chi2_features]"
   ]
  },
  {
   "cell_type": "code",
   "execution_count": null,
   "metadata": {},
   "outputs": [
    {
     "data": {
      "text/plain": [
       "44"
      ]
     },
     "metadata": {},
     "output_type": "display_data"
    }
   ],
   "source": [
    "len(X_train_mic_chi2.columns)"
   ]
  },
  {
   "cell_type": "code",
   "execution_count": null,
   "metadata": {},
   "outputs": [
    {
     "data": {
      "text/plain": [
       "Index(['Attorney/Representative', 'COVID-19 Indicator', 'Accident on Weekend',\n",
       "       'promptness_category', 'promptness_C2_category',\n",
       "       'promptness_C3_category', 'Age Group', 'Income_Category',\n",
       "       'Industry Risk', 'Gender_M', 'Gender_U', 'Medical Fee Region_II',\n",
       "       'Medical Fee Region_III', 'Medical Fee Region_IV',\n",
       "       'Medical Fee Region_UK', 'Body_Part_Category_Lower Extremities',\n",
       "       'Body_Part_Category_Multiple Body Parts', 'Body_Part_Category_Neck',\n",
       "       'Body_Part_Category_NonClassificable', 'Body_Part_Category_Trunk',\n",
       "       'Body_Part_Category_Upper Extremities',\n",
       "       'Injury_Nature_Category_Multiple Injuries',\n",
       "       'Injury_Nature_Category_Occupational Disease or Cumulative Injury',\n",
       "       'Injury_Nature_Category_Specific Injury',\n",
       "       'Injury_Cause_Category_COVID-19 Injury',\n",
       "       'Injury_Cause_Category_Caught In, Under, or Between',\n",
       "       'Injury_Cause_Category_Cut, Puncture, Scrape',\n",
       "       'Injury_Cause_Category_Fall, Slip, or Trip',\n",
       "       'Injury_Cause_Category_Miscellaneous Causes',\n",
       "       'Injury_Cause_Category_Motor Vehicle',\n",
       "       'Injury_Cause_Category_Rubbed or Abraded by',\n",
       "       'Injury_Cause_Category_Strain or Injury By',\n",
       "       'Injury_Cause_Category_Striking Against or Stepping On',\n",
       "       'Injury_Cause_Category_Struck or Injured by',\n",
       "       'Carrier_Name_Simplified_freq', 'Zip_Code_Simplified_freq',\n",
       "       'Industry Code_freq', 'County of Injury_freq',\n",
       "       'Carrier Type Merged_freq', 'WCIO Cause of Injury Code_freq',\n",
       "       'WCIO Nature of Injury Code_freq', 'WCIO Part Of Body Code_freq',\n",
       "       'Carrier_District_Interaction_freq', 'District Name_freq'],\n",
       "      dtype='object')"
      ]
     },
     "metadata": {},
     "output_type": "display_data"
    }
   ],
   "source": [
    "X_train_mic_chi2.columns"
   ]
  },
  {
   "cell_type": "markdown",
   "metadata": {},
   "source": [
    "### 4.1.2. Scaling the Numerical Data  <a class=\"anchor\" id=\"sub_section_4_1_2\"></a>\n",
    "\n",
    "**Converting Discrete Columns to Integer**\n",
    "\n",
    "In this step, we ensure all discrete columns are converted to integer data types across the training, validation, and test datasets. This is crucial for consistent data handling and processing in subsequent steps."
   ]
  },
  {
   "cell_type": "code",
   "execution_count": 201,
   "metadata": {},
   "outputs": [],
   "source": [
    "# Convert discrete columns to integer\n",
    "for column in discrete_columns:\n",
    "    X_train_2_4[column] = X_train[column].astype(int)\n",
    "    X_val_2_4[column] = X_val[column].astype(int)\n",
    "    df_test[column] = df_test[column].astype(int)"
   ]
  },
  {
   "cell_type": "markdown",
   "metadata": {},
   "source": [
    "**Scaling Features**\n",
    "\n",
    "We apply the RobustScaler to the discrete columns. RobustScaler is beneficial for data containing outliers, as it scales data based on the median and interquartile range. This helps normalize the distribution without being heavily affected by outliers. We also use the same scaler to transform validation and test data."
   ]
  },
  {
   "cell_type": "code",
   "execution_count": 202,
   "metadata": {},
   "outputs": [
    {
     "data": {
      "text/plain": [
       "(306375, 38)"
      ]
     },
     "execution_count": 202,
     "metadata": {},
     "output_type": "execute_result"
    }
   ],
   "source": [
    "X_train_2_4.shape"
   ]
  },
  {
   "cell_type": "code",
   "execution_count": 203,
   "metadata": {},
   "outputs": [
    {
     "data": {
      "text/html": [
       "<div>\n",
       "<style scoped>\n",
       "    .dataframe tbody tr th:only-of-type {\n",
       "        vertical-align: middle;\n",
       "    }\n",
       "\n",
       "    .dataframe tbody tr th {\n",
       "        vertical-align: top;\n",
       "    }\n",
       "\n",
       "    .dataframe thead th {\n",
       "        text-align: right;\n",
       "    }\n",
       "</style>\n",
       "<table border=\"1\" class=\"dataframe\">\n",
       "  <thead>\n",
       "    <tr style=\"text-align: right;\">\n",
       "      <th></th>\n",
       "      <th>Number of Dependents</th>\n",
       "      <th>IME-4 Count</th>\n",
       "      <th>Accident_Quarter</th>\n",
       "      <th>Accident_Year</th>\n",
       "      <th>Accident Day</th>\n",
       "      <th>Days_To_First_Hearing</th>\n",
       "      <th>Average Weekly Wage</th>\n",
       "      <th>Age at Injury</th>\n",
       "      <th>Salary_Per_Dependent</th>\n",
       "    </tr>\n",
       "    <tr>\n",
       "      <th>Claim Identifier</th>\n",
       "      <th></th>\n",
       "      <th></th>\n",
       "      <th></th>\n",
       "      <th></th>\n",
       "      <th></th>\n",
       "      <th></th>\n",
       "      <th></th>\n",
       "      <th></th>\n",
       "      <th></th>\n",
       "    </tr>\n",
       "  </thead>\n",
       "  <tbody>\n",
       "    <tr>\n",
       "      <th>5479022</th>\n",
       "      <td>0.500000</td>\n",
       "      <td>0.000000</td>\n",
       "      <td>0.333333</td>\n",
       "      <td>0.946429</td>\n",
       "      <td>0.166667</td>\n",
       "      <td>0.025765</td>\n",
       "      <td>0.000298</td>\n",
       "      <td>0.125000</td>\n",
       "      <td>0.000302</td>\n",
       "    </tr>\n",
       "    <tr>\n",
       "      <th>6023025</th>\n",
       "      <td>0.333333</td>\n",
       "      <td>0.083333</td>\n",
       "      <td>0.333333</td>\n",
       "      <td>0.982143</td>\n",
       "      <td>0.166667</td>\n",
       "      <td>0.032369</td>\n",
       "      <td>0.000404</td>\n",
       "      <td>0.312500</td>\n",
       "      <td>0.000545</td>\n",
       "    </tr>\n",
       "    <tr>\n",
       "      <th>5851908</th>\n",
       "      <td>0.500000</td>\n",
       "      <td>0.041667</td>\n",
       "      <td>0.333333</td>\n",
       "      <td>0.964286</td>\n",
       "      <td>0.333333</td>\n",
       "      <td>0.065869</td>\n",
       "      <td>0.000226</td>\n",
       "      <td>0.390625</td>\n",
       "      <td>0.000229</td>\n",
       "    </tr>\n",
       "    <tr>\n",
       "      <th>5913931</th>\n",
       "      <td>0.166667</td>\n",
       "      <td>0.041667</td>\n",
       "      <td>0.000000</td>\n",
       "      <td>0.982143</td>\n",
       "      <td>0.500000</td>\n",
       "      <td>0.042663</td>\n",
       "      <td>0.000383</td>\n",
       "      <td>0.671875</td>\n",
       "      <td>0.000779</td>\n",
       "    </tr>\n",
       "  </tbody>\n",
       "</table>\n",
       "</div>"
      ],
      "text/plain": [
       "                  Number of Dependents  IME-4 Count  Accident_Quarter  \\\n",
       "Claim Identifier                                                        \n",
       "5479022                       0.500000     0.000000          0.333333   \n",
       "6023025                       0.333333     0.083333          0.333333   \n",
       "5851908                       0.500000     0.041667          0.333333   \n",
       "5913931                       0.166667     0.041667          0.000000   \n",
       "\n",
       "                  Accident_Year  Accident Day  Days_To_First_Hearing  \\\n",
       "Claim Identifier                                                       \n",
       "5479022                0.946429      0.166667               0.025765   \n",
       "6023025                0.982143      0.166667               0.032369   \n",
       "5851908                0.964286      0.333333               0.065869   \n",
       "5913931                0.982143      0.500000               0.042663   \n",
       "\n",
       "                  Average Weekly Wage  Age at Injury  Salary_Per_Dependent  \n",
       "Claim Identifier                                                            \n",
       "5479022                      0.000298       0.125000              0.000302  \n",
       "6023025                      0.000404       0.312500              0.000545  \n",
       "5851908                      0.000226       0.390625              0.000229  \n",
       "5913931                      0.000383       0.671875              0.000779  "
      ]
     },
     "execution_count": 203,
     "metadata": {},
     "output_type": "execute_result"
    }
   ],
   "source": [
    "#scaling features\n",
    "from sklearn.preprocessing import MinMaxScaler\n",
    "feat_scaler = MinMaxScaler()\n",
    "X_train_2_4[discrete_columns + continuous_columns] = feat_scaler.fit_transform(X_train_2_4[discrete_columns + continuous_columns])\n",
    "\n",
    "X_train_num_scaled = X_train_2_4[discrete_columns + continuous_columns]\n",
    "\n",
    "#apply same transformation for val data\n",
    "X_val_2_4[discrete_columns + continuous_columns] = feat_scaler.transform(X_val_2_4[discrete_columns + continuous_columns])\n",
    "\n",
    "X_val_num_scaled = X_val_2_4[discrete_columns + continuous_columns]\n",
    "\n",
    "#apply same transformation for test data\n",
    "df_test_num_scaled = feat_scaler.transform(df_test[discrete_columns + continuous_columns])\n",
    "\n",
    "#X_val, X_train\n",
    "X_train_num_scaled.head(4)"
   ]
  },
  {
   "cell_type": "markdown",
   "metadata": {},
   "source": [
    "**Variance Check After Scaling**\n",
    "\n",
    "After scaling, we check the variance of each scaled feature to confirm that the features have been scaled properly. Lower variance after scaling indicates that data is normalized and less affected by magnitude differences."
   ]
  },
  {
   "cell_type": "code",
   "execution_count": 204,
   "metadata": {},
   "outputs": [
    {
     "data": {
      "text/plain": [
       "Number of Dependents     0.111140\n",
       "IME-4 Count              0.001647\n",
       "Accident_Quarter         0.140934\n",
       "Accident_Year            0.001100\n",
       "Accident Day             0.092573\n",
       "Days_To_First_Hearing    0.000206\n",
       "Average Weekly Wage      0.000005\n",
       "Age at Injury            0.041369\n",
       "Salary_Per_Dependent     0.000007\n",
       "dtype: float64"
      ]
     },
     "execution_count": 204,
     "metadata": {},
     "output_type": "execute_result"
    }
   ],
   "source": [
    "# Check variance of scaled data\n",
    "X_train_num_scaled.var()"
   ]
  },
  {
   "cell_type": "markdown",
   "metadata": {},
   "source": [
    "The output shows the variance of each discrete column in the scaled training set. These values help validate that the scaling process has achieved a consistent data distribution across features."
   ]
  },
  {
   "cell_type": "markdown",
   "metadata": {},
   "source": [
    " ### 4.1.3. Feature Categories <a class=\"anchor\" id=\"sub_section_4_1_3\"></a>\n",
    "\n",
    "The features have been organized into three main categories: **Categorical Features**, **Binary Features**, and **Discrete Features**. Each category represents a different data type or structure, allowing for tailored preprocessing steps and analysis."
   ]
  },
  {
   "cell_type": "code",
   "execution_count": null,
   "metadata": {},
   "outputs": [
    {
     "data": {
      "text/plain": [
       "Index(['Age at Injury', 'Attorney/Representative', 'Average Weekly Wage',\n",
       "       'Birth Year', 'Carrier Name', 'Carrier Type', 'County of Injury',\n",
       "       'COVID-19 Indicator', 'District Name', 'Gender', 'IME-4 Count',\n",
       "       'Industry Code', 'Medical Fee Region', 'WCIO Cause of Injury Code',\n",
       "       'WCIO Nature of Injury Code', 'WCIO Part Of Body Code', 'Zip Code',\n",
       "       'Number of Dependents', 'Category Combination',\n",
       "       'Carrier_District_Interaction', 'Income_Category',\n",
       "       'Days_To_First_Hearing', 'Accident_Quarter', 'Accident_Year',\n",
       "       'Accident Day', 'Accident on Weekend', 'Age Group',\n",
       "       'promptness_category', 'promptness_C2_category',\n",
       "       'promptness_C3_category', 'Zip_Code_Simplified', 'Carrier Type Merged',\n",
       "       'Carrier_Name_Simplified', 'Body_Part_Category',\n",
       "       'Injury_Nature_Category', 'Injury_Cause_Category', 'Industry Risk',\n",
       "       'Salary_Per_Dependent'],\n",
       "      dtype='object')"
      ]
     },
     "metadata": {},
     "output_type": "display_data"
    }
   ],
   "source": [
    "X_train_2_4.columns"
   ]
  },
  {
   "cell_type": "code",
   "execution_count": null,
   "metadata": {},
   "outputs": [
    {
     "name": "stdout",
     "output_type": "stream",
     "text": [
      "Categorical Features: ['Carrier Name', 'Carrier Type', 'County of Injury', 'District Name', 'Gender', 'IME-4 Count', 'Industry Code', 'Medical Fee Region', 'WCIO Cause of Injury Code', 'WCIO Nature of Injury Code', 'WCIO Part Of Body Code', 'Zip Code', 'Carrier_District_Interaction', 'Income_Category', 'Age Group', 'promptness_category', 'promptness_C2_category', 'promptness_C3_category', 'Zip_Code_Simplified', 'Carrier Type Merged', 'Carrier_Name_Simplified', 'Body_Part_Category', 'Injury_Nature_Category', 'Injury_Cause_Category', 'Industry Risk']\n",
      "Binary Features: ['Attorney/Representative', 'COVID-19 Indicator', 'Accident on Weekend']\n",
      "Discrete Features: ['Number of Dependents', 'IME-4 Count', 'Accident_Quarter', 'Accident_Year', 'Accident Day']\n",
      "Continuous Features: ['Days_To_First_Hearing', 'Average Weekly Wage', 'Age at Injury', 'Salary_Per_Dependent']\n"
     ]
    }
   ],
   "source": [
    "# Updating the feature categories with the new columns created\n",
    "categorical_columns = ['Carrier Name', 'Carrier Type', 'County of Injury',\n",
    "       'District Name', 'Gender', 'IME-4 Count',\n",
    "       'Industry Code', 'Medical Fee Region', 'WCIO Cause of Injury Code',\n",
    "       'WCIO Nature of Injury Code', 'WCIO Part Of Body Code', 'Zip Code',\n",
    "    'Carrier_District_Interaction',\n",
    "       'Income_Category', 'Age Group',\n",
    "       'promptness_category', 'promptness_C2_category','promptness_C3_category', 'Zip_Code_Simplified',\n",
    "       'Carrier Type Merged', 'Carrier_Name_Simplified', 'Body_Part_Category',\n",
    "       'Injury_Nature_Category', 'Injury_Cause_Category', 'Industry Risk',\n",
    "]\n",
    "\n",
    "binary_columns = [\n",
    "    'Attorney/Representative', 'COVID-19 Indicator',\n",
    "     'Accident on Weekend'\n",
    "]\n",
    "\n",
    "discrete_columns = [ 'Number of Dependents', 'IME-4 Count',\n",
    "    'Accident_Quarter', 'Accident_Year', 'Accident Day'\n",
    "]\n",
    "\n",
    "continuous_columns = ['Days_To_First_Hearing','Average Weekly Wage','Age at Injury',\n",
    "                      'Salary_Per_Dependent'\n",
    "                      ]\n",
    "\n",
    "# Printing the feature categories\n",
    "print(\"Categorical Features:\", categorical_columns)\n",
    "print(\"Binary Features:\", binary_columns)\n",
    "print(\"Discrete Features:\", discrete_columns)\n",
    "print(\"Continuous Features:\", continuous_columns)"
   ]
  },
  {
   "cell_type": "markdown",
   "metadata": {},
   "source": [
    " ## 4.2. Numerical Features</b> <a class=\"anchor\" id=\"section_4_2\"></a>\n",
    "### 4.2.1. Spearman Correlation Matrix <a class=\"anchor\" id=\"sub_section_4_2_1\"></a>\n",
    "\n",
    "To better understand the relationships between numerical features, we generate Spearman and Pearson correlation matrices. Correlation matrices help identify linear and monotonic relationships between variables, which can be useful in feature selection and engineering."
   ]
  },
  {
   "cell_type": "markdown",
   "metadata": {},
   "source": [
    "##### Correlation Heatmap Function\n",
    "The `cor_heatmap` function displays a heatmap of a given correlation matrix. We set various visual parameters to enhance readability:\n",
    "- **figsize**: Sets the figure size.\n",
    "- **cmap**: Chooses the color palette ('viridis').\n",
    "- **mask**: Hides the upper triangle of the matrix for clarity."
   ]
  },
  {
   "cell_type": "code",
   "execution_count": 205,
   "metadata": {},
   "outputs": [],
   "source": [
    "from utils import cor_heatmap"
   ]
  },
  {
   "cell_type": "markdown",
   "metadata": {},
   "source": [
    "#### Spearman Correlation Calculation and Plotting\n",
    "Here, we calculate the Spearman correlation on the scaled numerical features and then plot the resulting matrix."
   ]
  },
  {
   "cell_type": "code",
   "execution_count": 206,
   "metadata": {},
   "outputs": [
    {
     "data": {
      "image/png": "[encoded data removed]",
      "text/plain": [
       "<Figure size 1800x1200 with 2 Axes>"
      ]
     },
     "metadata": {},
     "output_type": "display_data"
    }
   ],
   "source": [
    "corr_data_numerical = X_train_num_scaled \n",
    "cor_spearman = corr_data_numerical.corr(method='spearman')\n",
    "\n",
    "cor_heatmap(cor_spearman, 'Spearman')"
   ]
  },
  {
   "cell_type": "markdown",
   "metadata": {},
   "source": [
    "### 4.2.2. LASSO Regression <a class=\"anchor\" id=\"sub_section_4_2_2\"></a>\n",
    "\n",
    " The LASSO (Least Absolute Shrinkage and Selection Operator) regression is used here for feature selection by fitting a model to the standardized dataset and analyzing the coefficients."
   ]
  },
  {
   "cell_type": "code",
   "execution_count": 208,
   "metadata": {},
   "outputs": [
    {
     "data": {
      "text/plain": [
       "(306375, 9)"
      ]
     },
     "execution_count": 208,
     "metadata": {},
     "output_type": "execute_result"
    }
   ],
   "source": [
    "X_train_num_scaled.shape"
   ]
  },
  {
   "cell_type": "code",
   "execution_count": 209,
   "metadata": {},
   "outputs": [
    {
     "data": {
      "text/plain": [
       "Accident_Year           -0.137975\n",
       "Accident Day            -0.003124\n",
       "Number of Dependents    -0.001939\n",
       "Accident_Quarter        -0.000142\n",
       "Average Weekly Wage      0.000000\n",
       "Salary_Per_Dependent     0.000000\n",
       "Age at Injury            0.097836\n",
       "IME-4 Count              4.656509\n",
       "Days_To_First_Hearing    5.383232\n",
       "dtype: float64"
      ]
     },
     "execution_count": 209,
     "metadata": {},
     "output_type": "execute_result"
    }
   ],
   "source": [
    "# Fit regression\n",
    "reg = LassoCV().fit(X_train_num_scaled, y_train_encoded)\n",
    "#get coefficients\n",
    "coef = pd.Series(reg.coef_, index = X_train_num_scaled.columns)\n",
    "# Sort coefficients to observe importance\n",
    "coef.sort_values()"
   ]
  },
  {
   "cell_type": "markdown",
   "metadata": {},
   "source": [
    "**Observations:**\n",
    "\n",
    "The LASSO model assigns non-zero coefficients only to the features it considers important.\n",
    "\n",
    "IME-4 Count has the highest positive coefficient, indicating a strong positive relationship with the target variable, as well as Days_To_First_Hearing\n",
    "\n",
    "\n",
    "Accident Day and Accident Quarter have smaller negative coefficients, implying a weaker inverse relationship with the target.\n",
    "\n",
    "Average Weekly Wage and Number of Dependents has close to zero impact, suggesting it may not be a significant predictor in the model."
   ]
  },
  {
   "cell_type": "code",
   "execution_count": 210,
   "metadata": {},
   "outputs": [],
   "source": [
    "from utils import plot_importance, cor_heatmap"
   ]
  },
  {
   "cell_type": "markdown",
   "metadata": {},
   "source": [
    "This function generates a horizontal bar plot of the feature importance values derived from the LASSO model, helping to visualize which features are prioritized by the model."
   ]
  },
  {
   "cell_type": "code",
   "execution_count": 211,
   "metadata": {},
   "outputs": [
    {
     "data": {
      "image/png": "[encoded data removed]",
      "text/plain": [
       "<Figure size 300x500 with 1 Axes>"
      ]
     },
     "metadata": {},
     "output_type": "display_data"
    }
   ],
   "source": [
    "plot_importance(coef,'Lasso')"
   ]
  },
  {
   "cell_type": "markdown",
   "metadata": {},
   "source": [
    "### 4.2.3. Recursive Feature Elimination - RFE <a class=\"anchor\" id=\"sub_section_4_2_3\"></a>\n",
    "\n",
    " RFE is employed here to further validate the important features as identified by LASSO. By sequentially removing the least important features, RFE helps to refine the feature set."
   ]
  },
  {
   "cell_type": "code",
   "execution_count": 212,
   "metadata": {},
   "outputs": [
    {
     "name": "stdout",
     "output_type": "stream",
     "text": [
      "Optimum number of features: 2\n",
      "F1 Macro Score with 2 features: 0.759367\n"
     ]
    }
   ],
   "source": [
    "# RFE using Logistic Regression\n",
    "model = LogisticRegression()\n",
    "\n",
    "#Use the function defined in utils.py\n",
    "best_features, best_score, scores = find_optimal_features_with_rfe(\n",
    "    model, \n",
    "    X_train_num_scaled, \n",
    "    y_train_encoded, \n",
    "    X_val_num_scaled, \n",
    "    y_val_encoded,\n",
    "    max_features=9\n",
    ")\n"
   ]
  },
  {
   "cell_type": "markdown",
   "metadata": {},
   "source": [
    "**Observations:**\n",
    "\n",
    "The loop evaluates models with 1 to 9 features, tracking the score for each.\n",
    "\n",
    "The output indicates that 2 features yielded the highest validation f1_score score of 0.759367."
   ]
  },
  {
   "cell_type": "markdown",
   "metadata": {},
   "source": [
    "#### Applying RFE with the Optimal Number of Features\n",
    "Once the optimal number of features is identified, the RFE model is finalized with this configuration."
   ]
  },
  {
   "cell_type": "code",
   "execution_count": 213,
   "metadata": {},
   "outputs": [],
   "source": [
    "#rfscv- to select 1st the number of features we should select\n",
    "model = LogisticRegression()\n",
    "rfe = RFE(estimator = model, n_features_to_select = 2)"
   ]
  },
  {
   "cell_type": "code",
   "execution_count": 214,
   "metadata": {},
   "outputs": [],
   "source": [
    "X_rfe= rfe.fit_transform(X=X_train_num_scaled, y=y_train_encoded)"
   ]
  },
  {
   "cell_type": "markdown",
   "metadata": {},
   "source": [
    "This shows the results of the feature selection process, listing the features selected by RFE. The code snippet confirms which features were selected as relevant by the RFE model and displays them in a boolean Series, where True indicates the feature was selected and False means it was not."
   ]
  },
  {
   "cell_type": "code",
   "execution_count": 215,
   "metadata": {},
   "outputs": [
    {
     "data": {
      "text/plain": [
       "Number of Dependents     False\n",
       "IME-4 Count               True\n",
       "Accident_Quarter         False\n",
       "Accident_Year            False\n",
       "Accident Day             False\n",
       "Days_To_First_Hearing     True\n",
       "Average Weekly Wage      False\n",
       "Age at Injury            False\n",
       "Salary_Per_Dependent     False\n",
       "dtype: bool"
      ]
     },
     "execution_count": 215,
     "metadata": {},
     "output_type": "execute_result"
    }
   ],
   "source": [
    "selected_features = pd.Series(rfe.support_, index = X_train_num_scaled.columns)\n",
    "selected_features"
   ]
  },
  {
   "cell_type": "markdown",
   "metadata": {},
   "source": [
    "### 4.2.4. Feature Importance - Decision Tree <a class=\"anchor\" id=\"sub_section_4_2_4\"></a>"
   ]
  },
  {
   "cell_type": "code",
   "execution_count": 216,
   "metadata": {},
   "outputs": [],
   "source": [
    "from utils import compare_feature_importances"
   ]
  },
  {
   "cell_type": "code",
   "execution_count": 217,
   "metadata": {},
   "outputs": [
    {
     "data": {
      "image/png": "[encoded data removed]",
      "text/plain": [
       "<Figure size 1300x500 with 1 Axes>"
      ]
     },
     "metadata": {},
     "output_type": "display_data"
    },
    {
     "name": "stdout",
     "output_type": "stream",
     "text": [
      "       gini   entropy                   col\n",
      "0  0.007969  0.010900  Number of Dependents\n",
      "1  0.339732  0.273471           IME-4 Count\n",
      "2  0.011145  0.016966      Accident_Quarter\n",
      "3  0.019753  0.027426         Accident_Year\n",
      "4  0.015506  0.023348          Accident Day\n"
     ]
    }
   ],
   "source": [
    "# Call the function with your training data\n",
    "zippy = compare_feature_importances(X_train_num_scaled, y_train_encoded)\n",
    "\n",
    "# Access the DataFrame for further analysis if needed\n",
    "print(zippy.head())"
   ]
  },
  {
   "cell_type": "markdown",
   "metadata": {},
   "source": [
    "### 4.2.5. Feature Importance - Random Forest <a class=\"anchor\" id=\"sub_section_4_2_5\"></a>"
   ]
  },
  {
   "cell_type": "code",
   "execution_count": 218,
   "metadata": {},
   "outputs": [
    {
     "data": {
      "image/png": "[encoded data removed]",
      "text/plain": [
       "<Figure size 1300x500 with 1 Axes>"
      ]
     },
     "metadata": {},
     "output_type": "display_data"
    },
    {
     "name": "stdout",
     "output_type": "stream",
     "text": [
      "       gini   entropy                   col\n",
      "0  0.014163  0.016008  Number of Dependents\n",
      "1  0.244305  0.205718           IME-4 Count\n",
      "2  0.012618  0.017276      Accident_Quarter\n",
      "3  0.021598  0.025481         Accident_Year\n",
      "4  0.019820  0.027836          Accident Day\n"
     ]
    }
   ],
   "source": [
    "# Call the function with your training data\n",
    "importances = compare_rf_feature_importances(X_train_num_scaled, y_train_encoded)\n",
    "\n",
    "# Access the DataFrame for further analysis if needed\n",
    "print(importances.head())"
   ]
  },
  {
   "cell_type": "markdown",
   "metadata": {},
   "source": [
    "## 4.3. Categorical Features</b> <a class=\"anchor\" id=\"section_4_3\"></a>\n",
    "Chi-squared and MIC for the categorical ones."
   ]
  },
  {
   "cell_type": "markdown",
   "metadata": {},
   "source": [
    " ### 4.3.1. $\\chi ^2$ Test for Independence <a class=\"anchor\" id=\"sub_section_4_3_1\"></a>\n",
    "The Chi-squared test helps us identify the most relevant categorical and binary features by evaluating their independence with the target variable. In this analysis, we set a threshold to keep the 25 most relevant features."
   ]
  },
  {
   "cell_type": "code",
   "execution_count": 235,
   "metadata": {},
   "outputs": [],
   "source": [
    "from utils import select_high_score_features_chi2_no_model"
   ]
  },
  {
   "cell_type": "code",
   "execution_count": 236,
   "metadata": {},
   "outputs": [
    {
     "name": "stdout",
     "output_type": "stream",
     "text": [
      "Top 25 features based on Chi-square scores: ['WCIO Nature of Injury Code_freq', 'Zip_Code_Simplified_freq', 'WCIO Part Of Body Code_freq', 'Carrier_Name_Simplified_freq', 'Carrier Type Merged_freq', 'County of Injury_freq', 'WCIO Cause of Injury Code_freq', 'District Name_freq', 'Carrier_District_Interaction_freq', 'Industry Code_freq', 'Attorney/Representative', 'promptness_C3_category', 'Income_Category', 'Injury_Cause_Category_Cut, Puncture, Scrape', 'Injury_Cause_Category_Fall, Slip, or Trip', 'Injury_Cause_Category_Motor Vehicle', 'Age Group', 'Body_Part_Category_NonClassificable', 'Injury_Cause_Category_Strain or Injury By', 'Body_Part_Category_Trunk', 'Body_Part_Category_Upper Extremities', 'Injury_Cause_Category_Miscellaneous Causes', 'COVID-19 Indicator', 'Gender_M', 'Injury_Cause_Category_Struck or Injured by']\n",
      "Corresponding Chi-square scores: [40150811.909957126, 21247355.768484853, 18752398.975753304, 15840121.373931587, 11285216.612660535, 5879858.272654376, 5572980.621243217, 3135430.796922887, 821600.1814509635, 295319.2030250726, 72460.00387144795, 20208.998225755997, 10683.461059446028, 4386.01957279922, 2646.003927967471, 2001.3403259365725, 1715.8005079030263, 1478.7563772607587, 1425.9296177091112, 1240.9356563744464, 1167.1533932325453, 1038.4370057399303, 670.6456678523082, 664.7888109672884, 655.1372856326655]\n"
     ]
    }
   ],
   "source": [
    "# Example usage\n",
    "high_score_features_chi2, scores = select_high_score_features_chi2_no_model(\n",
    "    X_train_mic_chi2, \n",
    "    y_train_encoded, \n",
    "    threshold=25\n",
    ")"
   ]
  },
  {
   "cell_type": "code",
   "execution_count": 237,
   "metadata": {},
   "outputs": [
    {
     "data": {
      "text/plain": [
       "['WCIO Nature of Injury Code_freq',\n",
       " 'Zip_Code_Simplified_freq',\n",
       " 'WCIO Part Of Body Code_freq',\n",
       " 'Carrier_Name_Simplified_freq',\n",
       " 'Carrier Type Merged_freq',\n",
       " 'County of Injury_freq',\n",
       " 'WCIO Cause of Injury Code_freq',\n",
       " 'District Name_freq',\n",
       " 'Carrier_District_Interaction_freq',\n",
       " 'Industry Code_freq',\n",
       " 'Attorney/Representative',\n",
       " 'promptness_C3_category',\n",
       " 'Income_Category',\n",
       " 'Injury_Cause_Category_Cut, Puncture, Scrape',\n",
       " 'Injury_Cause_Category_Fall, Slip, or Trip',\n",
       " 'Injury_Cause_Category_Motor Vehicle',\n",
       " 'Age Group',\n",
       " 'Body_Part_Category_NonClassificable',\n",
       " 'Injury_Cause_Category_Strain or Injury By',\n",
       " 'Body_Part_Category_Trunk',\n",
       " 'Body_Part_Category_Upper Extremities',\n",
       " 'Injury_Cause_Category_Miscellaneous Causes',\n",
       " 'COVID-19 Indicator',\n",
       " 'Gender_M',\n",
       " 'Injury_Cause_Category_Struck or Injured by']"
      ]
     },
     "execution_count": 237,
     "metadata": {},
     "output_type": "execute_result"
    }
   ],
   "source": [
    "high_score_features_chi2"
   ]
  },
  {
   "cell_type": "markdown",
   "metadata": {},
   "source": [
    " ### 4.3.2. Mutual Information Criterion (MIC) <a class=\"anchor\" id=\"sub_section_4_3_2\"></a>\n",
    "\n",
    "The Mutual Information Criterion is used to measure the dependence between each feature and the target variable. By setting a threshold, we retain only the most relevant features."
   ]
  },
  {
   "cell_type": "code",
   "execution_count": 238,
   "metadata": {},
   "outputs": [],
   "source": [
    "from utils import select_high_score_features_MIC"
   ]
  },
  {
   "cell_type": "code",
   "execution_count": 239,
   "metadata": {},
   "outputs": [
    {
     "name": "stdout",
     "output_type": "stream",
     "text": [
      "Top 25 features based on MIC scores: ['Attorney/Representative', 'promptness_C3_category', 'WCIO Nature of Injury Code_freq', 'Income_Category', 'WCIO Cause of Injury Code_freq', 'Injury_Nature_Category_Specific Injury', 'WCIO Part Of Body Code_freq', 'Carrier_Name_Simplified_freq', 'Industry Risk', 'Carrier Type Merged_freq', 'Zip_Code_Simplified_freq', 'Industry Code_freq', 'District Name_freq', 'Carrier_District_Interaction_freq', 'Age Group', 'promptness_category', 'Gender_M', 'promptness_C2_category', 'Injury_Cause_Category_Cut, Puncture, Scrape', 'Medical Fee Region_IV', 'Injury_Cause_Category_Fall, Slip, or Trip', 'Body_Part_Category_Upper Extremities', 'Body_Part_Category_Trunk', 'County of Injury_freq', 'Injury_Cause_Category_Strain or Injury By']\n",
      "Corresponding MIC scores: [0.15587072809184965, 0.12111124806729667, 0.0626086859387982, 0.04326659820600853, 0.041616941108447936, 0.034394810195608416, 0.03420069291275807, 0.03278988507497327, 0.0319289926263564, 0.027846022463585474, 0.0246725726194299, 0.02315418807884906, 0.022246347500753716, 0.02100724631199724, 0.020237510020946647, 0.01565503972261939, 0.015329007874413714, 0.012904663538212402, 0.010336811093466292, 0.007637410096803743, 0.007196435856255734, 0.006639373033298979, 0.005979606639934687, 0.005450906119834231, 0.0053468922616701775]\n"
     ]
    }
   ],
   "source": [
    "# Example usage\n",
    "high_score_features_MIC, scores_MIC = select_high_score_features_MIC(\n",
    "    X_train_mic_chi2, \n",
    "    y_train_encoded, \n",
    "    threshold=25, \n",
    "    random_state=42)"
   ]
  },
  {
   "cell_type": "markdown",
   "metadata": {},
   "source": [
    "## 4.4. Final Features</b> <a class=\"anchor\" id=\"section_4_4\"></a>\n",
    "\n"
   ]
  },
  {
   "cell_type": "markdown",
   "metadata": {},
   "source": [
    "The following table includes all numerical columns and a summary of actions to take based on the combined insights from **Spearman**, **Lasso**, **RFE**, **Decision Trees**, and **Random Forests**.\n",
    "\n",
    "| **Predictor**          | **Spearman**                        | **LASSO**    | **RFE LR**       | **Decision Tree Importance** | **Random Forest Importance** | **What to do?**                          |\n",
    "|-------------------------|--------------------------------------|--------------|------------------|------------------------------|--------------------------------|------------------------------------------|\n",
    "| Number of Dependents    | High (-0.83 with Salary/Dependent)  | Discard      | Discard          | Low                          | Low                            | Discard                                  |\n",
    "| IME-4 Count             | High (0.7 with Days to Hear)        | Keep         | Keep             | High                         | High                           | Include in the model                     |\n",
    "| Accident_Quarter        | Low                                 | Discard      | Discard             | Low                          | Low                            | Discard                                  |\n",
    "| Accident_Year           | Low                                 | Keep         | Discard             | Low                          | Low                            | Discard                                  |\n",
    "| Accident Day            | Low                                 | Discard      | Discard             | Low                          | Low                            | Discard                                  |\n",
    "| Days to First Hearing   | High (0.7 with IME-4 Count)         | Keep         | Keep             | Low                          | High                           | Discard                     |\n",
    "| Average Weekly Wage     | Moderate (0.5 with Salary/Dependent)| Discard      | Discard             | High                         | High                           | Include in the model                     |\n",
    "| Age at Injury           | Low                                 | Discard         | Discard             | Low                          | Low                            | Discard                                  |\n",
    "| Salary Per Dependent    | High (-0.83 with Dependents, 0.5 with Avg Wage) | Discard | Discard | Low | High | Discard|\n",
    "\n"
   ]
  },
  {
   "cell_type": "markdown",
   "metadata": {},
   "source": [
    "**Intersection of Selected Features by Chi-squared and MIC** <BR>\n",
    "To identify the most relevant categorical features, we take the intersection of features selected by both Chi-squared and MIC methods."
   ]
  },
  {
   "cell_type": "code",
   "execution_count": 240,
   "metadata": {},
   "outputs": [
    {
     "data": {
      "text/plain": [
       "['Industry Code_freq',\n",
       " 'Gender_M',\n",
       " 'Carrier_District_Interaction_freq',\n",
       " 'Carrier_Name_Simplified_freq',\n",
       " 'Income_Category',\n",
       " 'promptness_C3_category',\n",
       " 'WCIO Nature of Injury Code_freq',\n",
       " 'Body_Part_Category_Trunk',\n",
       " 'Carrier Type Merged_freq',\n",
       " 'Zip_Code_Simplified_freq',\n",
       " 'Age Group',\n",
       " 'District Name_freq',\n",
       " 'WCIO Cause of Injury Code_freq',\n",
       " 'County of Injury_freq',\n",
       " 'Injury_Cause_Category_Strain or Injury By',\n",
       " 'Injury_Cause_Category_Fall, Slip, or Trip',\n",
       " 'Body_Part_Category_Upper Extremities',\n",
       " 'Attorney/Representative',\n",
       " 'WCIO Part Of Body Code_freq',\n",
       " 'Injury_Cause_Category_Cut, Puncture, Scrape']"
      ]
     },
     "execution_count": 240,
     "metadata": {},
     "output_type": "execute_result"
    }
   ],
   "source": [
    "# Find common features between Chi-squared and MIC selections\n",
    "common_categorical_features = list(set(high_score_features_chi2).intersection(set(high_score_features_MIC)))\n",
    "features_selected = common_categorical_features  # Final list of selected features\n",
    "features_selected  # Display the list of intersected features"
   ]
  },
  {
   "cell_type": "markdown",
   "metadata": {},
   "source": [
    "Now we will define the final_features and select then on the X_train, X_val and df_test"
   ]
  },
  {
   "cell_type": "code",
   "execution_count": 241,
   "metadata": {},
   "outputs": [
    {
     "name": "stdout",
     "output_type": "stream",
     "text": [
      "X_train_final shape: (306375, 22)\n",
      "X_val_final shape: (131876, 22)\n",
      "X_test_final shape: (387975, 22)\n"
     ]
    }
   ],
   "source": [
    "final_features = [\n",
    "    # Categorical features selected through MIC and chi2\n",
    "    'Industry Code_freq',\n",
    " 'Gender_M',\n",
    " 'Carrier_District_Interaction_freq',\n",
    " 'Carrier_Name_Simplified_freq',\n",
    " 'Income_Category',\n",
    " 'promptness_C3_category',\n",
    " 'WCIO Nature of Injury Code_freq',\n",
    " 'Body_Part_Category_Trunk',\n",
    " 'Carrier Type Merged_freq',\n",
    " 'Zip_Code_Simplified_freq',\n",
    " 'Age Group',\n",
    " 'District Name_freq',\n",
    " 'WCIO Cause of Injury Code_freq',\n",
    " 'County of Injury_freq',\n",
    " 'Injury_Cause_Category_Strain or Injury By',\n",
    " 'Injury_Cause_Category_Fall, Slip, or Trip',\n",
    " 'Body_Part_Category_Upper Extremities',\n",
    " 'Attorney/Representative',\n",
    " 'WCIO Part Of Body Code_freq',\n",
    " 'Injury_Cause_Category_Cut, Puncture, Scrape',\n",
    "    # Important numerical features\n",
    "    'IME-4 Count', 'Average Weekly Wage'\n",
    "]\n",
    "\n",
    "\n",
    "# Extracting the final features from the processed datasets\n",
    "X_train_final = X_train_processed_copy[final_features]\n",
    "X_val_final = X_val_processed_copy[final_features]\n",
    "X_test_final = df_test_processed_copy[final_features]\n",
    "\n",
    "# Print the shape of the final datasets to confirm consistency\n",
    "print(f\"X_train_final shape: {X_train_final.shape}\")\n",
    "print(f\"X_val_final shape: {X_val_final.shape}\")\n",
    "print(f\"X_test_final shape: {X_test_final.shape}\")"
   ]
  },
  {
   "cell_type": "markdown",
   "metadata": {},
   "source": [
    "### 4. Build a Simple Model and Assess Performance\n",
    "#### Problem Type and Model Selection\n",
    "The problem we are dealing with is a classification problem since our goal is to predict the type of variable claim injury as our target variable. As it is a categorical variable we decided to try algorithms like Logistic Regression, Random Forest, XGBoost and other classification models. To start, a simple logistic regression was built due to its interpretability and ease of use. Moreover, it supports an effective starting point for further analysis and comparison against more complex models.\n",
    "\n",
    "#### Cross-Validation for Performance Assessment\n",
    "In order to assess the model’s performance we decided to use cross validation. This technique ensures a reliable evaluation by divding our data into multiple folds and having training/testing the model on different subsets. This really helps to avoid overfitting (which was a problem that from the beginning we identify we had) and provides a comprehensive view of how well the model generalizes to unseen data.\n",
    "\n",
    "#### Metrics for Evaluation\n",
    "For model evaluation we look into some metrics like:\n",
    "Precision, Recall, and F1-Score given that our target variable is claim injury type, and the dataset has an imbalanced class distributions. \n",
    "Precision tells us how many of the predicted positive instances are actually positive, while recall shows how many of the actual positives were correctly predicted. **F1 Score* provides a balance between precision and recall, which is crucial when handling imbalanced data.\n",
    "Even though accuracy can provide a general idea of overall correctness, it is not our main focus due to the class imbalance. Relying solely on accuracy could give misleading insights, as it may be high even if the model is not performing well on minority classes\n",
    "\n",
    "With these metrics we ensure a global evaluation of the model, especially considering the facts above mentioned such as imbalanced dataset and helps guiding model improvement effectively.\n"
   ]
  },
  {
   "cell_type": "markdown",
   "metadata": {},
   "source": [
    "# 5. Modelling <a class=\"anchor\" id=\"chapter5\"></a>"
   ]
  },
  {
   "cell_type": "markdown",
   "metadata": {},
   "source": [
    "For this binary classification task, we’ll use logistic regression as a simple and interpretable baseline. To capture non-linear patterns, we’ll include decision trees and random forests, which are robust and versatile. Additionally, we’ll apply gradient boosting methods like XGBoost or LightGBM for their strong performance on complex datasets. This mix of models balances simplicity and power for effective classification."
   ]
  },
  {
   "cell_type": "markdown",
   "metadata": {},
   "source": [
    "## 5.1. Logistic Regression</b> <a class=\"anchor\" id=\"section_5_1\"></a>\n",
    "\n",
    "Logistic Regression is a simple and interpretable model that is effective for binary classification when the relationship between features and the target is linear.\n"
   ]
  },
  {
   "cell_type": "code",
   "execution_count": 242,
   "metadata": {},
   "outputs": [
    {
     "name": "stdout",
     "output_type": "stream",
     "text": [
      "___________________________________________________________________________________________________________\n",
      "                                                     TRAIN                                                 \n",
      "-----------------------------------------------------------------------------------------------------------\n",
      "              precision    recall  f1-score   support\n",
      "\n",
      " 2. NON-COMP       0.66      0.98      0.79    202442\n",
      "4. TEMPORARY       0.46      0.04      0.07    103933\n",
      "\n",
      "    accuracy                           0.66    306375\n",
      "   macro avg       0.56      0.51      0.43    306375\n",
      "weighted avg       0.59      0.66      0.55    306375\n",
      "\n",
      "___________________________________________________________________________________________________________\n",
      "                                                VALIDATION                                                 \n",
      "-----------------------------------------------------------------------------------------------------------\n",
      "              precision    recall  f1-score   support\n",
      "\n",
      " 2. NON-COMP       0.67      0.98      0.79     87324\n",
      "4. TEMPORARY       0.45      0.04      0.07     44552\n",
      "\n",
      "    accuracy                           0.66    131876\n",
      "   macro avg       0.56      0.51      0.43    131876\n",
      "weighted avg       0.59      0.66      0.55    131876\n",
      "\n"
     ]
    },
    {
     "data": {
      "image/png": "[encoded data removed]",
      "text/plain": [
       "<Figure size 1000x400 with 2 Axes>"
      ]
     },
     "metadata": {},
     "output_type": "display_data"
    },
    {
     "name": "stdout",
     "output_type": "stream",
     "text": [
      "Time taken to run the cell: 39.03 seconds\n"
     ]
    }
   ],
   "source": [
    "from sklearn.linear_model import LogisticRegression\n",
    "from sklearn.metrics import classification_report\n",
    "import time\n",
    "\n",
    "# Record the start time\n",
    "start_time = time.time()\n",
    "\n",
    "# Initialize the model\n",
    "lr_model = LogisticRegression(random_state=42, max_iter=1000)\n",
    "\n",
    "# Fit the model to the train data\n",
    "lr_model.fit(X_train_final, y_train_2_4)\n",
    "\n",
    "# Predict the model for the train data\n",
    "y_pred_lr_train = lr_model.predict(X_train_final)\n",
    "\n",
    "# Predict the model for the validation data\n",
    "y_pred_lr = lr_model.predict(X_val_final)\n",
    "\n",
    "#Print the classification report\n",
    "metrics(y_train_2_4, y_pred_lr_train, y_val_2_4, y_pred_lr)\n",
    "\n",
    "# Record the end time and calculate duration\n",
    "end_time = time.time()\n",
    "print(f\"Time taken to run the cell: {end_time - start_time:.2f} seconds\")"
   ]
  },
  {
   "cell_type": "markdown",
   "metadata": {},
   "source": [
    "## 5.2. Random Forest Trees</b> <a class=\"anchor\" id=\"section_5_2\"></a>\n"
   ]
  },
  {
   "cell_type": "code",
   "execution_count": 243,
   "metadata": {},
   "outputs": [
    {
     "name": "stdout",
     "output_type": "stream",
     "text": [
      "___________________________________________________________________________________________________________\n",
      "                                                     TRAIN                                                 \n",
      "-----------------------------------------------------------------------------------------------------------\n",
      "              precision    recall  f1-score   support\n",
      "\n",
      " 2. NON-COMP       1.00      1.00      1.00    202442\n",
      "4. TEMPORARY       1.00      1.00      1.00    103933\n",
      "\n",
      "    accuracy                           1.00    306375\n",
      "   macro avg       1.00      1.00      1.00    306375\n",
      "weighted avg       1.00      1.00      1.00    306375\n",
      "\n",
      "___________________________________________________________________________________________________________\n",
      "                                                VALIDATION                                                 \n",
      "-----------------------------------------------------------------------------------------------------------\n",
      "              precision    recall  f1-score   support\n",
      "\n",
      " 2. NON-COMP       0.95      0.98      0.97     87324\n",
      "4. TEMPORARY       0.95      0.91      0.93     44552\n",
      "\n",
      "    accuracy                           0.95    131876\n",
      "   macro avg       0.95      0.94      0.95    131876\n",
      "weighted avg       0.95      0.95      0.95    131876\n",
      "\n"
     ]
    },
    {
     "data": {
      "image/png": "[encoded data removed]",
      "text/plain": [
       "<Figure size 1000x400 with 2 Axes>"
      ]
     },
     "metadata": {},
     "output_type": "display_data"
    },
    {
     "name": "stdout",
     "output_type": "stream",
     "text": [
      "Time taken to run the cell: 140.98 seconds\n"
     ]
    }
   ],
   "source": [
    "# Record the start time\n",
    "start_time = time.time()\n",
    "\n",
    "#Initialize the model\n",
    "rf_model = RandomForestClassifier(random_state=42)\n",
    "\n",
    "#Fit the model to the train data\n",
    "rf_model.fit(X_train_final, y_train_2_4)\n",
    "\n",
    "#Predict the model for the train data\n",
    "y_pred_rf_train = rf_model.predict(X_train_final)\n",
    "\n",
    "#Predict the model for the validation data\n",
    "y_pred_rf = rf_model.predict(X_val_final)\n",
    "\n",
    "#Print the classification report\n",
    "metrics(y_train_2_4, y_pred_rf_train, y_val_2_4, y_pred_rf)\n",
    "\n",
    "# Record the end time and calculate duration\n",
    "end_time = time.time()\n",
    "print(f\"Time taken to run the cell: {end_time - start_time:.2f} seconds\")"
   ]
  },
  {
   "cell_type": "markdown",
   "metadata": {},
   "source": [
    "## 5.3. Decision Trees</b> <a class=\"anchor\" id=\"section_5_3\"></a>\n",
    "\n",
    "Decision Trees are versatile models that can capture non-linear patterns by splitting data based on feature values."
   ]
  },
  {
   "cell_type": "code",
   "execution_count": 244,
   "metadata": {},
   "outputs": [
    {
     "name": "stdout",
     "output_type": "stream",
     "text": [
      "___________________________________________________________________________________________________________\n",
      "                                                     TRAIN                                                 \n",
      "-----------------------------------------------------------------------------------------------------------\n",
      "              precision    recall  f1-score   support\n",
      "\n",
      " 2. NON-COMP       1.00      1.00      1.00    202442\n",
      "4. TEMPORARY       1.00      1.00      1.00    103933\n",
      "\n",
      "    accuracy                           1.00    306375\n",
      "   macro avg       1.00      1.00      1.00    306375\n",
      "weighted avg       1.00      1.00      1.00    306375\n",
      "\n",
      "___________________________________________________________________________________________________________\n",
      "                                                VALIDATION                                                 \n",
      "-----------------------------------------------------------------------------------------------------------\n",
      "              precision    recall  f1-score   support\n",
      "\n",
      " 2. NON-COMP       0.96      0.96      0.96     87324\n",
      "4. TEMPORARY       0.91      0.93      0.92     44552\n",
      "\n",
      "    accuracy                           0.95    131876\n",
      "   macro avg       0.94      0.94      0.94    131876\n",
      "weighted avg       0.95      0.95      0.95    131876\n",
      "\n"
     ]
    },
    {
     "data": {
      "image/png": "[encoded data removed]",
      "text/plain": [
       "<Figure size 1000x400 with 2 Axes>"
      ]
     },
     "metadata": {},
     "output_type": "display_data"
    },
    {
     "name": "stdout",
     "output_type": "stream",
     "text": [
      "Time taken to run the cell: 31.81 seconds\n"
     ]
    }
   ],
   "source": [
    "\n",
    "from sklearn.tree import DecisionTreeClassifier\n",
    "# Record the start time\n",
    "start_time = time.time()\n",
    "\n",
    "# Initialize the model\n",
    "dt_model = DecisionTreeClassifier(random_state=42)\n",
    "\n",
    "# Fit the model to the train data\n",
    "dt_model.fit(X_train_final, y_train_2_4)\n",
    "\n",
    "# Predict the model for the train data\n",
    "y_pred_dt_train = dt_model.predict(X_train_final)\n",
    "\n",
    "# Predict the model for the validation data\n",
    "y_pred_dt = dt_model.predict(X_val_final)\n",
    "\n",
    "#Print the metric report\n",
    "metrics(y_train_2_4, y_pred_dt_train, y_val_2_4, y_pred_dt)\n",
    "\n",
    "# Record the end time and calculate duration\n",
    "end_time = time.time()\n",
    "print(f\"Time taken to run the cell: {end_time - start_time:.2f} seconds\")\n"
   ]
  },
  {
   "cell_type": "markdown",
   "metadata": {},
   "source": [
    "## 5.4. Gradient Boosting </b> <a class=\"anchor\" id=\"section_5_4\"></a>\n",
    "\n",
    "Gradient Boosting models (e.g., XGBoost, LightGBM) are powerful ensemble methods that iteratively improve performance by minimizing errors. <br>\n",
    "\n",
    "**XGBClassifier**"
   ]
  },
  {
   "cell_type": "code",
   "execution_count": 245,
   "metadata": {},
   "outputs": [
    {
     "name": "stdout",
     "output_type": "stream",
     "text": [
      "___________________________________________________________________________________________________________\n",
      "                                                     TRAIN                                                 \n",
      "-----------------------------------------------------------------------------------------------------------\n",
      "              precision    recall  f1-score   support\n",
      "\n",
      "           0       0.97      0.99      0.98    202442\n",
      "           1       0.98      0.94      0.96    103933\n",
      "\n",
      "    accuracy                           0.97    306375\n",
      "   macro avg       0.98      0.97      0.97    306375\n",
      "weighted avg       0.97      0.97      0.97    306375\n",
      "\n",
      "___________________________________________________________________________________________________________\n",
      "                                                VALIDATION                                                 \n",
      "-----------------------------------------------------------------------------------------------------------\n",
      "              precision    recall  f1-score   support\n",
      "\n",
      "           0       0.97      0.99      0.98     87324\n",
      "           1       0.98      0.94      0.96     44552\n",
      "\n",
      "    accuracy                           0.97    131876\n",
      "   macro avg       0.97      0.96      0.97    131876\n",
      "weighted avg       0.97      0.97      0.97    131876\n",
      "\n"
     ]
    },
    {
     "data": {
      "image/png": "[encoded data removed]",
      "text/plain": [
       "<Figure size 1000x400 with 2 Axes>"
      ]
     },
     "metadata": {},
     "output_type": "display_data"
    },
    {
     "name": "stdout",
     "output_type": "stream",
     "text": [
      "Time taken to run the cell: 3.39 seconds\n"
     ]
    }
   ],
   "source": [
    "from sklearn.preprocessing import LabelEncoder\n",
    "from xgboost import XGBClassifier\n",
    "\n",
    "# Record the start time\n",
    "start_time = time.time()\n",
    "\n",
    "# Encode the target variable\n",
    "label_encoder = LabelEncoder()\n",
    "y_train_2_4_encoded = label_encoder.fit_transform(y_train_2_4)\n",
    "y_val_2_4_encoded = label_encoder.transform(y_val_2_4)\n",
    "\n",
    "# Initialize the model\n",
    "gb_model = XGBClassifier(random_state=42, use_label_encoder=False, eval_metric='logloss')\n",
    "\n",
    "# Fit the model to the train data\n",
    "gb_model.fit(X_train_final, y_train_2_4_encoded)\n",
    "\n",
    "# Predict the model for the train data\n",
    "y_pred_gb_train = gb_model.predict(X_train_final)\n",
    "\n",
    "# Predict the model for the validation data\n",
    "y_pred_gb = gb_model.predict(X_val_final)\n",
    "\n",
    "# Print the classification report\n",
    "metrics(y_train_2_4_encoded, y_pred_gb_train, y_val_2_4_encoded, y_pred_gb)\n",
    "\n",
    "# Record the end time and calculate duration\n",
    "end_time = time.time()\n",
    "print(f\"Time taken to run the cell: {end_time - start_time:.2f} seconds\")\n"
   ]
  },
  {
   "cell_type": "markdown",
   "metadata": {},
   "source": [
    "**CatBoost (CatBoostClassifier)** <br>\n",
    "CatBoost is a gradient boosting framework designed to natively support categorical features. It is efficient, easy to implement, and often performs well on tabular data."
   ]
  },
  {
   "cell_type": "code",
   "execution_count": 246,
   "metadata": {},
   "outputs": [
    {
     "name": "stdout",
     "output_type": "stream",
     "text": [
      "___________________________________________________________________________________________________________\n",
      "                                                     TRAIN                                                 \n",
      "-----------------------------------------------------------------------------------------------------------\n",
      "              precision    recall  f1-score   support\n",
      "\n",
      "           0       0.97      0.99      0.98    202442\n",
      "           1       0.98      0.95      0.97    103933\n",
      "\n",
      "    accuracy                           0.98    306375\n",
      "   macro avg       0.98      0.97      0.97    306375\n",
      "weighted avg       0.98      0.98      0.98    306375\n",
      "\n",
      "___________________________________________________________________________________________________________\n",
      "                                                VALIDATION                                                 \n",
      "-----------------------------------------------------------------------------------------------------------\n",
      "              precision    recall  f1-score   support\n",
      "\n",
      "           0       0.97      0.99      0.98     87324\n",
      "           1       0.97      0.94      0.96     44552\n",
      "\n",
      "    accuracy                           0.97    131876\n",
      "   macro avg       0.97      0.96      0.97    131876\n",
      "weighted avg       0.97      0.97      0.97    131876\n",
      "\n"
     ]
    },
    {
     "data": {
      "image/png": "[encoded data removed]",
      "text/plain": [
       "<Figure size 1000x400 with 2 Axes>"
      ]
     },
     "metadata": {},
     "output_type": "display_data"
    },
    {
     "name": "stdout",
     "output_type": "stream",
     "text": [
      "Time taken to run the cell: 39.59 seconds\n"
     ]
    }
   ],
   "source": [
    "from catboost import CatBoostClassifier\n",
    "# Record the start time\n",
    "start_time = time.time()\n",
    "\n",
    "# Initialize the CatBoost model\n",
    "catboost_model = CatBoostClassifier(random_state=42, verbose=0)  # Set verbose=0 to suppress training logs\n",
    "\n",
    "# Fit the model to the training data\n",
    "catboost_model.fit(X_train_final, y_train_2_4_encoded)\n",
    "\n",
    "# Predict the model for the training data\n",
    "y_pred_catboost_train = catboost_model.predict(X_train_final)\n",
    "\n",
    "# Predict the model for the validation data\n",
    "y_pred_catboost = catboost_model.predict(X_val_final)\n",
    "\n",
    "# Print the classification report\n",
    "metrics(y_train_2_4_encoded, y_pred_catboost_train, y_val_2_4_encoded, y_pred_catboost)\n",
    "\n",
    "# Record the end time and calculate duration\n",
    "end_time = time.time()\n",
    "print(f\"Time taken to run the cell: {end_time - start_time:.2f} seconds\")"
   ]
  },
  {
   "cell_type": "markdown",
   "metadata": {},
   "source": [
    "## 5.5. Summary of Models </b> <a class=\"anchor\" id=\"section_5_5\"></a>\n",
    "\n",
    "\n",
    "We focused on a select set of models for binary classification as the initial results provided promising performance metrics. Below is the performance table, including F1 scores for training and validation datasets, along with the time taken for each model to run.\n",
    "\n",
    "| **Model**             | **F1 Score (Train)** | **F1 Score (Validation)** | **Time (seconds)** |\n",
    "|------------------------|----------------------|----------------------------|---------------------|\n",
    "| Logistic Regression    | 0.43                | 0.43                       | 35.77              |\n",
    "| Random Forest          | 1.00                | 0.95                       | 144.97             |\n",
    "| Decision Trees         | 1.00                | 0.94                       | 39.73              |\n",
    "| XGBoost                | 0.97                | 0.97                       | 4.32               |\n",
    "| CatBoost               | 0.97                | 0.97                       | 42.10              |\n",
    "\n",
    "- **Logistic Regression**: Despite being simple and efficient, it showed lower F1 scores compared to other models.\n",
    "- **Random Forest & Decision Trees**: Both achieved near-perfect training performance but showed slight overfitting on validation data.\n",
    "- **XGBoost and CatBoost**: Achieved balanced F1 scores for both training and validation, with XGBoost being notably faster.\n",
    "\n",
    "The ensemble methods, particularly XGBoost, exhibited strong performance with high F1 scores for both training and validation datasets, combined with efficient computation time. Due to its robustness and computational efficiency, we selected XGBoost as the primary model to apply to X_test_final.\n",
    "\n",
    "For this evaluation, we will focus on the majority class (y_test == 1) while retaining the original output labels (using inverse label encoding). Additionally, we will count instances of NaN values for the minority classes (y_test == 2 and y_test == 4) to provide a comprehensive view of the test dataset distribution."
   ]
  },
  {
   "cell_type": "markdown",
   "metadata": {},
   "source": [
    "# 6. Loading the Results <a class=\"anchor\" id=\"chapter6\"></a>"
   ]
  },
  {
   "cell_type": "code",
   "execution_count": 247,
   "metadata": {},
   "outputs": [
    {
     "name": "stdout",
     "output_type": "stream",
     "text": [
      "Predicted Class Counts (Original Labels) for y_test == 1:\n",
      "4. TEMPORARY    212961\n",
      "2. NON-COMP         44\n",
      "dtype: int64\n"
     ]
    }
   ],
   "source": [
    "# Filter the test data where y_test == 1\n",
    "X_test_filtered = X_test_final.loc[y_test[y_test == 1].index]\n",
    "\n",
    "# Remove non-numeric columns (like 'Final_Predictions') before prediction\n",
    "X_test_filtered_numeric = X_test_filtered.select_dtypes(include=['int', 'float', 'bool', 'category'])\n",
    "\n",
    "# Apply the model to predict on the filtered numeric test data\n",
    "y_pred_test_filtered = gb_model.predict(X_test_filtered_numeric)\n",
    "\n",
    "# Inverse transform the predictions to the original labels\n",
    "label_encoder = LabelEncoder()\n",
    "label_encoder.fit(y_train_2_4)  # Use the encoder already fitted on training data\n",
    "y_pred_test_original_filtered = label_encoder.inverse_transform(y_pred_test_filtered)\n",
    "\n",
    "# Add the predictions back to the original test dataset\n",
    "X_test_final.loc[y_test[y_test == 1].index, 'Pred_notebook_3'] = y_pred_test_original_filtered\n",
    "\n",
    "# Count the occurrences of each class in the filtered test predictions\n",
    "class_counts_filtered = pd.Series(y_pred_test_original_filtered).value_counts()\n",
    "\n",
    "# Display results\n",
    "print(\"Predicted Class Counts (Original Labels) for y_test == 1:\")\n",
    "print(class_counts_filtered)\n"
   ]
  },
  {
   "cell_type": "code",
   "execution_count": 253,
   "metadata": {},
   "outputs": [],
   "source": [
    "# Ensure the index alignment before assigning\n",
    "df_test['Pred_notebook_3'] = X_test_final.loc[df_test.index, 'Pred_notebook_3']\n",
    "\n",
    "# Save the updated DataFrame to a file\n",
    "df_test.to_csv('../Data_Temporary/df_test_pred_notebook3.csv', index=True)"
   ]
  }
 ],
 "metadata": {
  "kernelspec": {
   "display_name": "Python 3",
   "language": "python",
   "name": "python3"
  },
  "language_info": {
   "codemirror_mode": {
    "name": "ipython",
    "version": 3
   },
   "file_extension": ".py",
   "mimetype": "text/x-python",
   "name": "python",
   "nbconvert_exporter": "python",
   "pygments_lexer": "ipython3",
   "version": "3.11.3"
  }
 },
 "nbformat": 4,
 "nbformat_minor": 2
}
