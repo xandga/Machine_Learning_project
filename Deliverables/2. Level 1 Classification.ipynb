{
 "cells": [
  {
   "cell_type": "markdown",
   "metadata": {},
   "source": [
    "# **<h3 align=\"center\">Machine Learning - Project</h3>**\n",
    "## **<h3 align=\"center\">2. Level 1 Classification</h3>**\n",
    "### **<h3 align=\"center\">Group 30 - Project</h3>**\n",
    "\n",
    "\n",
    "### Group Members\n",
    "| Name              | Email                        | Student ID |\n",
    "|-------------------|------------------------------|------------|\n",
    "| Alexandra Pinto   | 20211599@novaims.unl.pt      | 20211599   |\n",
    "| Gonçalo Peres     | 20211625@novaims.unl.pt      | 20211625   |\n",
    "| Leonor Mira       | 20240658@novaims.unl.pt      | 20240658   |\n",
    "| Miguel Natário    | 20240498@novaims.unl.pt      | 20240498   |\n",
    "| Nuno Bernardino   | 2021546@novaims.unl.pt       | 2021546    |\n"
   ]
  },
  {
   "cell_type": "markdown",
   "metadata": {},
   "source": [
    "\n",
    "---\n",
    "\n",
    "### **2. Level 1 Classification Notebook**\n",
    "**Description:**\n",
    "In this notebook, we will build and evaluate the Level 1 Classification model, which separates the data into three categories:\n",
    "- Class 2 - NON-COMP\n",
    "- Class 4 - TEMPORARY\n",
    "- Other (all remaining classes, such as MED ONLY, PPD SCH LOSS, CANCELLED, etc.)\n",
    "\n",
    "Key steps include:\n",
    "- Loading the **preprocessed dataset** created in Notebook 1.\n",
    "- **Feature selection:** Identify features most relevant to this binary classification task.\n",
    "- **Model training:** Train a binary classification model to distinguish between the \"Common\" and \"Other\" categories.\n",
    "- **Evaluation:** Assess the performance of the Level 1 model using metrics like accuracy, precision, and recall.\n",
    "- **Output:** Save predictions to pass data into the next stages (Level 2 Binary and Level 2 Multi-Class models).\n",
    "\n",
    "This notebook ensures that data is efficiently routed into the appropriate paths for the subsequent levels.\n",
    "\n",
    "---\n"
   ]
  },
  {
   "cell_type": "markdown",
   "metadata": {},
   "source": [
    "## Table of Contents\n",
    "* [1. Import the Libraries](#chapter1)\n",
    "* [2. Load and Prepare Datasets](#chapter2)\n",
    "* [3. Setting the Target](#chapter3)\n",
    "* [4. Feature Selection](#chapter4)\n",
    "    * [Scaling the Data](#section_4_1)  \n",
    "    * [Numerical Features](#section_4_2) \n",
    "    * [Categorical Features](#section_4_3) \n",
    "    * [Final Features](#section_4_3)\n",
    "* [5. Modelling](#chapter5)\n",
    "* [6. Loading the results](#chapter6)\n"
   ]
  },
  {
   "cell_type": "markdown",
   "metadata": {
    "vscode": {
     "languageId": "plaintext"
    }
   },
   "source": [
    "# 1. Import the Libraries 📚<a class=\"anchor\" id=\"chapter1\"></a>"
   ]
  },
  {
   "cell_type": "code",
   "execution_count": null,
   "metadata": {},
   "outputs": [],
   "source": [
    "# --- Standard Libraries ---\n",
    "import pandas as pd\n",
    "import numpy as np\n",
    "import matplotlib.pyplot as plt\n",
    "import seaborn as sns\n",
    "sns.set()\n",
    "import zipfile\n",
    "\n",
    "# --- Scikit-Learn Modules for Data Partitioning and Preprocessing ---\n",
    "from sklearn.model_selection import train_test_split, cross_val_score\n",
    "from sklearn.preprocessing import StandardScaler, OneHotEncoder, LabelEncoder, MinMaxScaler, RobustScaler\n",
    "from sklearn.compose import ColumnTransformer\n",
    "from sklearn.pipeline import Pipeline\n",
    "\n",
    "# --- Feature Selection Methods ---\n",
    "# Filter Methods\n",
    "import scipy.stats as stats\n",
    "from scipy.stats import chi2_contingency\n",
    "from sklearn.feature_selection import mutual_info_classif, chi2, SelectKBest\n",
    "\n",
    "# Wrapper Methods\n",
    "from sklearn.linear_model import LogisticRegression\n",
    "from sklearn.svm import SVC\n",
    "from sklearn.feature_selection import RFE\n",
    "\n",
    "# Embedded Methods\n",
    "from sklearn.linear_model import LassoCV\n",
    "\n",
    "# --- Evaluation Metrics ---\n",
    "from sklearn.metrics import classification_report, confusion_matrix, accuracy_score, precision_score, recall_score, f1_score\n",
    "\n",
    "# --- Warnings ---\n",
    "import warnings\n",
    "warnings.filterwarnings('ignore')\n",
    "\n",
    "\n",
    "#selecionar apenas as função que vamos usar neste :)\n",
    "from utils import *"
   ]
  },
  {
   "cell_type": "markdown",
   "metadata": {},
   "source": [
    "# 2. Load and Prepare Datasets 📁<a class=\"anchor\" id=\"chapter2\"></a>"
   ]
  },
  {
   "cell_type": "markdown",
   "metadata": {},
   "source": [
    "Now that we preprocessed the dataset in notebook 1. Preprocessing and Feature Engineering we will upload those datasets"
   ]
  },
  {
   "cell_type": "code",
   "execution_count": 36,
   "metadata": {},
   "outputs": [],
   "source": [
    "X_train = pd.read_csv('..\\Data_Temporary\\X_train_processed.csv', index_col='Claim Identifier')\n",
    "X_val = pd.read_csv('..\\Data_Temporary\\X_val_processed.csv', index_col='Claim Identifier')\n",
    "df_test= pd.read_csv('..\\Data_Temporary\\df_test_processed.csv', index_col='Claim Identifier')"
   ]
  },
  {
   "cell_type": "code",
   "execution_count": 37,
   "metadata": {},
   "outputs": [
    {
     "data": {
      "text/html": [
       "<div>\n",
       "<style scoped>\n",
       "    .dataframe tbody tr th:only-of-type {\n",
       "        vertical-align: middle;\n",
       "    }\n",
       "\n",
       "    .dataframe tbody tr th {\n",
       "        vertical-align: top;\n",
       "    }\n",
       "\n",
       "    .dataframe thead th {\n",
       "        text-align: right;\n",
       "    }\n",
       "</style>\n",
       "<table border=\"1\" class=\"dataframe\">\n",
       "  <thead>\n",
       "    <tr style=\"text-align: right;\">\n",
       "      <th></th>\n",
       "      <th>Age at Injury</th>\n",
       "      <th>Attorney/Representative</th>\n",
       "      <th>Average Weekly Wage</th>\n",
       "      <th>Birth Year</th>\n",
       "      <th>Carrier Name</th>\n",
       "      <th>Carrier Type</th>\n",
       "      <th>County of Injury</th>\n",
       "      <th>COVID-19 Indicator</th>\n",
       "      <th>District Name</th>\n",
       "      <th>Gender</th>\n",
       "      <th>...</th>\n",
       "      <th>promptness_category</th>\n",
       "      <th>promptness_C2_category</th>\n",
       "      <th>Zip_Code_Simplified</th>\n",
       "      <th>Carrier Type Merged</th>\n",
       "      <th>Carrier_Name_Simplified</th>\n",
       "      <th>Body_Part_Category</th>\n",
       "      <th>Injury_Nature_Category</th>\n",
       "      <th>Injury_Cause_Category</th>\n",
       "      <th>Industry Risk</th>\n",
       "      <th>Salary_Per_Dependent</th>\n",
       "    </tr>\n",
       "    <tr>\n",
       "      <th>Claim Identifier</th>\n",
       "      <th></th>\n",
       "      <th></th>\n",
       "      <th></th>\n",
       "      <th></th>\n",
       "      <th></th>\n",
       "      <th></th>\n",
       "      <th></th>\n",
       "      <th></th>\n",
       "      <th></th>\n",
       "      <th></th>\n",
       "      <th></th>\n",
       "      <th></th>\n",
       "      <th></th>\n",
       "      <th></th>\n",
       "      <th></th>\n",
       "      <th></th>\n",
       "      <th></th>\n",
       "      <th></th>\n",
       "      <th></th>\n",
       "      <th></th>\n",
       "      <th></th>\n",
       "    </tr>\n",
       "  </thead>\n",
       "  <tbody>\n",
       "    <tr>\n",
       "      <th>5479022</th>\n",
       "      <td>24</td>\n",
       "      <td>0.0</td>\n",
       "      <td>816.297482</td>\n",
       "      <td>1996.0</td>\n",
       "      <td>STATE INSURANCE FUND</td>\n",
       "      <td>SIF</td>\n",
       "      <td>CAYUGA</td>\n",
       "      <td>0.0</td>\n",
       "      <td>SYRACUSE</td>\n",
       "      <td>M</td>\n",
       "      <td>...</td>\n",
       "      <td>Until 1 weeks</td>\n",
       "      <td>Until 1 weeks</td>\n",
       "      <td>OTHER</td>\n",
       "      <td>SIF</td>\n",
       "      <td>STATE INSURANCE FUND</td>\n",
       "      <td>Lower Extremities</td>\n",
       "      <td>Specific Injury</td>\n",
       "      <td>Strain or Injury By</td>\n",
       "      <td>High Risk</td>\n",
       "      <td>272.099161</td>\n",
       "    </tr>\n",
       "    <tr>\n",
       "      <th>6023025</th>\n",
       "      <td>36</td>\n",
       "      <td>1.0</td>\n",
       "      <td>1097.000000</td>\n",
       "      <td>1986.0</td>\n",
       "      <td>SIRIUSPOINT AMERICA INSURANCE</td>\n",
       "      <td>PRIVATE</td>\n",
       "      <td>QUEENS</td>\n",
       "      <td>0.0</td>\n",
       "      <td>NYC</td>\n",
       "      <td>M</td>\n",
       "      <td>...</td>\n",
       "      <td>1 to 3 months</td>\n",
       "      <td>1 to 3 months</td>\n",
       "      <td>11368</td>\n",
       "      <td>PRIVATE</td>\n",
       "      <td>OTHER</td>\n",
       "      <td>Multiple Body Parts</td>\n",
       "      <td>Specific Injury</td>\n",
       "      <td>Fall, Slip, or Trip</td>\n",
       "      <td>High Risk</td>\n",
       "      <td>548.500000</td>\n",
       "    </tr>\n",
       "    <tr>\n",
       "      <th>5851908</th>\n",
       "      <td>41</td>\n",
       "      <td>1.0</td>\n",
       "      <td>623.350000</td>\n",
       "      <td>1980.0</td>\n",
       "      <td>INDEMNITY INS. OF N AMERICA</td>\n",
       "      <td>PRIVATE</td>\n",
       "      <td>MONROE</td>\n",
       "      <td>0.0</td>\n",
       "      <td>ROCHESTER</td>\n",
       "      <td>F</td>\n",
       "      <td>...</td>\n",
       "      <td>3 to 6 months</td>\n",
       "      <td>3 to 6 months</td>\n",
       "      <td>OTHER</td>\n",
       "      <td>PRIVATE</td>\n",
       "      <td>INDEMNITY INS. OF N AMERICA</td>\n",
       "      <td>Upper Extremities</td>\n",
       "      <td>Specific Injury</td>\n",
       "      <td>Strain or Injury By</td>\n",
       "      <td>High Risk</td>\n",
       "      <td>207.783333</td>\n",
       "    </tr>\n",
       "    <tr>\n",
       "      <th>5913931</th>\n",
       "      <td>59</td>\n",
       "      <td>1.0</td>\n",
       "      <td>1042.130000</td>\n",
       "      <td>1963.0</td>\n",
       "      <td>INDEMNITY INS. OF N AMERICA</td>\n",
       "      <td>PRIVATE</td>\n",
       "      <td>ALBANY</td>\n",
       "      <td>0.0</td>\n",
       "      <td>ALBANY</td>\n",
       "      <td>M</td>\n",
       "      <td>...</td>\n",
       "      <td>Until 1 weeks</td>\n",
       "      <td>Until 1 weeks</td>\n",
       "      <td>12065</td>\n",
       "      <td>PRIVATE</td>\n",
       "      <td>INDEMNITY INS. OF N AMERICA</td>\n",
       "      <td>Upper Extremities</td>\n",
       "      <td>Specific Injury</td>\n",
       "      <td>Fall, Slip, or Trip</td>\n",
       "      <td>High Risk</td>\n",
       "      <td>1042.130000</td>\n",
       "    </tr>\n",
       "    <tr>\n",
       "      <th>5845976</th>\n",
       "      <td>58</td>\n",
       "      <td>0.0</td>\n",
       "      <td>1225.703472</td>\n",
       "      <td>1963.0</td>\n",
       "      <td>SECURITY NATIONAL INSURANCE CO</td>\n",
       "      <td>PRIVATE</td>\n",
       "      <td>KINGS</td>\n",
       "      <td>0.0</td>\n",
       "      <td>NYC</td>\n",
       "      <td>F</td>\n",
       "      <td>...</td>\n",
       "      <td>1 to 3 months</td>\n",
       "      <td>1 to 3 months</td>\n",
       "      <td>11203</td>\n",
       "      <td>PRIVATE</td>\n",
       "      <td>SECURITY NATIONAL INSURANCE CO</td>\n",
       "      <td>Multiple Body Parts</td>\n",
       "      <td>Multiple Injuries</td>\n",
       "      <td>Fall, Slip, or Trip</td>\n",
       "      <td>Medium Risk</td>\n",
       "      <td>245.140694</td>\n",
       "    </tr>\n",
       "  </tbody>\n",
       "</table>\n",
       "<p>5 rows × 37 columns</p>\n",
       "</div>"
      ],
      "text/plain": [
       "                  Age at Injury  Attorney/Representative  Average Weekly Wage  \\\n",
       "Claim Identifier                                                                \n",
       "5479022                      24                      0.0           816.297482   \n",
       "6023025                      36                      1.0          1097.000000   \n",
       "5851908                      41                      1.0           623.350000   \n",
       "5913931                      59                      1.0          1042.130000   \n",
       "5845976                      58                      0.0          1225.703472   \n",
       "\n",
       "                  Birth Year                    Carrier Name Carrier Type  \\\n",
       "Claim Identifier                                                            \n",
       "5479022               1996.0            STATE INSURANCE FUND          SIF   \n",
       "6023025               1986.0   SIRIUSPOINT AMERICA INSURANCE      PRIVATE   \n",
       "5851908               1980.0     INDEMNITY INS. OF N AMERICA      PRIVATE   \n",
       "5913931               1963.0     INDEMNITY INS. OF N AMERICA      PRIVATE   \n",
       "5845976               1963.0  SECURITY NATIONAL INSURANCE CO      PRIVATE   \n",
       "\n",
       "                 County of Injury  COVID-19 Indicator District Name Gender  \\\n",
       "Claim Identifier                                                             \n",
       "5479022                    CAYUGA                 0.0      SYRACUSE      M   \n",
       "6023025                    QUEENS                 0.0           NYC      M   \n",
       "5851908                    MONROE                 0.0     ROCHESTER      F   \n",
       "5913931                    ALBANY                 0.0        ALBANY      M   \n",
       "5845976                     KINGS                 0.0           NYC      F   \n",
       "\n",
       "                  ...  promptness_category  promptness_C2_category  \\\n",
       "Claim Identifier  ...                                                \n",
       "5479022           ...        Until 1 weeks           Until 1 weeks   \n",
       "6023025           ...        1 to 3 months           1 to 3 months   \n",
       "5851908           ...        3 to 6 months           3 to 6 months   \n",
       "5913931           ...        Until 1 weeks           Until 1 weeks   \n",
       "5845976           ...        1 to 3 months           1 to 3 months   \n",
       "\n",
       "                 Zip_Code_Simplified  Carrier Type Merged  \\\n",
       "Claim Identifier                                            \n",
       "5479022                        OTHER                  SIF   \n",
       "6023025                        11368              PRIVATE   \n",
       "5851908                        OTHER              PRIVATE   \n",
       "5913931                        12065              PRIVATE   \n",
       "5845976                        11203              PRIVATE   \n",
       "\n",
       "                         Carrier_Name_Simplified   Body_Part_Category  \\\n",
       "Claim Identifier                                                        \n",
       "5479022                     STATE INSURANCE FUND    Lower Extremities   \n",
       "6023025                                    OTHER  Multiple Body Parts   \n",
       "5851908              INDEMNITY INS. OF N AMERICA    Upper Extremities   \n",
       "5913931              INDEMNITY INS. OF N AMERICA    Upper Extremities   \n",
       "5845976           SECURITY NATIONAL INSURANCE CO  Multiple Body Parts   \n",
       "\n",
       "                 Injury_Nature_Category  Injury_Cause_Category Industry Risk  \\\n",
       "Claim Identifier                                                               \n",
       "5479022                 Specific Injury    Strain or Injury By     High Risk   \n",
       "6023025                 Specific Injury    Fall, Slip, or Trip     High Risk   \n",
       "5851908                 Specific Injury    Strain or Injury By     High Risk   \n",
       "5913931                 Specific Injury    Fall, Slip, or Trip     High Risk   \n",
       "5845976               Multiple Injuries    Fall, Slip, or Trip   Medium Risk   \n",
       "\n",
       "                 Salary_Per_Dependent  \n",
       "Claim Identifier                       \n",
       "5479022                    272.099161  \n",
       "6023025                    548.500000  \n",
       "5851908                    207.783333  \n",
       "5913931                   1042.130000  \n",
       "5845976                    245.140694  \n",
       "\n",
       "[5 rows x 37 columns]"
      ]
     },
     "execution_count": 37,
     "metadata": {},
     "output_type": "execute_result"
    }
   ],
   "source": [
    "X_train.head(5)"
   ]
  },
  {
   "cell_type": "code",
   "execution_count": 38,
   "metadata": {},
   "outputs": [],
   "source": [
    "# Load the arrays\n",
    "y_train = np.load(r'..\\Data_Temporary\\y_train.npy', allow_pickle=True)\n",
    "y_val = np.load(r'..\\Data_Temporary\\y_val.npy', allow_pickle=True)"
   ]
  },
  {
   "cell_type": "markdown",
   "metadata": {},
   "source": [
    "# 3. Setting the Target <a class=\"anchor\" id=\"chapter3\"></a>\n",
    "\n",
    "In this section, we will analyze the distribution of the target variable to better understand its composition. This step is crucial for determining how to split the target into the two categories needed for the first level of the hierarchical classification: identifying the most common classes versus the \"Other\" category."
   ]
  },
  {
   "cell_type": "code",
   "execution_count": 39,
   "metadata": {},
   "outputs": [
    {
     "data": {
      "text/plain": [
       "2. NON-COMP        202442\n",
       "4. TEMPORARY       103933\n",
       "3. MED ONLY         48224\n",
       "5. PPD SCH LOSS     33795\n",
       "1. CANCELLED         7255\n",
       "6. PPD NSL           2948\n",
       "8. DEATH              329\n",
       "7. PTD                 68\n",
       "dtype: int64"
      ]
     },
     "execution_count": 39,
     "metadata": {},
     "output_type": "execute_result"
    }
   ],
   "source": [
    "# Convert to Pandas Series and get value counts\n",
    "y_train_series = pd.Series(y_train)\n",
    "y_train_series.value_counts()"
   ]
  },
  {
   "cell_type": "code",
   "execution_count": 40,
   "metadata": {},
   "outputs": [
    {
     "data": {
      "text/plain": [
       "2. NON-COMP        87324\n",
       "4. TEMPORARY       44552\n",
       "3. MED ONLY        20672\n",
       "5. PPD SCH LOSS    14484\n",
       "1. CANCELLED        3743\n",
       "6. PPD NSL          1263\n",
       "8. DEATH             141\n",
       "7. PTD                29\n",
       "dtype: int64"
      ]
     },
     "execution_count": 40,
     "metadata": {},
     "output_type": "execute_result"
    }
   ],
   "source": [
    "# Convert to Pandas Series and get value counts\n",
    "y_val_series = pd.Series(y_val)\n",
    "y_val_series.value_counts()"
   ]
  },
  {
   "cell_type": "code",
   "execution_count": 41,
   "metadata": {},
   "outputs": [
    {
     "name": "stdout",
     "output_type": "stream",
     "text": [
      "['2. NON-COMP' '4. TEMPORARY' 'Other']\n",
      "['2. NON-COMP' '4. TEMPORARY' 'Other']\n"
     ]
    }
   ],
   "source": [
    "# Create a new mapping where 2 -> 2, 4 -> 4, and all other classes -> 'Other'\n",
    "def map_to_three_classes(y):\n",
    "    # Set Class 2 (NON-COMP) and Class 4 (TEMPORARY) as they are\n",
    "    # All other classes will be labeled as 'Other'\n",
    "    return np.where(np.isin(y, ['2. NON-COMP', '4. TEMPORARY']), y, 'Other')\n",
    "\n",
    "# Apply the function to y_train and y_val\n",
    "y_train_new = map_to_three_classes(y_train)\n",
    "y_val_new = map_to_three_classes(y_val)\n",
    "\n",
    "# Ensure that the result is of the correct dtype (e.g., np.array of integers or string types)\n",
    "print(np.unique(y_train_new))  # Check the new classes in y_train\n",
    "print(np.unique(y_val_new))    # Check the new classes in y_val"
   ]
  },
  {
   "cell_type": "code",
   "execution_count": 42,
   "metadata": {},
   "outputs": [
    {
     "data": {
      "text/plain": [
       "2. NON-COMP     202442\n",
       "4. TEMPORARY    103933\n",
       "Other            92619\n",
       "dtype: int64"
      ]
     },
     "execution_count": 42,
     "metadata": {},
     "output_type": "execute_result"
    }
   ],
   "source": [
    "# Convert to Pandas Series and get value counts\n",
    "y_train_new_series = pd.Series(y_train_new)\n",
    "y_train_new_series.value_counts()"
   ]
  },
  {
   "cell_type": "code",
   "execution_count": 43,
   "metadata": {},
   "outputs": [
    {
     "data": {
      "text/plain": [
       "2. NON-COMP     87324\n",
       "4. TEMPORARY    44552\n",
       "Other           40332\n",
       "dtype: int64"
      ]
     },
     "execution_count": 43,
     "metadata": {},
     "output_type": "execute_result"
    }
   ],
   "source": [
    "# Convert to Pandas Series and get value counts\n",
    "y_val_new_series = pd.Series(y_val_new)\n",
    "y_val_new_series.value_counts()"
   ]
  },
  {
   "cell_type": "code",
   "execution_count": 68,
   "metadata": {},
   "outputs": [],
   "source": [
    "from sklearn.preprocessing import LabelEncoder\n",
    "\n",
    "# Create a LabelEncoder instance\n",
    "encoder = LabelEncoder()\n",
    "\n",
    "# Encode y_train_new and y_val_new\n",
    "y_train_encoded = encoder.fit_transform(y_train_new)  # Fit and transform on y_train_new\n",
    "y_val_encoded = encoder.transform(y_val_new)  # Only transform on y_val_new"
   ]
  },
  {
   "cell_type": "markdown",
   "metadata": {},
   "source": [
    "# 4. Feature Selection <a class=\"anchor\" id=\"chapter4\"></a>"
   ]
  },
  {
   "cell_type": "markdown",
   "metadata": {},
   "source": [
    "The feature selection process involves summarizing the essential features in the dataset to help the model focus on the most relevant information. Here, we assess the categorical and numerical variables in `X_train_processed` by examining unique values, descriptive statistics, and verifying the correctness of categorical bins and continuous feature distributions.\n",
    "\n",
    "The `X_train_processed.describe(include='O').T` command provides an overview of the categorical features in the dataset, displaying the count, unique values, top (most frequent) category, and its frequency. This summary helps us understand the distribution and cardinality of each categorical feature, which is essential for feature selection and preprocessing."
   ]
  },
  {
   "cell_type": "markdown",
   "metadata": {},
   "source": [
    "#### Descriptive Statistics for Categorical Features"
   ]
  },
  {
   "cell_type": "code",
   "execution_count": 44,
   "metadata": {},
   "outputs": [
    {
     "data": {
      "text/html": [
       "<div>\n",
       "<style scoped>\n",
       "    .dataframe tbody tr th:only-of-type {\n",
       "        vertical-align: middle;\n",
       "    }\n",
       "\n",
       "    .dataframe tbody tr th {\n",
       "        vertical-align: top;\n",
       "    }\n",
       "\n",
       "    .dataframe thead th {\n",
       "        text-align: right;\n",
       "    }\n",
       "</style>\n",
       "<table border=\"1\" class=\"dataframe\">\n",
       "  <thead>\n",
       "    <tr style=\"text-align: right;\">\n",
       "      <th></th>\n",
       "      <th>count</th>\n",
       "      <th>unique</th>\n",
       "      <th>top</th>\n",
       "      <th>freq</th>\n",
       "    </tr>\n",
       "  </thead>\n",
       "  <tbody>\n",
       "    <tr>\n",
       "      <th>Carrier Name</th>\n",
       "      <td>398994</td>\n",
       "      <td>1960</td>\n",
       "      <td>STATE INSURANCE FUND</td>\n",
       "      <td>77168</td>\n",
       "    </tr>\n",
       "    <tr>\n",
       "      <th>Carrier Type</th>\n",
       "      <td>398994</td>\n",
       "      <td>8</td>\n",
       "      <td>PRIVATE</td>\n",
       "      <td>198800</td>\n",
       "    </tr>\n",
       "    <tr>\n",
       "      <th>County of Injury</th>\n",
       "      <td>398994</td>\n",
       "      <td>63</td>\n",
       "      <td>SUFFOLK</td>\n",
       "      <td>41965</td>\n",
       "    </tr>\n",
       "    <tr>\n",
       "      <th>District Name</th>\n",
       "      <td>398994</td>\n",
       "      <td>8</td>\n",
       "      <td>NYC</td>\n",
       "      <td>188402</td>\n",
       "    </tr>\n",
       "    <tr>\n",
       "      <th>Gender</th>\n",
       "      <td>398994</td>\n",
       "      <td>3</td>\n",
       "      <td>M</td>\n",
       "      <td>232838</td>\n",
       "    </tr>\n",
       "    <tr>\n",
       "      <th>Medical Fee Region</th>\n",
       "      <td>398994</td>\n",
       "      <td>5</td>\n",
       "      <td>IV</td>\n",
       "      <td>185033</td>\n",
       "    </tr>\n",
       "    <tr>\n",
       "      <th>Zip Code</th>\n",
       "      <td>398993</td>\n",
       "      <td>9088</td>\n",
       "      <td>11236</td>\n",
       "      <td>3849</td>\n",
       "    </tr>\n",
       "    <tr>\n",
       "      <th>Category Combination</th>\n",
       "      <td>398994</td>\n",
       "      <td>22</td>\n",
       "      <td>PRIVATE-M</td>\n",
       "      <td>115379</td>\n",
       "    </tr>\n",
       "    <tr>\n",
       "      <th>Carrier_District_Interaction</th>\n",
       "      <td>398994</td>\n",
       "      <td>52</td>\n",
       "      <td>PRIVATE_NYC</td>\n",
       "      <td>92172</td>\n",
       "    </tr>\n",
       "    <tr>\n",
       "      <th>Income_Category</th>\n",
       "      <td>398994</td>\n",
       "      <td>4</td>\n",
       "      <td>Lower-Middle Income</td>\n",
       "      <td>101143</td>\n",
       "    </tr>\n",
       "    <tr>\n",
       "      <th>Age Group</th>\n",
       "      <td>398994</td>\n",
       "      <td>4</td>\n",
       "      <td>Young Adult</td>\n",
       "      <td>199496</td>\n",
       "    </tr>\n",
       "    <tr>\n",
       "      <th>promptness_category</th>\n",
       "      <td>395310</td>\n",
       "      <td>7</td>\n",
       "      <td>Until 1 weeks</td>\n",
       "      <td>159574</td>\n",
       "    </tr>\n",
       "    <tr>\n",
       "      <th>promptness_C2_category</th>\n",
       "      <td>396231</td>\n",
       "      <td>7</td>\n",
       "      <td>Until 1 weeks</td>\n",
       "      <td>160468</td>\n",
       "    </tr>\n",
       "    <tr>\n",
       "      <th>Zip_Code_Simplified</th>\n",
       "      <td>398994</td>\n",
       "      <td>77</td>\n",
       "      <td>OTHER</td>\n",
       "      <td>282759</td>\n",
       "    </tr>\n",
       "    <tr>\n",
       "      <th>Carrier Type Merged</th>\n",
       "      <td>398994</td>\n",
       "      <td>6</td>\n",
       "      <td>PRIVATE</td>\n",
       "      <td>198800</td>\n",
       "    </tr>\n",
       "    <tr>\n",
       "      <th>Carrier_Name_Simplified</th>\n",
       "      <td>398994</td>\n",
       "      <td>105</td>\n",
       "      <td>OTHER</td>\n",
       "      <td>85478</td>\n",
       "    </tr>\n",
       "    <tr>\n",
       "      <th>Body_Part_Category</th>\n",
       "      <td>382273</td>\n",
       "      <td>7</td>\n",
       "      <td>Upper Extremities</td>\n",
       "      <td>124648</td>\n",
       "    </tr>\n",
       "    <tr>\n",
       "      <th>Injury_Nature_Category</th>\n",
       "      <td>353626</td>\n",
       "      <td>4</td>\n",
       "      <td>Specific Injury</td>\n",
       "      <td>332220</td>\n",
       "    </tr>\n",
       "    <tr>\n",
       "      <th>Injury_Cause_Category</th>\n",
       "      <td>398599</td>\n",
       "      <td>8</td>\n",
       "      <td>Strain or Injury By</td>\n",
       "      <td>117997</td>\n",
       "    </tr>\n",
       "    <tr>\n",
       "      <th>Industry Risk</th>\n",
       "      <td>398994</td>\n",
       "      <td>3</td>\n",
       "      <td>Medium Risk</td>\n",
       "      <td>252096</td>\n",
       "    </tr>\n",
       "  </tbody>\n",
       "</table>\n",
       "</div>"
      ],
      "text/plain": [
       "                               count unique                   top    freq\n",
       "Carrier Name                  398994   1960  STATE INSURANCE FUND   77168\n",
       "Carrier Type                  398994      8               PRIVATE  198800\n",
       "County of Injury              398994     63               SUFFOLK   41965\n",
       "District Name                 398994      8                   NYC  188402\n",
       "Gender                        398994      3                     M  232838\n",
       "Medical Fee Region            398994      5                    IV  185033\n",
       "Zip Code                      398993   9088                 11236    3849\n",
       "Category Combination          398994     22             PRIVATE-M  115379\n",
       "Carrier_District_Interaction  398994     52           PRIVATE_NYC   92172\n",
       "Income_Category               398994      4   Lower-Middle Income  101143\n",
       "Age Group                     398994      4           Young Adult  199496\n",
       "promptness_category           395310      7         Until 1 weeks  159574\n",
       "promptness_C2_category        396231      7         Until 1 weeks  160468\n",
       "Zip_Code_Simplified           398994     77                 OTHER  282759\n",
       "Carrier Type Merged           398994      6               PRIVATE  198800\n",
       "Carrier_Name_Simplified       398994    105                 OTHER   85478\n",
       "Body_Part_Category            382273      7     Upper Extremities  124648\n",
       "Injury_Nature_Category        353626      4       Specific Injury  332220\n",
       "Injury_Cause_Category         398599      8   Strain or Injury By  117997\n",
       "Industry Risk                 398994      3           Medium Risk  252096"
      ]
     },
     "execution_count": 44,
     "metadata": {},
     "output_type": "execute_result"
    }
   ],
   "source": [
    "# Displaying descriptive statistics for categorical features in the training dataset\n",
    "X_train.describe(include='O').T"
   ]
  },
  {
   "cell_type": "markdown",
   "metadata": {},
   "source": [
    "This table provides insight into the number of unique categories within each feature, assisting in identifying high-cardinality features that may need simplification or encoding before modeling.\n",
    "\n",
    "The next output explores the Income_Category feature specifically, showing its categorical distribution across different income levels."
   ]
  },
  {
   "cell_type": "code",
   "execution_count": 45,
   "metadata": {},
   "outputs": [
    {
     "data": {
      "text/plain": [
       "Claim Identifier\n",
       "5479022             Low Income\n",
       "6023025    Lower-Middle Income\n",
       "5851908             Low Income\n",
       "5913931    Lower-Middle Income\n",
       "5845976    Upper-Middle Income\n",
       "                  ...         \n",
       "5655355             Low Income\n",
       "5940234            High Income\n",
       "6073417            High Income\n",
       "5822576    Lower-Middle Income\n",
       "5566085            High Income\n",
       "Name: Income_Category, Length: 398994, dtype: object"
      ]
     },
     "execution_count": 45,
     "metadata": {},
     "output_type": "execute_result"
    }
   ],
   "source": [
    "# Exploring the distribution of Income_Category\n",
    "X_train['Income_Category']"
   ]
  },
  {
   "cell_type": "markdown",
   "metadata": {},
   "source": [
    "The `Income_Category` feature categorizes the `Average Weekly Wage` into four levels:\n",
    "- **Low Income**\n",
    "- **Lower-Middle Income**\n",
    "- **Upper-Middle Income**\n",
    "- **High Income**\n",
    "\n",
    "This feature provides a socioeconomic context for the claims, allowing the model to account for income-based disparities in claims."
   ]
  },
  {
   "cell_type": "markdown",
   "metadata": {},
   "source": [
    "#### Descriptive Statistics for Numerical Features"
   ]
  },
  {
   "cell_type": "code",
   "execution_count": 46,
   "metadata": {},
   "outputs": [
    {
     "data": {
      "text/html": [
       "<div>\n",
       "<style scoped>\n",
       "    .dataframe tbody tr th:only-of-type {\n",
       "        vertical-align: middle;\n",
       "    }\n",
       "\n",
       "    .dataframe tbody tr th {\n",
       "        vertical-align: top;\n",
       "    }\n",
       "\n",
       "    .dataframe thead th {\n",
       "        text-align: right;\n",
       "    }\n",
       "</style>\n",
       "<table border=\"1\" class=\"dataframe\">\n",
       "  <thead>\n",
       "    <tr style=\"text-align: right;\">\n",
       "      <th></th>\n",
       "      <th>count</th>\n",
       "      <th>mean</th>\n",
       "      <th>std</th>\n",
       "      <th>min</th>\n",
       "      <th>25%</th>\n",
       "      <th>50%</th>\n",
       "      <th>75%</th>\n",
       "      <th>max</th>\n",
       "    </tr>\n",
       "  </thead>\n",
       "  <tbody>\n",
       "    <tr>\n",
       "      <th>Age at Injury</th>\n",
       "      <td>398994.0</td>\n",
       "      <td>42.908502</td>\n",
       "      <td>12.927821</td>\n",
       "      <td>16.000000</td>\n",
       "      <td>32.000000</td>\n",
       "      <td>43.000000</td>\n",
       "      <td>53.0000</td>\n",
       "      <td>80.0</td>\n",
       "    </tr>\n",
       "    <tr>\n",
       "      <th>Attorney/Representative</th>\n",
       "      <td>398994.0</td>\n",
       "      <td>0.315416</td>\n",
       "      <td>0.464682</td>\n",
       "      <td>0.000000</td>\n",
       "      <td>0.000000</td>\n",
       "      <td>0.000000</td>\n",
       "      <td>1.0000</td>\n",
       "      <td>1.0</td>\n",
       "    </tr>\n",
       "    <tr>\n",
       "      <th>Average Weekly Wage</th>\n",
       "      <td>398994.0</td>\n",
       "      <td>1246.125215</td>\n",
       "      <td>7036.444450</td>\n",
       "      <td>17.410000</td>\n",
       "      <td>865.022500</td>\n",
       "      <td>1197.862575</td>\n",
       "      <td>1530.9700</td>\n",
       "      <td>2828079.0</td>\n",
       "    </tr>\n",
       "    <tr>\n",
       "      <th>Birth Year</th>\n",
       "      <td>398994.0</td>\n",
       "      <td>1977.938823</td>\n",
       "      <td>13.038683</td>\n",
       "      <td>1918.101209</td>\n",
       "      <td>1968.000000</td>\n",
       "      <td>1978.101209</td>\n",
       "      <td>1988.0000</td>\n",
       "      <td>2006.0</td>\n",
       "    </tr>\n",
       "    <tr>\n",
       "      <th>COVID-19 Indicator</th>\n",
       "      <td>398994.0</td>\n",
       "      <td>0.048058</td>\n",
       "      <td>0.213890</td>\n",
       "      <td>0.000000</td>\n",
       "      <td>0.000000</td>\n",
       "      <td>0.000000</td>\n",
       "      <td>0.0000</td>\n",
       "      <td>1.0</td>\n",
       "    </tr>\n",
       "    <tr>\n",
       "      <th>IME-4 Count</th>\n",
       "      <td>398994.0</td>\n",
       "      <td>0.747054</td>\n",
       "      <td>1.928570</td>\n",
       "      <td>0.000000</td>\n",
       "      <td>0.000000</td>\n",
       "      <td>0.000000</td>\n",
       "      <td>0.0000</td>\n",
       "      <td>73.0</td>\n",
       "    </tr>\n",
       "    <tr>\n",
       "      <th>Industry Code</th>\n",
       "      <td>398994.0</td>\n",
       "      <td>58.553357</td>\n",
       "      <td>19.740185</td>\n",
       "      <td>11.000000</td>\n",
       "      <td>45.000000</td>\n",
       "      <td>61.000000</td>\n",
       "      <td>71.0000</td>\n",
       "      <td>92.0</td>\n",
       "    </tr>\n",
       "    <tr>\n",
       "      <th>WCIO Cause of Injury Code</th>\n",
       "      <td>398994.0</td>\n",
       "      <td>54.455566</td>\n",
       "      <td>25.606069</td>\n",
       "      <td>1.000000</td>\n",
       "      <td>31.000000</td>\n",
       "      <td>56.000000</td>\n",
       "      <td>75.0000</td>\n",
       "      <td>99.0</td>\n",
       "    </tr>\n",
       "    <tr>\n",
       "      <th>WCIO Nature of Injury Code</th>\n",
       "      <td>398994.0</td>\n",
       "      <td>41.251708</td>\n",
       "      <td>22.036754</td>\n",
       "      <td>1.000000</td>\n",
       "      <td>25.000000</td>\n",
       "      <td>49.000000</td>\n",
       "      <td>52.0000</td>\n",
       "      <td>91.0</td>\n",
       "    </tr>\n",
       "    <tr>\n",
       "      <th>WCIO Part Of Body Code</th>\n",
       "      <td>398994.0</td>\n",
       "      <td>47.898392</td>\n",
       "      <td>22.887278</td>\n",
       "      <td>10.000000</td>\n",
       "      <td>35.000000</td>\n",
       "      <td>42.000000</td>\n",
       "      <td>55.0000</td>\n",
       "      <td>101.0</td>\n",
       "    </tr>\n",
       "    <tr>\n",
       "      <th>Number of Dependents</th>\n",
       "      <td>398994.0</td>\n",
       "      <td>3.148842</td>\n",
       "      <td>1.808359</td>\n",
       "      <td>1.000000</td>\n",
       "      <td>1.000000</td>\n",
       "      <td>3.000000</td>\n",
       "      <td>5.0000</td>\n",
       "      <td>6.0</td>\n",
       "    </tr>\n",
       "    <tr>\n",
       "      <th>Days_To_First_Hearing</th>\n",
       "      <td>398994.0</td>\n",
       "      <td>88.126303</td>\n",
       "      <td>265.409473</td>\n",
       "      <td>-433.000000</td>\n",
       "      <td>0.000000</td>\n",
       "      <td>0.000000</td>\n",
       "      <td>74.0000</td>\n",
       "      <td>16373.0</td>\n",
       "    </tr>\n",
       "    <tr>\n",
       "      <th>Accident_Quarter</th>\n",
       "      <td>398994.0</td>\n",
       "      <td>2.494311</td>\n",
       "      <td>1.124911</td>\n",
       "      <td>1.000000</td>\n",
       "      <td>1.000000</td>\n",
       "      <td>3.000000</td>\n",
       "      <td>3.0000</td>\n",
       "      <td>4.0</td>\n",
       "    </tr>\n",
       "    <tr>\n",
       "      <th>Accident_Year</th>\n",
       "      <td>398994.0</td>\n",
       "      <td>2020.837614</td>\n",
       "      <td>1.810820</td>\n",
       "      <td>1961.000000</td>\n",
       "      <td>2020.000000</td>\n",
       "      <td>2021.000000</td>\n",
       "      <td>2022.0000</td>\n",
       "      <td>2023.0</td>\n",
       "    </tr>\n",
       "    <tr>\n",
       "      <th>Accident Day</th>\n",
       "      <td>398994.0</td>\n",
       "      <td>2.515579</td>\n",
       "      <td>1.822475</td>\n",
       "      <td>0.000000</td>\n",
       "      <td>1.000000</td>\n",
       "      <td>2.000000</td>\n",
       "      <td>4.0000</td>\n",
       "      <td>6.0</td>\n",
       "    </tr>\n",
       "    <tr>\n",
       "      <th>Accident on Weekend</th>\n",
       "      <td>398994.0</td>\n",
       "      <td>0.157471</td>\n",
       "      <td>0.364245</td>\n",
       "      <td>0.000000</td>\n",
       "      <td>0.000000</td>\n",
       "      <td>0.000000</td>\n",
       "      <td>0.0000</td>\n",
       "      <td>1.0</td>\n",
       "    </tr>\n",
       "    <tr>\n",
       "      <th>Salary_Per_Dependent</th>\n",
       "      <td>398994.0</td>\n",
       "      <td>inf</td>\n",
       "      <td>NaN</td>\n",
       "      <td>3.878333</td>\n",
       "      <td>245.140694</td>\n",
       "      <td>408.567824</td>\n",
       "      <td>987.0675</td>\n",
       "      <td>inf</td>\n",
       "    </tr>\n",
       "  </tbody>\n",
       "</table>\n",
       "</div>"
      ],
      "text/plain": [
       "                               count         mean          std          min  \\\n",
       "Age at Injury               398994.0    42.908502    12.927821    16.000000   \n",
       "Attorney/Representative     398994.0     0.315416     0.464682     0.000000   \n",
       "Average Weekly Wage         398994.0  1246.125215  7036.444450    17.410000   \n",
       "Birth Year                  398994.0  1977.938823    13.038683  1918.101209   \n",
       "COVID-19 Indicator          398994.0     0.048058     0.213890     0.000000   \n",
       "IME-4 Count                 398994.0     0.747054     1.928570     0.000000   \n",
       "Industry Code               398994.0    58.553357    19.740185    11.000000   \n",
       "WCIO Cause of Injury Code   398994.0    54.455566    25.606069     1.000000   \n",
       "WCIO Nature of Injury Code  398994.0    41.251708    22.036754     1.000000   \n",
       "WCIO Part Of Body Code      398994.0    47.898392    22.887278    10.000000   \n",
       "Number of Dependents        398994.0     3.148842     1.808359     1.000000   \n",
       "Days_To_First_Hearing       398994.0    88.126303   265.409473  -433.000000   \n",
       "Accident_Quarter            398994.0     2.494311     1.124911     1.000000   \n",
       "Accident_Year               398994.0  2020.837614     1.810820  1961.000000   \n",
       "Accident Day                398994.0     2.515579     1.822475     0.000000   \n",
       "Accident on Weekend         398994.0     0.157471     0.364245     0.000000   \n",
       "Salary_Per_Dependent        398994.0          inf          NaN     3.878333   \n",
       "\n",
       "                                    25%          50%        75%        max  \n",
       "Age at Injury                 32.000000    43.000000    53.0000       80.0  \n",
       "Attorney/Representative        0.000000     0.000000     1.0000        1.0  \n",
       "Average Weekly Wage          865.022500  1197.862575  1530.9700  2828079.0  \n",
       "Birth Year                  1968.000000  1978.101209  1988.0000     2006.0  \n",
       "COVID-19 Indicator             0.000000     0.000000     0.0000        1.0  \n",
       "IME-4 Count                    0.000000     0.000000     0.0000       73.0  \n",
       "Industry Code                 45.000000    61.000000    71.0000       92.0  \n",
       "WCIO Cause of Injury Code     31.000000    56.000000    75.0000       99.0  \n",
       "WCIO Nature of Injury Code    25.000000    49.000000    52.0000       91.0  \n",
       "WCIO Part Of Body Code        35.000000    42.000000    55.0000      101.0  \n",
       "Number of Dependents           1.000000     3.000000     5.0000        6.0  \n",
       "Days_To_First_Hearing          0.000000     0.000000    74.0000    16373.0  \n",
       "Accident_Quarter               1.000000     3.000000     3.0000        4.0  \n",
       "Accident_Year               2020.000000  2021.000000  2022.0000     2023.0  \n",
       "Accident Day                   1.000000     2.000000     4.0000        6.0  \n",
       "Accident on Weekend            0.000000     0.000000     0.0000        1.0  \n",
       "Salary_Per_Dependent         245.140694   408.567824   987.0675        inf  "
      ]
     },
     "execution_count": 46,
     "metadata": {},
     "output_type": "execute_result"
    }
   ],
   "source": [
    "X_train.describe().T"
   ]
  },
  {
   "cell_type": "markdown",
   "metadata": {},
   "source": [
    "These features provide comprehensive information across demographics, injury details, socioeconomics, and temporal aspects, making them well-suited to predicting claim outcomes."
   ]
  },
  {
   "cell_type": "code",
   "execution_count": 47,
   "metadata": {},
   "outputs": [
    {
     "data": {
      "text/plain": [
       "Index(['Age at Injury', 'Attorney/Representative', 'Average Weekly Wage',\n",
       "       'Birth Year', 'Carrier Name', 'Carrier Type', 'County of Injury',\n",
       "       'COVID-19 Indicator', 'District Name', 'Gender', 'IME-4 Count',\n",
       "       'Industry Code', 'Medical Fee Region', 'WCIO Cause of Injury Code',\n",
       "       'WCIO Nature of Injury Code', 'WCIO Part Of Body Code', 'Zip Code',\n",
       "       'Number of Dependents', 'Category Combination',\n",
       "       'Carrier_District_Interaction', 'Income_Category',\n",
       "       'Days_To_First_Hearing', 'Accident_Quarter', 'Accident_Year',\n",
       "       'Accident Day', 'Accident on Weekend', 'Age Group',\n",
       "       'promptness_category', 'promptness_C2_category', 'Zip_Code_Simplified',\n",
       "       'Carrier Type Merged', 'Carrier_Name_Simplified', 'Body_Part_Category',\n",
       "       'Injury_Nature_Category', 'Injury_Cause_Category', 'Industry Risk',\n",
       "       'Salary_Per_Dependent'],\n",
       "      dtype='object')"
      ]
     },
     "execution_count": 47,
     "metadata": {},
     "output_type": "execute_result"
    }
   ],
   "source": [
    "X_train.columns"
   ]
  },
  {
   "cell_type": "markdown",
   "metadata": {},
   "source": [
    "#### Analysis of `Age Group`"
   ]
  },
  {
   "cell_type": "code",
   "execution_count": 48,
   "metadata": {},
   "outputs": [
    {
     "data": {
      "text/plain": [
       "Claim Identifier\n",
       "5479022          Youth\n",
       "6023025    Young Adult\n",
       "5851908    Young Adult\n",
       "5913931     Middle Age\n",
       "5845976     Middle Age\n",
       "              ...     \n",
       "5655355         Senior\n",
       "5940234    Young Adult\n",
       "6073417     Middle Age\n",
       "5822576    Young Adult\n",
       "5566085    Young Adult\n",
       "Name: Age Group, Length: 398994, dtype: object"
      ]
     },
     "execution_count": 48,
     "metadata": {},
     "output_type": "execute_result"
    }
   ],
   "source": [
    "X_train['Age Group']"
   ]
  },
  {
   "cell_type": "markdown",
   "metadata": {},
   "source": [
    "This feature allows the model to understand age-related variations in claims, which could influence the type and nature of injuries.\n",
    "\n",
    "This structured feature selection summary provides insights into the main features, both categorical and numerical, used in the model. The focus on grouping, simplification, and categorization ensures the model captures the relevant patterns without unnecessary complexity."
   ]
  },
  {
   "cell_type": "markdown",
   "metadata": {},
   "source": [
    "#### Analysis of `Zip Code`"
   ]
  },
  {
   "cell_type": "code",
   "execution_count": 49,
   "metadata": {},
   "outputs": [
    {
     "data": {
      "text/plain": [
       "array(['CAYUGA', 'QUEENS', 'MONROE', 'ALBANY', 'KINGS', 'WESTCHESTER',\n",
       "       'JEFFERSON', 'NEW YORK', 'BROOME', 'NASSAU', 'CHEMUNG', 'BRONX',\n",
       "       'SUFFOLK', 'DUTCHESS', 'ERIE', 'CLINTON', 'CHAUTAUQUA', 'ORANGE',\n",
       "       'ONEIDA', 'RICHMOND', 'FULTON', 'MONTGOMERY', 'CATTARAUGUS',\n",
       "       'ULSTER', 'SARATOGA', 'RENSSELAER', 'ONONDAGA', 'UNKNOWN',\n",
       "       'ROCKLAND', 'SENECA', 'OSWEGO', 'DELAWARE', 'ST. LAWRENCE',\n",
       "       'NIAGARA', 'ESSEX', 'WASHINGTON', 'ONTARIO', 'OTSEGO', 'WARREN',\n",
       "       'ORLEANS', 'PUTNAM', 'ALLEGANY', 'HERKIMER', 'MADISON', 'WYOMING',\n",
       "       'SCHENECTADY', 'LIVINGSTON', 'LEWIS', 'FRANKLIN', 'HAMILTON',\n",
       "       'SULLIVAN', 'WAYNE', 'COLUMBIA', 'TOMPKINS', 'STEUBEN', 'CORTLAND',\n",
       "       'GREENE', 'TIOGA', 'GENESEE', 'SCHUYLER', 'CHENANGO', 'SCHOHARIE',\n",
       "       'YATES'], dtype=object)"
      ]
     },
     "execution_count": 49,
     "metadata": {},
     "output_type": "execute_result"
    }
   ],
   "source": [
    "X_train['County of Injury'].unique()"
   ]
  },
  {
   "cell_type": "code",
   "execution_count": 50,
   "metadata": {},
   "outputs": [
    {
     "name": "stdout",
     "output_type": "stream",
     "text": [
      "Number of unique values in 'County of Injury': 63\n"
     ]
    }
   ],
   "source": [
    "# Count the number of unique values in the 'County of Injury' column\n",
    "unique_count = X_train['County of Injury'].nunique()\n",
    "\n",
    "print(f\"Number of unique values in 'County of Injury': {unique_count}\")"
   ]
  },
  {
   "cell_type": "code",
   "execution_count": 51,
   "metadata": {},
   "outputs": [
    {
     "name": "stdout",
     "output_type": "stream",
     "text": [
      "Number of rows where the first three digits of ZipCode are between 100 and 149: 377833\n"
     ]
    }
   ],
   "source": [
    "# Ensure ZipCode is treated as a string\n",
    "X_train['Zip Code'] = X_train['Zip Code'].astype(str)\n",
    "\n",
    "# Filter out rows where the first three characters are not digits\n",
    "filtered_df = X_train[X_train['Zip Code'].str[:3].str.isdigit()]\n",
    "\n",
    "# Convert the first three digits to integers and count rows in the range 100-149\n",
    "count = filtered_df[filtered_df['Zip Code'].str[:3].astype(int).between(100, 149)].shape[0]\n",
    "\n",
    "print(f\"Number of rows where the first three digits of ZipCode are between 100 and 149: {count}\")"
   ]
  },
  {
   "cell_type": "code",
   "execution_count": 52,
   "metadata": {},
   "outputs": [
    {
     "data": {
      "text/plain": [
       "1.2886985769209562"
      ]
     },
     "execution_count": 52,
     "metadata": {},
     "output_type": "execute_result"
    }
   ],
   "source": [
    "#Proportion of Zip Codes that belong to New York\n",
    "514183 / len(X_train)"
   ]
  },
  {
   "cell_type": "code",
   "execution_count": 53,
   "metadata": {},
   "outputs": [],
   "source": [
    "New_York_allcounties = [\n",
    "    \"Albany\", \"Allegany\", \"Bronx\", \"Broome\", \"Cattaraugus\", \"Cayuga\", \"Chautauqua\", \"Chemung\", \n",
    "    \"Chenango\", \"Clinton\", \"Columbia\", \"Cortland\", \"Delaware\", \"Dutchess\", \"Erie\", \"Essex\", \n",
    "    \"Franklin\", \"Fulton\", \"Genesee\", \"Greene\", \"Hamilton\", \"Herkimer\", \"Jefferson\", \"Kings\", \n",
    "    \"Lewis\", \"Livingston\", \"Madison\", \"Monroe\", \"Montgomery\", \"Nassau\", \"New York\", \"Niagara\", \n",
    "    \"Oneida\", \"Onondaga\", \"Ontario\", \"Orange\", \"Orleans\", \"Oswego\", \"Otsego\", \"Putnam\", \"Queens\", \n",
    "    \"Rensselaer\", \"Richmond\", \"Rockland\", \"Saratoga\", \"Schenectady\", \"Schoharie\", \"Schuyler\", \n",
    "    \"Seneca\", \"St. Lawrence\", \"Steuben\", \"Suffolk\", \"Sullivan\", \"Tioga\", \"Tompkins\", \"Ulster\", \n",
    "    \"Warren\", \"Washington\", \"Wayne\", \"Westchester\", \"Wyoming\", \"Yates\"\n",
    "]"
   ]
  },
  {
   "cell_type": "code",
   "execution_count": 54,
   "metadata": {},
   "outputs": [],
   "source": [
    "New_York_allcounties_caps = [\n",
    "    \"ALBANY\", \"ALLEGANY\", \"BRONX\", \"BROOME\", \"CATTARAUGUS\", \"CAYUGA\", \"CHAUTAUQUA\", \"CHEMUNG\",\n",
    "    \"CHENANGO\", \"CLINTON\", \"COLUMBIA\", \"CORTLAND\", \"DELAWARE\", \"DUTCHESS\", \"ERIE\", \"ESSEX\",\n",
    "    \"FRANKLIN\", \"FULTON\", \"GENESEE\", \"GREENE\", \"HAMILTON\", \"HERKIMER\", \"JEFFERSON\", \"KINGS\",\n",
    "    \"LEWIS\", \"LIVINGSTON\", \"MADISON\", \"MONROE\", \"MONTGOMERY\", \"NASSAU\", \"NEW YORK\", \"NIAGARA\",\n",
    "    \"ONEIDA\", \"ONONDAGA\", \"ONTARIO\", \"ORANGE\", \"ORLEANS\", \"OSWEGO\", \"OTSEGO\", \"PUTNAM\", \"QUEENS\",\n",
    "    \"RENSSELAER\", \"RICHMOND\", \"ROCKLAND\", \"SARATOGA\", \"SCHENECTADY\", \"SCHOHARIE\", \"SCHUYLER\",\n",
    "    \"SENECA\", \"ST. LAWRENCE\", \"STEUBEN\", \"SUFFOLK\", \"SULLIVAN\", \"TIOGA\", \"TOMPKINS\", \"ULSTER\",\n",
    "    \"WARREN\", \"WASHINGTON\", \"WAYNE\", \"WESTCHESTER\", \"WYOMING\", \"YATES\"\n",
    "]"
   ]
  },
  {
   "cell_type": "code",
   "execution_count": 55,
   "metadata": {},
   "outputs": [
    {
     "name": "stdout",
     "output_type": "stream",
     "text": [
      "Number of counties used in the dataset that match the New York counties: 0\n",
      "Counties used in the dataset that match: []\n",
      "Number of New York counties not used in the dataset: 62\n",
      "Counties not used: ['ALBANY', 'ALLEGANY', 'BRONX', 'BROOME', 'CATTARAUGUS', 'CAYUGA', 'CHAUTAUQUA', 'CHEMUNG', 'CHENANGO', 'CLINTON', 'COLUMBIA', 'CORTLAND', 'DELAWARE', 'DUTCHESS', 'ERIE', 'ESSEX', 'FRANKLIN', 'FULTON', 'GENESEE', 'GREENE', 'HAMILTON', 'HERKIMER', 'JEFFERSON', 'KINGS', 'LEWIS', 'LIVINGSTON', 'MADISON', 'MONROE', 'MONTGOMERY', 'NASSAU', 'NEW YORK', 'NIAGARA', 'ONEIDA', 'ONONDAGA', 'ONTARIO', 'ORANGE', 'ORLEANS', 'OSWEGO', 'OTSEGO', 'PUTNAM', 'QUEENS', 'RENSSELAER', 'RICHMOND', 'ROCKLAND', 'SARATOGA', 'SCHENECTADY', 'SCHOHARIE', 'SCHUYLER', 'SENECA', 'ST. LAWRENCE', 'STEUBEN', 'SUFFOLK', 'SULLIVAN', 'TIOGA', 'TOMPKINS', 'ULSTER', 'WARREN', 'WASHINGTON', 'WAYNE', 'WESTCHESTER', 'WYOMING', 'YATES']\n"
     ]
    }
   ],
   "source": [
    "# Assuming your data is in a pandas DataFrame named df_train and the column is 'county_of_injury'\n",
    "\n",
    "# Convert the 'county_of_injury' column to a set for comparison\n",
    "used_counties = set(X_train['County of Injury'].dropna().str.title())  # Normalize case\n",
    "\n",
    "# Compare with the New_York_allcounties list\n",
    "used_in_list = used_counties.intersection(New_York_allcounties_caps)\n",
    "not_used_in_list = set(New_York_allcounties_caps) - used_counties\n",
    "\n",
    "# Results\n",
    "print(f\"Number of counties used in the dataset that match the New York counties: {len(used_in_list)}\")\n",
    "print(f\"Counties used in the dataset that match: {sorted(used_in_list)}\")\n",
    "print(f\"Number of New York counties not used in the dataset: {len(not_used_in_list)}\")\n",
    "print(f\"Counties not used: {sorted(not_used_in_list)}\")\n"
   ]
  },
  {
   "cell_type": "code",
   "execution_count": null,
   "metadata": {},
   "outputs": [
    {
     "name": "stdout",
     "output_type": "stream",
     "text": [
      "Number of rows with 'Unknown' in 'County of Injury': 833\n"
     ]
    }
   ],
   "source": [
    "# Count rows where 'County of Injury' is \"Unknown\"\n",
    "unknown_count = X_train['County of Injury'].str.contains(\"UNKNOWN\", na=False).sum()\n",
    "\n",
    "print(f\"Number of rows with 'Unknown' in 'County of Injury': {unknown_count}\")"
   ]
  },
  {
   "cell_type": "markdown",
   "metadata": {},
   "source": [
    "This means that we can choose between the variable Zip Code and County of Injury since they are explaining the same thing about our data. As we saw that 88 percent of Zip Codes can be explained by the variable County of Injury and that the place where people work is even more important than the place where people live we decided to drop Zip Code and use only County of Injury."
   ]
  },
  {
   "cell_type": "markdown",
   "metadata": {},
   "source": [
    "### Feature Categories\n",
    "The features have been organized into three main categories: **Categorical Features**, **Binary Features**, and **Discrete Features**. Each category represents a different data type or structure, allowing for tailored preprocessing steps and analysis."
   ]
  },
  {
   "cell_type": "code",
   "execution_count": 57,
   "metadata": {},
   "outputs": [
    {
     "data": {
      "text/plain": [
       "Index(['Age at Injury', 'Attorney/Representative', 'Average Weekly Wage',\n",
       "       'Birth Year', 'Carrier Name', 'Carrier Type', 'County of Injury',\n",
       "       'COVID-19 Indicator', 'District Name', 'Gender', 'IME-4 Count',\n",
       "       'Industry Code', 'Medical Fee Region', 'WCIO Cause of Injury Code',\n",
       "       'WCIO Nature of Injury Code', 'WCIO Part Of Body Code', 'Zip Code',\n",
       "       'Number of Dependents', 'Category Combination',\n",
       "       'Carrier_District_Interaction', 'Income_Category',\n",
       "       'Days_To_First_Hearing', 'Accident_Quarter', 'Accident_Year',\n",
       "       'Accident Day', 'Accident on Weekend', 'Age Group',\n",
       "       'promptness_category', 'promptness_C2_category', 'Zip_Code_Simplified',\n",
       "       'Carrier Type Merged', 'Carrier_Name_Simplified', 'Body_Part_Category',\n",
       "       'Injury_Nature_Category', 'Injury_Cause_Category', 'Industry Risk',\n",
       "       'Salary_Per_Dependent'],\n",
       "      dtype='object')"
      ]
     },
     "execution_count": 57,
     "metadata": {},
     "output_type": "execute_result"
    }
   ],
   "source": [
    "X_train.columns"
   ]
  },
  {
   "cell_type": "code",
   "execution_count": null,
   "metadata": {},
   "outputs": [
    {
     "name": "stdout",
     "output_type": "stream",
     "text": [
      "Categorical Features: ['Carrier_Name_Simplified', 'County of Injury', 'District Name', 'Gender', 'Medical Fee Region', 'Carrier_District_Interaction', 'Zip_Code_Simplified', 'Carrier Type Merged', 'Income_Category', 'Age Group', 'Industry Code', 'WCIO Cause of Injury Code', 'WCIO Nature of Injury Code', 'WCIO Part Of Body Code', 'Body_Part_Category', 'Injury_Nature_Category', 'Injury_Cause_Category', 'promptness_category', 'promptness_C2_category', 'Carrier Name', 'Carrier Type', 'Zip Code', 'Industry Risk']\n",
      "Binary Features: ['Attorney/Representative', 'COVID-19 Indicator', 'Accident on Weekend']\n",
      "Discrete Features: ['Number of Dependents', 'IME-4 Count', 'Accident_Quarter', 'Accident_Year', 'Accident Day']\n",
      "Continuous Features: ['Days_To_First_Hearing', 'Average Weekly Wage', 'Age at Injury']\n"
     ]
    }
   ],
   "source": [
    "# Updating the feature categories with the new columns created\n",
    "categorical_columns = [\n",
    "    'Carrier_Name_Simplified','County of Injury', \n",
    "    'District Name', 'Gender', 'Medical Fee Region', \n",
    "    'Carrier_District_Interaction',\n",
    "    'Zip_Code_Simplified', 'Carrier Type Merged','Income_Category','Age Group', 'Industry Code', \n",
    "    'WCIO Cause of Injury Code', 'WCIO Nature of Injury Code', \n",
    "    'WCIO Part Of Body Code','Body_Part_Category',\n",
    "    'Injury_Nature_Category', 'Injury_Cause_Category',\n",
    "    #'promptness_category','promptness_C2_category',\n",
    "    'Carrier Name','Carrier Type',\n",
    "    'Zip Code', 'Industry Risk'\n",
    "]\n",
    "\n",
    "binary_columns = [\n",
    "    'Attorney/Representative', 'COVID-19 Indicator',\n",
    "     'Accident on Weekend'\n",
    "]\n",
    "\n",
    "discrete_columns = [ 'Number of Dependents', 'IME-4 Count',\n",
    "    'Accident_Quarter', 'Accident_Year', 'Accident Day'\n",
    "]\n",
    "\n",
    "continuous_columns = ['Days_To_First_Hearing','Average Weekly Wage','Age at Injury',\n",
    "                      'Salary_Per_Dependent'\n",
    "                      ]\n",
    "\n",
    "# Printing the feature categories\n",
    "print(\"Categorical Features:\", categorical_columns)\n",
    "print(\"Binary Features:\", binary_columns)\n",
    "print(\"Discrete Features:\", discrete_columns)\n",
    "print(\"Continuous Features:\", continuous_columns)"
   ]
  },
  {
   "cell_type": "markdown",
   "metadata": {},
   "source": [
    "## 4.1. Preparing Data</b> <a class=\"anchor\" id=\"section_4_1\"></a>\n",
    "### Converting Discrete Columns to Integer\n",
    "In this step, we ensure all discrete columns are converted to integer data types across the training, validation, and test datasets. This is crucial for consistent data handling and processing in subsequent steps."
   ]
  },
  {
   "cell_type": "code",
   "execution_count": 59,
   "metadata": {},
   "outputs": [],
   "source": [
    "# Convert discrete columns to integer\n",
    "for column in discrete_columns:\n",
    "    X_train[column] = X_train[column].astype(int)\n",
    "    X_val[column] = X_val[column].astype(int)\n",
    "    df_test[column] = df_test[column].astype(int)"
   ]
  },
  {
   "cell_type": "markdown",
   "metadata": {},
   "source": [
    "### Scaling Features\n",
    "We apply the RobustScaler to the discrete columns. RobustScaler is beneficial for data containing outliers, as it scales data based on the median and interquartile range. This helps normalize the distribution without being heavily affected by outliers. We also use the same scaler to transform validation and test data."
   ]
  },
  {
   "cell_type": "code",
   "execution_count": null,
   "metadata": {},
   "outputs": [
    {
     "name": "stdout",
     "output_type": "stream",
     "text": [
      "Age at Injury                   False\n",
      "Attorney/Representative         False\n",
      "Average Weekly Wage             False\n",
      "Birth Year                      False\n",
      "Carrier Name                    False\n",
      "Carrier Type                    False\n",
      "County of Injury                False\n",
      "COVID-19 Indicator              False\n",
      "District Name                   False\n",
      "Gender                          False\n",
      "IME-4 Count                     False\n",
      "Industry Code                   False\n",
      "Medical Fee Region              False\n",
      "WCIO Cause of Injury Code       False\n",
      "WCIO Nature of Injury Code      False\n",
      "WCIO Part Of Body Code          False\n",
      "Zip Code                        False\n",
      "Number of Dependents            False\n",
      "Category Combination            False\n",
      "Carrier_District_Interaction    False\n",
      "Income_Category                 False\n",
      "Days_To_First_Hearing           False\n",
      "Accident_Quarter                False\n",
      "Accident_Year                   False\n",
      "Accident Day                    False\n",
      "Accident on Weekend             False\n",
      "Age Group                       False\n",
      "promptness_category              True\n",
      "promptness_C2_category           True\n",
      "Zip_Code_Simplified             False\n",
      "Carrier Type Merged             False\n",
      "Carrier_Name_Simplified         False\n",
      "Body_Part_Category               True\n",
      "Injury_Nature_Category           True\n",
      "Injury_Cause_Category            True\n",
      "Industry Risk                   False\n",
      "Salary_Per_Dependent            False\n",
      "dtype: bool\n",
      "Age at Injury                   False\n",
      "Attorney/Representative         False\n",
      "Average Weekly Wage             False\n",
      "Birth Year                      False\n",
      "Carrier Name                    False\n",
      "Carrier Type                    False\n",
      "County of Injury                False\n",
      "COVID-19 Indicator              False\n",
      "District Name                   False\n",
      "Gender                          False\n",
      "IME-4 Count                     False\n",
      "Industry Code                   False\n",
      "Medical Fee Region              False\n",
      "WCIO Cause of Injury Code       False\n",
      "WCIO Nature of Injury Code      False\n",
      "WCIO Part Of Body Code          False\n",
      "Zip Code                        False\n",
      "Number of Dependents            False\n",
      "Category Combination            False\n",
      "Carrier_District_Interaction    False\n",
      "Income_Category                 False\n",
      "Days_To_First_Hearing           False\n",
      "Accident_Quarter                False\n",
      "Accident_Year                   False\n",
      "Accident Day                    False\n",
      "Accident on Weekend             False\n",
      "Age Group                       False\n",
      "promptness_category             False\n",
      "promptness_C2_category          False\n",
      "Zip_Code_Simplified             False\n",
      "Carrier Type Merged             False\n",
      "Carrier_Name_Simplified         False\n",
      "Body_Part_Category              False\n",
      "Injury_Nature_Category          False\n",
      "Injury_Cause_Category           False\n",
      "Industry Risk                   False\n",
      "Salary_Per_Dependent             True\n",
      "dtype: bool\n",
      "Age at Injury                   False\n",
      "Attorney/Representative         False\n",
      "Average Weekly Wage             False\n",
      "Birth Year                      False\n",
      "Carrier Name                    False\n",
      "Carrier Type                    False\n",
      "County of Injury                False\n",
      "COVID-19 Indicator              False\n",
      "District Name                   False\n",
      "Gender                          False\n",
      "IME-4 Count                     False\n",
      "Industry Code                   False\n",
      "Medical Fee Region              False\n",
      "WCIO Cause of Injury Code       False\n",
      "WCIO Nature of Injury Code      False\n",
      "WCIO Part Of Body Code          False\n",
      "Zip Code                        False\n",
      "Number of Dependents            False\n",
      "Category Combination            False\n",
      "Carrier_District_Interaction    False\n",
      "Income_Category                 False\n",
      "Days_To_First_Hearing           False\n",
      "Accident_Quarter                False\n",
      "Accident_Year                   False\n",
      "Accident Day                    False\n",
      "Accident on Weekend             False\n",
      "Age Group                       False\n",
      "promptness_category             False\n",
      "promptness_C2_category          False\n",
      "Zip_Code_Simplified             False\n",
      "Carrier Type Merged             False\n",
      "Carrier_Name_Simplified         False\n",
      "Body_Part_Category              False\n",
      "Injury_Nature_Category          False\n",
      "Injury_Cause_Category           False\n",
      "Industry Risk                   False\n",
      "Salary_Per_Dependent            False\n",
      "dtype: bool\n"
     ]
    }
   ],
   "source": [
    "import pandas as pd\n",
    "import numpy as np\n",
    "\n",
    "# Check for NaNs and infinite values in the DataFrame\n",
    "print(X_train.isna().any())  # Check if any column contains NaN values\n",
    "print((X_train == np.inf).any())  # Check if any column contains positive infinity\n",
    "print((X_train == -np.inf).any())  # Check if any column contains negative infinity\n"
   ]
  },
  {
   "cell_type": "code",
   "execution_count": 63,
   "metadata": {},
   "outputs": [
    {
     "data": {
      "text/html": [
       "<div>\n",
       "<style scoped>\n",
       "    .dataframe tbody tr th:only-of-type {\n",
       "        vertical-align: middle;\n",
       "    }\n",
       "\n",
       "    .dataframe tbody tr th {\n",
       "        vertical-align: top;\n",
       "    }\n",
       "\n",
       "    .dataframe thead th {\n",
       "        text-align: right;\n",
       "    }\n",
       "</style>\n",
       "<table border=\"1\" class=\"dataframe\">\n",
       "  <thead>\n",
       "    <tr style=\"text-align: right;\">\n",
       "      <th></th>\n",
       "      <th>Number of Dependents</th>\n",
       "      <th>IME-4 Count</th>\n",
       "      <th>Accident_Quarter</th>\n",
       "      <th>Accident_Year</th>\n",
       "      <th>Accident Day</th>\n",
       "      <th>Days_To_First_Hearing</th>\n",
       "      <th>Average Weekly Wage</th>\n",
       "      <th>Age at Injury</th>\n",
       "    </tr>\n",
       "    <tr>\n",
       "      <th>Claim Identifier</th>\n",
       "      <th></th>\n",
       "      <th></th>\n",
       "      <th></th>\n",
       "      <th></th>\n",
       "      <th></th>\n",
       "      <th></th>\n",
       "      <th></th>\n",
       "      <th></th>\n",
       "    </tr>\n",
       "  </thead>\n",
       "  <tbody>\n",
       "    <tr>\n",
       "      <th>5479022</th>\n",
       "      <td>0.4</td>\n",
       "      <td>0.000000</td>\n",
       "      <td>0.333333</td>\n",
       "      <td>0.951613</td>\n",
       "      <td>0.166667</td>\n",
       "      <td>0.025765</td>\n",
       "      <td>0.000282</td>\n",
       "      <td>0.125000</td>\n",
       "    </tr>\n",
       "    <tr>\n",
       "      <th>6023025</th>\n",
       "      <td>0.2</td>\n",
       "      <td>0.054795</td>\n",
       "      <td>0.333333</td>\n",
       "      <td>0.983871</td>\n",
       "      <td>0.166667</td>\n",
       "      <td>0.032369</td>\n",
       "      <td>0.000382</td>\n",
       "      <td>0.312500</td>\n",
       "    </tr>\n",
       "    <tr>\n",
       "      <th>5851908</th>\n",
       "      <td>0.4</td>\n",
       "      <td>0.027397</td>\n",
       "      <td>0.333333</td>\n",
       "      <td>0.967742</td>\n",
       "      <td>0.333333</td>\n",
       "      <td>0.065869</td>\n",
       "      <td>0.000214</td>\n",
       "      <td>0.390625</td>\n",
       "    </tr>\n",
       "    <tr>\n",
       "      <th>5913931</th>\n",
       "      <td>0.0</td>\n",
       "      <td>0.027397</td>\n",
       "      <td>0.000000</td>\n",
       "      <td>0.983871</td>\n",
       "      <td>0.500000</td>\n",
       "      <td>0.042663</td>\n",
       "      <td>0.000362</td>\n",
       "      <td>0.671875</td>\n",
       "    </tr>\n",
       "    <tr>\n",
       "      <th>5845976</th>\n",
       "      <td>0.8</td>\n",
       "      <td>0.000000</td>\n",
       "      <td>0.666667</td>\n",
       "      <td>0.967742</td>\n",
       "      <td>0.166667</td>\n",
       "      <td>0.025765</td>\n",
       "      <td>0.000427</td>\n",
       "      <td>0.656250</td>\n",
       "    </tr>\n",
       "    <tr>\n",
       "      <th>...</th>\n",
       "      <td>...</td>\n",
       "      <td>...</td>\n",
       "      <td>...</td>\n",
       "      <td>...</td>\n",
       "      <td>...</td>\n",
       "      <td>...</td>\n",
       "      <td>...</td>\n",
       "      <td>...</td>\n",
       "    </tr>\n",
       "    <tr>\n",
       "      <th>5655355</th>\n",
       "      <td>0.4</td>\n",
       "      <td>0.000000</td>\n",
       "      <td>0.000000</td>\n",
       "      <td>0.967742</td>\n",
       "      <td>0.333333</td>\n",
       "      <td>0.025765</td>\n",
       "      <td>0.000290</td>\n",
       "      <td>0.781250</td>\n",
       "    </tr>\n",
       "    <tr>\n",
       "      <th>5940234</th>\n",
       "      <td>0.4</td>\n",
       "      <td>0.000000</td>\n",
       "      <td>0.000000</td>\n",
       "      <td>0.983871</td>\n",
       "      <td>0.500000</td>\n",
       "      <td>0.025765</td>\n",
       "      <td>0.000707</td>\n",
       "      <td>0.296875</td>\n",
       "    </tr>\n",
       "    <tr>\n",
       "      <th>6073417</th>\n",
       "      <td>0.0</td>\n",
       "      <td>0.027397</td>\n",
       "      <td>0.666667</td>\n",
       "      <td>0.983871</td>\n",
       "      <td>0.166667</td>\n",
       "      <td>0.025765</td>\n",
       "      <td>0.000783</td>\n",
       "      <td>0.625000</td>\n",
       "    </tr>\n",
       "    <tr>\n",
       "      <th>5822576</th>\n",
       "      <td>1.0</td>\n",
       "      <td>0.000000</td>\n",
       "      <td>0.666667</td>\n",
       "      <td>0.967742</td>\n",
       "      <td>0.000000</td>\n",
       "      <td>0.025765</td>\n",
       "      <td>0.000363</td>\n",
       "      <td>0.375000</td>\n",
       "    </tr>\n",
       "    <tr>\n",
       "      <th>5566085</th>\n",
       "      <td>0.2</td>\n",
       "      <td>0.000000</td>\n",
       "      <td>0.000000</td>\n",
       "      <td>0.951613</td>\n",
       "      <td>0.000000</td>\n",
       "      <td>0.025765</td>\n",
       "      <td>0.000537</td>\n",
       "      <td>0.218750</td>\n",
       "    </tr>\n",
       "  </tbody>\n",
       "</table>\n",
       "<p>398994 rows × 8 columns</p>\n",
       "</div>"
      ],
      "text/plain": [
       "                  Number of Dependents  IME-4 Count  Accident_Quarter  \\\n",
       "Claim Identifier                                                        \n",
       "5479022                            0.4     0.000000          0.333333   \n",
       "6023025                            0.2     0.054795          0.333333   \n",
       "5851908                            0.4     0.027397          0.333333   \n",
       "5913931                            0.0     0.027397          0.000000   \n",
       "5845976                            0.8     0.000000          0.666667   \n",
       "...                                ...          ...               ...   \n",
       "5655355                            0.4     0.000000          0.000000   \n",
       "5940234                            0.4     0.000000          0.000000   \n",
       "6073417                            0.0     0.027397          0.666667   \n",
       "5822576                            1.0     0.000000          0.666667   \n",
       "5566085                            0.2     0.000000          0.000000   \n",
       "\n",
       "                  Accident_Year  Accident Day  Days_To_First_Hearing  \\\n",
       "Claim Identifier                                                       \n",
       "5479022                0.951613      0.166667               0.025765   \n",
       "6023025                0.983871      0.166667               0.032369   \n",
       "5851908                0.967742      0.333333               0.065869   \n",
       "5913931                0.983871      0.500000               0.042663   \n",
       "5845976                0.967742      0.166667               0.025765   \n",
       "...                         ...           ...                    ...   \n",
       "5655355                0.967742      0.333333               0.025765   \n",
       "5940234                0.983871      0.500000               0.025765   \n",
       "6073417                0.983871      0.166667               0.025765   \n",
       "5822576                0.967742      0.000000               0.025765   \n",
       "5566085                0.951613      0.000000               0.025765   \n",
       "\n",
       "                  Average Weekly Wage  Age at Injury  \n",
       "Claim Identifier                                      \n",
       "5479022                      0.000282       0.125000  \n",
       "6023025                      0.000382       0.312500  \n",
       "5851908                      0.000214       0.390625  \n",
       "5913931                      0.000362       0.671875  \n",
       "5845976                      0.000427       0.656250  \n",
       "...                               ...            ...  \n",
       "5655355                      0.000290       0.781250  \n",
       "5940234                      0.000707       0.296875  \n",
       "6073417                      0.000783       0.625000  \n",
       "5822576                      0.000363       0.375000  \n",
       "5566085                      0.000537       0.218750  \n",
       "\n",
       "[398994 rows x 8 columns]"
      ]
     },
     "execution_count": 63,
     "metadata": {},
     "output_type": "execute_result"
    }
   ],
   "source": [
    "#scaling features\n",
    "# Usar robustscaler para dados que contêm outliers\n",
    "# Usar minmaxscaler para dados que não têm outliers \n",
    "from sklearn.preprocessing import MinMaxScaler\n",
    "feat_scaler = MinMaxScaler()\n",
    "X_train[discrete_columns + continuous_columns] = feat_scaler.fit_transform(X_train[discrete_columns + continuous_columns])\n",
    "\n",
    "X_train_num_scaled = X_train[discrete_columns + continuous_columns]\n",
    "\n",
    "#apply same transformation for val data\n",
    "X_val[discrete_columns + continuous_columns] = feat_scaler.transform(X_val[discrete_columns + continuous_columns])\n",
    "\n",
    "X_val_num_scaled = X_val[discrete_columns + continuous_columns]\n",
    "\n",
    "#apply same transformation for test data\n",
    "df_test[discrete_columns + continuous_columns] = feat_scaler.transform(df_test[discrete_columns + continuous_columns])\n",
    "df_test_num_scaled = df_test[discrete_columns + continuous_columns]\n",
    "\n",
    "#X_val, X_train\n",
    "X_train_num_scaled"
   ]
  },
  {
   "cell_type": "markdown",
   "metadata": {},
   "source": [
    "### Variance Check After Scaling\n",
    "After scaling, we check the variance of each scaled feature to confirm that the features have been scaled properly. Lower variance after scaling indicates that data is normalized and less affected by magnitude differences."
   ]
  },
  {
   "cell_type": "code",
   "execution_count": 64,
   "metadata": {},
   "outputs": [
    {
     "data": {
      "text/plain": [
       "Number of Dependents     0.130806\n",
       "IME-4 Count              0.000698\n",
       "Accident_Quarter         0.140603\n",
       "Accident_Year            0.000853\n",
       "Accident Day             0.092262\n",
       "Days_To_First_Hearing    0.000249\n",
       "Average Weekly Wage      0.000006\n",
       "Age at Injury            0.040803\n",
       "dtype: float64"
      ]
     },
     "execution_count": 64,
     "metadata": {},
     "output_type": "execute_result"
    }
   ],
   "source": [
    "# Check variance of scaled data\n",
    "X_train_num_scaled.var()"
   ]
  },
  {
   "cell_type": "markdown",
   "metadata": {},
   "source": [
    "The output shows the variance of each discrete column in the scaled training set. These values help validate that the scaling process has achieved a consistent data distribution across features."
   ]
  },
  {
   "cell_type": "markdown",
   "metadata": {},
   "source": [
    " ## 4.2. Numerical Features</b> <a class=\"anchor\" id=\"section_4_2\"></a>"
   ]
  },
  {
   "cell_type": "markdown",
   "metadata": {},
   "source": [
    " > ### Spearman and Pearson correlation matrix <a class=\"anchor\" id=\"sub_section_4_1_2\"></a>\n",
    "\n",
    "To better understand the relationships between numerical features, we generate Spearman and Pearson correlation matrices. Correlation matrices help identify linear and monotonic relationships between variables, which can be useful in feature selection and engineering."
   ]
  },
  {
   "cell_type": "markdown",
   "metadata": {},
   "source": [
    "#### Correlation Heatmap Function\n",
    "The `cor_heatmap` function displays a heatmap of a given correlation matrix. We set various visual parameters to enhance readability:\n",
    "- **figsize**: Sets the figure size.\n",
    "- **cmap**: Chooses the color palette ('viridis').\n",
    "- **mask**: Hides the upper triangle of the matrix for clarity."
   ]
  },
  {
   "cell_type": "code",
   "execution_count": 65,
   "metadata": {},
   "outputs": [],
   "source": [
    "def cor_heatmap(cor, name):\n",
    "    plt.figure(figsize=(18,12))\n",
    "    sns.heatmap(data = cor.round(2), annot = True, cmap = 'viridis', linecolor = 'white', linewidth=0.5, fmt='.2', mask=np.triu(cor, k=0))\n",
    "    plt.title(f'{name} Correlation Matrix', fontdict = {'fontsize': 20})\n",
    "    plt.show()"
   ]
  },
  {
   "cell_type": "markdown",
   "metadata": {},
   "source": [
    "#### Spearman Correlation Calculation and Plotting\n",
    "Here, we calculate the Spearman correlation on the scaled numerical features and then plot the resulting matrix."
   ]
  },
  {
   "cell_type": "code",
   "execution_count": 66,
   "metadata": {},
   "outputs": [
    {
     "data": {
      "image/png": "[encoded data removed]",
      "text/plain": [
       "<Figure size 1800x1200 with 2 Axes>"
      ]
     },
     "metadata": {},
     "output_type": "display_data"
    }
   ],
   "source": [
    "corr_data_numerical = X_train_num_scaled \n",
    "cor_spearman = corr_data_numerical.corr(method='spearman')\n",
    "\n",
    "cor_heatmap(cor_spearman, 'Spearman')"
   ]
  },
  {
   "cell_type": "markdown",
   "metadata": {},
   "source": [
    " > ### LASSO Regression <a class=\"anchor\" id=\"sub_section_4_1_3\"></a>\n",
    "\n",
    " The LASSO (Least Absolute Shrinkage and Selection Operator) regression is used here for feature selection by fitting a model to the standardized dataset and analyzing the coefficients."
   ]
  },
  {
   "cell_type": "code",
   "execution_count": 69,
   "metadata": {},
   "outputs": [
    {
     "data": {
      "text/plain": [
       "Accident_Quarter         -0.019867\n",
       "Accident Day             -0.009319\n",
       "Number of Dependents     -0.003840\n",
       "Average Weekly Wage       0.000000\n",
       "Age at Injury             0.231679\n",
       "Accident_Year             0.451261\n",
       "IME-4 Count               6.732633\n",
       "Days_To_First_Hearing    10.680414\n",
       "dtype: float64"
      ]
     },
     "execution_count": 69,
     "metadata": {},
     "output_type": "execute_result"
    }
   ],
   "source": [
    "# Fit regression\n",
    "reg = LassoCV().fit(X_train_num_scaled, y_train_encoded)\n",
    "#get coefficients\n",
    "coef = pd.Series(reg.coef_, index = X_train_num_scaled.columns)\n",
    "# Sort coefficients to observe importance\n",
    "coef.sort_values()"
   ]
  },
  {
   "cell_type": "markdown",
   "metadata": {},
   "source": [
    "**Observations:**\n",
    "\n",
    "The LASSO model assigns non-zero coefficients only to the features it considers important.\n",
    "\n",
    "IME-4 Count has the highest positive coefficient, indicating a strong positive relationship with the target variable, as well as Days_To_First_Hearing\n",
    "\n",
    "\n",
    "Accident Day and Accident Quarter have smaller negative coefficients, implying a weaker inverse relationship with the target.\n",
    "\n",
    "Average Weekly Wage and Number of Dependents has close to zero impact, suggesting it may not be a significant predictor in the model."
   ]
  },
  {
   "cell_type": "code",
   "execution_count": 71,
   "metadata": {},
   "outputs": [],
   "source": [
    "def plot_importance(coef, name):\n",
    "    imp_coef = coef.sort_values()\n",
    "    plt.figure(figsize=(3,5))\n",
    "    imp_coef.plot(kind=\"barh\", color=\"c\")\n",
    "    plt.title(\"Feature importance using \" + name + \" Model\")\n",
    "    plt.show()"
   ]
  },
  {
   "cell_type": "markdown",
   "metadata": {},
   "source": [
    "This function generates a horizontal bar plot of the feature importance values derived from the LASSO model, helping to visualize which features are prioritized by the model."
   ]
  },
  {
   "cell_type": "code",
   "execution_count": 72,
   "metadata": {},
   "outputs": [
    {
     "data": {
      "image/png": "[encoded data removed]",
      "text/plain": [
       "<Figure size 300x500 with 1 Axes>"
      ]
     },
     "metadata": {},
     "output_type": "display_data"
    }
   ],
   "source": [
    "plot_importance(coef,'Lasso')"
   ]
  },
  {
   "cell_type": "markdown",
   "metadata": {},
   "source": [
    " > ### Recursive Feature Elimination - RFE <a class=\"anchor\" id=\"sub_section_4_1_4\"></a>\n",
    "\n",
    " RFE is employed here to further validate the important features as identified by LASSO. By sequentially removing the least important features, RFE helps to refine the feature set."
   ]
  },
  {
   "cell_type": "code",
   "execution_count": 73,
   "metadata": {},
   "outputs": [
    {
     "data": {
      "text/plain": [
       "Index(['Number of Dependents', 'IME-4 Count', 'Accident_Quarter',\n",
       "       'Accident_Year', 'Accident Day', 'Days_To_First_Hearing',\n",
       "       'Average Weekly Wage', 'Age at Injury'],\n",
       "      dtype='object')"
      ]
     },
     "execution_count": 73,
     "metadata": {},
     "output_type": "execute_result"
    }
   ],
   "source": [
    "# List of columns used in RFE process\n",
    "X_train_num_scaled.columns"
   ]
  },
  {
   "cell_type": "markdown",
   "metadata": {},
   "source": [
    "Observations:\n",
    "The selected features after RFE likely overlap with those identified by LASSO, suggesting consistency in feature importance.\n",
    "Using both LASSO and RFE provides a more robust feature selection by cross-validating the importance of individual features."
   ]
  },
  {
   "cell_type": "markdown",
   "metadata": {},
   "source": [
    "This block of code performs RFE to identify the best subset of features by iterating over a range of feature numbers. The code aims to maximize model performance on the validation set."
   ]
  },
  {
   "cell_type": "code",
   "execution_count": 74,
   "metadata": {},
   "outputs": [
    {
     "name": "stdout",
     "output_type": "stream",
     "text": [
      "Optimum number of features: 6\n",
      "Score with 6 features: 0.635813\n"
     ]
    }
   ],
   "source": [
    "# Number of features\n",
    "nof_list=np.arange(1,8)            \n",
    "high_score=0\n",
    "\n",
    "# Variable to store the optimum features\n",
    "nof=0           \n",
    "score_list =[]\n",
    "for n in range(len(nof_list)):\n",
    "    model = LogisticRegression()\n",
    "    rfe = RFE(model,n_features_to_select = nof_list[n])\n",
    "    X_train_rfe = rfe.fit_transform(X_train_num_scaled,y_train_encoded)\n",
    "    X_val_rfe = rfe.transform(X_val_num_scaled)\n",
    "    model.fit(X_train_rfe,y_train_encoded)\n",
    "    \n",
    "    score = model.score(X_val_rfe,y_val_encoded)\n",
    "    score_list.append(score)\n",
    "    \n",
    "    if(score>high_score):\n",
    "        high_score = score\n",
    "        nof = nof_list[n]\n",
    "        \n",
    "print(\"Optimum number of features: %d\" %nof)\n",
    "print(\"Score with %d features: %f\" % (nof, high_score))"
   ]
  },
  {
   "cell_type": "markdown",
   "metadata": {},
   "source": [
    "**Observations:**\n",
    "\n",
    "The loop evaluates models with 1 to 8 features, tracking the score for each.\n",
    "\n",
    "The output indicates that 6 features yielded the highest validation score of 0.635813."
   ]
  },
  {
   "cell_type": "markdown",
   "metadata": {},
   "source": [
    "### Applying RFE with the Optimal Number of Features\n",
    "Once the optimal number of features is identified, the RFE model is finalized with this configuration."
   ]
  },
  {
   "cell_type": "code",
   "execution_count": 75,
   "metadata": {},
   "outputs": [],
   "source": [
    "#rfscv- to select 1st the number of features we should select\n",
    "model = LogisticRegression()\n",
    "rfe = RFE(estimator = model, n_features_to_select = 6)"
   ]
  },
  {
   "cell_type": "code",
   "execution_count": 77,
   "metadata": {},
   "outputs": [],
   "source": [
    "X_rfe= rfe.fit_transform(X=X_train_num_scaled, y=y_train_encoded)"
   ]
  },
  {
   "cell_type": "markdown",
   "metadata": {},
   "source": [
    "This shows the results of the feature selection process, listing the features selected by RFE. The code snippet confirms which features were selected as relevant by the RFE model and displays them in a boolean Series, where True indicates the feature was selected and False means it was not."
   ]
  },
  {
   "cell_type": "code",
   "execution_count": 78,
   "metadata": {},
   "outputs": [
    {
     "data": {
      "text/plain": [
       "Number of Dependents     False\n",
       "IME-4 Count               True\n",
       "Accident_Quarter          True\n",
       "Accident_Year             True\n",
       "Accident Day             False\n",
       "Days_To_First_Hearing     True\n",
       "Average Weekly Wage       True\n",
       "Age at Injury             True\n",
       "dtype: bool"
      ]
     },
     "execution_count": 78,
     "metadata": {},
     "output_type": "execute_result"
    }
   ],
   "source": [
    "selected_features = pd.Series(rfe.support_, index = X_train_num_scaled.columns)\n",
    "selected_features"
   ]
  },
  {
   "cell_type": "code",
   "execution_count": null,
   "metadata": {},
   "outputs": [],
   "source": [
    "from sklearn.tree import DecisionTreeClassifier"
   ]
  },
  {
   "cell_type": "code",
   "execution_count": null,
   "metadata": {},
   "outputs": [
    {
     "ename": "NameError",
     "evalue": "name 'DecisionTreeClassifier' is not defined",
     "output_type": "error",
     "traceback": [
      "\u001b[1;31m---------------------------------------------------------------------------\u001b[0m",
      "\u001b[1;31mNameError\u001b[0m                                 Traceback (most recent call last)",
      "Cell \u001b[1;32mIn[1], line 1\u001b[0m\n\u001b[1;32m----> 1\u001b[0m gini_importance \u001b[38;5;241m=\u001b[39m DecisionTreeClassifier()\u001b[38;5;241m.\u001b[39mfit(X_train_preprocessed, y_train_encoded)\u001b[38;5;241m.\u001b[39mfeature_importances_\n\u001b[0;32m      2\u001b[0m entropy_importance \u001b[38;5;241m=\u001b[39m DecisionTreeClassifier(criterion\u001b[38;5;241m=\u001b[39m\u001b[38;5;124m'\u001b[39m\u001b[38;5;124mentropy\u001b[39m\u001b[38;5;124m'\u001b[39m)\u001b[38;5;241m.\u001b[39mfit(X_train, y_train)\u001b[38;5;241m.\u001b[39mfeature_importances_\n",
      "\u001b[1;31mNameError\u001b[0m: name 'DecisionTreeClassifier' is not defined"
     ]
    }
   ],
   "source": [
    "gini_importance = DecisionTreeClassifier().fit(X_train_num_scaled, y_train_encoded).feature_importances_\n",
    "entropy_importance = DecisionTreeClassifier(criterion='entropy').fit(X_train, y_train).feature_importances_"
   ]
  },
  {
   "cell_type": "code",
   "execution_count": null,
   "metadata": {},
   "outputs": [],
   "source": [
    "import seaborn as sns\n",
    "\n",
    "zippy = pd.DataFrame(zip(gini_importance, entropy_importance), columns = ['gini','entropy'])\n",
    "zippy['col'] = X_train.columns\n",
    "tidy = zippy.melt(id_vars='col').rename(columns=str.title)\n",
    "tidy.sort_values(['Value'], ascending = False, inplace = True)\n",
    "\n",
    "plt.figure(figsize=(13,5))\n",
    "sns.barplot(y='Col', x='Value', hue='Variable', data=tidy)\n",
    "\n",
    "#sum of the importance of the features is 1\n",
    "#we can see that the most important feature is glucose\n",
    "#we can see that the importance of the features is different\n"
   ]
  },
  {
   "cell_type": "markdown",
   "metadata": {},
   "source": [
    "## 4.3. Categorical Features</b> <a class=\"anchor\" id=\"section_4_3\"></a>\n",
    "Chi-squared and MIC for the categorical ones."
   ]
  },
  {
   "cell_type": "markdown",
   "metadata": {},
   "source": [
    " > ### $\\chi ^2$ Test for Independence <a class=\"anchor\" id=\"sub_section_4_2_1\"></a>\n",
    "\n",
    " We'll apply the Chi-squared test on categorical features to check for independence. This test is suitable for categorical data and helps identify features that have significant associations with the target variable."
   ]
  },
  {
   "cell_type": "code",
   "execution_count": 79,
   "metadata": {},
   "outputs": [
    {
     "data": {
      "text/plain": [
       "['Attorney/Representative', 'COVID-19 Indicator', 'Accident on Weekend']"
      ]
     },
     "execution_count": 79,
     "metadata": {},
     "output_type": "execute_result"
    }
   ],
   "source": [
    "binary_columns"
   ]
  },
  {
   "cell_type": "code",
   "execution_count": 80,
   "metadata": {},
   "outputs": [],
   "source": [
    "#To make sure that we keep the preprocessed dataset without the encoded columns\n",
    "X_train_processed_copy = X_train.copy()\n",
    "X_val_processed_copy = X_val.copy()\n",
    "df_test_processed_copy = df_test.copy()"
   ]
  },
  {
   "cell_type": "code",
   "execution_count": 85,
   "metadata": {},
   "outputs": [
    {
     "data": {
      "text/plain": [
       "(398994, 37)"
      ]
     },
     "execution_count": 85,
     "metadata": {},
     "output_type": "execute_result"
    }
   ],
   "source": [
    "X_train_processed_copy.shape"
   ]
  },
  {
   "cell_type": "code",
   "execution_count": 86,
   "metadata": {},
   "outputs": [
    {
     "data": {
      "text/plain": [
       "(172208, 37)"
      ]
     },
     "execution_count": 86,
     "metadata": {},
     "output_type": "execute_result"
    }
   ],
   "source": [
    "X_val_processed_copy.shape"
   ]
  },
  {
   "cell_type": "code",
   "execution_count": 88,
   "metadata": {},
   "outputs": [
    {
     "data": {
      "text/plain": [
       "Index(['Age at Injury', 'Attorney/Representative', 'Average Weekly Wage',\n",
       "       'Birth Year', 'Carrier Name', 'Carrier Type', 'County of Injury',\n",
       "       'COVID-19 Indicator', 'District Name', 'Gender', 'IME-4 Count',\n",
       "       'Industry Code', 'Medical Fee Region', 'WCIO Cause of Injury Code',\n",
       "       'WCIO Nature of Injury Code', 'WCIO Part Of Body Code', 'Zip Code',\n",
       "       'Number of Dependents', 'Category Combination',\n",
       "       'Carrier_District_Interaction', 'Income_Category',\n",
       "       'Days_To_First_Hearing', 'Accident_Quarter', 'Accident_Year',\n",
       "       'Accident Day', 'Accident on Weekend', 'Age Group',\n",
       "       'promptness_category', 'promptness_C2_category', 'Zip_Code_Simplified',\n",
       "       'Carrier Type Merged', 'Carrier_Name_Simplified', 'Body_Part_Category',\n",
       "       'Injury_Nature_Category', 'Injury_Cause_Category', 'Industry Risk',\n",
       "       'Salary_Per_Dependent'],\n",
       "      dtype='object')"
      ]
     },
     "execution_count": 88,
     "metadata": {},
     "output_type": "execute_result"
    }
   ],
   "source": [
    "X_val_processed_copy.columns"
   ]
  },
  {
   "cell_type": "code",
   "execution_count": 89,
   "metadata": {},
   "outputs": [
    {
     "data": {
      "text/plain": [
       "Index(['Age at Injury', 'Attorney/Representative', 'Average Weekly Wage',\n",
       "       'Birth Year', 'Carrier Name', 'Carrier Type', 'County of Injury',\n",
       "       'COVID-19 Indicator', 'District Name', 'Gender', 'IME-4 Count',\n",
       "       'Industry Code', 'Medical Fee Region', 'WCIO Cause of Injury Code',\n",
       "       'WCIO Nature of Injury Code', 'WCIO Part Of Body Code', 'Zip Code',\n",
       "       'Number of Dependents', 'Carrier_District_Interaction',\n",
       "       'Income_Category', 'Days_To_First_Hearing', 'Accident_Quarter',\n",
       "       'Accident_Year', 'Accident Day', 'Accident on Weekend', 'Age Group',\n",
       "       'promptness_category', 'promptness_C2_category', 'Zip_Code_Simplified',\n",
       "       'Carrier Type Merged', 'Carrier_Name_Simplified', 'Body_Part_Category',\n",
       "       'Injury_Nature_Category', 'Injury_Cause_Category',\n",
       "       'Salary_Per_Dependent'],\n",
       "      dtype='object')"
      ]
     },
     "execution_count": 89,
     "metadata": {},
     "output_type": "execute_result"
    }
   ],
   "source": [
    "df_test_processed_copy.columns"
   ]
  },
  {
   "cell_type": "code",
   "execution_count": 87,
   "metadata": {},
   "outputs": [
    {
     "data": {
      "text/plain": [
       "(387975, 35)"
      ]
     },
     "execution_count": 87,
     "metadata": {},
     "output_type": "execute_result"
    }
   ],
   "source": [
    "df_test_processed_copy.shape"
   ]
  },
  {
   "cell_type": "markdown",
   "metadata": {},
   "source": [
    "### At first: Encoding Categorical Features with LabelEncoder\n",
    "We encode categorical features using LabelEncoder, noting that unseen labels in the validation and test sets are replaced with \"Unknown.\" This approach is a compromise to manage high cardinality without drastically increasing feature dimensionality."
   ]
  },
  {
   "cell_type": "code",
   "execution_count": null,
   "metadata": {},
   "outputs": [],
   "source": [
    "# from sklearn.preprocessing import LabelEncoder\n",
    "\n",
    "# ## for now lets use label encoder but that does not makes much more sense because we dont have an order... we need to use one hot encoder byt it will increase the dimensionality of the data\n",
    "\n",
    "# # Initialize a LabelEncoder\n",
    "# label_encoders = {}\n",
    "\n",
    "# # Apply LabelEncoder to each categorical column in training and then transform validation and test datasets\n",
    "# for col in categorical_columns:\n",
    "#     le = LabelEncoder()\n",
    "    \n",
    "#     # Fit LabelEncoder on the training data\n",
    "#     X_train_processed[col] = le.fit_transform(X_train_processed[col])\n",
    "    \n",
    "#     # Handle unseen labels in validation and test data\n",
    "#     # Add an \"Unknown\" label to classes to handle unseen labels\n",
    "#     le.classes_ = np.append(le.classes_, 'Unknown')\n",
    "\n",
    "#     # Replace unseen labels in validation and test data with 'Unknown'\n",
    "#     X_val_processed[col] = X_val_processed[col].apply(lambda x: x if x in le.classes_ else 'Unknown')\n",
    "#     df_test_processed[col] = df_test_processed[col].apply(lambda x: x if x in le.classes_ else 'Unknown')\n",
    "\n",
    "#     # Transform validation and test datasets using the fitted label encoder\n",
    "#     X_val_processed[col] = le.transform(X_val_processed[col])\n",
    "#     df_test_processed[col] = le.transform(df_test_processed[col])\n",
    "\n",
    "#     # Store the label encoder for future use if needed\n",
    "#     label_encoders[col] = le"
   ]
  },
  {
   "cell_type": "markdown",
   "metadata": {},
   "source": [
    "### Second approach: Encoding Categorical Features with LabelEncoder, OneHotEncoder and Frequency encoder\n",
    "As our second approach we decided to perform different type of encoding according with each categorical variable. For ordinal features (those with an inherent order like age groups), Label Encoding is applied to assign each category a unique numerical value. For nominal features with low cardinality (few unique values), One-Hot Encoding is used to create binary columns representing each category. For high-cardinality features (many unique values like zip codes), Frequency Encoding is applied to convert categories to their frequency of occurrence, reducing dimensionality without introducing too many columns.\n",
    "\n",
    "These encoding methods are used to properly represent categorical features in a numerical format while considering their characteristics (order or cardinality), which helps models interpret them effectively."
   ]
  },
  {
   "cell_type": "code",
   "execution_count": 90,
   "metadata": {},
   "outputs": [
    {
     "name": "stdout",
     "output_type": "stream",
     "text": [
      "Encoded X_train_final columns: Index(['Age at Injury', 'Attorney/Representative', 'Average Weekly Wage',\n",
      "       'Birth Year', 'Carrier Name', 'Carrier Type', 'COVID-19 Indicator',\n",
      "       'IME-4 Count', 'Zip Code', 'Number of Dependents',\n",
      "       'Category Combination', 'Carrier_District_Interaction',\n",
      "       'Income_Category', 'Days_To_First_Hearing', 'Accident_Quarter',\n",
      "       'Accident_Year', 'Accident Day', 'Accident on Weekend', 'Age Group',\n",
      "       'promptness_category', 'promptness_C2_category', 'Carrier Type Merged',\n",
      "       'Body_Part_Category', 'Injury_Nature_Category', 'Injury_Cause_Category',\n",
      "       'Industry Risk', 'Salary_Per_Dependent', 'Gender_M', 'Gender_U',\n",
      "       'District Name_BINGHAMTON', 'District Name_BUFFALO',\n",
      "       'District Name_HAUPPAUGE', 'District Name_NYC',\n",
      "       'District Name_ROCHESTER', 'District Name_STATEWIDE',\n",
      "       'District Name_SYRACUSE', 'Medical Fee Region_II',\n",
      "       'Medical Fee Region_III', 'Medical Fee Region_IV',\n",
      "       'Medical Fee Region_UK', 'Carrier_Name_Simplified_freq',\n",
      "       'Zip_Code_Simplified_freq', 'Industry Code_freq',\n",
      "       'County of Injury_freq', 'WCIO Cause of Injury Code_freq',\n",
      "       'WCIO Nature of Injury Code_freq', 'WCIO Part Of Body Code_freq'],\n",
      "      dtype='object')\n",
      "Encoded X_val_final columns: Index(['Age at Injury', 'Attorney/Representative', 'Average Weekly Wage',\n",
      "       'Birth Year', 'Carrier Name', 'Carrier Type', 'COVID-19 Indicator',\n",
      "       'IME-4 Count', 'Zip Code', 'Number of Dependents',\n",
      "       'Category Combination', 'Carrier_District_Interaction',\n",
      "       'Income_Category', 'Days_To_First_Hearing', 'Accident_Quarter',\n",
      "       'Accident_Year', 'Accident Day', 'Accident on Weekend', 'Age Group',\n",
      "       'promptness_category', 'promptness_C2_category', 'Carrier Type Merged',\n",
      "       'Body_Part_Category', 'Injury_Nature_Category', 'Injury_Cause_Category',\n",
      "       'Industry Risk', 'Salary_Per_Dependent', 'Gender_M', 'Gender_U',\n",
      "       'District Name_BINGHAMTON', 'District Name_BUFFALO',\n",
      "       'District Name_HAUPPAUGE', 'District Name_NYC',\n",
      "       'District Name_ROCHESTER', 'District Name_STATEWIDE',\n",
      "       'District Name_SYRACUSE', 'Medical Fee Region_II',\n",
      "       'Medical Fee Region_III', 'Medical Fee Region_IV',\n",
      "       'Medical Fee Region_UK', 'Carrier_Name_Simplified_freq',\n",
      "       'Zip_Code_Simplified_freq', 'Industry Code_freq',\n",
      "       'County of Injury_freq', 'WCIO Cause of Injury Code_freq',\n",
      "       'WCIO Nature of Injury Code_freq', 'WCIO Part Of Body Code_freq'],\n",
      "      dtype='object')\n",
      "Encoded X_test_final columns: Index(['Age at Injury', 'Attorney/Representative', 'Average Weekly Wage',\n",
      "       'Birth Year', 'Carrier Name', 'Carrier Type', 'COVID-19 Indicator',\n",
      "       'IME-4 Count', 'Zip Code', 'Number of Dependents',\n",
      "       'Carrier_District_Interaction', 'Income_Category',\n",
      "       'Days_To_First_Hearing', 'Accident_Quarter', 'Accident_Year',\n",
      "       'Accident Day', 'Accident on Weekend', 'Age Group',\n",
      "       'promptness_category', 'promptness_C2_category', 'Carrier Type Merged',\n",
      "       'Body_Part_Category', 'Injury_Nature_Category', 'Injury_Cause_Category',\n",
      "       'Salary_Per_Dependent', 'Gender_M', 'Gender_U',\n",
      "       'District Name_BINGHAMTON', 'District Name_BUFFALO',\n",
      "       'District Name_HAUPPAUGE', 'District Name_NYC',\n",
      "       'District Name_ROCHESTER', 'District Name_STATEWIDE',\n",
      "       'District Name_SYRACUSE', 'Medical Fee Region_II',\n",
      "       'Medical Fee Region_III', 'Medical Fee Region_IV',\n",
      "       'Medical Fee Region_UK', 'Carrier_Name_Simplified_freq',\n",
      "       'Zip_Code_Simplified_freq', 'Industry Code_freq',\n",
      "       'County of Injury_freq', 'WCIO Cause of Injury Code_freq',\n",
      "       'WCIO Nature of Injury Code_freq', 'WCIO Part Of Body Code_freq'],\n",
      "      dtype='object')\n"
     ]
    }
   ],
   "source": [
    "# Import necessary libraries\n",
    "from sklearn.preprocessing import LabelEncoder, OneHotEncoder\n",
    "\n",
    "# Example columns to encode\n",
    "ordinal_features = ['promptness_category', 'promptness_C2_category', 'Age Group', 'Income_Category']\n",
    "low_cardinality_cols = ['Gender', 'District Name', 'Medical Fee Region']\n",
    "high_cardinality_cols = ['Carrier_Name_Simplified', 'Zip_Code_Simplified', 'Industry Code', 'County of Injury', \n",
    "                         'WCIO Cause of Injury Code', 'WCIO Nature of Injury Code', 'WCIO Part Of Body Code']\n",
    "\n",
    "# Step 1: Label Encode ordinal features (features that have an intrinsic order)\n",
    "label_encoder_1 = LabelEncoder()\n",
    "for col in ordinal_features:\n",
    "    X_train_processed_copy[col] = label_encoder_1.fit_transform(X_train_processed_copy[col])\n",
    "    X_val_processed_copy[col] = label_encoder_1.transform(X_val_processed_copy[col])\n",
    "    df_test_processed_copy[col] = label_encoder_1.transform(df_test_processed_copy[col])\n",
    "\n",
    "# Step 2: One-Hot Encode low-cardinality nominal features\n",
    "one_hot_encoder = OneHotEncoder(drop='first', sparse=False)  # Ensure sparse=False to return a dense array\n",
    "one_hot_encoded_train = one_hot_encoder.fit_transform(X_train_processed_copy[low_cardinality_cols])\n",
    "one_hot_encoded_val = one_hot_encoder.transform(X_val_processed_copy[low_cardinality_cols])\n",
    "one_hot_encoded_test = one_hot_encoder.transform(df_test_processed_copy[low_cardinality_cols])\n",
    "\n",
    "# Convert the one-hot encoded arrays back to DataFrame\n",
    "one_hot_encoded_train_df = pd.DataFrame(one_hot_encoded_train, columns=one_hot_encoder.get_feature_names_out(low_cardinality_cols), index=X_train_processed_copy.index)\n",
    "one_hot_encoded_val_df = pd.DataFrame(one_hot_encoded_val, columns=one_hot_encoder.get_feature_names_out(low_cardinality_cols), index=X_val_processed_copy.index)\n",
    "one_hot_encoded_test_df = pd.DataFrame(one_hot_encoded_test, columns=one_hot_encoder.get_feature_names_out(low_cardinality_cols), index=df_test_processed_copy.index)\n",
    "\n",
    "# Concatenate the original datasets with the one-hot encoded columns\n",
    "X_train_processed_copy = pd.concat([X_train_processed_copy, one_hot_encoded_train_df], axis=1)\n",
    "X_val_processed_copy = pd.concat([X_val_processed_copy, one_hot_encoded_val_df], axis=1)\n",
    "df_test_processed_copy = pd.concat([df_test_processed_copy, one_hot_encoded_test_df], axis=1)\n",
    "\n",
    "# Drop the original low-cardinality nominal columns after encoding them\n",
    "X_train_processed_copy.drop(columns=low_cardinality_cols, inplace=True)\n",
    "X_val_processed_copy.drop(columns=low_cardinality_cols, inplace=True)\n",
    "df_test_processed_copy.drop(columns=low_cardinality_cols, inplace=True)\n",
    "\n",
    "# Step 3: Frequency Encoding for high-cardinality nominal features\n",
    "for col in high_cardinality_cols:\n",
    "    freq = X_train_processed_copy[col].value_counts()  # Fit on training set only\n",
    "    X_train_processed_copy[col + '_freq'] = X_train_processed_copy[col].map(freq)\n",
    "    X_val_processed_copy[col + '_freq'] = X_val_processed_copy[col].map(freq)\n",
    "    df_test_processed_copy[col + '_freq'] = df_test_processed_copy[col].map(freq)\n",
    "\n",
    "# Drop the original high-cardinality columns after encoding them\n",
    "X_train_processed_copy.drop(columns=high_cardinality_cols, inplace=True)\n",
    "X_val_processed_copy.drop(columns=high_cardinality_cols, inplace=True)\n",
    "df_test_processed_copy.drop(columns=high_cardinality_cols, inplace=True)\n",
    "\n",
    "# Final datasets after encoding\n",
    "X_train_final = X_train_processed_copy\n",
    "X_val_final = X_val_processed_copy\n",
    "X_test_final = df_test_processed_copy\n",
    "\n",
    "# Summary\n",
    "print(\"Encoded X_train_final columns:\", X_train_final.columns)\n",
    "print(\"Encoded X_val_final columns:\", X_val_final.columns)\n",
    "print(\"Encoded X_test_final columns:\", X_test_final.columns)"
   ]
  },
  {
   "cell_type": "markdown",
   "metadata": {},
   "source": [
    "### Why Are There Missing Values (NaN) in Validation and Test Sets?\n",
    "\n",
    "During the encoding process, missing values (NaN) may appear in the validation and test sets because certain categories that exist in these sets might not be present in the training set. For instance, during frequency encoding, if a category exists only in the validation or test set but not in the training set, it will result in missing values when encoding those rows.\n",
    "\n",
    "To address this, we can fill these missing values with a placeholder such as `0`, ensuring consistent feature representation across all datasets, for now. For next deliverable we will try to implement better approaches."
   ]
  },
  {
   "cell_type": "code",
   "execution_count": 91,
   "metadata": {},
   "outputs": [],
   "source": [
    "# To handle this, we will fill the missing values with 0 for now.\n",
    "X_val_final.fillna(0, inplace=True)\n",
    "X_test_final.fillna(0, inplace=True)"
   ]
  },
  {
   "cell_type": "code",
   "execution_count": 92,
   "metadata": {},
   "outputs": [],
   "source": [
    "# Step 4: Prepare final dataset for MIC and χ² analysis\n",
    "# Use only the encoded features for the MIC and chi-squared tests\n",
    "mic_chi2_features = binary_columns + ordinal_features + list(one_hot_encoded_train_df.columns) + [f\"{col}_freq\" for col in high_cardinality_cols]\n",
    "X_train_mic_chi2 = X_train_processed_copy[mic_chi2_features]"
   ]
  },
  {
   "cell_type": "code",
   "execution_count": 93,
   "metadata": {},
   "outputs": [
    {
     "data": {
      "text/plain": [
       "27"
      ]
     },
     "execution_count": 93,
     "metadata": {},
     "output_type": "execute_result"
    }
   ],
   "source": [
    "len(X_train_mic_chi2.columns)"
   ]
  },
  {
   "cell_type": "code",
   "execution_count": 94,
   "metadata": {},
   "outputs": [
    {
     "data": {
      "text/plain": [
       "Index(['Attorney/Representative', 'COVID-19 Indicator', 'Accident on Weekend',\n",
       "       'promptness_category', 'promptness_C2_category', 'Age Group',\n",
       "       'Income_Category', 'Gender_M', 'Gender_U', 'District Name_BINGHAMTON',\n",
       "       'District Name_BUFFALO', 'District Name_HAUPPAUGE', 'District Name_NYC',\n",
       "       'District Name_ROCHESTER', 'District Name_STATEWIDE',\n",
       "       'District Name_SYRACUSE', 'Medical Fee Region_II',\n",
       "       'Medical Fee Region_III', 'Medical Fee Region_IV',\n",
       "       'Medical Fee Region_UK', 'Carrier_Name_Simplified_freq',\n",
       "       'Zip_Code_Simplified_freq', 'Industry Code_freq',\n",
       "       'County of Injury_freq', 'WCIO Cause of Injury Code_freq',\n",
       "       'WCIO Nature of Injury Code_freq', 'WCIO Part Of Body Code_freq'],\n",
       "      dtype='object')"
      ]
     },
     "execution_count": 94,
     "metadata": {},
     "output_type": "execute_result"
    }
   ],
   "source": [
    "X_train_mic_chi2.columns"
   ]
  },
  {
   "cell_type": "code",
   "execution_count": 95,
   "metadata": {},
   "outputs": [
    {
     "data": {
      "text/plain": [
       "(398994, 47)"
      ]
     },
     "execution_count": 95,
     "metadata": {},
     "output_type": "execute_result"
    }
   ],
   "source": [
    "X_train_final.shape"
   ]
  },
  {
   "cell_type": "code",
   "execution_count": 96,
   "metadata": {},
   "outputs": [
    {
     "data": {
      "text/plain": [
       "(172208, 47)"
      ]
     },
     "execution_count": 96,
     "metadata": {},
     "output_type": "execute_result"
    }
   ],
   "source": [
    "X_val_final.shape"
   ]
  },
  {
   "cell_type": "code",
   "execution_count": 97,
   "metadata": {},
   "outputs": [
    {
     "data": {
      "text/plain": [
       "(387975, 45)"
      ]
     },
     "execution_count": 97,
     "metadata": {},
     "output_type": "execute_result"
    }
   ],
   "source": [
    "X_test_final.shape"
   ]
  },
  {
   "cell_type": "markdown",
   "metadata": {},
   "source": [
    "#### Chi-Squared Test for Feature Selection\n",
    "The Chi-squared test helps us identify the most relevant categorical and binary features by evaluating their independence with the target variable. In this analysis, we set a threshold to keep the 25 most relevant features."
   ]
  },
  {
   "cell_type": "code",
   "execution_count": 98,
   "metadata": {},
   "outputs": [],
   "source": [
    "#Chi-square test\n",
    "threshold = 25 #we want to only keep the 20 most relevant features\n",
    "high_score_features_chi2 = []\n",
    "scores = []\n",
    "names_Chi2 = []\n",
    "\n",
    "feature_scores = SelectKBest(chi2, k=threshold).fit(X_train_mic_chi2,y_train).scores_\n",
    "\n",
    "high_score_features = []\n",
    "for score, f_name in sorted(zip(feature_scores,X_train_mic_chi2.columns), reverse=True)[:threshold]:\n",
    "        high_score_features_chi2.append(f_name)\n",
    "        scores.append(score)\n",
    "        names_Chi2.append(f_name)"
   ]
  },
  {
   "cell_type": "code",
   "execution_count": 99,
   "metadata": {},
   "outputs": [
    {
     "data": {
      "text/plain": [
       "['WCIO Nature of Injury Code_freq',\n",
       " 'WCIO Part Of Body Code_freq',\n",
       " 'WCIO Cause of Injury Code_freq',\n",
       " 'Zip_Code_Simplified_freq',\n",
       " 'Carrier_Name_Simplified_freq',\n",
       " 'Industry Code_freq',\n",
       " 'County of Injury_freq',\n",
       " 'Attorney/Representative',\n",
       " 'Income_Category',\n",
       " 'promptness_C2_category',\n",
       " 'promptness_category',\n",
       " 'Age Group',\n",
       " 'COVID-19 Indicator',\n",
       " 'Gender_M',\n",
       " 'District Name_HAUPPAUGE',\n",
       " 'District Name_STATEWIDE',\n",
       " 'District Name_NYC',\n",
       " 'Medical Fee Region_IV',\n",
       " 'District Name_BINGHAMTON',\n",
       " 'District Name_ROCHESTER',\n",
       " 'Medical Fee Region_UK',\n",
       " 'Medical Fee Region_II',\n",
       " 'Gender_U',\n",
       " 'District Name_SYRACUSE',\n",
       " 'District Name_BUFFALO']"
      ]
     },
     "execution_count": 99,
     "metadata": {},
     "output_type": "execute_result"
    }
   ],
   "source": [
    "names_Chi2\n",
    "# high_score_features_chi2  # Output the list of selected top features"
   ]
  },
  {
   "cell_type": "markdown",
   "metadata": {},
   "source": [
    "> ### Mutual Information Criterion (MIC) for Feature Selection <a class=\"anchor\" id=\"sub_section_4_2_2\"></a>\n",
    "\n",
    "The Mutual Information Criterion is used to measure the dependence between each feature and the target variable. By setting a threshold, we retain only the most relevant features."
   ]
  },
  {
   "cell_type": "code",
   "execution_count": 100,
   "metadata": {},
   "outputs": [
    {
     "data": {
      "text/plain": [
       "['Attorney/Representative',\n",
       " 'WCIO Nature of Injury Code_freq',\n",
       " 'WCIO Part Of Body Code_freq',\n",
       " 'WCIO Cause of Injury Code_freq',\n",
       " 'Carrier_Name_Simplified_freq',\n",
       " 'Industry Code_freq',\n",
       " 'Income_Category',\n",
       " 'Zip_Code_Simplified_freq',\n",
       " 'promptness_C2_category',\n",
       " 'promptness_category',\n",
       " 'Age Group',\n",
       " 'Gender_M',\n",
       " 'County of Injury_freq',\n",
       " 'District Name_NYC',\n",
       " 'Medical Fee Region_IV',\n",
       " 'COVID-19 Indicator',\n",
       " 'District Name_BINGHAMTON',\n",
       " 'District Name_HAUPPAUGE',\n",
       " 'District Name_STATEWIDE',\n",
       " 'Medical Fee Region_III',\n",
       " 'Medical Fee Region_II',\n",
       " 'Accident on Weekend',\n",
       " 'District Name_BUFFALO',\n",
       " 'District Name_SYRACUSE',\n",
       " 'Medical Fee Region_UK']"
      ]
     },
     "execution_count": 100,
     "metadata": {},
     "output_type": "execute_result"
    }
   ],
   "source": [
    " #MIC \n",
    "# Set the threshold for the top features to select\n",
    "threshold = 25\n",
    "high_score_features_MIC = []\n",
    "scores = []\n",
    "names_MIC = []\n",
    "\n",
    "# Apply mutual information criterion\n",
    "feature_scores = mutual_info_classif(X_train_mic_chi2, y_train, random_state=42)\n",
    "\n",
    "# Sort and select the top features\n",
    "for score, f_name in sorted(zip(feature_scores, X_train_mic_chi2.columns), reverse=True)[:threshold]:\n",
    "    high_score_features_MIC.append(f_name)\n",
    "    scores.append(score)\n",
    "    names_MIC.append(f_name)\n",
    "    \n",
    "# Display the list of selected top features by MIC\n",
    "names_MIC"
   ]
  },
  {
   "cell_type": "markdown",
   "metadata": {},
   "source": [
    "### Intersection of Selected Features by Chi-squared and MIC\n",
    "To identify the most relevant categorical features, we take the intersection of features selected by both Chi-squared and MIC methods."
   ]
  },
  {
   "cell_type": "code",
   "execution_count": 101,
   "metadata": {},
   "outputs": [
    {
     "data": {
      "text/plain": [
       "['Income_Category',\n",
       " 'promptness_C2_category',\n",
       " 'promptness_category',\n",
       " 'District Name_NYC',\n",
       " 'Medical Fee Region_II',\n",
       " 'District Name_BINGHAMTON',\n",
       " 'Industry Code_freq',\n",
       " 'WCIO Cause of Injury Code_freq',\n",
       " 'WCIO Part Of Body Code_freq',\n",
       " 'Age Group',\n",
       " 'Attorney/Representative',\n",
       " 'District Name_BUFFALO',\n",
       " 'Medical Fee Region_UK',\n",
       " 'District Name_HAUPPAUGE',\n",
       " 'District Name_STATEWIDE',\n",
       " 'WCIO Nature of Injury Code_freq',\n",
       " 'Zip_Code_Simplified_freq',\n",
       " 'County of Injury_freq',\n",
       " 'Medical Fee Region_IV',\n",
       " 'Gender_M',\n",
       " 'Carrier_Name_Simplified_freq',\n",
       " 'COVID-19 Indicator',\n",
       " 'District Name_SYRACUSE']"
      ]
     },
     "execution_count": 101,
     "metadata": {},
     "output_type": "execute_result"
    }
   ],
   "source": [
    "# Find common features between Chi-squared and MIC selections\n",
    "common_categorical_features = list(set(names_Chi2).intersection(set(names_MIC)))\n",
    "features_selected = common_categorical_features  # Final list of selected features\n",
    "features_selected  # Display the list of intersected features"
   ]
  },
  {
   "cell_type": "markdown",
   "metadata": {},
   "source": [
    "## 4.4. Final Features</b> <a class=\"anchor\" id=\"section_4_4\"></a>\n",
    "\n"
   ]
  },
  {
   "cell_type": "markdown",
   "metadata": {},
   "source": [
    "| Predictor             | Spearman | Lasso   | RFE LR   | RFE SVM | What to do? (One possible way to \"solve\")        |\n",
    "|-----------------------|----------|---------|----------|---------|--------------------------------------------------|\n",
    "| Number of Dependents  | Discard  | Discard | Discard  |         | Discard                                          |\n",
    "| IME-4 Count           | Keep     | Keep    | Keep     |         | Include in the model                             |\n",
    "| Accident_Quarter      | Keep  | Discard | Discard  |         | Discard                                          |\n",
    "| Accident_Year         | Keep     | Keep    | Keep     |         | Include in the model                             |\n",
    "| Accident Day          | Keep  | Discard | Discard  |         | Discard                                          |\n",
    "| Days_To_First_Hearing | Keep     | Keep    | Keep     |         | Include in the model                             |\n",
    "| Average Weekly Wage   | Keep  | Discard    | Discard  |         | Discard                 |\n",
    "\n",
    "##REDO THIS TABLE\n"
   ]
  },
  {
   "cell_type": "markdown",
   "metadata": {},
   "source": [
    "\n"
   ]
  },
  {
   "cell_type": "code",
   "execution_count": 103,
   "metadata": {},
   "outputs": [
    {
     "name": "stdout",
     "output_type": "stream",
     "text": [
      "X_train_final shape: (398994, 27)\n",
      "X_val_final shape: (172208, 27)\n",
      "X_test_final shape: (387975, 27)\n"
     ]
    }
   ],
   "source": [
    "final_features = [\n",
    "    # Categorical features selected through MIC and chi2\n",
    "    'Income_Category',\n",
    "    'promptness_C2_category',\n",
    "    'promptness_category',\n",
    "    'District Name_NYC',\n",
    "    'Medical Fee Region_II',\n",
    "    'District Name_BINGHAMTON',\n",
    "    'Industry Code_freq',\n",
    "    'WCIO Cause of Injury Code_freq',\n",
    "    'WCIO Part Of Body Code_freq',\n",
    "    'Age Group',\n",
    "    'Attorney/Representative',\n",
    "    'District Name_BUFFALO',\n",
    "    'Medical Fee Region_UK',\n",
    "    'District Name_HAUPPAUGE',\n",
    "    'District Name_STATEWIDE',\n",
    "    'WCIO Nature of Injury Code_freq',\n",
    "    'Zip_Code_Simplified_freq',\n",
    "    'County of Injury_freq',\n",
    "    'Medical Fee Region_IV',\n",
    "    'Gender_M',\n",
    "    'Carrier_Name_Simplified_freq',\n",
    "    'COVID-19 Indicator',\n",
    "    'District Name_SYRACUSE',\n",
    "    # Important numerical features\n",
    "    'IME-4 Count', 'Accident_Year','Days_To_First_Hearing','Age at Injury'  \n",
    "]\n",
    "\n",
    "\n",
    "# Extracting the final features from the processed datasets\n",
    "X_train_final = X_train_processed_copy[final_features]\n",
    "X_val_final = X_val_processed_copy[final_features]\n",
    "X_test_final = df_test_processed_copy[final_features]\n",
    "\n",
    "# Print the shape of the final datasets to confirm consistency\n",
    "print(f\"X_train_final shape: {X_train_final.shape}\")\n",
    "print(f\"X_val_final shape: {X_val_final.shape}\")\n",
    "print(f\"X_test_final shape: {X_test_final.shape}\")"
   ]
  },
  {
   "cell_type": "markdown",
   "metadata": {},
   "source": [
    "### 4. Build a Simple Model and Assess Performance\n",
    "#### Problem Type and Model Selection\n",
    "The problem we are dealing with is a classification problem since our goal is to predict the type of variable claim injury as our target variable. As it is a categorical variable we decided to try algorithms like Logistic Regression, Random Forest, XGBoost and other classification models. To start, a simple logistic regression was built due to its interpretability and ease of use. Moreover, it supports an effective starting point for further analysis and comparison against more complex models.\n",
    "\n",
    "#### Cross-Validation for Performance Assessment\n",
    "In order to assess the model’s performance we decided to use cross validation. This technique ensures a reliable evaluation by divding our data into multiple folds and having training/testing the model on different subsets. This really helps to avoid overfitting (which was a problem that from the beginning we identify we had) and provides a comprehensive view of how well the model generalizes to unseen data.\n",
    "\n",
    "#### Metrics for Evaluation\n",
    "For model evaluation we look into some metrics like:\n",
    "Precision, Recall, and F1-Score given that our target variable is claim injury type, and the dataset has an imbalanced class distributions. \n",
    "Precision tells us how many of the predicted positive instances are actually positive, while recall shows how many of the actual positives were correctly predicted. **F1 Score* provides a balance between precision and recall, which is crucial when handling imbalanced data.\n",
    "Even though accuracy can provide a general idea of overall correctness, it is not our main focus due to the class imbalance. Relying solely on accuracy could give misleading insights, as it may be high even if the model is not performing well on minority classes\n",
    "\n",
    "With these metrics we ensure a global evaluation of the model, especially considering the facts above mentioned such as imbalanced dataset and helps guiding model improvement effectively.\n"
   ]
  },
  {
   "cell_type": "markdown",
   "metadata": {},
   "source": [
    "# 5. Modeling <a class=\"anchor\" id=\"chapter5\"></a>"
   ]
  },
  {
   "cell_type": "markdown",
   "metadata": {},
   "source": [
    "> ## Logistic Regression"
   ]
  },
  {
   "cell_type": "markdown",
   "metadata": {},
   "source": [
    "### **Standard Scaler**"
   ]
  },
  {
   "cell_type": "code",
   "execution_count": 114,
   "metadata": {},
   "outputs": [
    {
     "name": "stdout",
     "output_type": "stream",
     "text": [
      "Logistic Regression Metrics:\n",
      "___________________________________________________________________________________________________________\n",
      "                                                     TRAIN                                                 \n",
      "-----------------------------------------------------------------------------------------------------------\n",
      "              precision    recall  f1-score   support\n",
      "\n",
      "           0       0.70      0.94      0.80    202442\n",
      "           1       0.61      0.41      0.49    103933\n",
      "           2       0.52      0.33      0.40     92619\n",
      "\n",
      "    accuracy                           0.66    398994\n",
      "   macro avg       0.61      0.56      0.57    398994\n",
      "weighted avg       0.64      0.66      0.63    398994\n",
      "\n",
      "___________________________________________________________________________________________________________\n",
      "                                                VALIDATION                                                 \n",
      "-----------------------------------------------------------------------------------------------------------\n",
      "              precision    recall  f1-score   support\n",
      "\n",
      "           0       0.70      0.94      0.80     87324\n",
      "           1       0.60      0.41      0.49     44552\n",
      "           2       0.52      0.33      0.40     40332\n",
      "\n",
      "    accuracy                           0.66    172208\n",
      "   macro avg       0.61      0.56      0.56    172208\n",
      "weighted avg       0.63      0.66      0.63    172208\n",
      "\n"
     ]
    },
    {
     "data": {
      "image/png": "[encoded data removed]",
      "text/plain": [
       "<Figure size 1000x400 with 2 Axes>"
      ]
     },
     "metadata": {},
     "output_type": "display_data"
    }
   ],
   "source": [
    "# Scale features\n",
    "scaler = StandardScaler()\n",
    "final_features_X_train_scaled_std = scaler.fit_transform(X_train_final)\n",
    "final_features_X_val_scaled_std = scaler.transform(X_val_final)\n",
    "final_features_df_test_scaled_std = scaler.transform(X_test_final)\n",
    "\n",
    "# Logistic Regression Model\n",
    "log_reg_std = LogisticRegression(max_iter=1000, random_state=42)\n",
    "log_reg_std.fit(final_features_X_train_scaled_std, y_train_encoded)\n",
    "pred_train_log_final_std = log_reg_std.predict(final_features_X_train_scaled_std)\n",
    "pred_val_log_final_std = log_reg_std.predict(final_features_X_val_scaled_std)\n",
    "\n",
    "# Metrics for Logistic Regression\n",
    "print(\"Logistic Regression Metrics:\")\n",
    "metrics(y_train_encoded, pred_train_log_final_std, y_val_encoded, pred_val_log_final_std)"
   ]
  },
  {
   "cell_type": "markdown",
   "metadata": {},
   "source": [
    "### **Min Max Scaler**"
   ]
  },
  {
   "cell_type": "code",
   "execution_count": 115,
   "metadata": {},
   "outputs": [
    {
     "name": "stdout",
     "output_type": "stream",
     "text": [
      "Logistic Regression Metrics:\n",
      "___________________________________________________________________________________________________________\n",
      "                                                     TRAIN                                                 \n",
      "-----------------------------------------------------------------------------------------------------------\n",
      "              precision    recall  f1-score   support\n",
      "\n",
      "           0       0.70      0.94      0.80    202442\n",
      "           1       0.61      0.41      0.49    103933\n",
      "           2       0.51      0.33      0.40     92619\n",
      "\n",
      "    accuracy                           0.66    398994\n",
      "   macro avg       0.61      0.56      0.56    398994\n",
      "weighted avg       0.63      0.66      0.63    398994\n",
      "\n",
      "___________________________________________________________________________________________________________\n",
      "                                                VALIDATION                                                 \n",
      "-----------------------------------------------------------------------------------------------------------\n",
      "              precision    recall  f1-score   support\n",
      "\n",
      "           0       0.70      0.93      0.80     87324\n",
      "           1       0.60      0.41      0.49     44552\n",
      "           2       0.51      0.33      0.40     40332\n",
      "\n",
      "    accuracy                           0.66    172208\n",
      "   macro avg       0.60      0.56      0.56    172208\n",
      "weighted avg       0.63      0.66      0.63    172208\n",
      "\n"
     ]
    },
    {
     "data": {
      "image/png": "[encoded data removed]",
      "text/plain": [
       "<Figure size 1000x400 with 2 Axes>"
      ]
     },
     "metadata": {},
     "output_type": "display_data"
    }
   ],
   "source": [
    "# Scale features\n",
    "scaler = MinMaxScaler()\n",
    "final_features_X_train_scaled_minmax = scaler.fit_transform(X_train_final)\n",
    "final_features_X_val_scaled_minmax = scaler.transform(X_val_final)\n",
    "final_features_df_test_scaled_minmax = scaler.transform(X_test_final)\n",
    "\n",
    "# Logistic Regression Model\n",
    "log_reg_minmax = LogisticRegression(max_iter=1000, random_state=42)\n",
    "log_reg_minmax.fit(final_features_X_train_scaled_minmax, y_train_encoded)\n",
    "pred_train_log_final_minmax = log_reg_minmax.predict(final_features_X_train_scaled_minmax)\n",
    "pred_val_log_final_minmax = log_reg_minmax.predict(final_features_X_val_scaled_minmax)\n",
    "\n",
    "# Metrics for Logistic Regression\n",
    "print(\"Logistic Regression Metrics:\")\n",
    "metrics(y_train_encoded, pred_train_log_final_minmax, y_val_encoded, pred_val_log_final_minmax)"
   ]
  },
  {
   "cell_type": "markdown",
   "metadata": {},
   "source": [
    "### **Robust Scaler**"
   ]
  },
  {
   "cell_type": "code",
   "execution_count": 116,
   "metadata": {},
   "outputs": [
    {
     "name": "stdout",
     "output_type": "stream",
     "text": [
      "Logistic Regression Metrics:\n",
      "___________________________________________________________________________________________________________\n",
      "                                                     TRAIN                                                 \n",
      "-----------------------------------------------------------------------------------------------------------\n",
      "              precision    recall  f1-score   support\n",
      "\n",
      "           0       0.70      0.94      0.80    202442\n",
      "           1       0.61      0.41      0.49    103933\n",
      "           2       0.51      0.33      0.40     92619\n",
      "\n",
      "    accuracy                           0.66    398994\n",
      "   macro avg       0.61      0.56      0.56    398994\n",
      "weighted avg       0.63      0.66      0.63    398994\n",
      "\n",
      "___________________________________________________________________________________________________________\n",
      "                                                VALIDATION                                                 \n",
      "-----------------------------------------------------------------------------------------------------------\n",
      "              precision    recall  f1-score   support\n",
      "\n",
      "           0       0.70      0.93      0.80     87324\n",
      "           1       0.60      0.41      0.49     44552\n",
      "           2       0.51      0.33      0.40     40332\n",
      "\n",
      "    accuracy                           0.66    172208\n",
      "   macro avg       0.61      0.56      0.56    172208\n",
      "weighted avg       0.63      0.66      0.63    172208\n",
      "\n"
     ]
    },
    {
     "data": {
      "image/png": "[encoded data removed]",
      "text/plain": [
       "<Figure size 1000x400 with 2 Axes>"
      ]
     },
     "metadata": {},
     "output_type": "display_data"
    }
   ],
   "source": [
    "# Scale features\n",
    "scaler = RobustScaler()\n",
    "final_features_X_train_scaled_rob = scaler.fit_transform(X_train_final)\n",
    "final_features_X_val_scaled_rob = scaler.transform(X_val_final)\n",
    "final_features_df_test_scaled_rob = scaler.transform(X_test_final)\n",
    "\n",
    "# Logistic Regression Model\n",
    "log_reg_rob = LogisticRegression(max_iter=1000, random_state=42)\n",
    "log_reg_rob.fit(final_features_X_train_scaled_rob, y_train_encoded)\n",
    "pred_train_log_final_rob = log_reg_rob.predict(final_features_X_train_scaled_rob)\n",
    "pred_val_log_final_rob = log_reg_rob.predict(final_features_X_val_scaled_rob)\n",
    "\n",
    "# Metrics for Logistic Regression\n",
    "print(\"Logistic Regression Metrics:\")\n",
    "metrics(y_train_encoded, pred_train_log_final_rob, y_val_encoded, pred_val_log_final_rob)"
   ]
  },
  {
   "cell_type": "markdown",
   "metadata": {},
   "source": [
    "##### Train test Split\n",
    "| Model Name | Scaler | Resampling Technique | F1 Score (Train)| F1 Score (Validation)|\n",
    "|------------|-------------|----------------------|------------------|-----------------------|\n",
    "| Logistic Regression | Standard | None  |     0.57       |      0.56              |\n",
    "| Logistic Regression | MinMax | None  |         0.56         |        0.56              | \n",
    "| Logistic Regression  | Robust | None   |          0.56      |        0.56          |  \n"
   ]
  },
  {
   "cell_type": "markdown",
   "metadata": {},
   "source": [
    "> ## KNN\n",
    "1. Simple KNN Model\n",
    "### **Standard Scaler**"
   ]
  },
  {
   "cell_type": "code",
   "execution_count": null,
   "metadata": {},
   "outputs": [],
   "source": [
    "# K-Nearest Neighbors Model\n",
    "from sklearn.neighbors import KNeighborsClassifier\n",
    "\n",
    "knn_std = KNeighborsClassifier(n_neighbors=6)\n",
    "knn_std.fit(final_features_X_train_scaled_std, y_train_encoded)\n",
    "pred_train_knn_final_std = knn_std.predict(final_features_X_train_scaled_std)\n",
    "pred_val_knn_final_std = knn_std.predict(final_features_X_val_scaled_std)\n",
    "\n",
    "# Metrics for K-Nearest Neighbors\n",
    "print(\"\\nK-Nearest Neighbors Metrics:\")\n",
    "metrics(y_train_encoded, pred_train_knn_final_std, y_val_encoded, pred_val_knn_final_std)"
   ]
  },
  {
   "cell_type": "markdown",
   "metadata": {},
   "source": [
    "KNN Standard Scaler CV"
   ]
  },
  {
   "cell_type": "code",
   "execution_count": null,
   "metadata": {},
   "outputs": [],
   "source": [
    "from sklearn.neighbors import KNeighborsClassifier\n",
    "from sklearn.model_selection import cross_val_score, KFold\n",
    "\n",
    "# Initialize the KNN model with 6 neighbors\n",
    "knn_std = KNeighborsClassifier(n_neighbors=6)\n",
    "\n",
    "# Define K-Fold cross-validation\n",
    "kf = KFold(n_splits=5, shuffle=True, random_state=42)\n",
    "\n",
    "# Perform cross-validation for KNN\n",
    "cv_scores_knn = cross_val_score(knn_std, final_features_X_train_scaled_std, y_train_encoded, cv=kf, scoring='f1_macro')\n",
    "\n",
    "# Print cross-validation results\n",
    "print(\"K-Nearest Neighbors Cross-Validation Scores:\", cv_scores_knn)\n",
    "print(\"Mean Cross-Validation Score for K-Nearest Neighbors:\", cv_scores_knn.mean())\n",
    "\n",
    "# Fit the KNN model on the full training data after cross-validation\n",
    "knn_std.fit(final_features_X_train_scaled_std, y_train_encoded)\n",
    "\n",
    "# Calculate metrics for training and validation sets\n",
    "pred_train_knn_final_std = knn_std.predict(final_features_X_train_scaled_std)\n",
    "pred_val_knn_final_std = knn_std.predict(final_features_X_val_scaled_std)\n",
    "\n",
    "# Metrics for K-Nearest Neighbors\n",
    "print(\"\\nK-Nearest Neighbors Metrics:\")\n",
    "metrics(y_train_encoded, pred_train_knn_final_std, y_val_encoded, pred_val_knn_final_std)"
   ]
  },
  {
   "cell_type": "markdown",
   "metadata": {},
   "source": [
    "2. KNN with KD-Tree as algorithm"
   ]
  },
  {
   "cell_type": "code",
   "execution_count": null,
   "metadata": {},
   "outputs": [],
   "source": [
    "# # K-Nearest Neighbors Model with KD-Tree\n",
    "knn_kd_tree = KNeighborsClassifier(n_neighbors=7, weights='distance', algorithm='kd_tree')\n",
    "knn_kd_tree.fit(final_features_X_train_scaled_rob, y_train_encoded)\n",
    "pred_train_knn_final_kd = knn_kd_tree.predict(final_features_X_train_scaled_rob)\n",
    "pred_val_knn_final_kd = knn_kd_tree.predict(final_features_X_val_scaled_rob)\n",
    "\n",
    "# # Metrics for K-Nearest Neighbors using KD-Tree\n",
    "print(\"\\nK-Nearest Neighbors (KD-Tree) Metrics:\")\n",
    "metrics(y_train_encoded, pred_train_knn_final_kd, y_val_encoded, pred_val_knn_final_kd)"
   ]
  },
  {
   "cell_type": "markdown",
   "metadata": {},
   "source": [
    "3. KNN with Brute as algorithm"
   ]
  },
  {
   "cell_type": "code",
   "execution_count": null,
   "metadata": {},
   "outputs": [],
   "source": [
    "# # K-Nearest Neighbors Model with KD-Tree\n",
    "knn_brute = KNeighborsClassifier(n_neighbors=7, weights='distance', algorithm='brute')\n",
    "knn_brute.fit(final_features_X_train_scaled_rob, y_train_encoded)\n",
    "pred_train_knn_final_brute = knn_brute.predict(final_features_X_train_scaled_rob)\n",
    "pred_val_knn_final_brute = knn_brute.predict(final_features_X_val_scaled_rob)\n",
    "\n",
    "# # Metrics for K-Nearest Neighbors using KD-Tree\n",
    "print(\"\\nK-Nearest Neighbors (Brute) Metrics:\")\n",
    "metrics(y_train_encoded, pred_train_knn_final_brute, y_val_encoded, pred_val_knn_final_brute)"
   ]
  },
  {
   "cell_type": "markdown",
   "metadata": {},
   "source": [
    "| Model Name              | Scaler | Split Method     | F1 Score (Train) | F1 Score (Validation) |\n",
    "|--------------------------|------------------|------------------|------------------|-----------------------|\n",
    "| KNN  | Standard | Train Test Split  |       0.67        |      0.57           |  \n",
    "| KNN | Standard | Stratified K-Fold  |       0.67       |         0.57           | \n",
    "| K-Nearest Neighbors -  kd_tree   |   Robust Scaler          |  Train-Test Split |             |                  |\n",
    "| K-Nearest Neighbors - brute   |    Robust Scaler         |  Train-Test Split |             |                  |\n"
   ]
  },
  {
   "cell_type": "markdown",
   "metadata": {},
   "source": [
    "> ### Decision Trees "
   ]
  },
  {
   "cell_type": "code",
   "execution_count": null,
   "metadata": {},
   "outputs": [],
   "source": [
    "# Decision Tree Model\n",
    "dt_std = DecisionTreeClassifier(random_state=42)\n",
    "\n",
    "# Fit model with final features\n",
    "dt_std.fit(final_features_X_train_scaled_std, y_train_encoded)\n",
    "y_pred_dt_final = dt_std.predict(final_features_X_val_scaled_std)\n",
    "\n",
    "# Metrics for Decision Tree\n",
    "dt_std.fit(final_features_X_train_scaled_std, y_train_encoded)\n",
    "pred_train_dt_final_std = dt_std.predict(final_features_X_train_scaled_std)\n",
    "pred_val_dt_final_std = dt_std.predict(final_features_X_val_scaled_std)\n",
    "metrics(y_train_encoded, pred_train_dt_final_std, y_val_encoded, pred_val_dt_final_std)"
   ]
  },
  {
   "cell_type": "markdown",
   "metadata": {},
   "source": [
    "Fit Decision Tree model with pruning parameters for final features and potential value features since we have overfitting"
   ]
  },
  {
   "cell_type": "code",
   "execution_count": null,
   "metadata": {},
   "outputs": [],
   "source": [
    "# Pruned Decision Tree Classifier\n",
    "pruned_dt_std = DecisionTreeClassifier(random_state=42, max_depth=5, min_samples_split =150, min_samples_leaf=150)\n",
    "\n",
    "# Fit pruned Decision Tree model with final features and calculate metrics for training and validation\n",
    "pruned_dt_std.fit(final_features_X_train_scaled_std, y_train_encoded)\n",
    "pred_train_pruned_dt_std = pruned_dt_std.predict(final_features_X_train_scaled_std)\n",
    "pred_val_pruned_dt_std = pruned_dt_std.predict(final_features_X_val_scaled_std)\n",
    "metrics(y_train_encoded, pred_train_pruned_dt_std, y_val_encoded, pred_val_pruned_dt_std)"
   ]
  },
  {
   "cell_type": "markdown",
   "metadata": {},
   "source": [
    "| Model Name | Scaler | Resampling Technique | F1 Score (Train)| F1 Score (Validation)| Kaggle Score |\n",
    "|------------|-------------|----------------------|------------------|-----------------------|--------------|\n",
    "| Decision Tree  | Standard | None  |             |               |        |\n",
    "| Pruned Decision Tree | Standard | None  |              |                    |      |\n"
   ]
  },
  {
   "cell_type": "markdown",
   "metadata": {},
   "source": [
    "> ## Random forest"
   ]
  },
  {
   "cell_type": "code",
   "execution_count": null,
   "metadata": {},
   "outputs": [],
   "source": [
    "from sklearn.ensemble import RandomForestClassifier\n",
    "from sklearn.model_selection import cross_val_score, KFold\n",
    "\n",
    "# Initialize the Random Forest model\n",
    "rf_std = RandomForestClassifier(n_estimators=100, max_depth=5, random_state=42)\n",
    "\n",
    "# Define K-Fold cross-validation\n",
    "kf = KFold(n_splits=5, shuffle=True, random_state=42)\n",
    "\n",
    "# Perform cross-validation\n",
    "cv_scores = cross_val_score(rf_std, final_features_X_train_scaled_std, y_train_encoded, cv=kf, scoring='f1_macro')\n",
    "\n",
    "# Print cross-validation results\n",
    "print(\"Cross-validation scores:\", cv_scores)\n",
    "print(\"Mean cross-validation score:\", cv_scores.mean())\n",
    "\n",
    "# After cross-validation, fit the model on the full training data\n",
    "rf_std.fit(final_features_X_train_scaled_std, y_train_encoded)\n",
    "\n",
    "# Calculate metrics for training and validation sets\n",
    "pred_train_rf_std = rf_std.predict(final_features_X_train_scaled_std)\n",
    "pred_val_rf_std = rf_std.predict(final_features_X_val_scaled_std)\n",
    "metrics(y_train_encoded, pred_train_rf_std, y_val_encoded, pred_val_rf_std)\n"
   ]
  },
  {
   "cell_type": "code",
   "execution_count": null,
   "metadata": {},
   "outputs": [],
   "source": [
    "# Fit Random Forest model with final features and potential value features\n",
    "from sklearn.ensemble import RandomForestClassifier\n",
    "\n",
    "# Random Forest Classifier\n",
    "rf_std = RandomForestClassifier(n_estimators=100, max_depth=5, random_state=42)\n",
    "\n",
    "# Fit Random Forest model with final features and calculate metrics for training and validation\n",
    "rf_std.fit(final_features_X_train_scaled_std, y_train_encoded)\n",
    "pred_train_rf_std= rf_std.predict(final_features_X_train_scaled_std)\n",
    "pred_val_rf_std = rf_std.predict(final_features_X_val_scaled_std)\n",
    "metrics(y_train_encoded, pred_train_rf_std, y_val_encoded, pred_val_rf_std)"
   ]
  },
  {
   "cell_type": "markdown",
   "metadata": {},
   "source": [
    "| Model Name | Scaler | Split Method | F1 Score (Train)| F1 Score (Validation)| \n",
    "|------------|-------------|----------------------|------------------|-----------------------|\n",
    "| Random Forest  | Standard | Cross Validation  |             |             |\n",
    "| Random Forest  | Standard | Train Test Split  |             |             |\n"
   ]
  },
  {
   "cell_type": "markdown",
   "metadata": {},
   "source": [
    "> ## XGBoost"
   ]
  },
  {
   "cell_type": "code",
   "execution_count": null,
   "metadata": {},
   "outputs": [],
   "source": [
    "# Fit XGBoost model with final features and potential value features\n",
    "from xgboost import XGBClassifier\n",
    "\n",
    "# XGBoost Classifier\n",
    "xgb_std = XGBClassifier(n_estimators=100, max_depth=5, random_state=42, use_label_encoder=False, eval_metric='mlogloss')\n",
    "\n",
    "# Fit XGBoost model with final features and calculate metrics for training and validation\n",
    "xgb_std.fit(final_features_X_train_scaled_std, y_train_encoded)\n",
    "pred_train_xgb_std = xgb_std.predict(final_features_X_train_scaled_std)\n",
    "pred_val_xgb_std = xgb_std.predict(final_features_X_val_scaled_std)\n",
    "\n",
    "metrics(y_train_encoded, pred_train_xgb_std, y_val_encoded, pred_val_xgb_std)\n"
   ]
  },
  {
   "cell_type": "markdown",
   "metadata": {},
   "source": [
    "| Model Name | Scaler | Split Method | F1 Score (Train)| F1 Score (Validation)| \n",
    "|------------|-------------|----------------------|------------------|-----------------------|\n",
    "| XGBoost | Standard | Train Test Split  |             |             |"
   ]
  },
  {
   "cell_type": "code",
   "execution_count": null,
   "metadata": {},
   "outputs": [],
   "source": []
  }
 ],
 "metadata": {
  "kernelspec": {
   "display_name": "Python 3",
   "language": "python",
   "name": "python3"
  },
  "language_info": {
   "codemirror_mode": {
    "name": "ipython",
    "version": 3
   },
   "file_extension": ".py",
   "mimetype": "text/x-python",
   "name": "python",
   "nbconvert_exporter": "python",
   "pygments_lexer": "ipython3",
   "version": "3.11.3"
  }
 },
 "nbformat": 4,
 "nbformat_minor": 2
}
