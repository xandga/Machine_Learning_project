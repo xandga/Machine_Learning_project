{
 "cells": [
  {
   "cell_type": "markdown",
   "metadata": {},
   "source": [
    "# **<h3 align=\"center\">Machine Learning - Project</h3>**\n",
    "## **<h3 align=\"center\">2. Level 1 Classification</h3>**\n",
    "### **<h3 align=\"center\">Group 30 - Project</h3>**\n",
    "\n",
    "\n",
    "### Group Members\n",
    "| Name              | Email                        | Student ID |\n",
    "|-------------------|------------------------------|------------|\n",
    "| Alexandra Pinto   | 20211599@novaims.unl.pt      | 20211599   |\n",
    "| Gonçalo Peres     | 20211625@novaims.unl.pt      | 20211625   |\n",
    "| Leonor Mira       | 20240658@novaims.unl.pt      | 20240658   |\n",
    "| Miguel Natário    | 20240498@novaims.unl.pt      | 20240498   |\n",
    "| Nuno Bernardino   | 2021546@novaims.unl.pt       | 2021546    |\n"
   ]
  },
  {
   "cell_type": "markdown",
   "metadata": {},
   "source": [
    "\n",
    "---\n",
    "\n",
    "### **2. Level 1 Classification Notebook**\n",
    "**Description:**\n",
    "In this notebook, we will build and evaluate the **Level 1 Binary Classification model**, which separates the data into:\n",
    "- Cases belonging to the two most common classes (e.g., **2 - NON-COMP** and **4 - TEMPORARY**).\n",
    "- Cases classified as “**Other**” (all remaining classes).\n",
    "\n",
    "Key steps include:\n",
    "- Loading the **preprocessed dataset** created in Notebook 1.\n",
    "- **Feature selection:** Identify features most relevant to this binary classification task.\n",
    "- **Model training:** Train a binary classification model to distinguish between the \"Common\" and \"Other\" categories.\n",
    "- **Evaluation:** Assess the performance of the Level 1 model using metrics like accuracy, precision, and recall.\n",
    "- **Output:** Save predictions to pass data into the next stages (Level 2 Binary and Level 2 Multi-Class models).\n",
    "\n",
    "This notebook ensures that data is efficiently routed into the appropriate paths for the subsequent levels.\n",
    "\n",
    "---\n"
   ]
  },
  {
   "cell_type": "markdown",
   "metadata": {},
   "source": [
    "## Table of Contents\n",
    "* [1. Import the Libraries](#chapter1)\n",
    "* [2. Import the Datasets](#chapter2)"
   ]
  }
 ],
 "metadata": {
  "language_info": {
   "name": "python"
  }
 },
 "nbformat": 4,
 "nbformat_minor": 2
}
