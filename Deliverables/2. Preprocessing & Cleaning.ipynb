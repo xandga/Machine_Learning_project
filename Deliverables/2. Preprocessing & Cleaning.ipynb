{
 "cells": [
  {
   "cell_type": "markdown",
   "metadata": {},
   "source": [
    "# **<h3 align=\"center\">Machine Learning - Project</h3>**\n",
    "## **<h3 align=\"center\">2. Preprocessing & Cleaning</h3>**\n",
    "### **<h3 align=\"center\">Group 30 - Project</h3>**\n",
    "\n",
    "\n",
    "### Group Members\n",
    "| Name              | Email                        | Student ID |\n",
    "|-------------------|------------------------------|------------|\n",
    "| Alexandra Pinto   | 20211599@novaims.unl.pt      | 20211599   |\n",
    "| Gonçalo Peres     | 20211625@novaims.unl.pt      | 20211625   |\n",
    "| Leonor Mira       | 20240658@novaims.unl.pt      | 20240658   |\n",
    "| Miguel Natário    | 20240498@novaims.unl.pt      | 20240498   |\n",
    "| Nuno Bernardino   | 20211546@novaims.unl.pt      | 20211546   |"
   ]
  },
  {
   "cell_type": "markdown",
   "metadata": {},
   "source": [
    "---\n",
    "\n",
    "### **2. Preprocessing & Cleaning Notebook**\n",
    "**Description:**\n",
    "This notebook processes the dataset from the Imports & Data Exploration notebook, addressing inconsistencies, handling missing values, and preparing the dataset for feature engineering. Key steps include:\n",
    "- **Data Splitting:** Divide the dataset into training, validation, and test sets.\n",
    "- **Handling Missing Values:** Impute missing values based on conditional means, modes, or specific handling strategies for different features.\n",
    "- **Outlier Removal:** Identify and handle extreme values systematically to improve data consistency.\n",
    "- **Encoding Categorical Variables:** Use encoding techniques (e.g., ordinal, one-hot, or frequency encoding) to transform categorical features into a suitable format for modeling.\n",
    "- **Output:** Save the **preprocessed dataset** in a structured format (e.g., CSV or Pickle) for feature engineering.\n",
    "\n",
    "This notebook ensures that the data is clean, consistent, and ready for further feature engineering.\n",
    "\n",
    "---"
   ]
  },
  {
   "cell_type": "markdown",
   "metadata": {},
   "source": [
    "<a id = \"toc\"></a>\n",
    "\n",
    "## Table of Contents\n",
    "* [1. Import the Libraries](#chapter1)\n",
    "* [2. Import the Datasets](#chapter2)       \n",
    "* [3. Train Test Split](#chapter3)\n",
    "* [4. Preprocessing the Data](#chapter4)\n",
    "    * [4.1. Outliers](#section_4_1) \n",
    "    * [4.2. Missing Values](#section_4_2) \n",
    "        * [4.2.1. Handling High Zero Columns](#sub_section_4_2_1)\n",
    "        * [4.2.2. Handling Missing Values in IME-4 Count](#sub_section_4_2_2)\n",
    "        * [4.2.3. Handling Missing Values in C-3 Date, C-2 Date, and First Hearing Date](#sub_section_4_2_3)\n",
    "        * [4.2.4. Handling Missing Values in Industry Code](#sub_section_4_2_4) \n",
    "        * [4.2.5. Handling Missing Values in Average Weekly Wage](#sub_section_4_2_5)\n",
    "        * [4.2.6. Handling Missing Values in Zip Code](#sub_section_4_2_6)\n",
    "        * [4.2.7. Handling Missing Values in Birth Year](#sub_section_4_2_7)\n",
    "        * [4.2.8. Handling Missing Values in Injury Codes](#sub_section_4_2_8) \n",
    "        * [4.2.9. Remaining Missing Values](#sub_section_4_2_9) "
   ]
  },
  {
   "cell_type": "markdown",
   "metadata": {
    "vscode": {
     "languageId": "plaintext"
    }
   },
   "source": [
    "# 1. Import the Libraries 📚<a class=\"anchor\" id=\"chapter1\"></a>\n",
    "\n",
    "[Back to ToC](#toc)<br>\n",
    "\n",
    "In this section we will imported the needed libraries for this notebook."
   ]
  },
  {
   "cell_type": "code",
   "execution_count": null,
   "metadata": {},
   "outputs": [],
   "source": [
    "# --- Standard Libraries ---\n",
    "import pandas as pd\n",
    "import numpy as np\n",
    "import matplotlib.pyplot as plt\n",
    "import seaborn as sns\n",
    "sns.set()\n",
    "import zipfile\n",
    "import re\n",
    "import os\n",
    "\n",
    "\n",
    "# --- Scikit-Learn Modules for Data Partitioning and Preprocessing ---\n",
    "from sklearn.model_selection import train_test_split, cross_val_score\n",
    "from sklearn.preprocessing import StandardScaler, OneHotEncoder, LabelEncoder, MinMaxScaler, RobustScaler\n",
    "from sklearn.compose import ColumnTransformer\n",
    "from sklearn.pipeline import Pipeline\n",
    "from sklearn.impute import KNNImputer\n",
    "from sklearn.preprocessing import StandardScaler\n",
    "\n",
    "# --- Warnings ---\n",
    "import warnings\n",
    "warnings.filterwarnings('ignore')\n",
    "\n",
    "#Import functions from utils\n",
    "from utils import check_code_description_combinations"
   ]
  },
  {
   "cell_type": "markdown",
   "metadata": {},
   "source": [
    "# 2. Load and Prepare Datasets 📁<a class=\"anchor\" id=\"chapter2\"></a>\n",
    "[Back to ToC](#toc)<br>\n",
    "\n",
    "Now, we will load the dataset prepared in **Notebook 1: Imports & Data Exploration**, where we addressed key inconsistencies such as missing values, invalid codes, and other data quality issues. This cleaned dataset serves as the foundation for the preprocessing steps in this notebook."
   ]
  },
  {
   "cell_type": "code",
   "execution_count": 1,
   "metadata": {},
   "outputs": [
    {
     "ename": "NameError",
     "evalue": "name 'pd' is not defined",
     "output_type": "error",
     "traceback": [
      "\u001b[1;31m---------------------------------------------------------------------------\u001b[0m",
      "\u001b[1;31mNameError\u001b[0m                                 Traceback (most recent call last)",
      "Cell \u001b[1;32mIn[1], line 1\u001b[0m\n\u001b[1;32m----> 1\u001b[0m df_train \u001b[38;5;241m=\u001b[39m pd\u001b[38;5;241m.\u001b[39mread_csv(\u001b[38;5;124mr\u001b[39m\u001b[38;5;124m'\u001b[39m\u001b[38;5;124m../processed_datasets/cleaned_train_dataset.csv\u001b[39m\u001b[38;5;124m'\u001b[39m, index_col\u001b[38;5;241m=\u001b[39m\u001b[38;5;124m'\u001b[39m\u001b[38;5;124mClaim Identifier\u001b[39m\u001b[38;5;124m'\u001b[39m)\n\u001b[0;32m      2\u001b[0m df_test \u001b[38;5;241m=\u001b[39m pd\u001b[38;5;241m.\u001b[39mread_csv(\u001b[38;5;124mr\u001b[39m\u001b[38;5;124m'\u001b[39m\u001b[38;5;124m../processed_datasets/cleaned_test_dataset.csv\u001b[39m\u001b[38;5;124m'\u001b[39m,index_col\u001b[38;5;241m=\u001b[39m\u001b[38;5;124m'\u001b[39m\u001b[38;5;124mClaim Identifier\u001b[39m\u001b[38;5;124m'\u001b[39m)\n",
      "\u001b[1;31mNameError\u001b[0m: name 'pd' is not defined"
     ]
    }
   ],
   "source": [
    "df_train = pd.read_csv(r'../processed_datasets/cleaned_train_dataset.csv', index_col='Claim Identifier')\n",
    "df_test = pd.read_csv(r'../processed_datasets/cleaned_test_dataset.csv',index_col='Claim Identifier')"
   ]
  },
  {
   "cell_type": "markdown",
   "metadata": {},
   "source": [
    "# 3. Train Test Split <a class=\"anchor\" id=\"chapter3\"></a>\n",
    "[Back to ToC](#toc)<br>\n",
    "\n",
    "Splitting the dataset into training and test sets is a crucial step in building a machine learning model. In this project, we perform the train-test split after correcting inconsistencies but before data preprocessing, such as handling missing values, outlier treatment, and feature scaling. This sequence helps in maintaining the integrity of our data and ensures that the model is trained and evaluated fairly.\n",
    "\n",
    "The train-test split is performed after fixing inconsistencies but before preprocessing to ensure that we do not inadvertently introduce information from the test set into the training set. This allows us to maintain the integrity of our model evaluation and helps ensure that the results obtained during model evaluation are unbiased and reflect the model’s performance on truly unseen data."
   ]
  },
  {
   "cell_type": "code",
   "execution_count": null,
   "metadata": {},
   "outputs": [],
   "source": [
    "X= df_train.drop('Claim Injury Type',axis=1)\n",
    "y= df_train['Claim Injury Type']\n",
    "\n",
    "# Encode o target\n",
    "label_encoder = LabelEncoder()\n",
    "y = label_encoder.fit_transform(y)\n",
    "\n",
    "X_train, X_val, y_train, y_val = train_test_split(X,y, test_size = 0.2, \n",
    "                                                  random_state = 42, \n",
    "                                                  stratify = y, \n",
    "                                                  shuffle = True)"
   ]
  },
  {
   "cell_type": "markdown",
   "metadata": {},
   "source": [
    "# 4. Preprocessing the Dataset ⚒️ <a class=\"anchor\" id=\"chapter4\"></a>\n",
    "[Back to ToC](#toc)<br>\n",
    "\n",
    "\n",
    "In this chapter, we will perform the basic steps to get to know our dataset.\n"
   ]
  },
  {
   "cell_type": "markdown",
   "metadata": {},
   "source": [
    "## 4.1. Outliers <a class=\"anchor\" id=\"section_4_1\"></a>\n",
    "[Back to 4. Preprocessing the Dataset](#chapter4)<br>\n",
    "\n",
    "\n",
    "The columns below are those that may have outliers in our dataset:\n",
    "\n",
    "- **Age at Injury** – The age of the person at the time of the accident.\n",
    "- **Average Weekly Wage** – Average weekly wage.\n",
    "- **Number of Dependents** – Number of dependents (may have outliers in cases with a high number of dependents).\n",
    "- **Accident Year** – Year of the accident.\n",
    "- **WCIO Cause of Injury Code, WCIO Nature of Injury Code, WCIO Part Of Body Code** – Although these are codes, if they have continuously high numerical values, they may contain outliers."
   ]
  },
  {
   "cell_type": "code",
   "execution_count": null,
   "metadata": {},
   "outputs": [],
   "source": [
    "numerical_vars = ['Age at Injury', 'Average Weekly Wage', 'Number of Dependents', 'Accident Year']\n",
    "categorical_vars = ['WCIO Cause of Injury Code', 'WCIO Nature of Injury Code', 'WCIO Part Of Body Code']"
   ]
  },
  {
   "cell_type": "code",
   "execution_count": null,
   "metadata": {},
   "outputs": [
    {
     "name": "stdout",
     "output_type": "stream",
     "text": [
      "Number of potential outliers in numerical variables:\n",
      "Age at Injury: 0 outliers\n",
      "Average Weekly Wage: 15526 outliers\n",
      "Number of Dependents: 0 outliers\n",
      "Accident Year: 3414 outliers\n"
     ]
    }
   ],
   "source": [
    "# Analyze numerical variables for potential outliers using IQR\n",
    "def analyze_numerical_outliers(df, columns):\n",
    "    numerical_outliers = {}\n",
    "    for column in columns:\n",
    "        Q1 = df[column].quantile(0.25)  # First quartile (25%)\n",
    "        Q3 = df[column].quantile(0.75)  # Third quartile (75%)\n",
    "        IQR = Q3 - Q1                   # Interquartile range\n",
    "        lower_bound = Q1 - 1.5 * IQR    # Lower bound for outliers\n",
    "        upper_bound = Q3 + 1.5 * IQR    # Upper bound for outliers\n",
    "        # Identify outliers\n",
    "        outliers = df[(df[column] < lower_bound) | (df[column] > upper_bound)]\n",
    "        outliers_count = outliers.shape[0]\n",
    "        numerical_outliers[column] = outliers_count\n",
    "    return numerical_outliers\n",
    "\n",
    "# Run the analysis\n",
    "numerical_outliers_summary = analyze_numerical_outliers(X_train, numerical_vars)\n",
    "\n",
    "# Display the summary\n",
    "print(\"Number of potential outliers in numerical variables:\")\n",
    "for column, count in numerical_outliers_summary.items():\n",
    "    print(f\"{column}: {count} outliers\")"
   ]
  },
  {
   "cell_type": "markdown",
   "metadata": {},
   "source": [
    "Lets use some graphs to check the values in a boxplot"
   ]
  },
  {
   "cell_type": "code",
   "execution_count": null,
   "metadata": {},
   "outputs": [
    {
     "data": {
      "image/png": "[encoded data removed]",
      "text/plain": [
       "<Figure size 1000x2400 with 4 Axes>"
      ]
     },
     "metadata": {},
     "output_type": "display_data"
    }
   ],
   "source": [
    "plt.figure(figsize=(10, 6 * len(numerical_vars)))\n",
    "\n",
    "# Loop through each numeric column and plot a separate box plot\n",
    "for i, col in enumerate(numerical_vars, 1):\n",
    "    plt.subplot(len(numerical_vars), 1, i)\n",
    "    sns.boxplot(x=X_train[col])\n",
    "    plt.title(f'Box Plot of {col}')\n",
    "    plt.xlabel(col)\n",
    "    plt.ylabel('Values')\n",
    "\n",
    "# Adjust layout to prevent overlap\n",
    "plt.tight_layout()\n",
    "plt.show()"
   ]
  },
  {
   "cell_type": "markdown",
   "metadata": {},
   "source": [
    "Average Weekly Wage\n",
    "\n",
    "The majority of the values for the Average Weekly Wage column appear to be zero. This suggests that our initial analysis of outliers may not be valid, as most of these values seem to be incorrect or invalid. We will address this issue in detail later in the notebook."
   ]
  },
  {
   "cell_type": "markdown",
   "metadata": {},
   "source": [
    "Age at Injury\n",
    "\n",
    "Although no significant outliers were identified by the function output, this dataset focuses on workplace accidents, and some recorded ages seem unrealistic. Let's verify if these values exist, and if they do, remove them accordingly."
   ]
  },
  {
   "cell_type": "code",
   "execution_count": null,
   "metadata": {},
   "outputs": [
    {
     "name": "stdout",
     "output_type": "stream",
     "text": [
      "Unique values in 'Age at Injury': [24. 36. 41. 59. 58. 56. 54. 31. nan 44. 23. 49. 57. 42. 37. 63. 25. 76.\n",
      " 50. 46. 21. 33. 34. 48. 67. 32. 62. 43. 27. 47. 29. 51. 64. 61. 22. 35.\n",
      " 60. 38. 55. 52. 53. 28. 40. 65. 30. 70. 66. 45. 19. 74. 72. 69. 39. 20.\n",
      " 18. 26. 73. 79. 71. 68. 75. 77. 17. 78. 16. 80.]\n",
      "Number of each value in 'Number of Dependents: Age at Injury\n",
      "32.0    9095\n",
      "30.0    8889\n",
      "31.0    8826\n",
      "33.0    8683\n",
      "29.0    8528\n",
      "        ... \n",
      "77.0     246\n",
      "78.0     225\n",
      "16.0     194\n",
      "79.0     179\n",
      "80.0     151\n",
      "Name: count, Length: 65, dtype: int64\n"
     ]
    }
   ],
   "source": [
    "# Display unique values in the \"Age at Injury\" column\n",
    "unique_values = X_train['Age at Injury'].unique()\n",
    "\n",
    "# Check the value counts of the \"Age at Injury\" column\n",
    "age_counts = X_train['Age at Injury'].value_counts()\n",
    "\n",
    "# Print the unique values\n",
    "print(\"Unique values in 'Age at Injury':\", unique_values)\n",
    "print(\"Number of each value in 'Number of Dependents:\", age_counts)"
   ]
  },
  {
   "cell_type": "markdown",
   "metadata": {},
   "source": [
    "In New York, the standard retirement age for public employees varies based on their membership tier and years of credited service:\n",
    "\n",
    "Full Retirement Benefits: Generally available at age 62. However, members with at least 30 years of credited service can retire as early as age 55 without a reduction in benefits. \n",
    "\n",
    "Early Retirement with Reduced Benefits: Members with fewer than 30 years of service may retire between ages 55 and 62, but their benefits will be reduced based on their exact age at retirement.\n",
    "\n",
    "Having this information in mind, we decided on the following bounds:\n",
    "\n",
    "Lower Bound (Minimum Working Age):\n",
    "The minimum legal working age in New York is typically 16 years, so values below this are logically invalid for most worker datasets and should be removed.\n",
    "\n",
    "Upper Bound (Retirement Age):\n",
    "The normal retirement age in New York is 62–65 years, with many workers retiring by age 70. However, some exceptions exist (e.g., individuals working part-time or in specialized fields beyond 70). A reasonable upper cutoff could be 75."
   ]
  },
  {
   "cell_type": "code",
   "execution_count": null,
   "metadata": {},
   "outputs": [],
   "source": [
    "# Identify rows to drop based on age outliers\n",
    "#rows_to_drop = X_train[(X_train['Age at Injury'] < 16) | (X_train['Age at Injury'] > 75)].index\n",
    "\n",
    "# Drop the rows\n",
    "#X_train = X_train.drop(rows_to_drop)\n",
    "\n",
    "# Verify the range after cleaning\n",
    "#print(\"Age range after cleaning:\", X_train['Age at Injury'].min(), \"-\", X_train['Age at Injury'].max())"
   ]
  },
  {
   "cell_type": "markdown",
   "metadata": {},
   "source": [
    "The \"Age at Injury\" column has now been properly addressed."
   ]
  },
  {
   "cell_type": "markdown",
   "metadata": {},
   "source": [
    "Number of dependents\n",
    "\n",
    "The data in this column seems accurate, but we will double-check to ensure everything is correct."
   ]
  },
  {
   "cell_type": "code",
   "execution_count": null,
   "metadata": {},
   "outputs": [
    {
     "name": "stdout",
     "output_type": "stream",
     "text": [
      "Unique values in 'Number of Dependents': [3. 2. 1. 5. 0. 4. 6.]\n",
      "Number of each value in 'Number of Dependents': Number of Dependents\n",
      "6.0    57851\n",
      "3.0    57655\n",
      "4.0    57422\n",
      "5.0    57377\n",
      "1.0    57375\n",
      "0.0    57117\n",
      "2.0    57021\n",
      "Name: count, dtype: int64\n"
     ]
    }
   ],
   "source": [
    "# Display unique values in the \"Number of dependents\" column\n",
    "unique_values = X_train['Number of Dependents'].unique()\n",
    "\n",
    "# Check the value counts of the \"Number of dependents\" column\n",
    "dep_counts = X_train['Number of Dependents'].value_counts()\n",
    "\n",
    "# Print the unique values\n",
    "print(\"Unique values in 'Number of Dependents':\", unique_values)\n",
    "print(\"Number of each value in 'Number of Dependents':\", dep_counts)"
   ]
  },
  {
   "cell_type": "markdown",
   "metadata": {},
   "source": [
    "No outliers were detected in our analysis."
   ]
  },
  {
   "cell_type": "markdown",
   "metadata": {},
   "source": [
    "Accident Year\n",
    "\n",
    "While no outliers were initially detected, we will re-examine the data to confirm this and ensure the results are accurate."
   ]
  },
  {
   "cell_type": "code",
   "execution_count": null,
   "metadata": {},
   "outputs": [
    {
     "name": "stdout",
     "output_type": "stream",
     "text": [
      "Unique values in 'Accident Year': [2020. 2022. 2021.   nan 2019. 1999. 2018. 2023. 1997. 2001. 2007. 2017.\n",
      " 2016. 2011. 2000. 2010. 1993. 2015. 2009. 2013. 1990. 2014. 2004. 1989.\n",
      " 2003. 2006. 2002. 1998. 1985. 1996. 1995. 2005. 2012. 2008. 1976. 1991.\n",
      " 1988. 1992. 1984. 1980. 1983. 1973. 1971. 1982. 1994. 1974. 1986. 1978.\n",
      " 1977. 1987. 1975. 1969. 1967. 1970. 1979. 1961. 1981. 1972.]\n",
      "Number of each value in 'Accident Year: Accident Year\n",
      "2021.0    132808\n",
      "2022.0    130189\n",
      "2020.0    121577\n",
      "2019.0     10052\n",
      "2018.0       845\n",
      "2001.0       357\n",
      "2017.0       305\n",
      "2016.0       240\n",
      "2013.0       212\n",
      "2015.0       196\n",
      "2011.0       195\n",
      "2014.0       182\n",
      "2012.0       180\n",
      "2010.0       161\n",
      "2008.0       140\n",
      "2009.0       126\n",
      "2004.0       119\n",
      "2006.0       105\n",
      "2000.0       104\n",
      "2007.0       103\n",
      "2005.0       100\n",
      "2002.0        95\n",
      "2003.0        92\n",
      "1997.0        84\n",
      "1998.0        77\n",
      "1999.0        74\n",
      "1996.0        71\n",
      "1995.0        58\n",
      "1994.0        42\n",
      "2023.0        41\n",
      "1992.0        40\n",
      "1988.0        34\n",
      "1990.0        33\n",
      "1993.0        33\n",
      "1989.0        25\n",
      "1991.0        22\n",
      "1987.0        17\n",
      "1984.0        10\n",
      "1985.0         9\n",
      "1982.0         9\n",
      "1983.0         8\n",
      "1980.0         8\n",
      "1981.0         7\n",
      "1973.0         6\n",
      "1986.0         6\n",
      "1978.0         5\n",
      "1977.0         5\n",
      "1975.0         4\n",
      "1979.0         4\n",
      "1972.0         4\n",
      "1974.0         4\n",
      "1969.0         2\n",
      "1967.0         2\n",
      "1970.0         1\n",
      "1971.0         1\n",
      "1961.0         1\n",
      "1976.0         1\n",
      "Name: count, dtype: int64\n"
     ]
    }
   ],
   "source": [
    "# Display unique values in the \"Accident Year\" column\n",
    "unique_values = X_train['Accident Year'].unique()\n",
    "\n",
    "# Check the value counts of the \"Accident Year\" column\n",
    "year_counts = X_train['Accident Year'].value_counts()\n",
    "\n",
    "# Print the unique values\n",
    "print(\"Unique values in 'Accident Year':\", unique_values)\n",
    "print(\"Number of each value in 'Accident Year:\", year_counts)"
   ]
  },
  {
   "cell_type": "markdown",
   "metadata": {},
   "source": [
    "The vast majority of  Accident Year values are concentrated between 2020 and 2022. Values outside this range seem to represent very few occurrences, potentially making them outliers.\n",
    "\n",
    "We decided on the following bounds:\n",
    "\n",
    "Lower Bound: Remove values earlier than 2018 because they represent significantly fewer occurrences compared to the dominant years (2020–2022). This will remove older accident years that are unlikely to be relevant to your analysis.\n",
    "\n",
    "Upper Bound: Since the data appears to include 2022 as the latest year, anything beyond that (e.g., accidental entries) should also be removed."
   ]
  },
  {
   "cell_type": "code",
   "execution_count": null,
   "metadata": {},
   "outputs": [],
   "source": [
    "# Identify rows to drop based on Accident Year outliers\n",
    "#rows_to_drop = X_train[(X_train['Accident Year'] < 2018) | (X_train['Accident Year'] > 2022)].index\n",
    "\n",
    "# Drop the rows\n",
    "#X_train = X_train.drop(rows_to_drop)\n",
    "\n",
    "# Verify the range after cleaning\n",
    "#print(\"Age range after cleaning:\", X_train['Accident Year'].min(), \"-\", X_train['Accident Year'].max())"
   ]
  },
  {
   "cell_type": "markdown",
   "metadata": {},
   "source": [
    "The \"Accident Year\" column has now been properly addressed."
   ]
  },
  {
   "cell_type": "code",
   "execution_count": null,
   "metadata": {},
   "outputs": [],
   "source": [
    "def clean_data(X_train, df_y_train, age_range=(16, 75), year_range=(2018, 2022)):\n",
    "    \"\"\"\n",
    "    Cleans the data by removing rows based on Age at Injury and Accident Year outliers.\n",
    "\n",
    "    Parameters:\n",
    "        X_train (pd.DataFrame): The features DataFrame.\n",
    "        df_y_train (pd.DataFrame): The labels DataFrame.\n",
    "        age_range (tuple): The acceptable range for 'Age at Injury' (min, max).\n",
    "        year_range (tuple): The acceptable range for 'Accident Year' (min, max).\n",
    "\n",
    "    Returns:\n",
    "        pd.DataFrame: Cleaned X_train DataFrame.\n",
    "        pd.DataFrame: Cleaned df_y_train DataFrame.\n",
    "    \"\"\"\n",
    "    # Ensure indices of df_y_train align with X_train\n",
    "    df_y_train.index = X_train.index\n",
    "\n",
    "    # Identify rows to drop based on Age at Injury and Accident Year\n",
    "    rows_to_drop = X_train[\n",
    "        (X_train['Age at Injury'] < age_range[0]) | \n",
    "        (X_train['Age at Injury'] > age_range[1]) |\n",
    "        (X_train['Accident Year'] < year_range[0]) |\n",
    "        (X_train['Accident Year'] > year_range[1])\n",
    "    ].index\n",
    "\n",
    "    # Drop rows in both DataFrames\n",
    "    X_train_cleaned = X_train.drop(rows_to_drop)\n",
    "    df_y_train_cleaned = df_y_train.drop(rows_to_drop)\n",
    "\n",
    "    # Verify the ranges after cleaning\n",
    "    print(\"Age range after cleaning:\", X_train_cleaned['Age at Injury'].min(), \"-\", X_train_cleaned['Age at Injury'].max())\n",
    "    print(\"Accident Year range after cleaning:\", X_train_cleaned['Accident Year'].min(), \"-\", X_train_cleaned['Accident Year'].max())\n",
    "\n",
    "    return X_train_cleaned, df_y_train_cleaned\n"
   ]
  },
  {
   "cell_type": "code",
   "execution_count": null,
   "metadata": {},
   "outputs": [
    {
     "name": "stdout",
     "output_type": "stream",
     "text": [
      "Age range after cleaning: 16.0 - 75.0\n",
      "Accident Year range after cleaning: 2018.0 - 2022.0\n",
      "\n",
      "Cleaned X_train:\n",
      "                 Accident Date  Age at Injury Assembly Date  \\\n",
      "Claim Identifier                                              \n",
      "5479022             2020-05-05           24.0    2020-05-08   \n",
      "6023025             2022-05-10           36.0    2022-06-25   \n",
      "5851908             2021-05-19           41.0    2021-11-08   \n",
      "5913931             2022-02-03           59.0    2022-02-04   \n",
      "5845976             2021-09-21           58.0    2021-10-29   \n",
      "\n",
      "                  Attorney/Representative  Average Weekly Wage  Birth Year  \\\n",
      "Claim Identifier                                                             \n",
      "5479022                               0.0                 0.00      1996.0   \n",
      "6023025                               1.0              1097.00      1986.0   \n",
      "5851908                               1.0               623.35      1980.0   \n",
      "5913931                               1.0              1042.13      1963.0   \n",
      "5845976                               0.0                  NaN      1963.0   \n",
      "\n",
      "                   C-2 Date   C-3 Date                    Carrier Name  \\\n",
      "Claim Identifier                                                         \n",
      "5479022          2020-05-08        NaT            STATE INSURANCE FUND   \n",
      "6023025          2022-07-14 2022-06-16   SIRIUSPOINT AMERICA INSURANCE   \n",
      "5851908          2021-11-08 2021-11-04     INDEMNITY INS. OF N AMERICA   \n",
      "5913931          2022-02-04        NaT     INDEMNITY INS. OF N AMERICA   \n",
      "5845976          2021-10-29        NaT  SECURITY NATIONAL INSURANCE CO   \n",
      "\n",
      "                 Carrier Type  ... Industry Code  Medical Fee Region  \\\n",
      "Claim Identifier               ...                                     \n",
      "5479022                   SIF  ...          11.0                   I   \n",
      "6023025               PRIVATE  ...          31.0                  IV   \n",
      "5851908               PRIVATE  ...          33.0                   I   \n",
      "5913931               PRIVATE  ...          31.0                   I   \n",
      "5845976               PRIVATE  ...          62.0                  IV   \n",
      "\n",
      "                 WCIO Cause of Injury Code WCIO Nature of Injury Code  \\\n",
      "Claim Identifier                                                        \n",
      "5479022                               53.0                       52.0   \n",
      "6023025                               31.0                       10.0   \n",
      "5851908                               56.0                       52.0   \n",
      "5913931                               32.0                       49.0   \n",
      "5845976                               29.0                       90.0   \n",
      "\n",
      "                 WCIO Part Of Body Code  Zip Code  Agreement Reached  \\\n",
      "Claim Identifier                                                       \n",
      "5479022                            55.0     13143                0.0   \n",
      "6023025                            65.0     11368                1.0   \n",
      "5851908                            38.0     14580                0.0   \n",
      "5913931                            32.0     12065                0.0   \n",
      "5845976                            90.0     11203                0.0   \n",
      "\n",
      "                 Number of Dependents  Accident Year  Category Combination  \n",
      "Claim Identifier                                                            \n",
      "5479022                           3.0         2020.0                 SIF-M  \n",
      "6023025                           2.0         2022.0             PRIVATE-M  \n",
      "5851908                           3.0         2021.0             PRIVATE-F  \n",
      "5913931                           1.0         2022.0             PRIVATE-M  \n",
      "5845976                           5.0         2021.0             PRIVATE-F  \n",
      "\n",
      "[5 rows x 26 columns]\n",
      "\n",
      "Cleaned df_y_train:\n",
      "                  0\n",
      "Claim Identifier   \n",
      "5479022           1\n",
      "6023025           3\n",
      "5851908           3\n",
      "5913931           3\n",
      "5845976           1\n"
     ]
    }
   ],
   "source": [
    "# Clean the data\n",
    "X_train_cleaned, df_y_train_cleaned = clean_data(X_train, df_y_train)\n",
    "\n",
    "# Display the first few rows of the cleaned DataFrames\n",
    "print(\"\\nCleaned X_train:\")\n",
    "print(X_train_cleaned.head())\n",
    "\n",
    "print(\"\\nCleaned df_y_train:\")\n",
    "print(df_y_train_cleaned.head())\n"
   ]
  },
  {
   "cell_type": "code",
   "execution_count": null,
   "metadata": {},
   "outputs": [
    {
     "data": {
      "text/plain": [
       "array([[1],\n",
       "       [3],\n",
       "       [3],\n",
       "       ...,\n",
       "       [4],\n",
       "       [1],\n",
       "       [1]])"
      ]
     },
     "metadata": {},
     "output_type": "display_data"
    }
   ],
   "source": [
    "# Using to_numpy() method\n",
    "y_train = df_y_train.to_numpy()\n",
    "y_train"
   ]
  },
  {
   "cell_type": "markdown",
   "metadata": {},
   "source": [
    "WCIO Variables\n",
    "\n",
    "The analysis of numerical variables is complete. Now, let’s move on to examining the categorical variables."
   ]
  },
  {
   "cell_type": "code",
   "execution_count": null,
   "metadata": {},
   "outputs": [
    {
     "name": "stdout",
     "output_type": "stream",
     "text": [
      "\n",
      "Rare categories in WCIO Cause of Injury Code (less than 1% of data):\n",
      "WCIO Cause of Injury Code\n",
      "87.0    0.009080\n",
      "50.0    0.008865\n",
      "90.0    0.008491\n",
      "30.0    0.008235\n",
      "58.0    0.008056\n",
      "98.0    0.007790\n",
      "70.0    0.007140\n",
      "10.0    0.007015\n",
      "77.0    0.006652\n",
      "80.0    0.005915\n",
      "82.0    0.005833\n",
      "18.0    0.005831\n",
      "76.0    0.005784\n",
      "59.0    0.005270\n",
      "2.0     0.005140\n",
      "66.0    0.005050\n",
      "9.0     0.004431\n",
      "15.0    0.004336\n",
      "5.0     0.003592\n",
      "1.0     0.003316\n",
      "28.0    0.003239\n",
      "46.0    0.002576\n",
      "54.0    0.002515\n",
      "52.0    0.002366\n",
      "78.0    0.002310\n",
      "69.0    0.002039\n",
      "6.0     0.001845\n",
      "94.0    0.001297\n",
      "84.0    0.001261\n",
      "48.0    0.001118\n",
      "20.0    0.001011\n",
      "65.0    0.000975\n",
      "4.0     0.000826\n",
      "3.0     0.000806\n",
      "88.0    0.000760\n",
      "61.0    0.000709\n",
      "41.0    0.000519\n",
      "95.0    0.000466\n",
      "11.0    0.000363\n",
      "86.0    0.000276\n",
      "67.0    0.000243\n",
      "96.0    0.000233\n",
      "93.0    0.000182\n",
      "7.0     0.000133\n",
      "91.0    0.000092\n",
      "40.0    0.000084\n",
      "14.0    0.000084\n",
      "8.0     0.000069\n",
      "47.0    0.000023\n",
      "Name: proportion, dtype: float64\n",
      "\n",
      "Rare categories in WCIO Nature of Injury Code (less than 1% of data):\n",
      "WCIO Nature of Injury Code\n",
      "7.0     0.009727\n",
      "13.0    0.009305\n",
      "78.0    0.005030\n",
      "80.0    0.005022\n",
      "34.0    0.004874\n",
      "31.0    0.003561\n",
      "71.0    0.003492\n",
      "77.0    0.002771\n",
      "53.0    0.002553\n",
      "65.0    0.002300\n",
      "46.0    0.002177\n",
      "68.0    0.001842\n",
      "36.0    0.001655\n",
      "72.0    0.001533\n",
      "2.0     0.001338\n",
      "73.0    0.001307\n",
      "19.0    0.001095\n",
      "69.0    0.000811\n",
      "41.0    0.000808\n",
      "42.0    0.000745\n",
      "32.0    0.000737\n",
      "91.0    0.000670\n",
      "47.0    0.000622\n",
      "66.0    0.000527\n",
      "58.0    0.000507\n",
      "38.0    0.000353\n",
      "74.0    0.000340\n",
      "3.0     0.000315\n",
      "55.0    0.000287\n",
      "61.0    0.000182\n",
      "54.0    0.000169\n",
      "60.0    0.000156\n",
      "30.0    0.000118\n",
      "75.0    0.000059\n",
      "67.0    0.000054\n",
      "64.0    0.000031\n",
      "70.0    0.000018\n",
      "22.0    0.000015\n",
      "62.0    0.000008\n",
      "79.0    0.000008\n",
      "76.0    0.000005\n",
      "63.0    0.000003\n",
      "Name: proportion, dtype: float64\n",
      "\n",
      "Rare categories in WCIO Part Of Body Code (less than 1% of data):\n",
      "WCIO Part Of Body Code\n",
      "65.0    0.009574\n",
      "52.0    0.007705\n",
      "19.0    0.007086\n",
      "13.0    0.006968\n",
      "48.0    0.006792\n",
      "20.0    0.005140\n",
      "30.0    0.004737\n",
      "39.0    0.004714\n",
      "57.0    0.004486\n",
      "15.0    0.003814\n",
      "63.0    0.003606\n",
      "12.0    0.003547\n",
      "50.0    0.003434\n",
      "43.0    0.003385\n",
      "58.0    0.003214\n",
      "40.0    0.003178\n",
      "17.0    0.002778\n",
      "21.0    0.002362\n",
      "99.0    0.002272\n",
      "62.0    0.002047\n",
      "22.0    0.002013\n",
      "16.0    0.001485\n",
      "46.0    0.001347\n",
      "49.0    0.001180\n",
      "23.0    0.000864\n",
      "45.0    0.000759\n",
      "47.0    0.000723\n",
      "24.0    0.000269\n",
      "26.0    0.000154\n",
      "64.0    0.000087\n",
      "Name: proportion, dtype: float64\n"
     ]
    }
   ],
   "source": [
    "# Analyze categorical variables for rare categories\n",
    "def analyze_categorical_outliers(df, columns):\n",
    "    categorical_outliers = {}\n",
    "    for column in columns:\n",
    "        value_counts = df[column].value_counts(normalize=True)  # Get frequency of each category\n",
    "        rare_categories = value_counts[value_counts < 0.01]     # Categories with less than 1% frequency\n",
    "        categorical_outliers[column] = rare_categories\n",
    "    return categorical_outliers\n",
    "\n",
    "# Run the analysis\n",
    "categorical_outliers_summary = analyze_categorical_outliers(X_train, categorical_vars)\n",
    "\n",
    "# Display the summary\n",
    "for column, rare_cats in categorical_outliers_summary.items():\n",
    "    print(f\"\\nRare categories in {column} (less than 1% of data):\")\n",
    "    print(rare_cats)"
   ]
  },
  {
   "cell_type": "markdown",
   "metadata": {},
   "source": [
    "Despite having several codes that are rarely used (less than 1% of the dataset), we decided to retain all codes for now. Since the dataset includes rare cases that need to be predicted, this approach ensures that our model remains as accurate as possible."
   ]
  },
  {
   "cell_type": "markdown",
   "metadata": {},
   "source": [
    "## 5.2. Missing Values <a class=\"anchor\" id=\"section_5_2\"></a>\n",
    "\n",
    "We may also have missing values that are incorrectly set to zero. Therefore, we will use `.eq(0)` to identify if there are any columns with zeros that are not supposed to have them.\n"
   ]
  },
  {
   "cell_type": "code",
   "execution_count": null,
   "metadata": {},
   "outputs": [
    {
     "data": {
      "text/plain": [
       "Accident Date                      0\n",
       "Age at Injury                      0\n",
       "Assembly Date                      0\n",
       "Attorney/Representative       274690\n",
       "Average Weekly Wage           234703\n",
       "Birth Year                         0\n",
       "C-2 Date                           0\n",
       "C-3 Date                           0\n",
       "Carrier Name                       0\n",
       "Carrier Type                       0\n",
       "County of Injury                   0\n",
       "COVID-19 Indicator            382407\n",
       "District Name                      0\n",
       "First Hearing Date                 0\n",
       "Gender                             0\n",
       "IME-4 Count                        0\n",
       "Industry Code                      0\n",
       "Medical Fee Region                 0\n",
       "WCIO Cause of Injury Code          0\n",
       "WCIO Nature of Injury Code         0\n",
       "WCIO Part Of Body Code             0\n",
       "Zip Code                           0\n",
       "Agreement Reached             383137\n",
       "Number of Dependents           57117\n",
       "Accident Year                      0\n",
       "Category Combination               0\n",
       "dtype: int64"
      ]
     },
     "metadata": {},
     "output_type": "display_data"
    }
   ],
   "source": [
    "# Count the number of zeros in each column\n",
    "X_train.eq(0).sum()"
   ]
  },
  {
   "cell_type": "code",
   "execution_count": null,
   "metadata": {},
   "outputs": [
    {
     "data": {
      "text/plain": [
       "(401818, 26)"
      ]
     },
     "metadata": {},
     "output_type": "display_data"
    }
   ],
   "source": [
    "X_train.shape"
   ]
  },
  {
   "cell_type": "code",
   "execution_count": null,
   "metadata": {},
   "outputs": [
    {
     "data": {
      "text/plain": [
       "(172208, 26)"
      ]
     },
     "metadata": {},
     "output_type": "display_data"
    }
   ],
   "source": [
    "X_val.shape"
   ]
  },
  {
   "cell_type": "markdown",
   "metadata": {},
   "source": [
    "In this section, we identify columns with a high number of zero values, which might indicate potential missing values represented by zero instead of NaN. This helps us to locate inconsistencies or placeholders that we need to address during data preprocessing.\n",
    "\n",
    "Key observations from the output:\n",
    "\n",
    "__`Average Weekly Wage`__: **234703** entries have zeros, indicating potential data issues.\n",
    "\n",
    "__`COVID-19 Indicator`__: **382530** entries are zeros, which may represent cases without a COVID-related claim.\n",
    "\n",
    "__`Agreement Reached`__: **383137** entries have zeros, which could indicate missing or null agreements.\n",
    "\n",
    "__`Number of Dependents`__: **57117** entries with zeroes might indicate missing values in this column.\n",
    "\n",
    "This analysis allows us to consider the necessity of replacing or imputing these zero values during the data preprocessing steps, ensuring they do not interfere with model training and evaluation."
   ]
  },
  {
   "cell_type": "markdown",
   "metadata": {},
   "source": [
    "### 5.2.1. Handling High Zero Columns <a class=\"anchor\" id=\"sub_section_5_2_1\"></a>"
   ]
  },
  {
   "cell_type": "code",
   "execution_count": null,
   "metadata": {},
   "outputs": [
    {
     "name": "stdout",
     "output_type": "stream",
     "text": [
      "Attorney/Representative    68.361796\n",
      "Average Weekly Wage        58.410275\n",
      "COVID-19 Indicator         95.169206\n",
      "Agreement Reached          95.350880\n",
      "dtype: float64\n"
     ]
    }
   ],
   "source": [
    "# Set the threshold for zero values (e.g., more than 20% zeros)\n",
    "threshold = 0.2\n",
    "\n",
    "# Calculate the percentage of zeros for each column\n",
    "zero_percentage = X_train.eq(0).mean()\n",
    "\n",
    "# Filter columns that have more than the threshold of zero values\n",
    "high_zero_columns = zero_percentage[zero_percentage > threshold]\n",
    "\n",
    "# Display the columns with their zero percentage\n",
    "print(high_zero_columns*100)"
   ]
  },
  {
   "cell_type": "markdown",
   "metadata": {},
   "source": [
    "We set a threshold to identify columns with a high proportion of zero values (more than 20%). This analysis helps us determine if any columns contain zeros that might represent missing data instead of actual values.\n",
    "\n",
    "The columns that have more than 20% of zero values are:\n",
    "- **Attorney/Representative**: 68.36% zeros\n",
    "- **Average Weekly Wage**: 58.41% zeros\n",
    "- **COVID-19 Indicator**: 95.20% zeros\n",
    "- **Agreement Reached**: 95.35% zeros\n",
    "\n",
    "We found that **Average Weekly Wage** contains an unexpectedly high number of zeros, which is likely incorrect for this dataset. Since every employee should have a weekly wage, these zeros should be treated as missing values. Therefore, we will replace the zeros in the **Average Weekly Wage** column with `NaN`.\n"
   ]
  },
  {
   "cell_type": "markdown",
   "metadata": {},
   "source": [
    "We found that only one column, Average Weekly Wage, contains an unexpectedly high number of zeros. Since this dataset is related to work insurance, every employee must have a weekly wage, meaning these zeros are likely incorrect and should be treated as missing values. Therefore, we will replace the zeros in the Average Weekly Wage column with NaN."
   ]
  },
  {
   "cell_type": "code",
   "execution_count": null,
   "metadata": {},
   "outputs": [],
   "source": [
    "# Replace zeros in 'Average Weekly Wage' with NaN in the train, validation, and test sets\n",
    "X_train['Average Weekly Wage'] = X_train['Average Weekly Wage'].replace(0, np.nan)\n",
    "X_val['Average Weekly Wage'] = X_val['Average Weekly Wage'].replace(0, np.nan)\n",
    "df_test['Average Weekly Wage'] = df_test['Average Weekly Wage'].replace(0, np.nan)"
   ]
  },
  {
   "cell_type": "markdown",
   "metadata": {},
   "source": [
    "### Identifying Remaining Missing Values\n",
    "\n",
    "After treating zeros as missing values in the **Average Weekly Wage** column, we will now examine the dataset for any remaining `NaN` values. This step ensures that all missing data points are identified, enabling us to address them systematically.\n",
    "\n",
    "The table below displays the count of missing values (NaN) for each column in the dataset. Some columns, such as **First Hearing Date** and **IME-4 Count**, contain a significant number of missing values, which may require further investigation and treatment."
   ]
  },
  {
   "cell_type": "code",
   "execution_count": null,
   "metadata": {},
   "outputs": [
    {
     "data": {
      "text/plain": [
       "Accident Date                   2587\n",
       "Age at Injury                  40880\n",
       "Assembly Date                   1022\n",
       "Attorney/Representative            0\n",
       "Average Weekly Wage           254769\n",
       "Birth Year                     38491\n",
       "C-2 Date                       10903\n",
       "C-3 Date                      271096\n",
       "Carrier Name                       0\n",
       "Carrier Type                       0\n",
       "County of Injury                   0\n",
       "COVID-19 Indicator                 0\n",
       "District Name                      0\n",
       "First Hearing Date            296368\n",
       "Gender                             0\n",
       "IME-4 Count                   308855\n",
       "Industry Code                   6969\n",
       "Medical Fee Region                 0\n",
       "WCIO Cause of Injury Code      10945\n",
       "WCIO Nature of Injury Code     10956\n",
       "WCIO Part Of Body Code         11919\n",
       "Zip Code                           0\n",
       "Agreement Reached                  0\n",
       "Number of Dependents               0\n",
       "Accident Year                   2587\n",
       "Category Combination               0\n",
       "dtype: int64"
      ]
     },
     "metadata": {},
     "output_type": "display_data"
    }
   ],
   "source": [
    "# Display count of NaN values for each column in the training dataset\n",
    "X_train.isnull().sum()"
   ]
  },
  {
   "cell_type": "markdown",
   "metadata": {},
   "source": [
    "**Columns with High Percentage of Missing Values**"
   ]
  },
  {
   "cell_type": "code",
   "execution_count": null,
   "metadata": {},
   "outputs": [
    {
     "name": "stdout",
     "output_type": "stream",
     "text": [
      "Average Weekly Wage    63.404078\n",
      "C-3 Date               67.467361\n",
      "First Hearing Date     73.756775\n",
      "IME-4 Count            76.864401\n",
      "dtype: float64\n"
     ]
    }
   ],
   "source": [
    "# Set the threshold for missing values (e.g., more than 30% missing)\n",
    "threshold = 0.2\n",
    "\n",
    "# Calculate the percentage of missing values for each column\n",
    "missing_percentage = X_train.isnull().mean()\n",
    "\n",
    "# Filter columns that have more than the threshold of missing values\n",
    "high_missing_columns = missing_percentage[missing_percentage > threshold]\n",
    "\n",
    "# Display the columns with their missing percentage\n",
    "print(high_missing_columns*100)"
   ]
  },
  {
   "cell_type": "markdown",
   "metadata": {},
   "source": [
    "Using a threshold of 20%, we identified columns with a high percentage of missing values. Columns such as **First Hearing Date** and **IME-4 Count** have more than 70% missing data, which makes them candidates for potential feature engineering or alternative handling.\n",
    "\n",
    "In particular:\n",
    "- **First Hearing Date**: Given its high missing rate, this feature could potentially be transformed into a binary indicator, where 0 indicates missing and 1 indicates available data. This approach allows us to retain any signal that might be present in the presence or absence of this information.\n",
    "\n",
    "Let's explore more about the rest of missing values."
   ]
  },
  {
   "cell_type": "markdown",
   "metadata": {},
   "source": [
    "### 5.2.2. Handling Missing Values in `IME-4 Count` <a class=\"anchor\" id=\"sub_section_5_2_2\"></a>\n",
    "\n",
    "The `IME-4 Count` feature represents the number of independent medical audit examinations. A missing value (`NaN`) in this column likely indicates that no audits were conducted for a specific case. Therefore, we have decided to replace all `NaN` values with 0 to indicate that there was no audit.\n",
    "\n"
   ]
  },
  {
   "cell_type": "code",
   "execution_count": null,
   "metadata": {},
   "outputs": [
    {
     "data": {
      "text/plain": [
       "array([nan,  4.,  2.,  1., 19.,  8.,  5.,  6.,  3., 10., 11.,  7.,  9.,\n",
       "       21., 15., 22., 14., 17., 18., 12., 13., 16., 23., 24., 20., 27.,\n",
       "       31., 25., 26., 28., 37., 32., 36., 29., 73., 39., 30., 35., 48.,\n",
       "       47., 34.])"
      ]
     },
     "metadata": {},
     "output_type": "display_data"
    }
   ],
   "source": [
    "# Display unique values in 'IME-4 Count' to understand the range\n",
    "X_train['IME-4 Count'].unique()"
   ]
  },
  {
   "cell_type": "markdown",
   "metadata": {},
   "source": [
    "As IME-4 represents the number of independent medical audicts examination we decided to convert nan to 0 meaning that there wasn't any."
   ]
  },
  {
   "cell_type": "code",
   "execution_count": null,
   "metadata": {},
   "outputs": [
    {
     "data": {
      "text/plain": [
       "array([ 0.,  4.,  2.,  1., 19.,  8.,  5.,  6.,  3., 10., 11.,  7.,  9.,\n",
       "       21., 15., 22., 14., 17., 18., 12., 13., 16., 23., 24., 20., 27.,\n",
       "       31., 25., 26., 28., 37., 32., 36., 29., 73., 39., 30., 35., 48.,\n",
       "       47., 34.])"
      ]
     },
     "metadata": {},
     "output_type": "display_data"
    }
   ],
   "source": [
    "# Replace NaN values in 'IME-4 Count' with 0 in the training, validation, and test sets\n",
    "X_train['IME-4 Count'].fillna(0, inplace=True)\n",
    "X_val['IME-4 Count'].fillna(0, inplace=True)\n",
    "df_test['IME-4 Count'].fillna(0, inplace=True)\n",
    "\n",
    "# Confirm replacement by displaying unique values again\n",
    "X_train['IME-4 Count'].unique()"
   ]
  },
  {
   "cell_type": "markdown",
   "metadata": {},
   "source": [
    "### 5.2.3. Handling Missing Values in `C-3 Date`, `C-2 Date`, and `First Hearing Date` <a class=\"anchor\" id=\"sub_section_5_2_3\"></a>\n",
    "\n",
    "\n",
    "After reviewing the documentation from data.gov.ny, it was discovered that missing values (NaN) in the C-3 Date, C-2 Date, and First Hearing Date columns have a specific meaning: \"blanks indicate no form received.\"\n",
    "\n",
    "Given this clarification, we will no longer treat these as missing values. Instead:\n",
    "\n",
    "Missing values (NaN) will be replaced with 0 to indicate \"No form received.\"\n",
    "This adjustment ensures that the data accurately reflects the provided context and avoids misinterpretation of missing values as a lack of data.\n"
   ]
  },
  {
   "cell_type": "code",
   "execution_count": null,
   "metadata": {},
   "outputs": [],
   "source": [
    "# Replace NaN values in specified columns with 0 to indicate \"No form received\"\n",
    "columns_to_update = ['C-3 Date', 'C-2 Date', 'First Hearing Date']\n",
    "X_train[columns_to_update] = X_train[columns_to_update].fillna(0)\n",
    "X_val[columns_to_update] = X_val[columns_to_update].fillna(0)\n",
    "df_test[columns_to_update] = df_test[columns_to_update].fillna(0)"
   ]
  },
  {
   "cell_type": "markdown",
   "metadata": {},
   "source": [
    "> #### Defining a threshold for missing values\n"
   ]
  },
  {
   "cell_type": "code",
   "execution_count": null,
   "metadata": {},
   "outputs": [
    {
     "name": "stdout",
     "output_type": "stream",
     "text": [
      "Percentage of rows with more than 30% missing values: 0.1648%\n"
     ]
    }
   ],
   "source": [
    "# Set the threshold for missing values - in this case, 30% of the columns\n",
    "threshold = X_train.shape[1] * 0.30\n",
    "\n",
    "# Count the number of NaNs in each row\n",
    "nan_counts_per_row = X_train.isna().sum(axis=1)\n",
    "\n",
    "# Find rows with more than 30% NaNs\n",
    "rows_with_high_nan = nan_counts_per_row > threshold\n",
    "\n",
    "# Calculate the percentage of rows with more than 30% NaNs\n",
    "percentage_rows_with_high_nan = (rows_with_high_nan.sum() / X_train.shape[0]) * 100\n",
    "\n",
    "print(f\"Percentage of rows with more than 30% missing values: {percentage_rows_with_high_nan:.4f}%\")"
   ]
  },
  {
   "cell_type": "code",
   "execution_count": null,
   "metadata": {},
   "outputs": [
    {
     "data": {
      "text/plain": [
       "(401818, 1)"
      ]
     },
     "metadata": {},
     "output_type": "display_data"
    }
   ],
   "source": [
    "y_train.shape"
   ]
  },
  {
   "cell_type": "code",
   "execution_count": null,
   "metadata": {},
   "outputs": [
    {
     "data": {
      "text/plain": [
       "(401818, 26)"
      ]
     },
     "metadata": {},
     "output_type": "display_data"
    }
   ],
   "source": [
    "X_train.shape"
   ]
  },
  {
   "cell_type": "code",
   "execution_count": null,
   "metadata": {},
   "outputs": [
    {
     "name": "stdout",
     "output_type": "stream",
     "text": [
      "Shape of X_train after removing rows with more than 30% NaNs: (401156, 26)\n",
      "Shape of y_train after removing corresponding rows: (401156, 1)\n"
     ]
    }
   ],
   "source": [
    "# Step 1: Identify rows with more than 30% NaNs in X_train\n",
    "threshold = int(X_train.shape[1] * 0.3)  # Calculate the threshold for 30% NaNs\n",
    "rows_with_high_nan = X_train.isnull().sum(axis=1) > threshold  # Rows with more than 30% NaNs\n",
    "\n",
    "# Step 2: Create the boolean mask to keep rows\n",
    "rows_to_keep = ~rows_with_high_nan  # Invert the mask to keep rows with <= 30% NaNs\n",
    "\n",
    "# Step 3: Apply the boolean mask to X_train and y_train\n",
    "X_train = X_train[rows_to_keep].copy()\n",
    "y_train = y_train[rows_to_keep].copy()  # Ensure indices match with X_train\n",
    "\n",
    "# Step 4: Print the shapes of the cleaned datasets\n",
    "print(f\"Shape of X_train after removing rows with more than 30% NaNs: {X_train.shape}\")\n",
    "print(f\"Shape of y_train after removing corresponding rows: {y_train.shape}\")"
   ]
  },
  {
   "cell_type": "markdown",
   "metadata": {},
   "source": [
    "1. **Threshold for Missing Values**:\n",
    "   - We have decided to focus on rows with **more than 30% missing values** in `X_train` dataset. \n",
    "\n",
    "2. **Remove Rows with High Missing Values**:\n",
    "   - We will **delete the rows in `X_train`** that have **more than 30% of the columns with missing values**. Since this only affects **0.25% of the rows**, it won't significantly reduce your dataset size and will help maintain a good quality of training data.\n",
    "\n",
    "3. **Preserve Data Quality in `X_train`**:\n",
    "   - The purpose of removing rows from `X_train` is to have a **high-quality training dataset**. By improving the quality of `X_train`, we will also have better statistics (mean/mode) for imputing missing values in X_val and df_test. This ensures that your imputation values are more reliable, coming from data that has less noise and fewer inconsistencies.\n",
    "\n",
    "4. **Impute Missing Values in X_val and df_test**:\n",
    "    - After deleting the rows with high missing values in `X_train`, we will use the mode or mean from X_train to impute the missing values in both X_val and df_test to maintain consistency across datasets."
   ]
  },
  {
   "cell_type": "code",
   "execution_count": null,
   "metadata": {},
   "outputs": [
    {
     "data": {
      "text/plain": [
       "Accident Date                   1925\n",
       "Age at Injury                  40218\n",
       "Assembly Date                   1022\n",
       "Attorney/Representative            0\n",
       "Average Weekly Wage           254107\n",
       "Birth Year                     38326\n",
       "C-2 Date                           0\n",
       "C-3 Date                           0\n",
       "Carrier Name                       0\n",
       "Carrier Type                       0\n",
       "County of Injury                   0\n",
       "COVID-19 Indicator                 0\n",
       "District Name                      0\n",
       "First Hearing Date                 0\n",
       "Gender                             0\n",
       "IME-4 Count                        0\n",
       "Industry Code                   6384\n",
       "Medical Fee Region                 0\n",
       "WCIO Cause of Injury Code      10283\n",
       "WCIO Nature of Injury Code     10294\n",
       "WCIO Part Of Body Code         11257\n",
       "Zip Code                           0\n",
       "Agreement Reached                  0\n",
       "Number of Dependents               0\n",
       "Accident Year                   1925\n",
       "Category Combination               0\n",
       "dtype: int64"
      ]
     },
     "metadata": {},
     "output_type": "display_data"
    }
   ],
   "source": [
    "X_train.isnull().sum()"
   ]
  },
  {
   "cell_type": "code",
   "execution_count": null,
   "metadata": {},
   "outputs": [
    {
     "data": {
      "text/plain": [
       "Average Weekly Wage\n",
       "250.00     2220\n",
       "600.00     1590\n",
       "1765.00     882\n",
       "500.00      880\n",
       "1000.00     759\n",
       "           ... \n",
       "1617.93       1\n",
       "463.72        1\n",
       "1253.26       1\n",
       "2075.48       1\n",
       "2232.97       1\n",
       "Name: count, Length: 93453, dtype: int64"
      ]
     },
     "metadata": {},
     "output_type": "display_data"
    }
   ],
   "source": [
    "X_train['Average Weekly Wage'].value_counts()"
   ]
  },
  {
   "cell_type": "code",
   "execution_count": null,
   "metadata": {},
   "outputs": [
    {
     "data": {
      "text/plain": [
       "WCIO Cause of Injury Code\n",
       "56.0    32701\n",
       "74.0    25993\n",
       "60.0    23269\n",
       "31.0    22242\n",
       "29.0    20446\n",
       "        ...  \n",
       "91.0       36\n",
       "40.0       33\n",
       "14.0       33\n",
       "8.0        27\n",
       "47.0        9\n",
       "Name: count, Length: 77, dtype: int64"
      ]
     },
     "metadata": {},
     "output_type": "display_data"
    }
   ],
   "source": [
    "X_train['WCIO Cause of Injury Code'].value_counts()"
   ]
  },
  {
   "cell_type": "code",
   "execution_count": null,
   "metadata": {},
   "outputs": [
    {
     "data": {
      "text/html": [
       "<div>\n",
       "<style scoped>\n",
       "    .dataframe tbody tr th:only-of-type {\n",
       "        vertical-align: middle;\n",
       "    }\n",
       "\n",
       "    .dataframe tbody tr th {\n",
       "        vertical-align: top;\n",
       "    }\n",
       "\n",
       "    .dataframe thead th {\n",
       "        text-align: right;\n",
       "    }\n",
       "</style>\n",
       "<table border=\"1\" class=\"dataframe\">\n",
       "  <thead>\n",
       "    <tr style=\"text-align: right;\">\n",
       "      <th></th>\n",
       "      <th>Accident Date</th>\n",
       "      <th>Age at Injury</th>\n",
       "      <th>Assembly Date</th>\n",
       "      <th>Attorney/Representative</th>\n",
       "      <th>Average Weekly Wage</th>\n",
       "      <th>Birth Year</th>\n",
       "      <th>C-2 Date</th>\n",
       "      <th>C-3 Date</th>\n",
       "      <th>Carrier Name</th>\n",
       "      <th>Carrier Type</th>\n",
       "      <th>...</th>\n",
       "      <th>Industry Code</th>\n",
       "      <th>Medical Fee Region</th>\n",
       "      <th>WCIO Cause of Injury Code</th>\n",
       "      <th>WCIO Nature of Injury Code</th>\n",
       "      <th>WCIO Part Of Body Code</th>\n",
       "      <th>Zip Code</th>\n",
       "      <th>Agreement Reached</th>\n",
       "      <th>Number of Dependents</th>\n",
       "      <th>Accident Year</th>\n",
       "      <th>Category Combination</th>\n",
       "    </tr>\n",
       "    <tr>\n",
       "      <th>Claim Identifier</th>\n",
       "      <th></th>\n",
       "      <th></th>\n",
       "      <th></th>\n",
       "      <th></th>\n",
       "      <th></th>\n",
       "      <th></th>\n",
       "      <th></th>\n",
       "      <th></th>\n",
       "      <th></th>\n",
       "      <th></th>\n",
       "      <th></th>\n",
       "      <th></th>\n",
       "      <th></th>\n",
       "      <th></th>\n",
       "      <th></th>\n",
       "      <th></th>\n",
       "      <th></th>\n",
       "      <th></th>\n",
       "      <th></th>\n",
       "      <th></th>\n",
       "      <th></th>\n",
       "    </tr>\n",
       "  </thead>\n",
       "  <tbody>\n",
       "    <tr>\n",
       "      <th>5479022</th>\n",
       "      <td>2020-05-05</td>\n",
       "      <td>24.0</td>\n",
       "      <td>2020-05-08</td>\n",
       "      <td>0.0</td>\n",
       "      <td>NaN</td>\n",
       "      <td>1996.0</td>\n",
       "      <td>2020-05-08 00:00:00</td>\n",
       "      <td>0</td>\n",
       "      <td>STATE INSURANCE FUND</td>\n",
       "      <td>SIF</td>\n",
       "      <td>...</td>\n",
       "      <td>11.0</td>\n",
       "      <td>I</td>\n",
       "      <td>53.0</td>\n",
       "      <td>52.0</td>\n",
       "      <td>55.0</td>\n",
       "      <td>13143</td>\n",
       "      <td>0.0</td>\n",
       "      <td>3.0</td>\n",
       "      <td>2020.0</td>\n",
       "      <td>SIF-M</td>\n",
       "    </tr>\n",
       "    <tr>\n",
       "      <th>6023025</th>\n",
       "      <td>2022-05-10</td>\n",
       "      <td>36.0</td>\n",
       "      <td>2022-06-25</td>\n",
       "      <td>1.0</td>\n",
       "      <td>1097.00</td>\n",
       "      <td>1986.0</td>\n",
       "      <td>2022-07-14 00:00:00</td>\n",
       "      <td>2022-06-16 00:00:00</td>\n",
       "      <td>SIRIUSPOINT AMERICA INSURANCE</td>\n",
       "      <td>PRIVATE</td>\n",
       "      <td>...</td>\n",
       "      <td>31.0</td>\n",
       "      <td>IV</td>\n",
       "      <td>31.0</td>\n",
       "      <td>10.0</td>\n",
       "      <td>65.0</td>\n",
       "      <td>11368</td>\n",
       "      <td>1.0</td>\n",
       "      <td>2.0</td>\n",
       "      <td>2022.0</td>\n",
       "      <td>PRIVATE-M</td>\n",
       "    </tr>\n",
       "    <tr>\n",
       "      <th>5851908</th>\n",
       "      <td>2021-05-19</td>\n",
       "      <td>41.0</td>\n",
       "      <td>2021-11-08</td>\n",
       "      <td>1.0</td>\n",
       "      <td>623.35</td>\n",
       "      <td>1980.0</td>\n",
       "      <td>2021-11-08 00:00:00</td>\n",
       "      <td>2021-11-04 00:00:00</td>\n",
       "      <td>INDEMNITY INS. OF N AMERICA</td>\n",
       "      <td>PRIVATE</td>\n",
       "      <td>...</td>\n",
       "      <td>33.0</td>\n",
       "      <td>I</td>\n",
       "      <td>56.0</td>\n",
       "      <td>52.0</td>\n",
       "      <td>38.0</td>\n",
       "      <td>14580</td>\n",
       "      <td>0.0</td>\n",
       "      <td>3.0</td>\n",
       "      <td>2021.0</td>\n",
       "      <td>PRIVATE-F</td>\n",
       "    </tr>\n",
       "    <tr>\n",
       "      <th>5913931</th>\n",
       "      <td>2022-02-03</td>\n",
       "      <td>59.0</td>\n",
       "      <td>2022-02-04</td>\n",
       "      <td>1.0</td>\n",
       "      <td>1042.13</td>\n",
       "      <td>1963.0</td>\n",
       "      <td>2022-02-04 00:00:00</td>\n",
       "      <td>0</td>\n",
       "      <td>INDEMNITY INS. OF N AMERICA</td>\n",
       "      <td>PRIVATE</td>\n",
       "      <td>...</td>\n",
       "      <td>31.0</td>\n",
       "      <td>I</td>\n",
       "      <td>32.0</td>\n",
       "      <td>49.0</td>\n",
       "      <td>32.0</td>\n",
       "      <td>12065</td>\n",
       "      <td>0.0</td>\n",
       "      <td>1.0</td>\n",
       "      <td>2022.0</td>\n",
       "      <td>PRIVATE-M</td>\n",
       "    </tr>\n",
       "    <tr>\n",
       "      <th>5845976</th>\n",
       "      <td>2021-09-21</td>\n",
       "      <td>58.0</td>\n",
       "      <td>2021-10-29</td>\n",
       "      <td>0.0</td>\n",
       "      <td>NaN</td>\n",
       "      <td>1963.0</td>\n",
       "      <td>2021-10-29 00:00:00</td>\n",
       "      <td>0</td>\n",
       "      <td>SECURITY NATIONAL INSURANCE CO</td>\n",
       "      <td>PRIVATE</td>\n",
       "      <td>...</td>\n",
       "      <td>62.0</td>\n",
       "      <td>IV</td>\n",
       "      <td>29.0</td>\n",
       "      <td>90.0</td>\n",
       "      <td>90.0</td>\n",
       "      <td>11203</td>\n",
       "      <td>0.0</td>\n",
       "      <td>5.0</td>\n",
       "      <td>2021.0</td>\n",
       "      <td>PRIVATE-F</td>\n",
       "    </tr>\n",
       "    <tr>\n",
       "      <th>...</th>\n",
       "      <td>...</td>\n",
       "      <td>...</td>\n",
       "      <td>...</td>\n",
       "      <td>...</td>\n",
       "      <td>...</td>\n",
       "      <td>...</td>\n",
       "      <td>...</td>\n",
       "      <td>...</td>\n",
       "      <td>...</td>\n",
       "      <td>...</td>\n",
       "      <td>...</td>\n",
       "      <td>...</td>\n",
       "      <td>...</td>\n",
       "      <td>...</td>\n",
       "      <td>...</td>\n",
       "      <td>...</td>\n",
       "      <td>...</td>\n",
       "      <td>...</td>\n",
       "      <td>...</td>\n",
       "      <td>...</td>\n",
       "      <td>...</td>\n",
       "    </tr>\n",
       "    <tr>\n",
       "      <th>5655355</th>\n",
       "      <td>2021-01-27</td>\n",
       "      <td>66.0</td>\n",
       "      <td>2021-02-11</td>\n",
       "      <td>0.0</td>\n",
       "      <td>NaN</td>\n",
       "      <td>1955.0</td>\n",
       "      <td>2021-02-05 00:00:00</td>\n",
       "      <td>0</td>\n",
       "      <td>NEW HAMPSHIRE INSURANCE CO</td>\n",
       "      <td>PRIVATE</td>\n",
       "      <td>...</td>\n",
       "      <td>44.0</td>\n",
       "      <td>IV</td>\n",
       "      <td>83.0</td>\n",
       "      <td>83.0</td>\n",
       "      <td>60.0</td>\n",
       "      <td>11754</td>\n",
       "      <td>0.0</td>\n",
       "      <td>3.0</td>\n",
       "      <td>2021.0</td>\n",
       "      <td>PRIVATE-F</td>\n",
       "    </tr>\n",
       "    <tr>\n",
       "      <th>5940234</th>\n",
       "      <td>2022-02-24</td>\n",
       "      <td>35.0</td>\n",
       "      <td>2022-03-11</td>\n",
       "      <td>1.0</td>\n",
       "      <td>2016.34</td>\n",
       "      <td>1987.0</td>\n",
       "      <td>2022-03-23 00:00:00</td>\n",
       "      <td>2022-03-07 00:00:00</td>\n",
       "      <td>STATE INSURANCE FUND</td>\n",
       "      <td>SIF</td>\n",
       "      <td>...</td>\n",
       "      <td>92.0</td>\n",
       "      <td>I</td>\n",
       "      <td>74.0</td>\n",
       "      <td>10.0</td>\n",
       "      <td>101.0</td>\n",
       "      <td>12477</td>\n",
       "      <td>0.0</td>\n",
       "      <td>3.0</td>\n",
       "      <td>2022.0</td>\n",
       "      <td>SIF-M</td>\n",
       "    </tr>\n",
       "    <tr>\n",
       "      <th>6073417</th>\n",
       "      <td>2022-08-16</td>\n",
       "      <td>56.0</td>\n",
       "      <td>2022-08-30</td>\n",
       "      <td>1.0</td>\n",
       "      <td>2232.97</td>\n",
       "      <td>1966.0</td>\n",
       "      <td>2022-08-30 00:00:00</td>\n",
       "      <td>2022-11-28 00:00:00</td>\n",
       "      <td>INDEMNITY INSURANCE CO OF</td>\n",
       "      <td>PRIVATE</td>\n",
       "      <td>...</td>\n",
       "      <td>33.0</td>\n",
       "      <td>I</td>\n",
       "      <td>56.0</td>\n",
       "      <td>49.0</td>\n",
       "      <td>53.0</td>\n",
       "      <td>13027</td>\n",
       "      <td>0.0</td>\n",
       "      <td>0.0</td>\n",
       "      <td>2022.0</td>\n",
       "      <td>PRIVATE-M</td>\n",
       "    </tr>\n",
       "    <tr>\n",
       "      <th>5822576</th>\n",
       "      <td>2021-09-27</td>\n",
       "      <td>40.0</td>\n",
       "      <td>2021-09-29</td>\n",
       "      <td>0.0</td>\n",
       "      <td>NaN</td>\n",
       "      <td>1981.0</td>\n",
       "      <td>2021-09-29 00:00:00</td>\n",
       "      <td>0</td>\n",
       "      <td>STATE INSURANCE FUND</td>\n",
       "      <td>SIF</td>\n",
       "      <td>...</td>\n",
       "      <td>32.0</td>\n",
       "      <td>IV</td>\n",
       "      <td>70.0</td>\n",
       "      <td>49.0</td>\n",
       "      <td>55.0</td>\n",
       "      <td>11772</td>\n",
       "      <td>0.0</td>\n",
       "      <td>6.0</td>\n",
       "      <td>2021.0</td>\n",
       "      <td>SIF-M</td>\n",
       "    </tr>\n",
       "    <tr>\n",
       "      <th>5566085</th>\n",
       "      <td>2020-02-17</td>\n",
       "      <td>30.0</td>\n",
       "      <td>2020-09-25</td>\n",
       "      <td>0.0</td>\n",
       "      <td>NaN</td>\n",
       "      <td>1990.0</td>\n",
       "      <td>2020-09-24 00:00:00</td>\n",
       "      <td>0</td>\n",
       "      <td>EVEREST NATIONAL INS COMPANY</td>\n",
       "      <td>PRIVATE</td>\n",
       "      <td>...</td>\n",
       "      <td>23.0</td>\n",
       "      <td>IV</td>\n",
       "      <td>60.0</td>\n",
       "      <td>1.0</td>\n",
       "      <td>90.0</td>\n",
       "      <td>11213</td>\n",
       "      <td>0.0</td>\n",
       "      <td>2.0</td>\n",
       "      <td>2020.0</td>\n",
       "      <td>PRIVATE-U</td>\n",
       "    </tr>\n",
       "  </tbody>\n",
       "</table>\n",
       "<p>401156 rows × 26 columns</p>\n",
       "</div>"
      ],
      "text/plain": [
       "                 Accident Date  Age at Injury Assembly Date  \\\n",
       "Claim Identifier                                              \n",
       "5479022             2020-05-05           24.0    2020-05-08   \n",
       "6023025             2022-05-10           36.0    2022-06-25   \n",
       "5851908             2021-05-19           41.0    2021-11-08   \n",
       "5913931             2022-02-03           59.0    2022-02-04   \n",
       "5845976             2021-09-21           58.0    2021-10-29   \n",
       "...                        ...            ...           ...   \n",
       "5655355             2021-01-27           66.0    2021-02-11   \n",
       "5940234             2022-02-24           35.0    2022-03-11   \n",
       "6073417             2022-08-16           56.0    2022-08-30   \n",
       "5822576             2021-09-27           40.0    2021-09-29   \n",
       "5566085             2020-02-17           30.0    2020-09-25   \n",
       "\n",
       "                  Attorney/Representative  Average Weekly Wage  Birth Year  \\\n",
       "Claim Identifier                                                             \n",
       "5479022                               0.0                  NaN      1996.0   \n",
       "6023025                               1.0              1097.00      1986.0   \n",
       "5851908                               1.0               623.35      1980.0   \n",
       "5913931                               1.0              1042.13      1963.0   \n",
       "5845976                               0.0                  NaN      1963.0   \n",
       "...                                   ...                  ...         ...   \n",
       "5655355                               0.0                  NaN      1955.0   \n",
       "5940234                               1.0              2016.34      1987.0   \n",
       "6073417                               1.0              2232.97      1966.0   \n",
       "5822576                               0.0                  NaN      1981.0   \n",
       "5566085                               0.0                  NaN      1990.0   \n",
       "\n",
       "                             C-2 Date             C-3 Date  \\\n",
       "Claim Identifier                                             \n",
       "5479022           2020-05-08 00:00:00                    0   \n",
       "6023025           2022-07-14 00:00:00  2022-06-16 00:00:00   \n",
       "5851908           2021-11-08 00:00:00  2021-11-04 00:00:00   \n",
       "5913931           2022-02-04 00:00:00                    0   \n",
       "5845976           2021-10-29 00:00:00                    0   \n",
       "...                               ...                  ...   \n",
       "5655355           2021-02-05 00:00:00                    0   \n",
       "5940234           2022-03-23 00:00:00  2022-03-07 00:00:00   \n",
       "6073417           2022-08-30 00:00:00  2022-11-28 00:00:00   \n",
       "5822576           2021-09-29 00:00:00                    0   \n",
       "5566085           2020-09-24 00:00:00                    0   \n",
       "\n",
       "                                    Carrier Name Carrier Type  ...  \\\n",
       "Claim Identifier                                               ...   \n",
       "5479022                     STATE INSURANCE FUND          SIF  ...   \n",
       "6023025            SIRIUSPOINT AMERICA INSURANCE      PRIVATE  ...   \n",
       "5851908              INDEMNITY INS. OF N AMERICA      PRIVATE  ...   \n",
       "5913931              INDEMNITY INS. OF N AMERICA      PRIVATE  ...   \n",
       "5845976           SECURITY NATIONAL INSURANCE CO      PRIVATE  ...   \n",
       "...                                          ...          ...  ...   \n",
       "5655355               NEW HAMPSHIRE INSURANCE CO      PRIVATE  ...   \n",
       "5940234                     STATE INSURANCE FUND          SIF  ...   \n",
       "6073417                INDEMNITY INSURANCE CO OF      PRIVATE  ...   \n",
       "5822576                     STATE INSURANCE FUND          SIF  ...   \n",
       "5566085             EVEREST NATIONAL INS COMPANY      PRIVATE  ...   \n",
       "\n",
       "                 Industry Code  Medical Fee Region WCIO Cause of Injury Code  \\\n",
       "Claim Identifier                                                               \n",
       "5479022                   11.0                   I                      53.0   \n",
       "6023025                   31.0                  IV                      31.0   \n",
       "5851908                   33.0                   I                      56.0   \n",
       "5913931                   31.0                   I                      32.0   \n",
       "5845976                   62.0                  IV                      29.0   \n",
       "...                        ...                 ...                       ...   \n",
       "5655355                   44.0                  IV                      83.0   \n",
       "5940234                   92.0                   I                      74.0   \n",
       "6073417                   33.0                   I                      56.0   \n",
       "5822576                   32.0                  IV                      70.0   \n",
       "5566085                   23.0                  IV                      60.0   \n",
       "\n",
       "                 WCIO Nature of Injury Code WCIO Part Of Body Code  Zip Code  \\\n",
       "Claim Identifier                                                               \n",
       "5479022                                52.0                   55.0     13143   \n",
       "6023025                                10.0                   65.0     11368   \n",
       "5851908                                52.0                   38.0     14580   \n",
       "5913931                                49.0                   32.0     12065   \n",
       "5845976                                90.0                   90.0     11203   \n",
       "...                                     ...                    ...       ...   \n",
       "5655355                                83.0                   60.0     11754   \n",
       "5940234                                10.0                  101.0     12477   \n",
       "6073417                                49.0                   53.0     13027   \n",
       "5822576                                49.0                   55.0     11772   \n",
       "5566085                                 1.0                   90.0     11213   \n",
       "\n",
       "                  Agreement Reached Number of Dependents  Accident Year  \\\n",
       "Claim Identifier                                                          \n",
       "5479022                         0.0                  3.0         2020.0   \n",
       "6023025                         1.0                  2.0         2022.0   \n",
       "5851908                         0.0                  3.0         2021.0   \n",
       "5913931                         0.0                  1.0         2022.0   \n",
       "5845976                         0.0                  5.0         2021.0   \n",
       "...                             ...                  ...            ...   \n",
       "5655355                         0.0                  3.0         2021.0   \n",
       "5940234                         0.0                  3.0         2022.0   \n",
       "6073417                         0.0                  0.0         2022.0   \n",
       "5822576                         0.0                  6.0         2021.0   \n",
       "5566085                         0.0                  2.0         2020.0   \n",
       "\n",
       "                  Category Combination  \n",
       "Claim Identifier                        \n",
       "5479022                          SIF-M  \n",
       "6023025                      PRIVATE-M  \n",
       "5851908                      PRIVATE-F  \n",
       "5913931                      PRIVATE-M  \n",
       "5845976                      PRIVATE-F  \n",
       "...                                ...  \n",
       "5655355                      PRIVATE-F  \n",
       "5940234                          SIF-M  \n",
       "6073417                      PRIVATE-M  \n",
       "5822576                          SIF-M  \n",
       "5566085                      PRIVATE-U  \n",
       "\n",
       "[401156 rows x 26 columns]"
      ]
     },
     "metadata": {},
     "output_type": "display_data"
    }
   ],
   "source": [
    "X_train"
   ]
  },
  {
   "cell_type": "markdown",
   "metadata": {},
   "source": [
    "### 5.2.4. Handling Missing Values in `Industry Code` <a class=\"anchor\" id=\"sub_section_5_2_4\"></a>\n",
    "\n",
    "To address the missing values in the Industry Code feature, we utilize the KNN Imputation method. This method ensures that the imputed values are consistent with the dataset's underlying patterns by leveraging the relationships between features."
   ]
  },
  {
   "cell_type": "code",
   "execution_count": null,
   "metadata": {},
   "outputs": [],
   "source": [
    "# # Define the feature to impute and the predictors\n",
    "#feature_to_impute = 'Industry Code'\n",
    "#predictor_features = X_train.select_dtypes(include=['int64', 'float64']).columns.drop(['Agreement Reached', 'WCIO Cause of Injury Code', 'WCIO Nature of Injury Code', 'WCIO Part Of Body Code'])\n",
    "\n",
    "# drop all \"code\" variables (wcio, etc.) on the row above this one\n",
    "\n",
    "# Ensure 'Industry Code' is part of the predictors\n",
    "#if feature_to_impute not in predictor_features:\n",
    "    #predictor_features = predictor_features.append(pd.Index([feature_to_impute]))\n",
    "\n",
    "# # Scale numerical features for X_train\n",
    "#scaler = StandardScaler()\n",
    "#scaled_data_train = scaler.fit_transform(X_train[predictor_features])\n",
    "\n",
    "# # Apply KNN Imputation for all numerical features in X_train\n",
    "#knn_imputer = KNNImputer(n_neighbors=3)  # Adjust n_neighbors for speed/accuracy tradeoff\n",
    "#imputed_data_train = knn_imputer.fit_transform(scaled_data_train)\n",
    "\n",
    "# Reverse scaling for all numerical features\n",
    "#X_train[predictor_features] = scaler.inverse_transform(imputed_data_train)\n",
    "\n",
    "# Process X_val and df_test using the same scaler and KNN imputer\n",
    "#scaled_data_val = scaler.transform(X_val[predictor_features])\n",
    "#scaled_data_test = scaler.transform(df_test[predictor_features])\n",
    "\n",
    "# Apply KNN Imputation for 'Industry Code' in X_val and df_test\n",
    "#imputed_data_val = knn_imputer.transform(scaled_data_val)\n",
    "#imputed_data_test = knn_imputer.transform(scaled_data_test)\n",
    "\n",
    "# # Reverse scaling for all numerical features in X_val and df_test\n",
    "#X_val[predictor_features] = scaler.inverse_transform(imputed_data_val)\n",
    "#df_test[predictor_features] = scaler.inverse_transform(imputed_data_test)\n",
    "\n",
    "# Verify that missing values in 'Industry Code' have been imputed\n",
    "#print(\"Missing values in 'Industry Code' after imputation (X_train):\", X_train[feature_to_impute].isna().sum())\n",
    "#print(\"Missing values in 'Industry Code' after imputation (X_val):\", X_val[feature_to_impute].isna().sum())\n",
    "#print(\"Missing values in 'Industry Code' after imputation (df_test):\", df_test[feature_to_impute].isna().sum())"
   ]
  },
  {
   "cell_type": "markdown",
   "metadata": {},
   "source": [
    "Since the KNN Imputation process takes approximately 18 hours (~1050 minutes), we will save the X_train, X_val, and df_test datasets in a dedicated folder named \"Data After Impute\". This allows us to reuse the imputed datasets in the future without re-running the imputation process."
   ]
  },
  {
   "cell_type": "code",
   "execution_count": null,
   "metadata": {},
   "outputs": [
    {
     "name": "stdout",
     "output_type": "stream",
     "text": [
      "Datasets saved successfully in the folder: ../Data After Impute\n"
     ]
    }
   ],
   "source": [
    "# # Create the directory if it doesn't already exist\n",
    "os.makedirs(\"../Data After Impute\", exist_ok=True)\n",
    "\n",
    "# # Save the datasets as CSV files\n",
    "X_train.to_csv(os.path.join(\"../Data After Impute\", \"X_train_imputed.csv\"), index=True)\n",
    "X_val.to_csv(os.path.join(\"../Data After Impute\", \"X_val_imputed.csv\"), index=True)\n",
    "df_test.to_csv(os.path.join(\"../Data After Impute\", \"df_test_imputed.csv\"), index=True)\n",
    "\n",
    "print(f\"Datasets saved successfully in the folder: {'../Data After Impute'}\")"
   ]
  },
  {
   "cell_type": "markdown",
   "metadata": {},
   "source": [
    "Now we will import the imputed dataset."
   ]
  },
  {
   "cell_type": "code",
   "execution_count": null,
   "metadata": {},
   "outputs": [
    {
     "name": "stdout",
     "output_type": "stream",
     "text": [
      "Datasets loaded successfully!\n",
      "X_train_final shape: (401156, 27)\n",
      "X_val_final shape: (172208, 27)\n",
      "X_test_final shape: (387975, 25)\n"
     ]
    }
   ],
   "source": [
    "# Define the folder and file paths\n",
    "input_folder = \"../Data After Impute\"\n",
    "X_train_path = f\"{input_folder}/X_train_imputed.csv\"\n",
    "X_val_path = f\"{input_folder}/X_val_imputed.csv\"\n",
    "df_test_path = f\"{input_folder}/df_test_imputed.csv\"\n",
    "\n",
    "# Load the datasets\n",
    "X_train = pd.read_csv(X_train_path)\n",
    "X_val = pd.read_csv(X_val_path)\n",
    "df_test = pd.read_csv(df_test_path)\n",
    "\n",
    "# Verify the loaded datasets\n",
    "print(\"Datasets loaded successfully!\")\n",
    "print(\"X_train_final shape:\", X_train.shape)\n",
    "print(\"X_val_final shape:\", X_val.shape)\n",
    "print(\"X_test_final shape:\", df_test.shape)"
   ]
  },
  {
   "cell_type": "code",
   "execution_count": null,
   "metadata": {},
   "outputs": [
    {
     "data": {
      "text/plain": [
       "WCIO Cause of Injury Code\n",
       "56.0    32701\n",
       "74.0    25993\n",
       "60.0    23269\n",
       "31.0    22242\n",
       "29.0    20446\n",
       "        ...  \n",
       "91.0       36\n",
       "40.0       33\n",
       "14.0       33\n",
       "8.0        27\n",
       "47.0        9\n",
       "Name: count, Length: 77, dtype: int64"
      ]
     },
     "metadata": {},
     "output_type": "display_data"
    }
   ],
   "source": [
    "X_train['WCIO Cause of Injury Code'].value_counts()"
   ]
  },
  {
   "cell_type": "markdown",
   "metadata": {},
   "source": [
    "### 5.2.5. Handling Missing Values in `Average Weekly Wage` <a class=\"anchor\" id=\"sub_section_5_2_5\"></a>\n",
    "\n",
    "For now, we will impute the missing values in the `Average Weekly Wage` feature based on the mean values grouped by `Industry Code`. This allows us to approximate the missing values by considering the industry context of each entry."
   ]
  },
  {
   "cell_type": "code",
   "execution_count": null,
   "metadata": {},
   "outputs": [
    {
     "data": {
      "text/plain": [
       "Average Weekly Wage\n",
       "250.00     2220\n",
       "600.00     1590\n",
       "1765.00     882\n",
       "500.00      880\n",
       "1000.00     759\n",
       "           ... \n",
       "1617.93       1\n",
       "463.72        1\n",
       "1253.26       1\n",
       "2075.48       1\n",
       "2232.97       1\n",
       "Name: count, Length: 93453, dtype: int64"
      ]
     },
     "metadata": {},
     "output_type": "display_data"
    }
   ],
   "source": [
    "X_train['Average Weekly Wage'].value_counts()"
   ]
  },
  {
   "cell_type": "code",
   "execution_count": null,
   "metadata": {},
   "outputs": [],
   "source": [
    "# Calculate the mean of 'Average Weekly Wage' for each 'Industry Code' in the training dataset\n",
    "industry_means_train = X_train.groupby('Industry Code')['Average Weekly Wage'].mean()\n",
    "\n",
    "def impute_average_weekly_wage(row):\n",
    "    if pd.isna(row['Average Weekly Wage']):\n",
    "        return industry_means_train.get(row['Industry Code'], row['Average Weekly Wage'])\n",
    "    return row['Average Weekly Wage']\n",
    "\n",
    "# Apply the function to fill missing values in 'Average Weekly Wage' for X_train, X_val, and df_test\n",
    "X_train['Average Weekly Wage'] = X_train.apply(lambda row: impute_average_weekly_wage(row) if pd.isna(row['Average Weekly Wage']) else row['Average Weekly Wage'], axis=1)\n",
    "X_val['Average Weekly Wage'] = X_val.apply(lambda row: impute_average_weekly_wage(row) if pd.isna(row['Average Weekly Wage']) else row['Average Weekly Wage'], axis=1)  \n",
    "df_test['Average Weekly Wage'] = df_test.apply(lambda row: impute_average_weekly_wage(row) if pd.isna(row['Average Weekly Wage']) else row['Average Weekly Wage'], axis=1)"
   ]
  },
  {
   "cell_type": "markdown",
   "metadata": {},
   "source": [
    "We are rounding the **`Average Weekly Wage`** to the nearest unit to align with real-world conventions, improve data interpretability, and reduce unnecessary granularity introduced during preprocessing."
   ]
  },
  {
   "cell_type": "code",
   "execution_count": null,
   "metadata": {},
   "outputs": [
    {
     "name": "stdout",
     "output_type": "stream",
     "text": [
      "Rounded 'Average Weekly Wage' in X_train:\n",
      "Average Weekly Wage\n",
      "1225.0    51694\n",
      "1683.0    34124\n",
      "1062.0    23282\n",
      "838.0     22632\n",
      "762.0     13383\n",
      "          ...  \n",
      "4702.0        1\n",
      "7844.0        1\n",
      "4121.0        1\n",
      "3413.0        1\n",
      "3726.0        1\n",
      "Name: count, Length: 4553, dtype: int64\n"
     ]
    }
   ],
   "source": [
    "# Round 'Average Weekly Wage' to the nearest unit\n",
    "X_train['Average Weekly Wage'] = X_train['Average Weekly Wage'].round()\n",
    "X_val['Average Weekly Wage'] = X_val['Average Weekly Wage'].round()\n",
    "df_test['Average Weekly Wage'] = df_test['Average Weekly Wage'].round()\n",
    "\n",
    "# Verify the changes\n",
    "print(\"Rounded 'Average Weekly Wage' in X_train:\")\n",
    "print(X_train['Average Weekly Wage'].value_counts())"
   ]
  },
  {
   "cell_type": "code",
   "execution_count": null,
   "metadata": {},
   "outputs": [
    {
     "data": {
      "text/plain": [
       "6195"
      ]
     },
     "metadata": {},
     "output_type": "display_data"
    }
   ],
   "source": [
    "X_train['Average Weekly Wage'].isnull().sum()"
   ]
  },
  {
   "cell_type": "code",
   "execution_count": null,
   "metadata": {},
   "outputs": [
    {
     "data": {
      "text/plain": [
       "2921"
      ]
     },
     "metadata": {},
     "output_type": "display_data"
    }
   ],
   "source": [
    "X_val['Average Weekly Wage'].isnull().sum()"
   ]
  },
  {
   "cell_type": "code",
   "execution_count": null,
   "metadata": {},
   "outputs": [
    {
     "data": {
      "text/plain": [
       "7658"
      ]
     },
     "metadata": {},
     "output_type": "display_data"
    }
   ],
   "source": [
    "df_test['Average Weekly Wage'].isnull().sum()"
   ]
  },
  {
   "cell_type": "markdown",
   "metadata": {},
   "source": [
    "### 5.2.6. Handling Missing Values in `Zip Code` <a class=\"anchor\" id=\"sub_section_5_2_6\"></a>\n",
    "\n",
    "To impute missing values in the `Zip Code` feature, we use the mode of `Zip Code` based on the combination of `County of Injury` and `District Name`. This approach ensures that missing values are filled with the most frequent `Zip Code` for each unique combination of county and district, providing a region-specific approximation.\n"
   ]
  },
  {
   "cell_type": "code",
   "execution_count": null,
   "metadata": {},
   "outputs": [],
   "source": [
    "# Calculate the mode of 'Zip Code' for each ('County of Injury', 'District Name') pair in the training dataset\n",
    "zip_code_mode_train = X_train.groupby(['County of Injury', 'District Name'])['Zip Code'].agg(lambda x: x.mode()[0] if not x.mode().empty else None)\n",
    "\n",
    "# Define a function to impute 'Zip Code' based on 'County of Injury' and 'District Name' using training mode\n",
    "def impute_zip_code(row):\n",
    "    if pd.isna(row['Zip Code']):\n",
    "        # Get the mode of the zip code for the given county and district from training set\n",
    "        return zip_code_mode_train.get((row['County of Injury'], row['District Name']), row['Zip Code'])\n",
    "    return row['Zip Code']\n",
    "\n",
    "\n",
    "# Apply the imputation function only for missing values in 'Zip Code' for X_train, X_val, and df_test\n",
    "X_train['Zip Code'] = X_train.apply(lambda row: impute_zip_code(row) if pd.isna(row['Zip Code']) else row['Zip Code'], axis=1)\n",
    "X_val['Zip Code'] = X_val.apply(lambda row: impute_zip_code(row) if pd.isna(row['Zip Code']) else row['Zip Code'], axis=1)\n",
    "df_test['Zip Code'] = df_test.apply(lambda row: impute_zip_code(row) if pd.isna(row['Zip Code']) else row['Zip Code'], axis=1)"
   ]
  },
  {
   "cell_type": "markdown",
   "metadata": {},
   "source": [
    "### 5.2.7. Handling Missing Values in `Birth Year` <a class=\"anchor\" id=\"sub_section_5_2_7\"></a>\n",
    "\n",
    "To impute missing values in the `Birth Year` feature, we use the `Accident Date` and `Age at Injury`. If both `Accident Date` and `Age at Injury` are available, we can calculate the `Birth Year` by subtracting `Age at Injury` from the year of `Accident Date`."
   ]
  },
  {
   "cell_type": "code",
   "execution_count": null,
   "metadata": {},
   "outputs": [],
   "source": [
    "# Ensure 'Assembly Date' is in datetime format for all datasets\n",
    "X_train['Accident Date'] = pd.to_datetime(X_train['Accident Date'], errors='coerce')\n",
    "X_val['Accident Date'] = pd.to_datetime(X_val['Accident Date'], errors='coerce')\n",
    "df_test['Accident Date'] = pd.to_datetime(df_test['Accident Date'], errors='coerce')\n",
    "\n",
    "# Define a function to impute 'Birth Year' based on 'Assembly Date' and 'Age at Injury'\n",
    "def impute_birth_year(row):\n",
    "    if pd.isna(row['Birth Year']):\n",
    "        if pd.notna(row['Accident Date']) and pd.notna(row['Age at Injury']):\n",
    "            # Calculate birth year by subtracting age at injury from assembly year\n",
    "            assembly_year = row['Accident Date'].year\n",
    "            return float(assembly_year - row['Age at Injury'])\n",
    "    return row['Birth Year']\n",
    "\n",
    "# Apply the imputation function only for missing values in 'Birth Year' for X_train, X_val, and df_test\n",
    "X_train['Birth Year'] = X_train.apply(lambda row: impute_birth_year(row) if pd.isna(row['Birth Year']) else row['Birth Year'], axis=1)\n",
    "X_val['Birth Year'] = X_val.apply(lambda row: impute_birth_year(row) if pd.isna(row['Birth Year']) else row['Birth Year'], axis=1)\n",
    "df_test['Birth Year'] = df_test.apply(lambda row: impute_birth_year(row) if pd.isna(row['Birth Year']) else row['Birth Year'], axis=1)"
   ]
  },
  {
   "cell_type": "markdown",
   "metadata": {},
   "source": [
    "> Age at Injury"
   ]
  },
  {
   "cell_type": "markdown",
   "metadata": {},
   "source": [
    "The column `Age at Injury` contains missing values which represent key data about the age of the person at the time of the injury. We observe that by retaining this feature and carefully imputing its missing values, we ensure that we preserve potentially valuable information for the predictive model.\n"
   ]
  },
  {
   "cell_type": "code",
   "execution_count": null,
   "metadata": {},
   "outputs": [],
   "source": [
    "# # Drop 'Birth Year' from X_train, X_val, and df_test\n",
    "# X_train = X_train.drop(columns=['Birth Year'])\n",
    "# X_val = X_val.drop(columns=['Birth Year'])\n",
    "# df_test = df_test.drop(columns=['Birth Year'])"
   ]
  },
  {
   "cell_type": "markdown",
   "metadata": {},
   "source": [
    "### 5.2.8. Handling Missing Values in Injury Codes <a class=\"anchor\" id=\"sub_section_5_2_8\"></a>\n",
    "\n",
    "According to the data dictionary from data.ny.gov, when the fields WCIO Cause of Injury Code, WCIO Nature of Injury Code, and WCIO Part of the Body Code are NaN, it indicates that the field is not applicable to the claim.\n",
    "\n",
    "Based on this information, we will replace the NaN values in these fields with 0 to indicate \"not applicable\" instead of leaving them as missing values."
   ]
  },
  {
   "cell_type": "code",
   "execution_count": null,
   "metadata": {},
   "outputs": [],
   "source": [
    "# Replace NaN values in specified columns with 0 to indicate \"No form received\"\n",
    "columns_to_update = ['WCIO Cause of Injury Code', 'WCIO Nature of Injury Code', 'WCIO Part Of Body Code']\n",
    "X_train[columns_to_update] = X_train[columns_to_update].fillna(0)\n",
    "X_val[columns_to_update] = X_val[columns_to_update].fillna(0)\n",
    "df_test[columns_to_update] = df_test[columns_to_update].fillna(0)"
   ]
  },
  {
   "cell_type": "markdown",
   "metadata": {},
   "source": [
    "### 5.2.9. Remaining Missing Values <a class=\"anchor\" id=\"sub_section_5_2_9\"></a>"
   ]
  },
  {
   "cell_type": "markdown",
   "metadata": {},
   "source": [
    "After addressing the missing values, we check the percentage of missing values in `X_train`. This will guide us on further preprocessing steps to handle any remaining missing data.\n"
   ]
  },
  {
   "cell_type": "code",
   "execution_count": null,
   "metadata": {},
   "outputs": [
    {
     "data": {
      "text/plain": [
       "Claim Identifier               0.000000\n",
       "Accident Date                  0.479863\n",
       "Age at Injury                 10.025526\n",
       "Assembly Date                  0.254764\n",
       "Attorney/Representative        0.000000\n",
       "Average Weekly Wage            1.544287\n",
       "Birth Year                     9.553889\n",
       "C-2 Date                       0.000000\n",
       "C-3 Date                       0.000000\n",
       "Carrier Name                   0.000000\n",
       "Carrier Type                   0.000000\n",
       "County of Injury               0.000000\n",
       "COVID-19 Indicator             0.000000\n",
       "District Name                  0.000000\n",
       "First Hearing Date             0.000000\n",
       "Gender                         0.000000\n",
       "IME-4 Count                    0.000000\n",
       "Industry Code                  1.591401\n",
       "Medical Fee Region             0.000000\n",
       "WCIO Cause of Injury Code      0.000000\n",
       "WCIO Nature of Injury Code     0.000000\n",
       "WCIO Part Of Body Code         0.000000\n",
       "Zip Code                       0.000748\n",
       "Agreement Reached              0.000000\n",
       "Number of Dependents           0.000000\n",
       "Accident Year                  0.479863\n",
       "Category Combination           0.000000\n",
       "dtype: float64"
      ]
     },
     "metadata": {},
     "output_type": "display_data"
    }
   ],
   "source": [
    "# Calculate the percentage of missing values in df_test\n",
    "missing_percentage = X_train.isnull().mean() * 100\n",
    "missing_percentage"
   ]
  },
  {
   "cell_type": "code",
   "execution_count": null,
   "metadata": {},
   "outputs": [],
   "source": [
    "#Delete Accident Year\n",
    "X_train.drop(['Accident Year'], axis=1, inplace=True)\n",
    "X_val.drop(['Accident Year'], axis=1, inplace=True)\n",
    "df_test.drop(['Accident Year'], axis=1, inplace=True)"
   ]
  },
  {
   "cell_type": "markdown",
   "metadata": {},
   "source": [
    "**1. Exclude `First Hearing Date`**:  \n",
    "We check the percentage of rows with missing values after excluding `First Hearing Date`, which has a high percentage of missing entries.\n"
   ]
  },
  {
   "cell_type": "code",
   "execution_count": null,
   "metadata": {},
   "outputs": [
    {
     "name": "stdout",
     "output_type": "stream",
     "text": [
      "Percentage of rows with missing values (excluding 'First Hearing Date'): 11.56%\n"
     ]
    }
   ],
   "source": [
    "# Check percentage of rows with missing values, excluding 'First Hearing Date'\n",
    "missing_values = X_train[X_train.columns.difference(['First Hearing Date'])].isna().any(axis=1)\n",
    "percentage_missing = (missing_values.sum() / len(X_train)) * 100\n",
    "print(f\"Percentage of rows with missing values (excluding 'First Hearing Date'): {percentage_missing:.2f}%\")"
   ]
  },
  {
   "cell_type": "markdown",
   "metadata": {},
   "source": [
    "**2. Exclude `Age at Injury`**:  \n",
    "Additionally, we explore the impact of excluding both `First Hearing Date` and `Age at Injury` to see how much of the data remains usable."
   ]
  },
  {
   "cell_type": "code",
   "execution_count": null,
   "metadata": {},
   "outputs": [
    {
     "name": "stdout",
     "output_type": "stream",
     "text": [
      "Percentage of rows with missing values (excluding 'First Hearing Date' and 'Age at Injury'): 2.31%\n"
     ]
    }
   ],
   "source": [
    "# Check percentage of rows with missing values, excluding both 'First Hearing Date' and 'Age at Injury'\n",
    "missing_values = X_train[X_train.columns.difference(['First Hearing Date', 'Age at Injury','Birth Year'])].isna().any(axis=1)\n",
    "percentage_missing = (missing_values.sum() / len(X_train)) * 100\n",
    "print(f\"Percentage of rows with missing values (excluding 'First Hearing Date' and 'Age at Injury'): {percentage_missing:.2f}%\")"
   ]
  },
  {
   "cell_type": "markdown",
   "metadata": {},
   "source": [
    "Since only 0.74% of the values are missing, we decided to use KNNImputer to fill in these missing values. It’s important to note that we are not including 'First Hearing Date' in this imputation, as missing values in this column have a specific meaning. We plan to create a new feature based on the presence or absence of 'First Hearing Date' as part of the feature engineering process, after which the original column will be dropped."
   ]
  },
  {
   "cell_type": "code",
   "execution_count": null,
   "metadata": {},
   "outputs": [
    {
     "name": "stdout",
     "output_type": "stream",
     "text": [
      "Missing values imputed successfully:\n",
      "- Categorical features replaced with mode.\n",
      "- Date features corrected for logical constraints (e.g., Accident Date before Assembly Date).\n"
     ]
    }
   ],
   "source": [
    "# Create copies of the datasets to avoid modifying the original\n",
    "X_train_copy = X_train.copy()\n",
    "X_val_copy = X_val.copy()\n",
    "df_test_copy = df_test.copy()\n",
    "\n",
    "# Drop the column 'Agreement Reached' if it's not in the test set\n",
    "columns_to_drop_1 = ['Agreement Reached']\n",
    "X_train_copy.drop(columns=columns_to_drop_1, errors='ignore', inplace=True)\n",
    "X_val_copy.drop(columns=columns_to_drop_1, errors='ignore', inplace=True)\n",
    "df_test_copy.drop(columns=columns_to_drop_1, errors='ignore', inplace=True)\n",
    "\n",
    "# Define lists for categorical/code features and numeric features\n",
    "categorical_features = ['Zip Code']\n",
    "\n",
    "# Mode imputation for categorical/code features (using mode of X_train)\n",
    "for col in categorical_features:\n",
    "    if col in X_train_copy.columns:\n",
    "        mode_value = X_train_copy[col].mode()[0]  # Calculate mode from the training set\n",
    "\n",
    "        # Apply mode imputation to X_train, X_val, and df_test\n",
    "        X_train_copy[col].fillna(mode_value, inplace=True)\n",
    "        X_val_copy[col].fillna(mode_value, inplace=True)\n",
    "        if col in df_test_copy.columns:\n",
    "            df_test_copy[col].fillna(mode_value, inplace=True)\n",
    "\n",
    "# Convert date features to datetime before imputation\n",
    "date_columns = ['Accident Date', 'Assembly Date']\n",
    "for col in date_columns:\n",
    "    X_train_copy[col] = pd.to_datetime(X_train_copy[col], errors='coerce')\n",
    "    X_val_copy[col] = pd.to_datetime(X_val_copy[col], errors='coerce')\n",
    "    df_test_copy[col] = pd.to_datetime(df_test_copy[col], errors='coerce')\n",
    "\n",
    "# Impute missing 'Accident Date' with the mean (ignoring NaT values)\n",
    "accident_date_mean = X_train_copy['Accident Date'].dropna().mean()\n",
    "X_train_copy['Accident Date'].fillna(accident_date_mean, inplace=True)\n",
    "X_val_copy['Accident Date'].fillna(accident_date_mean, inplace=True)\n",
    "df_test_copy['Accident Date'].fillna(accident_date_mean, inplace=True)\n",
    "\n",
    "# Impute missing 'Assembly Date' with the mean (ignoring NaT values)\n",
    "assembly_date_mean = X_train_copy['Assembly Date'].dropna().mean()\n",
    "X_train_copy['Assembly Date'].fillna(assembly_date_mean, inplace=True)\n",
    "X_val_copy['Assembly Date'].fillna(assembly_date_mean, inplace=True)\n",
    "df_test_copy['Assembly Date'].fillna(assembly_date_mean, inplace=True)\n",
    "\n",
    "# Ensure 'Accident Date' is always before 'Assembly Date'\n",
    "def correct_dates(row):\n",
    "    accident_date = row['Accident Date']\n",
    "    assembly_date = row['Assembly Date']\n",
    "\n",
    "    if pd.notna(accident_date) and pd.notna(assembly_date) and accident_date >= assembly_date:\n",
    "        # Adjust 'Assembly Date' to be 30 days after 'Accident Date'\n",
    "        assembly_date = accident_date + pd.Timedelta(days=30)\n",
    "    return accident_date, assembly_date\n",
    "\n",
    "# Apply date correction to X_train, X_val, and df_test\n",
    "X_train_copy[['Accident Date', 'Assembly Date']] = X_train_copy.apply(\n",
    "    lambda row: pd.Series(correct_dates(row)), axis=1\n",
    ")\n",
    "X_val_copy[['Accident Date', 'Assembly Date']] = X_val_copy.apply(\n",
    "    lambda row: pd.Series(correct_dates(row)), axis=1\n",
    ")\n",
    "df_test_copy[['Accident Date', 'Assembly Date']] = df_test_copy.apply(\n",
    "    lambda row: pd.Series(correct_dates(row)), axis=1\n",
    ")\n",
    "\n",
    "# Final dataframes after imputations and corrections\n",
    "X_train_processed = X_train_copy\n",
    "X_val_processed = X_val_copy\n",
    "df_test_processed = df_test_copy\n",
    "\n",
    "# Print confirmation\n",
    "print(\"Missing values imputed successfully:\")\n",
    "print(\"- Categorical features replaced with mode.\")\n",
    "print(\"- Date features corrected for logical constraints (e.g., Accident Date before Assembly Date).\")"
   ]
  },
  {
   "cell_type": "code",
   "execution_count": null,
   "metadata": {},
   "outputs": [
    {
     "data": {
      "text/plain": [
       "Claim Identifier               0.000000\n",
       "Accident Date                  0.000000\n",
       "Age at Injury                 10.025526\n",
       "Assembly Date                  0.000000\n",
       "Attorney/Representative        0.000000\n",
       "Average Weekly Wage            1.544287\n",
       "Birth Year                     9.553889\n",
       "C-2 Date                       0.000000\n",
       "C-3 Date                       0.000000\n",
       "Carrier Name                   0.000000\n",
       "Carrier Type                   0.000000\n",
       "County of Injury               0.000000\n",
       "COVID-19 Indicator             0.000000\n",
       "District Name                  0.000000\n",
       "First Hearing Date             0.000000\n",
       "Gender                         0.000000\n",
       "IME-4 Count                    0.000000\n",
       "Industry Code                  1.591401\n",
       "Medical Fee Region             0.000000\n",
       "WCIO Cause of Injury Code      0.000000\n",
       "WCIO Nature of Injury Code     0.000000\n",
       "WCIO Part Of Body Code         0.000000\n",
       "Zip Code                       0.000000\n",
       "Number of Dependents           0.000000\n",
       "Category Combination           0.000000\n",
       "dtype: float64"
      ]
     },
     "metadata": {},
     "output_type": "display_data"
    }
   ],
   "source": [
    "X_train_processed.isnull().mean() * 100"
   ]
  },
  {
   "cell_type": "markdown",
   "metadata": {},
   "source": [
    "Now have both Birth Year and Accident Date without missing values, recalculating Age at Injury based on these fields ensures consistency in your dataset"
   ]
  },
  {
   "cell_type": "code",
   "execution_count": null,
   "metadata": {},
   "outputs": [],
   "source": [
    "# Recalculate Age at Injury based on Birth Year and Accident Date\n",
    "X_train_processed['Age at Injury'] = X_train_processed['Accident Date'].dt.year - X_train_processed['Birth Year']\n",
    "X_val_processed['Age at Injury'] = X_val_processed['Accident Date'].dt.year - X_val_processed['Birth Year']\n",
    "df_test_processed['Age at Injury'] = df_test_processed['Accident Date'].dt.year - df_test_processed['Birth Year']"
   ]
  },
  {
   "cell_type": "code",
   "execution_count": null,
   "metadata": {},
   "outputs": [
    {
     "data": {
      "text/plain": [
       "Claim Identifier              0.000000\n",
       "Accident Date                 0.000000\n",
       "Age at Injury                 9.553889\n",
       "Assembly Date                 0.000000\n",
       "Attorney/Representative       0.000000\n",
       "Average Weekly Wage           1.544287\n",
       "Birth Year                    9.553889\n",
       "C-2 Date                      0.000000\n",
       "C-3 Date                      0.000000\n",
       "Carrier Name                  0.000000\n",
       "Carrier Type                  0.000000\n",
       "County of Injury              0.000000\n",
       "COVID-19 Indicator            0.000000\n",
       "District Name                 0.000000\n",
       "First Hearing Date            0.000000\n",
       "Gender                        0.000000\n",
       "IME-4 Count                   0.000000\n",
       "Industry Code                 1.591401\n",
       "Medical Fee Region            0.000000\n",
       "WCIO Cause of Injury Code     0.000000\n",
       "WCIO Nature of Injury Code    0.000000\n",
       "WCIO Part Of Body Code        0.000000\n",
       "Zip Code                      0.000000\n",
       "Number of Dependents          0.000000\n",
       "Category Combination          0.000000\n",
       "dtype: float64"
      ]
     },
     "metadata": {},
     "output_type": "display_data"
    }
   ],
   "source": [
    "X_train_processed.isnull().mean() * 100"
   ]
  },
  {
   "cell_type": "code",
   "execution_count": null,
   "metadata": {},
   "outputs": [
    {
     "data": {
      "text/plain": [
       "Claim Identifier              0.000000\n",
       "Accident Date                 0.000000\n",
       "Age at Injury                 9.605826\n",
       "Assembly Date                 0.000000\n",
       "Attorney/Representative       0.000000\n",
       "Average Weekly Wage           1.696205\n",
       "Birth Year                    9.605826\n",
       "C-2 Date                      0.000000\n",
       "C-3 Date                      0.000000\n",
       "Carrier Name                  0.000000\n",
       "Carrier Type                  0.000000\n",
       "County of Injury              0.000000\n",
       "COVID-19 Indicator            0.000000\n",
       "District Name                 0.000000\n",
       "First Hearing Date            0.000000\n",
       "Gender                        0.000000\n",
       "IME-4 Count                   0.000000\n",
       "Industry Code                 1.735692\n",
       "Medical Fee Region            0.000000\n",
       "WCIO Cause of Injury Code     0.000000\n",
       "WCIO Nature of Injury Code    0.000000\n",
       "WCIO Part Of Body Code        0.000000\n",
       "Zip Code                      0.000000\n",
       "Number of Dependents          0.000000\n",
       "Category Combination          0.000000\n",
       "dtype: float64"
      ]
     },
     "metadata": {},
     "output_type": "display_data"
    }
   ],
   "source": [
    "X_val_processed.isnull().mean() * 100"
   ]
  },
  {
   "cell_type": "code",
   "execution_count": null,
   "metadata": {},
   "outputs": [
    {
     "data": {
      "text/plain": [
       "Claim Identifier               0.000000\n",
       "Accident Date                  0.000000\n",
       "Age at Injury                 10.322830\n",
       "Assembly Date                  0.000000\n",
       "Attorney/Representative        0.000000\n",
       "Average Weekly Wage            1.973839\n",
       "Birth Year                    10.322830\n",
       "C-2 Date                       0.000000\n",
       "C-3 Date                       0.000000\n",
       "Carrier Name                   0.000000\n",
       "Carrier Type                   0.000000\n",
       "County of Injury               0.000000\n",
       "COVID-19 Indicator             0.000000\n",
       "District Name                  0.000000\n",
       "First Hearing Date             0.000000\n",
       "Gender                         0.000000\n",
       "IME-4 Count                    0.000000\n",
       "Industry Code                  1.993943\n",
       "Medical Fee Region             0.000000\n",
       "WCIO Cause of Injury Code      0.000000\n",
       "WCIO Nature of Injury Code     0.000000\n",
       "WCIO Part Of Body Code         0.000000\n",
       "Zip Code                       0.000000\n",
       "Number of Dependents           0.000000\n",
       "dtype: float64"
      ]
     },
     "metadata": {},
     "output_type": "display_data"
    }
   ],
   "source": [
    "df_test_processed.isnull().mean() * 100"
   ]
  }
 ],
 "metadata": {
  "kernelspec": {
   "display_name": "Python 3",
   "language": "python",
   "name": "python3"
  },
  "language_info": {
   "codemirror_mode": {
    "name": "ipython",
    "version": 3
   },
   "file_extension": ".py",
   "mimetype": "text/x-python",
   "name": "python",
   "nbconvert_exporter": "python",
   "pygments_lexer": "ipython3",
   "version": "3.11.3"
  }
 },
 "nbformat": 4,
 "nbformat_minor": 2
}
