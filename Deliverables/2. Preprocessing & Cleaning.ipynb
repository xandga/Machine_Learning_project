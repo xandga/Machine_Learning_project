{
 "cells": [
  {
   "cell_type": "markdown",
   "metadata": {},
   "source": [
    "# **<h3 align=\"center\">Machine Learning - Project</h3>**\n",
    "## **<h3 align=\"center\">2. Preprocessing & Cleaning</h3>**\n",
    "### **<h3 align=\"center\">Group 30 - Project</h3>**\n",
    "\n",
    "\n",
    "### Group Members\n",
    "| Name              | Email                        | Student ID |\n",
    "|-------------------|------------------------------|------------|\n",
    "| Alexandra Pinto   | 20211599@novaims.unl.pt      | 20211599   |\n",
    "| Gonçalo Peres     | 20211625@novaims.unl.pt      | 20211625   |\n",
    "| Leonor Mira       | 20240658@novaims.unl.pt      | 20240658   |\n",
    "| Miguel Natário    | 20240498@novaims.unl.pt      | 20240498   |\n",
    "| Nuno Bernardino   | 20211546@novaims.unl.pt      | 20211546   |"
   ]
  },
  {
   "cell_type": "markdown",
   "metadata": {},
   "source": [
    "---\n",
    "\n",
    "### **2. Preprocessing & Cleaning Notebook**\n",
    "**Description:**\n",
    "This notebook processes the dataset from the Imports & Data Exploration notebook, addressing inconsistencies, handling missing values, and preparing the dataset for feature engineering. Key steps include:\n",
    "- **Data Splitting:** Divide the dataset into training, validation, and test sets.\n",
    "- **Outlier Removal:** Identify and handle extreme values systematically to improve data consistency.\n",
    "- **Handling Missing Values:** Impute missing values based on conditional means, modes, or specific handling strategies for different features.\n",
    "- **Output:** Save the **preprocessed dataset** in a structured format (CSV) for feature engineering.\n",
    "\n",
    "This notebook ensures that the data is clean, consistent, and ready for further feature engineering.\n",
    "\n",
    "---"
   ]
  },
  {
   "cell_type": "markdown",
   "metadata": {},
   "source": [
    "<a id = \"toc\"></a>\n",
    "\n",
    "## Table of Contents\n",
    "* [1. Import the Libraries](#chapter1)\n",
    "* [2. Import the Datasets](#chapter2)       \n",
    "* [3. Train Test Split](#chapter3)\n",
    "* [4. Preprocessing the Data](#chapter4)\n",
    "    * [4.1. Outliers](#section_4_1) \n",
    "    * [4.2. Missing Values](#section_4_2) \n",
    "        * [4.2.1. Handling High Zero Columns](#sub_section_4_2_1)\n",
    "        * [4.2.2. Handling Missing Values in IME-4 Count](#sub_section_4_2_2)\n",
    "        * [4.2.3. Handling Missing Values in C-3 Date, C-2 Date, and First Hearing Date](#sub_section_4_2_3)\n",
    "        * [4.2.4. Handling Missing Values in Industry Code](#sub_section_4_2_4) \n",
    "        * [4.2.5. Handling Missing Values in Average Weekly Wage](#sub_section_4_2_5)\n",
    "        * [4.2.6. Handling Missing Values in Zip Code](#sub_section_4_2_6)\n",
    "        * [4.2.7. Handling Missing Values in Birth Year](#sub_section_4_2_7)\n",
    "        * [4.2.8. Handling Missing Values in Injury Codes](#sub_section_4_2_8) \n",
    "        * [4.2.9. Remaining Missing Values](#sub_section_4_2_9) \n",
    "* [5. Save Dataset for Feature Engineering](#chapter5)\n"
   ]
  },
  {
   "cell_type": "markdown",
   "metadata": {
    "vscode": {
     "languageId": "plaintext"
    }
   },
   "source": [
    "# 1. Import the Libraries 📚<a class=\"anchor\" id=\"chapter1\"></a>\n",
    "\n",
    "[Back to ToC](#toc)<br>\n",
    "\n",
    "In this section we will imported the needed libraries for this notebook."
   ]
  },
  {
   "cell_type": "code",
   "execution_count": 1,
   "metadata": {},
   "outputs": [],
   "source": [
    "# --- Standard Libraries ---\n",
    "import pandas as pd\n",
    "import numpy as np\n",
    "import matplotlib.pyplot as plt\n",
    "import seaborn as sns\n",
    "sns.set()\n",
    "import zipfile\n",
    "import re\n",
    "import os\n",
    "\n",
    "\n",
    "# --- Scikit-Learn Modules for Data Partitioning and Preprocessing ---\n",
    "from sklearn.model_selection import train_test_split, cross_val_score\n",
    "from sklearn.preprocessing import StandardScaler, OneHotEncoder, LabelEncoder, MinMaxScaler, RobustScaler\n",
    "from sklearn.compose import ColumnTransformer\n",
    "from sklearn.pipeline import Pipeline\n",
    "from sklearn.impute import KNNImputer\n",
    "from sklearn.preprocessing import StandardScaler\n",
    "\n",
    "# --- Warnings ---\n",
    "import warnings\n",
    "warnings.filterwarnings('ignore')\n",
    "\n",
    "#Import functions from utils\n",
    "from utils import analyze_numerical_outliers"
   ]
  },
  {
   "cell_type": "markdown",
   "metadata": {},
   "source": [
    "# 2. Load and Prepare Datasets 📁<a class=\"anchor\" id=\"chapter2\"></a>\n",
    "[Back to ToC](#toc)<br>\n",
    "\n",
    "Now, we will load the dataset prepared in **Notebook 1: Imports & Data Exploration**, where we addressed key inconsistencies such as invalid codes, and other data quality issues. This cleaned dataset serves as the foundation for the preprocessing steps in this notebook."
   ]
  },
  {
   "cell_type": "code",
   "execution_count": 2,
   "metadata": {},
   "outputs": [],
   "source": [
    "df_train = pd.read_csv(r'../processed_datasets/cleaned_train_dataset.csv', index_col='Claim Identifier')\n",
    "df_test = pd.read_csv(r'../processed_datasets/cleaned_test_dataset.csv',index_col='Claim Identifier')"
   ]
  },
  {
   "cell_type": "code",
   "execution_count": 3,
   "metadata": {},
   "outputs": [
    {
     "data": {
      "text/plain": [
       "Accident Date                   3687\n",
       "Age at Injury                  59993\n",
       "Assembly Date                   1407\n",
       "Attorney/Representative            0\n",
       "Average Weekly Wage            28651\n",
       "Birth Year                     55033\n",
       "C-2 Date                       15540\n",
       "C-3 Date                      386781\n",
       "Carrier Name                       0\n",
       "Carrier Type                       0\n",
       "Claim Injury Type                  0\n",
       "County of Injury                   0\n",
       "COVID-19 Indicator                 0\n",
       "District Name                      0\n",
       "First Hearing Date            423302\n",
       "Gender                             0\n",
       "IME-4 Count                   441221\n",
       "Industry Code                   9956\n",
       "Medical Fee Region                 0\n",
       "WCIO Cause of Injury Code      15638\n",
       "WCIO Nature of Injury Code     15655\n",
       "WCIO Part Of Body Code         17080\n",
       "Zip Code                       28983\n",
       "Agreement Reached                  0\n",
       "Number of Dependents               0\n",
       "dtype: int64"
      ]
     },
     "execution_count": 3,
     "metadata": {},
     "output_type": "execute_result"
    }
   ],
   "source": [
    "df_train.isnull().sum() "
   ]
  },
  {
   "cell_type": "markdown",
   "metadata": {},
   "source": [
    "# 3. Train Test Split <a class=\"anchor\" id=\"chapter3\"></a>\n",
    "[Back to ToC](#toc)<br>\n",
    "\n",
    "Splitting the dataset into training and test sets is a crucial step in building a machine learning model. In this project, we perform the train-test split after correcting inconsistencies but before data preprocessing, such as handling missing values, outlier treatment, and feature scaling. This sequence helps in maintaining the integrity of our data and ensures that the model is trained and evaluated fairly.\n",
    "\n",
    "The train-test split is performed after fixing inconsistencies but before preprocessing to ensure that we do not inadvertently introduce information from the test set into the training set. This allows us to maintain the integrity of our model evaluation and helps ensure that the results obtained during model evaluation are unbiased and reflect the model’s performance on truly unseen data."
   ]
  },
  {
   "cell_type": "code",
   "execution_count": 4,
   "metadata": {},
   "outputs": [],
   "source": [
    "X= df_train.drop('Claim Injury Type',axis=1)\n",
    "y= df_train['Claim Injury Type']\n",
    "\n",
    "X_train, X_val, y_train, y_val = train_test_split(X,y, test_size = 0.2, \n",
    "                                                  random_state = 42, \n",
    "                                                  stratify = y, \n",
    "                                                  shuffle = True)"
   ]
  },
  {
   "cell_type": "markdown",
   "metadata": {},
   "source": [
    "# 4. Preprocessing the Dataset ⚒️ <a class=\"anchor\" id=\"chapter4\"></a>\n",
    "[Back to ToC](#toc)<br>\n",
    "\n",
    "\n",
    "In this chapter, we will perform the basic steps to get to know our dataset.\n"
   ]
  },
  {
   "cell_type": "markdown",
   "metadata": {},
   "source": [
    "## 4.1. Outliers <a class=\"anchor\" id=\"section_4_1\"></a>\n",
    "[Back to 4. Preprocessing the Dataset](#chapter4)<br>\n",
    "\n",
    "\n",
    "The columns below are those that may have outliers in our dataset:\n",
    "\n",
    "- **Age at Injury** – The age of the person at the time of the accident.\n",
    "- **Average Weekly Wage** – Average weekly wage.\n",
    "- **Birth Year** – Year of the birth.\n",
    "- **IME-4 Count** – Number of IME-4 forms received per claim."
   ]
  },
  {
   "cell_type": "code",
   "execution_count": 5,
   "metadata": {},
   "outputs": [
    {
     "data": {
      "text/plain": [
       "Index(['Accident Date', 'Age at Injury', 'Assembly Date',\n",
       "       'Attorney/Representative', 'Average Weekly Wage', 'Birth Year',\n",
       "       'C-2 Date', 'C-3 Date', 'Carrier Name', 'Carrier Type',\n",
       "       'County of Injury', 'COVID-19 Indicator', 'District Name',\n",
       "       'First Hearing Date', 'Gender', 'IME-4 Count', 'Industry Code',\n",
       "       'Medical Fee Region', 'WCIO Cause of Injury Code',\n",
       "       'WCIO Nature of Injury Code', 'WCIO Part Of Body Code', 'Zip Code',\n",
       "       'Agreement Reached', 'Number of Dependents'],\n",
       "      dtype='object')"
      ]
     },
     "execution_count": 5,
     "metadata": {},
     "output_type": "execute_result"
    }
   ],
   "source": [
    "X_train.columns"
   ]
  },
  {
   "cell_type": "code",
   "execution_count": 6,
   "metadata": {},
   "outputs": [],
   "source": [
    "numerical_vars = ['Age at Injury', 'Average Weekly Wage', 'Birth Year', 'IME-4 Count']"
   ]
  },
  {
   "cell_type": "code",
   "execution_count": 7,
   "metadata": {},
   "outputs": [
    {
     "name": "stdout",
     "output_type": "stream",
     "text": [
      "Number of potential outliers in numerical variables:\n",
      "Age at Injury: 0 outliers\n",
      "Average Weekly Wage: 17740 outliers\n",
      "Birth Year: 0 outliers\n",
      "IME-4 Count: 5756 outliers\n"
     ]
    }
   ],
   "source": [
    "# Call the function to Analyze numerical variables for potential outliers using IQR present in utils\n",
    "numerical_outliers_summary = analyze_numerical_outliers(X_train, numerical_vars)\n",
    "\n",
    "# Display the summary\n",
    "print(\"Number of potential outliers in numerical variables:\")\n",
    "for column, count in numerical_outliers_summary.items():\n",
    "    print(f\"{column}: {count} outliers\")"
   ]
  },
  {
   "cell_type": "markdown",
   "metadata": {},
   "source": [
    "Lets use some graphs to check the values in a boxplot"
   ]
  },
  {
   "cell_type": "code",
   "execution_count": 8,
   "metadata": {},
   "outputs": [
    {
     "data": {
      "image/png": "[encoded data removed]",
      "text/plain": [
       "<Figure size 1000x2400 with 4 Axes>"
      ]
     },
     "metadata": {},
     "output_type": "display_data"
    }
   ],
   "source": [
    "plt.figure(figsize=(10, 6 * len(numerical_vars)))\n",
    "\n",
    "# Loop through each numeric column and plot a separate box plot\n",
    "for i, col in enumerate(numerical_vars, 1):\n",
    "    plt.subplot(len(numerical_vars), 1, i)\n",
    "    sns.boxplot(x=X_train[col])\n",
    "    plt.title(f'Box Plot of {col}')\n",
    "    plt.xlabel(col)\n",
    "    plt.ylabel('Values')\n",
    "\n",
    "# Adjust layout to prevent overlap\n",
    "plt.tight_layout()\n",
    "plt.show()"
   ]
  },
  {
   "cell_type": "markdown",
   "metadata": {},
   "source": [
    "**Average Weekly Wage** <br>\n",
    "Based on the analysis of the numerical variables in the dataset, most variables exhibit consistent distributions with few extreme outliers. However, the Average Weekly Wage variable presents significant skewness caused by both zero values and extreme values exceeding 1.0×10^6. To address this, we exclude both zeros and extreme values for a clearer analysis of its central distribution."
   ]
  },
  {
   "cell_type": "code",
   "execution_count": 9,
   "metadata": {},
   "outputs": [
    {
     "data": {
      "image/png": "[encoded data removed]",
      "text/plain": [
       "<Figure size 600x400 with 1 Axes>"
      ]
     },
     "metadata": {},
     "output_type": "display_data"
    }
   ],
   "source": [
    "# Filter out extreme values\n",
    "filtered_avg_weekly_wage = X_train['Average Weekly Wage'][X_train['Average Weekly Wage'] <= 1e6]\n",
    "\n",
    "# Plot the boxplot for Average Weekly Wage excluding extreme values\n",
    "plt.figure(figsize=(6, 4))\n",
    "sns.boxplot(x=filtered_avg_weekly_wage)\n",
    "plt.title(\"Box Plot of Average Weekly Wage (Excluding Extreme Values > 1e6)\")\n",
    "plt.xlabel(\"Average Weekly Wage\")\n",
    "plt.show()"
   ]
  },
  {
   "cell_type": "markdown",
   "metadata": {},
   "source": [
    "Based on the analysis of the Average Weekly Wage variable, we observe that even after excluding extreme values beyond 1.0×10^6, there remain unusually high entries above 50,000. These values are inconsistent with realistic weekly wages, as they far exceed typical compensation ranges. To further refine our analysis, we will exclude all entries above 50,000 and analyze the resulting distribution."
   ]
  },
  {
   "cell_type": "code",
   "execution_count": 10,
   "metadata": {},
   "outputs": [
    {
     "data": {
      "image/png": "[encoded data removed]",
      "text/plain": [
       "<Figure size 600x400 with 1 Axes>"
      ]
     },
     "metadata": {},
     "output_type": "display_data"
    }
   ],
   "source": [
    "# Filter out zeros and values above 50000\n",
    "filtered_avg_weekly_wage = X_train['Average Weekly Wage'][\n",
    "    (X_train['Average Weekly Wage'] > 0) & (X_train['Average Weekly Wage'] <= 50000)\n",
    "]\n",
    "\n",
    "# Plot the refined boxplot\n",
    "plt.figure(figsize=(6, 4))\n",
    "sns.boxplot(x=filtered_avg_weekly_wage)\n",
    "plt.title(\"Box Plot of Average Weekly Wage (Excluding Zeros and Values > 50000)\")\n",
    "plt.xlabel(\"Average Weekly Wage\")\n",
    "plt.show()"
   ]
  },
  {
   "cell_type": "markdown",
   "metadata": {},
   "source": [
    "Upon analyzing the **Average Weekly Wage** variable and progressively refining the thresholds, it becomes evident that values above **10,000** likely represent outliers or unrealistic entries. The boxplot, which excludes values greater than **50,000**, highlights a concentration of reasonable wages below this level, with a few extreme values still visible.\n",
    "\n",
    "Given the nature of weekly wages, a threshold of 10,000 strikes a balance between excluding extreme, unlikely values while retaining as much valid data as possible. This adjustment ensures the dataset remains representative without being skewed by unrealistic entries."
   ]
  },
  {
   "cell_type": "code",
   "execution_count": 11,
   "metadata": {},
   "outputs": [
    {
     "name": "stdout",
     "output_type": "stream",
     "text": [
      "Number of rows with 'Average Weekly Wage' > 10000: 45\n",
      "Percentage of total rows: 0.0098%\n"
     ]
    }
   ],
   "source": [
    "# Define the threshold for outliers\n",
    "outlier_threshold = 10000\n",
    "\n",
    "# Identify rows with 'Average Weekly Wage' above the threshold\n",
    "outlier_rows = X_train[X_train['Average Weekly Wage'] > outlier_threshold]\n",
    "\n",
    "# Calculate the percentage of rows identified as outliers\n",
    "num_outliers = outlier_rows.shape[0]\n",
    "total_rows = X_train.shape[0]\n",
    "outlier_percentage = (num_outliers / total_rows) * 100\n",
    "\n",
    "# Print results\n",
    "print(f\"Number of rows with 'Average Weekly Wage' > {outlier_threshold}: {num_outliers}\")\n",
    "print(f\"Percentage of total rows: {outlier_percentage:.4f}%\")"
   ]
  },
  {
   "cell_type": "markdown",
   "metadata": {},
   "source": [
    "Upon analysis, 45 rows (representing 0.0098% of the total dataset) have Average Weekly Wage values exceeding 10,000, which appear to be outliers. Given the nature of weekly wages, these values are likely unrealistic and could skew the distribution or negatively impact model performance.\n",
    "\n",
    "To address this issue, we will apply a **Winsorization** approach. Winsorizing involves capping extreme values at a specified threshold—in this case, 10,000—to bring them within a more acceptable range. This method preserves the affected rows without removing data while reducing the influence of outliers."
   ]
  },
  {
   "cell_type": "code",
   "execution_count": 12,
   "metadata": {},
   "outputs": [
    {
     "name": "stdout",
     "output_type": "stream",
     "text": [
      "Number of rows with 'Average Weekly Wage' > 10000 after capping: 0\n"
     ]
    }
   ],
   "source": [
    "# Cap the 'Average Weekly Wage' values at 10,000 (Winsorization)\n",
    "X_train['Average Weekly Wage'] = X_train['Average Weekly Wage'].clip(upper=10000)\n",
    "X_val['Average Weekly Wage'] = X_val['Average Weekly Wage'].clip(upper=10000)\n",
    "df_test['Average Weekly Wage'] = df_test['Average Weekly Wage'].clip(upper=10000)\n",
    "\n",
    "# Verify the changes\n",
    "print(\"Number of rows with 'Average Weekly Wage' > 10000 after capping:\",\n",
    "      (X_train['Average Weekly Wage'] > 10000).sum())"
   ]
  },
  {
   "cell_type": "markdown",
   "metadata": {},
   "source": [
    "Final Boxplot Distribution:"
   ]
  },
  {
   "cell_type": "code",
   "execution_count": 13,
   "metadata": {},
   "outputs": [
    {
     "data": {
      "image/png": "[encoded data removed]",
      "text/plain": [
       "<Figure size 600x400 with 1 Axes>"
      ]
     },
     "metadata": {},
     "output_type": "display_data"
    }
   ],
   "source": [
    "# Final boxplot after capping extreme values at 10,000\n",
    "plt.figure(figsize=(6, 4))\n",
    "sns.boxplot(x=X_train['Average Weekly Wage'])\n",
    "plt.title(\"Final Box Plot of Average Weekly Wage (After Winsorization at 10,000)\")\n",
    "plt.xlabel(\"Average Weekly Wage\")\n",
    "plt.show()"
   ]
  },
  {
   "cell_type": "markdown",
   "metadata": {},
   "source": [
    "**IME-4 Count** <br>\n",
    "Another point of concern is the IME-4 Count therefore, we will adopt an approach very similar to the previous one."
   ]
  },
  {
   "cell_type": "code",
   "execution_count": 14,
   "metadata": {},
   "outputs": [
    {
     "data": {
      "image/png": "[encoded data removed]",
      "text/plain": [
       "<Figure size 600x400 with 1 Axes>"
      ]
     },
     "metadata": {},
     "output_type": "display_data"
    }
   ],
   "source": [
    "# Filter out extreme values\n",
    "filtered_IME = X_train['IME-4 Count'][X_train['IME-4 Count'] <= 40]\n",
    "\n",
    "# Plot the boxplot for IME-4 Count excluding extreme values\n",
    "plt.figure(figsize=(6, 4))\n",
    "sns.boxplot(x=filtered_IME)\n",
    "plt.title(\"Box Plot of IME-4 Count (Excluding Extreme Values > 40)\")\n",
    "plt.xlabel(\"IME-4 Count\")\n",
    "plt.show()"
   ]
  },
  {
   "cell_type": "markdown",
   "metadata": {},
   "source": [
    "Based on the box plot analysis of the **IME-4 Count** variable, we observed that values beyond **25** appear to be outliers. These extreme values deviate significantly from the majority of the data, indicating they may not be representative of typical observations.\n",
    "\n",
    "To address this, we applied **winsorizing** at the threshold of 25. Winsorizing reduces the impact of outliers by capping values above this threshold to the maximum acceptable limit, ensuring the data remains robust for modeling while preserving its overall distribution."
   ]
  },
  {
   "cell_type": "code",
   "execution_count": 15,
   "metadata": {},
   "outputs": [
    {
     "name": "stdout",
     "output_type": "stream",
     "text": [
      "Number of rows with 'IME-4 Count' > 25: 47\n",
      "Percentage of total rows: 0.0102%\n"
     ]
    }
   ],
   "source": [
    "# Define the threshold for outliers\n",
    "outlier_threshold = 25\n",
    "\n",
    "# Identify rows with 'IME-4 Count' above the threshold\n",
    "outlier_rows = X_train[X_train['IME-4 Count'] > outlier_threshold]\n",
    "\n",
    "# Calculate the percentage of rows identified as outliers\n",
    "num_outliers = outlier_rows.shape[0]\n",
    "total_rows = X_train.shape[0]\n",
    "outlier_percentage = (num_outliers / total_rows) * 100\n",
    "\n",
    "# Print results\n",
    "print(f\"Number of rows with 'IME-4 Count' > {outlier_threshold}: {num_outliers}\")\n",
    "print(f\"Percentage of total rows: {outlier_percentage:.4f}%\")"
   ]
  },
  {
   "cell_type": "code",
   "execution_count": 16,
   "metadata": {},
   "outputs": [
    {
     "name": "stdout",
     "output_type": "stream",
     "text": [
      "Number of rows with 'IME-4 Count' > 25 after capping: 0\n"
     ]
    }
   ],
   "source": [
    "# Cap the 'IME-4 Count' values at 25 (Winsorization)\n",
    "X_train['IME-4 Count'] = X_train['IME-4 Count'].clip(upper=25)\n",
    "X_val['IME-4 Count'] = X_val['IME-4 Count'].clip(upper=25)\n",
    "df_test['IME-4 Count'] = df_test['IME-4 Count'].clip(upper=25)\n",
    "\n",
    "# Verify the changes\n",
    "print(\"Number of rows with 'IME-4 Count' > 25 after capping:\",\n",
    "      (X_train['IME-4 Count'] > 25).sum())"
   ]
  },
  {
   "cell_type": "code",
   "execution_count": 17,
   "metadata": {},
   "outputs": [
    {
     "data": {
      "image/png": "[encoded data removed]",
      "text/plain": [
       "<Figure size 600x400 with 1 Axes>"
      ]
     },
     "metadata": {},
     "output_type": "display_data"
    }
   ],
   "source": [
    "# Final boxplot after capping extreme values at 25\n",
    "plt.figure(figsize=(6, 4))\n",
    "sns.boxplot(x=X_train['IME-4 Count'])\n",
    "plt.title(\"Final Box Plot of IME-4 Count (After Winsorization at 25)\")\n",
    "plt.xlabel(\"IME-4 Count\")\n",
    "plt.show()"
   ]
  },
  {
   "cell_type": "markdown",
   "metadata": {},
   "source": [
    "## 4.2. Missing Values <a class=\"anchor\" id=\"section_4_2\"></a>\n",
    "[Back to 4. Preprocessing the Dataset](#chapter4)<br>"
   ]
  },
  {
   "cell_type": "markdown",
   "metadata": {},
   "source": [
    "### Handling High Zero Columns \n",
    "In some cases, missing values might have been incorrectly represented as zeros, which can lead to inaccurate analysis and modeling. To address this, we will use the `.eq(0)` method to identify columns where zero values may not be appropriate and investigate their validity. This step ensures that we accurately distinguish between true zeros and potential missing or invalid data points, setting the foundation for proper handling of missing values in the dataset. In this section, we identify columns with a high number of zero values to ensure that they are not incorrectly used as placeholders for missing values. This analysis allows us to differentiate between valid zero entries and potential data inconsistencies that need to be addressed during preprocessing.\n"
   ]
  },
  {
   "cell_type": "code",
   "execution_count": 18,
   "metadata": {},
   "outputs": [
    {
     "name": "stdout",
     "output_type": "stream",
     "text": [
      "Attorney/Representative    68.329708\n",
      "Average Weekly Wage        58.396103\n",
      "COVID-19 Indicator         95.157213\n",
      "Zip Code                    0.001307\n",
      "Agreement Reached          95.353197\n",
      "Number of Dependents       14.242660\n",
      "dtype: float64\n"
     ]
    }
   ],
   "source": [
    "# Calculate the percentage of zeros for each column\n",
    "zero_percentage = X_train.eq(0).mean()\n",
    "\n",
    "# Filter columns that have more than the threshold of zero values\n",
    "high_zero_columns = zero_percentage[zero_percentage > 0.0]\n",
    "\n",
    "# Display the columns with their zero percentage\n",
    "print(high_zero_columns*100)"
   ]
  },
  {
   "cell_type": "markdown",
   "metadata": {},
   "source": [
    "**Interpretation:**\n",
    "- **Attorney/Representative**: 66.10% zeros. This is expected as it likely indicates cases without attorney representation.\n",
    "- **Average Weekly Wage**: 56.48% zeros. This is concerning because every employee in the dataset should have a weekly wage. Zeros in this column likely represent missing or incorrectly recorded values.\n",
    "- **COVID-19 Indicator**: 92.05% zeros. As a binary column, zero likely indicates claims unrelated to COVID-19, which is valid.\n",
    "- **Agreement Reached**: 92.23% zeros. Similarly, this binary column likely indicates cases where no agreement was reached, which is valid.\n",
    "- **Number of Dependents**: 14.24% zeros. Which represets those who does not have a dependents.\n",
    "- **Zip Code**: 0.0011% zeros. Although the proportion is small, it is highly unusual for a zip code to be zero. This indicates missing or incorrectly recorded values in this column.\n",
    "\n",
    "The remaining columns with a high proportion of zeros (Attorney/Representative, COVID-19 Indicator, and Agreement Reached) are binary features where zero values are expected and valid, so no changes will be made to these columns."
   ]
  },
  {
   "cell_type": "code",
   "execution_count": 19,
   "metadata": {},
   "outputs": [],
   "source": [
    "# Replace zeros in 'Average Weekly Wage' with NaN in the train, validation, and test sets\n",
    "X_train['Average Weekly Wage'] = X_train['Average Weekly Wage'].replace(0, np.nan)\n",
    "X_val['Average Weekly Wage'] = X_val['Average Weekly Wage'].replace(0, np.nan)\n",
    "df_test['Average Weekly Wage'] = df_test['Average Weekly Wage'].replace(0, np.nan)\n",
    "\n",
    "# Replace zeros in 'Zip Code' with NaN in the train, validation, and test sets\n",
    "X_train['Zip Code'] = X_train['Zip Code'].replace(0, np.nan)\n",
    "X_val['Zip Code'] = X_val['Zip Code'].replace(0, np.nan)\n",
    "df_test['Zip Code'] = df_test['Zip Code'].replace(0, np.nan)"
   ]
  },
  {
   "cell_type": "markdown",
   "metadata": {},
   "source": [
    "### Identifying Remaining Missing Values\n",
    "\n",
    "After treating zeros as missing values in the **Average Weekly Wage** and **Zip Code** column, we will now examine the dataset for any remaining `NaN` values. This step ensures that all missing data points are identified, enabling us to address them systematically.\n",
    "\n",
    "The table below displays the count of missing values (NaN) for each column in the dataset. Some columns, such as **First Hearing Date** and **IME-4 Count**, contain a significant number of missing values, which may require further investigation and treatment."
   ]
  },
  {
   "cell_type": "code",
   "execution_count": 20,
   "metadata": {},
   "outputs": [
    {
     "data": {
      "text/plain": [
       "Accident Date                   2949\n",
       "Age at Injury                  48011\n",
       "Assembly Date                   1153\n",
       "Attorney/Representative            0\n",
       "Average Weekly Wage           291126\n",
       "Birth Year                     44031\n",
       "C-2 Date                       12393\n",
       "C-3 Date                      309600\n",
       "Carrier Name                       0\n",
       "Carrier Type                       0\n",
       "County of Injury                   0\n",
       "COVID-19 Indicator                 0\n",
       "District Name                      0\n",
       "First Hearing Date            338707\n",
       "Gender                             0\n",
       "IME-4 Count                   353017\n",
       "Industry Code                   7943\n",
       "Medical Fee Region                 0\n",
       "WCIO Cause of Injury Code      12448\n",
       "WCIO Nature of Injury Code     12463\n",
       "WCIO Part Of Body Code         13564\n",
       "Zip Code                       23137\n",
       "Agreement Reached                  0\n",
       "Number of Dependents               0\n",
       "dtype: int64"
      ]
     },
     "execution_count": 20,
     "metadata": {},
     "output_type": "execute_result"
    }
   ],
   "source": [
    "# Display count of NaN values for each column in the training dataset\n",
    "X_train.isnull().sum()"
   ]
  },
  {
   "cell_type": "code",
   "execution_count": 21,
   "metadata": {},
   "outputs": [
    {
     "name": "stdout",
     "output_type": "stream",
     "text": [
      "Accident Date                  0.642177\n",
      "Age at Injury                 10.454925\n",
      "Assembly Date                  0.251078\n",
      "Average Weekly Wage           63.395896\n",
      "Birth Year                     9.588236\n",
      "C-2 Date                       2.698712\n",
      "C-3 Date                      67.418813\n",
      "First Hearing Date            73.757183\n",
      "IME-4 Count                   76.873344\n",
      "Industry Code                  1.729676\n",
      "WCIO Cause of Injury Code      2.710689\n",
      "WCIO Nature of Injury Code     2.713956\n",
      "WCIO Part Of Body Code         2.953711\n",
      "Zip Code                       5.038337\n",
      "dtype: float64\n"
     ]
    }
   ],
   "source": [
    "# Calculate the percentage of missing values for each column\n",
    "missing_percentage = X_train.isnull().mean()\n",
    "\n",
    "# Filter columns that have more than the threshold of missing values\n",
    "high_missing_columns = missing_percentage[missing_percentage > 0.0]\n",
    "\n",
    "# Display the columns with their missing percentage\n",
    "print(high_missing_columns*100)"
   ]
  },
  {
   "cell_type": "markdown",
   "metadata": {},
   "source": [
    "Using a threshold of 20%, we identified columns with a high percentage of missing values. Columns such as **First Hearing Date** and **IME-4 Count** have more than 70% missing data, which makes them candidates for potential feature engineering or alternative handling.\n",
    "\n",
    "In particular:\n",
    "- **First Hearing Date**: Given its high missing rate, this feature could potentially be transformed into a binary indicator, where 0 indicates missing and 1 indicates available data. This approach allows us to retain any signal that might be present in the presence or absence of this information.\n",
    "\n",
    "Let's explore more about the rest of missing values."
   ]
  },
  {
   "cell_type": "markdown",
   "metadata": {},
   "source": [
    "### 4.2.1. Handling Missing Values in `IME-4 Count` <a class=\"anchor\" id=\"sub_section_4_2_1\"></a>\n",
    "[Back to 4.2. Missing Values](#section_4_2)<br>\n",
    "\n",
    "\n",
    "The `IME-4 Count` feature represents the number of independent medical audit examinations. A missing value (`NaN`) in this column likely indicates that no audits were conducted for a specific case. Therefore, we have decided to replace all `NaN` values with 0 to indicate that there was no audit.\n",
    "\n"
   ]
  },
  {
   "cell_type": "code",
   "execution_count": 22,
   "metadata": {},
   "outputs": [
    {
     "data": {
      "text/plain": [
       "array([ 4., nan,  1.,  8., 11.,  2.,  5.,  7.,  3., 14., 13.,  6., 12.,\n",
       "       10.,  9., 15., 25., 16., 18., 17., 19., 20., 21., 22., 23., 24.])"
      ]
     },
     "execution_count": 22,
     "metadata": {},
     "output_type": "execute_result"
    }
   ],
   "source": [
    "# Display unique values in 'IME-4 Count' to understand the range\n",
    "X_train['IME-4 Count'].unique()"
   ]
  },
  {
   "cell_type": "markdown",
   "metadata": {},
   "source": [
    "As IME-4 represents the number of independent medical audicts examination we decided to convert nan to 0 meaning that there wasn't any."
   ]
  },
  {
   "cell_type": "code",
   "execution_count": 23,
   "metadata": {},
   "outputs": [
    {
     "data": {
      "text/plain": [
       "array([ 4.,  0.,  1.,  8., 11.,  2.,  5.,  7.,  3., 14., 13.,  6., 12.,\n",
       "       10.,  9., 15., 25., 16., 18., 17., 19., 20., 21., 22., 23., 24.])"
      ]
     },
     "execution_count": 23,
     "metadata": {},
     "output_type": "execute_result"
    }
   ],
   "source": [
    "# Replace NaN values in 'IME-4 Count' with 0 in the training, validation, and test sets\n",
    "X_train['IME-4 Count'].fillna(0, inplace=True)\n",
    "X_val['IME-4 Count'].fillna(0, inplace=True)\n",
    "df_test['IME-4 Count'].fillna(0, inplace=True)\n",
    "\n",
    "# Confirm replacement by displaying unique values again\n",
    "X_train['IME-4 Count'].unique()"
   ]
  },
  {
   "cell_type": "markdown",
   "metadata": {},
   "source": [
    "### 4.2.2. Handling Missing Values in `C-3 Date`, `C-2 Date`, and `First Hearing Date` <a class=\"anchor\" id=\"sub_section_4_2_2\"></a>\n",
    "[Back to 4.2. Missing Values](#section_4_2)<br>\n",
    "\n",
    "\n",
    "After reviewing the documentation from data.gov.ny, it was discovered that missing values (NaN) in the C-3 Date, C-2 Date, and First Hearing Date columns have a specific meaning: \"blanks indicate no form received.\"\n",
    "\n",
    "Given this clarification, we will no longer treat these as missing values. Instead:\n",
    "\n",
    "Missing values (NaN) will be replaced with 0 to indicate \"No form received.\"\n",
    "This adjustment ensures that the data accurately reflects the provided context and avoids misinterpretation of missing values as a lack of data.\n"
   ]
  },
  {
   "cell_type": "code",
   "execution_count": 24,
   "metadata": {},
   "outputs": [],
   "source": [
    "# Replace NaN values in specified columns with 0 to indicate \"No form received\"\n",
    "columns_to_update = ['C-3 Date', 'C-2 Date', 'First Hearing Date']\n",
    "X_train[columns_to_update] = X_train[columns_to_update].fillna(0)\n",
    "X_val[columns_to_update] = X_val[columns_to_update].fillna(0)\n",
    "df_test[columns_to_update] = df_test[columns_to_update].fillna(0)"
   ]
  },
  {
   "cell_type": "markdown",
   "metadata": {},
   "source": [
    "### 4.2.3. Handling Missing Values in `Industry Code` <a class=\"anchor\" id=\"sub_section_4_2_3\"></a>\n",
    "[Back to 4.2. Missing Values](#section_4_2)<br>\n",
    "\n",
    "\n",
    "To address the missing values in the Industry Code feature, we utilize the KNN Imputation method. This method ensures that the imputed values are consistent with the dataset's underlying patterns by leveraging the relationships between features."
   ]
  },
  {
   "cell_type": "code",
   "execution_count": 25,
   "metadata": {},
   "outputs": [
    {
     "data": {
      "text/plain": [
       "np.int64(7943)"
      ]
     },
     "execution_count": 25,
     "metadata": {},
     "output_type": "execute_result"
    }
   ],
   "source": [
    "X_train['Industry Code'].isna().sum()"
   ]
  },
  {
   "cell_type": "markdown",
   "metadata": {},
   "source": [
    "### for now let just use the mode to fill the missing values."
   ]
  },
  {
   "cell_type": "code",
   "execution_count": 26,
   "metadata": {},
   "outputs": [
    {
     "name": "stdout",
     "output_type": "stream",
     "text": [
      "Missing values in 'Industry Code' after filling:\n",
      "X_train: 0\n",
      "X_val: 0\n",
      "df_test: 0\n"
     ]
    }
   ],
   "source": [
    "# Calculate the mode of the 'Industry Code' column in X_train\n",
    "industry_code_mode = X_train['Industry Code'].mode()[0]\n",
    "\n",
    "# Fill missing values in 'Industry Code' for X_train, X_val, and df_test\n",
    "X_train['Industry Code'].fillna(industry_code_mode, inplace=True)\n",
    "X_val['Industry Code'].fillna(industry_code_mode, inplace=True)\n",
    "df_test['Industry Code'].fillna(industry_code_mode, inplace=True)\n",
    "\n",
    "# Verify the changes\n",
    "print(\"Missing values in 'Industry Code' after filling:\")\n",
    "print(\"X_train:\", X_train['Industry Code'].isna().sum())\n",
    "print(\"X_val:\", X_val['Industry Code'].isna().sum())\n",
    "print(\"df_test:\", df_test['Industry Code'].isna().sum())\n"
   ]
  },
  {
   "cell_type": "code",
   "execution_count": 27,
   "metadata": {},
   "outputs": [],
   "source": [
    "# # Define the feature to impute and the predictors\n",
    "#feature_to_impute = 'Industry Code'\n",
    "#predictor_features = X_train.select_dtypes(include=['int64', 'float64']).columns.drop(['Agreement Reached','Industry Code', 'WCIO Cause of Injury Code', 'WCIO Nature of Injury Code', 'WCIO Part Of Body Code'])\n",
    "\n",
    "# drop all \"code\" variables (wcio, etc.) on the row above this one\n",
    "\n",
    "# Ensure 'Industry Code' is part of the predictors\n",
    "#if feature_to_impute not in predictor_features:\n",
    "    #predictor_features = predictor_features.append(pd.Index([feature_to_impute]))\n",
    "\n",
    "# # Scale numerical features for X_train\n",
    "#scaler = StandardScaler()\n",
    "#scaled_data_train = scaler.fit_transform(X_train[predictor_features])\n",
    "\n",
    "# # Apply KNN Imputation for all numerical features in X_train\n",
    "#knn_imputer = KNNImputer(n_neighbors=3)  # Adjust n_neighbors for speed/accuracy tradeoff\n",
    "#imputed_data_train = knn_imputer.fit_transform(scaled_data_train)\n",
    "\n",
    "# Reverse scaling for all numerical features\n",
    "#X_train[predictor_features] = scaler.inverse_transform(imputed_data_train)\n",
    "\n",
    "# Process X_val and df_test using the same scaler and KNN imputer\n",
    "#scaled_data_val = scaler.transform(X_val[predictor_features])\n",
    "#scaled_data_test = scaler.transform(df_test[predictor_features])\n",
    "\n",
    "# Apply KNN Imputation for 'Industry Code' in X_val and df_test\n",
    "#imputed_data_val = knn_imputer.transform(scaled_data_val)\n",
    "#imputed_data_test = knn_imputer.transform(scaled_data_test)\n",
    "\n",
    "# # Reverse scaling for all numerical features in X_val and df_test\n",
    "#X_val[predictor_features] = scaler.inverse_transform(imputed_data_val)\n",
    "#df_test[predictor_features] = scaler.inverse_transform(imputed_data_test)\n",
    "\n",
    "# Verify that missing values in 'Industry Code' have been imputed\n",
    "#print(\"Missing values in 'Industry Code' after imputation (X_train):\", X_train[feature_to_impute].isna().sum())\n",
    "#print(\"Missing values in 'Industry Code' after imputation (X_val):\", X_val[feature_to_impute].isna().sum())\n",
    "#print(\"Missing values in 'Industry Code' after imputation (df_test):\", df_test[feature_to_impute].isna().sum())"
   ]
  },
  {
   "cell_type": "markdown",
   "metadata": {},
   "source": [
    "Since the KNN Imputation process takes approximately 18 hours (~1050 minutes), we will save the X_train, X_val, and df_test datasets in a dedicated folder named \"Data After Impute\". This allows us to reuse the imputed datasets in the future without re-running the imputation process."
   ]
  },
  {
   "cell_type": "code",
   "execution_count": 28,
   "metadata": {},
   "outputs": [
    {
     "name": "stdout",
     "output_type": "stream",
     "text": [
      "Datasets saved successfully in the folder: ../Data After Impute\n"
     ]
    }
   ],
   "source": [
    "# # Create the directory if it doesn't already exist\n",
    "os.makedirs(\"../Data After Impute\", exist_ok=True)\n",
    "\n",
    "# # Save the datasets as CSV files\n",
    "X_train.to_csv(os.path.join(\"../Data After Impute\", \"X_train_imputed.csv\"), index=True)\n",
    "X_val.to_csv(os.path.join(\"../Data After Impute\", \"X_val_imputed.csv\"), index=True)\n",
    "df_test.to_csv(os.path.join(\"../Data After Impute\", \"df_test_imputed.csv\"), index=True)\n",
    "\n",
    "print(f\"Datasets saved successfully in the folder: {'../Data After Impute'}\")"
   ]
  },
  {
   "cell_type": "markdown",
   "metadata": {},
   "source": [
    "Now we will import the imputed dataset."
   ]
  },
  {
   "cell_type": "code",
   "execution_count": 29,
   "metadata": {},
   "outputs": [
    {
     "name": "stdout",
     "output_type": "stream",
     "text": [
      "Datasets loaded successfully!\n",
      "X_train_final shape: (459219, 25)\n",
      "X_val_final shape: (114805, 25)\n",
      "X_test_final shape: (387975, 25)\n"
     ]
    }
   ],
   "source": [
    "# Define the folder and file paths\n",
    "input_folder = \"../Data After Impute\"\n",
    "X_train_path = f\"{input_folder}/X_train_imputed.csv\"\n",
    "X_val_path = f\"{input_folder}/X_val_imputed.csv\"\n",
    "df_test_path = f\"{input_folder}/df_test_imputed.csv\"\n",
    "\n",
    "# Load the datasets\n",
    "X_train = pd.read_csv(X_train_path)\n",
    "X_val = pd.read_csv(X_val_path)\n",
    "df_test = pd.read_csv(df_test_path)\n",
    "\n",
    "# Verify the loaded datasets\n",
    "print(\"Datasets loaded successfully!\")\n",
    "print(\"X_train_final shape:\", X_train.shape)\n",
    "print(\"X_val_final shape:\", X_val.shape)\n",
    "print(\"X_test_final shape:\", df_test.shape)"
   ]
  },
  {
   "cell_type": "markdown",
   "metadata": {},
   "source": [
    "### 4.2.4. Handling Missing Values in `Average Weekly Wage` <a class=\"anchor\" id=\"sub_section_4_2_4\"></a>\n",
    "[Back to 4.2. Missing Values](#section_4_2)<br>\n",
    "\n",
    "\n",
    "For now, we will impute the missing values in the `Average Weekly Wage` feature based on the mean values grouped by `Industry Code`. This allows us to approximate the missing values by considering the industry context of each entry."
   ]
  },
  {
   "cell_type": "code",
   "execution_count": 30,
   "metadata": {},
   "outputs": [
    {
     "data": {
      "text/plain": [
       "Average Weekly Wage\n",
       "250.0     2566\n",
       "600.0     1929\n",
       "500.0     1075\n",
       "1765.0    1054\n",
       "1000.0     996\n",
       "          ... \n",
       "3687.0       1\n",
       "7173.0       1\n",
       "3341.0       1\n",
       "3505.0       1\n",
       "9605.0       1\n",
       "Name: count, Length: 4611, dtype: int64"
      ]
     },
     "execution_count": 30,
     "metadata": {},
     "output_type": "execute_result"
    }
   ],
   "source": [
    "X_train['Average Weekly Wage'].value_counts()"
   ]
  },
  {
   "cell_type": "code",
   "execution_count": 31,
   "metadata": {},
   "outputs": [],
   "source": [
    "# Calculate the mean of 'Average Weekly Wage' for each 'Industry Code' in the training dataset\n",
    "industry_means_train = X_train.groupby('Industry Code')['Average Weekly Wage'].mean()\n",
    "\n",
    "def impute_average_weekly_wage(row):\n",
    "    if pd.isna(row['Average Weekly Wage']):\n",
    "        return industry_means_train.get(row['Industry Code'], row['Average Weekly Wage'])\n",
    "    return row['Average Weekly Wage']\n",
    "\n",
    "# Apply the function to fill missing values in 'Average Weekly Wage' for X_train, X_val, and df_test\n",
    "X_train['Average Weekly Wage'] = X_train.apply(lambda row: impute_average_weekly_wage(row) if pd.isna(row['Average Weekly Wage']) else row['Average Weekly Wage'], axis=1)\n",
    "X_val['Average Weekly Wage'] = X_val.apply(lambda row: impute_average_weekly_wage(row) if pd.isna(row['Average Weekly Wage']) else row['Average Weekly Wage'], axis=1)  \n",
    "df_test['Average Weekly Wage'] = df_test.apply(lambda row: impute_average_weekly_wage(row) if pd.isna(row['Average Weekly Wage']) else row['Average Weekly Wage'], axis=1)"
   ]
  },
  {
   "cell_type": "markdown",
   "metadata": {},
   "source": [
    "We are converting the Average Weekly Wage to integers to align with real-world conventions, improve data interpretability, and simplify further processing."
   ]
  },
  {
   "cell_type": "code",
   "execution_count": 32,
   "metadata": {},
   "outputs": [
    {
     "name": "stdout",
     "output_type": "stream",
     "text": [
      "Converted 'Average Weekly Wage' to integers in X_train:\n",
      "Average Weekly Wage\n",
      "1174    66887\n",
      "1666    38995\n",
      "1061    26500\n",
      "838     25807\n",
      "763     15318\n",
      "        ...  \n",
      "3953        1\n",
      "5266        1\n",
      "4055        1\n",
      "4135        1\n",
      "3330        1\n",
      "Name: count, Length: 4611, dtype: int64\n"
     ]
    }
   ],
   "source": [
    "# Convert 'Average Weekly Wage' to integers\n",
    "X_train['Average Weekly Wage'] = X_train['Average Weekly Wage'].astype(int)\n",
    "X_val['Average Weekly Wage'] = X_val['Average Weekly Wage'].astype(int)\n",
    "df_test['Average Weekly Wage'] = df_test['Average Weekly Wage'].astype(int)\n",
    "\n",
    "# Verify the changes\n",
    "print(\"Converted 'Average Weekly Wage' to integers in X_train:\")\n",
    "print(X_train['Average Weekly Wage'].value_counts())"
   ]
  },
  {
   "cell_type": "code",
   "execution_count": 33,
   "metadata": {},
   "outputs": [
    {
     "data": {
      "text/plain": [
       "np.int64(0)"
      ]
     },
     "execution_count": 33,
     "metadata": {},
     "output_type": "execute_result"
    }
   ],
   "source": [
    "X_train['Average Weekly Wage'].isnull().sum()"
   ]
  },
  {
   "cell_type": "code",
   "execution_count": 34,
   "metadata": {},
   "outputs": [
    {
     "data": {
      "text/plain": [
       "np.int64(0)"
      ]
     },
     "execution_count": 34,
     "metadata": {},
     "output_type": "execute_result"
    }
   ],
   "source": [
    "X_val['Average Weekly Wage'].isnull().sum()"
   ]
  },
  {
   "cell_type": "code",
   "execution_count": 35,
   "metadata": {},
   "outputs": [
    {
     "data": {
      "text/plain": [
       "np.int64(0)"
      ]
     },
     "execution_count": 35,
     "metadata": {},
     "output_type": "execute_result"
    }
   ],
   "source": [
    "df_test['Average Weekly Wage'].isnull().sum()"
   ]
  },
  {
   "cell_type": "markdown",
   "metadata": {},
   "source": [
    "### 4.2.5. Handling Missing Values in `Zip Code` <a class=\"anchor\" id=\"sub_section_4_2_5\"></a>\n",
    "[Back to 4.2. Missing Values](#section_4_2)<br>\n",
    "\n",
    "To impute missing values in the `Zip Code` feature, we use the mode of `Zip Code` based on the combination of `County of Injury` and `District Name`. This approach ensures that missing values are filled with the most frequent `Zip Code` for each unique combination of county and district, providing a region-specific approximation.\n"
   ]
  },
  {
   "cell_type": "code",
   "execution_count": 36,
   "metadata": {},
   "outputs": [],
   "source": [
    "# Calculate the mode of 'Zip Code' for each ('County of Injury', 'District Name') pair in the training dataset\n",
    "zip_code_mode_train = X_train.groupby(['County of Injury', 'District Name'])['Zip Code'].agg(lambda x: x.mode()[0] if not x.mode().empty else None)\n",
    "\n",
    "# Define a function to impute 'Zip Code' based on 'County of Injury' and 'District Name' using training mode\n",
    "def impute_zip_code(row):\n",
    "    if pd.isna(row['Zip Code']):\n",
    "        # Get the mode of the zip code for the given county and district from training set\n",
    "        return zip_code_mode_train.get((row['County of Injury'], row['District Name']), row['Zip Code'])\n",
    "    return row['Zip Code']\n",
    "\n",
    "\n",
    "# Apply the imputation function only for missing values in 'Zip Code' for X_train, X_val, and df_test\n",
    "X_train['Zip Code'] = X_train.apply(lambda row: impute_zip_code(row) if pd.isna(row['Zip Code']) else row['Zip Code'], axis=1)\n",
    "X_val['Zip Code'] = X_val.apply(lambda row: impute_zip_code(row) if pd.isna(row['Zip Code']) else row['Zip Code'], axis=1)\n",
    "df_test['Zip Code'] = df_test.apply(lambda row: impute_zip_code(row) if pd.isna(row['Zip Code']) else row['Zip Code'], axis=1)"
   ]
  },
  {
   "cell_type": "markdown",
   "metadata": {},
   "source": [
    "### 4.2.6. Handling Missing Values in `Birth Year` <a class=\"anchor\" id=\"sub_section_4_2_6\"></a>\n",
    "[Back to 4.2. Missing Values](#section_4_2)<br>\n",
    "\n",
    "\n",
    "To impute missing values in the `Birth Year` feature, we use the `Accident Date` and `Age at Injury`. If both `Accident Date` and `Age at Injury` are available, we can calculate the `Birth Year` by subtracting `Age at Injury` from the year of `Accident Date`."
   ]
  },
  {
   "cell_type": "code",
   "execution_count": 37,
   "metadata": {},
   "outputs": [],
   "source": [
    "# Ensure 'Assembly Date' is in datetime format for all datasets\n",
    "X_train['Accident Date'] = pd.to_datetime(X_train['Accident Date'], errors='coerce')\n",
    "X_val['Accident Date'] = pd.to_datetime(X_val['Accident Date'], errors='coerce')\n",
    "df_test['Accident Date'] = pd.to_datetime(df_test['Accident Date'], errors='coerce')\n",
    "\n",
    "# Define a function to impute 'Birth Year' based on 'Assembly Date' and 'Age at Injury'\n",
    "def impute_birth_year(row):\n",
    "    if pd.isna(row['Birth Year']):\n",
    "        if pd.notna(row['Accident Date']) and pd.notna(row['Age at Injury']):\n",
    "            # Calculate birth year by subtracting age at injury from assembly year\n",
    "            assembly_year = row['Accident Date'].year\n",
    "            return float(assembly_year - row['Age at Injury'])\n",
    "    return row['Birth Year']\n",
    "\n",
    "# Apply the imputation function only for missing values in 'Birth Year' for X_train, X_val, and df_test\n",
    "X_train['Birth Year'] = X_train.apply(lambda row: impute_birth_year(row) if pd.isna(row['Birth Year']) else row['Birth Year'], axis=1)\n",
    "X_val['Birth Year'] = X_val.apply(lambda row: impute_birth_year(row) if pd.isna(row['Birth Year']) else row['Birth Year'], axis=1)\n",
    "df_test['Birth Year'] = df_test.apply(lambda row: impute_birth_year(row) if pd.isna(row['Birth Year']) else row['Birth Year'], axis=1)"
   ]
  },
  {
   "cell_type": "markdown",
   "metadata": {},
   "source": [
    "### 4.2.7. Handling Missing Values in Injury Codes <a class=\"anchor\" id=\"sub_section_4_2_7\"></a>\n",
    "[Back to 4.2. Missing Values](#section_4_2)<br>\n",
    "\n",
    "\n",
    "According to the data dictionary from data.ny.gov, when the fields WCIO Cause of Injury Code, WCIO Nature of Injury Code, and WCIO Part of the Body Code are NaN, it indicates that the field is not applicable to the claim.\n",
    "\n",
    "Based on this information, we will replace the NaN values in these fields with 0 to indicate \"not applicable\" instead of leaving them as missing values."
   ]
  },
  {
   "cell_type": "code",
   "execution_count": 38,
   "metadata": {},
   "outputs": [],
   "source": [
    "# Replace NaN values in specified columns with 0 to indicate \"No form received\"\n",
    "columns_to_update = ['WCIO Cause of Injury Code', 'WCIO Nature of Injury Code', 'WCIO Part Of Body Code']\n",
    "X_train[columns_to_update] = X_train[columns_to_update].fillna(0)\n",
    "X_val[columns_to_update] = X_val[columns_to_update].fillna(0)\n",
    "df_test[columns_to_update] = df_test[columns_to_update].fillna(0)"
   ]
  },
  {
   "cell_type": "markdown",
   "metadata": {},
   "source": [
    "### 4.2.8. Handling Missing Values in Age at Injury and Birth Year <a class=\"anchor\" id=\"sub_section_4_2_8\"></a>\n",
    "[Back to 4.2. Missing Values](#section_4_2)<br>"
   ]
  },
  {
   "cell_type": "code",
   "execution_count": 39,
   "metadata": {},
   "outputs": [
    {
     "data": {
      "text/plain": [
       "np.float64(10.454924556692994)"
      ]
     },
     "execution_count": 39,
     "metadata": {},
     "output_type": "execute_result"
    }
   ],
   "source": [
    "X_train['Age at Injury'].isnull().mean() * 100"
   ]
  },
  {
   "cell_type": "markdown",
   "metadata": {},
   "source": [
    "We still have 10% missing values in the Age at Injury column. To address this, we will compute the mean of the column (ignoring missing values), fill the missing entries with the computed mean, and then convert the column to integers to align with real-world data representation."
   ]
  },
  {
   "cell_type": "code",
   "execution_count": 40,
   "metadata": {},
   "outputs": [],
   "source": [
    "# Compute the mean of 'Age at Injury', ignoring NaN values\n",
    "age_mean = X_train['Age at Injury'].mean()\n",
    "\n",
    "# Fill missing values with the mean and convert to integers\n",
    "X_train['Age at Injury'] = X_train['Age at Injury'].fillna(age_mean).astype(int)\n",
    "X_val['Age at Injury'] = X_val['Age at Injury'].fillna(age_mean).astype(int)\n",
    "df_test['Age at Injury'] = df_test['Age at Injury'].fillna(age_mean).astype(int)"
   ]
  },
  {
   "cell_type": "code",
   "execution_count": 41,
   "metadata": {},
   "outputs": [
    {
     "data": {
      "text/plain": [
       "np.float64(0.0)"
      ]
     },
     "execution_count": 41,
     "metadata": {},
     "output_type": "execute_result"
    }
   ],
   "source": [
    "X_train['Age at Injury'].isnull().mean() * 100"
   ]
  },
  {
   "cell_type": "markdown",
   "metadata": {},
   "source": [
    "Now that the Age at Injury column has no missing values, we can calculate the missing values in the Birth Year column by using the difference between the Age at Injury and the year extracted from the Accident Date. This approach assumes that the Age at Injury is accurate and that the Accident Date has valid year information.\n",
    "\n",
    "This imputation method is logical as it directly relates to the individual's age at the time of the accident, ensuring consistency between these features."
   ]
  },
  {
   "cell_type": "code",
   "execution_count": 42,
   "metadata": {},
   "outputs": [
    {
     "name": "stdout",
     "output_type": "stream",
     "text": [
      "Updated 'Birth Year' column in X_train:\n",
      "405\n"
     ]
    }
   ],
   "source": [
    "# Extract the year from the 'Accident Date'\n",
    "X_train['Accident Year'] = pd.to_datetime(X_train['Accident Date']).dt.year\n",
    "X_val['Accident Year'] = pd.to_datetime(X_val['Accident Date']).dt.year\n",
    "df_test['Accident Year'] = pd.to_datetime(df_test['Accident Date']).dt.year\n",
    "\n",
    "# Calculate 'Birth Year' where missing, using 'Accident Year' - 'Age at Injury'\n",
    "X_train['Birth Year'] = X_train['Birth Year'].fillna(X_train['Accident Year'] - X_train['Age at Injury'])\n",
    "X_val['Birth Year'] = X_val['Birth Year'].fillna(X_val['Accident Year'] - X_val['Age at Injury'])\n",
    "df_test['Birth Year'] = df_test['Birth Year'].fillna(df_test['Accident Year'] - df_test['Age at Injury'])\n",
    "\n",
    "# Verify the changes\n",
    "print(\"Updated 'Birth Year' column in X_train:\")\n",
    "print(X_train['Birth Year'].isnull().sum())"
   ]
  },
  {
   "cell_type": "code",
   "execution_count": 43,
   "metadata": {},
   "outputs": [],
   "source": [
    "#Dropping the Accident Year columns\n",
    "X_train.drop('Accident Year', axis=1, inplace=True)\n",
    "X_val.drop('Accident Year', axis=1, inplace=True)\n",
    "df_test.drop('Accident Year', axis=1, inplace=True)"
   ]
  },
  {
   "cell_type": "markdown",
   "metadata": {},
   "source": [
    "### 4.2.8. Remaining Missing Values <a class=\"anchor\" id=\"sub_section_4_2_8\"></a>\n",
    "[Back to 4.2. Missing Values](#section_4_2)<br>\n"
   ]
  },
  {
   "cell_type": "markdown",
   "metadata": {},
   "source": [
    "After addressing the missing values, we check the percentage of missing values in `X_train`. This will guide us on further preprocessing steps to handle any remaining missing data.\n"
   ]
  },
  {
   "cell_type": "code",
   "execution_count": 44,
   "metadata": {},
   "outputs": [
    {
     "data": {
      "text/plain": [
       "Claim Identifier              0.000000\n",
       "Accident Date                 0.642177\n",
       "Age at Injury                 0.000000\n",
       "Assembly Date                 0.251078\n",
       "Attorney/Representative       0.000000\n",
       "Average Weekly Wage           0.000000\n",
       "Birth Year                    0.088193\n",
       "C-2 Date                      0.000000\n",
       "C-3 Date                      0.000000\n",
       "Carrier Name                  0.000000\n",
       "Carrier Type                  0.000000\n",
       "County of Injury              0.000000\n",
       "COVID-19 Indicator            0.000000\n",
       "District Name                 0.000000\n",
       "First Hearing Date            0.000000\n",
       "Gender                        0.000000\n",
       "IME-4 Count                   0.000000\n",
       "Industry Code                 0.000000\n",
       "Medical Fee Region            0.000000\n",
       "WCIO Cause of Injury Code     0.000000\n",
       "WCIO Nature of Injury Code    0.000000\n",
       "WCIO Part Of Body Code        0.000000\n",
       "Zip Code                      0.000653\n",
       "Agreement Reached             0.000000\n",
       "Number of Dependents          0.000000\n",
       "dtype: float64"
      ]
     },
     "execution_count": 44,
     "metadata": {},
     "output_type": "execute_result"
    }
   ],
   "source": [
    "# Calculate the percentage of missing values in df_test\n",
    "missing_percentage = X_train.isnull().mean() * 100\n",
    "missing_percentage"
   ]
  },
  {
   "cell_type": "code",
   "execution_count": 45,
   "metadata": {},
   "outputs": [
    {
     "name": "stdout",
     "output_type": "stream",
     "text": [
      "Percentage of rows with missing values (excluding 'Age at Injury'): 0.89%\n"
     ]
    }
   ],
   "source": [
    "# Check percentage of rows with missing values, excluding both 'First Hearing Date' and 'Age at Injury'\n",
    "missing_values = X_train[X_train.columns].isna().any(axis=1)\n",
    "percentage_missing = (missing_values.sum() / len(X_train)) * 100\n",
    "print(f\"Percentage of rows with missing values (excluding 'Age at Injury'): {percentage_missing:.2f}%\")"
   ]
  },
  {
   "cell_type": "markdown",
   "metadata": {},
   "source": [
    "In this section, we address the missing values in key columns using the following strategies:\n",
    "\n",
    "- **Accident Date**: Missing values will be imputed using the mode. <br>\n",
    "- **Birth Year**: Once the Accident Date is complete, missing Birth Year values will be calculated as the year extracted from the Accident Date minus Age at Injury.<br>\n",
    "- **Zip Code**: Missing values will be imputed using the mode.<br>\n",
    "- **Assembly Date**: Missing values will be filled using the mean difference in days between Accident Date and Assembly Date from the training dataset.<br>"
   ]
  },
  {
   "cell_type": "code",
   "execution_count": 46,
   "metadata": {},
   "outputs": [
    {
     "name": "stdout",
     "output_type": "stream",
     "text": [
      "Accident Date missing values after filling: 0 0 0\n"
     ]
    }
   ],
   "source": [
    "# Fill missing Accident Date with mode\n",
    "accident_date_mode = X_train['Accident Date'].mode()[0]\n",
    "X_train['Accident Date'] = X_train['Accident Date'].fillna(accident_date_mode)\n",
    "X_val['Accident Date'] = X_val['Accident Date'].fillna(accident_date_mode)\n",
    "df_test['Accident Date'] = df_test['Accident Date'].fillna(accident_date_mode)\n",
    "\n",
    "print(\"Accident Date missing values after filling:\", \n",
    "      X_train['Accident Date'].isnull().sum(), \n",
    "      X_val['Accident Date'].isnull().sum(), \n",
    "      df_test['Accident Date'].isnull().sum())\n"
   ]
  },
  {
   "cell_type": "code",
   "execution_count": 47,
   "metadata": {},
   "outputs": [
    {
     "name": "stdout",
     "output_type": "stream",
     "text": [
      "Birth Year missing values after calculation: 0 0 0\n"
     ]
    }
   ],
   "source": [
    "# Extract Accident Year from Accident Date\n",
    "X_train['Accident Year'] = pd.to_datetime(X_train['Accident Date']).dt.year\n",
    "X_val['Accident Year'] = pd.to_datetime(X_val['Accident Date']).dt.year\n",
    "df_test['Accident Year'] = pd.to_datetime(df_test['Accident Date']).dt.year\n",
    "\n",
    "# Calculate Birth Year as Accident Year - Age at Injury\n",
    "X_train['Birth Year'] = X_train['Birth Year'].fillna(X_train['Accident Year'] - X_train['Age at Injury'])\n",
    "X_val['Birth Year'] = X_val['Birth Year'].fillna(X_val['Accident Year'] - X_val['Age at Injury'])\n",
    "df_test['Birth Year'] = df_test['Birth Year'].fillna(df_test['Accident Year'] - df_test['Age at Injury'])\n",
    "\n",
    "# Convert to integers\n",
    "X_train['Birth Year'] = X_train['Birth Year'].astype(int)\n",
    "X_val['Birth Year'] = X_val['Birth Year'].astype(int)\n",
    "df_test['Birth Year'] = df_test['Birth Year'].astype(int)\n",
    "\n",
    "print(\"Birth Year missing values after calculation:\", \n",
    "      X_train['Birth Year'].isnull().sum(),\n",
    "      X_val['Birth Year'].isnull().sum(),\n",
    "      df_test['Birth Year'].isnull().sum())"
   ]
  },
  {
   "cell_type": "markdown",
   "metadata": {},
   "source": [
    "Now the Zip Code."
   ]
  },
  {
   "cell_type": "code",
   "execution_count": 48,
   "metadata": {},
   "outputs": [
    {
     "name": "stdout",
     "output_type": "stream",
     "text": [
      "Zip Code missing values after filling: 0 0 0\n"
     ]
    }
   ],
   "source": [
    "# Fill missing Zip Code with mode\n",
    "zip_code_mode = X_train['Zip Code'].mode()[0]\n",
    "X_train['Zip Code'] = X_train['Zip Code'].fillna(zip_code_mode)\n",
    "X_val['Zip Code'] = X_val['Zip Code'].fillna(zip_code_mode)\n",
    "df_test['Zip Code'] = df_test['Zip Code'].fillna(zip_code_mode)\n",
    "\n",
    "print(\"Zip Code missing values after filling:\", \n",
    "      X_train['Zip Code'].isnull().sum(),\n",
    "      X_val['Zip Code'].isnull().sum(),\n",
    "      df_test['Zip Code'].isnull().sum())"
   ]
  },
  {
   "cell_type": "code",
   "execution_count": 49,
   "metadata": {},
   "outputs": [
    {
     "name": "stdout",
     "output_type": "stream",
     "text": [
      "Assembly Date missing values after filling: 0 0 0\n"
     ]
    }
   ],
   "source": [
    "# Calculate mean difference in days between Accident Date and Assembly Date\n",
    "X_train['Accident Date'] = pd.to_datetime(X_train['Accident Date'])\n",
    "X_train['Assembly Date'] = pd.to_datetime(X_train['Assembly Date'])\n",
    "mean_days_diff = (X_train['Assembly Date'] - X_train['Accident Date']).dt.days.mean()\n",
    "\n",
    "# Fill Assembly Date based on Accident Date + mean_days_diff\n",
    "X_train['Assembly Date'] = X_train['Assembly Date'].fillna(X_train['Accident Date'] + pd.to_timedelta(mean_days_diff, unit='D'))\n",
    "X_val['Assembly Date'] = X_val['Assembly Date'].fillna(X_val['Accident Date'] + pd.to_timedelta(mean_days_diff, unit='D'))\n",
    "df_test['Assembly Date'] = df_test['Assembly Date'].fillna(df_test['Accident Date'] + pd.to_timedelta(mean_days_diff, unit='D'))\n",
    "\n",
    "print(\"Assembly Date missing values after filling:\", \n",
    "      X_train['Assembly Date'].isnull().sum(),\n",
    "      X_val['Assembly Date'].isnull().sum(),\n",
    "      df_test['Assembly Date'].isnull().sum())"
   ]
  },
  {
   "cell_type": "markdown",
   "metadata": {},
   "source": [
    "Now have both Birth Year and Accident Date without missing values, recalculating Age at Injury based on these fields ensures consistency in your dataset"
   ]
  },
  {
   "cell_type": "code",
   "execution_count": 50,
   "metadata": {},
   "outputs": [],
   "source": [
    "# Recalculate Age at Injury based on Birth Year and Accident Date\n",
    "X_train['Age at Injury'] = X_train['Accident Date'].dt.year - X_train['Birth Year']\n",
    "X_val['Age at Injury'] = X_val['Accident Date'].dt.year - X_val['Birth Year']\n",
    "df_test['Age at Injury'] = df_test['Accident Date'].dt.year - df_test['Birth Year']"
   ]
  },
  {
   "cell_type": "markdown",
   "metadata": {},
   "source": [
    "Now that we have handled all missing values in the dataset, we will perform a final check to ensure there are no remaining missing values in the training, validation, and test datasets. This step is crucial to confirm that the data is ready for downstream tasks such as feature selection and modeling."
   ]
  },
  {
   "cell_type": "code",
   "execution_count": 51,
   "metadata": {},
   "outputs": [
    {
     "name": "stdout",
     "output_type": "stream",
     "text": [
      "Percentage of rows with missing values in Training Data: 0.00%\n",
      "Percentage of rows with missing values in Validation Data: 0.00%\n",
      "Percentage of rows with missing values in Test Data: 0.00%\n"
     ]
    }
   ],
   "source": [
    "# Check for missing values in training data\n",
    "missing_values_train = X_train.isna().any(axis=1)\n",
    "percentage_missing_train = (missing_values_train.sum() / len(X_train)) * 100\n",
    "print(f\"Percentage of rows with missing values in Training Data: {percentage_missing_train:.2f}%\")\n",
    "\n",
    "# Check for missing values in validation data\n",
    "missing_values_val = X_val.isna().any(axis=1)\n",
    "percentage_missing_val = (missing_values_val.sum() / len(X_val)) * 100\n",
    "print(f\"Percentage of rows with missing values in Validation Data: {percentage_missing_val:.2f}%\")\n",
    "\n",
    "# Check for missing values in test data\n",
    "missing_values_test = df_test.isna().any(axis=1)\n",
    "percentage_missing_test = (missing_values_test.sum() / len(df_test)) * 100\n",
    "print(f\"Percentage of rows with missing values in Test Data: {percentage_missing_test:.2f}%\")"
   ]
  },
  {
   "cell_type": "markdown",
   "metadata": {},
   "source": [
    "\n",
    "# 5. Save Dataset for Feature Engineering <a class=\"anchor\" id=\"chapter5\"></a>\n",
    "\n",
    "[Back to ToC](#toc)<br>\n",
    "\n",
    "In this section, we save the datasets after completing the initial preprocessing steps to prepare them for feature engineering and encoding in the next notebook. These datasets include all necessary corrections and cleaned features, ensuring a robust foundation for creating and encoding new features tailored to improve model performance."
   ]
  },
  {
   "cell_type": "code",
   "execution_count": 52,
   "metadata": {},
   "outputs": [
    {
     "name": "stdout",
     "output_type": "stream",
     "text": [
      "Datasets saved successfully for Feature Engineering & Encoding Notebook:\n",
      "Training features saved to: ../processed_datasets\\X_train_preprocessed.csv\n",
      "Training target saved to: ../processed_datasets\\y_train_preprocessed.npy\n",
      "Validation features saved to: ../processed_datasets\\X_val_preprocessed.csv\n",
      "Validation target saved to: ../processed_datasets\\y_val_preprocessed.npy\n",
      "Test data saved to: ../processed_datasets\\df_test_preprocessed.csv\n"
     ]
    }
   ],
   "source": [
    "import os\n",
    "import numpy as np\n",
    "\n",
    "# Define output directory for the next notebook\n",
    "output_folder = \"../processed_datasets\"\n",
    "os.makedirs(output_folder, exist_ok=True)\n",
    "\n",
    "# Paths for saving datasets\n",
    "X_train_path = os.path.join(output_folder, \"X_train_preprocessed.csv\")\n",
    "y_train_path = os.path.join(output_folder, \"y_train_preprocessed.npy\")\n",
    "X_val_path = os.path.join(output_folder, \"X_val_preprocessed.csv\")\n",
    "y_val_path = os.path.join(output_folder, \"y_val_preprocessed.npy\")\n",
    "df_test_path = os.path.join(output_folder, \"df_test_preprocessed.csv\")\n",
    "\n",
    "# Save X datasets to CSV\n",
    "X_train.to_csv(X_train_path, index=True)\n",
    "X_val.to_csv(X_val_path, index=True)\n",
    "df_test.to_csv(df_test_path, index=True)\n",
    "\n",
    "# Save y datasets to NPY\n",
    "np.save(y_train_path, y_train)\n",
    "np.save(y_val_path, y_val)\n",
    "\n",
    "# Confirmation messages\n",
    "print(\"Datasets saved successfully for Feature Engineering & Encoding Notebook:\")\n",
    "print(f\"Training features saved to: {X_train_path}\")\n",
    "print(f\"Training target saved to: {y_train_path}\")\n",
    "print(f\"Validation features saved to: {X_val_path}\")\n",
    "print(f\"Validation target saved to: {y_val_path}\")\n",
    "print(f\"Test data saved to: {df_test_path}\")\n"
   ]
  }
 ],
 "metadata": {
  "kernelspec": {
   "display_name": "Python 3",
   "language": "python",
   "name": "python3"
  },
  "language_info": {
   "codemirror_mode": {
    "name": "ipython",
    "version": 3
   },
   "file_extension": ".py",
   "mimetype": "text/x-python",
   "name": "python",
   "nbconvert_exporter": "python",
   "pygments_lexer": "ipython3",
   "version": "3.12.0"
  }
 },
 "nbformat": 4,
 "nbformat_minor": 2
}
