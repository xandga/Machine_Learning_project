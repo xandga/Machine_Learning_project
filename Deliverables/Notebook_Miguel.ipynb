{
 "cells": [
  {
   "cell_type": "code",
   "execution_count": 2,
   "id": "43152dca-4c0c-460d-9ae3-4683c2ab9355",
   "metadata": {},
   "outputs": [
    {
     "name": "stdout",
     "output_type": "stream",
     "text": [
      "Requirement already satisfied: pandas in c:\\users\\xandg\\anaconda3\\lib\\site-packages (1.5.3)\n",
      "Requirement already satisfied: numpy in c:\\users\\xandg\\anaconda3\\lib\\site-packages (1.24.3)\n",
      "Requirement already satisfied: scikit-learn in c:\\users\\xandg\\anaconda3\\lib\\site-packages (1.2.2)\n",
      "Requirement already satisfied: matplotlib in c:\\users\\xandg\\anaconda3\\lib\\site-packages (3.7.1)\n",
      "Requirement already satisfied: seaborn in c:\\users\\xandg\\anaconda3\\lib\\site-packages (0.12.2)\n",
      "Requirement already satisfied: python-dateutil>=2.8.1 in c:\\users\\xandg\\anaconda3\\lib\\site-packages (from pandas) (2.8.2)\n",
      "Requirement already satisfied: pytz>=2020.1 in c:\\users\\xandg\\anaconda3\\lib\\site-packages (from pandas) (2022.7)\n",
      "Requirement already satisfied: scipy>=1.3.2 in c:\\users\\xandg\\anaconda3\\lib\\site-packages (from scikit-learn) (1.10.1)\n",
      "Requirement already satisfied: joblib>=1.1.1 in c:\\users\\xandg\\anaconda3\\lib\\site-packages (from scikit-learn) (1.2.0)\n",
      "Requirement already satisfied: threadpoolctl>=2.0.0 in c:\\users\\xandg\\anaconda3\\lib\\site-packages (from scikit-learn) (2.2.0)\n",
      "Requirement already satisfied: contourpy>=1.0.1 in c:\\users\\xandg\\anaconda3\\lib\\site-packages (from matplotlib) (1.0.5)\n",
      "Requirement already satisfied: cycler>=0.10 in c:\\users\\xandg\\anaconda3\\lib\\site-packages (from matplotlib) (0.11.0)\n",
      "Requirement already satisfied: fonttools>=4.22.0 in c:\\users\\xandg\\anaconda3\\lib\\site-packages (from matplotlib) (4.25.0)\n",
      "Requirement already satisfied: kiwisolver>=1.0.1 in c:\\users\\xandg\\anaconda3\\lib\\site-packages (from matplotlib) (1.4.4)\n",
      "Requirement already satisfied: packaging>=20.0 in c:\\users\\xandg\\anaconda3\\lib\\site-packages (from matplotlib) (23.0)\n",
      "Requirement already satisfied: pillow>=6.2.0 in c:\\users\\xandg\\anaconda3\\lib\\site-packages (from matplotlib) (9.4.0)\n",
      "Requirement already satisfied: pyparsing>=2.3.1 in c:\\users\\xandg\\anaconda3\\lib\\site-packages (from matplotlib) (2.4.7)\n",
      "Requirement already satisfied: six>=1.5 in c:\\users\\xandg\\anaconda3\\lib\\site-packages (from python-dateutil>=2.8.1->pandas) (1.16.0)\n"
     ]
    },
    {
     "name": "stderr",
     "output_type": "stream",
     "text": [
      "\n",
      "[notice] A new release of pip is available: 23.3.1 -> 24.2\n",
      "[notice] To update, run: python.exe -m pip install --upgrade pip\n"
     ]
    }
   ],
   "source": [
    "!pip install pandas numpy scikit-learn matplotlib seaborn\n",
    "import pandas as pd\n",
    "import numpy as np\n",
    "import matplotlib.pyplot as plt\n",
    "import seaborn as sns"
   ]
  },
  {
   "cell_type": "code",
   "execution_count": 1,
   "id": "61fdca71",
   "metadata": {},
   "outputs": [
    {
     "name": "stdout",
     "output_type": "stream",
     "text": [
      "Extraction complete.\n"
     ]
    }
   ],
   "source": [
    "import zipfile\n",
    "\n",
    "zip_path = r'../Data.zip'  # Adjust based on actual location\n",
    "extract_to_path = '../project_data'\n",
    "\n",
    "# Extract files\n",
    "with zipfile.ZipFile(zip_path, 'r') as zip_ref:\n",
    "    zip_ref.extractall(extract_to_path)\n",
    "\n",
    "print(\"Extraction complete.\")"
   ]
  },
  {
   "cell_type": "code",
   "execution_count": 3,
   "id": "19980b64-8990-4d49-8027-ca6646a543d8",
   "metadata": {},
   "outputs": [
    {
     "name": "stderr",
     "output_type": "stream",
     "text": [
      "C:\\Users\\xandg\\AppData\\Local\\Temp\\ipykernel_724\\2564130253.py:1: DtypeWarning: Columns (29) have mixed types. Specify dtype option on import or set low_memory=False.\n",
      "  df = pd.read_csv('../project_data/Data/train_data.csv')\n"
     ]
    }
   ],
   "source": [
    "df = pd.read_csv('../project_data/Data/train_data.csv')"
   ]
  },
  {
   "cell_type": "code",
   "execution_count": 4,
   "id": "2e2ebb32-fb52-447c-adcd-3e6be2144e29",
   "metadata": {},
   "outputs": [
    {
     "data": {
      "text/plain": [
       "593471"
      ]
     },
     "execution_count": 4,
     "metadata": {},
     "output_type": "execute_result"
    }
   ],
   "source": [
    "len(df)"
   ]
  },
  {
   "cell_type": "code",
   "execution_count": 326,
   "id": "625f1c20-d6fb-46fa-aa10-0c4ef5bf62d9",
   "metadata": {},
   "outputs": [
    {
     "data": {
      "text/html": [
       "<div>\n",
       "<style scoped>\n",
       "    .dataframe tbody tr th:only-of-type {\n",
       "        vertical-align: middle;\n",
       "    }\n",
       "\n",
       "    .dataframe tbody tr th {\n",
       "        vertical-align: top;\n",
       "    }\n",
       "\n",
       "    .dataframe thead th {\n",
       "        text-align: right;\n",
       "    }\n",
       "</style>\n",
       "<table border=\"1\" class=\"dataframe\">\n",
       "  <thead>\n",
       "    <tr style=\"text-align: right;\">\n",
       "      <th></th>\n",
       "      <th>Accident Date</th>\n",
       "      <th>Age at Injury</th>\n",
       "      <th>Alternative Dispute Resolution</th>\n",
       "      <th>Assembly Date</th>\n",
       "      <th>Attorney/Representative</th>\n",
       "      <th>Average Weekly Wage</th>\n",
       "      <th>Birth Year</th>\n",
       "      <th>C-2 Date</th>\n",
       "      <th>C-3 Date</th>\n",
       "      <th>Carrier Name</th>\n",
       "      <th>...</th>\n",
       "      <th>WCIO Cause of Injury Code</th>\n",
       "      <th>WCIO Cause of Injury Description</th>\n",
       "      <th>WCIO Nature of Injury Code</th>\n",
       "      <th>WCIO Nature of Injury Description</th>\n",
       "      <th>WCIO Part Of Body Code</th>\n",
       "      <th>WCIO Part Of Body Description</th>\n",
       "      <th>Zip Code</th>\n",
       "      <th>Agreement Reached</th>\n",
       "      <th>WCB Decision</th>\n",
       "      <th>Number of Dependents</th>\n",
       "    </tr>\n",
       "  </thead>\n",
       "  <tbody>\n",
       "    <tr>\n",
       "      <th>0</th>\n",
       "      <td>2019-12-30</td>\n",
       "      <td>31.0</td>\n",
       "      <td>N</td>\n",
       "      <td>2020-01-01</td>\n",
       "      <td>N</td>\n",
       "      <td>0.00</td>\n",
       "      <td>1988.0</td>\n",
       "      <td>2019-12-31</td>\n",
       "      <td>NaN</td>\n",
       "      <td>NEW HAMPSHIRE INSURANCE CO</td>\n",
       "      <td>...</td>\n",
       "      <td>27.0</td>\n",
       "      <td>FROM LIQUID OR GREASE SPILLS</td>\n",
       "      <td>10.0</td>\n",
       "      <td>CONTUSION</td>\n",
       "      <td>62.0</td>\n",
       "      <td>BUTTOCKS</td>\n",
       "      <td>13662</td>\n",
       "      <td>0.0</td>\n",
       "      <td>Not Work Related</td>\n",
       "      <td>1.0</td>\n",
       "    </tr>\n",
       "    <tr>\n",
       "      <th>1</th>\n",
       "      <td>2019-08-30</td>\n",
       "      <td>46.0</td>\n",
       "      <td>N</td>\n",
       "      <td>2020-01-01</td>\n",
       "      <td>Y</td>\n",
       "      <td>1745.93</td>\n",
       "      <td>1973.0</td>\n",
       "      <td>2020-01-01</td>\n",
       "      <td>2020-01-14</td>\n",
       "      <td>ZURICH AMERICAN INSURANCE CO</td>\n",
       "      <td>...</td>\n",
       "      <td>97.0</td>\n",
       "      <td>REPETITIVE MOTION</td>\n",
       "      <td>49.0</td>\n",
       "      <td>SPRAIN OR TEAR</td>\n",
       "      <td>38.0</td>\n",
       "      <td>SHOULDER(S)</td>\n",
       "      <td>14569</td>\n",
       "      <td>1.0</td>\n",
       "      <td>Not Work Related</td>\n",
       "      <td>4.0</td>\n",
       "    </tr>\n",
       "    <tr>\n",
       "      <th>2</th>\n",
       "      <td>2019-12-06</td>\n",
       "      <td>40.0</td>\n",
       "      <td>N</td>\n",
       "      <td>2020-01-01</td>\n",
       "      <td>N</td>\n",
       "      <td>1434.80</td>\n",
       "      <td>1979.0</td>\n",
       "      <td>2020-01-01</td>\n",
       "      <td>NaN</td>\n",
       "      <td>INDEMNITY INSURANCE CO OF</td>\n",
       "      <td>...</td>\n",
       "      <td>79.0</td>\n",
       "      <td>OBJECT BEING LIFTED OR HANDLED</td>\n",
       "      <td>7.0</td>\n",
       "      <td>CONCUSSION</td>\n",
       "      <td>10.0</td>\n",
       "      <td>MULTIPLE HEAD INJURY</td>\n",
       "      <td>12589</td>\n",
       "      <td>0.0</td>\n",
       "      <td>Not Work Related</td>\n",
       "      <td>6.0</td>\n",
       "    </tr>\n",
       "  </tbody>\n",
       "</table>\n",
       "<p>3 rows × 33 columns</p>\n",
       "</div>"
      ],
      "text/plain": [
       "  Accident Date  Age at Injury Alternative Dispute Resolution Assembly Date  \\\n",
       "0    2019-12-30           31.0                              N    2020-01-01   \n",
       "1    2019-08-30           46.0                              N    2020-01-01   \n",
       "2    2019-12-06           40.0                              N    2020-01-01   \n",
       "\n",
       "  Attorney/Representative  Average Weekly Wage  Birth Year    C-2 Date  \\\n",
       "0                       N                 0.00      1988.0  2019-12-31   \n",
       "1                       Y              1745.93      1973.0  2020-01-01   \n",
       "2                       N              1434.80      1979.0  2020-01-01   \n",
       "\n",
       "     C-3 Date                  Carrier Name  ... WCIO Cause of Injury Code  \\\n",
       "0         NaN    NEW HAMPSHIRE INSURANCE CO  ...                      27.0   \n",
       "1  2020-01-14  ZURICH AMERICAN INSURANCE CO  ...                      97.0   \n",
       "2         NaN     INDEMNITY INSURANCE CO OF  ...                      79.0   \n",
       "\n",
       "   WCIO Cause of Injury Description WCIO Nature of Injury Code  \\\n",
       "0      FROM LIQUID OR GREASE SPILLS                       10.0   \n",
       "1                 REPETITIVE MOTION                       49.0   \n",
       "2    OBJECT BEING LIFTED OR HANDLED                        7.0   \n",
       "\n",
       "  WCIO Nature of Injury Description WCIO Part Of Body Code  \\\n",
       "0                         CONTUSION                   62.0   \n",
       "1                    SPRAIN OR TEAR                   38.0   \n",
       "2                        CONCUSSION                   10.0   \n",
       "\n",
       "  WCIO Part Of Body Description Zip Code Agreement Reached      WCB Decision  \\\n",
       "0                      BUTTOCKS    13662               0.0  Not Work Related   \n",
       "1                   SHOULDER(S)    14569               1.0  Not Work Related   \n",
       "2          MULTIPLE HEAD INJURY    12589               0.0  Not Work Related   \n",
       "\n",
       "   Number of Dependents  \n",
       "0                   1.0  \n",
       "1                   4.0  \n",
       "2                   6.0  \n",
       "\n",
       "[3 rows x 33 columns]"
      ]
     },
     "execution_count": 326,
     "metadata": {},
     "output_type": "execute_result"
    }
   ],
   "source": [
    "df.head(3)"
   ]
  },
  {
   "cell_type": "code",
   "execution_count": 336,
   "id": "2425946f-c35d-4ce6-8e82-b0883caacb67",
   "metadata": {},
   "outputs": [],
   "source": [
    "'''ideia 1- vamos ver se OIIC nature nao tem valores e caso seja o caso remover a coluna'''\n",
    "coluna = df['OIICS Nature of Injury Description']\n",
    "coluna.head(3)\n",
    "coluna.isnull().sum()\n",
    "df = df.drop('OIICS Nature of Injury Description', axis=1)"
   ]
  },
  {
   "cell_type": "code",
   "execution_count": 338,
   "id": "58e67fea-442d-4f1c-9b9c-a93eb92e9af2",
   "metadata": {},
   "outputs": [
    {
     "data": {
      "text/html": [
       "<div>\n",
       "<style scoped>\n",
       "    .dataframe tbody tr th:only-of-type {\n",
       "        vertical-align: middle;\n",
       "    }\n",
       "\n",
       "    .dataframe tbody tr th {\n",
       "        vertical-align: top;\n",
       "    }\n",
       "\n",
       "    .dataframe thead th {\n",
       "        text-align: right;\n",
       "    }\n",
       "</style>\n",
       "<table border=\"1\" class=\"dataframe\">\n",
       "  <thead>\n",
       "    <tr style=\"text-align: right;\">\n",
       "      <th></th>\n",
       "      <th>Accident Date</th>\n",
       "      <th>Age at Injury</th>\n",
       "      <th>Alternative Dispute Resolution</th>\n",
       "      <th>Assembly Date</th>\n",
       "      <th>Attorney/Representative</th>\n",
       "      <th>Average Weekly Wage</th>\n",
       "      <th>Birth Year</th>\n",
       "      <th>C-2 Date</th>\n",
       "      <th>C-3 Date</th>\n",
       "      <th>Carrier Name</th>\n",
       "      <th>...</th>\n",
       "      <th>WCIO Cause of Injury Code</th>\n",
       "      <th>WCIO Cause of Injury Description</th>\n",
       "      <th>WCIO Nature of Injury Code</th>\n",
       "      <th>WCIO Nature of Injury Description</th>\n",
       "      <th>WCIO Part Of Body Code</th>\n",
       "      <th>WCIO Part Of Body Description</th>\n",
       "      <th>Zip Code</th>\n",
       "      <th>Agreement Reached</th>\n",
       "      <th>WCB Decision</th>\n",
       "      <th>Number of Dependents</th>\n",
       "    </tr>\n",
       "  </thead>\n",
       "  <tbody>\n",
       "    <tr>\n",
       "      <th>0</th>\n",
       "      <td>2019-12-30</td>\n",
       "      <td>31.0</td>\n",
       "      <td>N</td>\n",
       "      <td>2020-01-01</td>\n",
       "      <td>N</td>\n",
       "      <td>0.00</td>\n",
       "      <td>1988.0</td>\n",
       "      <td>2019-12-31</td>\n",
       "      <td>NaN</td>\n",
       "      <td>NEW HAMPSHIRE INSURANCE CO</td>\n",
       "      <td>...</td>\n",
       "      <td>27.0</td>\n",
       "      <td>FROM LIQUID OR GREASE SPILLS</td>\n",
       "      <td>10.0</td>\n",
       "      <td>CONTUSION</td>\n",
       "      <td>62.0</td>\n",
       "      <td>BUTTOCKS</td>\n",
       "      <td>13662</td>\n",
       "      <td>0.0</td>\n",
       "      <td>Not Work Related</td>\n",
       "      <td>1.0</td>\n",
       "    </tr>\n",
       "    <tr>\n",
       "      <th>1</th>\n",
       "      <td>2019-08-30</td>\n",
       "      <td>46.0</td>\n",
       "      <td>N</td>\n",
       "      <td>2020-01-01</td>\n",
       "      <td>Y</td>\n",
       "      <td>1745.93</td>\n",
       "      <td>1973.0</td>\n",
       "      <td>2020-01-01</td>\n",
       "      <td>2020-01-14</td>\n",
       "      <td>ZURICH AMERICAN INSURANCE CO</td>\n",
       "      <td>...</td>\n",
       "      <td>97.0</td>\n",
       "      <td>REPETITIVE MOTION</td>\n",
       "      <td>49.0</td>\n",
       "      <td>SPRAIN OR TEAR</td>\n",
       "      <td>38.0</td>\n",
       "      <td>SHOULDER(S)</td>\n",
       "      <td>14569</td>\n",
       "      <td>1.0</td>\n",
       "      <td>Not Work Related</td>\n",
       "      <td>4.0</td>\n",
       "    </tr>\n",
       "    <tr>\n",
       "      <th>2</th>\n",
       "      <td>2019-12-06</td>\n",
       "      <td>40.0</td>\n",
       "      <td>N</td>\n",
       "      <td>2020-01-01</td>\n",
       "      <td>N</td>\n",
       "      <td>1434.80</td>\n",
       "      <td>1979.0</td>\n",
       "      <td>2020-01-01</td>\n",
       "      <td>NaN</td>\n",
       "      <td>INDEMNITY INSURANCE CO OF</td>\n",
       "      <td>...</td>\n",
       "      <td>79.0</td>\n",
       "      <td>OBJECT BEING LIFTED OR HANDLED</td>\n",
       "      <td>7.0</td>\n",
       "      <td>CONCUSSION</td>\n",
       "      <td>10.0</td>\n",
       "      <td>MULTIPLE HEAD INJURY</td>\n",
       "      <td>12589</td>\n",
       "      <td>0.0</td>\n",
       "      <td>Not Work Related</td>\n",
       "      <td>6.0</td>\n",
       "    </tr>\n",
       "  </tbody>\n",
       "</table>\n",
       "<p>3 rows × 32 columns</p>\n",
       "</div>"
      ],
      "text/plain": [
       "  Accident Date  Age at Injury Alternative Dispute Resolution Assembly Date  \\\n",
       "0    2019-12-30           31.0                              N    2020-01-01   \n",
       "1    2019-08-30           46.0                              N    2020-01-01   \n",
       "2    2019-12-06           40.0                              N    2020-01-01   \n",
       "\n",
       "  Attorney/Representative  Average Weekly Wage  Birth Year    C-2 Date  \\\n",
       "0                       N                 0.00      1988.0  2019-12-31   \n",
       "1                       Y              1745.93      1973.0  2020-01-01   \n",
       "2                       N              1434.80      1979.0  2020-01-01   \n",
       "\n",
       "     C-3 Date                  Carrier Name  ... WCIO Cause of Injury Code  \\\n",
       "0         NaN    NEW HAMPSHIRE INSURANCE CO  ...                      27.0   \n",
       "1  2020-01-14  ZURICH AMERICAN INSURANCE CO  ...                      97.0   \n",
       "2         NaN     INDEMNITY INSURANCE CO OF  ...                      79.0   \n",
       "\n",
       "   WCIO Cause of Injury Description WCIO Nature of Injury Code  \\\n",
       "0      FROM LIQUID OR GREASE SPILLS                       10.0   \n",
       "1                 REPETITIVE MOTION                       49.0   \n",
       "2    OBJECT BEING LIFTED OR HANDLED                        7.0   \n",
       "\n",
       "  WCIO Nature of Injury Description WCIO Part Of Body Code  \\\n",
       "0                         CONTUSION                   62.0   \n",
       "1                    SPRAIN OR TEAR                   38.0   \n",
       "2                        CONCUSSION                   10.0   \n",
       "\n",
       "  WCIO Part Of Body Description Zip Code Agreement Reached      WCB Decision  \\\n",
       "0                      BUTTOCKS    13662               0.0  Not Work Related   \n",
       "1                   SHOULDER(S)    14569               1.0  Not Work Related   \n",
       "2          MULTIPLE HEAD INJURY    12589               0.0  Not Work Related   \n",
       "\n",
       "   Number of Dependents  \n",
       "0                   1.0  \n",
       "1                   4.0  \n",
       "2                   6.0  \n",
       "\n",
       "[3 rows x 32 columns]"
      ]
     },
     "execution_count": 338,
     "metadata": {},
     "output_type": "execute_result"
    }
   ],
   "source": [
    "'''ideia 2- retirar as linhas que não mostram a decisão final'''\n",
    "df = df.dropna(subset=['Claim Injury Type'])\n",
    "df.head(3)"
   ]
  },
  {
   "cell_type": "code",
   "execution_count": 340,
   "id": "09617c1f-7285-4de7-af82-64a45ee2ca6b",
   "metadata": {},
   "outputs": [
    {
     "name": "stdout",
     "output_type": "stream",
     "text": [
      "<class 'pandas.core.frame.DataFrame'>\n",
      "Index: 574026 entries, 0 to 593467\n",
      "Data columns (total 32 columns):\n",
      " #   Column                             Non-Null Count   Dtype  \n",
      "---  ------                             --------------   -----  \n",
      " 0   Accident Date                      570337 non-null  object \n",
      " 1   Age at Injury                      574026 non-null  float64\n",
      " 2   Alternative Dispute Resolution     574026 non-null  object \n",
      " 3   Assembly Date                      574026 non-null  object \n",
      " 4   Attorney/Representative            574026 non-null  object \n",
      " 5   Average Weekly Wage                545375 non-null  float64\n",
      " 6   Birth Year                         544948 non-null  float64\n",
      " 7   C-2 Date                           559466 non-null  object \n",
      " 8   C-3 Date                           187245 non-null  object \n",
      " 9   Carrier Name                       574026 non-null  object \n",
      " 10  Carrier Type                       574026 non-null  object \n",
      " 11  Claim Identifier                   574026 non-null  int64  \n",
      " 12  Claim Injury Type                  574026 non-null  object \n",
      " 13  County of Injury                   574026 non-null  object \n",
      " 14  COVID-19 Indicator                 574026 non-null  object \n",
      " 15  District Name                      574026 non-null  object \n",
      " 16  First Hearing Date                 150798 non-null  object \n",
      " 17  Gender                             574026 non-null  object \n",
      " 18  IME-4 Count                        132803 non-null  float64\n",
      " 19  Industry Code                      564068 non-null  float64\n",
      " 20  Industry Code Description          564068 non-null  object \n",
      " 21  Medical Fee Region                 574026 non-null  object \n",
      " 22  WCIO Cause of Injury Code          558386 non-null  float64\n",
      " 23  WCIO Cause of Injury Description   558386 non-null  object \n",
      " 24  WCIO Nature of Injury Code         558369 non-null  float64\n",
      " 25  WCIO Nature of Injury Description  558369 non-null  object \n",
      " 26  WCIO Part Of Body Code             556944 non-null  float64\n",
      " 27  WCIO Part Of Body Description      556944 non-null  object \n",
      " 28  Zip Code                           545389 non-null  object \n",
      " 29  Agreement Reached                  574026 non-null  float64\n",
      " 30  WCB Decision                       574026 non-null  object \n",
      " 31  Number of Dependents               574026 non-null  float64\n",
      "dtypes: float64(10), int64(1), object(21)\n",
      "memory usage: 144.5+ MB\n"
     ]
    }
   ],
   "source": [
    "df.info()"
   ]
  },
  {
   "cell_type": "code",
   "execution_count": 342,
   "id": "6d06a7bd-123e-4710-a3e9-c5f74f8729b4",
   "metadata": {},
   "outputs": [
    {
     "data": {
      "text/plain": [
       "array(['N', 'Y'], dtype=object)"
      ]
     },
     "execution_count": 342,
     "metadata": {},
     "output_type": "execute_result"
    }
   ],
   "source": [
    "'''ideia 3- eu desconfio que se existe um advogado envolvido existe mais chance de ser concedida a baixa'''\n",
    "df['Attorney/Representative'].unique()"
   ]
  },
  {
   "cell_type": "code",
   "execution_count": 344,
   "id": "1de7987d-2148-48c0-b2f9-45b83b6c0d31",
   "metadata": {},
   "outputs": [
    {
     "data": {
      "text/plain": [
       "<Axes: ylabel='count'>"
      ]
     },
     "execution_count": 344,
     "metadata": {},
     "output_type": "execute_result"
    },
    {
     "data": {
      "image/png": "[encoded data removed]",
      "text/plain": [
       "<Figure size 640x480 with 1 Axes>"
      ]
     },
     "metadata": {},
     "output_type": "display_data"
    }
   ],
   "source": [
    "#com advogado\n",
    "data_atorney_y = df[df['Attorney/Representative'] == 'Y']\n",
    "contagem_agreement_Y = data_atorney_y['Agreement Reached'].value_counts()\n",
    "contagem_agreement_Y.plot(kind='pie', autopct='%1.1f%%', startangle=90, colors=['red', 'green'])"
   ]
  },
  {
   "cell_type": "code",
   "execution_count": 274,
   "id": "4b6aeaf9-33a0-4f76-baa8-b9975bcd52b8",
   "metadata": {},
   "outputs": [
    {
     "data": {
      "text/plain": [
       "<Axes: ylabel='count'>"
      ]
     },
     "execution_count": 274,
     "metadata": {},
     "output_type": "execute_result"
    },
    {
     "data": {
      "image/png": "[encoded data removed]",
      "text/plain": [
       "<Figure size 640x480 with 1 Axes>"
      ]
     },
     "metadata": {},
     "output_type": "display_data"
    }
   ],
   "source": [
    "#sem advogado\n",
    "data_atorney_y = df[df['Attorney/Representative'] == 'N']\n",
    "contagem_agreement_N = data_atorney_y['Agreement Reached'].value_counts()\n",
    "contagem_agreement_N.plot(kind='pie', autopct='%1.1f%%', startangle=90, colors=['red', 'green'])"
   ]
  },
  {
   "cell_type": "code",
   "execution_count": 346,
   "id": "a2b3d222-ea5b-4b51-8b76-8e6361e66f4c",
   "metadata": {},
   "outputs": [],
   "source": [
    "'''ideia 4- olhamos para o WCB'''\n",
    "df['WCB Decision'].unique()\n",
    "#mais uma coluna irrelevante pois é sempre igual logo retirar\n",
    "df = df.drop('WCB Decision', axis=1)"
   ]
  },
  {
   "cell_type": "code",
   "execution_count": 348,
   "id": "df373517-eae9-4fb8-a0ed-a850df597965",
   "metadata": {},
   "outputs": [
    {
     "data": {
      "text/plain": [
       "array(['N', 'Y'], dtype=object)"
      ]
     },
     "execution_count": 348,
     "metadata": {},
     "output_type": "execute_result"
    }
   ],
   "source": [
    "'''ideia 5- Vamos ver o covid'''\n",
    "df['COVID-19 Indicator'].unique()"
   ]
  },
  {
   "cell_type": "code",
   "execution_count": 350,
   "id": "c349c13e-e3ea-4e9f-a109-b8a9433283ed",
   "metadata": {},
   "outputs": [
    {
     "data": {
      "text/plain": [
       "<Axes: ylabel='count'>"
      ]
     },
     "execution_count": 350,
     "metadata": {},
     "output_type": "execute_result"
    },
    {
     "data": {
      "image/png": "[encoded data removed]",
      "text/plain": [
       "<Figure size 640x480 with 1 Axes>"
      ]
     },
     "metadata": {},
     "output_type": "display_data"
    }
   ],
   "source": [
    "#com covid\n",
    "data_atorney_y = df[df['COVID-19 Indicator'] == 'Y']\n",
    "contagem_agreement_Y = data_atorney_y['Agreement Reached'].value_counts()\n",
    "contagem_agreement_Y.plot(kind='pie', autopct='%1.1f%%', startangle=90, colors=['red', 'green'])"
   ]
  },
  {
   "cell_type": "code",
   "execution_count": 351,
   "id": "e1142693-412e-4560-8618-2e9c62839000",
   "metadata": {},
   "outputs": [
    {
     "data": {
      "text/plain": [
       "<Axes: ylabel='count'>"
      ]
     },
     "execution_count": 351,
     "metadata": {},
     "output_type": "execute_result"
    },
    {
     "data": {
      "image/png": "[encoded data removed]",
      "text/plain": [
       "<Figure size 640x480 with 1 Axes>"
      ]
     },
     "metadata": {},
     "output_type": "display_data"
    }
   ],
   "source": [
    "#com covid\n",
    "data_atorney_y = df[df['COVID-19 Indicator'] == 'N']\n",
    "contagem_agreement_N = data_atorney_y['Agreement Reached'].value_counts()\n",
    "contagem_agreement_N.plot(kind='pie', autopct='%1.1f%%', startangle=90, colors=['red', 'green'])"
   ]
  },
  {
   "cell_type": "code",
   "execution_count": 354,
   "id": "3d09df0f-379f-4327-9de7-1002da7c7057",
   "metadata": {},
   "outputs": [
    {
     "data": {
      "text/plain": [
       "array([44., 23., 56., 62., 72., 61., 51., 31., 48., 45., 42., 53., 52.,\n",
       "       49., 81., 92., 33., 54., 32., 71., nan, 22., 11., 21., 55.])"
      ]
     },
     "execution_count": 354,
     "metadata": {},
     "output_type": "execute_result"
    }
   ],
   "source": [
    "'''ideia 6- Notamos que muitos dos salarios são 0 ou NaN, para tentar corrigir isto vamos agora fazer o salário médio de cada setor para complementar os dados'''\n",
    "df['Industry Code'].unique()"
   ]
  },
  {
   "cell_type": "code",
   "execution_count": 310,
   "id": "9e8b47a4-004f-4905-b818-40891035a819",
   "metadata": {},
   "outputs": [
    {
     "name": "stdout",
     "output_type": "stream",
     "text": [
      "Industry Code\n",
      "11.0     822.957028\n",
      "21.0    1293.506740\n",
      "22.0    2261.219167\n",
      "23.0    1480.245450\n",
      "31.0    1021.929750\n",
      "32.0    1044.570593\n",
      "33.0    1128.975171\n",
      "42.0    1107.974569\n",
      "44.0     840.986650\n",
      "45.0     807.817383\n",
      "48.0    1223.198532\n",
      "49.0    1460.833198\n",
      "51.0    2281.836575\n",
      "52.0    1186.186458\n",
      "53.0    1180.260811\n",
      "54.0    1207.185727\n",
      "55.0    1272.659775\n",
      "56.0     933.775629\n",
      "61.0    1065.152480\n",
      "62.0    1208.683868\n",
      "71.0    1335.882949\n",
      "72.0     763.658343\n",
      "81.0     951.973195\n",
      "92.0    1677.352074\n",
      "Name: Average Weekly Wage, dtype: float64\n"
     ]
    }
   ],
   "source": [
    "# Filtrar o DataFrame para excluir salários iguais a zero\n",
    "df_filtrado = df[df['Average Weekly Wage'] > 0]\n",
    "\n",
    "# Agrupar pelos códigos de indústria e calcular a mediana do salário (nao contar muito com os outliers\n",
    "median_salary_por_industry = df_filtrado.groupby('Industry Code')['Average Weekly Wage'].median()\n",
    "# Exibir a média dos salários por código de indústria\n",
    "print(median_salary_por_industry)"
   ]
  },
  {
   "cell_type": "code",
   "execution_count": 312,
   "id": "59ff7a04-cfc7-494f-8401-2c5d7f423bed",
   "metadata": {},
   "outputs": [],
   "source": [
    "# Função para substituir 0 e NaN pela média do salário do \"Industry Code\"\n",
    "def substituir_wage(row):\n",
    "    if pd.isna(row['Average Weekly Wage']) or row['Average Weekly Wage'] == 0:\n",
    "        # Verificar se o Industry Code não é NaN antes de tentar acessar a média\n",
    "        industry_code = row['Industry Code']\n",
    "        if not pd.isna(industry_code) and industry_code in median_salary_por_industry.index:\n",
    "            return median_salary_por_industry[industry_code]\n",
    "    return row['Average Weekly Wage']\n",
    "\n",
    "# Aplicar a função ao DataFrame\n",
    "df['Average Weekly Wage'] = df.apply(substituir_wage, axis=1)"
   ]
  },
  {
   "cell_type": "code",
   "execution_count": 316,
   "id": "0b36fc90-249c-48e7-8d9f-f7b5ebe6baeb",
   "metadata": {},
   "outputs": [
    {
     "name": "stdout",
     "output_type": "stream",
     "text": [
      "0      840.986650\n",
      "1     1745.930000\n",
      "2     1434.800000\n",
      "4     1208.683868\n",
      "5      840.986650\n",
      "6      763.658343\n",
      "7     1208.683868\n",
      "8     1065.152480\n",
      "9      225.000000\n",
      "10     840.986650\n",
      "Name: Average Weekly Wage, dtype: float64\n"
     ]
    }
   ],
   "source": [
    "print(df['Average Weekly Wage'].head(10))"
   ]
  },
  {
   "cell_type": "code",
   "execution_count": null,
   "id": "084e9792-4d00-4c56-9ca5-f2dfc4daf4d5",
   "metadata": {},
   "outputs": [],
   "source": []
  }
 ],
 "metadata": {
  "kernelspec": {
   "display_name": "Python 3",
   "language": "python",
   "name": "python3"
  },
  "language_info": {
   "codemirror_mode": {
    "name": "ipython",
    "version": 3
   },
   "file_extension": ".py",
   "mimetype": "text/x-python",
   "name": "python",
   "nbconvert_exporter": "python",
   "pygments_lexer": "ipython3",
   "version": "3.11.3"
  }
 },
 "nbformat": 4,
 "nbformat_minor": 5
}
