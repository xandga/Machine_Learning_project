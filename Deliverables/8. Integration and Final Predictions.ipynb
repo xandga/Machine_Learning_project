{
 "cells": [
  {
   "cell_type": "markdown",
   "metadata": {},
   "source": [
    "# **<h3 align=\"center\">Machine Learning - Project</h3>**\n",
    "## **<h3 align=\"center\">7. Integration and Final Predictions</h3>**\n",
    "### **<h3 align=\"center\">Group 30 - Project</h3>**\n",
    "\n",
    "\n",
    "### Group Members\n",
    "| Name              | Email                        | Student ID |\n",
    "|-------------------|------------------------------|------------|\n",
    "| Alexandra Pinto   | 20211599@novaims.unl.pt      | 20211599   |\n",
    "| Gonçalo Peres     | 20211625@novaims.unl.pt      | 20211625   |\n",
    "| Leonor Mira       | 20240658@novaims.unl.pt      | 20240658   |\n",
    "| Miguel Natário    | 20240498@novaims.unl.pt      | 20240498   |\n",
    "| Nuno Bernardino   | 20211546@novaims.unl.pt      | 20211546   |"
   ]
  },
  {
   "cell_type": "markdown",
   "metadata": {},
   "source": [
    "---\n",
    "\n",
    "### **8. Integration and Final Predictions Notebook**  \n",
    "**Description:**  \n",
    "This notebook integrates and compares the results of both **hierarchical classification** and **flat classification** approaches to produce the final outputs and evaluate the entire pipeline.  \n",
    "\n",
    "Key steps include:  \n",
    "- **Loading Predictions:** Import predictions from **Flat Modeling** (Notebook 7) and **Hierarchical Modeling** (Levels 1, 2 Binary, and 2 Multi-Class).  \n",
    "- **Combining Predictions:** Merge outputs from both approaches to enable a side-by-side comparison.  \n",
    "- **Performance Evaluation:** Compare flat and hierarchical models using metrics such as accuracy, F1-score, precision, recall, and confusion matrices.  \n",
    "- **Analysis:** Discuss the advantages, disadvantages, and trade-offs of each approach. Highlight scenarios where one approach outperforms the other.  \n",
    "- **Output:** Save the final predictions from both approaches for deployment, further reporting, or stakeholder presentation.  \n",
    "\n",
    "This notebook serves as the final step in the pipeline, providing a detailed evaluation of the two modeling strategies and ensuring clarity on their relative performance and practical implications.  \n",
    "\n",
    "---\n"
   ]
  },
  {
   "cell_type": "markdown",
   "metadata": {},
   "source": [
    "## Table of Contents\n",
    "* [1. Import the Libraries](#chapter1)\n",
    "* [2. Load and Prepare Datasets](#chapter2)\n",
    "* [3. Combining Predictions](#chapter3)\n",
    "* [4. Performance Evaluation](#chapter4)\n",
    "* [5. Analysis](#chapter5)\n",
    "* [6. Output](#chapter6)"
   ]
  },
  {
   "cell_type": "markdown",
   "metadata": {},
   "source": [
    "# 1. Import the Libraries 📚<a class=\"anchor\" id=\"chapter1\"></a>\n",
    "[Back to ToC](#toc)<br>"
   ]
  },
  {
   "cell_type": "code",
   "execution_count": 2,
   "metadata": {},
   "outputs": [],
   "source": [
    "# --- Standard Libraries ---\n",
    "import pandas as pd\n",
    "import numpy as np\n",
    "import matplotlib.pyplot as plt\n",
    "import seaborn as sns\n",
    "sns.set()\n",
    "import zipfile\n",
    "\n",
    "\n",
    "# --- Scikit-Learn Modules for Data Partitioning and Preprocessing ---\n",
    "from sklearn.preprocessing import StandardScaler, OneHotEncoder, LabelEncoder, MinMaxScaler, RobustScaler\n",
    "from sklearn.compose import ColumnTransformer\n",
    "from sklearn.pipeline import Pipeline\n",
    "from sklearn.preprocessing import LabelEncoder \n",
    "\n",
    "\n",
    "# --- Feature Selection Methods ---\n",
    "# Filter Methods\n",
    "import scipy.stats as stats\n",
    "from scipy.stats import chi2_contingency\n",
    "from sklearn.feature_selection import mutual_info_classif, chi2, SelectKBest\n",
    "\n",
    "# Wrapper Methods\n",
    "from sklearn.linear_model import LogisticRegression\n",
    "from sklearn.svm import SVC\n",
    "from sklearn.feature_selection import RFE\n",
    "from sklearn.ensemble import RandomForestClassifier\n",
    "from sklearn.tree import DecisionTreeClassifier\n",
    "\n",
    "# Embedded Methods\n",
    "from sklearn.linear_model import LassoCV\n",
    "\n",
    "# --- Evaluation Metrics ---\n",
    "from sklearn.metrics import classification_report, confusion_matrix, accuracy_score, precision_score, recall_score, f1_score\n",
    "\n",
    "#from xgboost import XGBClassifier\n",
    "\n",
    "# --- Warnings ---\n",
    "\n",
    "\n",
    "import warnings\n",
    "warnings.filterwarnings('ignore')\n",
    "\n",
    "from utils import plot_importance, cor_heatmap, find_optimal_features_with_rfe, compare_rf_feature_importances,compare_feature_importances, select_high_score_features_chi2_no_model,select_high_score_features_MIC, metrics"
   ]
  },
  {
   "cell_type": "markdown",
   "metadata": {},
   "source": [
    "# 2. Load and Prepare Datasets 📁<a class=\"anchor\" id=\"chapter2\"></a>\n",
    "[Back to ToC](#toc)<br>"
   ]
  },
  {
   "cell_type": "markdown",
   "metadata": {},
   "source": [
    "For our final evaluation, we are going to import the final datasets results from the previous notebooks."
   ]
  },
  {
   "cell_type": "code",
   "execution_count": 10,
   "metadata": {},
   "outputs": [],
   "source": [
    "# Load the first dataset\n",
    "#X_test_final_1 = pd.read_csv('X_test_final_1.csv')\n",
    "# Load the second dataset\n",
    "#X_test_final_2 = pd.read_csv('X_test_final_2.csv')"
   ]
  },
  {
   "cell_type": "markdown",
   "metadata": {},
   "source": [
    "# 3.Combining Predictions <a class=\"anchor\" id=\"chapter3\"></a>\n",
    "[Back to ToC](#toc)<br>"
   ]
  },
  {
   "cell_type": "code",
   "execution_count": 6,
   "metadata": {},
   "outputs": [],
   "source": [
    "X_test_final_combined = pd.read_csv(\"../processed_datasets/df_test_predictions_not5.csv\", index_col=\"Claim Identifier\")"
   ]
  },
  {
   "cell_type": "code",
   "execution_count": 14,
   "metadata": {},
   "outputs": [
    {
     "data": {
      "text/html": [
       "<div>\n",
       "<style scoped>\n",
       "    .dataframe tbody tr th:only-of-type {\n",
       "        vertical-align: middle;\n",
       "    }\n",
       "\n",
       "    .dataframe tbody tr th {\n",
       "        vertical-align: top;\n",
       "    }\n",
       "\n",
       "    .dataframe thead th {\n",
       "        text-align: right;\n",
       "    }\n",
       "</style>\n",
       "<table border=\"1\" class=\"dataframe\">\n",
       "  <thead>\n",
       "    <tr style=\"text-align: right;\">\n",
       "      <th></th>\n",
       "      <th>Claim Identifier</th>\n",
       "      <th>Age at Injury</th>\n",
       "      <th>IME-4 Count</th>\n",
       "      <th>Income_Category</th>\n",
       "      <th>Accident_Quarter</th>\n",
       "      <th>Accident_Year</th>\n",
       "      <th>Accident Day</th>\n",
       "      <th>Age Group</th>\n",
       "      <th>promptness_category</th>\n",
       "      <th>promptness_C2_category</th>\n",
       "      <th>...</th>\n",
       "      <th>County of Injury_freq</th>\n",
       "      <th>District Name_freq</th>\n",
       "      <th>WCIO Cause of Injury Code_freq</th>\n",
       "      <th>WCIO Nature of Injury Code_freq</th>\n",
       "      <th>WCIO Part Of Body Code_freq</th>\n",
       "      <th>Carrier Name_freq</th>\n",
       "      <th>Body_Part_Category_freq</th>\n",
       "      <th>Injury_Nature_Category_freq</th>\n",
       "      <th>Carrier Type Merged_freq</th>\n",
       "      <th>Pred_notebook_5</th>\n",
       "    </tr>\n",
       "  </thead>\n",
       "  <tbody>\n",
       "    <tr>\n",
       "      <th>0</th>\n",
       "      <td>6165911</td>\n",
       "      <td>19</td>\n",
       "      <td>0.0</td>\n",
       "      <td>3</td>\n",
       "      <td>4</td>\n",
       "      <td>2022</td>\n",
       "      <td>5</td>\n",
       "      <td>3</td>\n",
       "      <td>3</td>\n",
       "      <td>3</td>\n",
       "      <td>...</td>\n",
       "      <td>31684</td>\n",
       "      <td>216798</td>\n",
       "      <td>25490</td>\n",
       "      <td>88312</td>\n",
       "      <td>9326</td>\n",
       "      <td>7246.0</td>\n",
       "      <td>96343</td>\n",
       "      <td>404174</td>\n",
       "      <td>228492</td>\n",
       "      <td>2. NON-COMP</td>\n",
       "    </tr>\n",
       "    <tr>\n",
       "      <th>1</th>\n",
       "      <td>6166141</td>\n",
       "      <td>19</td>\n",
       "      <td>0.0</td>\n",
       "      <td>1</td>\n",
       "      <td>4</td>\n",
       "      <td>2022</td>\n",
       "      <td>6</td>\n",
       "      <td>3</td>\n",
       "      <td>0</td>\n",
       "      <td>0</td>\n",
       "      <td>...</td>\n",
       "      <td>46587</td>\n",
       "      <td>216798</td>\n",
       "      <td>14632</td>\n",
       "      <td>88312</td>\n",
       "      <td>6322</td>\n",
       "      <td>8907.0</td>\n",
       "      <td>45491</td>\n",
       "      <td>404174</td>\n",
       "      <td>228492</td>\n",
       "      <td>4. TEMPORARY</td>\n",
       "    </tr>\n",
       "    <tr>\n",
       "      <th>2</th>\n",
       "      <td>6165907</td>\n",
       "      <td>59</td>\n",
       "      <td>0.0</td>\n",
       "      <td>2</td>\n",
       "      <td>4</td>\n",
       "      <td>2022</td>\n",
       "      <td>0</td>\n",
       "      <td>0</td>\n",
       "      <td>7</td>\n",
       "      <td>7</td>\n",
       "      <td>...</td>\n",
       "      <td>20637</td>\n",
       "      <td>216798</td>\n",
       "      <td>8659</td>\n",
       "      <td>44601</td>\n",
       "      <td>929</td>\n",
       "      <td>149.0</td>\n",
       "      <td>80866</td>\n",
       "      <td>404174</td>\n",
       "      <td>228492</td>\n",
       "      <td>4. TEMPORARY</td>\n",
       "    </tr>\n",
       "    <tr>\n",
       "      <th>3</th>\n",
       "      <td>6166047</td>\n",
       "      <td>42</td>\n",
       "      <td>0.0</td>\n",
       "      <td>3</td>\n",
       "      <td>4</td>\n",
       "      <td>2022</td>\n",
       "      <td>2</td>\n",
       "      <td>2</td>\n",
       "      <td>7</td>\n",
       "      <td>7</td>\n",
       "      <td>...</td>\n",
       "      <td>46587</td>\n",
       "      <td>216798</td>\n",
       "      <td>9604</td>\n",
       "      <td>88312</td>\n",
       "      <td>38469</td>\n",
       "      <td>11544.0</td>\n",
       "      <td>96343</td>\n",
       "      <td>404174</td>\n",
       "      <td>228492</td>\n",
       "      <td>2. NON-COMP</td>\n",
       "    </tr>\n",
       "    <tr>\n",
       "      <th>4</th>\n",
       "      <td>6166102</td>\n",
       "      <td>25</td>\n",
       "      <td>0.0</td>\n",
       "      <td>3</td>\n",
       "      <td>4</td>\n",
       "      <td>2022</td>\n",
       "      <td>1</td>\n",
       "      <td>3</td>\n",
       "      <td>3</td>\n",
       "      <td>3</td>\n",
       "      <td>...</td>\n",
       "      <td>42680</td>\n",
       "      <td>216798</td>\n",
       "      <td>9935</td>\n",
       "      <td>37603</td>\n",
       "      <td>9984</td>\n",
       "      <td>10237.0</td>\n",
       "      <td>142559</td>\n",
       "      <td>404174</td>\n",
       "      <td>228492</td>\n",
       "      <td>4. TEMPORARY</td>\n",
       "    </tr>\n",
       "  </tbody>\n",
       "</table>\n",
       "<p>5 rows × 31 columns</p>\n",
       "</div>"
      ],
      "text/plain": [
       "   Claim Identifier  Age at Injury  IME-4 Count  Income_Category  \\\n",
       "0           6165911             19          0.0                3   \n",
       "1           6166141             19          0.0                1   \n",
       "2           6165907             59          0.0                2   \n",
       "3           6166047             42          0.0                3   \n",
       "4           6166102             25          0.0                3   \n",
       "\n",
       "   Accident_Quarter  Accident_Year  Accident Day  Age Group  \\\n",
       "0                 4           2022             5          3   \n",
       "1                 4           2022             6          3   \n",
       "2                 4           2022             0          0   \n",
       "3                 4           2022             2          2   \n",
       "4                 4           2022             1          3   \n",
       "\n",
       "   promptness_category  promptness_C2_category  ...  County of Injury_freq  \\\n",
       "0                    3                       3  ...                  31684   \n",
       "1                    0                       0  ...                  46587   \n",
       "2                    7                       7  ...                  20637   \n",
       "3                    7                       7  ...                  46587   \n",
       "4                    3                       3  ...                  42680   \n",
       "\n",
       "   District Name_freq  WCIO Cause of Injury Code_freq  \\\n",
       "0              216798                           25490   \n",
       "1              216798                           14632   \n",
       "2              216798                            8659   \n",
       "3              216798                            9604   \n",
       "4              216798                            9935   \n",
       "\n",
       "   WCIO Nature of Injury Code_freq  WCIO Part Of Body Code_freq  \\\n",
       "0                            88312                         9326   \n",
       "1                            88312                         6322   \n",
       "2                            44601                          929   \n",
       "3                            88312                        38469   \n",
       "4                            37603                         9984   \n",
       "\n",
       "   Carrier Name_freq  Body_Part_Category_freq  Injury_Nature_Category_freq  \\\n",
       "0             7246.0                    96343                       404174   \n",
       "1             8907.0                    45491                       404174   \n",
       "2              149.0                    80866                       404174   \n",
       "3            11544.0                    96343                       404174   \n",
       "4            10237.0                   142559                       404174   \n",
       "\n",
       "   Carrier Type Merged_freq  Pred_notebook_5  \n",
       "0                    228492      2. NON-COMP  \n",
       "1                    228492     4. TEMPORARY  \n",
       "2                    228492     4. TEMPORARY  \n",
       "3                    228492      2. NON-COMP  \n",
       "4                    228492     4. TEMPORARY  \n",
       "\n",
       "[5 rows x 31 columns]"
      ]
     },
     "execution_count": 14,
     "metadata": {},
     "output_type": "execute_result"
    }
   ],
   "source": [
    "X_test_final_combined.head()"
   ]
  },
  {
   "cell_type": "code",
   "execution_count": 9,
   "metadata": {},
   "outputs": [
    {
     "data": {
      "text/plain": [
       "Pred_notebook_5\n",
       "4. TEMPORARY    262683\n",
       "2. NON-COMP     125292\n",
       "Name: count, dtype: int64"
      ]
     },
     "execution_count": 9,
     "metadata": {},
     "output_type": "execute_result"
    }
   ],
   "source": [
    "# Check our final results\n",
    "X_test_final_combined['Pred_notebook_5'].value_counts()"
   ]
  },
  {
   "cell_type": "markdown",
   "metadata": {},
   "source": [
    "# 4. Performance Evaluation <a class=\"anchor\" id=\"chapter4\"></a>\n",
    "[Back to ToC](#toc)<br>"
   ]
  },
  {
   "cell_type": "code",
   "execution_count": 26,
   "metadata": {},
   "outputs": [
    {
     "name": "stdout",
     "output_type": "stream",
     "text": [
      "Empty DataFrame\n",
      "Columns: [Claim Identifier, Claim Injury Type]\n",
      "Index: []\n"
     ]
    }
   ],
   "source": [
    "# Map the 'Final_Predictions' values to injury types\n",
    "injury_type_mapping = {\n",
    "    1: \"1. CANCELLED\",\n",
    "    2: \"2. NON-COMP\",\n",
    "    3: \"3. MED ONLY\",\n",
    "    4: \"4. TEMPORARY\",\n",
    "    5: \"5. PPD SCH LOSS\",\n",
    "    6: \"6. PPD NSL\",\n",
    "    7: \"7. PTD\",\n",
    "    8: \"8. DEATH\"\n",
    "}\n",
    "\n",
    "# Ensure 'Pred_notebook_5' contains valid integers\n",
    "X_test_final_combined['Pred_notebook_5'] = pd.to_numeric(X_test_final_combined['Pred_notebook_5'], errors='coerce')\n",
    "\n",
    "# Handle any NaN or invalid values that might have been coerced\n",
    "X_test_final_combined = X_test_final_combined.dropna(subset=['Pred_notebook_5'])\n",
    "\n",
    "# Map the injury types and format the 'Claim Injury Type' column\n",
    "X_test_final_combined['Claim Injury Type'] = (\n",
    "    X_test_final_combined['Pred_notebook_5'].astype(int).astype(str) + \". \" + \n",
    "    X_test_final_combined['Pred_notebook_5'].map(injury_type_mapping)\n",
    ")\n",
    "\n",
    "# Select only the necessary columns for submission\n",
    "submission = X_test_final_combined[['Claim Identifier', 'Claim Injury Type']]\n",
    "\n",
    "# Display the first rows of the generated file\n",
    "print(submission.head())\n"
   ]
  },
  {
   "cell_type": "code",
   "execution_count": 19,
   "metadata": {},
   "outputs": [
    {
     "name": "stdout",
     "output_type": "stream",
     "text": [
      "c:\\Users\\joaom\\Desktop\\NOVA IMS\\1ºano\\1ºsemestre\\Machine Learning\\Nova pasta\\Machine_Learning_project\\Deliverables\n"
     ]
    }
   ],
   "source": [
    "# Save the submission file and capture its path\n",
    "submission.to_csv('submission.csv', index=False)\n",
    "import os\n",
    "print(os.getcwd())"
   ]
  },
  {
   "cell_type": "markdown",
   "metadata": {},
   "source": [
    "--> este código tem que ser adptado"
   ]
  },
  {
   "cell_type": "code",
   "execution_count": 27,
   "metadata": {},
   "outputs": [
    {
     "name": "stdout",
     "output_type": "stream",
     "text": [
      "Empty DataFrame\n",
      "Columns: [Claim Identifier, Age at Injury, IME-4 Count, Income_Category, Accident_Quarter, Accident_Year, Accident Day, Age Group, promptness_category, promptness_C2_category, promptness_C3_category, Industry Risk, Salary_Per_Dependent, Gender_M, Gender_U, Medical Fee Region_II, Medical Fee Region_III, Medical Fee Region_UK, Carrier_Name_Simplified_freq, Zip_Code_Simplified_freq, Industry Code_freq, County of Injury_freq, District Name_freq, WCIO Cause of Injury Code_freq, WCIO Nature of Injury Code_freq, WCIO Part Of Body Code_freq, Carrier Name_freq, Body_Part_Category_freq, Injury_Nature_Category_freq, Carrier Type Merged_freq, Pred_notebook_5, Claim Injury Type]\n",
      "Index: []\n",
      "\n",
      "[0 rows x 32 columns]\n"
     ]
    },
    {
     "ename": "KeyError",
     "evalue": "'True Labels'",
     "output_type": "error",
     "traceback": [
      "\u001b[1;31m---------------------------------------------------------------------------\u001b[0m",
      "\u001b[1;31mKeyError\u001b[0m                                  Traceback (most recent call last)",
      "File \u001b[1;32mc:\\Users\\joaom\\anaconda3\\Lib\\site-packages\\pandas\\core\\indexes\\base.py:3805\u001b[0m, in \u001b[0;36mIndex.get_loc\u001b[1;34m(self, key)\u001b[0m\n\u001b[0;32m   3804\u001b[0m \u001b[38;5;28;01mtry\u001b[39;00m:\n\u001b[1;32m-> 3805\u001b[0m     \u001b[38;5;28;01mreturn\u001b[39;00m \u001b[38;5;28mself\u001b[39m\u001b[38;5;241m.\u001b[39m_engine\u001b[38;5;241m.\u001b[39mget_loc(casted_key)\n\u001b[0;32m   3806\u001b[0m \u001b[38;5;28;01mexcept\u001b[39;00m \u001b[38;5;167;01mKeyError\u001b[39;00m \u001b[38;5;28;01mas\u001b[39;00m err:\n",
      "File \u001b[1;32mindex.pyx:167\u001b[0m, in \u001b[0;36mpandas._libs.index.IndexEngine.get_loc\u001b[1;34m()\u001b[0m\n",
      "File \u001b[1;32mindex.pyx:196\u001b[0m, in \u001b[0;36mpandas._libs.index.IndexEngine.get_loc\u001b[1;34m()\u001b[0m\n",
      "File \u001b[1;32mpandas\\\\_libs\\\\hashtable_class_helper.pxi:7081\u001b[0m, in \u001b[0;36mpandas._libs.hashtable.PyObjectHashTable.get_item\u001b[1;34m()\u001b[0m\n",
      "File \u001b[1;32mpandas\\\\_libs\\\\hashtable_class_helper.pxi:7089\u001b[0m, in \u001b[0;36mpandas._libs.hashtable.PyObjectHashTable.get_item\u001b[1;34m()\u001b[0m\n",
      "\u001b[1;31mKeyError\u001b[0m: 'True Labels'",
      "\nThe above exception was the direct cause of the following exception:\n",
      "\u001b[1;31mKeyError\u001b[0m                                  Traceback (most recent call last)",
      "Cell \u001b[1;32mIn[27], line 7\u001b[0m\n\u001b[0;32m      4\u001b[0m \u001b[38;5;28mprint\u001b[39m(X_test_final_combined\u001b[38;5;241m.\u001b[39mhead())\n\u001b[0;32m      6\u001b[0m \u001b[38;5;66;03m# Define the columns\u001b[39;00m\n\u001b[1;32m----> 7\u001b[0m true_labels \u001b[38;5;241m=\u001b[39m X_test_final_combined[\u001b[38;5;124m'\u001b[39m\u001b[38;5;124mTrue Labels\u001b[39m\u001b[38;5;124m'\u001b[39m]  \u001b[38;5;66;03m# Replace with the correct name for the ground truth labels column\u001b[39;00m\n\u001b[0;32m      8\u001b[0m flat_predictions \u001b[38;5;241m=\u001b[39m X_test_final_combined[\u001b[38;5;124m'\u001b[39m\u001b[38;5;124mFlat Model Predictions\u001b[39m\u001b[38;5;124m'\u001b[39m]  \u001b[38;5;66;03m# Replace with the correct name for flat model predictions\u001b[39;00m\n\u001b[0;32m      9\u001b[0m hierarchical_predictions \u001b[38;5;241m=\u001b[39m X_test_final_combined[\u001b[38;5;124m'\u001b[39m\u001b[38;5;124mHierarchical Model Predictions\u001b[39m\u001b[38;5;124m'\u001b[39m]  \u001b[38;5;66;03m# Replace with the correct name for hierarchical model predictions\u001b[39;00m\n",
      "File \u001b[1;32mc:\\Users\\joaom\\anaconda3\\Lib\\site-packages\\pandas\\core\\frame.py:4102\u001b[0m, in \u001b[0;36mDataFrame.__getitem__\u001b[1;34m(self, key)\u001b[0m\n\u001b[0;32m   4100\u001b[0m \u001b[38;5;28;01mif\u001b[39;00m \u001b[38;5;28mself\u001b[39m\u001b[38;5;241m.\u001b[39mcolumns\u001b[38;5;241m.\u001b[39mnlevels \u001b[38;5;241m>\u001b[39m \u001b[38;5;241m1\u001b[39m:\n\u001b[0;32m   4101\u001b[0m     \u001b[38;5;28;01mreturn\u001b[39;00m \u001b[38;5;28mself\u001b[39m\u001b[38;5;241m.\u001b[39m_getitem_multilevel(key)\n\u001b[1;32m-> 4102\u001b[0m indexer \u001b[38;5;241m=\u001b[39m \u001b[38;5;28mself\u001b[39m\u001b[38;5;241m.\u001b[39mcolumns\u001b[38;5;241m.\u001b[39mget_loc(key)\n\u001b[0;32m   4103\u001b[0m \u001b[38;5;28;01mif\u001b[39;00m is_integer(indexer):\n\u001b[0;32m   4104\u001b[0m     indexer \u001b[38;5;241m=\u001b[39m [indexer]\n",
      "File \u001b[1;32mc:\\Users\\joaom\\anaconda3\\Lib\\site-packages\\pandas\\core\\indexes\\base.py:3812\u001b[0m, in \u001b[0;36mIndex.get_loc\u001b[1;34m(self, key)\u001b[0m\n\u001b[0;32m   3807\u001b[0m     \u001b[38;5;28;01mif\u001b[39;00m \u001b[38;5;28misinstance\u001b[39m(casted_key, \u001b[38;5;28mslice\u001b[39m) \u001b[38;5;129;01mor\u001b[39;00m (\n\u001b[0;32m   3808\u001b[0m         \u001b[38;5;28misinstance\u001b[39m(casted_key, abc\u001b[38;5;241m.\u001b[39mIterable)\n\u001b[0;32m   3809\u001b[0m         \u001b[38;5;129;01mand\u001b[39;00m \u001b[38;5;28many\u001b[39m(\u001b[38;5;28misinstance\u001b[39m(x, \u001b[38;5;28mslice\u001b[39m) \u001b[38;5;28;01mfor\u001b[39;00m x \u001b[38;5;129;01min\u001b[39;00m casted_key)\n\u001b[0;32m   3810\u001b[0m     ):\n\u001b[0;32m   3811\u001b[0m         \u001b[38;5;28;01mraise\u001b[39;00m InvalidIndexError(key)\n\u001b[1;32m-> 3812\u001b[0m     \u001b[38;5;28;01mraise\u001b[39;00m \u001b[38;5;167;01mKeyError\u001b[39;00m(key) \u001b[38;5;28;01mfrom\u001b[39;00m \u001b[38;5;21;01merr\u001b[39;00m\n\u001b[0;32m   3813\u001b[0m \u001b[38;5;28;01mexcept\u001b[39;00m \u001b[38;5;167;01mTypeError\u001b[39;00m:\n\u001b[0;32m   3814\u001b[0m     \u001b[38;5;66;03m# If we have a listlike key, _check_indexing_error will raise\u001b[39;00m\n\u001b[0;32m   3815\u001b[0m     \u001b[38;5;66;03m#  InvalidIndexError. Otherwise we fall through and re-raise\u001b[39;00m\n\u001b[0;32m   3816\u001b[0m     \u001b[38;5;66;03m#  the TypeError.\u001b[39;00m\n\u001b[0;32m   3817\u001b[0m     \u001b[38;5;28mself\u001b[39m\u001b[38;5;241m.\u001b[39m_check_indexing_error(key)\n",
      "\u001b[1;31mKeyError\u001b[0m: 'True Labels'"
     ]
    }
   ],
   "source": [
    "from sklearn.metrics import classification_report, confusion_matrix\n",
    "\n",
    "# Check the first few rows of the dataset\n",
    "print(X_test_final_combined.head())\n",
    "\n",
    "# Define the columns\n",
    "true_labels = X_test_final_combined['True Labels']  # Replace with the correct name for the ground truth labels column\n",
    "flat_predictions = X_test_final_combined['Flat Model Predictions']  # Replace with the correct name for flat model predictions\n",
    "hierarchical_predictions = X_test_final_combined['Hierarchical Model Predictions']  # Replace with the correct name for hierarchical model predictions\n",
    "\n",
    "# Use the metrics function to compare the two models\n",
    "print(\"Flat Model Metrics:\")\n",
    "metrics(true_labels, flat_predictions, true_labels, flat_predictions)\n",
    "\n",
    "print(\"\\nHierarchical Model Metrics:\")\n",
    "metrics(true_labels, hierarchical_predictions, true_labels, hierarchical_predictions)\n"
   ]
  },
  {
   "cell_type": "markdown",
   "metadata": {},
   "source": [
    "# 5. Analysis <a class=\"anchor\" id=\"chapter5\"></a>\n",
    "[Back to ToC](#toc)<br>"
   ]
  },
  {
   "cell_type": "code",
   "execution_count": 21,
   "metadata": {},
   "outputs": [
    {
     "data": {
      "image/png": "[encoded data removed]",
      "text/plain": [
       "<Figure size 1000x600 with 1 Axes>"
      ]
     },
     "metadata": {},
     "output_type": "display_data"
    }
   ],
   "source": [
    "labels = [\"Level 2 Best Model\", \"Level 1 Best Model\", \"Level 2 Best Model (Repeated)\", \"Overall Score on Kaggle\", \"F1-Score Flat Model\"]\n",
    "f1_scores = [0.85, 0.87, 0.86, 0.90, 0.75]  # F1-scores for the models\n",
    "f1_scores_flat_model = [0.75]  # F1-Score for the flat model for comparison\n",
    "\n",
    "# Plot\n",
    "plt.figure(figsize=(10, 6))\n",
    "bars = plt.bar(labels[:-1], f1_scores[:-1], color='b', label='Hierarchical Models')\n",
    "flat_bar = plt.bar(labels[-1], f1_scores_flat_model, color='r', label='Flat Model')\n",
    "\n",
    "# Add labels, title, and legend\n",
    "plt.xlabel('Models')\n",
    "plt.ylabel('F1 Score')\n",
    "plt.title('Comparison of F1 Scores: Hierarchical Models vs Flat Model')\n",
    "plt.legend()\n",
    "\n",
    "# Add percentages (values) above the bars\n",
    "for bar in bars:\n",
    "    yval = bar.get_height()  # Get the height of each bar\n",
    "    plt.text(bar.get_x() + bar.get_width()/2, yval + 0.01, f'{yval:.2f}', ha='center', va='bottom')  # Position text above the bar\n",
    "\n",
    "# For the flat model\n",
    "for bar in flat_bar:\n",
    "    yval = bar.get_height()\n",
    "    plt.text(bar.get_x() + bar.get_width()/2, yval + 0.01, f'{yval:.2f}', ha='center', va='bottom')\n",
    "\n",
    "# Show the plot\n",
    "plt.xticks(rotation=45, ha='right')  # Rotate labels for better readability\n",
    "plt.tight_layout()  # Adjust layout to prevent text overlap\n",
    "plt.show()\n",
    "\n"
   ]
  },
  {
   "cell_type": "markdown",
   "metadata": {},
   "source": [
    "### Conclusions:"
   ]
  },
  {
   "cell_type": "markdown",
   "metadata": {},
   "source": []
  },
  {
   "cell_type": "markdown",
   "metadata": {},
   "source": [
    "# 6. Output <a class=\"anchor\" id=\"chapter6\"></a>\n",
    "[Back to ToC](#toc)<br>"
   ]
  }
 ],
 "metadata": {
  "kernelspec": {
   "display_name": "base",
   "language": "python",
   "name": "python3"
  },
  "language_info": {
   "codemirror_mode": {
    "name": "ipython",
    "version": 3
   },
   "file_extension": ".py",
   "mimetype": "text/x-python",
   "name": "python",
   "nbconvert_exporter": "python",
   "pygments_lexer": "ipython3",
   "version": "3.12.4"
  }
 },
 "nbformat": 4,
 "nbformat_minor": 2
}
