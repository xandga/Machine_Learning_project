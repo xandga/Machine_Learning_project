{
 "cells": [
  {
   "cell_type": "markdown",
   "metadata": {},
   "source": [
    "# **<h3 align=\"center\">Machine Learning - Project</h3>**\n",
    "## **<h3 align=\"center\">Group 30 - Project</h3>**\n",
    "\n",
    "**Group members:**<br>Alexandra Pinto - 20211599@novaims.unl.pt - 20211599<br>\n",
    "Gonçalo Peres - 20211625@novaims.unl.pt - 20211625<br>\n",
    "Leonor Mira - 20240658@novaims.unl.pt - 20240658<br>\n",
    "Miguel Natário - 20240498@novaims.unl.pt - 20240498<br>\n",
    "Nuno Bernardino  - 2021546@novaims.unl.pt - 2021546<br>\n",
    "\n",
    "## Table of Contents\n",
    "* [Import the libraries](#chapter1)\n",
    "* [Train dataset](#chapter2)\n",
    "    * [Import the dataset](#section_2_1)\n",
    "    * [Data explore](#section_2_2)\n",
    "    * [Visualization](#section_2_3)  \n",
    "* [Test dataset](#chapter3)\n",
    "    * [Import the dataset](#section_3_1)\n",
    "    * [Data explore](#section_2_2)\n",
    "* [Feature Selection](#chapter4)\n"
   ]
  },
  {
   "cell_type": "markdown",
   "metadata": {
    "vscode": {
     "languageId": "plaintext"
    }
   },
   "source": [
    "# Import the libraries<a class=\"anchor\" id=\"chapter1\"></a>"
   ]
  },
  {
   "cell_type": "code",
   "execution_count": 96,
   "metadata": {},
   "outputs": [],
   "source": [
    "#importing standard data science libraries\n",
    "import pandas as pd\n",
    "import numpy as np\n",
    "import matplotlib.pyplot as plt\n",
    "import seaborn as sns\n",
    "import zipfile"
   ]
  },
  {
   "cell_type": "markdown",
   "metadata": {},
   "source": [
    "#  **<h3 align=\"center\">Train dataset </h3>** <a class=\"anchor\" id=\"chapter2\"></a>\n",
    "## Import the dataset <a class=\"anchor\" id=\"section_2_1\"></a>\n",
    "Before importing the datasets, we need to unzip the data file."
   ]
  },
  {
   "cell_type": "code",
   "execution_count": 97,
   "metadata": {},
   "outputs": [
    {
     "name": "stdout",
     "output_type": "stream",
     "text": [
      "Extraction complete.\n"
     ]
    }
   ],
   "source": [
    "zip_path = r'../Data.zip'  # Adjust based on actual location\n",
    "extract_to_path = '../project_data'\n",
    "\n",
    "# Extract files\n",
    "with zipfile.ZipFile(zip_path, 'r') as zip_ref:\n",
    "    zip_ref.extractall(extract_to_path)\n",
    "\n",
    "print(\"Extraction complete.\")"
   ]
  },
  {
   "cell_type": "code",
   "execution_count": 98,
   "metadata": {},
   "outputs": [
    {
     "name": "stderr",
     "output_type": "stream",
     "text": [
      "C:\\Users\\xandg\\AppData\\Local\\Temp\\ipykernel_10252\\2994601923.py:1: DtypeWarning: Columns (29) have mixed types. Specify dtype option on import or set low_memory=False.\n",
      "  df_train = pd.read_csv('../project_data/Data/train_data.csv')\n"
     ]
    }
   ],
   "source": [
    "df_train = pd.read_csv('../project_data/Data/train_data.csv')"
   ]
  },
  {
   "cell_type": "code",
   "execution_count": 99,
   "metadata": {},
   "outputs": [
    {
     "data": {
      "text/html": [
       "<div>\n",
       "<style scoped>\n",
       "    .dataframe tbody tr th:only-of-type {\n",
       "        vertical-align: middle;\n",
       "    }\n",
       "\n",
       "    .dataframe tbody tr th {\n",
       "        vertical-align: top;\n",
       "    }\n",
       "\n",
       "    .dataframe thead th {\n",
       "        text-align: right;\n",
       "    }\n",
       "</style>\n",
       "<table border=\"1\" class=\"dataframe\">\n",
       "  <thead>\n",
       "    <tr style=\"text-align: right;\">\n",
       "      <th></th>\n",
       "      <th>Accident Date</th>\n",
       "      <th>Age at Injury</th>\n",
       "      <th>Alternative Dispute Resolution</th>\n",
       "      <th>Assembly Date</th>\n",
       "      <th>Attorney/Representative</th>\n",
       "      <th>Average Weekly Wage</th>\n",
       "      <th>Birth Year</th>\n",
       "      <th>C-2 Date</th>\n",
       "      <th>C-3 Date</th>\n",
       "      <th>Carrier Name</th>\n",
       "      <th>...</th>\n",
       "      <th>WCIO Cause of Injury Code</th>\n",
       "      <th>WCIO Cause of Injury Description</th>\n",
       "      <th>WCIO Nature of Injury Code</th>\n",
       "      <th>WCIO Nature of Injury Description</th>\n",
       "      <th>WCIO Part Of Body Code</th>\n",
       "      <th>WCIO Part Of Body Description</th>\n",
       "      <th>Zip Code</th>\n",
       "      <th>Agreement Reached</th>\n",
       "      <th>WCB Decision</th>\n",
       "      <th>Number of Dependents</th>\n",
       "    </tr>\n",
       "  </thead>\n",
       "  <tbody>\n",
       "    <tr>\n",
       "      <th>0</th>\n",
       "      <td>2019-12-30</td>\n",
       "      <td>31.0</td>\n",
       "      <td>N</td>\n",
       "      <td>2020-01-01</td>\n",
       "      <td>N</td>\n",
       "      <td>0.00</td>\n",
       "      <td>1988.0</td>\n",
       "      <td>2019-12-31</td>\n",
       "      <td>NaN</td>\n",
       "      <td>NEW HAMPSHIRE INSURANCE CO</td>\n",
       "      <td>...</td>\n",
       "      <td>27.0</td>\n",
       "      <td>FROM LIQUID OR GREASE SPILLS</td>\n",
       "      <td>10.0</td>\n",
       "      <td>CONTUSION</td>\n",
       "      <td>62.0</td>\n",
       "      <td>BUTTOCKS</td>\n",
       "      <td>13662</td>\n",
       "      <td>0.0</td>\n",
       "      <td>Not Work Related</td>\n",
       "      <td>1.0</td>\n",
       "    </tr>\n",
       "    <tr>\n",
       "      <th>1</th>\n",
       "      <td>2019-08-30</td>\n",
       "      <td>46.0</td>\n",
       "      <td>N</td>\n",
       "      <td>2020-01-01</td>\n",
       "      <td>Y</td>\n",
       "      <td>1745.93</td>\n",
       "      <td>1973.0</td>\n",
       "      <td>2020-01-01</td>\n",
       "      <td>2020-01-14</td>\n",
       "      <td>ZURICH AMERICAN INSURANCE CO</td>\n",
       "      <td>...</td>\n",
       "      <td>97.0</td>\n",
       "      <td>REPETITIVE MOTION</td>\n",
       "      <td>49.0</td>\n",
       "      <td>SPRAIN OR TEAR</td>\n",
       "      <td>38.0</td>\n",
       "      <td>SHOULDER(S)</td>\n",
       "      <td>14569</td>\n",
       "      <td>1.0</td>\n",
       "      <td>Not Work Related</td>\n",
       "      <td>4.0</td>\n",
       "    </tr>\n",
       "    <tr>\n",
       "      <th>2</th>\n",
       "      <td>2019-12-06</td>\n",
       "      <td>40.0</td>\n",
       "      <td>N</td>\n",
       "      <td>2020-01-01</td>\n",
       "      <td>N</td>\n",
       "      <td>1434.80</td>\n",
       "      <td>1979.0</td>\n",
       "      <td>2020-01-01</td>\n",
       "      <td>NaN</td>\n",
       "      <td>INDEMNITY INSURANCE CO OF</td>\n",
       "      <td>...</td>\n",
       "      <td>79.0</td>\n",
       "      <td>OBJECT BEING LIFTED OR HANDLED</td>\n",
       "      <td>7.0</td>\n",
       "      <td>CONCUSSION</td>\n",
       "      <td>10.0</td>\n",
       "      <td>MULTIPLE HEAD INJURY</td>\n",
       "      <td>12589</td>\n",
       "      <td>0.0</td>\n",
       "      <td>Not Work Related</td>\n",
       "      <td>6.0</td>\n",
       "    </tr>\n",
       "    <tr>\n",
       "      <th>3</th>\n",
       "      <td>NaN</td>\n",
       "      <td>NaN</td>\n",
       "      <td>NaN</td>\n",
       "      <td>2020-01-01</td>\n",
       "      <td>NaN</td>\n",
       "      <td>NaN</td>\n",
       "      <td>NaN</td>\n",
       "      <td>NaN</td>\n",
       "      <td>NaN</td>\n",
       "      <td>NaN</td>\n",
       "      <td>...</td>\n",
       "      <td>NaN</td>\n",
       "      <td>NaN</td>\n",
       "      <td>NaN</td>\n",
       "      <td>NaN</td>\n",
       "      <td>NaN</td>\n",
       "      <td>NaN</td>\n",
       "      <td>NaN</td>\n",
       "      <td>NaN</td>\n",
       "      <td>NaN</td>\n",
       "      <td>NaN</td>\n",
       "    </tr>\n",
       "  </tbody>\n",
       "</table>\n",
       "<p>4 rows × 33 columns</p>\n",
       "</div>"
      ],
      "text/plain": [
       "  Accident Date  Age at Injury Alternative Dispute Resolution Assembly Date  \\\n",
       "0    2019-12-30           31.0                              N    2020-01-01   \n",
       "1    2019-08-30           46.0                              N    2020-01-01   \n",
       "2    2019-12-06           40.0                              N    2020-01-01   \n",
       "3           NaN            NaN                            NaN    2020-01-01   \n",
       "\n",
       "  Attorney/Representative  Average Weekly Wage  Birth Year    C-2 Date  \\\n",
       "0                       N                 0.00      1988.0  2019-12-31   \n",
       "1                       Y              1745.93      1973.0  2020-01-01   \n",
       "2                       N              1434.80      1979.0  2020-01-01   \n",
       "3                     NaN                  NaN         NaN         NaN   \n",
       "\n",
       "     C-3 Date                  Carrier Name  ... WCIO Cause of Injury Code  \\\n",
       "0         NaN    NEW HAMPSHIRE INSURANCE CO  ...                      27.0   \n",
       "1  2020-01-14  ZURICH AMERICAN INSURANCE CO  ...                      97.0   \n",
       "2         NaN     INDEMNITY INSURANCE CO OF  ...                      79.0   \n",
       "3         NaN                           NaN  ...                       NaN   \n",
       "\n",
       "   WCIO Cause of Injury Description WCIO Nature of Injury Code  \\\n",
       "0      FROM LIQUID OR GREASE SPILLS                       10.0   \n",
       "1                 REPETITIVE MOTION                       49.0   \n",
       "2    OBJECT BEING LIFTED OR HANDLED                        7.0   \n",
       "3                               NaN                        NaN   \n",
       "\n",
       "  WCIO Nature of Injury Description WCIO Part Of Body Code  \\\n",
       "0                         CONTUSION                   62.0   \n",
       "1                    SPRAIN OR TEAR                   38.0   \n",
       "2                        CONCUSSION                   10.0   \n",
       "3                               NaN                    NaN   \n",
       "\n",
       "  WCIO Part Of Body Description Zip Code Agreement Reached      WCB Decision  \\\n",
       "0                      BUTTOCKS    13662               0.0  Not Work Related   \n",
       "1                   SHOULDER(S)    14569               1.0  Not Work Related   \n",
       "2          MULTIPLE HEAD INJURY    12589               0.0  Not Work Related   \n",
       "3                           NaN      NaN               NaN               NaN   \n",
       "\n",
       "   Number of Dependents  \n",
       "0                   1.0  \n",
       "1                   4.0  \n",
       "2                   6.0  \n",
       "3                   NaN  \n",
       "\n",
       "[4 rows x 33 columns]"
      ]
     },
     "execution_count": 99,
     "metadata": {},
     "output_type": "execute_result"
    }
   ],
   "source": [
    "df_train.head(4)"
   ]
  },
  {
   "cell_type": "markdown",
   "metadata": {
    "vscode": {
     "languageId": "plaintext"
    }
   },
   "source": [
    "## Data explore <a class=\"anchor\" id=\"section_2_2\"></a>\n",
    "The <span style='color:Blue'> info()  </span> method prints information about the dataframe."
   ]
  },
  {
   "cell_type": "code",
   "execution_count": 100,
   "metadata": {},
   "outputs": [
    {
     "name": "stdout",
     "output_type": "stream",
     "text": [
      "<class 'pandas.core.frame.DataFrame'>\n",
      "RangeIndex: 593471 entries, 0 to 593470\n",
      "Data columns (total 33 columns):\n",
      " #   Column                              Non-Null Count   Dtype  \n",
      "---  ------                              --------------   -----  \n",
      " 0   Accident Date                       570337 non-null  object \n",
      " 1   Age at Injury                       574026 non-null  float64\n",
      " 2   Alternative Dispute Resolution      574026 non-null  object \n",
      " 3   Assembly Date                       593471 non-null  object \n",
      " 4   Attorney/Representative             574026 non-null  object \n",
      " 5   Average Weekly Wage                 545375 non-null  float64\n",
      " 6   Birth Year                          544948 non-null  float64\n",
      " 7   C-2 Date                            559466 non-null  object \n",
      " 8   C-3 Date                            187245 non-null  object \n",
      " 9   Carrier Name                        574026 non-null  object \n",
      " 10  Carrier Type                        574026 non-null  object \n",
      " 11  Claim Identifier                    593471 non-null  int64  \n",
      " 12  Claim Injury Type                   574026 non-null  object \n",
      " 13  County of Injury                    574026 non-null  object \n",
      " 14  COVID-19 Indicator                  574026 non-null  object \n",
      " 15  District Name                       574026 non-null  object \n",
      " 16  First Hearing Date                  150798 non-null  object \n",
      " 17  Gender                              574026 non-null  object \n",
      " 18  IME-4 Count                         132803 non-null  float64\n",
      " 19  Industry Code                       564068 non-null  float64\n",
      " 20  Industry Code Description           564068 non-null  object \n",
      " 21  Medical Fee Region                  574026 non-null  object \n",
      " 22  OIICS Nature of Injury Description  0 non-null       float64\n",
      " 23  WCIO Cause of Injury Code           558386 non-null  float64\n",
      " 24  WCIO Cause of Injury Description    558386 non-null  object \n",
      " 25  WCIO Nature of Injury Code          558369 non-null  float64\n",
      " 26  WCIO Nature of Injury Description   558369 non-null  object \n",
      " 27  WCIO Part Of Body Code              556944 non-null  float64\n",
      " 28  WCIO Part Of Body Description       556944 non-null  object \n",
      " 29  Zip Code                            545389 non-null  object \n",
      " 30  Agreement Reached                   574026 non-null  float64\n",
      " 31  WCB Decision                        574026 non-null  object \n",
      " 32  Number of Dependents                574026 non-null  float64\n",
      "dtypes: float64(11), int64(1), object(21)\n",
      "memory usage: 149.4+ MB\n"
     ]
    }
   ],
   "source": [
    "df_train.info()"
   ]
  },
  {
   "cell_type": "code",
   "execution_count": 101,
   "metadata": {},
   "outputs": [],
   "source": [
    "#Converting Date Columns\n",
    "# Convert object columns to datetime format\n",
    "date_columns = ['Accident Date', 'Assembly Date', 'C-2 Date', 'C-3 Date', 'First Hearing Date']\n",
    "df_train[date_columns] = df_train[date_columns].apply(pd.to_datetime, errors='coerce')"
   ]
  },
  {
   "cell_type": "code",
   "execution_count": 102,
   "metadata": {},
   "outputs": [],
   "source": [
    "# Convert object columns to category\n",
    "categorical_columns = ['Alternative Dispute Resolution', 'Carrier Name', 'Carrier Type', \n",
    "                       'Claim Injury Type', 'County of Injury', 'COVID-19 Indicator',\n",
    "                       'District Name', 'Gender', 'WCB Decision', 'Medical Fee Region']\n",
    "\n",
    "df_train[categorical_columns] = df_train[categorical_columns].astype('category')"
   ]
  },
  {
   "cell_type": "code",
   "execution_count": 103,
   "metadata": {},
   "outputs": [],
   "source": [
    "# Example: Convert numerical columns stored as objects to float (if necessary)\n",
    "df_train['Average Weekly Wage'] = pd.to_numeric(df_train['Average Weekly Wage'], errors='coerce')"
   ]
  },
  {
   "cell_type": "markdown",
   "metadata": {},
   "source": [
    "#### Missing values"
   ]
  },
  {
   "cell_type": "code",
   "execution_count": 104,
   "metadata": {},
   "outputs": [
    {
     "name": "stdout",
     "output_type": "stream",
     "text": [
      "Accident Date                          23134\n",
      "Age at Injury                          19445\n",
      "Alternative Dispute Resolution         19445\n",
      "Assembly Date                              0\n",
      "Attorney/Representative                19445\n",
      "Average Weekly Wage                    48096\n",
      "Birth Year                             48523\n",
      "C-2 Date                               34005\n",
      "C-3 Date                              406226\n",
      "Carrier Name                           19445\n",
      "Carrier Type                           19445\n",
      "Claim Identifier                           0\n",
      "Claim Injury Type                      19445\n",
      "County of Injury                       19445\n",
      "COVID-19 Indicator                     19445\n",
      "District Name                          19445\n",
      "First Hearing Date                    442673\n",
      "Gender                                 19445\n",
      "IME-4 Count                           460668\n",
      "Industry Code                          29403\n",
      "Industry Code Description              29403\n",
      "Medical Fee Region                     19445\n",
      "OIICS Nature of Injury Description    593471\n",
      "WCIO Cause of Injury Code              35085\n",
      "WCIO Cause of Injury Description       35085\n",
      "WCIO Nature of Injury Code             35102\n",
      "WCIO Nature of Injury Description      35102\n",
      "WCIO Part Of Body Code                 36527\n",
      "WCIO Part Of Body Description          36527\n",
      "Zip Code                               48082\n",
      "Agreement Reached                      19445\n",
      "WCB Decision                           19445\n",
      "Number of Dependents                   19445\n",
      "dtype: int64\n"
     ]
    }
   ],
   "source": [
    "print(df_train.isnull().sum())"
   ]
  },
  {
   "cell_type": "code",
   "execution_count": 105,
   "metadata": {},
   "outputs": [
    {
     "name": "stdout",
     "output_type": "stream",
     "text": [
      "C-3 Date                              0.684492\n",
      "First Hearing Date                    0.745905\n",
      "IME-4 Count                           0.776227\n",
      "OIICS Nature of Injury Description    1.000000\n",
      "dtype: float64\n"
     ]
    }
   ],
   "source": [
    "# Set the threshold for missing values (e.g., more than 40% missing)\n",
    "threshold = 0.4\n",
    "\n",
    "# Calculate the percentage of missing values for each column\n",
    "missing_percentage = df_train.isnull().mean()\n",
    "\n",
    "# Filter columns that have more than the threshold of missing values\n",
    "high_missing_columns = missing_percentage[missing_percentage > threshold]\n",
    "\n",
    "# Display the columns with their missing percentage\n",
    "print(high_missing_columns)"
   ]
  },
  {
   "cell_type": "code",
   "execution_count": 106,
   "metadata": {},
   "outputs": [],
   "source": [
    "df_train = df_train.drop(['OIICS Nature of Injury Description','C-3 Date','First Hearing Date','IME-4 Count'], axis=1)"
   ]
  },
  {
   "cell_type": "markdown",
   "metadata": {},
   "source": [
    "# WE still have missing values --> for now i will just delete them but we need to think about them"
   ]
  },
  {
   "cell_type": "code",
   "execution_count": 107,
   "metadata": {},
   "outputs": [
    {
     "data": {
      "text/plain": [
       "Accident Date                        23134\n",
       "Age at Injury                        19445\n",
       "Alternative Dispute Resolution       19445\n",
       "Assembly Date                            0\n",
       "Attorney/Representative              19445\n",
       "Average Weekly Wage                  48096\n",
       "Birth Year                           48523\n",
       "C-2 Date                             34005\n",
       "Carrier Name                         19445\n",
       "Carrier Type                         19445\n",
       "Claim Identifier                         0\n",
       "Claim Injury Type                    19445\n",
       "County of Injury                     19445\n",
       "COVID-19 Indicator                   19445\n",
       "District Name                        19445\n",
       "Gender                               19445\n",
       "Industry Code                        29403\n",
       "Industry Code Description            29403\n",
       "Medical Fee Region                   19445\n",
       "WCIO Cause of Injury Code            35085\n",
       "WCIO Cause of Injury Description     35085\n",
       "WCIO Nature of Injury Code           35102\n",
       "WCIO Nature of Injury Description    35102\n",
       "WCIO Part Of Body Code               36527\n",
       "WCIO Part Of Body Description        36527\n",
       "Zip Code                             48082\n",
       "Agreement Reached                    19445\n",
       "WCB Decision                         19445\n",
       "Number of Dependents                 19445\n",
       "dtype: int64"
      ]
     },
     "execution_count": 107,
     "metadata": {},
     "output_type": "execute_result"
    }
   ],
   "source": [
    "df_train.isnull().sum()"
   ]
  },
  {
   "cell_type": "code",
   "execution_count": 108,
   "metadata": {},
   "outputs": [],
   "source": [
    "df_train = df_train.dropna()"
   ]
  },
  {
   "cell_type": "markdown",
   "metadata": {},
   "source": [
    "The <span style='color:Blue'> describe()  </span> method  is used for calculating some statistical data."
   ]
  },
  {
   "cell_type": "code",
   "execution_count": 109,
   "metadata": {},
   "outputs": [
    {
     "data": {
      "text/html": [
       "<div>\n",
       "<style scoped>\n",
       "    .dataframe tbody tr th:only-of-type {\n",
       "        vertical-align: middle;\n",
       "    }\n",
       "\n",
       "    .dataframe tbody tr th {\n",
       "        vertical-align: top;\n",
       "    }\n",
       "\n",
       "    .dataframe thead th {\n",
       "        text-align: right;\n",
       "    }\n",
       "</style>\n",
       "<table border=\"1\" class=\"dataframe\">\n",
       "  <thead>\n",
       "    <tr style=\"text-align: right;\">\n",
       "      <th></th>\n",
       "      <th>count</th>\n",
       "      <th>mean</th>\n",
       "      <th>std</th>\n",
       "      <th>min</th>\n",
       "      <th>25%</th>\n",
       "      <th>50%</th>\n",
       "      <th>75%</th>\n",
       "      <th>max</th>\n",
       "    </tr>\n",
       "  </thead>\n",
       "  <tbody>\n",
       "    <tr>\n",
       "      <th>Age at Injury</th>\n",
       "      <td>473997.0</td>\n",
       "      <td>4.246702e+01</td>\n",
       "      <td>13.764263</td>\n",
       "      <td>0.0</td>\n",
       "      <td>31.0</td>\n",
       "      <td>42.0</td>\n",
       "      <td>54.00</td>\n",
       "      <td>117.0</td>\n",
       "    </tr>\n",
       "    <tr>\n",
       "      <th>Average Weekly Wage</th>\n",
       "      <td>473997.0</td>\n",
       "      <td>5.076798e+02</td>\n",
       "      <td>6514.530694</td>\n",
       "      <td>0.0</td>\n",
       "      <td>0.0</td>\n",
       "      <td>0.0</td>\n",
       "      <td>871.41</td>\n",
       "      <td>2828079.0</td>\n",
       "    </tr>\n",
       "    <tr>\n",
       "      <th>Birth Year</th>\n",
       "      <td>473997.0</td>\n",
       "      <td>1.893329e+03</td>\n",
       "      <td>400.399479</td>\n",
       "      <td>0.0</td>\n",
       "      <td>1965.0</td>\n",
       "      <td>1977.0</td>\n",
       "      <td>1989.00</td>\n",
       "      <td>2018.0</td>\n",
       "    </tr>\n",
       "    <tr>\n",
       "      <th>Claim Identifier</th>\n",
       "      <td>473997.0</td>\n",
       "      <td>5.779718e+06</td>\n",
       "      <td>222288.100871</td>\n",
       "      <td>5393091.0</td>\n",
       "      <td>5587904.0</td>\n",
       "      <td>5779273.0</td>\n",
       "      <td>5972072.00</td>\n",
       "      <td>6165684.0</td>\n",
       "    </tr>\n",
       "    <tr>\n",
       "      <th>Industry Code</th>\n",
       "      <td>473997.0</td>\n",
       "      <td>5.880562e+01</td>\n",
       "      <td>19.621684</td>\n",
       "      <td>11.0</td>\n",
       "      <td>45.0</td>\n",
       "      <td>61.0</td>\n",
       "      <td>71.00</td>\n",
       "      <td>92.0</td>\n",
       "    </tr>\n",
       "    <tr>\n",
       "      <th>WCIO Cause of Injury Code</th>\n",
       "      <td>473997.0</td>\n",
       "      <td>5.427402e+01</td>\n",
       "      <td>25.824669</td>\n",
       "      <td>1.0</td>\n",
       "      <td>31.0</td>\n",
       "      <td>56.0</td>\n",
       "      <td>75.00</td>\n",
       "      <td>99.0</td>\n",
       "    </tr>\n",
       "    <tr>\n",
       "      <th>WCIO Nature of Injury Code</th>\n",
       "      <td>473997.0</td>\n",
       "      <td>4.095300e+01</td>\n",
       "      <td>22.188292</td>\n",
       "      <td>1.0</td>\n",
       "      <td>16.0</td>\n",
       "      <td>49.0</td>\n",
       "      <td>52.00</td>\n",
       "      <td>91.0</td>\n",
       "    </tr>\n",
       "    <tr>\n",
       "      <th>WCIO Part Of Body Code</th>\n",
       "      <td>473997.0</td>\n",
       "      <td>3.975983e+01</td>\n",
       "      <td>22.330312</td>\n",
       "      <td>-9.0</td>\n",
       "      <td>33.0</td>\n",
       "      <td>38.0</td>\n",
       "      <td>53.00</td>\n",
       "      <td>99.0</td>\n",
       "    </tr>\n",
       "    <tr>\n",
       "      <th>Agreement Reached</th>\n",
       "      <td>473997.0</td>\n",
       "      <td>4.732941e-02</td>\n",
       "      <td>0.212343</td>\n",
       "      <td>0.0</td>\n",
       "      <td>0.0</td>\n",
       "      <td>0.0</td>\n",
       "      <td>0.00</td>\n",
       "      <td>1.0</td>\n",
       "    </tr>\n",
       "    <tr>\n",
       "      <th>Number of Dependents</th>\n",
       "      <td>473997.0</td>\n",
       "      <td>3.007093e+00</td>\n",
       "      <td>2.001330</td>\n",
       "      <td>0.0</td>\n",
       "      <td>1.0</td>\n",
       "      <td>3.0</td>\n",
       "      <td>5.00</td>\n",
       "      <td>6.0</td>\n",
       "    </tr>\n",
       "  </tbody>\n",
       "</table>\n",
       "</div>"
      ],
      "text/plain": [
       "                               count          mean            std        min  \\\n",
       "Age at Injury               473997.0  4.246702e+01      13.764263        0.0   \n",
       "Average Weekly Wage         473997.0  5.076798e+02    6514.530694        0.0   \n",
       "Birth Year                  473997.0  1.893329e+03     400.399479        0.0   \n",
       "Claim Identifier            473997.0  5.779718e+06  222288.100871  5393091.0   \n",
       "Industry Code               473997.0  5.880562e+01      19.621684       11.0   \n",
       "WCIO Cause of Injury Code   473997.0  5.427402e+01      25.824669        1.0   \n",
       "WCIO Nature of Injury Code  473997.0  4.095300e+01      22.188292        1.0   \n",
       "WCIO Part Of Body Code      473997.0  3.975983e+01      22.330312       -9.0   \n",
       "Agreement Reached           473997.0  4.732941e-02       0.212343        0.0   \n",
       "Number of Dependents        473997.0  3.007093e+00       2.001330        0.0   \n",
       "\n",
       "                                  25%        50%         75%        max  \n",
       "Age at Injury                    31.0       42.0       54.00      117.0  \n",
       "Average Weekly Wage               0.0        0.0      871.41  2828079.0  \n",
       "Birth Year                     1965.0     1977.0     1989.00     2018.0  \n",
       "Claim Identifier            5587904.0  5779273.0  5972072.00  6165684.0  \n",
       "Industry Code                    45.0       61.0       71.00       92.0  \n",
       "WCIO Cause of Injury Code        31.0       56.0       75.00       99.0  \n",
       "WCIO Nature of Injury Code       16.0       49.0       52.00       91.0  \n",
       "WCIO Part Of Body Code           33.0       38.0       53.00       99.0  \n",
       "Agreement Reached                 0.0        0.0        0.00        1.0  \n",
       "Number of Dependents              1.0        3.0        5.00        6.0  "
      ]
     },
     "execution_count": 109,
     "metadata": {},
     "output_type": "execute_result"
    }
   ],
   "source": [
    "df_train.describe().T"
   ]
  },
  {
   "cell_type": "markdown",
   "metadata": {},
   "source": [
    "The <span style='color:Blue'> var()  </span> method allows us to check if there are any of the numerical variables are univariate (variance is equal to 0). <br>"
   ]
  },
  {
   "cell_type": "code",
   "execution_count": 110,
   "metadata": {},
   "outputs": [
    {
     "name": "stderr",
     "output_type": "stream",
     "text": [
      "C:\\Users\\xandg\\AppData\\Local\\Temp\\ipykernel_10252\\3907004805.py:1: FutureWarning: The default value of numeric_only in DataFrame.var is deprecated. In a future version, it will default to False. In addition, specifying 'numeric_only=None' is deprecated. Select only valid columns or specify the value of numeric_only to silence this warning.\n",
      "  df_train.var()\n"
     ]
    },
    {
     "data": {
      "text/plain": [
       "Age at Injury                 1.894549e+02\n",
       "Average Weekly Wage           4.243911e+07\n",
       "Birth Year                    1.603197e+05\n",
       "Claim Identifier              4.941200e+10\n",
       "Industry Code                 3.850105e+02\n",
       "WCIO Cause of Injury Code     6.669135e+02\n",
       "WCIO Nature of Injury Code    4.923203e+02\n",
       "WCIO Part Of Body Code        4.986428e+02\n",
       "Agreement Reached             4.508944e-02\n",
       "Number of Dependents          4.005321e+00\n",
       "dtype: float64"
      ]
     },
     "execution_count": 110,
     "metadata": {},
     "output_type": "execute_result"
    }
   ],
   "source": [
    "df_train.var()"
   ]
  },
  {
   "cell_type": "markdown",
   "metadata": {},
   "source": [
    "## Visualization <a class=\"anchor\" id=\"section_2_3\"></a>\n"
   ]
  },
  {
   "cell_type": "code",
   "execution_count": null,
   "metadata": {},
   "outputs": [],
   "source": []
  },
  {
   "cell_type": "code",
   "execution_count": null,
   "metadata": {},
   "outputs": [],
   "source": []
  },
  {
   "cell_type": "code",
   "execution_count": null,
   "metadata": {},
   "outputs": [],
   "source": []
  },
  {
   "cell_type": "code",
   "execution_count": null,
   "metadata": {},
   "outputs": [],
   "source": []
  },
  {
   "cell_type": "markdown",
   "metadata": {},
   "source": [
    "#  **<h3 align=\"center\">Test dataset </h3>** <a class=\"anchor\" id=\"chapter3\"></a>\n",
    "## Import the dataset <a class=\"anchor\" id=\"section_3_1\"></a>"
   ]
  },
  {
   "cell_type": "code",
   "execution_count": 111,
   "metadata": {},
   "outputs": [
    {
     "data": {
      "text/html": [
       "<div>\n",
       "<style scoped>\n",
       "    .dataframe tbody tr th:only-of-type {\n",
       "        vertical-align: middle;\n",
       "    }\n",
       "\n",
       "    .dataframe tbody tr th {\n",
       "        vertical-align: top;\n",
       "    }\n",
       "\n",
       "    .dataframe thead th {\n",
       "        text-align: right;\n",
       "    }\n",
       "</style>\n",
       "<table border=\"1\" class=\"dataframe\">\n",
       "  <thead>\n",
       "    <tr style=\"text-align: right;\">\n",
       "      <th></th>\n",
       "      <th>Accident Date</th>\n",
       "      <th>Age at Injury</th>\n",
       "      <th>Alternative Dispute Resolution</th>\n",
       "      <th>Assembly Date</th>\n",
       "      <th>Attorney/Representative</th>\n",
       "      <th>Average Weekly Wage</th>\n",
       "      <th>Birth Year</th>\n",
       "      <th>C-2 Date</th>\n",
       "      <th>C-3 Date</th>\n",
       "      <th>Carrier Name</th>\n",
       "      <th>...</th>\n",
       "      <th>Medical Fee Region</th>\n",
       "      <th>OIICS Nature of Injury Description</th>\n",
       "      <th>WCIO Cause of Injury Code</th>\n",
       "      <th>WCIO Cause of Injury Description</th>\n",
       "      <th>WCIO Nature of Injury Code</th>\n",
       "      <th>WCIO Nature of Injury Description</th>\n",
       "      <th>WCIO Part Of Body Code</th>\n",
       "      <th>WCIO Part Of Body Description</th>\n",
       "      <th>Zip Code</th>\n",
       "      <th>Number of Dependents</th>\n",
       "    </tr>\n",
       "  </thead>\n",
       "  <tbody>\n",
       "    <tr>\n",
       "      <th>0</th>\n",
       "      <td>2022-12-24</td>\n",
       "      <td>19</td>\n",
       "      <td>N</td>\n",
       "      <td>2023-01-02</td>\n",
       "      <td>N</td>\n",
       "      <td>NaN</td>\n",
       "      <td>2003.0</td>\n",
       "      <td>2023-01-02</td>\n",
       "      <td>NaN</td>\n",
       "      <td>INDEMNITY INSURANCE CO OF</td>\n",
       "      <td>...</td>\n",
       "      <td>IV</td>\n",
       "      <td>NaN</td>\n",
       "      <td>31.0</td>\n",
       "      <td>FALL, SLIP OR TRIP, NOC</td>\n",
       "      <td>10.0</td>\n",
       "      <td>CONTUSION</td>\n",
       "      <td>54.0</td>\n",
       "      <td>LOWER LEG</td>\n",
       "      <td>10466</td>\n",
       "      <td>1</td>\n",
       "    </tr>\n",
       "    <tr>\n",
       "      <th>1</th>\n",
       "      <td>2022-11-20</td>\n",
       "      <td>19</td>\n",
       "      <td>N</td>\n",
       "      <td>2023-01-02</td>\n",
       "      <td>N</td>\n",
       "      <td>NaN</td>\n",
       "      <td>2003.0</td>\n",
       "      <td>2023-01-02</td>\n",
       "      <td>NaN</td>\n",
       "      <td>A I U INSURANCE COMPANY</td>\n",
       "      <td>...</td>\n",
       "      <td>IV</td>\n",
       "      <td>NaN</td>\n",
       "      <td>75.0</td>\n",
       "      <td>FALLING OR FLYING OBJECT</td>\n",
       "      <td>10.0</td>\n",
       "      <td>CONTUSION</td>\n",
       "      <td>10.0</td>\n",
       "      <td>MULTIPLE HEAD INJURY</td>\n",
       "      <td>11691</td>\n",
       "      <td>1</td>\n",
       "    </tr>\n",
       "    <tr>\n",
       "      <th>2</th>\n",
       "      <td>2022-12-26</td>\n",
       "      <td>59</td>\n",
       "      <td>N</td>\n",
       "      <td>2023-01-02</td>\n",
       "      <td>N</td>\n",
       "      <td>0.0</td>\n",
       "      <td>1963.0</td>\n",
       "      <td>2022-12-31</td>\n",
       "      <td>NaN</td>\n",
       "      <td>AMGUARD INSURANCE COMPANY</td>\n",
       "      <td>...</td>\n",
       "      <td>III</td>\n",
       "      <td>NaN</td>\n",
       "      <td>68.0</td>\n",
       "      <td>STATIONARY OBJECT</td>\n",
       "      <td>49.0</td>\n",
       "      <td>SPRAIN OR TEAR</td>\n",
       "      <td>62.0</td>\n",
       "      <td>BUTTOCKS</td>\n",
       "      <td>10604</td>\n",
       "      <td>0</td>\n",
       "    </tr>\n",
       "  </tbody>\n",
       "</table>\n",
       "<p>3 rows × 30 columns</p>\n",
       "</div>"
      ],
      "text/plain": [
       "  Accident Date  Age at Injury Alternative Dispute Resolution Assembly Date  \\\n",
       "0    2022-12-24             19                              N    2023-01-02   \n",
       "1    2022-11-20             19                              N    2023-01-02   \n",
       "2    2022-12-26             59                              N    2023-01-02   \n",
       "\n",
       "  Attorney/Representative  Average Weekly Wage  Birth Year    C-2 Date  \\\n",
       "0                       N                  NaN      2003.0  2023-01-02   \n",
       "1                       N                  NaN      2003.0  2023-01-02   \n",
       "2                       N                  0.0      1963.0  2022-12-31   \n",
       "\n",
       "  C-3 Date               Carrier Name  ... Medical Fee Region  \\\n",
       "0      NaN  INDEMNITY INSURANCE CO OF  ...                 IV   \n",
       "1      NaN    A I U INSURANCE COMPANY  ...                 IV   \n",
       "2      NaN  AMGUARD INSURANCE COMPANY  ...                III   \n",
       "\n",
       "   OIICS Nature of Injury Description WCIO Cause of Injury Code  \\\n",
       "0                                 NaN                      31.0   \n",
       "1                                 NaN                      75.0   \n",
       "2                                 NaN                      68.0   \n",
       "\n",
       "  WCIO Cause of Injury Description WCIO Nature of Injury Code  \\\n",
       "0          FALL, SLIP OR TRIP, NOC                       10.0   \n",
       "1         FALLING OR FLYING OBJECT                       10.0   \n",
       "2                STATIONARY OBJECT                       49.0   \n",
       "\n",
       "  WCIO Nature of Injury Description WCIO Part Of Body Code  \\\n",
       "0                         CONTUSION                   54.0   \n",
       "1                         CONTUSION                   10.0   \n",
       "2                    SPRAIN OR TEAR                   62.0   \n",
       "\n",
       "   WCIO Part Of Body Description  Zip Code Number of Dependents  \n",
       "0                      LOWER LEG     10466                    1  \n",
       "1           MULTIPLE HEAD INJURY     11691                    1  \n",
       "2                       BUTTOCKS     10604                    0  \n",
       "\n",
       "[3 rows x 30 columns]"
      ]
     },
     "execution_count": 111,
     "metadata": {},
     "output_type": "execute_result"
    }
   ],
   "source": [
    "df_test = pd.read_csv('../project_data/Data/test_data.csv')\n",
    "df_test.head(3)"
   ]
  },
  {
   "cell_type": "markdown",
   "metadata": {},
   "source": [
    "# Feature Selection <a class=\"anchor\" id=\"chapter4\"></a>\n",
    "To start with the feature selection we first need to split our train dataset into X and y. And then split into train and validation."
   ]
  },
  {
   "cell_type": "code",
   "execution_count": 112,
   "metadata": {},
   "outputs": [],
   "source": [
    "X= df_train.drop('Claim Injury Type',axis=1)\n",
    "y=df_train['Claim Injury Type']"
   ]
  },
  {
   "cell_type": "code",
   "execution_count": 113,
   "metadata": {},
   "outputs": [],
   "source": [
    "from sklearn.model_selection import train_test_split\n",
    "from sklearn.preprocessing import RobustScaler"
   ]
  },
  {
   "cell_type": "code",
   "execution_count": 114,
   "metadata": {},
   "outputs": [],
   "source": [
    "X_train, X_val, y_train, y_val = train_test_split(X,y, \n",
    "                                                  test_size = 0.2, \n",
    "                                                  random_state = 42,\n",
    "                                                  stratify = y, \n",
    "                                                  shuffle = True)"
   ]
  },
  {
   "cell_type": "markdown",
   "metadata": {},
   "source": [
    " ## <b>1. Selecting Numeric Features</b> <a class=\"anchor\" id=\"section_4_1\"></a>\n",
    "  > ### Scale the data <a class=\"anchor\" id=\"sub_section_4_1_1\"></a>"
   ]
  },
  {
   "cell_type": "code",
   "execution_count": 115,
   "metadata": {},
   "outputs": [],
   "source": [
    "numerical_columns = df_train.select_dtypes(include=['float64', 'int64']).columns"
   ]
  },
  {
   "cell_type": "code",
   "execution_count": 116,
   "metadata": {},
   "outputs": [],
   "source": [
    "#scaling features\n",
    "feat_scaler = RobustScaler()\n",
    "X_train[numerical_columns] = feat_scaler.fit_transform(X_train[numerical_columns])\n",
    "\n",
    "#apply same transformation for test data\n",
    "X_val[numerical_columns] = feat_scaler.transform(X_val[numerical_columns])"
   ]
  },
  {
   "cell_type": "markdown",
   "metadata": {},
   "source": [
    " > ### Spearman and Pearson correlation matrix <a class=\"anchor\" id=\"sub_section_4_1_2\"></a>"
   ]
  },
  {
   "cell_type": "code",
   "execution_count": 117,
   "metadata": {},
   "outputs": [],
   "source": [
    "def cor_heatmap(cor, name):\n",
    "    plt.figure(figsize=(18,12))\n",
    "    sns.heatmap(data = cor.round(2), annot = True, cmap = 'viridis', linecolor = 'white', linewidth=0.5, fmt='.2', mask=np.triu(cor, k=0))\n",
    "    plt.title(f'{name} Correlation Matrix', fontdict = {'fontsize': 20})\n",
    "    plt.show()"
   ]
  },
  {
   "cell_type": "code",
   "execution_count": 118,
   "metadata": {},
   "outputs": [],
   "source": [
    "#we have to create features_continuous "
   ]
  },
  {
   "cell_type": "code",
   "execution_count": 120,
   "metadata": {},
   "outputs": [
    {
     "data": {
      "image/png": "[encoded data removed]",
      "text/plain": [
       "<Figure size 1800x1200 with 2 Axes>"
      ]
     },
     "metadata": {},
     "output_type": "display_data"
    }
   ],
   "source": [
    "corr_data_numerical = df_train[numerical_columns]\n",
    "# corr_data_continuous = df_train[features_continuous]\n",
    "cor_spearman = corr_data_numerical.corr(method='spearman')\n",
    "# cor_pearson = corr_data_continuous.corr(method='pearson')\n",
    "\n",
    "cor_heatmap(cor_spearman, 'Spearman')\n",
    "# cor_heatmap(cor_pearson, 'Pearson')"
   ]
  },
  {
   "cell_type": "markdown",
   "metadata": {},
   "source": [
    " > ### LASSO Regression <a class=\"anchor\" id=\"sub_section_4_1_3\"></a>"
   ]
  },
  {
   "cell_type": "code",
   "execution_count": null,
   "metadata": {},
   "outputs": [],
   "source": [
    "#fit regression\n",
    "reg = LassoCV().fit(X_train[features_continuous], y_train)\n",
    "#get coefficients\n",
    "coef = pd.Series(reg.coef_, index = X_train[features_continuous].columns)\n",
    "#obtain coef values\n",
    "coef.sort_values()"
   ]
  },
  {
   "cell_type": "code",
   "execution_count": null,
   "metadata": {},
   "outputs": [],
   "source": [
    "def plot_importance(coef,name):\n",
    "    imp_coef = coef.sort_values()\n",
    "    plt.figure(figsize=(3,5))\n",
    "    imp_coef.plot(kind = \"barh\", color='c')\n",
    "    plt.title(\"Feature importance using \" + name + \" Model\")\n",
    "    plt.show()"
   ]
  },
  {
   "cell_type": "code",
   "execution_count": null,
   "metadata": {},
   "outputs": [],
   "source": [
    "plot_importance(coef,'Lasso')"
   ]
  },
  {
   "cell_type": "markdown",
   "metadata": {},
   "source": [
    " > ### Recursive Feature Elimination - RFE <a class=\"anchor\" id=\"sub_section_4_1_4\"></a>"
   ]
  },
  {
   "cell_type": "code",
   "execution_count": null,
   "metadata": {},
   "outputs": [],
   "source": [
    "# Number of features\n",
    "nof_list=np.arange(1,27)            \n",
    "high_score=0\n",
    "# Variable to store the optimum features\n",
    "nof=0           \n",
    "score_list =[]\n",
    "for n in range(len(nof_list)):\n",
    "    model = LogisticRegression()\n",
    "    rfe = RFE(model,n_features_to_select = nof_list[n])\n",
    "    X_train_rfe = rfe.fit_transform(X_train[features_numerical],y_train)\n",
    "    X_val_rfe = rfe.transform(X_val[features_numerical])\n",
    "    model.fit(X_train_rfe,y_train)\n",
    "    \n",
    "    score = model.score(X_val_rfe,y_val)\n",
    "    score_list.append(score)\n",
    "    \n",
    "    if(score>high_score):\n",
    "        high_score = score\n",
    "        nof = nof_list[n]\n",
    "print(\"Optimum number of features: %d\" %nof)\n",
    "print(\"Score with %d features: %f\" % (nof, high_score))"
   ]
  }
 ],
 "metadata": {
  "kernelspec": {
   "display_name": "Python 3",
   "language": "python",
   "name": "python3"
  },
  "language_info": {
   "codemirror_mode": {
    "name": "ipython",
    "version": 3
   },
   "file_extension": ".py",
   "mimetype": "text/x-python",
   "name": "python",
   "nbconvert_exporter": "python",
   "pygments_lexer": "ipython3",
   "version": "3.11.3"
  }
 },
 "nbformat": 4,
 "nbformat_minor": 2
}
