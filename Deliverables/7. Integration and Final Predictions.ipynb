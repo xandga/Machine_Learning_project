{
 "cells": [
  {
   "cell_type": "markdown",
   "metadata": {},
   "source": [
    "# **<h3 align=\"center\">Machine Learning - Project</h3>**\n",
    "## **<h3 align=\"center\">7. Integration and Final Predictions</h3>**\n",
    "### **<h3 align=\"center\">Group 30 - Project</h3>**\n",
    "\n",
    "\n",
    "### Group Members\n",
    "| Name              | Email                        | Student ID |\n",
    "|-------------------|------------------------------|------------|\n",
    "| Alexandra Pinto   | 20211599@novaims.unl.pt      | 20211599   |\n",
    "| Gonçalo Peres     | 20211625@novaims.unl.pt      | 20211625   |\n",
    "| Leonor Mira       | 20240658@novaims.unl.pt      | 20240658   |\n",
    "| Miguel Natário    | 20240498@novaims.unl.pt      | 20240498   |\n",
    "| Nuno Bernardino   | 20211546@novaims.unl.pt      | 20211546    |"
   ]
  },
  {
   "cell_type": "markdown",
   "metadata": {},
   "source": [
    "\n",
    "---\n",
    "\n",
    "### **7. Integration and Final Predictions Notebook**\n",
    "**Description:**\n",
    "In this notebook, we integrate the results from all levels of the hierarchy to produce the **final classification outputs** and evaluate the overall pipeline.\n",
    "\n",
    "Key steps include:\n",
    "- Loading predictions from **Level 1**, **Level 2 Binary**, and **Level 2 Multi-Class** notebooks.\n",
    "- **Merging predictions:** Combine outputs from all levels to assign a final class to each case.\n",
    "- **Post-processing:** Apply any necessary adjustments or probability thresholds to improve consistency.\n",
    "- **Evaluation:** Assess the pipeline's overall performance using metrics like accuracy, F1-score, and confusion matrices.\n",
    "- **Output:** Save the final predictions in a structured format for deployment or reporting.\n",
    "\n",
    "This notebook serves as the culmination of the hierarchical classification framework, ensuring all components work seamlessly together.\n",
    "\n",
    "---"
   ]
  },
  {
   "cell_type": "markdown",
   "metadata": {},
   "source": [
    "## Table of Contents\n",
    "* [1. Import the Libraries](#chapter1)\n",
    "* [2. Load and Prepare Datasets](#chapter2)\n",
    "* [3. Merging Results](#chapter3)"
   ]
  },
  {
   "cell_type": "markdown",
   "metadata": {},
   "source": [
    "# 1. Import the Libraries 📚<a class=\"anchor\" id=\"chapter1\"></a>"
   ]
  },
  {
   "cell_type": "code",
   "execution_count": 2,
   "metadata": {},
   "outputs": [],
   "source": [
    "# --- Standard Libraries ---\n",
    "import pandas as pd\n",
    "import numpy as np\n",
    "import matplotlib.pyplot as plt\n",
    "import seaborn as sns\n",
    "sns.set()\n",
    "import zipfile\n",
    "\n",
    "\n",
    "# --- Scikit-Learn Modules for Data Partitioning and Preprocessing ---\n",
    "from sklearn.model_selection import train_test_split, cross_val_score\n",
    "from sklearn.preprocessing import StandardScaler, OneHotEncoder, LabelEncoder, MinMaxScaler, RobustScaler\n",
    "from sklearn.compose import ColumnTransformer\n",
    "from sklearn.pipeline import Pipeline\n",
    "from sklearn.preprocessing import LabelEncoder\n",
    "\n",
    "\n",
    "# --- Feature Selection Methods ---\n",
    "# Filter Methods\n",
    "import scipy.stats as stats\n",
    "from scipy.stats import chi2_contingency\n",
    "from sklearn.feature_selection import mutual_info_classif, chi2, SelectKBest\n",
    "\n",
    "# Wrapper Methods\n",
    "from sklearn.linear_model import LogisticRegression\n",
    "from sklearn.svm import SVC\n",
    "from sklearn.feature_selection import RFE\n",
    "from sklearn.ensemble import RandomForestClassifier\n",
    "from sklearn.tree import DecisionTreeClassifier\n",
    "\n",
    "# Embedded Methods\n",
    "from sklearn.linear_model import LassoCV\n",
    "\n",
    "# --- Evaluation Metrics ---\n",
    "from sklearn.metrics import classification_report, confusion_matrix, accuracy_score, precision_score, recall_score, f1_score\n",
    "\n",
    "#from xgboost import XGBClassifier\n",
    "\n",
    "# --- Warnings ---\n",
    "\n",
    "\n",
    "import warnings\n",
    "warnings.filterwarnings('ignore')\n",
    "\n",
    "\n",
    "#selecionar apenas as função que vamos usar neste :)\n",
    "from utils import plot_importance, cor_heatmap, find_optimal_features_with_rfe, compare_rf_feature_importances,compare_feature_importances, select_high_score_features_chi2_no_model,select_high_score_features_MIC, metrics"
   ]
  },
  {
   "cell_type": "markdown",
   "metadata": {},
   "source": [
    "# 2. Load and Prepare Datasets 📁<a class=\"anchor\" id=\"chapter2\"></a>"
   ]
  },
  {
   "cell_type": "code",
   "execution_count": 21,
   "metadata": {},
   "outputs": [],
   "source": [
    "# Carregar o primeiro dataset\n",
    "X_test_final_1 = pd.read_csv('X_test_final_1.csv')\n",
    "# Carregar o segundo dataset\n",
    "X_test_final_2 = pd.read_csv('X_test_final_2.csv')"
   ]
  },
  {
   "cell_type": "code",
   "execution_count": null,
   "metadata": {},
   "outputs": [],
   "source": []
  },
  {
   "cell_type": "markdown",
   "metadata": {},
   "source": [
    "# 3. Merging the results <a class=\"anchor\" id=\"chapter3\"></a>"
   ]
  },
  {
   "cell_type": "code",
   "execution_count": 22,
   "metadata": {},
   "outputs": [],
   "source": [
    "# Combinar as colunas Final_Predictions, preenchendo valores ausentes (NaNs) do primeiro dataset com valores do segundo\n",
    "X_test_final_combined = X_test_final_1.copy()\n",
    "X_test_final_combined['Final_Predictions'] = X_test_final_1['Final_Predictions'].combine_first(X_test_final_2['Final_Predictions'])"
   ]
  },
  {
   "cell_type": "code",
   "execution_count": 23,
   "metadata": {},
   "outputs": [
    {
     "data": {
      "text/plain": [
       "Final_Predictions\n",
       "2.0    169697\n",
       "3.0    161111\n",
       "4.0     43308\n",
       "1.0      8197\n",
       "5.0      5111\n",
       "6.0       479\n",
       "8.0        72\n",
       "Name: count, dtype: int64"
      ]
     },
     "execution_count": 23,
     "metadata": {},
     "output_type": "execute_result"
    }
   ],
   "source": [
    "X_test_final_combined['Final_Predictions'].value_counts()"
   ]
  },
  {
   "cell_type": "code",
   "execution_count": 6,
   "metadata": {},
   "outputs": [],
   "source": [
    "# Salvar o dataset consolidado\n",
    "X_test_final_combined.to_csv('X_test_final_combined.csv', index=False)"
   ]
  },
  {
   "cell_type": "code",
   "execution_count": 18,
   "metadata": {},
   "outputs": [
    {
     "name": "stdout",
     "output_type": "stream",
     "text": [
      "   Claim Identifier Claim Injury Type\n",
      "0           6165911      3. TEMPORARY\n",
      "1           6166141      3. TEMPORARY\n",
      "2           6165907      3. TEMPORARY\n",
      "3           6166047      3. TEMPORARY\n",
      "4           6166102      3. TEMPORARY\n"
     ]
    }
   ],
   "source": [
    "# Mapear os valores de 'Final_Predictions' para os tipos de lesão\n",
    "injury_type_mapping = {\n",
    "    1: \"NON-COMP\",\n",
    "    2: \"NON-COMP\",\n",
    "    3: \"TEMPORARY\",\n",
    "    5: \"TEMPORARY\",\n",
    "    6: \"PERMANENT\",\n",
    "    7: \"PERMANENT\",\n",
    "    8: \"PERMANENT\"\n",
    "}\n",
    "\n",
    "# Criar a coluna 'Claim Injury Type' com o formato correto\n",
    "X_test_final_combined['Claim Injury Type'] = (\n",
    "    X_test_final_combined['Final_Predictions'].astype(int).astype(str) + \". \" + \n",
    "    X_test_final_combined['Final_Predictions'].map(injury_type_mapping)\n",
    ")\n",
    "\n",
    "# Selecionar apenas as colunas necessárias para a submissão\n",
    "submission = X_test_final_combined[['Claim Identifier', 'Claim Injury Type']]\n",
    "\n",
    "# Exibir as primeiras linhas do arquivo gerado\n",
    "print(submission.head())\n"
   ]
  },
  {
   "cell_type": "code",
   "execution_count": 19,
   "metadata": {},
   "outputs": [],
   "source": [
    "# Salvar o arquivo de submissão\n",
    "submission.to_csv('submission.csv', index=False)"
   ]
  },
  {
   "cell_type": "code",
   "execution_count": 20,
   "metadata": {},
   "outputs": [
    {
     "name": "stdout",
     "output_type": "stream",
     "text": [
      "c:\\Users\\migue\\OneDrive\\Documentos\\GitHub\\Machine_Learning_project\\Deliverables\n"
     ]
    }
   ],
   "source": [
    "import os\n",
    "print(os.getcwd())\n"
   ]
  },
  {
   "cell_type": "code",
   "execution_count": null,
   "metadata": {},
   "outputs": [],
   "source": []
  }
 ],
 "metadata": {
  "kernelspec": {
   "display_name": "base",
   "language": "python",
   "name": "python3"
  },
  "language_info": {
   "codemirror_mode": {
    "name": "ipython",
    "version": 3
   },
   "file_extension": ".py",
   "mimetype": "text/x-python",
   "name": "python",
   "nbconvert_exporter": "python",
   "pygments_lexer": "ipython3",
   "version": "3.12.4"
  }
 },
 "nbformat": 4,
 "nbformat_minor": 2
}
