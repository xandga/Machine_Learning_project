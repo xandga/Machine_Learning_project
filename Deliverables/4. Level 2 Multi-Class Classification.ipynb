{
 "cells": [
  {
   "cell_type": "markdown",
   "metadata": {},
   "source": [
    "# **<h3 align=\"center\">Machine Learning - Project</h3>**\n",
    "## **<h3 align=\"center\">4. Level 2 Multi-Class Classification</h3>**\n",
    "### **<h3 align=\"center\">Group 30 - Project</h3>**\n",
    "\n",
    "\n",
    "### Group Members\n",
    "| Name              | Email                        | Student ID |\n",
    "|-------------------|------------------------------|------------|\n",
    "| Alexandra Pinto   | 20211599@novaims.unl.pt      | 20211599   |\n",
    "| Gonçalo Peres     | 20211625@novaims.unl.pt      | 20211625   |\n",
    "| Leonor Mira       | 20240658@novaims.unl.pt      | 20240658   |\n",
    "| Miguel Natário    | 20240498@novaims.unl.pt      | 20240498   |\n",
    "| Nuno Bernardino   | 20211546@novaims.unl.pt      | 20211546    |"
   ]
  },
  {
   "cell_type": "markdown",
   "metadata": {},
   "source": [
    "---\n",
    "\n",
    "### **4. Level 2 Multi-Class Classification Notebook**\n",
    "**Description:**\n",
    "This notebook handles the **Level 2 Multi-Class Classification model**, which processes cases classified as \"Other\" in Level 1 and assigns them to their specific class among the rarer categories.\n",
    "\n",
    "Key steps include:\n",
    "- Loading the subset of “**Other**” cases from Level 1 predictions.\n",
    "- **Feature selection:** Focus on features relevant for differentiating between the rare classes.\n",
    "- **Model training:** Train and evaluate a multi-class classification model to predict the specific class of these cases.\n",
    "- **Evaluation:** Use multi-class metrics like accuracy, macro-averaged F1-score, and confusion matrices.\n",
    "- **Output:** Save predictions for merging in the final pipeline.\n",
    "\n",
    "This notebook specializes in handling the complexity of rare classes, ensuring that all cases are correctly classified.\n",
    "\n",
    "---"
   ]
  },
  {
   "cell_type": "markdown",
   "metadata": {},
   "source": [
    "## Table of Contents\n",
    "* [1. Import the Libraries](#chapter1)\n",
    "* [2. Load and Prepare Datasets](#chapter2)\n",
    "* [3. Setting the Target](#chapter3)\n",
    "* [4. Feature Selection](#chapter4)\n",
    "    * [Scaling the Data](#section_4_1)  \n",
    "    * [Numerical Features](#section_4_2) \n",
    "    * [Categorical Features](#section_4_3) \n",
    "    * [Final Features](#section_4_3)\n",
    "* [5. Modelling](#chapter5)\n",
    "* [6. Loading the results](#chapter6)\n"
   ]
  },
  {
   "cell_type": "markdown",
   "metadata": {},
   "source": [
    "# 1. Import the Libraries 📚<a class=\"anchor\" id=\"chapter1\"></a>"
   ]
  },
  {
   "cell_type": "code",
   "execution_count": 35,
   "metadata": {},
   "outputs": [],
   "source": [
    "# --- Standard Libraries ---\n",
    "import pandas as pd\n",
    "import numpy as np\n",
    "import matplotlib.pyplot as plt\n",
    "import seaborn as sns\n",
    "sns.set()\n",
    "import zipfile\n",
    "\n",
    "\n",
    "# --- Scikit-Learn Modules for Data Partitioning and Preprocessing ---\n",
    "from sklearn.model_selection import train_test_split, cross_val_score\n",
    "from sklearn.preprocessing import StandardScaler, OneHotEncoder, LabelEncoder, MinMaxScaler, RobustScaler\n",
    "from sklearn.compose import ColumnTransformer\n",
    "from sklearn.pipeline import Pipeline\n",
    "from sklearn.preprocessing import LabelEncoder\n",
    "\n",
    "\n",
    "# --- Feature Selection Methods ---\n",
    "# Filter Methods\n",
    "import scipy.stats as stats\n",
    "from scipy.stats import chi2_contingency\n",
    "from sklearn.feature_selection import mutual_info_classif, chi2, SelectKBest\n",
    "\n",
    "# Wrapper Methods\n",
    "from sklearn.linear_model import LogisticRegression\n",
    "from sklearn.svm import SVC\n",
    "from sklearn.feature_selection import RFE\n",
    "from sklearn.ensemble import RandomForestClassifier\n",
    "from sklearn.tree import DecisionTreeClassifier\n",
    "\n",
    "# Embedded Methods\n",
    "from sklearn.linear_model import LassoCV\n",
    "\n",
    "# --- Evaluation Metrics ---\n",
    "from sklearn.metrics import classification_report, confusion_matrix, accuracy_score, precision_score, recall_score, f1_score\n",
    "\n",
    "#from xgboost import XGBClassifier\n",
    "\n",
    "# --- Warnings ---\n",
    "\n",
    "\n",
    "import warnings\n",
    "warnings.filterwarnings('ignore')\n",
    "\n",
    "\n",
    "#selecionar apenas as função que vamos usar neste :)\n",
    "from utils import plot_importance, cor_heatmap, find_optimal_features_with_rfe, compare_rf_feature_importances,compare_feature_importances, select_high_score_features_chi2_no_model,select_high_score_features_MIC, metrics"
   ]
  },
  {
   "cell_type": "markdown",
   "metadata": {},
   "source": [
    "# 2. Load and Prepare Datasets 📁<a class=\"anchor\" id=\"chapter2\"></a>\n",
    "In this topic we will load the X_train and X_val preprocessed from Notebook 1, and the df_test with the prediction from notebook 3."
   ]
  },
  {
   "cell_type": "code",
   "execution_count": 36,
   "metadata": {},
   "outputs": [],
   "source": [
    "#Import the datasets\n",
    "X_train = pd.read_csv('..\\Data_Temporary\\X_train_processed.csv', index_col='Claim Identifier')\n",
    "X_val = pd.read_csv('..\\Data_Temporary\\X_val_processed.csv', index_col='Claim Identifier')"
   ]
  },
  {
   "cell_type": "code",
   "execution_count": 37,
   "metadata": {},
   "outputs": [
    {
     "data": {
      "text/html": [
       "<div>\n",
       "<style scoped>\n",
       "    .dataframe tbody tr th:only-of-type {\n",
       "        vertical-align: middle;\n",
       "    }\n",
       "\n",
       "    .dataframe tbody tr th {\n",
       "        vertical-align: top;\n",
       "    }\n",
       "\n",
       "    .dataframe thead th {\n",
       "        text-align: right;\n",
       "    }\n",
       "</style>\n",
       "<table border=\"1\" class=\"dataframe\">\n",
       "  <thead>\n",
       "    <tr style=\"text-align: right;\">\n",
       "      <th></th>\n",
       "      <th>Age at Injury</th>\n",
       "      <th>Attorney/Representative</th>\n",
       "      <th>Average Weekly Wage</th>\n",
       "      <th>Birth Year</th>\n",
       "      <th>Carrier Name</th>\n",
       "      <th>Carrier Type</th>\n",
       "      <th>County of Injury</th>\n",
       "      <th>COVID-19 Indicator</th>\n",
       "      <th>District Name</th>\n",
       "      <th>Gender</th>\n",
       "      <th>IME-4 Count</th>\n",
       "      <th>Industry Code</th>\n",
       "      <th>Medical Fee Region</th>\n",
       "      <th>WCIO Cause of Injury Code</th>\n",
       "      <th>WCIO Nature of Injury Code</th>\n",
       "      <th>WCIO Part Of Body Code</th>\n",
       "      <th>Zip Code</th>\n",
       "      <th>Number of Dependents</th>\n",
       "      <th>Category Combination</th>\n",
       "      <th>Carrier_District_Interaction</th>\n",
       "      <th>Income_Category</th>\n",
       "      <th>Days_To_First_Hearing</th>\n",
       "      <th>Accident_Quarter</th>\n",
       "      <th>Accident_Year</th>\n",
       "      <th>Accident Day</th>\n",
       "      <th>Accident on Weekend</th>\n",
       "      <th>Age Group</th>\n",
       "      <th>promptness_category</th>\n",
       "      <th>promptness_C2_category</th>\n",
       "      <th>promptness_C3_category</th>\n",
       "      <th>Zip_Code_Simplified</th>\n",
       "      <th>Carrier Type Merged</th>\n",
       "      <th>Carrier_Name_Simplified</th>\n",
       "      <th>Body_Part_Category</th>\n",
       "      <th>Injury_Nature_Category</th>\n",
       "      <th>Injury_Cause_Category</th>\n",
       "      <th>Industry Risk</th>\n",
       "      <th>Salary_Per_Dependent</th>\n",
       "    </tr>\n",
       "    <tr>\n",
       "      <th>Claim Identifier</th>\n",
       "      <th></th>\n",
       "      <th></th>\n",
       "      <th></th>\n",
       "      <th></th>\n",
       "      <th></th>\n",
       "      <th></th>\n",
       "      <th></th>\n",
       "      <th></th>\n",
       "      <th></th>\n",
       "      <th></th>\n",
       "      <th></th>\n",
       "      <th></th>\n",
       "      <th></th>\n",
       "      <th></th>\n",
       "      <th></th>\n",
       "      <th></th>\n",
       "      <th></th>\n",
       "      <th></th>\n",
       "      <th></th>\n",
       "      <th></th>\n",
       "      <th></th>\n",
       "      <th></th>\n",
       "      <th></th>\n",
       "      <th></th>\n",
       "      <th></th>\n",
       "      <th></th>\n",
       "      <th></th>\n",
       "      <th></th>\n",
       "      <th></th>\n",
       "      <th></th>\n",
       "      <th></th>\n",
       "      <th></th>\n",
       "      <th></th>\n",
       "      <th></th>\n",
       "      <th></th>\n",
       "      <th></th>\n",
       "      <th></th>\n",
       "      <th></th>\n",
       "    </tr>\n",
       "  </thead>\n",
       "  <tbody>\n",
       "    <tr>\n",
       "      <th>5479022</th>\n",
       "      <td>24</td>\n",
       "      <td>0.0</td>\n",
       "      <td>816.297482</td>\n",
       "      <td>1996.0</td>\n",
       "      <td>STATE INSURANCE FUND</td>\n",
       "      <td>SIF</td>\n",
       "      <td>CAYUGA</td>\n",
       "      <td>0.0</td>\n",
       "      <td>SYRACUSE</td>\n",
       "      <td>M</td>\n",
       "      <td>0.0</td>\n",
       "      <td>0</td>\n",
       "      <td>I</td>\n",
       "      <td>53</td>\n",
       "      <td>52</td>\n",
       "      <td>55</td>\n",
       "      <td>13143</td>\n",
       "      <td>3.0</td>\n",
       "      <td>SIF-M</td>\n",
       "      <td>SIF_SYRACUSE</td>\n",
       "      <td>Low Income</td>\n",
       "      <td>0</td>\n",
       "      <td>2</td>\n",
       "      <td>2020</td>\n",
       "      <td>1</td>\n",
       "      <td>0</td>\n",
       "      <td>Youth</td>\n",
       "      <td>Until 1 week</td>\n",
       "      <td>Until 1 week</td>\n",
       "      <td>No form received</td>\n",
       "      <td>OTHER</td>\n",
       "      <td>SIF</td>\n",
       "      <td>STATE INSURANCE FUND</td>\n",
       "      <td>Lower Extremities</td>\n",
       "      <td>Specific Injury</td>\n",
       "      <td>Strain or Injury By</td>\n",
       "      <td>Unknown Risk</td>\n",
       "      <td>204.074371</td>\n",
       "    </tr>\n",
       "    <tr>\n",
       "      <th>6023025</th>\n",
       "      <td>36</td>\n",
       "      <td>1.0</td>\n",
       "      <td>1097.000000</td>\n",
       "      <td>1986.0</td>\n",
       "      <td>SIRIUSPOINT AMERICA INSURANCE</td>\n",
       "      <td>PRIVATE</td>\n",
       "      <td>QUEENS</td>\n",
       "      <td>0.0</td>\n",
       "      <td>NYC</td>\n",
       "      <td>M</td>\n",
       "      <td>4.0</td>\n",
       "      <td>4</td>\n",
       "      <td>IV</td>\n",
       "      <td>31</td>\n",
       "      <td>10</td>\n",
       "      <td>65</td>\n",
       "      <td>11368</td>\n",
       "      <td>2.0</td>\n",
       "      <td>PRIVATE-M</td>\n",
       "      <td>PRIVATE_NYC</td>\n",
       "      <td>Lower-Middle Income</td>\n",
       "      <td>111</td>\n",
       "      <td>2</td>\n",
       "      <td>2022</td>\n",
       "      <td>1</td>\n",
       "      <td>0</td>\n",
       "      <td>Young Adult</td>\n",
       "      <td>1 to 3 months</td>\n",
       "      <td>1 to 3 months</td>\n",
       "      <td>1 to 3 months</td>\n",
       "      <td>11368</td>\n",
       "      <td>PRIVATE</td>\n",
       "      <td>OTHER</td>\n",
       "      <td>Multiple Body Parts</td>\n",
       "      <td>Specific Injury</td>\n",
       "      <td>Fall, Slip, or Trip</td>\n",
       "      <td>Unknown Risk</td>\n",
       "      <td>365.666667</td>\n",
       "    </tr>\n",
       "  </tbody>\n",
       "</table>\n",
       "</div>"
      ],
      "text/plain": [
       "                  Age at Injury  Attorney/Representative  Average Weekly Wage  \\\n",
       "Claim Identifier                                                                \n",
       "5479022                      24                      0.0           816.297482   \n",
       "6023025                      36                      1.0          1097.000000   \n",
       "\n",
       "                  Birth Year                   Carrier Name Carrier Type  \\\n",
       "Claim Identifier                                                           \n",
       "5479022               1996.0           STATE INSURANCE FUND          SIF   \n",
       "6023025               1986.0  SIRIUSPOINT AMERICA INSURANCE      PRIVATE   \n",
       "\n",
       "                 County of Injury  COVID-19 Indicator District Name Gender  \\\n",
       "Claim Identifier                                                             \n",
       "5479022                    CAYUGA                 0.0      SYRACUSE      M   \n",
       "6023025                    QUEENS                 0.0           NYC      M   \n",
       "\n",
       "                  IME-4 Count  Industry Code Medical Fee Region  \\\n",
       "Claim Identifier                                                  \n",
       "5479022                   0.0              0                  I   \n",
       "6023025                   4.0              4                 IV   \n",
       "\n",
       "                  WCIO Cause of Injury Code  WCIO Nature of Injury Code  \\\n",
       "Claim Identifier                                                          \n",
       "5479022                                  53                          52   \n",
       "6023025                                  31                          10   \n",
       "\n",
       "                  WCIO Part Of Body Code Zip Code  Number of Dependents  \\\n",
       "Claim Identifier                                                          \n",
       "5479022                               55    13143                   3.0   \n",
       "6023025                               65    11368                   2.0   \n",
       "\n",
       "                 Category Combination Carrier_District_Interaction  \\\n",
       "Claim Identifier                                                     \n",
       "5479022                         SIF-M                 SIF_SYRACUSE   \n",
       "6023025                     PRIVATE-M                  PRIVATE_NYC   \n",
       "\n",
       "                      Income_Category  Days_To_First_Hearing  \\\n",
       "Claim Identifier                                               \n",
       "5479022                    Low Income                      0   \n",
       "6023025           Lower-Middle Income                    111   \n",
       "\n",
       "                  Accident_Quarter  Accident_Year  Accident Day  \\\n",
       "Claim Identifier                                                  \n",
       "5479022                          2           2020             1   \n",
       "6023025                          2           2022             1   \n",
       "\n",
       "                  Accident on Weekend    Age Group promptness_category  \\\n",
       "Claim Identifier                                                         \n",
       "5479022                             0        Youth        Until 1 week   \n",
       "6023025                             0  Young Adult       1 to 3 months   \n",
       "\n",
       "                 promptness_C2_category promptness_C3_category  \\\n",
       "Claim Identifier                                                 \n",
       "5479022                    Until 1 week       No form received   \n",
       "6023025                   1 to 3 months          1 to 3 months   \n",
       "\n",
       "                 Zip_Code_Simplified Carrier Type Merged  \\\n",
       "Claim Identifier                                           \n",
       "5479022                        OTHER                 SIF   \n",
       "6023025                        11368             PRIVATE   \n",
       "\n",
       "                 Carrier_Name_Simplified   Body_Part_Category  \\\n",
       "Claim Identifier                                                \n",
       "5479022             STATE INSURANCE FUND    Lower Extremities   \n",
       "6023025                            OTHER  Multiple Body Parts   \n",
       "\n",
       "                 Injury_Nature_Category Injury_Cause_Category Industry Risk  \\\n",
       "Claim Identifier                                                              \n",
       "5479022                 Specific Injury   Strain or Injury By  Unknown Risk   \n",
       "6023025                 Specific Injury   Fall, Slip, or Trip  Unknown Risk   \n",
       "\n",
       "                  Salary_Per_Dependent  \n",
       "Claim Identifier                        \n",
       "5479022                     204.074371  \n",
       "6023025                     365.666667  "
      ]
     },
     "execution_count": 37,
     "metadata": {},
     "output_type": "execute_result"
    }
   ],
   "source": [
    "X_train.head(2)"
   ]
  },
  {
   "cell_type": "code",
   "execution_count": 38,
   "metadata": {},
   "outputs": [
    {
     "data": {
      "text/html": [
       "<div>\n",
       "<style scoped>\n",
       "    .dataframe tbody tr th:only-of-type {\n",
       "        vertical-align: middle;\n",
       "    }\n",
       "\n",
       "    .dataframe tbody tr th {\n",
       "        vertical-align: top;\n",
       "    }\n",
       "\n",
       "    .dataframe thead th {\n",
       "        text-align: right;\n",
       "    }\n",
       "</style>\n",
       "<table border=\"1\" class=\"dataframe\">\n",
       "  <thead>\n",
       "    <tr style=\"text-align: right;\">\n",
       "      <th></th>\n",
       "      <th>Age at Injury</th>\n",
       "      <th>Attorney/Representative</th>\n",
       "      <th>Average Weekly Wage</th>\n",
       "      <th>Birth Year</th>\n",
       "      <th>Carrier Name</th>\n",
       "      <th>Carrier Type</th>\n",
       "      <th>County of Injury</th>\n",
       "      <th>COVID-19 Indicator</th>\n",
       "      <th>District Name</th>\n",
       "      <th>Gender</th>\n",
       "      <th>IME-4 Count</th>\n",
       "      <th>Industry Code</th>\n",
       "      <th>Medical Fee Region</th>\n",
       "      <th>WCIO Cause of Injury Code</th>\n",
       "      <th>WCIO Nature of Injury Code</th>\n",
       "      <th>WCIO Part Of Body Code</th>\n",
       "      <th>Zip Code</th>\n",
       "      <th>Number of Dependents</th>\n",
       "      <th>Category Combination</th>\n",
       "      <th>Carrier_District_Interaction</th>\n",
       "      <th>Income_Category</th>\n",
       "      <th>Days_To_First_Hearing</th>\n",
       "      <th>Accident_Quarter</th>\n",
       "      <th>Accident_Year</th>\n",
       "      <th>Accident Day</th>\n",
       "      <th>Accident on Weekend</th>\n",
       "      <th>Age Group</th>\n",
       "      <th>promptness_category</th>\n",
       "      <th>promptness_C2_category</th>\n",
       "      <th>promptness_C3_category</th>\n",
       "      <th>Zip_Code_Simplified</th>\n",
       "      <th>Carrier Type Merged</th>\n",
       "      <th>Carrier_Name_Simplified</th>\n",
       "      <th>Body_Part_Category</th>\n",
       "      <th>Injury_Nature_Category</th>\n",
       "      <th>Injury_Cause_Category</th>\n",
       "      <th>Industry Risk</th>\n",
       "      <th>Salary_Per_Dependent</th>\n",
       "    </tr>\n",
       "    <tr>\n",
       "      <th>Claim Identifier</th>\n",
       "      <th></th>\n",
       "      <th></th>\n",
       "      <th></th>\n",
       "      <th></th>\n",
       "      <th></th>\n",
       "      <th></th>\n",
       "      <th></th>\n",
       "      <th></th>\n",
       "      <th></th>\n",
       "      <th></th>\n",
       "      <th></th>\n",
       "      <th></th>\n",
       "      <th></th>\n",
       "      <th></th>\n",
       "      <th></th>\n",
       "      <th></th>\n",
       "      <th></th>\n",
       "      <th></th>\n",
       "      <th></th>\n",
       "      <th></th>\n",
       "      <th></th>\n",
       "      <th></th>\n",
       "      <th></th>\n",
       "      <th></th>\n",
       "      <th></th>\n",
       "      <th></th>\n",
       "      <th></th>\n",
       "      <th></th>\n",
       "      <th></th>\n",
       "      <th></th>\n",
       "      <th></th>\n",
       "      <th></th>\n",
       "      <th></th>\n",
       "      <th></th>\n",
       "      <th></th>\n",
       "      <th></th>\n",
       "      <th></th>\n",
       "      <th></th>\n",
       "    </tr>\n",
       "  </thead>\n",
       "  <tbody>\n",
       "    <tr>\n",
       "      <th>5893917</th>\n",
       "      <td>43</td>\n",
       "      <td>1.0</td>\n",
       "      <td>1537.747746</td>\n",
       "      <td>1978.101209</td>\n",
       "      <td>ACE AMERICAN INSURANCE CO.</td>\n",
       "      <td>PRIVATE</td>\n",
       "      <td>BRONX</td>\n",
       "      <td>0.0</td>\n",
       "      <td>NYC</td>\n",
       "      <td>M</td>\n",
       "      <td>2.0</td>\n",
       "      <td>3</td>\n",
       "      <td>UK</td>\n",
       "      <td>97</td>\n",
       "      <td>80</td>\n",
       "      <td>101</td>\n",
       "      <td>10467</td>\n",
       "      <td>2.0</td>\n",
       "      <td>PRIVATE-M</td>\n",
       "      <td>PRIVATE_NYC</td>\n",
       "      <td>Upper-High Income</td>\n",
       "      <td>242</td>\n",
       "      <td>3</td>\n",
       "      <td>2021</td>\n",
       "      <td>0</td>\n",
       "      <td>0</td>\n",
       "      <td>Young Adult</td>\n",
       "      <td>3 to 6 months</td>\n",
       "      <td>3 to 6 months</td>\n",
       "      <td>3 to 6 months</td>\n",
       "      <td>10467</td>\n",
       "      <td>PRIVATE</td>\n",
       "      <td>ACE AMERICAN INSURANCE CO.</td>\n",
       "      <td>NaN</td>\n",
       "      <td>Occupational Disease or Cumulative Injury</td>\n",
       "      <td>Strain or Injury By</td>\n",
       "      <td>Unknown Risk</td>\n",
       "      <td>512.582582</td>\n",
       "    </tr>\n",
       "    <tr>\n",
       "      <th>5978089</th>\n",
       "      <td>59</td>\n",
       "      <td>0.0</td>\n",
       "      <td>1696.250000</td>\n",
       "      <td>1963.000000</td>\n",
       "      <td>ZURICH AMERICAN INSURANCE CO</td>\n",
       "      <td>PRIVATE</td>\n",
       "      <td>NIAGARA</td>\n",
       "      <td>0.0</td>\n",
       "      <td>BUFFALO</td>\n",
       "      <td>M</td>\n",
       "      <td>0.0</td>\n",
       "      <td>7</td>\n",
       "      <td>I</td>\n",
       "      <td>81</td>\n",
       "      <td>10</td>\n",
       "      <td>32</td>\n",
       "      <td>14094</td>\n",
       "      <td>3.0</td>\n",
       "      <td>PRIVATE-M</td>\n",
       "      <td>PRIVATE_BUFFALO</td>\n",
       "      <td>High Income</td>\n",
       "      <td>0</td>\n",
       "      <td>2</td>\n",
       "      <td>2022</td>\n",
       "      <td>0</td>\n",
       "      <td>0</td>\n",
       "      <td>Middle Age</td>\n",
       "      <td>Until 1 week</td>\n",
       "      <td>Until 1 week</td>\n",
       "      <td>No form received</td>\n",
       "      <td>14094</td>\n",
       "      <td>PRIVATE</td>\n",
       "      <td>ZURICH AMERICAN INSURANCE CO</td>\n",
       "      <td>NaN</td>\n",
       "      <td>Specific Injury</td>\n",
       "      <td>Struck or Injured by</td>\n",
       "      <td>Unknown Risk</td>\n",
       "      <td>424.062500</td>\n",
       "    </tr>\n",
       "  </tbody>\n",
       "</table>\n",
       "</div>"
      ],
      "text/plain": [
       "                  Age at Injury  Attorney/Representative  Average Weekly Wage  \\\n",
       "Claim Identifier                                                                \n",
       "5893917                      43                      1.0          1537.747746   \n",
       "5978089                      59                      0.0          1696.250000   \n",
       "\n",
       "                   Birth Year                  Carrier Name Carrier Type  \\\n",
       "Claim Identifier                                                           \n",
       "5893917           1978.101209    ACE AMERICAN INSURANCE CO.      PRIVATE   \n",
       "5978089           1963.000000  ZURICH AMERICAN INSURANCE CO      PRIVATE   \n",
       "\n",
       "                 County of Injury  COVID-19 Indicator District Name Gender  \\\n",
       "Claim Identifier                                                             \n",
       "5893917                     BRONX                 0.0           NYC      M   \n",
       "5978089                   NIAGARA                 0.0       BUFFALO      M   \n",
       "\n",
       "                  IME-4 Count  Industry Code Medical Fee Region  \\\n",
       "Claim Identifier                                                  \n",
       "5893917                   2.0              3                 UK   \n",
       "5978089                   0.0              7                  I   \n",
       "\n",
       "                  WCIO Cause of Injury Code  WCIO Nature of Injury Code  \\\n",
       "Claim Identifier                                                          \n",
       "5893917                                  97                          80   \n",
       "5978089                                  81                          10   \n",
       "\n",
       "                  WCIO Part Of Body Code  Zip Code  Number of Dependents  \\\n",
       "Claim Identifier                                                           \n",
       "5893917                              101     10467                   2.0   \n",
       "5978089                               32     14094                   3.0   \n",
       "\n",
       "                 Category Combination Carrier_District_Interaction  \\\n",
       "Claim Identifier                                                     \n",
       "5893917                     PRIVATE-M                  PRIVATE_NYC   \n",
       "5978089                     PRIVATE-M              PRIVATE_BUFFALO   \n",
       "\n",
       "                    Income_Category  Days_To_First_Hearing  Accident_Quarter  \\\n",
       "Claim Identifier                                                               \n",
       "5893917           Upper-High Income                    242                 3   \n",
       "5978089                 High Income                      0                 2   \n",
       "\n",
       "                  Accident_Year  Accident Day  Accident on Weekend  \\\n",
       "Claim Identifier                                                     \n",
       "5893917                    2021             0                    0   \n",
       "5978089                    2022             0                    0   \n",
       "\n",
       "                    Age Group promptness_category promptness_C2_category  \\\n",
       "Claim Identifier                                                           \n",
       "5893917           Young Adult       3 to 6 months          3 to 6 months   \n",
       "5978089            Middle Age        Until 1 week           Until 1 week   \n",
       "\n",
       "                 promptness_C3_category Zip_Code_Simplified  \\\n",
       "Claim Identifier                                              \n",
       "5893917                   3 to 6 months               10467   \n",
       "5978089                No form received               14094   \n",
       "\n",
       "                 Carrier Type Merged       Carrier_Name_Simplified  \\\n",
       "Claim Identifier                                                     \n",
       "5893917                      PRIVATE    ACE AMERICAN INSURANCE CO.   \n",
       "5978089                      PRIVATE  ZURICH AMERICAN INSURANCE CO   \n",
       "\n",
       "                  Body_Part_Category  \\\n",
       "Claim Identifier                       \n",
       "5893917                          NaN   \n",
       "5978089                          NaN   \n",
       "\n",
       "                                     Injury_Nature_Category  \\\n",
       "Claim Identifier                                              \n",
       "5893917           Occupational Disease or Cumulative Injury   \n",
       "5978089                                     Specific Injury   \n",
       "\n",
       "                 Injury_Cause_Category Industry Risk  Salary_Per_Dependent  \n",
       "Claim Identifier                                                            \n",
       "5893917            Strain or Injury By  Unknown Risk            512.582582  \n",
       "5978089           Struck or Injured by  Unknown Risk            424.062500  "
      ]
     },
     "execution_count": 38,
     "metadata": {},
     "output_type": "execute_result"
    }
   ],
   "source": [
    "X_val.head(2)"
   ]
  },
  {
   "cell_type": "code",
   "execution_count": 39,
   "metadata": {},
   "outputs": [],
   "source": [
    "df_test = pd.read_csv(r'../Data_Temporary/df_test_pred_notebook3.csv', index_col='Claim Identifier')"
   ]
  },
  {
   "cell_type": "markdown",
   "metadata": {},
   "source": [
    "We will also upload the y train and y_val."
   ]
  },
  {
   "cell_type": "code",
   "execution_count": 40,
   "metadata": {},
   "outputs": [],
   "source": [
    "#Using allow_pickle we are converting arrays\n",
    "y_train = np.load('..\\Data_Temporary\\y_train.npy', allow_pickle=True)\n",
    "y_val = np.load('..\\Data_Temporary\\y_val.npy', allow_pickle=True)"
   ]
  },
  {
   "cell_type": "code",
   "execution_count": 41,
   "metadata": {},
   "outputs": [],
   "source": [
    "pd.set_option('display.max_columns', None) # show all the columns"
   ]
  },
  {
   "cell_type": "code",
   "execution_count": 42,
   "metadata": {},
   "outputs": [
    {
     "data": {
      "text/plain": [
       "array(['2. NON-COMP', '4. TEMPORARY', '4. TEMPORARY', ...,\n",
       "       '5. PPD SCH LOSS', '2. NON-COMP', '2. NON-COMP'], dtype=object)"
      ]
     },
     "execution_count": 42,
     "metadata": {},
     "output_type": "execute_result"
    }
   ],
   "source": [
    "y_train"
   ]
  },
  {
   "cell_type": "code",
   "execution_count": 43,
   "metadata": {},
   "outputs": [
    {
     "data": {
      "text/plain": [
       "4. TEMPORARY    212961\n",
       "2. NON-COMP         44\n",
       "Name: Pred_notebook_3, dtype: int64"
      ]
     },
     "execution_count": 43,
     "metadata": {},
     "output_type": "execute_result"
    }
   ],
   "source": [
    "df_test['Pred_notebook_3'].value_counts()"
   ]
  },
  {
   "cell_type": "code",
   "execution_count": 44,
   "metadata": {},
   "outputs": [
    {
     "data": {
      "text/plain": [
       "174970"
      ]
     },
     "execution_count": 44,
     "metadata": {},
     "output_type": "execute_result"
    }
   ],
   "source": [
    "df_test['Pred_notebook_3'].isna().sum() "
   ]
  },
  {
   "cell_type": "code",
   "execution_count": 45,
   "metadata": {},
   "outputs": [],
   "source": [
    "#Let's remove the column predictions from the df_test saving in a variable y_test\n",
    "y_test = df_test['Pred_notebook_3']\n",
    "df_test.drop('Pred_notebook_3', axis=1, inplace=True)"
   ]
  },
  {
   "cell_type": "markdown",
   "metadata": {},
   "source": [
    "# 3. Setting the Target <a class=\"anchor\" id=\"chapter3\"></a>"
   ]
  },
  {
   "cell_type": "code",
   "execution_count": 46,
   "metadata": {},
   "outputs": [
    {
     "data": {
      "text/plain": [
       "Claim Identifier\n",
       "6165911             NaN\n",
       "6166141             NaN\n",
       "6165907             NaN\n",
       "6166047             NaN\n",
       "6166102             NaN\n",
       "               ...     \n",
       "6553137    4. TEMPORARY\n",
       "6553119    4. TEMPORARY\n",
       "6553542    4. TEMPORARY\n",
       "6553455    4. TEMPORARY\n",
       "6553594             NaN\n",
       "Name: Pred_notebook_3, Length: 387975, dtype: object"
      ]
     },
     "execution_count": 46,
     "metadata": {},
     "output_type": "execute_result"
    }
   ],
   "source": [
    "y_test"
   ]
  },
  {
   "cell_type": "code",
   "execution_count": 47,
   "metadata": {},
   "outputs": [
    {
     "name": "stdout",
     "output_type": "stream",
     "text": [
      "Shape of X_train_min: (92619, 38)\n",
      "Shape of y_train_min: (92619,)\n"
     ]
    }
   ],
   "source": [
    "# Filtering out classes '2. NON-COMP' and '4. TEMPORARY'\n",
    "X_train_min = X_train[~((y_train == '2. NON-COMP') | (y_train == '4. TEMPORARY'))]\n",
    "\n",
    "y_train_min = y_train[~((y_train == '2. NON-COMP') | (y_train == '4. TEMPORARY'))]\n",
    "\n",
    "# Print the shapes to confirm the filtering\n",
    "print(\"Shape of X_train_min:\", X_train_min.shape)\n",
    "print(\"Shape of y_train_min:\", y_train_min.shape)\n"
   ]
  },
  {
   "cell_type": "code",
   "execution_count": 48,
   "metadata": {},
   "outputs": [
    {
     "name": "stdout",
     "output_type": "stream",
     "text": [
      "Shape of X_train_not_2_4: (40332, 38)\n",
      "Shape of y_train_not_2_4: (40332,)\n"
     ]
    }
   ],
   "source": [
    "# Filtering out classes '2. NON-COMP' and '4. TEMPORARY'\n",
    "X_val_min = X_val[~((y_val == '2. NON-COMP') | (y_val == '4. TEMPORARY'))]\n",
    "\n",
    "y_val_min = y_val[~((y_val == '2. NON-COMP') | (y_val == '4. TEMPORARY'))]\n",
    "\n",
    "# Print the shapes to confirm the filtering\n",
    "print(\"Shape of X_train_not_2_4:\", X_val_min.shape)\n",
    "print(\"Shape of y_train_not_2_4:\", y_val_min.shape)"
   ]
  },
  {
   "cell_type": "code",
   "execution_count": 49,
   "metadata": {},
   "outputs": [
    {
     "data": {
      "text/plain": [
       "array(['3. MED ONLY', '5. PPD SCH LOSS', '6. PPD NSL', ...,\n",
       "       '5. PPD SCH LOSS', '3. MED ONLY', '3. MED ONLY'], dtype=object)"
      ]
     },
     "execution_count": 49,
     "metadata": {},
     "output_type": "execute_result"
    }
   ],
   "source": [
    "y_val_min"
   ]
  },
  {
   "cell_type": "markdown",
   "metadata": {},
   "source": [
    "#### __`Encoding the Target`__"
   ]
  },
  {
   "cell_type": "code",
   "execution_count": 50,
   "metadata": {},
   "outputs": [],
   "source": [
    "# Create a LabelEncoder instance\n",
    "encoder = LabelEncoder()\n",
    "\n",
    "# Encode y_train_new and y_val_new\n",
    "y_train_encoded = encoder.fit_transform(y_train_min)  # Fit and transform on y_train_mapped\n",
    "y_val_encoded = encoder.transform(y_val_min)  # Only transform on y_train_mapped"
   ]
  },
  {
   "cell_type": "code",
   "execution_count": 51,
   "metadata": {},
   "outputs": [
    {
     "name": "stdout",
     "output_type": "stream",
     "text": [
      "[1 1 1 ... 1 2 2]\n"
     ]
    },
    {
     "data": {
      "text/plain": [
       "array([1, 2, 3, ..., 2, 1, 1])"
      ]
     },
     "execution_count": 51,
     "metadata": {},
     "output_type": "execute_result"
    }
   ],
   "source": [
    "# Verify that the target is encoded \n",
    "print(f'{y_train_encoded}')\n",
    "y_val_encoded"
   ]
  },
  {
   "cell_type": "markdown",
   "metadata": {},
   "source": [
    "# 4. Feature Selection <a class=\"anchor\" id=\"chapter4\"></a>"
   ]
  },
  {
   "cell_type": "markdown",
   "metadata": {},
   "source": [
    "The feature selection process involves summarizing the essential features in the dataset to help the model focus on the most relevant information. Here, we assess the categorical and numerical variables in `X_train_processed` by examining unique values, descriptive statistics, and verifying the correctness of categorical bins and continuous feature distributions.\n",
    "\n",
    "The `X_train_processed.describe(include='O').T` command provides an overview of the categorical features in the dataset, displaying the count, unique values, top (most frequent) category, and its frequency. This summary helps us understand the distribution and cardinality of each categorical feature, which is essential for feature selection and preprocessing."
   ]
  },
  {
   "cell_type": "markdown",
   "metadata": {},
   "source": [
    "#### Descriptive Statistics for Categorical Features"
   ]
  },
  {
   "cell_type": "code",
   "execution_count": 52,
   "metadata": {},
   "outputs": [
    {
     "data": {
      "text/html": [
       "<div>\n",
       "<style scoped>\n",
       "    .dataframe tbody tr th:only-of-type {\n",
       "        vertical-align: middle;\n",
       "    }\n",
       "\n",
       "    .dataframe tbody tr th {\n",
       "        vertical-align: top;\n",
       "    }\n",
       "\n",
       "    .dataframe thead th {\n",
       "        text-align: right;\n",
       "    }\n",
       "</style>\n",
       "<table border=\"1\" class=\"dataframe\">\n",
       "  <thead>\n",
       "    <tr style=\"text-align: right;\">\n",
       "      <th></th>\n",
       "      <th>count</th>\n",
       "      <th>unique</th>\n",
       "      <th>top</th>\n",
       "      <th>freq</th>\n",
       "    </tr>\n",
       "  </thead>\n",
       "  <tbody>\n",
       "    <tr>\n",
       "      <th>Carrier Name</th>\n",
       "      <td>40332</td>\n",
       "      <td>1274</td>\n",
       "      <td>STATE INSURANCE FUND</td>\n",
       "      <td>9063</td>\n",
       "    </tr>\n",
       "    <tr>\n",
       "      <th>Carrier Type</th>\n",
       "      <td>40332</td>\n",
       "      <td>8</td>\n",
       "      <td>PRIVATE</td>\n",
       "      <td>16763</td>\n",
       "    </tr>\n",
       "    <tr>\n",
       "      <th>County of Injury</th>\n",
       "      <td>40332</td>\n",
       "      <td>63</td>\n",
       "      <td>SUFFOLK</td>\n",
       "      <td>5058</td>\n",
       "    </tr>\n",
       "    <tr>\n",
       "      <th>District Name</th>\n",
       "      <td>40332</td>\n",
       "      <td>8</td>\n",
       "      <td>NYC</td>\n",
       "      <td>19136</td>\n",
       "    </tr>\n",
       "    <tr>\n",
       "      <th>Gender</th>\n",
       "      <td>40332</td>\n",
       "      <td>3</td>\n",
       "      <td>M</td>\n",
       "      <td>25513</td>\n",
       "    </tr>\n",
       "    <tr>\n",
       "      <th>Medical Fee Region</th>\n",
       "      <td>40332</td>\n",
       "      <td>5</td>\n",
       "      <td>IV</td>\n",
       "      <td>19776</td>\n",
       "    </tr>\n",
       "    <tr>\n",
       "      <th>Category Combination</th>\n",
       "      <td>40332</td>\n",
       "      <td>18</td>\n",
       "      <td>PRIVATE-M</td>\n",
       "      <td>10466</td>\n",
       "    </tr>\n",
       "    <tr>\n",
       "      <th>Carrier_District_Interaction</th>\n",
       "      <td>40332</td>\n",
       "      <td>48</td>\n",
       "      <td>PRIVATE_NYC</td>\n",
       "      <td>7308</td>\n",
       "    </tr>\n",
       "    <tr>\n",
       "      <th>Income_Category</th>\n",
       "      <td>40332</td>\n",
       "      <td>5</td>\n",
       "      <td>High Income</td>\n",
       "      <td>9667</td>\n",
       "    </tr>\n",
       "    <tr>\n",
       "      <th>Age Group</th>\n",
       "      <td>40332</td>\n",
       "      <td>4</td>\n",
       "      <td>Young Adult</td>\n",
       "      <td>20033</td>\n",
       "    </tr>\n",
       "    <tr>\n",
       "      <th>promptness_category</th>\n",
       "      <td>39806</td>\n",
       "      <td>7</td>\n",
       "      <td>Until 1 week</td>\n",
       "      <td>13381</td>\n",
       "    </tr>\n",
       "    <tr>\n",
       "      <th>promptness_C2_category</th>\n",
       "      <td>40124</td>\n",
       "      <td>7</td>\n",
       "      <td>Until 1 week</td>\n",
       "      <td>13023</td>\n",
       "    </tr>\n",
       "    <tr>\n",
       "      <th>promptness_C3_category</th>\n",
       "      <td>39759</td>\n",
       "      <td>8</td>\n",
       "      <td>No form received</td>\n",
       "      <td>19062</td>\n",
       "    </tr>\n",
       "    <tr>\n",
       "      <th>Zip_Code_Simplified</th>\n",
       "      <td>40332</td>\n",
       "      <td>377</td>\n",
       "      <td>OTHER</td>\n",
       "      <td>27491</td>\n",
       "    </tr>\n",
       "    <tr>\n",
       "      <th>Carrier Type Merged</th>\n",
       "      <td>40332</td>\n",
       "      <td>6</td>\n",
       "      <td>PRIVATE</td>\n",
       "      <td>16763</td>\n",
       "    </tr>\n",
       "    <tr>\n",
       "      <th>Carrier_Name_Simplified</th>\n",
       "      <td>40332</td>\n",
       "      <td>136</td>\n",
       "      <td>STATE INSURANCE FUND</td>\n",
       "      <td>9063</td>\n",
       "    </tr>\n",
       "    <tr>\n",
       "      <th>Injury_Nature_Category</th>\n",
       "      <td>38142</td>\n",
       "      <td>4</td>\n",
       "      <td>Specific Injury</td>\n",
       "      <td>35276</td>\n",
       "    </tr>\n",
       "    <tr>\n",
       "      <th>Injury_Cause_Category</th>\n",
       "      <td>38147</td>\n",
       "      <td>11</td>\n",
       "      <td>Strain or Injury By</td>\n",
       "      <td>12322</td>\n",
       "    </tr>\n",
       "    <tr>\n",
       "      <th>Industry Risk</th>\n",
       "      <td>40332</td>\n",
       "      <td>3</td>\n",
       "      <td>Unknown Risk</td>\n",
       "      <td>26961</td>\n",
       "    </tr>\n",
       "  </tbody>\n",
       "</table>\n",
       "</div>"
      ],
      "text/plain": [
       "                              count unique                   top   freq\n",
       "Carrier Name                  40332   1274  STATE INSURANCE FUND   9063\n",
       "Carrier Type                  40332      8               PRIVATE  16763\n",
       "County of Injury              40332     63               SUFFOLK   5058\n",
       "District Name                 40332      8                   NYC  19136\n",
       "Gender                        40332      3                     M  25513\n",
       "Medical Fee Region            40332      5                    IV  19776\n",
       "Category Combination          40332     18             PRIVATE-M  10466\n",
       "Carrier_District_Interaction  40332     48           PRIVATE_NYC   7308\n",
       "Income_Category               40332      5           High Income   9667\n",
       "Age Group                     40332      4           Young Adult  20033\n",
       "promptness_category           39806      7          Until 1 week  13381\n",
       "promptness_C2_category        40124      7          Until 1 week  13023\n",
       "promptness_C3_category        39759      8      No form received  19062\n",
       "Zip_Code_Simplified           40332    377                 OTHER  27491\n",
       "Carrier Type Merged           40332      6               PRIVATE  16763\n",
       "Carrier_Name_Simplified       40332    136  STATE INSURANCE FUND   9063\n",
       "Injury_Nature_Category        38142      4       Specific Injury  35276\n",
       "Injury_Cause_Category         38147     11   Strain or Injury By  12322\n",
       "Industry Risk                 40332      3          Unknown Risk  26961"
      ]
     },
     "execution_count": 52,
     "metadata": {},
     "output_type": "execute_result"
    }
   ],
   "source": [
    "# Displaying descriptive statistics for categorical features in the training dataset\n",
    "X_val_min.describe(include='O').T"
   ]
  },
  {
   "cell_type": "markdown",
   "metadata": {},
   "source": [
    "This table provides insight into the number of unique categories within each feature, assisting in identifying high-cardinality features that may need simplification or encoding before modeling.\n",
    "\n",
    "The next output explores the Income_Category feature specifically, showing its categorical distribution across different income levels."
   ]
  },
  {
   "cell_type": "code",
   "execution_count": 53,
   "metadata": {},
   "outputs": [
    {
     "data": {
      "text/plain": [
       "High Income            9667\n",
       "Upper-Middle Income    9221\n",
       "Lower-Middle Income    9118\n",
       "Low Income             9007\n",
       "Upper-High Income      3319\n",
       "Name: Income_Category, dtype: int64"
      ]
     },
     "execution_count": 53,
     "metadata": {},
     "output_type": "execute_result"
    }
   ],
   "source": [
    "# Exploring the distribution of Income_Category\n",
    "X_val_min['Income_Category'].value_counts()"
   ]
  },
  {
   "cell_type": "markdown",
   "metadata": {},
   "source": [
    "The `Income_Category` feature categorizes the `Average Weekly Wage` into four levels:\n",
    "- **Low Income**\n",
    "- **Lower-Middle Income**\n",
    "- **Upper-Middle Income**\n",
    "- **High Income**\n",
    "\n",
    "This feature provides a socioeconomic context for the claims, allowing the model to account for income-based disparities in claims."
   ]
  },
  {
   "cell_type": "markdown",
   "metadata": {},
   "source": [
    "#### Descriptive Statistics for Numerical Features"
   ]
  },
  {
   "cell_type": "code",
   "execution_count": 54,
   "metadata": {},
   "outputs": [
    {
     "data": {
      "text/html": [
       "<div>\n",
       "<style scoped>\n",
       "    .dataframe tbody tr th:only-of-type {\n",
       "        vertical-align: middle;\n",
       "    }\n",
       "\n",
       "    .dataframe tbody tr th {\n",
       "        vertical-align: top;\n",
       "    }\n",
       "\n",
       "    .dataframe thead th {\n",
       "        text-align: right;\n",
       "    }\n",
       "</style>\n",
       "<table border=\"1\" class=\"dataframe\">\n",
       "  <thead>\n",
       "    <tr style=\"text-align: right;\">\n",
       "      <th></th>\n",
       "      <th>count</th>\n",
       "      <th>mean</th>\n",
       "      <th>std</th>\n",
       "      <th>min</th>\n",
       "      <th>25%</th>\n",
       "      <th>50%</th>\n",
       "      <th>75%</th>\n",
       "      <th>max</th>\n",
       "    </tr>\n",
       "  </thead>\n",
       "  <tbody>\n",
       "    <tr>\n",
       "      <th>Age at Injury</th>\n",
       "      <td>92619.0</td>\n",
       "      <td>44.389348</td>\n",
       "      <td>12.514248</td>\n",
       "      <td>16.000000</td>\n",
       "      <td>35.000000</td>\n",
       "      <td>43.000000</td>\n",
       "      <td>54.000000</td>\n",
       "      <td>80.00</td>\n",
       "    </tr>\n",
       "    <tr>\n",
       "      <th>Attorney/Representative</th>\n",
       "      <td>92619.0</td>\n",
       "      <td>0.561300</td>\n",
       "      <td>0.496231</td>\n",
       "      <td>0.000000</td>\n",
       "      <td>0.000000</td>\n",
       "      <td>1.000000</td>\n",
       "      <td>1.000000</td>\n",
       "      <td>1.00</td>\n",
       "    </tr>\n",
       "    <tr>\n",
       "      <th>Average Weekly Wage</th>\n",
       "      <td>92619.0</td>\n",
       "      <td>1358.647010</td>\n",
       "      <td>10248.448642</td>\n",
       "      <td>17.410000</td>\n",
       "      <td>938.125909</td>\n",
       "      <td>1225.412838</td>\n",
       "      <td>1659.862734</td>\n",
       "      <td>2828079.00</td>\n",
       "    </tr>\n",
       "    <tr>\n",
       "      <th>Birth Year</th>\n",
       "      <td>92619.0</td>\n",
       "      <td>1976.421698</td>\n",
       "      <td>12.624245</td>\n",
       "      <td>1918.101209</td>\n",
       "      <td>1966.000000</td>\n",
       "      <td>1977.101209</td>\n",
       "      <td>1986.000000</td>\n",
       "      <td>2006.00</td>\n",
       "    </tr>\n",
       "    <tr>\n",
       "      <th>COVID-19 Indicator</th>\n",
       "      <td>92619.0</td>\n",
       "      <td>0.021723</td>\n",
       "      <td>0.145780</td>\n",
       "      <td>0.000000</td>\n",
       "      <td>0.000000</td>\n",
       "      <td>0.000000</td>\n",
       "      <td>0.000000</td>\n",
       "      <td>1.00</td>\n",
       "    </tr>\n",
       "    <tr>\n",
       "      <th>IME-4 Count</th>\n",
       "      <td>92619.0</td>\n",
       "      <td>1.056630</td>\n",
       "      <td>1.828930</td>\n",
       "      <td>0.000000</td>\n",
       "      <td>0.000000</td>\n",
       "      <td>0.000000</td>\n",
       "      <td>2.000000</td>\n",
       "      <td>73.00</td>\n",
       "    </tr>\n",
       "    <tr>\n",
       "      <th>Industry Code</th>\n",
       "      <td>92619.0</td>\n",
       "      <td>15.313294</td>\n",
       "      <td>7.189478</td>\n",
       "      <td>-1.000000</td>\n",
       "      <td>9.000000</td>\n",
       "      <td>18.000000</td>\n",
       "      <td>23.000000</td>\n",
       "      <td>23.00</td>\n",
       "    </tr>\n",
       "    <tr>\n",
       "      <th>WCIO Cause of Injury Code</th>\n",
       "      <td>92619.0</td>\n",
       "      <td>52.529449</td>\n",
       "      <td>26.343347</td>\n",
       "      <td>0.000000</td>\n",
       "      <td>31.000000</td>\n",
       "      <td>56.000000</td>\n",
       "      <td>74.000000</td>\n",
       "      <td>99.00</td>\n",
       "    </tr>\n",
       "    <tr>\n",
       "      <th>WCIO Nature of Injury Code</th>\n",
       "      <td>92619.0</td>\n",
       "      <td>38.538810</td>\n",
       "      <td>22.682181</td>\n",
       "      <td>0.000000</td>\n",
       "      <td>10.000000</td>\n",
       "      <td>49.000000</td>\n",
       "      <td>52.000000</td>\n",
       "      <td>91.00</td>\n",
       "    </tr>\n",
       "    <tr>\n",
       "      <th>WCIO Part Of Body Code</th>\n",
       "      <td>92619.0</td>\n",
       "      <td>47.273799</td>\n",
       "      <td>25.297135</td>\n",
       "      <td>0.000000</td>\n",
       "      <td>34.000000</td>\n",
       "      <td>42.000000</td>\n",
       "      <td>55.000000</td>\n",
       "      <td>101.00</td>\n",
       "    </tr>\n",
       "    <tr>\n",
       "      <th>Number of Dependents</th>\n",
       "      <td>92619.0</td>\n",
       "      <td>3.001835</td>\n",
       "      <td>2.002605</td>\n",
       "      <td>0.000000</td>\n",
       "      <td>1.000000</td>\n",
       "      <td>3.000000</td>\n",
       "      <td>5.000000</td>\n",
       "      <td>6.00</td>\n",
       "    </tr>\n",
       "    <tr>\n",
       "      <th>Days_To_First_Hearing</th>\n",
       "      <td>92619.0</td>\n",
       "      <td>174.205465</td>\n",
       "      <td>318.048990</td>\n",
       "      <td>-426.000000</td>\n",
       "      <td>0.000000</td>\n",
       "      <td>0.000000</td>\n",
       "      <td>261.000000</td>\n",
       "      <td>9546.00</td>\n",
       "    </tr>\n",
       "    <tr>\n",
       "      <th>Accident_Quarter</th>\n",
       "      <td>92619.0</td>\n",
       "      <td>2.458308</td>\n",
       "      <td>1.119777</td>\n",
       "      <td>1.000000</td>\n",
       "      <td>1.000000</td>\n",
       "      <td>2.000000</td>\n",
       "      <td>3.000000</td>\n",
       "      <td>4.00</td>\n",
       "    </tr>\n",
       "    <tr>\n",
       "      <th>Accident_Year</th>\n",
       "      <td>92619.0</td>\n",
       "      <td>2020.802103</td>\n",
       "      <td>1.646703</td>\n",
       "      <td>1961.000000</td>\n",
       "      <td>2020.000000</td>\n",
       "      <td>2021.000000</td>\n",
       "      <td>2022.000000</td>\n",
       "      <td>2023.00</td>\n",
       "    </tr>\n",
       "    <tr>\n",
       "      <th>Accident Day</th>\n",
       "      <td>92619.0</td>\n",
       "      <td>2.503331</td>\n",
       "      <td>1.812223</td>\n",
       "      <td>0.000000</td>\n",
       "      <td>1.000000</td>\n",
       "      <td>2.000000</td>\n",
       "      <td>4.000000</td>\n",
       "      <td>6.00</td>\n",
       "    </tr>\n",
       "    <tr>\n",
       "      <th>Accident on Weekend</th>\n",
       "      <td>92619.0</td>\n",
       "      <td>0.154428</td>\n",
       "      <td>0.361361</td>\n",
       "      <td>0.000000</td>\n",
       "      <td>0.000000</td>\n",
       "      <td>0.000000</td>\n",
       "      <td>0.000000</td>\n",
       "      <td>1.00</td>\n",
       "    </tr>\n",
       "    <tr>\n",
       "      <th>Salary_Per_Dependent</th>\n",
       "      <td>92619.0</td>\n",
       "      <td>499.240925</td>\n",
       "      <td>2661.868023</td>\n",
       "      <td>5.803333</td>\n",
       "      <td>202.950417</td>\n",
       "      <td>312.708636</td>\n",
       "      <td>579.663750</td>\n",
       "      <td>707019.75</td>\n",
       "    </tr>\n",
       "  </tbody>\n",
       "</table>\n",
       "</div>"
      ],
      "text/plain": [
       "                              count         mean           std          min  \\\n",
       "Age at Injury               92619.0    44.389348     12.514248    16.000000   \n",
       "Attorney/Representative     92619.0     0.561300      0.496231     0.000000   \n",
       "Average Weekly Wage         92619.0  1358.647010  10248.448642    17.410000   \n",
       "Birth Year                  92619.0  1976.421698     12.624245  1918.101209   \n",
       "COVID-19 Indicator          92619.0     0.021723      0.145780     0.000000   \n",
       "IME-4 Count                 92619.0     1.056630      1.828930     0.000000   \n",
       "Industry Code               92619.0    15.313294      7.189478    -1.000000   \n",
       "WCIO Cause of Injury Code   92619.0    52.529449     26.343347     0.000000   \n",
       "WCIO Nature of Injury Code  92619.0    38.538810     22.682181     0.000000   \n",
       "WCIO Part Of Body Code      92619.0    47.273799     25.297135     0.000000   \n",
       "Number of Dependents        92619.0     3.001835      2.002605     0.000000   \n",
       "Days_To_First_Hearing       92619.0   174.205465    318.048990  -426.000000   \n",
       "Accident_Quarter            92619.0     2.458308      1.119777     1.000000   \n",
       "Accident_Year               92619.0  2020.802103      1.646703  1961.000000   \n",
       "Accident Day                92619.0     2.503331      1.812223     0.000000   \n",
       "Accident on Weekend         92619.0     0.154428      0.361361     0.000000   \n",
       "Salary_Per_Dependent        92619.0   499.240925   2661.868023     5.803333   \n",
       "\n",
       "                                    25%          50%          75%         max  \n",
       "Age at Injury                 35.000000    43.000000    54.000000       80.00  \n",
       "Attorney/Representative        0.000000     1.000000     1.000000        1.00  \n",
       "Average Weekly Wage          938.125909  1225.412838  1659.862734  2828079.00  \n",
       "Birth Year                  1966.000000  1977.101209  1986.000000     2006.00  \n",
       "COVID-19 Indicator             0.000000     0.000000     0.000000        1.00  \n",
       "IME-4 Count                    0.000000     0.000000     2.000000       73.00  \n",
       "Industry Code                  9.000000    18.000000    23.000000       23.00  \n",
       "WCIO Cause of Injury Code     31.000000    56.000000    74.000000       99.00  \n",
       "WCIO Nature of Injury Code    10.000000    49.000000    52.000000       91.00  \n",
       "WCIO Part Of Body Code        34.000000    42.000000    55.000000      101.00  \n",
       "Number of Dependents           1.000000     3.000000     5.000000        6.00  \n",
       "Days_To_First_Hearing          0.000000     0.000000   261.000000     9546.00  \n",
       "Accident_Quarter               1.000000     2.000000     3.000000        4.00  \n",
       "Accident_Year               2020.000000  2021.000000  2022.000000     2023.00  \n",
       "Accident Day                   1.000000     2.000000     4.000000        6.00  \n",
       "Accident on Weekend            0.000000     0.000000     0.000000        1.00  \n",
       "Salary_Per_Dependent         202.950417   312.708636   579.663750   707019.75  "
      ]
     },
     "execution_count": 54,
     "metadata": {},
     "output_type": "execute_result"
    }
   ],
   "source": [
    "X_train_min.describe().T"
   ]
  },
  {
   "cell_type": "markdown",
   "metadata": {},
   "source": [
    "These features provide comprehensive information across demographics, injury details, socioeconomics, and temporal aspects, making them well-suited to predicting claim outcomes."
   ]
  },
  {
   "cell_type": "code",
   "execution_count": 55,
   "metadata": {},
   "outputs": [
    {
     "data": {
      "text/plain": [
       "Index(['Age at Injury', 'Attorney/Representative', 'Average Weekly Wage',\n",
       "       'Birth Year', 'Carrier Name', 'Carrier Type', 'County of Injury',\n",
       "       'COVID-19 Indicator', 'District Name', 'Gender', 'IME-4 Count',\n",
       "       'Industry Code', 'Medical Fee Region', 'WCIO Cause of Injury Code',\n",
       "       'WCIO Nature of Injury Code', 'WCIO Part Of Body Code', 'Zip Code',\n",
       "       'Number of Dependents', 'Category Combination',\n",
       "       'Carrier_District_Interaction', 'Income_Category',\n",
       "       'Days_To_First_Hearing', 'Accident_Quarter', 'Accident_Year',\n",
       "       'Accident Day', 'Accident on Weekend', 'Age Group',\n",
       "       'promptness_category', 'promptness_C2_category',\n",
       "       'promptness_C3_category', 'Zip_Code_Simplified', 'Carrier Type Merged',\n",
       "       'Carrier_Name_Simplified', 'Body_Part_Category',\n",
       "       'Injury_Nature_Category', 'Injury_Cause_Category', 'Industry Risk',\n",
       "       'Salary_Per_Dependent'],\n",
       "      dtype='object')"
      ]
     },
     "execution_count": 55,
     "metadata": {},
     "output_type": "execute_result"
    }
   ],
   "source": [
    "X_train_min.columns"
   ]
  },
  {
   "cell_type": "markdown",
   "metadata": {},
   "source": [
    "#### Analysis of `Age Group`"
   ]
  },
  {
   "cell_type": "code",
   "execution_count": 56,
   "metadata": {},
   "outputs": [
    {
     "data": {
      "text/plain": [
       "Young Adult    45209\n",
       "Middle Age     37531\n",
       "Youth           6542\n",
       "Senior          3337\n",
       "Name: Age Group, dtype: int64"
      ]
     },
     "execution_count": 56,
     "metadata": {},
     "output_type": "execute_result"
    }
   ],
   "source": [
    "X_train_min['Age Group'].value_counts()"
   ]
  },
  {
   "cell_type": "markdown",
   "metadata": {},
   "source": [
    "This feature allows the model to understand age-related variations in claims, which could influence the type and nature of injuries.\n",
    "\n",
    "This structured feature selection summary provides insights into the main features, both categorical and numerical, used in the model. The focus on grouping, simplification, and categorization ensures the model captures the relevant patterns without unnecessary complexity."
   ]
  },
  {
   "cell_type": "markdown",
   "metadata": {},
   "source": [
    "### Feature Categories\n",
    "The features have been organized into three main categories: **Categorical Features**, **Binary Features**, and **Discrete Features**. Each category represents a different data type or structure, allowing for tailored preprocessing steps and analysis."
   ]
  },
  {
   "cell_type": "code",
   "execution_count": 57,
   "metadata": {},
   "outputs": [
    {
     "data": {
      "text/plain": [
       "Index(['Age at Injury', 'Attorney/Representative', 'Average Weekly Wage',\n",
       "       'Birth Year', 'Carrier Name', 'Carrier Type', 'County of Injury',\n",
       "       'COVID-19 Indicator', 'District Name', 'Gender', 'IME-4 Count',\n",
       "       'Industry Code', 'Medical Fee Region', 'WCIO Cause of Injury Code',\n",
       "       'WCIO Nature of Injury Code', 'WCIO Part Of Body Code', 'Zip Code',\n",
       "       'Number of Dependents', 'Category Combination',\n",
       "       'Carrier_District_Interaction', 'Income_Category',\n",
       "       'Days_To_First_Hearing', 'Accident_Quarter', 'Accident_Year',\n",
       "       'Accident Day', 'Accident on Weekend', 'Age Group',\n",
       "       'promptness_category', 'promptness_C2_category',\n",
       "       'promptness_C3_category', 'Zip_Code_Simplified', 'Carrier Type Merged',\n",
       "       'Carrier_Name_Simplified', 'Body_Part_Category',\n",
       "       'Injury_Nature_Category', 'Injury_Cause_Category', 'Industry Risk',\n",
       "       'Salary_Per_Dependent'],\n",
       "      dtype='object')"
      ]
     },
     "execution_count": 57,
     "metadata": {},
     "output_type": "execute_result"
    }
   ],
   "source": [
    "X_train_min.columns"
   ]
  },
  {
   "cell_type": "code",
   "execution_count": 58,
   "metadata": {},
   "outputs": [
    {
     "name": "stdout",
     "output_type": "stream",
     "text": [
      "Categorical Features: ['Carrier Name', 'Carrier Type', 'County of Injury', 'District Name', 'Gender', 'IME-4 Count', 'Industry Code', 'Medical Fee Region', 'WCIO Cause of Injury Code', 'WCIO Nature of Injury Code', 'WCIO Part Of Body Code', 'Zip Code', 'Carrier_District_Interaction', 'Income_Category', 'Age Group', 'promptness_category', 'promptness_C2_category', 'promptness_C3_category', 'Zip_Code_Simplified', 'Carrier Type Merged', 'Carrier_Name_Simplified', 'Body_Part_Category', 'Injury_Nature_Category', 'Injury_Cause_Category', 'Industry Risk']\n",
      "Binary Features: ['Attorney/Representative', 'COVID-19 Indicator', 'Accident on Weekend']\n",
      "Discrete Features: ['Number of Dependents', 'IME-4 Count', 'Accident_Quarter', 'Accident_Year', 'Accident Day']\n",
      "Continuous Features: ['Days_To_First_Hearing', 'Average Weekly Wage', 'Age at Injury', 'Salary_Per_Dependent']\n"
     ]
    }
   ],
   "source": [
    "# Updating the feature categories with the new columns created\n",
    "categorical_columns = ['Carrier Name', 'Carrier Type', 'County of Injury',\n",
    "       'District Name', 'Gender', 'IME-4 Count',\n",
    "       'Industry Code', 'Medical Fee Region', 'WCIO Cause of Injury Code',\n",
    "       'WCIO Nature of Injury Code', 'WCIO Part Of Body Code', 'Zip Code',\n",
    "    'Carrier_District_Interaction',\n",
    "       'Income_Category', 'Age Group',\n",
    "       'promptness_category', 'promptness_C2_category','promptness_C3_category', 'Zip_Code_Simplified',\n",
    "       'Carrier Type Merged', 'Carrier_Name_Simplified', 'Body_Part_Category',\n",
    "       'Injury_Nature_Category', 'Injury_Cause_Category', 'Industry Risk',\n",
    "]\n",
    "\n",
    "binary_columns = [\n",
    "    'Attorney/Representative', 'COVID-19 Indicator',\n",
    "     'Accident on Weekend'\n",
    "]\n",
    "\n",
    "discrete_columns = [ 'Number of Dependents', 'IME-4 Count',\n",
    "    'Accident_Quarter', 'Accident_Year', 'Accident Day'\n",
    "]\n",
    "\n",
    "continuous_columns = ['Days_To_First_Hearing','Average Weekly Wage','Age at Injury',\n",
    "                      'Salary_Per_Dependent'\n",
    "                      ]\n",
    "\n",
    "# Printing the feature categories\n",
    "print(\"Categorical Features:\", categorical_columns)\n",
    "print(\"Binary Features:\", binary_columns)\n",
    "print(\"Discrete Features:\", discrete_columns)\n",
    "print(\"Continuous Features:\", continuous_columns)"
   ]
  },
  {
   "cell_type": "markdown",
   "metadata": {},
   "source": [
    "## 4.1. Preparing Data</b> <a class=\"anchor\" id=\"section_4_1\"></a>\n",
    "### Converting Discrete Columns to Integer\n",
    "In this step, we ensure all discrete columns are converted to integer data types across the training, validation, and test datasets. This is crucial for consistent data handling and processing in subsequent steps."
   ]
  },
  {
   "cell_type": "code",
   "execution_count": 59,
   "metadata": {},
   "outputs": [],
   "source": [
    "# Convert discrete columns to integer\n",
    "for column in discrete_columns:\n",
    "    X_train_min[column] = X_train[column].astype(int)\n",
    "    X_val_min[column] = X_val[column].astype(int)\n",
    "    df_test[column] = df_test[column].astype(int)"
   ]
  },
  {
   "cell_type": "markdown",
   "metadata": {},
   "source": [
    "### Scaling Features\n",
    "We apply the RobustScaler to the discrete columns. RobustScaler is beneficial for data containing outliers, as it scales data based on the median and interquartile range. This helps normalize the distribution without being heavily affected by outliers. We also use the same scaler to transform validation and test data."
   ]
  },
  {
   "cell_type": "code",
   "execution_count": 60,
   "metadata": {},
   "outputs": [
    {
     "data": {
      "text/plain": [
       "(92619, 38)"
      ]
     },
     "execution_count": 60,
     "metadata": {},
     "output_type": "execute_result"
    }
   ],
   "source": [
    "X_train_min.shape"
   ]
  },
  {
   "cell_type": "code",
   "execution_count": 61,
   "metadata": {},
   "outputs": [
    {
     "data": {
      "text/html": [
       "<div>\n",
       "<style scoped>\n",
       "    .dataframe tbody tr th:only-of-type {\n",
       "        vertical-align: middle;\n",
       "    }\n",
       "\n",
       "    .dataframe tbody tr th {\n",
       "        vertical-align: top;\n",
       "    }\n",
       "\n",
       "    .dataframe thead th {\n",
       "        text-align: right;\n",
       "    }\n",
       "</style>\n",
       "<table border=\"1\" class=\"dataframe\">\n",
       "  <thead>\n",
       "    <tr style=\"text-align: right;\">\n",
       "      <th></th>\n",
       "      <th>Number of Dependents</th>\n",
       "      <th>IME-4 Count</th>\n",
       "      <th>Accident_Quarter</th>\n",
       "      <th>Accident_Year</th>\n",
       "      <th>Accident Day</th>\n",
       "      <th>Days_To_First_Hearing</th>\n",
       "      <th>Average Weekly Wage</th>\n",
       "      <th>Age at Injury</th>\n",
       "      <th>Salary_Per_Dependent</th>\n",
       "    </tr>\n",
       "    <tr>\n",
       "      <th>Claim Identifier</th>\n",
       "      <th></th>\n",
       "      <th></th>\n",
       "      <th></th>\n",
       "      <th></th>\n",
       "      <th></th>\n",
       "      <th></th>\n",
       "      <th></th>\n",
       "      <th></th>\n",
       "      <th></th>\n",
       "    </tr>\n",
       "  </thead>\n",
       "  <tbody>\n",
       "    <tr>\n",
       "      <th>5910068</th>\n",
       "      <td>0.500000</td>\n",
       "      <td>0.0</td>\n",
       "      <td>0.000000</td>\n",
       "      <td>0.967742</td>\n",
       "      <td>0.500000</td>\n",
       "      <td>0.086342</td>\n",
       "      <td>0.000794</td>\n",
       "      <td>0.390625</td>\n",
       "      <td>0.000792</td>\n",
       "    </tr>\n",
       "    <tr>\n",
       "      <th>5506960</th>\n",
       "      <td>0.500000</td>\n",
       "      <td>0.0</td>\n",
       "      <td>0.333333</td>\n",
       "      <td>0.951613</td>\n",
       "      <td>0.333333</td>\n",
       "      <td>0.042720</td>\n",
       "      <td>0.000417</td>\n",
       "      <td>0.625000</td>\n",
       "      <td>0.000415</td>\n",
       "    </tr>\n",
       "    <tr>\n",
       "      <th>5661479</th>\n",
       "      <td>0.833333</td>\n",
       "      <td>0.0</td>\n",
       "      <td>0.000000</td>\n",
       "      <td>0.967742</td>\n",
       "      <td>0.000000</td>\n",
       "      <td>0.042720</td>\n",
       "      <td>0.000589</td>\n",
       "      <td>0.593750</td>\n",
       "      <td>0.000389</td>\n",
       "    </tr>\n",
       "    <tr>\n",
       "      <th>5854179</th>\n",
       "      <td>1.000000</td>\n",
       "      <td>0.0</td>\n",
       "      <td>0.333333</td>\n",
       "      <td>0.967742</td>\n",
       "      <td>1.000000</td>\n",
       "      <td>0.069093</td>\n",
       "      <td>0.000881</td>\n",
       "      <td>0.421875</td>\n",
       "      <td>0.000499</td>\n",
       "    </tr>\n",
       "  </tbody>\n",
       "</table>\n",
       "</div>"
      ],
      "text/plain": [
       "                  Number of Dependents  IME-4 Count  Accident_Quarter  \\\n",
       "Claim Identifier                                                        \n",
       "5910068                       0.500000          0.0          0.000000   \n",
       "5506960                       0.500000          0.0          0.333333   \n",
       "5661479                       0.833333          0.0          0.000000   \n",
       "5854179                       1.000000          0.0          0.333333   \n",
       "\n",
       "                  Accident_Year  Accident Day  Days_To_First_Hearing  \\\n",
       "Claim Identifier                                                       \n",
       "5910068                0.967742      0.500000               0.086342   \n",
       "5506960                0.951613      0.333333               0.042720   \n",
       "5661479                0.967742      0.000000               0.042720   \n",
       "5854179                0.967742      1.000000               0.069093   \n",
       "\n",
       "                  Average Weekly Wage  Age at Injury  Salary_Per_Dependent  \n",
       "Claim Identifier                                                            \n",
       "5910068                      0.000794       0.390625              0.000792  \n",
       "5506960                      0.000417       0.625000              0.000415  \n",
       "5661479                      0.000589       0.593750              0.000389  \n",
       "5854179                      0.000881       0.421875              0.000499  "
      ]
     },
     "execution_count": 61,
     "metadata": {},
     "output_type": "execute_result"
    }
   ],
   "source": [
    "#scaling features\n",
    "from sklearn.preprocessing import MinMaxScaler\n",
    "feat_scaler = MinMaxScaler()\n",
    "X_train_min[discrete_columns + continuous_columns] = feat_scaler.fit_transform(X_train_min[discrete_columns + continuous_columns])\n",
    "\n",
    "X_train_num_scaled = X_train_min[discrete_columns + continuous_columns]\n",
    "\n",
    "#apply same transformation for val data\n",
    "X_val_min[discrete_columns + continuous_columns] = feat_scaler.transform(X_val_min[discrete_columns + continuous_columns])\n",
    "\n",
    "X_val_num_scaled = X_val_min[discrete_columns + continuous_columns]\n",
    "\n",
    "#apply same transformation for test data\n",
    "df_test_num_scaled = feat_scaler.transform(df_test[discrete_columns + continuous_columns])\n",
    "\n",
    "#X_val, X_train\n",
    "X_train_num_scaled.head(4)"
   ]
  },
  {
   "cell_type": "markdown",
   "metadata": {},
   "source": [
    "### Variance Check After Scaling\n",
    "After scaling, we check the variance of each scaled feature to confirm that the features have been scaled properly. Lower variance after scaling indicates that data is normalized and less affected by magnitude differences."
   ]
  },
  {
   "cell_type": "code",
   "execution_count": 62,
   "metadata": {},
   "outputs": [
    {
     "data": {
      "text/plain": [
       "Number of Dependents     0.111401\n",
       "IME-4 Count              0.000628\n",
       "Accident_Quarter         0.139322\n",
       "Accident_Year            0.000705\n",
       "Accident Day             0.091226\n",
       "Days_To_First_Hearing    0.001017\n",
       "Average Weekly Wage      0.000013\n",
       "Age at Injury            0.038234\n",
       "Salary_Per_Dependent     0.000014\n",
       "dtype: float64"
      ]
     },
     "execution_count": 62,
     "metadata": {},
     "output_type": "execute_result"
    }
   ],
   "source": [
    "# Check variance of scaled data\n",
    "X_train_num_scaled.var()"
   ]
  },
  {
   "cell_type": "markdown",
   "metadata": {},
   "source": [
    "The output shows the variance of each discrete column in the scaled training set. These values help validate that the scaling process has achieved a consistent data distribution across features."
   ]
  },
  {
   "cell_type": "markdown",
   "metadata": {},
   "source": [
    " ## 4.2. Numerical Features</b> <a class=\"anchor\" id=\"section_4_2\"></a>"
   ]
  },
  {
   "cell_type": "markdown",
   "metadata": {},
   "source": [
    " > ### 4.2.1. Spearman and Pearson correlation matrix <a class=\"anchor\" id=\"sub_section_4_2_1\"></a>\n",
    "\n",
    "To better understand the relationships between numerical features, we generate Spearman and Pearson correlation matrices. Correlation matrices help identify linear and monotonic relationships between variables, which can be useful in feature selection and engineering."
   ]
  },
  {
   "cell_type": "markdown",
   "metadata": {},
   "source": [
    "##### Correlation Heatmap Function\n",
    "The `cor_heatmap` function displays a heatmap of a given correlation matrix. We set various visual parameters to enhance readability:\n",
    "- **figsize**: Sets the figure size.\n",
    "- **cmap**: Chooses the color palette ('viridis').\n",
    "- **mask**: Hides the upper triangle of the matrix for clarity."
   ]
  },
  {
   "cell_type": "code",
   "execution_count": 63,
   "metadata": {},
   "outputs": [],
   "source": [
    "from utils import cor_heatmap"
   ]
  },
  {
   "cell_type": "markdown",
   "metadata": {},
   "source": [
    "#### Spearman Correlation Calculation and Plotting\n",
    "Here, we calculate the Spearman correlation on the scaled numerical features and then plot the resulting matrix."
   ]
  },
  {
   "cell_type": "code",
   "execution_count": 64,
   "metadata": {},
   "outputs": [
    {
     "data": {
      "image/png": "[encoded data removed]",
      "text/plain": [
       "<Figure size 1800x1200 with 2 Axes>"
      ]
     },
     "metadata": {},
     "output_type": "display_data"
    }
   ],
   "source": [
    "corr_data_numerical = X_train_num_scaled \n",
    "cor_spearman = corr_data_numerical.corr(method='spearman')\n",
    "\n",
    "cor_heatmap(cor_spearman, 'Spearman')"
   ]
  },
  {
   "cell_type": "markdown",
   "metadata": {},
   "source": [
    "> ### 4.2.2. LASSO Regression <a class=\"anchor\" id=\"sub_section_4_2_2\"></a>\n",
    "\n",
    " The LASSO (Least Absolute Shrinkage and Selection Operator) regression is used here for feature selection by fitting a model to the standardized dataset and analyzing the coefficients."
   ]
  },
  {
   "cell_type": "code",
   "execution_count": 65,
   "metadata": {},
   "outputs": [
    {
     "data": {
      "text/plain": [
       "(92619, 9)"
      ]
     },
     "execution_count": 65,
     "metadata": {},
     "output_type": "execute_result"
    }
   ],
   "source": [
    "X_train_num_scaled.shape"
   ]
  },
  {
   "cell_type": "code",
   "execution_count": 66,
   "metadata": {},
   "outputs": [
    {
     "data": {
      "text/plain": [
       "Accident_Quarter         -0.027725\n",
       "Average Weekly Wage       0.000000\n",
       "Accident Day              0.000890\n",
       "Number of Dependents      0.003373\n",
       "Age at Injury             0.152061\n",
       "Salary_Per_Dependent      1.086926\n",
       "Accident_Year             1.477187\n",
       "Days_To_First_Hearing     3.273602\n",
       "IME-4 Count              11.541160\n",
       "dtype: float64"
      ]
     },
     "execution_count": 66,
     "metadata": {},
     "output_type": "execute_result"
    }
   ],
   "source": [
    "# Fit regression\n",
    "reg = LassoCV().fit(X_train_num_scaled, y_train_encoded)\n",
    "#get coefficients\n",
    "coef = pd.Series(reg.coef_, index = X_train_num_scaled.columns)\n",
    "# Sort coefficients to observe importance\n",
    "coef.sort_values()"
   ]
  },
  {
   "cell_type": "markdown",
   "metadata": {},
   "source": [
    "**Observations:**\n",
    "\n",
    "The LASSO model assigns non-zero coefficients only to the features it considers important.\n",
    "\n",
    "IME-4 Count has the highest positive coefficient, indicating a strong positive relationship with the target variable, as well as Days_To_First_Hearing\n",
    "\n",
    "\n",
    "Accident Day and Accident Quarter have smaller negative coefficients, implying a weaker inverse relationship with the target.\n",
    "\n",
    "Average Weekly Wage and Number of Dependents has close to zero impact, suggesting it may not be a significant predictor in the model."
   ]
  },
  {
   "cell_type": "code",
   "execution_count": 67,
   "metadata": {},
   "outputs": [],
   "source": [
    "from utils import plot_importance, cor_heatmap"
   ]
  },
  {
   "cell_type": "markdown",
   "metadata": {},
   "source": [
    "This function generates a horizontal bar plot of the feature importance values derived from the LASSO model, helping to visualize which features are prioritized by the model."
   ]
  },
  {
   "cell_type": "code",
   "execution_count": 68,
   "metadata": {},
   "outputs": [
    {
     "data": {
      "image/png": "[encoded data removed]",
      "text/plain": [
       "<Figure size 300x500 with 1 Axes>"
      ]
     },
     "metadata": {},
     "output_type": "display_data"
    }
   ],
   "source": [
    "plot_importance(coef,'Lasso')"
   ]
  },
  {
   "cell_type": "markdown",
   "metadata": {},
   "source": [
    "> ### 4.2.3. Recursive Feature Elimination - RFE <a class=\"anchor\" id=\"sub_section_4_2_3\"></a>\n",
    "\n",
    " RFE is employed here to further validate the important features as identified by LASSO. By sequentially removing the least important features, RFE helps to refine the feature set."
   ]
  },
  {
   "cell_type": "markdown",
   "metadata": {},
   "source": [
    "Observations:\n",
    "The selected features after RFE likely overlap with those identified by LASSO, suggesting consistency in feature importance.\n",
    "Using both LASSO and RFE provides a more robust feature selection by cross-validating the importance of individual features."
   ]
  },
  {
   "cell_type": "markdown",
   "metadata": {},
   "source": [
    "This block of code performs RFE to identify the best subset of features by iterating over a range of feature numbers. The code aims to maximize model performance on the validation set."
   ]
  },
  {
   "cell_type": "code",
   "execution_count": 69,
   "metadata": {},
   "outputs": [
    {
     "name": "stdout",
     "output_type": "stream",
     "text": [
      "Optimum number of features: 8\n",
      "F1 Macro Score with 8 features: 0.235136\n"
     ]
    }
   ],
   "source": [
    "# RFE using Logistic Regression\n",
    "model = LogisticRegression()\n",
    "\n",
    "#Use the function defined in utils.py\n",
    "best_features, best_score, scores = find_optimal_features_with_rfe(\n",
    "    model, \n",
    "    X_train_num_scaled, \n",
    "    y_train_encoded, \n",
    "    X_val_num_scaled, \n",
    "    y_val_encoded,\n",
    "    max_features=9\n",
    ")\n"
   ]
  },
  {
   "cell_type": "markdown",
   "metadata": {},
   "source": [
    "**Observations:**\n",
    "\n",
    "The loop evaluates models with 1 to 9 features, tracking the score for each.\n",
    "\n",
    "The output indicates that 2 features yielded the highest validation f1_score score of 0.483851."
   ]
  },
  {
   "cell_type": "markdown",
   "metadata": {},
   "source": [
    "#### Applying RFE with the Optimal Number of Features\n",
    "Once the optimal number of features is identified, the RFE model is finalized with this configuration."
   ]
  },
  {
   "cell_type": "code",
   "execution_count": 70,
   "metadata": {},
   "outputs": [],
   "source": [
    "#rfscv- to select 1st the number of features we should select\n",
    "model = LogisticRegression()\n",
    "rfe = RFE(estimator = model, n_features_to_select = 2)"
   ]
  },
  {
   "cell_type": "code",
   "execution_count": 71,
   "metadata": {},
   "outputs": [],
   "source": [
    "X_rfe= rfe.fit_transform(X=X_train_num_scaled, y=y_train_encoded)"
   ]
  },
  {
   "cell_type": "markdown",
   "metadata": {},
   "source": [
    "This shows the results of the feature selection process, listing the features selected by RFE. The code snippet confirms which features were selected as relevant by the RFE model and displays them in a boolean Series, where True indicates the feature was selected and False means it was not."
   ]
  },
  {
   "cell_type": "code",
   "execution_count": 72,
   "metadata": {},
   "outputs": [
    {
     "data": {
      "text/plain": [
       "Number of Dependents     False\n",
       "IME-4 Count               True\n",
       "Accident_Quarter         False\n",
       "Accident_Year            False\n",
       "Accident Day             False\n",
       "Days_To_First_Hearing     True\n",
       "Average Weekly Wage      False\n",
       "Age at Injury            False\n",
       "Salary_Per_Dependent     False\n",
       "dtype: bool"
      ]
     },
     "execution_count": 72,
     "metadata": {},
     "output_type": "execute_result"
    }
   ],
   "source": [
    "selected_features = pd.Series(rfe.support_, index = X_train_num_scaled.columns)\n",
    "selected_features"
   ]
  },
  {
   "cell_type": "markdown",
   "metadata": {},
   "source": [
    "> ### 4.2.4. Feature Importance - Decision Tree <a class=\"anchor\" id=\"sub_section_4_2_4\"></a>\n"
   ]
  },
  {
   "cell_type": "code",
   "execution_count": 73,
   "metadata": {},
   "outputs": [],
   "source": [
    "from utils import compare_feature_importances"
   ]
  },
  {
   "cell_type": "code",
   "execution_count": 74,
   "metadata": {},
   "outputs": [
    {
     "data": {
      "image/png": "[encoded data removed]",
      "text/plain": [
       "<Figure size 1300x500 with 1 Axes>"
      ]
     },
     "metadata": {},
     "output_type": "display_data"
    },
    {
     "name": "stdout",
     "output_type": "stream",
     "text": [
      "       gini   entropy                   col\n",
      "0  0.033080  0.031145  Number of Dependents\n",
      "1  0.236610  0.218090           IME-4 Count\n",
      "2  0.045136  0.044890      Accident_Quarter\n",
      "3  0.045136  0.043609         Accident_Year\n",
      "4  0.067338  0.069349          Accident Day\n"
     ]
    }
   ],
   "source": [
    "# Call the function with your training data\n",
    "zippy = compare_feature_importances(X_train_num_scaled, y_train_encoded)\n",
    "\n",
    "# Access the DataFrame for further analysis if needed\n",
    "print(zippy.head())"
   ]
  },
  {
   "cell_type": "markdown",
   "metadata": {},
   "source": [
    "> ### 4.2.5. Feature Importance - Random Forest <a class=\"anchor\" id=\"sub_section_4_2_5\"></a>"
   ]
  },
  {
   "cell_type": "code",
   "execution_count": 75,
   "metadata": {},
   "outputs": [
    {
     "data": {
      "image/png": "[encoded data removed]",
      "text/plain": [
       "<Figure size 1300x500 with 1 Axes>"
      ]
     },
     "metadata": {},
     "output_type": "display_data"
    },
    {
     "name": "stdout",
     "output_type": "stream",
     "text": [
      "       gini   entropy                   col\n",
      "0  0.040307  0.042639  Number of Dependents\n",
      "1  0.205517  0.197643           IME-4 Count\n",
      "2  0.045863  0.046235      Accident_Quarter\n",
      "3  0.046291  0.044683         Accident_Year\n",
      "4  0.069612  0.070458          Accident Day\n"
     ]
    }
   ],
   "source": [
    "# Call the function with your training data\n",
    "importances = compare_rf_feature_importances(X_train_num_scaled, y_train_encoded)\n",
    "\n",
    "# Access the DataFrame for further analysis if needed\n",
    "print(importances.head())"
   ]
  },
  {
   "cell_type": "markdown",
   "metadata": {},
   "source": [
    "## 4.3. Categorical Features</b> <a class=\"anchor\" id=\"section_4_3\"></a>\n",
    "Chi-squared and MIC for the categorical ones."
   ]
  },
  {
   "cell_type": "markdown",
   "metadata": {},
   "source": [
    " > ### $\\chi ^2$ Test for Independence <a class=\"anchor\" id=\"sub_section_4_2_1\"></a>\n",
    "\n",
    " We'll apply the Chi-squared test on categorical features to check for independence. This test is suitable for categorical data and helps identify features that have significant associations with the target variable."
   ]
  },
  {
   "cell_type": "code",
   "execution_count": 76,
   "metadata": {},
   "outputs": [
    {
     "data": {
      "text/plain": [
       "['Attorney/Representative', 'COVID-19 Indicator', 'Accident on Weekend']"
      ]
     },
     "execution_count": 76,
     "metadata": {},
     "output_type": "execute_result"
    }
   ],
   "source": [
    "binary_columns"
   ]
  },
  {
   "cell_type": "code",
   "execution_count": 77,
   "metadata": {},
   "outputs": [],
   "source": [
    "#To make sure that we keep the preprocessed dataset without the encoded columns\n",
    "X_train_processed_copy = X_train_min.copy()\n",
    "X_val_processed_copy = X_val_min.copy()\n",
    "df_test_processed_copy = df_test.copy()"
   ]
  },
  {
   "cell_type": "code",
   "execution_count": 78,
   "metadata": {},
   "outputs": [
    {
     "data": {
      "text/plain": [
       "(92619, 38)"
      ]
     },
     "execution_count": 78,
     "metadata": {},
     "output_type": "execute_result"
    }
   ],
   "source": [
    "X_train_processed_copy.shape"
   ]
  },
  {
   "cell_type": "code",
   "execution_count": 79,
   "metadata": {},
   "outputs": [
    {
     "data": {
      "text/plain": [
       "(40332, 38)"
      ]
     },
     "execution_count": 79,
     "metadata": {},
     "output_type": "execute_result"
    }
   ],
   "source": [
    "X_val_processed_copy.shape"
   ]
  },
  {
   "cell_type": "code",
   "execution_count": 80,
   "metadata": {},
   "outputs": [
    {
     "data": {
      "text/plain": [
       "Index(['Age at Injury', 'Attorney/Representative', 'Average Weekly Wage',\n",
       "       'Birth Year', 'Carrier Name', 'Carrier Type', 'County of Injury',\n",
       "       'COVID-19 Indicator', 'District Name', 'Gender', 'IME-4 Count',\n",
       "       'Industry Code', 'Medical Fee Region', 'WCIO Cause of Injury Code',\n",
       "       'WCIO Nature of Injury Code', 'WCIO Part Of Body Code', 'Zip Code',\n",
       "       'Number of Dependents', 'Category Combination',\n",
       "       'Carrier_District_Interaction', 'Income_Category',\n",
       "       'Days_To_First_Hearing', 'Accident_Quarter', 'Accident_Year',\n",
       "       'Accident Day', 'Accident on Weekend', 'Age Group',\n",
       "       'promptness_category', 'promptness_C2_category',\n",
       "       'promptness_C3_category', 'Zip_Code_Simplified', 'Carrier Type Merged',\n",
       "       'Carrier_Name_Simplified', 'Body_Part_Category',\n",
       "       'Injury_Nature_Category', 'Injury_Cause_Category', 'Industry Risk',\n",
       "       'Salary_Per_Dependent'],\n",
       "      dtype='object')"
      ]
     },
     "execution_count": 80,
     "metadata": {},
     "output_type": "execute_result"
    }
   ],
   "source": [
    "X_val_processed_copy.columns"
   ]
  },
  {
   "cell_type": "markdown",
   "metadata": {},
   "source": [
    "### Approach: Encoding Categorical Features with LabelEncoder, OneHotEncoder and Frequency encoder\n",
    "As our second approach we decided to perform different type of encoding according with each categorical variable. For ordinal features (those with an inherent order like age groups), Label Encoding is applied to assign each category a unique numerical value. For nominal features with low cardinality (few unique values), One-Hot Encoding is used to create binary columns representing each category. For high-cardinality features (many unique values like zip codes), Frequency Encoding is applied to convert categories to their frequency of occurrence, reducing dimensionality without introducing too many columns.\n",
    "\n",
    "These encoding methods are used to properly represent categorical features in a numerical format while considering their characteristics (order or cardinality), which helps models interpret them effectively."
   ]
  },
  {
   "cell_type": "code",
   "execution_count": 81,
   "metadata": {},
   "outputs": [
    {
     "data": {
      "text/plain": [
       "NYC           43912\n",
       "ALBANY        13708\n",
       "HAUPPAUGE     12058\n",
       "SYRACUSE       6929\n",
       "BUFFALO        6805\n",
       "ROCHESTER      4989\n",
       "BINGHAMTON     3464\n",
       "STATEWIDE       754\n",
       "Name: District Name, dtype: int64"
      ]
     },
     "execution_count": 81,
     "metadata": {},
     "output_type": "execute_result"
    }
   ],
   "source": [
    "X_train_processed_copy['District Name'].value_counts()"
   ]
  },
  {
   "cell_type": "code",
   "execution_count": 82,
   "metadata": {},
   "outputs": [
    {
     "name": "stdout",
     "output_type": "stream",
     "text": [
      "promptness_category               526\n",
      "promptness_C2_category            208\n",
      "promptness_C3_category            573\n",
      "Age Group                           0\n",
      "Income_Category                     0\n",
      "Industry Risk                       0\n",
      "Gender                              0\n",
      "Medical Fee Region                  0\n",
      "Body_Part_Category              40332\n",
      "Injury_Nature_Category           2190\n",
      "Injury_Cause_Category            2185\n",
      "Carrier_Name_Simplified             0\n",
      "Zip_Code_Simplified                 0\n",
      "Industry Code                       0\n",
      "County of Injury                    0\n",
      "Carrier Type Merged                 0\n",
      "WCIO Cause of Injury Code           0\n",
      "WCIO Nature of Injury Code          0\n",
      "WCIO Part Of Body Code              0\n",
      "Carrier_District_Interaction        0\n",
      "District Name                       0\n",
      "dtype: int64\n"
     ]
    }
   ],
   "source": [
    "# Example columns to encode\n",
    "ordinal_features = ['promptness_category', 'promptness_C2_category','promptness_C3_category', 'Age Group', 'Income_Category', 'Industry Risk']\n",
    "low_cardinality_cols = ['Gender', 'Medical Fee Region','Body_Part_Category',\n",
    "       'Injury_Nature_Category', 'Injury_Cause_Category']\n",
    "high_cardinality_cols = ['Carrier_Name_Simplified', 'Zip_Code_Simplified', 'Industry Code', 'County of Injury', 'Carrier Type Merged',\n",
    "                         'WCIO Cause of Injury Code', 'WCIO Nature of Injury Code', 'WCIO Part Of Body Code','Carrier_District_Interaction', 'District Name']\n",
    "\n",
    "\n",
    "# Check for NaN or nulls\n",
    "print(X_val_processed_copy[ordinal_features + low_cardinality_cols + high_cardinality_cols].isnull().sum())"
   ]
  },
  {
   "cell_type": "code",
   "execution_count": 83,
   "metadata": {},
   "outputs": [
    {
     "name": "stdout",
     "output_type": "stream",
     "text": [
      "Age at Injury                   0\n",
      "Attorney/Representative         0\n",
      "Average Weekly Wage             0\n",
      "Birth Year                      0\n",
      "Carrier Name                    0\n",
      "Carrier Type                    0\n",
      "County of Injury                0\n",
      "COVID-19 Indicator              0\n",
      "District Name                   0\n",
      "Gender                          0\n",
      "IME-4 Count                     0\n",
      "Industry Code                   0\n",
      "Medical Fee Region              0\n",
      "WCIO Cause of Injury Code       0\n",
      "WCIO Nature of Injury Code      0\n",
      "WCIO Part Of Body Code          0\n",
      "Zip Code                        1\n",
      "Number of Dependents            0\n",
      "Category Combination            0\n",
      "Carrier_District_Interaction    0\n",
      "Income_Category                 0\n",
      "Days_To_First_Hearing           0\n",
      "Accident_Quarter                0\n",
      "Accident_Year                   0\n",
      "Accident Day                    0\n",
      "Accident on Weekend             0\n",
      "Age Group                       0\n",
      "promptness_category             0\n",
      "promptness_C2_category          0\n",
      "promptness_C3_category          0\n",
      "Zip_Code_Simplified             0\n",
      "Carrier Type Merged             0\n",
      "Carrier_Name_Simplified         0\n",
      "Body_Part_Category              0\n",
      "Injury_Nature_Category          0\n",
      "Injury_Cause_Category           0\n",
      "Industry Risk                   0\n",
      "Salary_Per_Dependent            0\n",
      "dtype: int64\n",
      "Age at Injury                   0\n",
      "Attorney/Representative         0\n",
      "Average Weekly Wage             0\n",
      "Birth Year                      0\n",
      "Carrier Name                    0\n",
      "Carrier Type                    0\n",
      "County of Injury                0\n",
      "COVID-19 Indicator              0\n",
      "District Name                   0\n",
      "Gender                          0\n",
      "IME-4 Count                     0\n",
      "Industry Code                   0\n",
      "Medical Fee Region              0\n",
      "WCIO Cause of Injury Code       0\n",
      "WCIO Nature of Injury Code      0\n",
      "WCIO Part Of Body Code          0\n",
      "Zip Code                        0\n",
      "Number of Dependents            0\n",
      "Category Combination            0\n",
      "Carrier_District_Interaction    0\n",
      "Income_Category                 0\n",
      "Days_To_First_Hearing           0\n",
      "Accident_Quarter                0\n",
      "Accident_Year                   0\n",
      "Accident Day                    0\n",
      "Accident on Weekend             0\n",
      "Age Group                       0\n",
      "promptness_category             0\n",
      "promptness_C2_category          0\n",
      "promptness_C3_category          0\n",
      "Zip_Code_Simplified             0\n",
      "Carrier Type Merged             0\n",
      "Carrier_Name_Simplified         0\n",
      "Body_Part_Category              0\n",
      "Injury_Nature_Category          0\n",
      "Injury_Cause_Category           0\n",
      "Industry Risk                   0\n",
      "Salary_Per_Dependent            0\n",
      "dtype: int64\n",
      "Age at Injury                   0\n",
      "Attorney/Representative         0\n",
      "Average Weekly Wage             0\n",
      "Birth Year                      0\n",
      "Carrier Name                    0\n",
      "Carrier Type                    0\n",
      "County of Injury                0\n",
      "COVID-19 Indicator              0\n",
      "District Name                   0\n",
      "Gender                          0\n",
      "IME-4 Count                     0\n",
      "Industry Code                   0\n",
      "Medical Fee Region              0\n",
      "WCIO Cause of Injury Code       0\n",
      "WCIO Nature of Injury Code      0\n",
      "WCIO Part Of Body Code          0\n",
      "Zip Code                        0\n",
      "Number of Dependents            0\n",
      "Carrier_District_Interaction    0\n",
      "Income_Category                 0\n",
      "Days_To_First_Hearing           0\n",
      "Accident_Quarter                0\n",
      "Accident_Year                   0\n",
      "Accident Day                    0\n",
      "Accident on Weekend             0\n",
      "Age Group                       0\n",
      "promptness_category             0\n",
      "promptness_C2_category          0\n",
      "promptness_C3_category          0\n",
      "Zip_Code_Simplified             0\n",
      "Carrier Type Merged             0\n",
      "Carrier_Name_Simplified         0\n",
      "Body_Part_Category              0\n",
      "Injury_Nature_Category          0\n",
      "Injury_Cause_Category           0\n",
      "Industry Risk                   0\n",
      "Salary_Per_Dependent            0\n",
      "dtype: int64\n"
     ]
    }
   ],
   "source": [
    "#por agora antes de descobrir o erro\n",
    "\n",
    "# Substituir os valores NaN pela moda de cada coluna\n",
    "\n",
    "# Substituir NaNs por moda no conjunto de treino, validação e teste\n",
    "for col in ordinal_features + low_cardinality_cols + high_cardinality_cols:\n",
    "    # Calcular a moda da coluna no conjunto de treino\n",
    "    moda = X_train_processed_copy[col].mode()[0]\n",
    "    \n",
    "    # Substituir NaNs nos três conjuntos de dados pela moda calculada\n",
    "    X_train_processed_copy[col] = X_train_processed_copy[col].fillna(moda)\n",
    "    X_val_processed_copy[col] = X_val_processed_copy[col].fillna(moda)\n",
    "    df_test_processed_copy[col] = df_test_processed_copy[col].fillna(moda)\n",
    "\n",
    "# Verificar se ainda existem valores ausentes\n",
    "print(X_train_processed_copy.isnull().sum())\n",
    "print(X_val_processed_copy.isnull().sum())\n",
    "print(df_test_processed_copy.isnull().sum())"
   ]
  },
  {
   "cell_type": "code",
   "execution_count": 84,
   "metadata": {},
   "outputs": [
    {
     "data": {
      "text/plain": [
       "Unknown Risk    293128\n",
       "High Risk        85111\n",
       "Medium Risk       9736\n",
       "Name: Industry Risk, dtype: int64"
      ]
     },
     "execution_count": 84,
     "metadata": {},
     "output_type": "execute_result"
    }
   ],
   "source": [
    "df_test_processed_copy['Industry Risk'].value_counts()"
   ]
  },
  {
   "cell_type": "code",
   "execution_count": 85,
   "metadata": {},
   "outputs": [
    {
     "name": "stdout",
     "output_type": "stream",
     "text": [
      "Total NaN values in all  the datasets: 1\n"
     ]
    }
   ],
   "source": [
    "# Sum all the NaN values in the datasets\n",
    "missing_values_total = (\n",
    "    X_train_processed_copy.isnull().sum().sum() +\n",
    "    X_val_processed_copy.isnull().sum().sum() +\n",
    "    df_test_processed_copy.isnull().sum().sum()\n",
    ")\n",
    "\n",
    "print(f\"Total NaN values in all  the datasets: {missing_values_total}\")"
   ]
  },
  {
   "cell_type": "code",
   "execution_count": 86,
   "metadata": {},
   "outputs": [],
   "source": [
    "#For now since the pre processing isnt finish lets replace nan by 0 the row tha has nan vlaues\n",
    "X_train_processed_copy = X_train_processed_copy.fillna(0)"
   ]
  },
  {
   "cell_type": "code",
   "execution_count": 87,
   "metadata": {},
   "outputs": [
    {
     "name": "stdout",
     "output_type": "stream",
     "text": [
      "Processing ordinal feature: promptness_category\n",
      "Processing ordinal feature: promptness_C2_category\n",
      "Processing ordinal feature: promptness_C3_category\n",
      "Processing ordinal feature: Age Group\n",
      "Processing ordinal feature: Income_Category\n",
      "Processing ordinal feature: Industry Risk\n",
      "\n",
      "Processing low-cardinality features for One-Hot Encoding...\n",
      "\n",
      "Processing high-cardinality features for Frequency Encoding...\n",
      "Encoding high-cardinality feature: Carrier_Name_Simplified\n",
      "Encoding high-cardinality feature: Zip_Code_Simplified\n",
      "Encoding high-cardinality feature: Industry Code\n",
      "Encoding high-cardinality feature: County of Injury\n",
      "Encoding high-cardinality feature: Carrier Type Merged\n",
      "Encoding high-cardinality feature: WCIO Cause of Injury Code\n",
      "Encoding high-cardinality feature: WCIO Nature of Injury Code\n",
      "Encoding high-cardinality feature: WCIO Part Of Body Code\n",
      "Encoding high-cardinality feature: Carrier_District_Interaction\n",
      "Encoding high-cardinality feature: District Name\n",
      "\n",
      "Summary of encoded datasets:\n",
      "Final X_train_final shape: (92619, 58)\n",
      "Final X_val_final shape: (40332, 58)\n",
      "Final X_test_final shape: (387975, 57)\n"
     ]
    }
   ],
   "source": [
    "from sklearn.preprocessing import OneHotEncoder, LabelEncoder\n",
    "import pandas as pd\n",
    "\n",
    "# Step 1: Label Encode ordinal features (features with intrinsic order)\n",
    "label_encoder_1 = LabelEncoder()\n",
    "for col in ordinal_features:\n",
    "    # Ensure input is a column from the DataFrame\n",
    "    print(f\"Processing ordinal feature: {col}\")\n",
    "    X_train_processed_copy[col] = label_encoder_1.fit_transform(X_train_processed_copy[col])\n",
    "    X_val_processed_copy[col] = label_encoder_1.transform(X_val_processed_copy[col])\n",
    "    df_test_processed_copy[col] = label_encoder_1.transform(df_test_processed_copy[col])\n",
    "\n",
    "# Step 2: One-Hot Encode low-cardinality nominal features\n",
    "print(\"\\nProcessing low-cardinality features for One-Hot Encoding...\")\n",
    "one_hot_encoder = OneHotEncoder(drop='first', handle_unknown='ignore')  # Corrected argument\n",
    "\n",
    "# Extract the subset of low-cardinality columns\n",
    "low_cardinality_train = X_train_processed_copy[low_cardinality_cols]\n",
    "low_cardinality_val = X_val_processed_copy[low_cardinality_cols]\n",
    "low_cardinality_test = df_test_processed_copy[low_cardinality_cols]\n",
    "\n",
    "# Apply One-Hot Encoding and convert sparse matrix to dense\n",
    "one_hot_encoded_train = one_hot_encoder.fit_transform(low_cardinality_train).toarray()\n",
    "one_hot_encoded_val = one_hot_encoder.transform(low_cardinality_val).toarray()\n",
    "one_hot_encoded_test = one_hot_encoder.transform(low_cardinality_test).toarray()\n",
    "\n",
    "# Get feature names for the encoded columns\n",
    "feature_names = one_hot_encoder.get_feature_names_out(low_cardinality_cols)\n",
    "\n",
    "# Convert One-Hot Encoded arrays to DataFrames with correct index and columns\n",
    "one_hot_encoded_train_df = pd.DataFrame(one_hot_encoded_train, columns=feature_names, index=low_cardinality_train.index)\n",
    "one_hot_encoded_val_df = pd.DataFrame(one_hot_encoded_val, columns=feature_names, index=low_cardinality_val.index)\n",
    "one_hot_encoded_test_df = pd.DataFrame(one_hot_encoded_test, columns=feature_names, index=low_cardinality_test.index)\n",
    "\n",
    "# Concatenate with original datasets\n",
    "X_train_processed_copy = pd.concat([X_train_processed_copy, one_hot_encoded_train_df], axis=1)\n",
    "X_val_processed_copy = pd.concat([X_val_processed_copy, one_hot_encoded_val_df], axis=1)\n",
    "df_test_processed_copy = pd.concat([df_test_processed_copy, one_hot_encoded_test_df], axis=1)\n",
    "\n",
    "# Drop original low-cardinality columns\n",
    "X_train_processed_copy.drop(columns=low_cardinality_cols, inplace=True)\n",
    "X_val_processed_copy.drop(columns=low_cardinality_cols, inplace=True)\n",
    "df_test_processed_copy.drop(columns=low_cardinality_cols, inplace=True)\n",
    "\n",
    "# Step 3: Frequency Encoding for high-cardinality nominal features\n",
    "print(\"\\nProcessing high-cardinality features for Frequency Encoding...\")\n",
    "for col in high_cardinality_cols:\n",
    "    print(f\"Encoding high-cardinality feature: {col}\")\n",
    "    # Frequency count based on the training data\n",
    "    freq = X_train_processed_copy[col].value_counts()\n",
    "    # Apply mapping to all datasets\n",
    "    X_train_processed_copy[f\"{col}_freq\"] = X_train_processed_copy[col].map(freq).fillna(0)\n",
    "    X_val_processed_copy[f\"{col}_freq\"] = X_val_processed_copy[col].map(freq).fillna(0)\n",
    "    df_test_processed_copy[f\"{col}_freq\"] = df_test_processed_copy[col].map(freq).fillna(0)\n",
    "\n",
    "# Drop original high-cardinality columns\n",
    "X_train_processed_copy.drop(columns=high_cardinality_cols, inplace=True)\n",
    "X_val_processed_copy.drop(columns=high_cardinality_cols, inplace=True)\n",
    "df_test_processed_copy.drop(columns=high_cardinality_cols, inplace=True)\n",
    "\n",
    "# Final datasets after encoding\n",
    "X_train_final = X_train_processed_copy.copy()\n",
    "X_val_final = X_val_processed_copy.copy()\n",
    "X_test_final = df_test_processed_copy.copy()\n",
    "\n",
    "# Summary\n",
    "print(\"\\nSummary of encoded datasets:\")\n",
    "print(\"Final X_train_final shape:\", X_train_final.shape)\n",
    "print(\"Final X_val_final shape:\", X_val_final.shape)\n",
    "print(\"Final X_test_final shape:\", X_test_final.shape)"
   ]
  },
  {
   "cell_type": "markdown",
   "metadata": {},
   "source": [
    "### Why Are There Missing Values (NaN) in Validation and Test Sets?\n",
    "\n",
    "During the encoding process, missing values (NaN) may appear in the validation and test sets because certain categories that exist in these sets might not be present in the training set. For instance, during frequency encoding, if a category exists only in the validation or test set but not in the training set, it will result in missing values when encoding those rows.\n",
    "\n",
    "To address this, we can fill these missing values with a placeholder such as `0`, ensuring consistent feature representation across all datasets, for now. For next deliverable we will try to implement better approaches."
   ]
  },
  {
   "cell_type": "code",
   "execution_count": 88,
   "metadata": {},
   "outputs": [
    {
     "name": "stdout",
     "output_type": "stream",
     "text": [
      "Total NaN sum: 0\n"
     ]
    }
   ],
   "source": [
    "# Summing all the NaN values in the datasets\n",
    "missing_values_total = (\n",
    "    X_train_processed_copy.isnull().sum().sum() +\n",
    "    X_val_processed_copy.isnull().sum().sum() +\n",
    "    df_test_processed_copy.isnull().sum().sum()\n",
    ")\n",
    "\n",
    "print(f\"Total NaN sum: {missing_values_total}\")"
   ]
  },
  {
   "cell_type": "code",
   "execution_count": 89,
   "metadata": {},
   "outputs": [],
   "source": [
    "#Prepare final dataset for MIC and χ² analysis\n",
    "# Use only the encoded features for the MIC and chi-squared tests\n",
    "mic_chi2_features = binary_columns + ordinal_features + list(one_hot_encoded_train_df.columns) + [f\"{col}_freq\" for col in high_cardinality_cols]\n",
    "X_train_mic_chi2 = X_train_processed_copy[mic_chi2_features]"
   ]
  },
  {
   "cell_type": "code",
   "execution_count": 90,
   "metadata": {},
   "outputs": [
    {
     "data": {
      "text/plain": [
       "44"
      ]
     },
     "execution_count": 90,
     "metadata": {},
     "output_type": "execute_result"
    }
   ],
   "source": [
    "len(X_train_mic_chi2.columns)"
   ]
  },
  {
   "cell_type": "code",
   "execution_count": 91,
   "metadata": {},
   "outputs": [
    {
     "data": {
      "text/plain": [
       "Index(['Attorney/Representative', 'COVID-19 Indicator', 'Accident on Weekend',\n",
       "       'promptness_category', 'promptness_C2_category',\n",
       "       'promptness_C3_category', 'Age Group', 'Income_Category',\n",
       "       'Industry Risk', 'Gender_M', 'Gender_U', 'Medical Fee Region_II',\n",
       "       'Medical Fee Region_III', 'Medical Fee Region_IV',\n",
       "       'Medical Fee Region_UK', 'Body_Part_Category_Lower Extremities',\n",
       "       'Body_Part_Category_Multiple Body Parts', 'Body_Part_Category_Neck',\n",
       "       'Body_Part_Category_NonClassificable', 'Body_Part_Category_Trunk',\n",
       "       'Body_Part_Category_Upper Extremities',\n",
       "       'Injury_Nature_Category_Multiple Injuries',\n",
       "       'Injury_Nature_Category_Occupational Disease or Cumulative Injury',\n",
       "       'Injury_Nature_Category_Specific Injury',\n",
       "       'Injury_Cause_Category_COVID-19 Injury',\n",
       "       'Injury_Cause_Category_Caught In, Under, or Between',\n",
       "       'Injury_Cause_Category_Cut, Puncture, Scrape',\n",
       "       'Injury_Cause_Category_Fall, Slip, or Trip',\n",
       "       'Injury_Cause_Category_Miscellaneous Causes',\n",
       "       'Injury_Cause_Category_Motor Vehicle',\n",
       "       'Injury_Cause_Category_Rubbed or Abraded by',\n",
       "       'Injury_Cause_Category_Strain or Injury By',\n",
       "       'Injury_Cause_Category_Striking Against or Stepping On',\n",
       "       'Injury_Cause_Category_Struck or Injured by',\n",
       "       'Carrier_Name_Simplified_freq', 'Zip_Code_Simplified_freq',\n",
       "       'Industry Code_freq', 'County of Injury_freq',\n",
       "       'Carrier Type Merged_freq', 'WCIO Cause of Injury Code_freq',\n",
       "       'WCIO Nature of Injury Code_freq', 'WCIO Part Of Body Code_freq',\n",
       "       'Carrier_District_Interaction_freq', 'District Name_freq'],\n",
       "      dtype='object')"
      ]
     },
     "execution_count": 91,
     "metadata": {},
     "output_type": "execute_result"
    }
   ],
   "source": [
    "X_train_mic_chi2.columns"
   ]
  },
  {
   "cell_type": "markdown",
   "metadata": {},
   "source": [
    "#### Chi-Squared Test for Feature Selection\n",
    "The Chi-squared test helps us identify the most relevant categorical and binary features by evaluating their independence with the target variable. In this analysis, we set a threshold to keep the 25 most relevant features."
   ]
  },
  {
   "cell_type": "code",
   "execution_count": 92,
   "metadata": {},
   "outputs": [],
   "source": [
    "from utils import select_high_score_features_chi2_no_model"
   ]
  },
  {
   "cell_type": "code",
   "execution_count": 93,
   "metadata": {},
   "outputs": [
    {
     "name": "stdout",
     "output_type": "stream",
     "text": [
      "Top 25 features based on Chi-square scores: ['Industry Code_freq', 'WCIO Nature of Injury Code_freq', 'District Name_freq', 'Carrier_District_Interaction_freq', 'WCIO Part Of Body Code_freq', 'Zip_Code_Simplified_freq', 'WCIO Cause of Injury Code_freq', 'County of Injury_freq', 'Carrier Type Merged_freq', 'Carrier_Name_Simplified_freq', 'Attorney/Representative', 'Body_Part_Category_Trunk', 'promptness_C3_category', 'Income_Category', 'Injury_Cause_Category_Strain or Injury By', 'Body_Part_Category_Upper Extremities', 'promptness_category', 'COVID-19 Indicator', 'Injury_Cause_Category_COVID-19 Injury', 'Industry Risk', 'promptness_C2_category', 'Body_Part_Category_Lower Extremities', 'Body_Part_Category_Neck', 'Injury_Cause_Category_Cut, Puncture, Scrape', 'Body_Part_Category_Multiple Body Parts']\n",
      "Corresponding Chi-square scores: [34247369.59787084, 27207395.448234703, 16744948.698556816, 9077379.654413937, 6326082.074213176, 5853758.13764526, 2120258.179857621, 2025272.1137818254, 591310.1047052749, 320379.427497068, 14140.567630907697, 5663.055777797748, 5479.535437212168, 3750.71738488382, 3061.943360451034, 2955.3556952356, 2950.9082201034644, 2861.973620258856, 2760.2682292847094, 2503.347436511421, 1884.797448059752, 1692.548188184237, 1112.8325682976401, 1010.3249907192726, 952.8647899395979]\n"
     ]
    }
   ],
   "source": [
    "# Example usage\n",
    "high_score_features_chi2, scores = select_high_score_features_chi2_no_model(\n",
    "    X_train_mic_chi2, \n",
    "    y_train_encoded, \n",
    "    threshold=25\n",
    ")"
   ]
  },
  {
   "cell_type": "code",
   "execution_count": 94,
   "metadata": {},
   "outputs": [
    {
     "data": {
      "text/plain": [
       "['Industry Code_freq',\n",
       " 'WCIO Nature of Injury Code_freq',\n",
       " 'District Name_freq',\n",
       " 'Carrier_District_Interaction_freq',\n",
       " 'WCIO Part Of Body Code_freq',\n",
       " 'Zip_Code_Simplified_freq',\n",
       " 'WCIO Cause of Injury Code_freq',\n",
       " 'County of Injury_freq',\n",
       " 'Carrier Type Merged_freq',\n",
       " 'Carrier_Name_Simplified_freq',\n",
       " 'Attorney/Representative',\n",
       " 'Body_Part_Category_Trunk',\n",
       " 'promptness_C3_category',\n",
       " 'Income_Category',\n",
       " 'Injury_Cause_Category_Strain or Injury By',\n",
       " 'Body_Part_Category_Upper Extremities',\n",
       " 'promptness_category',\n",
       " 'COVID-19 Indicator',\n",
       " 'Injury_Cause_Category_COVID-19 Injury',\n",
       " 'Industry Risk',\n",
       " 'promptness_C2_category',\n",
       " 'Body_Part_Category_Lower Extremities',\n",
       " 'Body_Part_Category_Neck',\n",
       " 'Injury_Cause_Category_Cut, Puncture, Scrape',\n",
       " 'Body_Part_Category_Multiple Body Parts']"
      ]
     },
     "execution_count": 94,
     "metadata": {},
     "output_type": "execute_result"
    }
   ],
   "source": [
    "high_score_features_chi2"
   ]
  },
  {
   "cell_type": "markdown",
   "metadata": {},
   "source": [
    "> ### Mutual Information Criterion (MIC) for Feature Selection <a class=\"anchor\" id=\"sub_section_4_2_2\"></a>\n",
    "\n",
    "The Mutual Information Criterion is used to measure the dependence between each feature and the target variable. By setting a threshold, we retain only the most relevant features."
   ]
  },
  {
   "cell_type": "code",
   "execution_count": 95,
   "metadata": {},
   "outputs": [],
   "source": [
    "from utils import select_high_score_features_MIC"
   ]
  },
  {
   "cell_type": "code",
   "execution_count": 96,
   "metadata": {},
   "outputs": [
    {
     "name": "stdout",
     "output_type": "stream",
     "text": [
      "Top 25 features based on MIC scores: ['Attorney/Representative', 'WCIO Part Of Body Code_freq', 'WCIO Cause of Injury Code_freq', 'WCIO Nature of Injury Code_freq', 'promptness_C3_category', 'Industry Code_freq', 'Carrier_Name_Simplified_freq', 'promptness_C2_category', 'promptness_category', 'Carrier_District_Interaction_freq', 'Body_Part_Category_Trunk', 'Income_Category', 'Industry Risk', 'Body_Part_Category_Upper Extremities', 'Injury_Cause_Category_Strain or Injury By', 'Carrier Type Merged_freq', 'County of Injury_freq', 'Age Group', 'Body_Part_Category_Lower Extremities', 'District Name_freq', 'Zip_Code_Simplified_freq', 'Injury_Nature_Category_Specific Injury', 'COVID-19 Indicator', 'Injury_Cause_Category_COVID-19 Injury', 'Gender_M']\n",
      "Corresponding MIC scores: [0.19930084651267221, 0.1990319165977954, 0.16710469836195285, 0.16077675488355192, 0.09499059538342136, 0.08707692448769588, 0.06383884542135831, 0.062233500752046256, 0.044866755038655226, 0.041392094777396915, 0.040186983560246414, 0.030229993710997993, 0.028858999393368112, 0.028233589459025987, 0.02737059960903232, 0.019633693147502296, 0.01881263079051565, 0.017762729736897187, 0.01522687135513312, 0.014051975175646492, 0.013736867769547079, 0.011713957097784222, 0.011639964033686168, 0.010423245537292791, 0.009611172615785035]\n"
     ]
    }
   ],
   "source": [
    "# Example usage\n",
    "high_score_features_MIC, scores_MIC = select_high_score_features_MIC(\n",
    "    X_train_mic_chi2, \n",
    "    y_train_encoded, \n",
    "    threshold=25, \n",
    "    random_state=42)"
   ]
  },
  {
   "cell_type": "markdown",
   "metadata": {},
   "source": [
    "## 4.4. Final Features</b> <a class=\"anchor\" id=\"section_4_4\"></a>\n",
    "\n"
   ]
  },
  {
   "cell_type": "markdown",
   "metadata": {},
   "source": [
    "The following table includes all numerical columns and a summary of actions to take based on the combined insights from **Spearman**, **Lasso**, **RFE**, **Decision Trees**, and **Random Forests**.\n",
    "\n",
    "| **Predictor**          | **Spearman**                        | **LASSO**    | **RFE LR**       | **Decision Tree Importance** | **Random Forest Importance** | **What to do?**                          |\n",
    "|-------------------------|--------------------------------------|--------------|------------------|------------------------------|--------------------------------|------------------------------------------|\n",
    "| Number of Dependents    | High (-0.83 with Salary/Dependent)  | Discard      | Discard          | Low                          | Low                            | Discard                                  |\n",
    "| IME-4 Count             | High (0.7 with Days to Hear)        | Keep         | Keep             | High                         | High                           | Include in the model                     |\n",
    "| Accident_Quarter        | Low                                 | Discard      | Discard             | Low                          | Low                            | Discard                                  |\n",
    "| Accident_Year           | Low                                 | Keep         | Discard             | Low                          | Low                            | Discard                                  |\n",
    "| Accident Day            | Low                                 | Discard      | Discard             | Low                          | Low                            | Discard                                  |\n",
    "| Days to First Hearing   | High (0.7 with IME-4 Count)         | Keep         | Keep             | Low                          | High                           | Discard                     |\n",
    "| Average Weekly Wage     | Moderate (0.5 with Salary/Dependent)| Discard      | Discard             | High                         | High                           | Include in the model                     |\n",
    "| Age at Injury           | Low                                 | Discard         | Discard             | Low                          | Low                            | Discard                                  |\n",
    "| Salary Per Dependent    | High (-0.83 with Dependents, 0.5 with Avg Wage) | Discard | Discard | Low | High | Discard|\n",
    "\n"
   ]
  },
  {
   "cell_type": "markdown",
   "metadata": {},
   "source": [
    "**Intersection of Selected Features by Chi-squared and MIC** <BR>\n",
    "To identify the most relevant categorical features, we take the intersection of features selected by both Chi-squared and MIC methods."
   ]
  },
  {
   "cell_type": "code",
   "execution_count": 101,
   "metadata": {},
   "outputs": [
    {
     "data": {
      "text/plain": [
       "['COVID-19 Indicator',\n",
       " 'WCIO Nature of Injury Code_freq',\n",
       " 'Carrier_Name_Simplified_freq',\n",
       " 'Attorney/Representative',\n",
       " 'Body_Part_Category_Upper Extremities',\n",
       " 'Carrier Type Merged_freq',\n",
       " 'Injury_Cause_Category_Strain or Injury By',\n",
       " 'WCIO Cause of Injury Code_freq',\n",
       " 'promptness_C2_category',\n",
       " 'Income_Category',\n",
       " 'promptness_category',\n",
       " 'County of Injury_freq',\n",
       " 'Zip_Code_Simplified_freq',\n",
       " 'District Name_freq',\n",
       " 'promptness_C3_category',\n",
       " 'WCIO Part Of Body Code_freq',\n",
       " 'Body_Part_Category_Lower Extremities',\n",
       " 'Industry Code_freq',\n",
       " 'Injury_Cause_Category_COVID-19 Injury',\n",
       " 'Body_Part_Category_Trunk',\n",
       " 'Carrier_District_Interaction_freq',\n",
       " 'Industry Risk']"
      ]
     },
     "execution_count": 101,
     "metadata": {},
     "output_type": "execute_result"
    }
   ],
   "source": [
    "# Find common features between Chi-squared and MIC selections\n",
    "common_categorical_features = list(set(high_score_features_chi2).intersection(set(high_score_features_MIC)))\n",
    "features_selected = common_categorical_features  # Final list of selected features\n",
    "features_selected  # Display the list of intersected features"
   ]
  },
  {
   "cell_type": "markdown",
   "metadata": {},
   "source": [
    "Now we will define the final_features and select then on the X_train, X_val and df_test"
   ]
  },
  {
   "cell_type": "code",
   "execution_count": 103,
   "metadata": {},
   "outputs": [
    {
     "name": "stdout",
     "output_type": "stream",
     "text": [
      "X_train_final shape: (92619, 24)\n",
      "X_val_final shape: (40332, 24)\n",
      "X_test_final shape: (387975, 24)\n"
     ]
    }
   ],
   "source": [
    "final_features = [\n",
    "    # Categorical features selected through MIC and chi2\n",
    "    'COVID-19 Indicator',\n",
    "    'WCIO Nature of Injury Code_freq',\n",
    "    'Carrier_Name_Simplified_freq',\n",
    "    'Attorney/Representative',\n",
    "    'Body_Part_Category_Upper Extremities',\n",
    "    'Carrier Type Merged_freq',\n",
    "    'Injury_Cause_Category_Strain or Injury By',\n",
    "    'WCIO Cause of Injury Code_freq',\n",
    "    'promptness_C2_category',\n",
    "    'Income_Category',\n",
    "    'promptness_category',\n",
    "    'County of Injury_freq',\n",
    "    'Zip_Code_Simplified_freq',\n",
    "    'District Name_freq',\n",
    "    'promptness_C3_category',\n",
    "    'WCIO Part Of Body Code_freq',\n",
    "    'Body_Part_Category_Lower Extremities',\n",
    "    'Industry Code_freq',\n",
    "    'Injury_Cause_Category_COVID-19 Injury',\n",
    "    'Body_Part_Category_Trunk',\n",
    "    'Carrier_District_Interaction_freq',\n",
    "    'Industry Risk',\n",
    "    # Important numerical features\n",
    "    'IME-4 Count', 'Average Weekly Wage'\n",
    "]\n",
    "\n",
    "\n",
    "# Extracting the final features from the processed datasets\n",
    "X_train_final = X_train_processed_copy[final_features]\n",
    "X_val_final = X_val_processed_copy[final_features]\n",
    "X_test_final = df_test_processed_copy[final_features]\n",
    "\n",
    "# Print the shape of the final datasets to confirm consistency\n",
    "print(f\"X_train_final shape: {X_train_final.shape}\")\n",
    "print(f\"X_val_final shape: {X_val_final.shape}\")\n",
    "print(f\"X_test_final shape: {X_test_final.shape}\")"
   ]
  },
  {
   "cell_type": "markdown",
   "metadata": {},
   "source": [
    "### 4. Build a Simple Model and Assess Performance\n",
    "#### Problem Type and Model Selection\n",
    "The problem we are dealing with is a classification problem since our goal is to predict the type of variable claim injury as our target variable. As it is a categorical variable we decided to try algorithms like Logistic Regression, Random Forest, XGBoost and other classification models. To start, a simple logistic regression was built due to its interpretability and ease of use. Moreover, it supports an effective starting point for further analysis and comparison against more complex models.\n",
    "\n",
    "#### Cross-Validation for Performance Assessment\n",
    "In order to assess the model’s performance we decided to use cross validation. This technique ensures a reliable evaluation by divding our data into multiple folds and having training/testing the model on different subsets. This really helps to avoid overfitting (which was a problem that from the beginning we identify we had) and provides a comprehensive view of how well the model generalizes to unseen data.\n",
    "\n",
    "#### Metrics for Evaluation\n",
    "For model evaluation we look into some metrics like:\n",
    "Precision, Recall, and F1-Score given that our target variable is claim injury type, and the dataset has an imbalanced class distributions. \n",
    "Precision tells us how many of the predicted positive instances are actually positive, while recall shows how many of the actual positives were correctly predicted. **F1 Score* provides a balance between precision and recall, which is crucial when handling imbalanced data.\n",
    "Even though accuracy can provide a general idea of overall correctness, it is not our main focus due to the class imbalance. Relying solely on accuracy could give misleading insights, as it may be high even if the model is not performing well on minority classes\n",
    "\n",
    "With these metrics we ensure a global evaluation of the model, especially considering the facts above mentioned such as imbalanced dataset and helps guiding model improvement effectively.\n"
   ]
  },
  {
   "cell_type": "code",
   "execution_count": null,
   "metadata": {},
   "outputs": [],
   "source": []
  },
  {
   "cell_type": "code",
   "execution_count": null,
   "metadata": {},
   "outputs": [],
   "source": [
    "##corrigir"
   ]
  },
  {
   "cell_type": "markdown",
   "metadata": {},
   "source": [
    "# 5. Modelling <a class=\"anchor\" id=\"chapter5\"></a>"
   ]
  },
  {
   "cell_type": "code",
   "execution_count": 54,
   "metadata": {},
   "outputs": [
    {
     "name": "stdout",
     "output_type": "stream",
     "text": [
      "Acurácia no conjunto de validação com XGBoost: 0.8080\n",
      "\n",
      "Relatório de Classificação (XGBoost):\n",
      "              precision    recall  f1-score   support\n",
      "\n",
      "           1       0.92      0.71      0.80      3743\n",
      "           3       0.89      0.79      0.84     20672\n",
      "           5       0.71      0.93      0.81     14484\n",
      "           6       0.58      0.03      0.05      1263\n",
      "           7       0.00      0.00      0.00        29\n",
      "           8       0.83      0.37      0.51       141\n",
      "\n",
      "    accuracy                           0.81     40332\n",
      "   macro avg       0.65      0.47      0.50     40332\n",
      "weighted avg       0.82      0.81      0.80     40332\n",
      "\n",
      "\n",
      "Matriz de Confusão (XGBoost):\n",
      "[[ 2650   933   157     0     0     3]\n",
      " [  208 16404  4040    12     0     8]\n",
      " [   23  1002 13446    13     0     0]\n",
      " [    0    73  1154    36     0     0]\n",
      " [    0     5    23     1     0     0]\n",
      " [    8    62    19     0     0    52]]\n"
     ]
    }
   ],
   "source": [
    "from sklearn.preprocessing import LabelEncoder\n",
    "\n",
    "# Reindexar as classes\n",
    "le = LabelEncoder()\n",
    "\n",
    "# Ajustar e transformar as classes de treinamento e validação\n",
    "y_train_encoded = le.fit_transform(y_train_1_3_5_6_7_8)\n",
    "y_val_encoded = le.transform(y_val_1_3_5_6_7_8)\n",
    "\n",
    "# Treinar o modelo XGBoost\n",
    "xgb_model = XGBClassifier(objective='multi:softmax', num_class=len(le.classes_), \n",
    "                          random_state=42, n_estimators=200, learning_rate=0.1, max_depth=6)\n",
    "xgb_model.fit(X_train_1_3_5_6_7_8, y_train_encoded)\n",
    "\n",
    "# Fazer previsões\n",
    "val_predictions_xgb = xgb_model.predict(X_val_1_3_5_6_7_8)\n",
    "\n",
    "# Decodificar as previsões de volta para os rótulos originais\n",
    "val_predictions_decoded = le.inverse_transform(val_predictions_xgb)\n",
    "\n",
    "# Avaliar o desempenho\n",
    "val_accuracy_xgb = accuracy_score(y_val_1_3_5_6_7_8, val_predictions_decoded)\n",
    "print(f\"Acurácia no conjunto de validação com XGBoost: {val_accuracy_xgb:.4f}\")\n",
    "\n",
    "# Relatório de Classificação\n",
    "print(\"\\nRelatório de Classificação (XGBoost):\")\n",
    "print(classification_report(y_val_1_3_5_6_7_8, val_predictions_decoded))\n",
    "\n",
    "# Matriz de Confusão\n",
    "print(\"\\nMatriz de Confusão (XGBoost):\")\n",
    "print(confusion_matrix(y_val_1_3_5_6_7_8, val_predictions_decoded))\n",
    "\n",
    "\n"
   ]
  },
  {
   "cell_type": "code",
   "execution_count": 57,
   "metadata": {},
   "outputs": [
    {
     "name": "stdout",
     "output_type": "stream",
     "text": [
      "Acurácia no conjunto de validação com Random Forest: 0.7815\n",
      "\n",
      "Relatório de Classificação (Random Forest):\n",
      "              precision    recall  f1-score   support\n",
      "\n",
      "           1       0.97      0.63      0.76      3743\n",
      "           3       0.88      0.76      0.81     20672\n",
      "           5       0.67      0.93      0.78     14484\n",
      "           6       1.00      0.00      0.00      1263\n",
      "           7       0.00      0.00      0.00        29\n",
      "           8       1.00      0.04      0.08       141\n",
      "\n",
      "    accuracy                           0.78     40332\n",
      "   macro avg       0.75      0.39      0.41     40332\n",
      "weighted avg       0.82      0.78      0.77     40332\n",
      "\n",
      "\n",
      "Matriz de Confusão (Random Forest):\n",
      "[[ 2358  1091   294     0     0     0]\n",
      " [   69 15741  4862     0     0     0]\n",
      " [    8  1062 13414     0     0     0]\n",
      " [    0    28  1234     1     0     0]\n",
      " [    0     1    28     0     0     0]\n",
      " [    4    66    65     0     0     6]]\n"
     ]
    }
   ],
   "source": [
    "from sklearn.ensemble import RandomForestClassifier\n",
    "\n",
    "# Treinar o modelo Random Forest\n",
    "rf_model = RandomForestClassifier(random_state=42, n_estimators=200)\n",
    "rf_model.fit(X_train_1_3_5_6_7_8, y_train_1_3_5_6_7_8)\n",
    "\n",
    "# Fazer previsões\n",
    "val_predictions_rf = rf_model.predict(X_val_1_3_5_6_7_8)\n",
    "\n",
    "# Avaliar o desempenho\n",
    "val_accuracy_rf = accuracy_score(y_val_1_3_5_6_7_8, val_predictions_rf)\n",
    "print(f\"Acurácia no conjunto de validação com Random Forest: {val_accuracy_rf:.4f}\")\n",
    "\n",
    "# Relatório de Classificação\n",
    "print(\"\\nRelatório de Classificação (Random Forest):\")\n",
    "print(classification_report(y_val_1_3_5_6_7_8, val_predictions_rf))\n",
    "\n",
    "# Matriz de Confusão\n",
    "print(\"\\nMatriz de Confusão (Random Forest):\")\n",
    "print(confusion_matrix(y_val_1_3_5_6_7_8, val_predictions_rf))\n",
    "\n"
   ]
  },
  {
   "cell_type": "code",
   "execution_count": 58,
   "metadata": {},
   "outputs": [
    {
     "name": "stdout",
     "output_type": "stream",
     "text": [
      "Acurácia no conjunto de validação com MLP: 0.5372\n",
      "\n",
      "Relatório de Classificação (MLP):\n",
      "              precision    recall  f1-score   support\n",
      "\n",
      "           1       0.95      0.01      0.01      3743\n",
      "           3       0.53      0.98      0.68     20672\n",
      "           5       0.71      0.10      0.18     14484\n",
      "           6       0.00      0.00      0.00      1263\n",
      "           7       0.00      0.00      0.00        29\n",
      "           8       0.00      0.00      0.00       141\n",
      "\n",
      "    accuracy                           0.54     40332\n",
      "   macro avg       0.36      0.18      0.15     40332\n",
      "weighted avg       0.61      0.54      0.42     40332\n",
      "\n",
      "\n",
      "Matriz de Confusão (MLP):\n",
      "[[   21  3662    60     0     0     0]\n",
      " [    1 20167   504     0     0     0]\n",
      " [    0 13007  1477     0     0     0]\n",
      " [    0  1211    52     0     0     0]\n",
      " [    0    29     0     0     0     0]\n",
      " [    0   141     0     0     0     0]]\n"
     ]
    }
   ],
   "source": [
    "from sklearn.neural_network import MLPClassifier\n",
    "\n",
    "# Treinar o modelo MLP\n",
    "mlp_model = MLPClassifier(hidden_layer_sizes=(100, 50), max_iter=300, random_state=42)\n",
    "mlp_model.fit(X_train_1_3_5_6_7_8, y_train_1_3_5_6_7_8)\n",
    "\n",
    "# Fazer previsões\n",
    "val_predictions_mlp = mlp_model.predict(X_val_1_3_5_6_7_8)\n",
    "\n",
    "# Avaliar o desempenho\n",
    "val_accuracy_mlp = accuracy_score(y_val_1_3_5_6_7_8, val_predictions_mlp)\n",
    "print(f\"Acurácia no conjunto de validação com MLP: {val_accuracy_mlp:.4f}\")\n",
    "\n",
    "# Relatório de Classificação\n",
    "print(\"\\nRelatório de Classificação (MLP):\")\n",
    "print(classification_report(y_val_1_3_5_6_7_8, val_predictions_mlp))\n",
    "\n",
    "# Matriz de Confusão\n",
    "print(\"\\nMatriz de Confusão (MLP):\")\n",
    "print(confusion_matrix(y_val_1_3_5_6_7_8, val_predictions_mlp))\n"
   ]
  },
  {
   "cell_type": "code",
   "execution_count": null,
   "metadata": {},
   "outputs": [
    {
     "name": "stdout",
     "output_type": "stream",
     "text": [
      "Final_Predictions\n",
      "3.0    161111\n",
      "1.0      8197\n",
      "5.0      5111\n",
      "6.0       479\n",
      "8.0        72\n",
      "Name: count, dtype: int64\n"
     ]
    }
   ],
   "source": [
    "# Filtrar linhas em que y_test == 0\n",
    "X_test_target = X_test_final[y_test == 0]\n",
    "\n",
    "# Remover a coluna 'Final_Predictions' se ela existir nos dados de entrada\n",
    "X_test_target = X_test_target.drop(columns=['Final_Predictions'], errors='ignore')\n",
    "\n",
    "# Fazer previsões nas linhas filtradas\n",
    "test_target_predictions_encoded = xgb_model.predict(X_test_target)\n",
    "\n",
    "# Decodificar as previsões para os rótulos originais\n",
    "test_target_predictions = le.inverse_transform(test_target_predictions_encoded)\n",
    "\n",
    "# Adicionar as previsões ao dataset de teste\n",
    "X_test_final.loc[y_test == 0, 'Final_Predictions'] = test_target_predictions\n",
    "\n"
   ]
  },
  {
   "cell_type": "code",
   "execution_count": 66,
   "metadata": {},
   "outputs": [],
   "source": [
    "# Adicionar y_test ao DataFrame X_test_final\n",
    "X_test_final['Predictions'] = y_test.values\n"
   ]
  },
  {
   "cell_type": "code",
   "execution_count": 67,
   "metadata": {},
   "outputs": [
    {
     "data": {
      "text/html": [
       "<div>\n",
       "<style scoped>\n",
       "    .dataframe tbody tr th:only-of-type {\n",
       "        vertical-align: middle;\n",
       "    }\n",
       "\n",
       "    .dataframe tbody tr th {\n",
       "        vertical-align: top;\n",
       "    }\n",
       "\n",
       "    .dataframe thead th {\n",
       "        text-align: right;\n",
       "    }\n",
       "</style>\n",
       "<table border=\"1\" class=\"dataframe\">\n",
       "  <thead>\n",
       "    <tr style=\"text-align: right;\">\n",
       "      <th></th>\n",
       "      <th>Carrier_District_Interaction_freq</th>\n",
       "      <th>Zip_Code_Simplified_freq</th>\n",
       "      <th>District Name_freq</th>\n",
       "      <th>COVID-19 Indicator</th>\n",
       "      <th>WCIO Cause of Injury Code_freq</th>\n",
       "      <th>WCIO Part Of Body Code_freq</th>\n",
       "      <th>Age Group</th>\n",
       "      <th>Attorney/Representative</th>\n",
       "      <th>Industry Code_freq</th>\n",
       "      <th>Body_Part_Category_Trunk</th>\n",
       "      <th>promptness_category</th>\n",
       "      <th>County of Injury_freq</th>\n",
       "      <th>promptness_C2_category</th>\n",
       "      <th>promptness_C3_category</th>\n",
       "      <th>Body_Part_Category_Upper Extremities</th>\n",
       "      <th>Carrier Type Merged_freq</th>\n",
       "      <th>Industry Risk</th>\n",
       "      <th>Carrier_Name_Simplified_freq</th>\n",
       "      <th>Income_Category</th>\n",
       "      <th>WCIO Nature of Injury Code_freq</th>\n",
       "      <th>Injury_Cause_Category_Strain or Injury By</th>\n",
       "      <th>IME-4 Count</th>\n",
       "      <th>Salary_Per_Dependent</th>\n",
       "      <th>Days_To_First_Hearing</th>\n",
       "      <th>Age at Injury</th>\n",
       "      <th>Final_Predictions</th>\n",
       "      <th>Predictions</th>\n",
       "    </tr>\n",
       "  </thead>\n",
       "  <tbody>\n",
       "    <tr>\n",
       "      <th>0</th>\n",
       "      <td>92172.0</td>\n",
       "      <td>1614.0</td>\n",
       "      <td>188402</td>\n",
       "      <td>0</td>\n",
       "      <td>22242</td>\n",
       "      <td>8131</td>\n",
       "      <td>3</td>\n",
       "      <td>0</td>\n",
       "      <td>26025</td>\n",
       "      <td>0.0</td>\n",
       "      <td>3</td>\n",
       "      <td>27559</td>\n",
       "      <td>3</td>\n",
       "      <td>6</td>\n",
       "      <td>0.0</td>\n",
       "      <td>198800</td>\n",
       "      <td>2</td>\n",
       "      <td>6349.0</td>\n",
       "      <td>4</td>\n",
       "      <td>77440</td>\n",
       "      <td>0.0</td>\n",
       "      <td>0.0</td>\n",
       "      <td>0.000876</td>\n",
       "      <td>0.025765</td>\n",
       "      <td>0.046875</td>\n",
       "      <td>3.0</td>\n",
       "      <td>0</td>\n",
       "    </tr>\n",
       "    <tr>\n",
       "      <th>1</th>\n",
       "      <td>92172.0</td>\n",
       "      <td>1009.0</td>\n",
       "      <td>188402</td>\n",
       "      <td>0</td>\n",
       "      <td>12748</td>\n",
       "      <td>5519</td>\n",
       "      <td>3</td>\n",
       "      <td>0</td>\n",
       "      <td>12655</td>\n",
       "      <td>0.0</td>\n",
       "      <td>0</td>\n",
       "      <td>40411</td>\n",
       "      <td>0</td>\n",
       "      <td>6</td>\n",
       "      <td>0.0</td>\n",
       "      <td>198800</td>\n",
       "      <td>2</td>\n",
       "      <td>7733.0</td>\n",
       "      <td>1</td>\n",
       "      <td>77440</td>\n",
       "      <td>0.0</td>\n",
       "      <td>0.0</td>\n",
       "      <td>0.000568</td>\n",
       "      <td>0.025765</td>\n",
       "      <td>0.046875</td>\n",
       "      <td>3.0</td>\n",
       "      <td>0</td>\n",
       "    </tr>\n",
       "    <tr>\n",
       "      <th>2</th>\n",
       "      <td>92172.0</td>\n",
       "      <td>282759.0</td>\n",
       "      <td>188402</td>\n",
       "      <td>0</td>\n",
       "      <td>7560</td>\n",
       "      <td>798</td>\n",
       "      <td>0</td>\n",
       "      <td>0</td>\n",
       "      <td>14772</td>\n",
       "      <td>1.0</td>\n",
       "      <td>6</td>\n",
       "      <td>17914</td>\n",
       "      <td>6</td>\n",
       "      <td>6</td>\n",
       "      <td>0.0</td>\n",
       "      <td>198800</td>\n",
       "      <td>2</td>\n",
       "      <td>85478.0</td>\n",
       "      <td>2</td>\n",
       "      <td>38955</td>\n",
       "      <td>0.0</td>\n",
       "      <td>0.0</td>\n",
       "      <td>0.001322</td>\n",
       "      <td>0.025765</td>\n",
       "      <td>0.671875</td>\n",
       "      <td>3.0</td>\n",
       "      <td>0</td>\n",
       "    </tr>\n",
       "    <tr>\n",
       "      <th>3</th>\n",
       "      <td>92172.0</td>\n",
       "      <td>282759.0</td>\n",
       "      <td>188402</td>\n",
       "      <td>0</td>\n",
       "      <td>8464</td>\n",
       "      <td>33692</td>\n",
       "      <td>2</td>\n",
       "      <td>0</td>\n",
       "      <td>26025</td>\n",
       "      <td>0.0</td>\n",
       "      <td>6</td>\n",
       "      <td>40411</td>\n",
       "      <td>6</td>\n",
       "      <td>6</td>\n",
       "      <td>0.0</td>\n",
       "      <td>198800</td>\n",
       "      <td>2</td>\n",
       "      <td>10057.0</td>\n",
       "      <td>4</td>\n",
       "      <td>77440</td>\n",
       "      <td>0.0</td>\n",
       "      <td>0.0</td>\n",
       "      <td>0.000247</td>\n",
       "      <td>0.025765</td>\n",
       "      <td>0.421875</td>\n",
       "      <td>3.0</td>\n",
       "      <td>0</td>\n",
       "    </tr>\n",
       "    <tr>\n",
       "      <th>4</th>\n",
       "      <td>92172.0</td>\n",
       "      <td>1816.0</td>\n",
       "      <td>188402</td>\n",
       "      <td>0</td>\n",
       "      <td>8648</td>\n",
       "      <td>8682</td>\n",
       "      <td>3</td>\n",
       "      <td>0</td>\n",
       "      <td>235</td>\n",
       "      <td>0.0</td>\n",
       "      <td>3</td>\n",
       "      <td>37121</td>\n",
       "      <td>3</td>\n",
       "      <td>6</td>\n",
       "      <td>1.0</td>\n",
       "      <td>198800</td>\n",
       "      <td>2</td>\n",
       "      <td>8924.0</td>\n",
       "      <td>4</td>\n",
       "      <td>32898</td>\n",
       "      <td>0.0</td>\n",
       "      <td>0.0</td>\n",
       "      <td>0.000282</td>\n",
       "      <td>0.025765</td>\n",
       "      <td>0.140625</td>\n",
       "      <td>3.0</td>\n",
       "      <td>0</td>\n",
       "    </tr>\n",
       "    <tr>\n",
       "      <th>...</th>\n",
       "      <td>...</td>\n",
       "      <td>...</td>\n",
       "      <td>...</td>\n",
       "      <td>...</td>\n",
       "      <td>...</td>\n",
       "      <td>...</td>\n",
       "      <td>...</td>\n",
       "      <td>...</td>\n",
       "      <td>...</td>\n",
       "      <td>...</td>\n",
       "      <td>...</td>\n",
       "      <td>...</td>\n",
       "      <td>...</td>\n",
       "      <td>...</td>\n",
       "      <td>...</td>\n",
       "      <td>...</td>\n",
       "      <td>...</td>\n",
       "      <td>...</td>\n",
       "      <td>...</td>\n",
       "      <td>...</td>\n",
       "      <td>...</td>\n",
       "      <td>...</td>\n",
       "      <td>...</td>\n",
       "      <td>...</td>\n",
       "      <td>...</td>\n",
       "      <td>...</td>\n",
       "      <td>...</td>\n",
       "    </tr>\n",
       "    <tr>\n",
       "      <th>387970</th>\n",
       "      <td>7776.0</td>\n",
       "      <td>282759.0</td>\n",
       "      <td>31149</td>\n",
       "      <td>0</td>\n",
       "      <td>8122</td>\n",
       "      <td>9113</td>\n",
       "      <td>0</td>\n",
       "      <td>0</td>\n",
       "      <td>5248</td>\n",
       "      <td>0.0</td>\n",
       "      <td>5</td>\n",
       "      <td>2231</td>\n",
       "      <td>0</td>\n",
       "      <td>6</td>\n",
       "      <td>1.0</td>\n",
       "      <td>77168</td>\n",
       "      <td>2</td>\n",
       "      <td>77168.0</td>\n",
       "      <td>4</td>\n",
       "      <td>8133</td>\n",
       "      <td>1.0</td>\n",
       "      <td>0.0</td>\n",
       "      <td>0.000284</td>\n",
       "      <td>0.025765</td>\n",
       "      <td>0.562500</td>\n",
       "      <td>NaN</td>\n",
       "      <td>1</td>\n",
       "    </tr>\n",
       "    <tr>\n",
       "      <th>387971</th>\n",
       "      <td>10871.0</td>\n",
       "      <td>282759.0</td>\n",
       "      <td>42054</td>\n",
       "      <td>0</td>\n",
       "      <td>8122</td>\n",
       "      <td>9113</td>\n",
       "      <td>0</td>\n",
       "      <td>1</td>\n",
       "      <td>5248</td>\n",
       "      <td>0.0</td>\n",
       "      <td>3</td>\n",
       "      <td>41965</td>\n",
       "      <td>4</td>\n",
       "      <td>7</td>\n",
       "      <td>1.0</td>\n",
       "      <td>84894</td>\n",
       "      <td>2</td>\n",
       "      <td>5790.0</td>\n",
       "      <td>4</td>\n",
       "      <td>8133</td>\n",
       "      <td>1.0</td>\n",
       "      <td>0.0</td>\n",
       "      <td>0.000862</td>\n",
       "      <td>0.025765</td>\n",
       "      <td>0.671875</td>\n",
       "      <td>NaN</td>\n",
       "      <td>1</td>\n",
       "    </tr>\n",
       "    <tr>\n",
       "      <th>387972</th>\n",
       "      <td>33910.0</td>\n",
       "      <td>1853.0</td>\n",
       "      <td>188402</td>\n",
       "      <td>0</td>\n",
       "      <td>8122</td>\n",
       "      <td>9113</td>\n",
       "      <td>2</td>\n",
       "      <td>1</td>\n",
       "      <td>5248</td>\n",
       "      <td>0.0</td>\n",
       "      <td>4</td>\n",
       "      <td>40411</td>\n",
       "      <td>4</td>\n",
       "      <td>6</td>\n",
       "      <td>1.0</td>\n",
       "      <td>77168</td>\n",
       "      <td>2</td>\n",
       "      <td>77168.0</td>\n",
       "      <td>4</td>\n",
       "      <td>8133</td>\n",
       "      <td>1.0</td>\n",
       "      <td>0.0</td>\n",
       "      <td>0.000284</td>\n",
       "      <td>0.025765</td>\n",
       "      <td>0.453125</td>\n",
       "      <td>NaN</td>\n",
       "      <td>1</td>\n",
       "    </tr>\n",
       "    <tr>\n",
       "      <th>387973</th>\n",
       "      <td>14924.0</td>\n",
       "      <td>282759.0</td>\n",
       "      <td>188402</td>\n",
       "      <td>0</td>\n",
       "      <td>8122</td>\n",
       "      <td>9113</td>\n",
       "      <td>2</td>\n",
       "      <td>1</td>\n",
       "      <td>5248</td>\n",
       "      <td>0.0</td>\n",
       "      <td>1</td>\n",
       "      <td>40411</td>\n",
       "      <td>4</td>\n",
       "      <td>0</td>\n",
       "      <td>1.0</td>\n",
       "      <td>36441</td>\n",
       "      <td>2</td>\n",
       "      <td>5067.0</td>\n",
       "      <td>4</td>\n",
       "      <td>8133</td>\n",
       "      <td>1.0</td>\n",
       "      <td>0.0</td>\n",
       "      <td>0.000284</td>\n",
       "      <td>0.025765</td>\n",
       "      <td>0.421875</td>\n",
       "      <td>NaN</td>\n",
       "      <td>1</td>\n",
       "    </tr>\n",
       "    <tr>\n",
       "      <th>387974</th>\n",
       "      <td>46924.0</td>\n",
       "      <td>282759.0</td>\n",
       "      <td>188402</td>\n",
       "      <td>0</td>\n",
       "      <td>8122</td>\n",
       "      <td>9113</td>\n",
       "      <td>2</td>\n",
       "      <td>1</td>\n",
       "      <td>5248</td>\n",
       "      <td>0.0</td>\n",
       "      <td>5</td>\n",
       "      <td>9829</td>\n",
       "      <td>4</td>\n",
       "      <td>5</td>\n",
       "      <td>1.0</td>\n",
       "      <td>84894</td>\n",
       "      <td>2</td>\n",
       "      <td>4430.0</td>\n",
       "      <td>4</td>\n",
       "      <td>8133</td>\n",
       "      <td>1.0</td>\n",
       "      <td>0.0</td>\n",
       "      <td>0.000284</td>\n",
       "      <td>0.025765</td>\n",
       "      <td>0.421875</td>\n",
       "      <td>1.0</td>\n",
       "      <td>0</td>\n",
       "    </tr>\n",
       "  </tbody>\n",
       "</table>\n",
       "<p>387975 rows × 27 columns</p>\n",
       "</div>"
      ],
      "text/plain": [
       "        Carrier_District_Interaction_freq  Zip_Code_Simplified_freq  District Name_freq  COVID-19 Indicator  WCIO Cause of Injury Code_freq  WCIO Part Of Body Code_freq  Age Group  Attorney/Representative  Industry Code_freq  Body_Part_Category_Trunk  promptness_category  County of Injury_freq  promptness_C2_category  promptness_C3_category  Body_Part_Category_Upper Extremities  Carrier Type Merged_freq  Industry Risk  Carrier_Name_Simplified_freq  Income_Category  WCIO Nature of Injury Code_freq  Injury_Cause_Category_Strain or Injury By  IME-4 Count  Salary_Per_Dependent  Days_To_First_Hearing  Age at Injury  Final_Predictions  Predictions\n",
       "0                                 92172.0                    1614.0              188402                   0                           22242                         8131          3                        0               26025                       0.0                    3                  27559                       3                       6                                   0.0                    198800              2                        6349.0                4                            77440                                        0.0          0.0              0.000876               0.025765       0.046875                3.0            0\n",
       "1                                 92172.0                    1009.0              188402                   0                           12748                         5519          3                        0               12655                       0.0                    0                  40411                       0                       6                                   0.0                    198800              2                        7733.0                1                            77440                                        0.0          0.0              0.000568               0.025765       0.046875                3.0            0\n",
       "2                                 92172.0                  282759.0              188402                   0                            7560                          798          0                        0               14772                       1.0                    6                  17914                       6                       6                                   0.0                    198800              2                       85478.0                2                            38955                                        0.0          0.0              0.001322               0.025765       0.671875                3.0            0\n",
       "3                                 92172.0                  282759.0              188402                   0                            8464                        33692          2                        0               26025                       0.0                    6                  40411                       6                       6                                   0.0                    198800              2                       10057.0                4                            77440                                        0.0          0.0              0.000247               0.025765       0.421875                3.0            0\n",
       "4                                 92172.0                    1816.0              188402                   0                            8648                         8682          3                        0                 235                       0.0                    3                  37121                       3                       6                                   1.0                    198800              2                        8924.0                4                            32898                                        0.0          0.0              0.000282               0.025765       0.140625                3.0            0\n",
       "...                                   ...                       ...                 ...                 ...                             ...                          ...        ...                      ...                 ...                       ...                  ...                    ...                     ...                     ...                                   ...                       ...            ...                           ...              ...                              ...                                        ...          ...                   ...                    ...            ...                ...          ...\n",
       "387970                             7776.0                  282759.0               31149                   0                            8122                         9113          0                        0                5248                       0.0                    5                   2231                       0                       6                                   1.0                     77168              2                       77168.0                4                             8133                                        1.0          0.0              0.000284               0.025765       0.562500                NaN            1\n",
       "387971                            10871.0                  282759.0               42054                   0                            8122                         9113          0                        1                5248                       0.0                    3                  41965                       4                       7                                   1.0                     84894              2                        5790.0                4                             8133                                        1.0          0.0              0.000862               0.025765       0.671875                NaN            1\n",
       "387972                            33910.0                    1853.0              188402                   0                            8122                         9113          2                        1                5248                       0.0                    4                  40411                       4                       6                                   1.0                     77168              2                       77168.0                4                             8133                                        1.0          0.0              0.000284               0.025765       0.453125                NaN            1\n",
       "387973                            14924.0                  282759.0              188402                   0                            8122                         9113          2                        1                5248                       0.0                    1                  40411                       4                       0                                   1.0                     36441              2                        5067.0                4                             8133                                        1.0          0.0              0.000284               0.025765       0.421875                NaN            1\n",
       "387974                            46924.0                  282759.0              188402                   0                            8122                         9113          2                        1                5248                       0.0                    5                   9829                       4                       5                                   1.0                     84894              2                        4430.0                4                             8133                                        1.0          0.0              0.000284               0.025765       0.421875                1.0            0\n",
       "\n",
       "[387975 rows x 27 columns]"
      ]
     },
     "execution_count": 67,
     "metadata": {},
     "output_type": "execute_result"
    }
   ],
   "source": [
    "X_test_final"
   ]
  },
  {
   "cell_type": "code",
   "execution_count": null,
   "metadata": {},
   "outputs": [],
   "source": []
  }
 ],
 "metadata": {
  "kernelspec": {
   "display_name": "Python 3",
   "language": "python",
   "name": "python3"
  },
  "language_info": {
   "codemirror_mode": {
    "name": "ipython",
    "version": 3
   },
   "file_extension": ".py",
   "mimetype": "text/x-python",
   "name": "python",
   "nbconvert_exporter": "python",
   "pygments_lexer": "ipython3",
   "version": "3.11.3"
  }
 },
 "nbformat": 4,
 "nbformat_minor": 2
}
