{
 "cells": [
  {
   "cell_type": "markdown",
   "metadata": {},
   "source": [
    "# **<h3 align=\"center\">Machine Learning - Project</h3>**\n",
    "## **<h3 align=\"center\">4. Level 2 Multi-Class Classification</h3>**\n",
    "### **<h3 align=\"center\">Group 30 - Project</h3>**\n",
    "\n",
    "\n",
    "### Group Members\n",
    "| Name              | Email                        | Student ID |\n",
    "|-------------------|------------------------------|------------|\n",
    "| Alexandra Pinto   | 20211599@novaims.unl.pt      | 20211599   |\n",
    "| Gonçalo Peres     | 20211625@novaims.unl.pt      | 20211625   |\n",
    "| Leonor Mira       | 20240658@novaims.unl.pt      | 20240658   |\n",
    "| Miguel Natário    | 20240498@novaims.unl.pt      | 20240498   |\n",
    "| Nuno Bernardino   | 2021546@novaims.unl.pt       | 2021546    |"
   ]
  },
  {
   "cell_type": "markdown",
   "metadata": {},
   "source": [
    "---\n",
    "\n",
    "### **4. Level 2 Multi-Class Classification Notebook**\n",
    "**Description:**\n",
    "This notebook handles the **Level 2 Multi-Class Classification model**, which processes cases classified as \"Other\" in Level 1 and assigns them to their specific class among the rarer categories.\n",
    "\n",
    "Key steps include:\n",
    "- Loading the subset of “**Other**” cases from Level 1 predictions.\n",
    "- **Feature selection:** Focus on features relevant for differentiating between the rare classes.\n",
    "- **Model training:** Train and evaluate a multi-class classification model to predict the specific class of these cases.\n",
    "- **Evaluation:** Use multi-class metrics like accuracy, macro-averaged F1-score, and confusion matrices.\n",
    "- **Output:** Save predictions for merging in the final pipeline.\n",
    "\n",
    "This notebook specializes in handling the complexity of rare classes, ensuring that all cases are correctly classified.\n",
    "\n",
    "---"
   ]
  },
  {
   "cell_type": "markdown",
   "metadata": {},
   "source": [
    "## Table of Contents\n",
    "* [1. Import the Libraries](#chapter1)\n",
    "* [2. Import the Datasets](#chapter2)"
   ]
  }
 ],
 "metadata": {
  "language_info": {
   "name": "python"
  }
 },
 "nbformat": 4,
 "nbformat_minor": 2
}
