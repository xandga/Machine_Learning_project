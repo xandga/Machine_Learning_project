{
 "cells": [
  {
   "cell_type": "markdown",
   "metadata": {},
   "source": [
    "# **<h3 align=\"center\">Machine Learning - Project</h3>**\n",
    "## **<h3 align=\"center\">7. Flat Modeling: Baseline Predictions </h3>**\n",
    "### **<h3 align=\"center\">Group 30 - Project</h3>**\n",
    "\n",
    "\n",
    "### Group Members\n",
    "| Name              | Email                        | Student ID |\n",
    "|-------------------|------------------------------|------------|\n",
    "| Alexandra Pinto   | 20211599@novaims.unl.pt      | 20211599   |\n",
    "| Gonçalo Peres     | 20211625@novaims.unl.pt      | 20211625   |\n",
    "| Leonor Mira       | 20240658@novaims.unl.pt      | 20240658   |\n",
    "| Miguel Natário    | 20240498@novaims.unl.pt      | 20240498   |\n",
    "| Nuno Bernardino   | 20211546@novaims.unl.pt      | 20211546   |"
   ]
  },
  {
   "cell_type": "markdown",
   "metadata": {},
   "source": [
    "\n",
    "---\n",
    "\n",
    "### **7. Flat Modeling: Baseline Predictions Notebook**  \n",
    "**Description:**  \n",
    "This notebook focuses on a baseline approach for the classification task without hierarchical modeling. It serves as a **benchmark** to compare the performance of the hierarchical classification pipeline.  \n",
    "\n",
    "Key steps include:  \n",
    "- **Modeling Flat Classification:** Train a single-level classification model to predict the target variable directly without splitting into sub-levels.  \n",
    "- **Feature Engineering:** Utilize the same preprocessed and encoded datasets as in the hierarchical models to ensure consistency.  \n",
    "- **Model Training:** Evaluate multiple models (e.g., Logistic Regression, Random Forest, XGBoost, Neural Networks) to identify the best-performing approach.  \n",
    "- **Evaluation:** Assess performance using metrics like accuracy, F1-score, precision, recall, and confusion matrices.  \n",
    "- **Output:** Save the predictions from the best-performing flat model for comparison with hierarchical outputs.  \n",
    "\n",
    "This notebook provides a comprehensive baseline model that simplifies the task and highlights the performance trade-offs compared to the hierarchical classification framework.  \n",
    "\n",
    "---"
   ]
  },
  {
   "cell_type": "markdown",
   "metadata": {},
   "source": [
    "<a id = \"toc\"></a>\n",
    "\n",
    "## Table of Contents\n",
    "* [1. Import the Libraries](#chapter1)\n",
    "* [2. Load and Prepare Datasets](#chapter2)\n",
    "* [3. Setting the Target](#chapter3)\n",
    "* [4. Feature Selection](#chapter4)\n",
    "    * [4.1. Preparing the Data](#section_4_1)  \n",
    "    * [4.2. Numerical Features](#section_4_2) \n",
    "        * [4.2.1. LASSO Regression](#section_4_2_1)\n",
    "        * [4.2.2. Recursive Feature Elimination - RFE](#section_4_2_2)\n",
    "        * [4.2.3. Feature Importance - Decision Tree](#section_4_2_3)\n",
    "        * [4.2.4. Feature Importance - Random Forest](#section_4_2_4)\n",
    "    * [4.3. Categorical Features](#section_4_3)\n",
    "        * [4.3.1. $\\chi ^2$ Test for Independence](#section_4_3_1)\n",
    "        * [4.3.2. Mutual Information Criterion (MIC)](#section_4_3_2)\n",
    "    * [4.4. Final Features](#section_4_4)\n",
    "* [5. Modelling](#chapter5)\n",
    "  * [5.1. Simple Models](#section_5_1)\n",
    "    * [5.1.1. Logistic Regression](#section_5_1_1)\n",
    "    * [5.1.2. Decision Trees](#section_5_1_2)\n",
    "    * [5.1.3. K-Nearest Neighbors (KNN)](#section_5_1_3)"
   ]
  },
  {
   "cell_type": "markdown",
   "metadata": {},
   "source": [
    "# 1. Import the Libraries 📚<a class=\"anchor\" id=\"chapter1\"></a>\n",
    "\n",
    "[Back to ToC](#toc)<br>"
   ]
  },
  {
   "cell_type": "code",
   "execution_count": 4,
   "metadata": {},
   "outputs": [],
   "source": [
    "# --- Standard Libraries ---\n",
    "import pandas as pd\n",
    "import numpy as np\n",
    "import pickle\n",
    "import time\n",
    "\n",
    "# --- Scikit-Learn Modules for Data Partitioning and Preprocessing ---\n",
    "from sklearn.preprocessing import LabelEncoder, StandardScaler\n",
    "\n",
    "# Wrapper Methods and Modeling\n",
    "from sklearn.linear_model import LogisticRegression\n",
    "from sklearn.feature_selection import RFE\n",
    "from sklearn.ensemble import RandomForestClassifier\n",
    "from sklearn.tree import DecisionTreeClassifier\n",
    "from catboost import CatBoostClassifier\n",
    "from xgboost import XGBClassifier\n",
    "\n",
    "# Embedded Methods\n",
    "from sklearn.linear_model import LassoCV\n",
    "\n",
    "# --- Warnings ---\n",
    "import warnings\n",
    "warnings.filterwarnings('ignore')\n",
    "\n",
    "\n",
    "#Import from utils the used functions\n",
    "from utils import plot_importance, cor_heatmap, find_optimal_features_with_rfe, compare_rf_feature_importances\n",
    "from utils import compare_feature_importances, select_high_score_features_chi2_no_model, select_high_score_features_MIC, metrics"
   ]
  },
  {
   "cell_type": "markdown",
   "metadata": {},
   "source": [
    "In this topic we will also import the pre-saved feature categories dictionary from Notebook 3, ensuring consistency in feature grouping for feature selection and modeling."
   ]
  },
  {
   "cell_type": "code",
   "execution_count": 5,
   "metadata": {},
   "outputs": [],
   "source": [
    "# Load the feature categories dictionary\n",
    "feature_categories_file = \"feature_categories.pkl\"\n",
    "with open(feature_categories_file, \"rb\") as file:\n",
    "    feature_categories = pickle.load(file)"
   ]
  },
  {
   "cell_type": "markdown",
   "metadata": {},
   "source": [
    "# 2. Load and Prepare Datasets 📁<a class=\"anchor\" id=\"chapter2\"></a>\n",
    "\n",
    "[Back to ToC](#toc)<br>\n",
    "\n",
    "Now that we preprocessed the dataset in notebook 3. we will upload those datasets"
   ]
  },
  {
   "cell_type": "code",
   "execution_count": 6,
   "metadata": {},
   "outputs": [],
   "source": [
    "#Import the datasets\n",
    "X_train = pd.read_csv(\"../processed_datasets/X_train_model.csv\", index_col=\"Claim Identifier\")\n",
    "X_val = pd.read_csv(\"../processed_datasets/X_val_model.csv\", index_col=\"Claim Identifier\")\n",
    "df_test = pd.read_csv(\"../processed_datasets/df_test_model.csv\", index_col=\"Claim Identifier\")"
   ]
  },
  {
   "cell_type": "code",
   "execution_count": 7,
   "metadata": {},
   "outputs": [
    {
     "data": {
      "text/html": [
       "<div>\n",
       "<style scoped>\n",
       "    .dataframe tbody tr th:only-of-type {\n",
       "        vertical-align: middle;\n",
       "    }\n",
       "\n",
       "    .dataframe tbody tr th {\n",
       "        vertical-align: top;\n",
       "    }\n",
       "\n",
       "    .dataframe thead th {\n",
       "        text-align: right;\n",
       "    }\n",
       "</style>\n",
       "<table border=\"1\" class=\"dataframe\">\n",
       "  <thead>\n",
       "    <tr style=\"text-align: right;\">\n",
       "      <th></th>\n",
       "      <th>Age at Injury</th>\n",
       "      <th>IME-4 Count</th>\n",
       "      <th>Agreement Reached</th>\n",
       "      <th>Income_Category</th>\n",
       "      <th>Accident_Quarter</th>\n",
       "      <th>Accident_Year</th>\n",
       "      <th>Accident Day</th>\n",
       "      <th>Age Group</th>\n",
       "      <th>promptness_category</th>\n",
       "      <th>promptness_C2_category</th>\n",
       "      <th>...</th>\n",
       "      <th>Industry Code_freq</th>\n",
       "      <th>County of Injury_freq</th>\n",
       "      <th>District Name_freq</th>\n",
       "      <th>WCIO Cause of Injury Code_freq</th>\n",
       "      <th>WCIO Nature of Injury Code_freq</th>\n",
       "      <th>WCIO Part Of Body Code_freq</th>\n",
       "      <th>Carrier Name_freq</th>\n",
       "      <th>Body_Part_Category_freq</th>\n",
       "      <th>Injury_Nature_Category_freq</th>\n",
       "      <th>Carrier Type Merged_freq</th>\n",
       "    </tr>\n",
       "    <tr>\n",
       "      <th>Claim Identifier</th>\n",
       "      <th></th>\n",
       "      <th></th>\n",
       "      <th></th>\n",
       "      <th></th>\n",
       "      <th></th>\n",
       "      <th></th>\n",
       "      <th></th>\n",
       "      <th></th>\n",
       "      <th></th>\n",
       "      <th></th>\n",
       "      <th></th>\n",
       "      <th></th>\n",
       "      <th></th>\n",
       "      <th></th>\n",
       "      <th></th>\n",
       "      <th></th>\n",
       "      <th></th>\n",
       "      <th></th>\n",
       "      <th></th>\n",
       "      <th></th>\n",
       "      <th></th>\n",
       "    </tr>\n",
       "  </thead>\n",
       "  <tbody>\n",
       "    <tr>\n",
       "      <th>6099734</th>\n",
       "      <td>67</td>\n",
       "      <td>4.0</td>\n",
       "      <td>0.0</td>\n",
       "      <td>1</td>\n",
       "      <td>3</td>\n",
       "      <td>2022</td>\n",
       "      <td>3</td>\n",
       "      <td>1</td>\n",
       "      <td>3</td>\n",
       "      <td>3</td>\n",
       "      <td>...</td>\n",
       "      <td>34856</td>\n",
       "      <td>34897</td>\n",
       "      <td>216798</td>\n",
       "      <td>9648</td>\n",
       "      <td>44601</td>\n",
       "      <td>38469</td>\n",
       "      <td>11544</td>\n",
       "      <td>96343</td>\n",
       "      <td>404174</td>\n",
       "      <td>228492</td>\n",
       "    </tr>\n",
       "    <tr>\n",
       "      <th>5796182</th>\n",
       "      <td>30</td>\n",
       "      <td>0.0</td>\n",
       "      <td>0.0</td>\n",
       "      <td>1</td>\n",
       "      <td>3</td>\n",
       "      <td>2021</td>\n",
       "      <td>5</td>\n",
       "      <td>2</td>\n",
       "      <td>7</td>\n",
       "      <td>7</td>\n",
       "      <td>...</td>\n",
       "      <td>34856</td>\n",
       "      <td>13901</td>\n",
       "      <td>68763</td>\n",
       "      <td>6081</td>\n",
       "      <td>88312</td>\n",
       "      <td>15038</td>\n",
       "      <td>11163</td>\n",
       "      <td>96343</td>\n",
       "      <td>404174</td>\n",
       "      <td>228492</td>\n",
       "    </tr>\n",
       "  </tbody>\n",
       "</table>\n",
       "<p>2 rows × 30 columns</p>\n",
       "</div>"
      ],
      "text/plain": [
       "                  Age at Injury  IME-4 Count  Agreement Reached  \\\n",
       "Claim Identifier                                                  \n",
       "6099734                      67          4.0                0.0   \n",
       "5796182                      30          0.0                0.0   \n",
       "\n",
       "                  Income_Category  Accident_Quarter  Accident_Year  \\\n",
       "Claim Identifier                                                     \n",
       "6099734                         1                 3           2022   \n",
       "5796182                         1                 3           2021   \n",
       "\n",
       "                  Accident Day  Age Group  promptness_category  \\\n",
       "Claim Identifier                                                 \n",
       "6099734                      3          1                    3   \n",
       "5796182                      5          2                    7   \n",
       "\n",
       "                  promptness_C2_category  ...  Industry Code_freq  \\\n",
       "Claim Identifier                          ...                       \n",
       "6099734                                3  ...               34856   \n",
       "5796182                                7  ...               34856   \n",
       "\n",
       "                  County of Injury_freq  District Name_freq  \\\n",
       "Claim Identifier                                              \n",
       "6099734                           34897              216798   \n",
       "5796182                           13901               68763   \n",
       "\n",
       "                  WCIO Cause of Injury Code_freq  \\\n",
       "Claim Identifier                                   \n",
       "6099734                                     9648   \n",
       "5796182                                     6081   \n",
       "\n",
       "                  WCIO Nature of Injury Code_freq  \\\n",
       "Claim Identifier                                    \n",
       "6099734                                     44601   \n",
       "5796182                                     88312   \n",
       "\n",
       "                  WCIO Part Of Body Code_freq  Carrier Name_freq  \\\n",
       "Claim Identifier                                                   \n",
       "6099734                                 38469              11544   \n",
       "5796182                                 15038              11163   \n",
       "\n",
       "                  Body_Part_Category_freq  Injury_Nature_Category_freq  \\\n",
       "Claim Identifier                                                         \n",
       "6099734                             96343                       404174   \n",
       "5796182                             96343                       404174   \n",
       "\n",
       "                  Carrier Type Merged_freq  \n",
       "Claim Identifier                            \n",
       "6099734                             228492  \n",
       "5796182                             228492  \n",
       "\n",
       "[2 rows x 30 columns]"
      ]
     },
     "execution_count": 7,
     "metadata": {},
     "output_type": "execute_result"
    }
   ],
   "source": [
    "X_train.head(2)"
   ]
  },
  {
   "cell_type": "code",
   "execution_count": 8,
   "metadata": {},
   "outputs": [
    {
     "data": {
      "text/html": [
       "<div>\n",
       "<style scoped>\n",
       "    .dataframe tbody tr th:only-of-type {\n",
       "        vertical-align: middle;\n",
       "    }\n",
       "\n",
       "    .dataframe tbody tr th {\n",
       "        vertical-align: top;\n",
       "    }\n",
       "\n",
       "    .dataframe thead th {\n",
       "        text-align: right;\n",
       "    }\n",
       "</style>\n",
       "<table border=\"1\" class=\"dataframe\">\n",
       "  <thead>\n",
       "    <tr style=\"text-align: right;\">\n",
       "      <th></th>\n",
       "      <th>Age at Injury</th>\n",
       "      <th>IME-4 Count</th>\n",
       "      <th>Agreement Reached</th>\n",
       "      <th>Income_Category</th>\n",
       "      <th>Accident_Quarter</th>\n",
       "      <th>Accident_Year</th>\n",
       "      <th>Accident Day</th>\n",
       "      <th>Age Group</th>\n",
       "      <th>promptness_category</th>\n",
       "      <th>promptness_C2_category</th>\n",
       "      <th>...</th>\n",
       "      <th>Industry Code_freq</th>\n",
       "      <th>County of Injury_freq</th>\n",
       "      <th>District Name_freq</th>\n",
       "      <th>WCIO Cause of Injury Code_freq</th>\n",
       "      <th>WCIO Nature of Injury Code_freq</th>\n",
       "      <th>WCIO Part Of Body Code_freq</th>\n",
       "      <th>Carrier Name_freq</th>\n",
       "      <th>Body_Part_Category_freq</th>\n",
       "      <th>Injury_Nature_Category_freq</th>\n",
       "      <th>Carrier Type Merged_freq</th>\n",
       "    </tr>\n",
       "    <tr>\n",
       "      <th>Claim Identifier</th>\n",
       "      <th></th>\n",
       "      <th></th>\n",
       "      <th></th>\n",
       "      <th></th>\n",
       "      <th></th>\n",
       "      <th></th>\n",
       "      <th></th>\n",
       "      <th></th>\n",
       "      <th></th>\n",
       "      <th></th>\n",
       "      <th></th>\n",
       "      <th></th>\n",
       "      <th></th>\n",
       "      <th></th>\n",
       "      <th></th>\n",
       "      <th></th>\n",
       "      <th></th>\n",
       "      <th></th>\n",
       "      <th></th>\n",
       "      <th></th>\n",
       "      <th></th>\n",
       "    </tr>\n",
       "  </thead>\n",
       "  <tbody>\n",
       "    <tr>\n",
       "      <th>5730729</th>\n",
       "      <td>52</td>\n",
       "      <td>1.0</td>\n",
       "      <td>0.0</td>\n",
       "      <td>4</td>\n",
       "      <td>2</td>\n",
       "      <td>2021</td>\n",
       "      <td>1</td>\n",
       "      <td>0</td>\n",
       "      <td>7</td>\n",
       "      <td>7</td>\n",
       "      <td>...</td>\n",
       "      <td>73733</td>\n",
       "      <td>42680</td>\n",
       "      <td>216798</td>\n",
       "      <td>23476</td>\n",
       "      <td>122811</td>\n",
       "      <td>15038</td>\n",
       "      <td>88862.0</td>\n",
       "      <td>96343</td>\n",
       "      <td>404174</td>\n",
       "      <td>88862</td>\n",
       "    </tr>\n",
       "    <tr>\n",
       "      <th>6038049</th>\n",
       "      <td>28</td>\n",
       "      <td>0.0</td>\n",
       "      <td>0.0</td>\n",
       "      <td>1</td>\n",
       "      <td>2</td>\n",
       "      <td>2022</td>\n",
       "      <td>5</td>\n",
       "      <td>2</td>\n",
       "      <td>1</td>\n",
       "      <td>1</td>\n",
       "      <td>...</td>\n",
       "      <td>21175</td>\n",
       "      <td>42680</td>\n",
       "      <td>216798</td>\n",
       "      <td>8659</td>\n",
       "      <td>4398</td>\n",
       "      <td>6314</td>\n",
       "      <td>88862.0</td>\n",
       "      <td>45491</td>\n",
       "      <td>404174</td>\n",
       "      <td>88862</td>\n",
       "    </tr>\n",
       "  </tbody>\n",
       "</table>\n",
       "<p>2 rows × 30 columns</p>\n",
       "</div>"
      ],
      "text/plain": [
       "                  Age at Injury  IME-4 Count  Agreement Reached  \\\n",
       "Claim Identifier                                                  \n",
       "5730729                      52          1.0                0.0   \n",
       "6038049                      28          0.0                0.0   \n",
       "\n",
       "                  Income_Category  Accident_Quarter  Accident_Year  \\\n",
       "Claim Identifier                                                     \n",
       "5730729                         4                 2           2021   \n",
       "6038049                         1                 2           2022   \n",
       "\n",
       "                  Accident Day  Age Group  promptness_category  \\\n",
       "Claim Identifier                                                 \n",
       "5730729                      1          0                    7   \n",
       "6038049                      5          2                    1   \n",
       "\n",
       "                  promptness_C2_category  ...  Industry Code_freq  \\\n",
       "Claim Identifier                          ...                       \n",
       "5730729                                7  ...               73733   \n",
       "6038049                                1  ...               21175   \n",
       "\n",
       "                  County of Injury_freq  District Name_freq  \\\n",
       "Claim Identifier                                              \n",
       "5730729                           42680              216798   \n",
       "6038049                           42680              216798   \n",
       "\n",
       "                  WCIO Cause of Injury Code_freq  \\\n",
       "Claim Identifier                                   \n",
       "5730729                                    23476   \n",
       "6038049                                     8659   \n",
       "\n",
       "                  WCIO Nature of Injury Code_freq  \\\n",
       "Claim Identifier                                    \n",
       "5730729                                    122811   \n",
       "6038049                                      4398   \n",
       "\n",
       "                  WCIO Part Of Body Code_freq  Carrier Name_freq  \\\n",
       "Claim Identifier                                                   \n",
       "5730729                                 15038            88862.0   \n",
       "6038049                                  6314            88862.0   \n",
       "\n",
       "                  Body_Part_Category_freq  Injury_Nature_Category_freq  \\\n",
       "Claim Identifier                                                         \n",
       "5730729                             96343                       404174   \n",
       "6038049                             45491                       404174   \n",
       "\n",
       "                  Carrier Type Merged_freq  \n",
       "Claim Identifier                            \n",
       "5730729                              88862  \n",
       "6038049                              88862  \n",
       "\n",
       "[2 rows x 30 columns]"
      ]
     },
     "execution_count": 8,
     "metadata": {},
     "output_type": "execute_result"
    }
   ],
   "source": [
    "X_val.head(2)"
   ]
  },
  {
   "cell_type": "markdown",
   "metadata": {},
   "source": [
    "We will also upload the y train and y_val."
   ]
  },
  {
   "cell_type": "code",
   "execution_count": 9,
   "metadata": {},
   "outputs": [],
   "source": [
    "# Load the arrays\n",
    "y_train = np.load(\"../processed_datasets/y_train_preprocessed.npy\", allow_pickle=True)\n",
    "y_val =  np.load(\"../processed_datasets/y_val_preprocessed.npy\", allow_pickle=True)"
   ]
  },
  {
   "cell_type": "code",
   "execution_count": 10,
   "metadata": {},
   "outputs": [
    {
     "data": {
      "text/plain": [
       "array(['4. TEMPORARY', '3. MED ONLY', '2. NON-COMP', ..., '4. TEMPORARY',\n",
       "       '2. NON-COMP', '2. NON-COMP'], dtype=object)"
      ]
     },
     "execution_count": 10,
     "metadata": {},
     "output_type": "execute_result"
    }
   ],
   "source": [
    "y_train"
   ]
  },
  {
   "cell_type": "code",
   "execution_count": 11,
   "metadata": {},
   "outputs": [
    {
     "data": {
      "text/plain": [
       "array(['2. NON-COMP', '2. NON-COMP', '4. TEMPORARY', ..., '3. MED ONLY',\n",
       "       '4. TEMPORARY', '2. NON-COMP'], dtype=object)"
      ]
     },
     "execution_count": 11,
     "metadata": {},
     "output_type": "execute_result"
    }
   ],
   "source": [
    "y_val"
   ]
  },
  {
   "cell_type": "code",
   "execution_count": 12,
   "metadata": {},
   "outputs": [
    {
     "data": {
      "text/plain": [
       "(387975, 29)"
      ]
     },
     "execution_count": 12,
     "metadata": {},
     "output_type": "execute_result"
    }
   ],
   "source": [
    "df_test.shape"
   ]
  },
  {
   "cell_type": "markdown",
   "metadata": {},
   "source": [
    "# 3. Setting the Target <a class=\"anchor\" id=\"chapter3\"></a>\n",
    "[Back to ToC](#toc)<br>\n",
    "\n",
    "In this notebook, we will work with the standard dataset without implementing hierarchical modeling. As part of this process, we will encode the target variables `y_train` and `y_val` into numerical format to ensure compatibility with machine learning models. The encoded target variables will be stored in `y_train_encoded` and `y_val_encoded` for further use."
   ]
  },
  {
   "cell_type": "markdown",
   "metadata": {},
   "source": [
    "**Encoding the Target**"
   ]
  },
  {
   "cell_type": "code",
   "execution_count": 13,
   "metadata": {},
   "outputs": [],
   "source": [
    "# Create a LabelEncoder instance\n",
    "encoder = LabelEncoder()\n",
    "\n",
    "# Encode y_train_new and y_val_new\n",
    "y_train_encoded = encoder.fit_transform(y_train)  # Fit and transform on y_train_mapped\n",
    "y_val_encoded = encoder.transform(y_val)  # Only transform on y_train_mapped"
   ]
  },
  {
   "cell_type": "code",
   "execution_count": 14,
   "metadata": {},
   "outputs": [
    {
     "name": "stdout",
     "output_type": "stream",
     "text": [
      "[3 2 1 ... 3 1 1]\n"
     ]
    },
    {
     "data": {
      "text/plain": [
       "array([1, 1, 3, ..., 2, 3, 1])"
      ]
     },
     "execution_count": 14,
     "metadata": {},
     "output_type": "execute_result"
    }
   ],
   "source": [
    "# Verify that the target is encoded \n",
    "print(f'{y_train_encoded}')\n",
    "y_val_encoded"
   ]
  },
  {
   "cell_type": "markdown",
   "metadata": {},
   "source": [
    "# 4. Feature Selection <a class=\"anchor\" id=\"chapter4\"></a>\n",
    "\n",
    "[Back to ToC](#toc)<br>\n"
   ]
  },
  {
   "cell_type": "markdown",
   "metadata": {},
   "source": [
    "The feature selection process involves summarizing the essential features in the dataset to help the model focus on the most relevant information. Here, we assess the categorical and numerical variables in `X_train` by examining unique values, descriptive statistics, and verifying the correctness of categorical bins and continuous feature distributions."
   ]
  },
  {
   "cell_type": "code",
   "execution_count": 15,
   "metadata": {},
   "outputs": [
    {
     "data": {
      "text/html": [
       "<div>\n",
       "<style scoped>\n",
       "    .dataframe tbody tr th:only-of-type {\n",
       "        vertical-align: middle;\n",
       "    }\n",
       "\n",
       "    .dataframe tbody tr th {\n",
       "        vertical-align: top;\n",
       "    }\n",
       "\n",
       "    .dataframe thead th {\n",
       "        text-align: right;\n",
       "    }\n",
       "</style>\n",
       "<table border=\"1\" class=\"dataframe\">\n",
       "  <thead>\n",
       "    <tr style=\"text-align: right;\">\n",
       "      <th></th>\n",
       "      <th>count</th>\n",
       "      <th>mean</th>\n",
       "      <th>std</th>\n",
       "      <th>min</th>\n",
       "      <th>25%</th>\n",
       "      <th>50%</th>\n",
       "      <th>75%</th>\n",
       "      <th>max</th>\n",
       "    </tr>\n",
       "  </thead>\n",
       "  <tbody>\n",
       "    <tr>\n",
       "      <th>Age at Injury</th>\n",
       "      <td>459219.0</td>\n",
       "      <td>42.884970</td>\n",
       "      <td>12.952508</td>\n",
       "      <td>5.000000</td>\n",
       "      <td>33.0</td>\n",
       "      <td>42.00</td>\n",
       "      <td>53.0</td>\n",
       "      <td>82.0</td>\n",
       "    </tr>\n",
       "    <tr>\n",
       "      <th>IME-4 Count</th>\n",
       "      <td>459219.0</td>\n",
       "      <td>0.741481</td>\n",
       "      <td>1.913359</td>\n",
       "      <td>0.000000</td>\n",
       "      <td>0.0</td>\n",
       "      <td>0.00</td>\n",
       "      <td>0.0</td>\n",
       "      <td>25.0</td>\n",
       "    </tr>\n",
       "    <tr>\n",
       "      <th>Agreement Reached</th>\n",
       "      <td>459219.0</td>\n",
       "      <td>0.046468</td>\n",
       "      <td>0.210497</td>\n",
       "      <td>0.000000</td>\n",
       "      <td>0.0</td>\n",
       "      <td>0.00</td>\n",
       "      <td>0.0</td>\n",
       "      <td>1.0</td>\n",
       "    </tr>\n",
       "    <tr>\n",
       "      <th>Income_Category</th>\n",
       "      <td>459219.0</td>\n",
       "      <td>2.117887</td>\n",
       "      <td>1.205360</td>\n",
       "      <td>0.000000</td>\n",
       "      <td>1.0</td>\n",
       "      <td>2.00</td>\n",
       "      <td>3.0</td>\n",
       "      <td>4.0</td>\n",
       "    </tr>\n",
       "    <tr>\n",
       "      <th>Accident_Quarter</th>\n",
       "      <td>459219.0</td>\n",
       "      <td>2.485058</td>\n",
       "      <td>1.129401</td>\n",
       "      <td>1.000000</td>\n",
       "      <td>1.0</td>\n",
       "      <td>3.00</td>\n",
       "      <td>3.0</td>\n",
       "      <td>4.0</td>\n",
       "    </tr>\n",
       "    <tr>\n",
       "      <th>Accident_Year</th>\n",
       "      <td>459219.0</td>\n",
       "      <td>2020.822706</td>\n",
       "      <td>1.852020</td>\n",
       "      <td>1961.000000</td>\n",
       "      <td>2020.0</td>\n",
       "      <td>2021.00</td>\n",
       "      <td>2022.0</td>\n",
       "      <td>2023.0</td>\n",
       "    </tr>\n",
       "    <tr>\n",
       "      <th>Accident Day</th>\n",
       "      <td>459219.0</td>\n",
       "      <td>2.524671</td>\n",
       "      <td>1.828200</td>\n",
       "      <td>0.000000</td>\n",
       "      <td>1.0</td>\n",
       "      <td>2.00</td>\n",
       "      <td>4.0</td>\n",
       "      <td>6.0</td>\n",
       "    </tr>\n",
       "    <tr>\n",
       "      <th>Age Group</th>\n",
       "      <td>459219.0</td>\n",
       "      <td>1.337506</td>\n",
       "      <td>1.076315</td>\n",
       "      <td>0.000000</td>\n",
       "      <td>0.0</td>\n",
       "      <td>2.00</td>\n",
       "      <td>2.0</td>\n",
       "      <td>3.0</td>\n",
       "    </tr>\n",
       "    <tr>\n",
       "      <th>promptness_category</th>\n",
       "      <td>459219.0</td>\n",
       "      <td>4.370087</td>\n",
       "      <td>2.496478</td>\n",
       "      <td>0.000000</td>\n",
       "      <td>3.0</td>\n",
       "      <td>4.00</td>\n",
       "      <td>7.0</td>\n",
       "      <td>7.0</td>\n",
       "    </tr>\n",
       "    <tr>\n",
       "      <th>promptness_C2_category</th>\n",
       "      <td>459219.0</td>\n",
       "      <td>4.399069</td>\n",
       "      <td>2.505514</td>\n",
       "      <td>0.000000</td>\n",
       "      <td>3.0</td>\n",
       "      <td>4.00</td>\n",
       "      <td>7.0</td>\n",
       "      <td>7.0</td>\n",
       "    </tr>\n",
       "    <tr>\n",
       "      <th>promptness_C3_category</th>\n",
       "      <td>459219.0</td>\n",
       "      <td>4.350613</td>\n",
       "      <td>1.650894</td>\n",
       "      <td>0.000000</td>\n",
       "      <td>4.0</td>\n",
       "      <td>5.00</td>\n",
       "      <td>5.0</td>\n",
       "      <td>7.0</td>\n",
       "    </tr>\n",
       "    <tr>\n",
       "      <th>Industry Risk</th>\n",
       "      <td>459219.0</td>\n",
       "      <td>1.419623</td>\n",
       "      <td>0.826775</td>\n",
       "      <td>0.000000</td>\n",
       "      <td>1.0</td>\n",
       "      <td>2.00</td>\n",
       "      <td>2.0</td>\n",
       "      <td>2.0</td>\n",
       "    </tr>\n",
       "    <tr>\n",
       "      <th>Salary_Per_Dependent</th>\n",
       "      <td>459219.0</td>\n",
       "      <td>436.143125</td>\n",
       "      <td>405.110006</td>\n",
       "      <td>3.285714</td>\n",
       "      <td>187.5</td>\n",
       "      <td>284.25</td>\n",
       "      <td>544.0</td>\n",
       "      <td>10000.0</td>\n",
       "    </tr>\n",
       "    <tr>\n",
       "      <th>Gender_M</th>\n",
       "      <td>459219.0</td>\n",
       "      <td>0.584285</td>\n",
       "      <td>0.492845</td>\n",
       "      <td>0.000000</td>\n",
       "      <td>0.0</td>\n",
       "      <td>1.00</td>\n",
       "      <td>1.0</td>\n",
       "      <td>1.0</td>\n",
       "    </tr>\n",
       "    <tr>\n",
       "      <th>Gender_U</th>\n",
       "      <td>459219.0</td>\n",
       "      <td>0.008218</td>\n",
       "      <td>0.090282</td>\n",
       "      <td>0.000000</td>\n",
       "      <td>0.0</td>\n",
       "      <td>0.00</td>\n",
       "      <td>0.0</td>\n",
       "      <td>1.0</td>\n",
       "    </tr>\n",
       "    <tr>\n",
       "      <th>Medical Fee Region_II</th>\n",
       "      <td>459219.0</td>\n",
       "      <td>0.148060</td>\n",
       "      <td>0.355160</td>\n",
       "      <td>0.000000</td>\n",
       "      <td>0.0</td>\n",
       "      <td>0.00</td>\n",
       "      <td>0.0</td>\n",
       "      <td>1.0</td>\n",
       "    </tr>\n",
       "    <tr>\n",
       "      <th>Medical Fee Region_III</th>\n",
       "      <td>459219.0</td>\n",
       "      <td>0.093746</td>\n",
       "      <td>0.291476</td>\n",
       "      <td>0.000000</td>\n",
       "      <td>0.0</td>\n",
       "      <td>0.00</td>\n",
       "      <td>0.0</td>\n",
       "      <td>1.0</td>\n",
       "    </tr>\n",
       "    <tr>\n",
       "      <th>Medical Fee Region_UK</th>\n",
       "      <td>459219.0</td>\n",
       "      <td>0.058499</td>\n",
       "      <td>0.234685</td>\n",
       "      <td>0.000000</td>\n",
       "      <td>0.0</td>\n",
       "      <td>0.00</td>\n",
       "      <td>0.0</td>\n",
       "      <td>1.0</td>\n",
       "    </tr>\n",
       "    <tr>\n",
       "      <th>Carrier_Name_Simplified_freq</th>\n",
       "      <td>459219.0</td>\n",
       "      <td>39856.144800</td>\n",
       "      <td>41615.826373</td>\n",
       "      <td>505.000000</td>\n",
       "      <td>3295.0</td>\n",
       "      <td>11544.00</td>\n",
       "      <td>88862.0</td>\n",
       "      <td>93013.0</td>\n",
       "    </tr>\n",
       "    <tr>\n",
       "      <th>Zip_Code_Simplified_freq</th>\n",
       "      <td>459219.0</td>\n",
       "      <td>267705.836390</td>\n",
       "      <td>148210.796343</td>\n",
       "      <td>1002.000000</td>\n",
       "      <td>350333.0</td>\n",
       "      <td>350333.00</td>\n",
       "      <td>350333.0</td>\n",
       "      <td>350333.0</td>\n",
       "    </tr>\n",
       "    <tr>\n",
       "      <th>Industry Code_freq</th>\n",
       "      <td>459219.0</td>\n",
       "      <td>46336.203665</td>\n",
       "      <td>34702.730643</td>\n",
       "      <td>296.000000</td>\n",
       "      <td>14481.0</td>\n",
       "      <td>34856.00</td>\n",
       "      <td>73733.0</td>\n",
       "      <td>99366.0</td>\n",
       "    </tr>\n",
       "    <tr>\n",
       "      <th>County of Injury_freq</th>\n",
       "      <td>459219.0</td>\n",
       "      <td>25243.274557</td>\n",
       "      <td>16749.471571</td>\n",
       "      <td>109.000000</td>\n",
       "      <td>9173.0</td>\n",
       "      <td>24019.00</td>\n",
       "      <td>42680.0</td>\n",
       "      <td>48468.0</td>\n",
       "    </tr>\n",
       "    <tr>\n",
       "      <th>District Name_freq</th>\n",
       "      <td>459219.0</td>\n",
       "      <td>126410.317655</td>\n",
       "      <td>86353.765470</td>\n",
       "      <td>3191.000000</td>\n",
       "      <td>36466.0</td>\n",
       "      <td>68763.00</td>\n",
       "      <td>216798.0</td>\n",
       "      <td>216798.0</td>\n",
       "    </tr>\n",
       "    <tr>\n",
       "      <th>WCIO Cause of Injury Code_freq</th>\n",
       "      <td>459219.0</td>\n",
       "      <td>16060.298570</td>\n",
       "      <td>10549.378684</td>\n",
       "      <td>11.000000</td>\n",
       "      <td>8102.0</td>\n",
       "      <td>13345.00</td>\n",
       "      <td>25490.0</td>\n",
       "      <td>37259.0</td>\n",
       "    </tr>\n",
       "    <tr>\n",
       "      <th>WCIO Nature of Injury Code_freq</th>\n",
       "      <td>459219.0</td>\n",
       "      <td>62313.777241</td>\n",
       "      <td>45398.650902</td>\n",
       "      <td>1.000000</td>\n",
       "      <td>18237.0</td>\n",
       "      <td>44601.00</td>\n",
       "      <td>122811.0</td>\n",
       "      <td>122811.0</td>\n",
       "    </tr>\n",
       "    <tr>\n",
       "      <th>WCIO Part Of Body Code_freq</th>\n",
       "      <td>459219.0</td>\n",
       "      <td>20327.620105</td>\n",
       "      <td>13011.723707</td>\n",
       "      <td>40.000000</td>\n",
       "      <td>8977.0</td>\n",
       "      <td>18172.00</td>\n",
       "      <td>30191.0</td>\n",
       "      <td>41385.0</td>\n",
       "    </tr>\n",
       "    <tr>\n",
       "      <th>Carrier Name_freq</th>\n",
       "      <td>459219.0</td>\n",
       "      <td>21056.740586</td>\n",
       "      <td>33536.593158</td>\n",
       "      <td>1.000000</td>\n",
       "      <td>809.0</td>\n",
       "      <td>4478.00</td>\n",
       "      <td>14012.0</td>\n",
       "      <td>88862.0</td>\n",
       "    </tr>\n",
       "    <tr>\n",
       "      <th>Body_Part_Category_freq</th>\n",
       "      <td>459219.0</td>\n",
       "      <td>89288.750764</td>\n",
       "      <td>42925.518744</td>\n",
       "      <td>9593.000000</td>\n",
       "      <td>45491.0</td>\n",
       "      <td>96343.00</td>\n",
       "      <td>142559.0</td>\n",
       "      <td>142559.0</td>\n",
       "    </tr>\n",
       "    <tr>\n",
       "      <th>Injury_Nature_Category_freq</th>\n",
       "      <td>459219.0</td>\n",
       "      <td>357519.156078</td>\n",
       "      <td>126431.433102</td>\n",
       "      <td>10480.000000</td>\n",
       "      <td>404174.0</td>\n",
       "      <td>404174.00</td>\n",
       "      <td>404174.0</td>\n",
       "      <td>404174.0</td>\n",
       "    </tr>\n",
       "    <tr>\n",
       "      <th>Carrier Type Merged_freq</th>\n",
       "      <td>459219.0</td>\n",
       "      <td>155445.700511</td>\n",
       "      <td>74302.201535</td>\n",
       "      <td>833.000000</td>\n",
       "      <td>88862.0</td>\n",
       "      <td>97456.00</td>\n",
       "      <td>228492.0</td>\n",
       "      <td>228492.0</td>\n",
       "    </tr>\n",
       "  </tbody>\n",
       "</table>\n",
       "</div>"
      ],
      "text/plain": [
       "                                    count           mean            std  \\\n",
       "Age at Injury                    459219.0      42.884970      12.952508   \n",
       "IME-4 Count                      459219.0       0.741481       1.913359   \n",
       "Agreement Reached                459219.0       0.046468       0.210497   \n",
       "Income_Category                  459219.0       2.117887       1.205360   \n",
       "Accident_Quarter                 459219.0       2.485058       1.129401   \n",
       "Accident_Year                    459219.0    2020.822706       1.852020   \n",
       "Accident Day                     459219.0       2.524671       1.828200   \n",
       "Age Group                        459219.0       1.337506       1.076315   \n",
       "promptness_category              459219.0       4.370087       2.496478   \n",
       "promptness_C2_category           459219.0       4.399069       2.505514   \n",
       "promptness_C3_category           459219.0       4.350613       1.650894   \n",
       "Industry Risk                    459219.0       1.419623       0.826775   \n",
       "Salary_Per_Dependent             459219.0     436.143125     405.110006   \n",
       "Gender_M                         459219.0       0.584285       0.492845   \n",
       "Gender_U                         459219.0       0.008218       0.090282   \n",
       "Medical Fee Region_II            459219.0       0.148060       0.355160   \n",
       "Medical Fee Region_III           459219.0       0.093746       0.291476   \n",
       "Medical Fee Region_UK            459219.0       0.058499       0.234685   \n",
       "Carrier_Name_Simplified_freq     459219.0   39856.144800   41615.826373   \n",
       "Zip_Code_Simplified_freq         459219.0  267705.836390  148210.796343   \n",
       "Industry Code_freq               459219.0   46336.203665   34702.730643   \n",
       "County of Injury_freq            459219.0   25243.274557   16749.471571   \n",
       "District Name_freq               459219.0  126410.317655   86353.765470   \n",
       "WCIO Cause of Injury Code_freq   459219.0   16060.298570   10549.378684   \n",
       "WCIO Nature of Injury Code_freq  459219.0   62313.777241   45398.650902   \n",
       "WCIO Part Of Body Code_freq      459219.0   20327.620105   13011.723707   \n",
       "Carrier Name_freq                459219.0   21056.740586   33536.593158   \n",
       "Body_Part_Category_freq          459219.0   89288.750764   42925.518744   \n",
       "Injury_Nature_Category_freq      459219.0  357519.156078  126431.433102   \n",
       "Carrier Type Merged_freq         459219.0  155445.700511   74302.201535   \n",
       "\n",
       "                                          min       25%        50%       75%  \\\n",
       "Age at Injury                        5.000000      33.0      42.00      53.0   \n",
       "IME-4 Count                          0.000000       0.0       0.00       0.0   \n",
       "Agreement Reached                    0.000000       0.0       0.00       0.0   \n",
       "Income_Category                      0.000000       1.0       2.00       3.0   \n",
       "Accident_Quarter                     1.000000       1.0       3.00       3.0   \n",
       "Accident_Year                     1961.000000    2020.0    2021.00    2022.0   \n",
       "Accident Day                         0.000000       1.0       2.00       4.0   \n",
       "Age Group                            0.000000       0.0       2.00       2.0   \n",
       "promptness_category                  0.000000       3.0       4.00       7.0   \n",
       "promptness_C2_category               0.000000       3.0       4.00       7.0   \n",
       "promptness_C3_category               0.000000       4.0       5.00       5.0   \n",
       "Industry Risk                        0.000000       1.0       2.00       2.0   \n",
       "Salary_Per_Dependent                 3.285714     187.5     284.25     544.0   \n",
       "Gender_M                             0.000000       0.0       1.00       1.0   \n",
       "Gender_U                             0.000000       0.0       0.00       0.0   \n",
       "Medical Fee Region_II                0.000000       0.0       0.00       0.0   \n",
       "Medical Fee Region_III               0.000000       0.0       0.00       0.0   \n",
       "Medical Fee Region_UK                0.000000       0.0       0.00       0.0   \n",
       "Carrier_Name_Simplified_freq       505.000000    3295.0   11544.00   88862.0   \n",
       "Zip_Code_Simplified_freq          1002.000000  350333.0  350333.00  350333.0   \n",
       "Industry Code_freq                 296.000000   14481.0   34856.00   73733.0   \n",
       "County of Injury_freq              109.000000    9173.0   24019.00   42680.0   \n",
       "District Name_freq                3191.000000   36466.0   68763.00  216798.0   \n",
       "WCIO Cause of Injury Code_freq      11.000000    8102.0   13345.00   25490.0   \n",
       "WCIO Nature of Injury Code_freq      1.000000   18237.0   44601.00  122811.0   \n",
       "WCIO Part Of Body Code_freq         40.000000    8977.0   18172.00   30191.0   \n",
       "Carrier Name_freq                    1.000000     809.0    4478.00   14012.0   \n",
       "Body_Part_Category_freq           9593.000000   45491.0   96343.00  142559.0   \n",
       "Injury_Nature_Category_freq      10480.000000  404174.0  404174.00  404174.0   \n",
       "Carrier Type Merged_freq           833.000000   88862.0   97456.00  228492.0   \n",
       "\n",
       "                                      max  \n",
       "Age at Injury                        82.0  \n",
       "IME-4 Count                          25.0  \n",
       "Agreement Reached                     1.0  \n",
       "Income_Category                       4.0  \n",
       "Accident_Quarter                      4.0  \n",
       "Accident_Year                      2023.0  \n",
       "Accident Day                          6.0  \n",
       "Age Group                             3.0  \n",
       "promptness_category                   7.0  \n",
       "promptness_C2_category                7.0  \n",
       "promptness_C3_category                7.0  \n",
       "Industry Risk                         2.0  \n",
       "Salary_Per_Dependent              10000.0  \n",
       "Gender_M                              1.0  \n",
       "Gender_U                              1.0  \n",
       "Medical Fee Region_II                 1.0  \n",
       "Medical Fee Region_III                1.0  \n",
       "Medical Fee Region_UK                 1.0  \n",
       "Carrier_Name_Simplified_freq      93013.0  \n",
       "Zip_Code_Simplified_freq         350333.0  \n",
       "Industry Code_freq                99366.0  \n",
       "County of Injury_freq             48468.0  \n",
       "District Name_freq               216798.0  \n",
       "WCIO Cause of Injury Code_freq    37259.0  \n",
       "WCIO Nature of Injury Code_freq  122811.0  \n",
       "WCIO Part Of Body Code_freq       41385.0  \n",
       "Carrier Name_freq                 88862.0  \n",
       "Body_Part_Category_freq          142559.0  \n",
       "Injury_Nature_Category_freq      404174.0  \n",
       "Carrier Type Merged_freq         228492.0  "
      ]
     },
     "execution_count": 15,
     "metadata": {},
     "output_type": "execute_result"
    }
   ],
   "source": [
    "# Displaying descriptive statistics for categorical features in the training dataset\n",
    "X_train.describe().T"
   ]
  },
  {
   "cell_type": "markdown",
   "metadata": {},
   "source": [
    "In this section we will use the created dictionary in Notebook 3."
   ]
  },
  {
   "cell_type": "code",
   "execution_count": 16,
   "metadata": {},
   "outputs": [
    {
     "name": "stdout",
     "output_type": "stream",
     "text": [
      "Categorical Features (6):\n",
      "['Income_Category', 'Age Group', 'promptness_category', 'promptness_C2_category', 'promptness_C3_category', 'Industry Risk'] \n",
      "\n",
      "Binary Features (5):\n",
      "['Gender_M', 'Gender_U', 'Medical Fee Region_II', 'Medical Fee Region_III', 'Medical Fee Region_UK'] \n",
      "\n",
      "Numerical Features (18):\n",
      "['Age at Injury', 'IME-4 Count', 'Accident_Quarter', 'Accident_Year', 'Accident Day', 'Salary_Per_Dependent', 'Carrier_Name_Simplified_freq', 'Zip_Code_Simplified_freq', 'Industry Code_freq', 'County of Injury_freq', 'District Name_freq', 'WCIO Cause of Injury Code_freq', 'WCIO Nature of Injury Code_freq', 'WCIO Part Of Body Code_freq', 'Carrier Name_freq', 'Body_Part_Category_freq', 'Injury_Nature_Category_freq', 'Carrier Type Merged_freq'] \n",
      "\n"
     ]
    }
   ],
   "source": [
    "# Print summary\n",
    "for category, features in feature_categories.items():\n",
    "    print(f\"{category.capitalize()} Features ({len(features)}):\")\n",
    "    print(features, \"\\n\")"
   ]
  },
  {
   "cell_type": "markdown",
   "metadata": {},
   "source": [
    "## 4.1. Preparing Data</b> <a class=\"anchor\" id=\"section_4_1\"></a>\n",
    "\n",
    "[Back to 4. Feature Selection](#chapter4)<br>\n",
    "\n",
    "\n",
    "To perform feature selection techniques like Lasso, RFE, and feature importance, the numerical features must first be scaled. Scaling ensures that all features have a consistent range, which is particularly important for methods sensitive to feature magnitude.\n",
    "\n",
    "In this step, we will use the StandardScaler to standardize the numerical features in the dataset. This scaling process will be applied to a temporary dataset containing only the numerical features, allowing us to focus on selecting the most relevant features effectively. The scaled dataset will then be used as input for feature selection techniques."
   ]
  },
  {
   "cell_type": "code",
   "execution_count": 17,
   "metadata": {},
   "outputs": [],
   "source": [
    "# Extract numerical features from the dictionary\n",
    "numerical_features = feature_categories[\"numerical\"]\n",
    "\n",
    "# Initialize StandardScaler\n",
    "num_scaler = StandardScaler()\n",
    "\n",
    "# Scale numerical features in X_train\n",
    "X_train[numerical_features] = num_scaler.fit_transform(X_train[numerical_features])\n",
    "\n",
    "X_train_num_scaled= X_train[numerical_features]\n",
    "\n",
    "# Scale numerical features in X_val\n",
    "X_val[numerical_features] = num_scaler.transform(X_val[numerical_features])\n",
    "\n",
    "X_val_num_scaled= X_val[numerical_features]"
   ]
  },
  {
   "cell_type": "markdown",
   "metadata": {},
   "source": [
    "**Variance Check After Scaling**\n",
    "\n",
    "After scaling, we check the variance of each scaled feature to confirm that the features have been scaled properly. Lower variance after scaling indicates that data is normalized and less affected by magnitude differences."
   ]
  },
  {
   "cell_type": "code",
   "execution_count": 18,
   "metadata": {},
   "outputs": [
    {
     "data": {
      "text/plain": [
       "Age at Injury                      1.000002\n",
       "IME-4 Count                        1.000002\n",
       "Accident_Quarter                   1.000002\n",
       "Accident_Year                      1.000002\n",
       "Accident Day                       1.000002\n",
       "Salary_Per_Dependent               1.000002\n",
       "Carrier_Name_Simplified_freq       1.000002\n",
       "Zip_Code_Simplified_freq           1.000002\n",
       "Industry Code_freq                 1.000002\n",
       "County of Injury_freq              1.000002\n",
       "District Name_freq                 1.000002\n",
       "WCIO Cause of Injury Code_freq     1.000002\n",
       "WCIO Nature of Injury Code_freq    1.000002\n",
       "WCIO Part Of Body Code_freq        1.000002\n",
       "Carrier Name_freq                  1.000002\n",
       "Body_Part_Category_freq            1.000002\n",
       "Injury_Nature_Category_freq        1.000002\n",
       "Carrier Type Merged_freq           1.000002\n",
       "dtype: float64"
      ]
     },
     "execution_count": 18,
     "metadata": {},
     "output_type": "execute_result"
    }
   ],
   "source": [
    "# Check variance of scaled data\n",
    "X_train_num_scaled.var()"
   ]
  },
  {
   "cell_type": "markdown",
   "metadata": {},
   "source": [
    "The output shows the variance of each numerical column in the scaled training set. These values help validate that the scaling process has achieved a consistent data distribution across features."
   ]
  },
  {
   "cell_type": "markdown",
   "metadata": {},
   "source": [
    " ## 4.2. Numerical Features</b> <a class=\"anchor\" id=\"section_4_2\"></a>\n",
    " [Back to 4. Feature Selection](#chapter4)<br>\n",
    " "
   ]
  },
  {
   "cell_type": "markdown",
   "metadata": {},
   "source": [
    "### 4.2.1. LASSO Regression <a class=\"anchor\" id=\"sub_section_4_2_1\"></a>\n",
    "\n",
    " [Back to 4.2. Numerical Features](#section_4_2)<br>\n",
    "\n",
    "\n",
    " The LASSO (Least Absolute Shrinkage and Selection Operator) regression is used here for feature selection by fitting a model to the standardized dataset and analyzing the coefficients."
   ]
  },
  {
   "cell_type": "code",
   "execution_count": 19,
   "metadata": {},
   "outputs": [
    {
     "data": {
      "text/plain": [
       "Carrier Type Merged_freq          -0.070098\n",
       "Carrier_Name_Simplified_freq      -0.056099\n",
       "Accident_Year                     -0.036181\n",
       "District Name_freq                -0.033425\n",
       "Accident_Quarter                  -0.011435\n",
       "Zip_Code_Simplified_freq          -0.007541\n",
       "Accident Day                      -0.005255\n",
       "Industry Code_freq                -0.003746\n",
       "WCIO Nature of Injury Code_freq    0.029769\n",
       "WCIO Cause of Injury Code_freq     0.039905\n",
       "Salary_Per_Dependent               0.041949\n",
       "County of Injury_freq              0.044895\n",
       "WCIO Part Of Body Code_freq        0.057676\n",
       "Age at Injury                      0.064119\n",
       "Body_Part_Category_freq            0.069859\n",
       "Carrier Name_freq                  0.079071\n",
       "Injury_Nature_Category_freq        0.080523\n",
       "IME-4 Count                        0.470204\n",
       "dtype: float64"
      ]
     },
     "execution_count": 19,
     "metadata": {},
     "output_type": "execute_result"
    }
   ],
   "source": [
    "# Fit regression\n",
    "reg = LassoCV().fit(X_train_num_scaled, y_train_encoded)\n",
    "#get coefficients\n",
    "coef = pd.Series(reg.coef_, index = X_train_num_scaled.columns)\n",
    "# Sort coefficients to observe importance\n",
    "coef.sort_values()"
   ]
  },
  {
   "cell_type": "markdown",
   "metadata": {},
   "source": [
    "This function generates a horizontal bar plot of the feature importance values derived from the LASSO model, helping to visualize which features are prioritized by the model."
   ]
  },
  {
   "cell_type": "code",
   "execution_count": 20,
   "metadata": {},
   "outputs": [
    {
     "data": {
      "image/png": "[encoded data removed]",
      "text/plain": [
       "<Figure size 300x500 with 1 Axes>"
      ]
     },
     "metadata": {},
     "output_type": "display_data"
    }
   ],
   "source": [
    "plot_importance(coef,'Lasso')"
   ]
  },
  {
   "cell_type": "markdown",
   "metadata": {},
   "source": [
    "Let's consider all the values above 0.015."
   ]
  },
  {
   "cell_type": "markdown",
   "metadata": {},
   "source": [
    " ### 4.2.2. Recursive Feature Elimination - RFE <a class=\"anchor\" id=\"sub_section_4_2_2\"></a>\n",
    "\n",
    "  [Back to 4.2. Numerical Features](#section_4_2)<br>\n",
    " \n",
    "\n",
    "RFE is employed here to further validate the important features as identified by LASSO. By sequentially removing the least important features, RFE helps to refine the feature set.\n",
    "\n",
    "The selected features after RFE likely overlap with those identified by LASSO, suggesting consistency in feature importance.\n",
    "Using both LASSO and RFE provides a more robust feature selection by cross-validating the importance of individual features.\n",
    "\n",
    "This block of code performs RFE to identify the best subset of features by iterating over a range of feature numbers. The code aims to maximize model performance on the validation set."
   ]
  },
  {
   "cell_type": "code",
   "execution_count": null,
   "metadata": {},
   "outputs": [],
   "source": [
    "# RFE using Logistic Regression\n",
    "model = LogisticRegression()\n",
    "\n",
    "#Use the function defined in utils.py\n",
    "best_features, best_score, scores = find_optimal_features_with_rfe(\n",
    "    model, \n",
    "    X_train_num_scaled, \n",
    "    y_train_encoded, \n",
    "    X_val_num_scaled, \n",
    "    y_val_encoded,\n",
    "    max_features=19\n",
    ")"
   ]
  },
  {
   "cell_type": "markdown",
   "metadata": {},
   "source": [
    "\n",
    "The loop evaluates models with 1 to 18 features, tracking the score for each.\n",
    "\n",
    "The output indicates that 3 features yielded the highest validation f1_score score of 0.369795."
   ]
  },
  {
   "cell_type": "markdown",
   "metadata": {},
   "source": [
    "**Applying RFE with the Optimal Number of Features**\n",
    "\n",
    "Once the optimal number of features is identified, the RFE model is finalized with this configuration."
   ]
  },
  {
   "cell_type": "code",
   "execution_count": null,
   "metadata": {},
   "outputs": [],
   "source": [
    "#rfscv- to select 1st the number of features we should select\n",
    "model = LogisticRegression()\n",
    "rfe = RFE(estimator = model, n_features_to_select = 3)"
   ]
  },
  {
   "cell_type": "code",
   "execution_count": null,
   "metadata": {},
   "outputs": [],
   "source": [
    "X_rfe= rfe.fit_transform(X=X_train_num_scaled, y=y_train_encoded)"
   ]
  },
  {
   "cell_type": "markdown",
   "metadata": {},
   "source": [
    "This shows the results of the feature selection process, listing the features selected by RFE. The code snippet confirms which features were selected as relevant by the RFE model and displays them in a boolean Series, where True indicates the feature was selected and False means it was not."
   ]
  },
  {
   "cell_type": "code",
   "execution_count": null,
   "metadata": {},
   "outputs": [
    {
     "data": {
      "text/plain": [
       "Age at Injury                      False\n",
       "IME-4 Count                         True\n",
       "Accident_Quarter                   False\n",
       "Accident_Year                      False\n",
       "Accident Day                       False\n",
       "Salary_Per_Dependent               False\n",
       "Carrier_Name_Simplified_freq       False\n",
       "Zip_Code_Simplified_freq           False\n",
       "Industry Code_freq                 False\n",
       "County of Injury_freq              False\n",
       "District Name_freq                 False\n",
       "WCIO Cause of Injury Code_freq     False\n",
       "WCIO Nature of Injury Code_freq     True\n",
       "WCIO Part Of Body Code_freq        False\n",
       "Carrier Name_freq                  False\n",
       "Body_Part_Category_freq             True\n",
       "Injury_Nature_Category_freq        False\n",
       "Carrier Type Merged_freq           False\n",
       "dtype: bool"
      ]
     },
     "metadata": {},
     "output_type": "display_data"
    }
   ],
   "source": [
    "selected_features = pd.Series(rfe.support_, index = X_train_num_scaled.columns)\n",
    "selected_features"
   ]
  },
  {
   "cell_type": "markdown",
   "metadata": {},
   "source": [
    "### 4.2.3. Feature Importance - Decision Tree <a class=\"anchor\" id=\"sub_section_4_2_3\"></a>\n",
    " [Back to 4.2. Numerical Features](#section_4_2)<br>\n",
    "\n"
   ]
  },
  {
   "cell_type": "code",
   "execution_count": null,
   "metadata": {},
   "outputs": [],
   "source": [
    "from utils import compare_feature_importances"
   ]
  },
  {
   "cell_type": "code",
   "execution_count": null,
   "metadata": {},
   "outputs": [
    {
     "data": {
      "image/png": "[encoded data removed]",
      "text/plain": [
       "<Figure size 1300x500 with 1 Axes>"
      ]
     },
     "metadata": {},
     "output_type": "display_data"
    },
    {
     "name": "stdout",
     "output_type": "stream",
     "text": [
      "       gini   entropy               col\n",
      "0  0.070846  0.072446     Age at Injury\n",
      "1  0.224977  0.215043       IME-4 Count\n",
      "2  0.025315  0.026075  Accident_Quarter\n",
      "3  0.030418  0.030443     Accident_Year\n",
      "4  0.035499  0.036825      Accident Day\n"
     ]
    }
   ],
   "source": [
    "# Call the function with your training data\n",
    "zippy = compare_feature_importances(X_train_num_scaled, y_train_encoded)\n",
    "\n",
    "# Access the DataFrame for further analysis if needed\n",
    "print(zippy.head())"
   ]
  },
  {
   "cell_type": "markdown",
   "metadata": {},
   "source": [
    "### 4.2.4. Feature Importance - Random Forest <a class=\"anchor\" id=\"sub_section_4_2_4\"></a>\n",
    "\n",
    " [Back to 4.2. Numerical Features](#section_4_2)<br>\n"
   ]
  },
  {
   "cell_type": "code",
   "execution_count": null,
   "metadata": {},
   "outputs": [
    {
     "data": {
      "image/png": "[encoded data removed]",
      "text/plain": [
       "<Figure size 1300x500 with 1 Axes>"
      ]
     },
     "metadata": {},
     "output_type": "display_data"
    },
    {
     "name": "stdout",
     "output_type": "stream",
     "text": [
      "       gini   entropy               col\n",
      "0  0.069093  0.069255     Age at Injury\n",
      "1  0.210673  0.191421       IME-4 Count\n",
      "2  0.027471  0.028503  Accident_Quarter\n",
      "3  0.035252  0.033123     Accident_Year\n",
      "4  0.037654  0.038482      Accident Day\n"
     ]
    }
   ],
   "source": [
    "# Call the function with your training data\n",
    "importances = compare_rf_feature_importances(X_train_num_scaled, y_train_encoded)\n",
    "\n",
    "# Access the DataFrame for further analysis if needed\n",
    "print(importances.head())"
   ]
  },
  {
   "cell_type": "markdown",
   "metadata": {},
   "source": [
    "## 4.3. Categorical Features</b> <a class=\"anchor\" id=\"section_4_3\"></a>\n",
    "[Back to 4. Feature Selection](#chapter4)<br>\n",
    "\n",
    "Chi-squared and MIC for the categorical ones."
   ]
  },
  {
   "cell_type": "code",
   "execution_count": null,
   "metadata": {},
   "outputs": [],
   "source": [
    "X_train_mic_chi2 = X_train[feature_categories['categorical'] + feature_categories['binary']]"
   ]
  },
  {
   "cell_type": "code",
   "execution_count": null,
   "metadata": {},
   "outputs": [
    {
     "data": {
      "text/plain": [
       "(107552, 11)"
      ]
     },
     "metadata": {},
     "output_type": "display_data"
    }
   ],
   "source": [
    "X_train_mic_chi2.shape"
   ]
  },
  {
   "cell_type": "code",
   "execution_count": null,
   "metadata": {},
   "outputs": [
    {
     "data": {
      "text/plain": [
       "Index(['Income_Category', 'Age Group', 'promptness_category',\n",
       "       'promptness_C2_category', 'promptness_C3_category', 'Industry Risk',\n",
       "       'Gender_M', 'Gender_U', 'Medical Fee Region_II',\n",
       "       'Medical Fee Region_III', 'Medical Fee Region_UK'],\n",
       "      dtype='object')"
      ]
     },
     "metadata": {},
     "output_type": "display_data"
    }
   ],
   "source": [
    "X_train_mic_chi2.columns"
   ]
  },
  {
   "cell_type": "markdown",
   "metadata": {},
   "source": [
    " ### 4.3.1. $\\chi ^2$ Test for Independence <a class=\"anchor\" id=\"sub_section_4_3_1\"></a>\n",
    "\n",
    "[Back to 4.3. Categorical Features](#section_4_3)<br>\n",
    "\n",
    "\n",
    "The Chi-squared test helps us identify the most relevant categorical and binary features by evaluating their independence with the target variable. "
   ]
  },
  {
   "cell_type": "code",
   "execution_count": null,
   "metadata": {},
   "outputs": [],
   "source": [
    "from utils import select_high_score_features_chi2_no_model"
   ]
  },
  {
   "cell_type": "code",
   "execution_count": null,
   "metadata": {},
   "outputs": [
    {
     "name": "stdout",
     "output_type": "stream",
     "text": [
      "Top 6 features based on Chi-square scores: ['Income_Category', 'promptness_category', 'promptness_C3_category', 'promptness_C2_category', 'Age Group', 'Gender_M']\n",
      "Corresponding Chi-square scores: [4095.583424854009, 3787.4474383406755, 2565.761072508193, 2148.3670266827585, 1048.3856355474622, 485.29070593130666]\n"
     ]
    }
   ],
   "source": [
    "# Example usage\n",
    "high_score_features_chi2, scores = select_high_score_features_chi2_no_model(\n",
    "    X_train_mic_chi2, \n",
    "    y_train_encoded, \n",
    "    threshold=6\n",
    ")"
   ]
  },
  {
   "cell_type": "code",
   "execution_count": null,
   "metadata": {},
   "outputs": [
    {
     "data": {
      "text/plain": [
       "['Income_Category',\n",
       " 'promptness_category',\n",
       " 'promptness_C3_category',\n",
       " 'promptness_C2_category',\n",
       " 'Age Group',\n",
       " 'Gender_M']"
      ]
     },
     "metadata": {},
     "output_type": "display_data"
    }
   ],
   "source": [
    "high_score_features_chi2"
   ]
  },
  {
   "cell_type": "markdown",
   "metadata": {},
   "source": [
    " ### 4.3.2. Mutual Information Criterion (MIC) <a class=\"anchor\" id=\"sub_section_4_3_2\"></a>\n",
    "\n",
    " [Back to 4.3. Categorical Features](#section_4_3)<br>\n",
    " \n",
    "\n",
    "The Mutual Information Criterion is used to measure the dependence between each feature and the target variable. By setting a threshold, we retain only the most relevant features."
   ]
  },
  {
   "cell_type": "code",
   "execution_count": null,
   "metadata": {},
   "outputs": [],
   "source": [
    "from utils import select_high_score_features_MIC"
   ]
  },
  {
   "cell_type": "code",
   "execution_count": null,
   "metadata": {},
   "outputs": [
    {
     "name": "stdout",
     "output_type": "stream",
     "text": [
      "Top 6 features based on MIC scores: ['promptness_C2_category', 'Income_Category', 'promptness_C3_category', 'promptness_category', 'Age Group', 'Industry Risk']\n",
      "Corresponding MIC scores: [0.14224213172462363, 0.10287338902130827, 0.091720758437708, 0.056213087991966226, 0.016849447952538066, 0.00926225598319852]\n"
     ]
    }
   ],
   "source": [
    "# Example usage\n",
    "high_score_features_MIC, scores_MIC = select_high_score_features_MIC(\n",
    "    X_train_mic_chi2, \n",
    "    y_train_encoded, \n",
    "    threshold=6, \n",
    "    random_state=42)"
   ]
  },
  {
   "cell_type": "code",
   "execution_count": null,
   "metadata": {},
   "outputs": [
    {
     "data": {
      "text/plain": [
       "(107552, 11)"
      ]
     },
     "metadata": {},
     "output_type": "display_data"
    }
   ],
   "source": [
    "X_train_mic_chi2.shape"
   ]
  },
  {
   "cell_type": "code",
   "execution_count": null,
   "metadata": {},
   "outputs": [
    {
     "data": {
      "text/plain": [
       "['promptness_C2_category',\n",
       " 'Income_Category',\n",
       " 'promptness_C3_category',\n",
       " 'promptness_category',\n",
       " 'Age Group',\n",
       " 'Industry Risk']"
      ]
     },
     "metadata": {},
     "output_type": "display_data"
    }
   ],
   "source": [
    "high_score_features_MIC"
   ]
  },
  {
   "cell_type": "markdown",
   "metadata": {},
   "source": [
    "**Intersection of Selected Features by Chi-squared and MIC** <br>\n",
    "To identify the most relevant categorical features, we take the intersection of features selected by both Chi-squared and MIC methods."
   ]
  },
  {
   "cell_type": "code",
   "execution_count": null,
   "metadata": {},
   "outputs": [
    {
     "data": {
      "text/plain": [
       "['Age Group',\n",
       " 'promptness_C3_category',\n",
       " 'promptness_category',\n",
       " 'promptness_C2_category',\n",
       " 'Income_Category']"
      ]
     },
     "metadata": {},
     "output_type": "display_data"
    }
   ],
   "source": [
    "# Find common features between Chi-squared and MIC selections\n",
    "common_categorical_features = list(set(high_score_features_chi2).intersection(set(high_score_features_MIC)))\n",
    "features_selected = common_categorical_features  # Final list of selected features\n",
    "features_selected  # Display the list of intersected features"
   ]
  },
  {
   "cell_type": "markdown",
   "metadata": {},
   "source": [
    "## 4.4. Final Features</b> <a class=\"anchor\" id=\"section_4_4\"></a>\n",
    "[Back to 4. Feature Selection](#chapter4)<br>\n",
    "\n",
    "The following table evaluates all numerical features using multiple feature selection techniques: Spearman Correlation, LASSO Regression, RFE, Decision Tree, and Random Forest. Based on these combined insights, a final decision is provided in the \"What to do?\" column."
   ]
  },
  {
   "cell_type": "markdown",
   "metadata": {},
   "source": [
    "\n",
    "| **Predictor**                 | **LASSO**         | **RFE**            | **Decision Tree Importance**   | **Random Forest Importance**  | **What to do?**               |\n",
    "|-------------------------------|-------------------|--------------------|--------------------------------|--------------------------------|--------------------------------|\n",
    "| Carrier Type Merged_freq      | Keep              | Discard               | Low                            | Low                          | Consider include in model                       |\n",
    "| Carrier_Name_Simplified_freq  | Discard              | Discard               | Low                            | Low                            | Discard                       |\n",
    "| Injury_Nature_Category_freq    | Keep           | Discard               | Keep                            | Low                            | Include                       |\n",
    "| District Name_freq            | Discard           | Discard               | Low                            | Low                            | Discard                       |\n",
    "| Accident_Quarter              | Discard           | Discard               | Low                            | Low                            | Discard                       |\n",
    "| Accident_Year                 |Discard           | Discard               | Low                            | Low                            | Discard                       |\n",
    "| Zip_Code_Simplified_freq      |Discard           | Discard               | Low                            | Low                            | Discard                       |\n",
    "| WCIO Cause of Injury Code_freq| Discard           | Discard               | Low                           | Low                           | Discard              |\n",
    "| Accident Day                  | Discard           | Discard             | Low                           | Low                            | Discard                       |\n",
    "| Industry Code_freq            | Keep               | Discard              | Low                           | Low                            | Include                       |\n",
    "| Body_Part_Category_freq       | Keep                | Keep               | Low                            | Keep                            | Include                       |\n",
    "| WCIO Part Of Body Code_freq |  Discard           | Discard               | Low                            | Low                            | Discard                       |\n",
    "| WCIO Nature of Injury Code_freq| Discard           | Keep               | Low                            | Low                            | Consider include in model                       |\n",
    "| Carrier Name_freq             | Keep              | Discard               | Low                           | Low                           | Discard                       |\n",
    "| Salary_Per_Dependent          | Keep              | Discard               | Keep                           | Keep                           | Include                       |\n",
    "| County of Injury_freq         | Discard           | Discard               | Low                           | Low                           | Discard                       |\n",
    "| Age at Injury                 | Keep              | Discard               | Keep                           | Keep                           | Include                       |\n",
    "| IME-4 Count                   | Keep              | Keep               | Keep                           | Keep                           | Include                       |"
   ]
  },
  {
   "cell_type": "markdown",
   "metadata": {},
   "source": [
    "### **Categorical Feature Selection Results**\n",
    "\n",
    "The following table summarizes the decisions for each categorical feature based on **Mutual Information (MIC)** and **Chi-Squared** (X²) results. The retained features will be used in subsequent modeling to enhance predictive performance.\n",
    "\n",
    "| **Feature**              | **X² Results**          | **MIC Results**         | **Decision**               |\n",
    "|---------------------------|-------------------------|-------------------------|----------------------------|\n",
    "| promptness_C2_category | Keep                  | Keep                  | Include               |\n",
    "| promptness_category    | Keep                 | Keep                       | Include                |\n",
    "| promptness_C3_category | Keep                       | Keep                  | Include                |\n",
    "| Age Group              | Keep                  | Keep                  | Include                |\n",
    "| Income_Category        | Keep                  | Keep                  | Include                |\n",
    "| Industry Risk         |                        | Keep                  | Consider include in model                |\n",
    "| Gender_M               | Keep                  | -                   | Consider include in model                |\n",
    "| Gender_U               | -                       | -                       | Exclude          |\n",
    "| Medical Fee Region_II  | -                       | -                       | Exclude               |\n",
    "| Medical Fee Region_III | -                       | -                       | Exclude               |\n",
    "| Medical Fee Region_UK  | -                       | -                       | Exclude                |\n"
   ]
  },
  {
   "cell_type": "code",
   "execution_count": null,
   "metadata": {},
   "outputs": [
    {
     "data": {
      "text/plain": [
       "['Age at Injury',\n",
       " 'IME-4 Count',\n",
       " 'Accident_Quarter',\n",
       " 'Accident_Year',\n",
       " 'Accident Day',\n",
       " 'Salary_Per_Dependent',\n",
       " 'Carrier_Name_Simplified_freq',\n",
       " 'Zip_Code_Simplified_freq',\n",
       " 'Industry Code_freq',\n",
       " 'County of Injury_freq',\n",
       " 'District Name_freq',\n",
       " 'WCIO Cause of Injury Code_freq',\n",
       " 'WCIO Nature of Injury Code_freq',\n",
       " 'WCIO Part Of Body Code_freq',\n",
       " 'Carrier Name_freq',\n",
       " 'Body_Part_Category_freq',\n",
       " 'Injury_Nature_Category_freq',\n",
       " 'Carrier Type Merged_freq']"
      ]
     },
     "metadata": {},
     "output_type": "display_data"
    }
   ],
   "source": [
    "numerical_features"
   ]
  },
  {
   "cell_type": "code",
   "execution_count": null,
   "metadata": {},
   "outputs": [
    {
     "name": "stdout",
     "output_type": "stream",
     "text": [
      "X_train_final shape: (107552, 11)\n",
      "X_val_final shape: (26887, 11)\n",
      "X_test_final shape: (387975, 11)\n"
     ]
    }
   ],
   "source": [
    "final_features = [\n",
    "    # Categorical features selected through MIC and chi2\n",
    "    'Age Group', 'promptness_C3_category', 'promptness_category',\n",
    "    'promptness_C2_category', 'Income_Category',\n",
    "    # Important numerical features\n",
    "    'Injury_Nature_Category_freq','Industry Code_freq', 'Body_Part_Category_freq',\n",
    "    'Salary_Per_Dependent', 'Age at Injury', 'IME-4 Count']\n",
    "\n",
    "\n",
    "# Extracting the final features from the processed datasets\n",
    "X_train_final = X_train[final_features]\n",
    "X_val_final = X_val[final_features]\n",
    "X_test_final = df_test[final_features]\n",
    "\n",
    "# Print the shape of the final datasets to confirm consistency\n",
    "print(f\"X_train_final shape: {X_train_final.shape}\")\n",
    "print(f\"X_val_final shape: {X_val_final.shape}\")\n",
    "print(f\"X_test_final shape: {X_test_final.shape}\")"
   ]
  },
  {
   "cell_type": "markdown",
   "metadata": {},
   "source": [
    "# 5. Modelling <a class=\"anchor\" id=\"chapter5\"></a>\n",
    "[Back to ToC](#toc)<br>\n",
    "\n",
    "In this section, we focus on predicting the minority classes in our dataset. Since minority class prediction is often challenging due to imbalanced data, we prioritize models that handle such scenarios effectively. The chosen models include ensemble techniques like Random Forest and Gradient Boosting, known for their robustness in classification tasks, along with specialized algorithms like CatBoost and LightGBM, which are designed to handle categorical data efficiently and provide strong performance on imbalanced datasets.\n",
    "\n",
    "## 5.1. Simple Models </b> <a class=\"anchor\" id=\"section_5_1\"></a>\n",
    "\n",
    "[Back to 5. Modelling](#chapter5)<br>\n",
    "\n",
    "Simple models serve as the foundation for understanding the problem and establishing a baseline for performance. These algorithms are straightforward to implement and interpret, making them ideal for initial evaluations, even in imbalanced datasets. In this section, we explore Logistic Regression, Decision Trees, and K-Nearest Neighbors (KNN) classifiers.\n",
    "\n",
    "\n",
    "### 5.1.1. Logistic Regression <a class=\"anchor\" id=\"sub_section_5_1_1\"></a>\n",
    "\n",
    "[Back to 5.1. Simple Models](#section_5_1)<br>\n",
    "\n",
    "Logistic Regression is a simple yet effective model for binary classification tasks. While not tailored for imbalanced datasets, it serves as a baseline to compare more sophisticated methods. while Logistic Regression might not be ideal for imbalanced data, it’s included in the analysis to serve as a benchmark and provide a simple, interpretable comparison point."
   ]
  },
  {
   "cell_type": "code",
   "execution_count": null,
   "metadata": {},
   "outputs": [
    {
     "name": "stdout",
     "output_type": "stream",
     "text": [
      "___________________________________________________________________________________________________________\n",
      "                                                     TRAIN                                                 \n",
      "-----------------------------------------------------------------------------------------------------------\n",
      "              precision    recall  f1-score   support\n",
      "\n",
      "           0       0.72      0.61      0.66      9980\n",
      "           1       0.70      0.83      0.76     55125\n",
      "           2       0.70      0.59      0.64     38624\n",
      "           3       0.48      0.09      0.15      3369\n",
      "           4       0.00      0.00      0.00        78\n",
      "           5       0.00      0.00      0.00       376\n",
      "\n",
      "    accuracy                           0.70    107552\n",
      "   macro avg       0.43      0.35      0.37    107552\n",
      "weighted avg       0.69      0.70      0.69    107552\n",
      "\n",
      "___________________________________________________________________________________________________________\n",
      "                                                VALIDATION                                                 \n",
      "-----------------------------------------------------------------------------------------------------------\n",
      "              precision    recall  f1-score   support\n",
      "\n",
      "           0       0.73      0.61      0.67      2495\n",
      "           1       0.70      0.83      0.76     13781\n",
      "           2       0.70      0.60      0.65      9656\n",
      "           3       0.49      0.08      0.14       842\n",
      "           4       0.00      0.00      0.00        19\n",
      "           5       0.00      0.00      0.00        94\n",
      "\n",
      "    accuracy                           0.70     26887\n",
      "   macro avg       0.44      0.35      0.37     26887\n",
      "weighted avg       0.70      0.70      0.69     26887\n",
      "\n"
     ]
    },
    {
     "data": {
      "image/png": "[encoded data removed]",
      "text/plain": [
       "<Figure size 1000x400 with 2 Axes>"
      ]
     },
     "metadata": {},
     "output_type": "display_data"
    }
   ],
   "source": [
    "# Record the start time\n",
    "start_time = time.time()\n",
    "\n",
    "lr_model = LogisticRegression(random_state=42, max_iter=500)\n",
    "\n",
    "# Fit the model to the training data\n",
    "lr_model.fit(X_train_final, y_train_encoded)\n",
    "\n",
    "# Predict on the training and validation data\n",
    "y_pred_lr_train = lr_model.predict(X_train_final)\n",
    "y_pred_lr_val = lr_model.predict(X_val_final)\n",
    "\n",
    "# Evaluate the model\n",
    "metrics(y_train_encoded, y_pred_lr_train, y_val_encoded, y_pred_lr_val)\n",
    "\n",
    "# Record the end time and calculate duration\n",
    "end_time = time.time()\n",
    "print(f\"Time taken to run the cell: {end_time - start_time:.2f} seconds\")\n"
   ]
  },
  {
   "cell_type": "code",
   "execution_count": null,
   "metadata": {},
   "outputs": [
    {
     "data": {
      "text/plain": [
       "107552"
      ]
     },
     "metadata": {},
     "output_type": "display_data"
    }
   ],
   "source": [
    "len(y_train_encoded)"
   ]
  },
  {
   "cell_type": "code",
   "execution_count": null,
   "metadata": {},
   "outputs": [
    {
     "data": {
      "text/plain": [
       "26887"
      ]
     },
     "metadata": {},
     "output_type": "display_data"
    }
   ],
   "source": [
    "len(y_val_encoded)"
   ]
  },
  {
   "cell_type": "markdown",
   "metadata": {},
   "source": [
    "# 6. Loading the Results <a class=\"anchor\" id=\"chapter6\"></a>\n",
    "\n",
    "[Back to ToC](#toc)<br>\n"
   ]
  },
  {
   "cell_type": "code",
   "execution_count": null,
   "metadata": {},
   "outputs": [],
   "source": []
  }
 ],
 "metadata": {
  "kernelspec": {
   "display_name": "Python 3",
   "language": "python",
   "name": "python3"
  },
  "language_info": {
   "codemirror_mode": {
    "name": "ipython",
    "version": 3
   },
   "file_extension": ".py",
   "mimetype": "text/x-python",
   "name": "python",
   "nbconvert_exporter": "python",
   "pygments_lexer": "ipython3",
   "version": "3.11.3"
  }
 },
 "nbformat": 4,
 "nbformat_minor": 2
}
