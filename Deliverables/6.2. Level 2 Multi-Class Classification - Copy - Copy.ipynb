{
 "cells": [
  {
   "cell_type": "markdown",
   "metadata": {},
   "source": [
    "# **<h3 align=\"center\">Machine Learning - Project</h3>**\n",
    "## **<h3 align=\"center\">6. Level 2 Multi-Class Classification</h3>**\n",
    "### **<h3 align=\"center\">Group 30 - Project</h3>**\n",
    "\n",
    "\n",
    "### Group Members\n",
    "| Name              | Email                        | Student ID |\n",
    "|-------------------|------------------------------|------------|\n",
    "| Alexandra Pinto   | 20211599@novaims.unl.pt      | 20211599   |\n",
    "| Gonçalo Peres     | 20211625@novaims.unl.pt      | 20211625   |\n",
    "| Leonor Mira       | 20240658@novaims.unl.pt      | 20240658   |\n",
    "| Miguel Natário    | 20240498@novaims.unl.pt      | 20240498   |\n",
    "| Nuno Bernardino   | 20211546@novaims.unl.pt      | 20211546    |"
   ]
  },
  {
   "cell_type": "markdown",
   "metadata": {},
   "source": [
    "---\n",
    "\n",
    "### **6. Level 2 Multi-Class Classification Notebook**\n",
    "**Description:**\n",
    "This notebook handles the **Level 2 Multi-Class Classification model**, which processes cases classified as \"Other\" in Level 1 and assigns them to their specific class among the rarer categories.\n",
    "\n",
    "Key steps include:\n",
    "- Loading the subset of “**Other**” cases from Level 1 predictions.\n",
    "- **Feature selection:** Focus on features relevant for differentiating between the rare classes.\n",
    "- **Model training:** Train and evaluate a multi-class classification model to predict the specific class of these cases.\n",
    "- **Evaluation:** Use multi-class metrics like accuracy, macro-averaged F1-score, and confusion matrices.\n",
    "- **Output:** Save predictions for merging in the final pipeline.\n",
    "\n",
    "This notebook specializes in handling the complexity of rare classes, ensuring that all cases are correctly classified.\n",
    "\n",
    "---"
   ]
  },
  {
   "cell_type": "markdown",
   "metadata": {},
   "source": [
    "<a id = \"toc\"></a>\n",
    "\n",
    "## Table of Contents\n",
    "* [1. Import the Libraries](#chapter1)\n",
    "* [2. Load and Prepare Datasets](#chapter2)\n",
    "* [3. Setting the Target](#chapter3)\n",
    "* [4. Feature Selection](#chapter4)\n",
    "    * [4.1. Preparing the Data](#section_4_1)  \n",
    "    * [4.2. Numerical Features](#section_4_2) \n",
    "        * [4.2.1. LASSO Regression](#section_4_2_1)\n",
    "        * [4.2.2. Recursive Feature Elimination - RFE](#section_4_2_2)\n",
    "        * [4.2.3. Feature Importance - Decision Tree](#section_4_2_3)\n",
    "        * [4.2.4. Feature Importance - Random Forest](#section_4_2_4)\n",
    "    * [4.3. Categorical Features](#section_4_3)\n",
    "        * [4.3.1. $\\chi ^2$ Test for Independence](#section_4_3_1)\n",
    "        * [4.3.2. Mutual Information Criterion (MIC)](#section_4_3_2)\n",
    "    * [4.4. Final Features](#section_4_4)\n",
    "* [5. Modelling](#chapter5)\n",
    "  * [5.1. Simple Models](#section_5_1)\n",
    "    * [5.1.1. Logistic Regression](#section_5_1_1)\n",
    "    * [5.1.2. Decision Trees](#section_5_1_2)\n",
    "    * [5.1.3. K-Nearest Neighbors (KNN)](#section_5_1_3)\n",
    "  * [5.2. Deep Learning Models](#section_5_2)\n",
    "    * [5.2.1. Feedforward Neural Networks (FNN)](#section_5_2_1)\n",
    "  * [5.3. Ensemble Models](#section_5_3)\n",
    "    * [5.3.1. Bagging (Random Forest)](#section_5_3_1)\n",
    "    * [5.3.2. Boosting (XGBoost, CatBoost, LightGBM)](#section_5_3_2)\n",
    "    * [5.3.3. Stacking](#section_5_3_3)\n",
    "* [6. Loading the Results](#chapter6)"
   ]
  },
  {
   "cell_type": "markdown",
   "metadata": {},
   "source": [
    "# 1. Import the Libraries 📚<a class=\"anchor\" id=\"chapter1\"></a>\n",
    "\n",
    "[Back to ToC](#toc)<br>"
   ]
  },
  {
   "cell_type": "code",
   "execution_count": 27,
   "metadata": {},
   "outputs": [],
   "source": [
    "# --- Standard Libraries ---\n",
    "import pandas as pd\n",
    "import numpy as np\n",
    "import pickle\n",
    "import time\n",
    "\n",
    "# --- Scikit-Learn Modules for Data Partitioning and Preprocessing ---\n",
    "from sklearn.preprocessing import LabelEncoder, StandardScaler\n",
    "\n",
    "# Wrapper Methods and Modeling\n",
    "from sklearn.linear_model import LogisticRegression\n",
    "from sklearn.feature_selection import RFE\n",
    "from sklearn.ensemble import RandomForestClassifier\n",
    "from sklearn.tree import DecisionTreeClassifier\n",
    "from catboost import CatBoostClassifier\n",
    "from xgboost import XGBClassifier\n",
    "\n",
    "# Embedded Methods\n",
    "from sklearn.linear_model import LassoCV\n",
    "\n",
    "# --- Warnings ---\n",
    "import warnings\n",
    "warnings.filterwarnings('ignore')\n",
    "\n",
    "\n",
    "#Import from utils the used functions\n",
    "from utils import plot_importance, cor_heatmap, find_optimal_features_with_rfe, compare_rf_feature_importances\n",
    "from utils import compare_feature_importances, select_high_score_features_chi2_no_model, select_high_score_features_MIC, metrics"
   ]
  },
  {
   "cell_type": "markdown",
   "metadata": {},
   "source": [
    "In this topic we will also import the pre-saved feature categories dictionary from Notebook 3, ensuring consistency in feature grouping for feature selection and modeling."
   ]
  },
  {
   "cell_type": "code",
   "execution_count": 28,
   "metadata": {},
   "outputs": [],
   "source": [
    "# Load the feature categories dictionary\n",
    "feature_categories_file = \"feature_categories.pkl\"\n",
    "with open(feature_categories_file, \"rb\") as file:\n",
    "    feature_categories = pickle.load(file)"
   ]
  },
  {
   "cell_type": "markdown",
   "metadata": {},
   "source": [
    "# 2. Load and Prepare Datasets 📁<a class=\"anchor\" id=\"chapter2\"></a>\n",
    "\n",
    "[Back to ToC](#toc)<br>\n",
    "\n",
    "Now that we preprocessed the dataset in notebook 3. we will upload those datasets"
   ]
  },
  {
   "cell_type": "code",
   "execution_count": 29,
   "metadata": {},
   "outputs": [],
   "source": [
    "#Import the datasets\n",
    "X_train = pd.read_csv(\"../processed_datasets/X_train_model.csv\", index_col=\"Claim Identifier\")\n",
    "X_val = pd.read_csv(\"../processed_datasets/X_val_model.csv\", index_col=\"Claim Identifier\")\n",
    "df_test = pd.read_csv(\"../Data_Temporary/df_test_predictions_not5.csv\", index_col=\"Claim Identifier\")"
   ]
  },
  {
   "cell_type": "code",
   "execution_count": 30,
   "metadata": {},
   "outputs": [
    {
     "data": {
      "text/html": [
       "<div>\n",
       "<style scoped>\n",
       "    .dataframe tbody tr th:only-of-type {\n",
       "        vertical-align: middle;\n",
       "    }\n",
       "\n",
       "    .dataframe tbody tr th {\n",
       "        vertical-align: top;\n",
       "    }\n",
       "\n",
       "    .dataframe thead th {\n",
       "        text-align: right;\n",
       "    }\n",
       "</style>\n",
       "<table border=\"1\" class=\"dataframe\">\n",
       "  <thead>\n",
       "    <tr style=\"text-align: right;\">\n",
       "      <th></th>\n",
       "      <th>Age at Injury</th>\n",
       "      <th>IME-4 Count</th>\n",
       "      <th>Agreement Reached</th>\n",
       "      <th>Income_Category</th>\n",
       "      <th>Accident_Quarter</th>\n",
       "      <th>Accident_Year</th>\n",
       "      <th>Accident Day</th>\n",
       "      <th>Age Group</th>\n",
       "      <th>promptness_category</th>\n",
       "      <th>promptness_C2_category</th>\n",
       "      <th>...</th>\n",
       "      <th>Industry Code_freq</th>\n",
       "      <th>County of Injury_freq</th>\n",
       "      <th>District Name_freq</th>\n",
       "      <th>WCIO Cause of Injury Code_freq</th>\n",
       "      <th>WCIO Nature of Injury Code_freq</th>\n",
       "      <th>WCIO Part Of Body Code_freq</th>\n",
       "      <th>Carrier Name_freq</th>\n",
       "      <th>Body_Part_Category_freq</th>\n",
       "      <th>Injury_Nature_Category_freq</th>\n",
       "      <th>Carrier Type Merged_freq</th>\n",
       "    </tr>\n",
       "    <tr>\n",
       "      <th>Claim Identifier</th>\n",
       "      <th></th>\n",
       "      <th></th>\n",
       "      <th></th>\n",
       "      <th></th>\n",
       "      <th></th>\n",
       "      <th></th>\n",
       "      <th></th>\n",
       "      <th></th>\n",
       "      <th></th>\n",
       "      <th></th>\n",
       "      <th></th>\n",
       "      <th></th>\n",
       "      <th></th>\n",
       "      <th></th>\n",
       "      <th></th>\n",
       "      <th></th>\n",
       "      <th></th>\n",
       "      <th></th>\n",
       "      <th></th>\n",
       "      <th></th>\n",
       "      <th></th>\n",
       "    </tr>\n",
       "  </thead>\n",
       "  <tbody>\n",
       "    <tr>\n",
       "      <th>6099734</th>\n",
       "      <td>67</td>\n",
       "      <td>4.0</td>\n",
       "      <td>0.0</td>\n",
       "      <td>1</td>\n",
       "      <td>3</td>\n",
       "      <td>2022</td>\n",
       "      <td>3</td>\n",
       "      <td>1</td>\n",
       "      <td>3</td>\n",
       "      <td>3</td>\n",
       "      <td>...</td>\n",
       "      <td>34856</td>\n",
       "      <td>34897</td>\n",
       "      <td>216798</td>\n",
       "      <td>9648</td>\n",
       "      <td>44601</td>\n",
       "      <td>38469</td>\n",
       "      <td>11544</td>\n",
       "      <td>96343</td>\n",
       "      <td>404174</td>\n",
       "      <td>228492</td>\n",
       "    </tr>\n",
       "    <tr>\n",
       "      <th>5796182</th>\n",
       "      <td>30</td>\n",
       "      <td>0.0</td>\n",
       "      <td>0.0</td>\n",
       "      <td>1</td>\n",
       "      <td>3</td>\n",
       "      <td>2021</td>\n",
       "      <td>5</td>\n",
       "      <td>2</td>\n",
       "      <td>7</td>\n",
       "      <td>7</td>\n",
       "      <td>...</td>\n",
       "      <td>34856</td>\n",
       "      <td>13901</td>\n",
       "      <td>68763</td>\n",
       "      <td>6081</td>\n",
       "      <td>88312</td>\n",
       "      <td>15038</td>\n",
       "      <td>11163</td>\n",
       "      <td>96343</td>\n",
       "      <td>404174</td>\n",
       "      <td>228492</td>\n",
       "    </tr>\n",
       "  </tbody>\n",
       "</table>\n",
       "<p>2 rows × 30 columns</p>\n",
       "</div>"
      ],
      "text/plain": [
       "                  Age at Injury  IME-4 Count  Agreement Reached  \\\n",
       "Claim Identifier                                                  \n",
       "6099734                      67          4.0                0.0   \n",
       "5796182                      30          0.0                0.0   \n",
       "\n",
       "                  Income_Category  Accident_Quarter  Accident_Year  \\\n",
       "Claim Identifier                                                     \n",
       "6099734                         1                 3           2022   \n",
       "5796182                         1                 3           2021   \n",
       "\n",
       "                  Accident Day  Age Group  promptness_category  \\\n",
       "Claim Identifier                                                 \n",
       "6099734                      3          1                    3   \n",
       "5796182                      5          2                    7   \n",
       "\n",
       "                  promptness_C2_category  ...  Industry Code_freq  \\\n",
       "Claim Identifier                          ...                       \n",
       "6099734                                3  ...               34856   \n",
       "5796182                                7  ...               34856   \n",
       "\n",
       "                  County of Injury_freq  District Name_freq  \\\n",
       "Claim Identifier                                              \n",
       "6099734                           34897              216798   \n",
       "5796182                           13901               68763   \n",
       "\n",
       "                  WCIO Cause of Injury Code_freq  \\\n",
       "Claim Identifier                                   \n",
       "6099734                                     9648   \n",
       "5796182                                     6081   \n",
       "\n",
       "                  WCIO Nature of Injury Code_freq  \\\n",
       "Claim Identifier                                    \n",
       "6099734                                     44601   \n",
       "5796182                                     88312   \n",
       "\n",
       "                  WCIO Part Of Body Code_freq  Carrier Name_freq  \\\n",
       "Claim Identifier                                                   \n",
       "6099734                                 38469              11544   \n",
       "5796182                                 15038              11163   \n",
       "\n",
       "                  Body_Part_Category_freq  Injury_Nature_Category_freq  \\\n",
       "Claim Identifier                                                         \n",
       "6099734                             96343                       404174   \n",
       "5796182                             96343                       404174   \n",
       "\n",
       "                  Carrier Type Merged_freq  \n",
       "Claim Identifier                            \n",
       "6099734                             228492  \n",
       "5796182                             228492  \n",
       "\n",
       "[2 rows x 30 columns]"
      ]
     },
     "execution_count": 30,
     "metadata": {},
     "output_type": "execute_result"
    }
   ],
   "source": [
    "X_train.head(2)"
   ]
  },
  {
   "cell_type": "code",
   "execution_count": 31,
   "metadata": {},
   "outputs": [
    {
     "data": {
      "text/html": [
       "<div>\n",
       "<style scoped>\n",
       "    .dataframe tbody tr th:only-of-type {\n",
       "        vertical-align: middle;\n",
       "    }\n",
       "\n",
       "    .dataframe tbody tr th {\n",
       "        vertical-align: top;\n",
       "    }\n",
       "\n",
       "    .dataframe thead th {\n",
       "        text-align: right;\n",
       "    }\n",
       "</style>\n",
       "<table border=\"1\" class=\"dataframe\">\n",
       "  <thead>\n",
       "    <tr style=\"text-align: right;\">\n",
       "      <th></th>\n",
       "      <th>Age at Injury</th>\n",
       "      <th>IME-4 Count</th>\n",
       "      <th>Agreement Reached</th>\n",
       "      <th>Income_Category</th>\n",
       "      <th>Accident_Quarter</th>\n",
       "      <th>Accident_Year</th>\n",
       "      <th>Accident Day</th>\n",
       "      <th>Age Group</th>\n",
       "      <th>promptness_category</th>\n",
       "      <th>promptness_C2_category</th>\n",
       "      <th>...</th>\n",
       "      <th>Industry Code_freq</th>\n",
       "      <th>County of Injury_freq</th>\n",
       "      <th>District Name_freq</th>\n",
       "      <th>WCIO Cause of Injury Code_freq</th>\n",
       "      <th>WCIO Nature of Injury Code_freq</th>\n",
       "      <th>WCIO Part Of Body Code_freq</th>\n",
       "      <th>Carrier Name_freq</th>\n",
       "      <th>Body_Part_Category_freq</th>\n",
       "      <th>Injury_Nature_Category_freq</th>\n",
       "      <th>Carrier Type Merged_freq</th>\n",
       "    </tr>\n",
       "    <tr>\n",
       "      <th>Claim Identifier</th>\n",
       "      <th></th>\n",
       "      <th></th>\n",
       "      <th></th>\n",
       "      <th></th>\n",
       "      <th></th>\n",
       "      <th></th>\n",
       "      <th></th>\n",
       "      <th></th>\n",
       "      <th></th>\n",
       "      <th></th>\n",
       "      <th></th>\n",
       "      <th></th>\n",
       "      <th></th>\n",
       "      <th></th>\n",
       "      <th></th>\n",
       "      <th></th>\n",
       "      <th></th>\n",
       "      <th></th>\n",
       "      <th></th>\n",
       "      <th></th>\n",
       "      <th></th>\n",
       "    </tr>\n",
       "  </thead>\n",
       "  <tbody>\n",
       "    <tr>\n",
       "      <th>5730729</th>\n",
       "      <td>52</td>\n",
       "      <td>1.0</td>\n",
       "      <td>0.0</td>\n",
       "      <td>4</td>\n",
       "      <td>2</td>\n",
       "      <td>2021</td>\n",
       "      <td>1</td>\n",
       "      <td>0</td>\n",
       "      <td>7</td>\n",
       "      <td>7</td>\n",
       "      <td>...</td>\n",
       "      <td>73733</td>\n",
       "      <td>42680</td>\n",
       "      <td>216798</td>\n",
       "      <td>23476</td>\n",
       "      <td>122811</td>\n",
       "      <td>15038</td>\n",
       "      <td>88862.0</td>\n",
       "      <td>96343</td>\n",
       "      <td>404174</td>\n",
       "      <td>88862</td>\n",
       "    </tr>\n",
       "    <tr>\n",
       "      <th>6038049</th>\n",
       "      <td>28</td>\n",
       "      <td>0.0</td>\n",
       "      <td>0.0</td>\n",
       "      <td>1</td>\n",
       "      <td>2</td>\n",
       "      <td>2022</td>\n",
       "      <td>5</td>\n",
       "      <td>2</td>\n",
       "      <td>1</td>\n",
       "      <td>1</td>\n",
       "      <td>...</td>\n",
       "      <td>21175</td>\n",
       "      <td>42680</td>\n",
       "      <td>216798</td>\n",
       "      <td>8659</td>\n",
       "      <td>4398</td>\n",
       "      <td>6314</td>\n",
       "      <td>88862.0</td>\n",
       "      <td>45491</td>\n",
       "      <td>404174</td>\n",
       "      <td>88862</td>\n",
       "    </tr>\n",
       "  </tbody>\n",
       "</table>\n",
       "<p>2 rows × 30 columns</p>\n",
       "</div>"
      ],
      "text/plain": [
       "                  Age at Injury  IME-4 Count  Agreement Reached  \\\n",
       "Claim Identifier                                                  \n",
       "5730729                      52          1.0                0.0   \n",
       "6038049                      28          0.0                0.0   \n",
       "\n",
       "                  Income_Category  Accident_Quarter  Accident_Year  \\\n",
       "Claim Identifier                                                     \n",
       "5730729                         4                 2           2021   \n",
       "6038049                         1                 2           2022   \n",
       "\n",
       "                  Accident Day  Age Group  promptness_category  \\\n",
       "Claim Identifier                                                 \n",
       "5730729                      1          0                    7   \n",
       "6038049                      5          2                    1   \n",
       "\n",
       "                  promptness_C2_category  ...  Industry Code_freq  \\\n",
       "Claim Identifier                          ...                       \n",
       "5730729                                7  ...               73733   \n",
       "6038049                                1  ...               21175   \n",
       "\n",
       "                  County of Injury_freq  District Name_freq  \\\n",
       "Claim Identifier                                              \n",
       "5730729                           42680              216798   \n",
       "6038049                           42680              216798   \n",
       "\n",
       "                  WCIO Cause of Injury Code_freq  \\\n",
       "Claim Identifier                                   \n",
       "5730729                                    23476   \n",
       "6038049                                     8659   \n",
       "\n",
       "                  WCIO Nature of Injury Code_freq  \\\n",
       "Claim Identifier                                    \n",
       "5730729                                    122811   \n",
       "6038049                                      4398   \n",
       "\n",
       "                  WCIO Part Of Body Code_freq  Carrier Name_freq  \\\n",
       "Claim Identifier                                                   \n",
       "5730729                                 15038            88862.0   \n",
       "6038049                                  6314            88862.0   \n",
       "\n",
       "                  Body_Part_Category_freq  Injury_Nature_Category_freq  \\\n",
       "Claim Identifier                                                         \n",
       "5730729                             96343                       404174   \n",
       "6038049                             45491                       404174   \n",
       "\n",
       "                  Carrier Type Merged_freq  \n",
       "Claim Identifier                            \n",
       "5730729                              88862  \n",
       "6038049                              88862  \n",
       "\n",
       "[2 rows x 30 columns]"
      ]
     },
     "execution_count": 31,
     "metadata": {},
     "output_type": "execute_result"
    }
   ],
   "source": [
    "X_val.head(2)"
   ]
  },
  {
   "cell_type": "markdown",
   "metadata": {},
   "source": [
    "We will also upload the y train and y_val."
   ]
  },
  {
   "cell_type": "code",
   "execution_count": 32,
   "metadata": {},
   "outputs": [],
   "source": [
    "# Load the arrays\n",
    "y_train = np.load(\"../processed_datasets/y_train_preprocessed.npy\", allow_pickle=True)\n",
    "y_val =  np.load(\"../processed_datasets/y_val_preprocessed.npy\", allow_pickle=True)"
   ]
  },
  {
   "cell_type": "code",
   "execution_count": 33,
   "metadata": {},
   "outputs": [
    {
     "data": {
      "text/plain": [
       "array(['4. TEMPORARY', '3. MED ONLY', '2. NON-COMP', ..., '4. TEMPORARY',\n",
       "       '2. NON-COMP', '2. NON-COMP'], dtype=object)"
      ]
     },
     "execution_count": 33,
     "metadata": {},
     "output_type": "execute_result"
    }
   ],
   "source": [
    "y_train"
   ]
  },
  {
   "cell_type": "code",
   "execution_count": 34,
   "metadata": {},
   "outputs": [
    {
     "data": {
      "text/plain": [
       "array(['2. NON-COMP', '2. NON-COMP', '4. TEMPORARY', ..., '3. MED ONLY',\n",
       "       '4. TEMPORARY', '2. NON-COMP'], dtype=object)"
      ]
     },
     "execution_count": 34,
     "metadata": {},
     "output_type": "execute_result"
    }
   ],
   "source": [
    "y_val"
   ]
  },
  {
   "cell_type": "code",
   "execution_count": 35,
   "metadata": {},
   "outputs": [
    {
     "data": {
      "text/plain": [
       "2. NON-COMP     222416\n",
       "4. TEMPORARY    154506\n",
       "Name: Pred_notebook_5, dtype: int64"
      ]
     },
     "execution_count": 35,
     "metadata": {},
     "output_type": "execute_result"
    }
   ],
   "source": [
    "df_test['Pred_notebook_5'].value_counts()"
   ]
  },
  {
   "cell_type": "code",
   "execution_count": 36,
   "metadata": {},
   "outputs": [
    {
     "data": {
      "text/plain": [
       "(387975, 30)"
      ]
     },
     "execution_count": 36,
     "metadata": {},
     "output_type": "execute_result"
    }
   ],
   "source": [
    "df_test.shape"
   ]
  },
  {
   "cell_type": "code",
   "execution_count": 37,
   "metadata": {},
   "outputs": [
    {
     "data": {
      "text/plain": [
       "11053"
      ]
     },
     "execution_count": 37,
     "metadata": {},
     "output_type": "execute_result"
    }
   ],
   "source": [
    "df_test['Pred_notebook_5'].isna().sum() "
   ]
  },
  {
   "cell_type": "code",
   "execution_count": 38,
   "metadata": {},
   "outputs": [],
   "source": [
    "#Let's remove the column predictions from the df_test saving in a variable y_test\n",
    "y_test = df_test['Pred_notebook_5']\n",
    "df_test.drop('Pred_notebook_5', axis=1, inplace=True)"
   ]
  },
  {
   "cell_type": "markdown",
   "metadata": {},
   "source": [
    "# 3. Setting the Target <a class=\"anchor\" id=\"chapter3\"></a>\n",
    "[Back to ToC](#toc)<br>"
   ]
  },
  {
   "cell_type": "code",
   "execution_count": 39,
   "metadata": {},
   "outputs": [
    {
     "name": "stdout",
     "output_type": "stream",
     "text": [
      "Shape of X_train_min: (3823, 30)\n",
      "Shape of y_train_min: (3823,)\n"
     ]
    }
   ],
   "source": [
    "# Filtering out classes '2. NON-COMP' and '4. TEMPORARY'\n",
    "X_train_min = X_train[((y_train == '6. PPD NSL') | (y_train == '8. DEATH')| (y_train == '7. PTD'))]\n",
    "\n",
    "y_train_min = y_train[((y_train == '6. PPD NSL') | (y_train == '8. DEATH')| (y_train == '7. PTD'))]\n",
    "\n",
    "# Print the shapes to confirm the filtering\n",
    "print(\"Shape of X_train_min:\", X_train_min.shape)\n",
    "print(\"Shape of y_train_min:\", y_train_min.shape)"
   ]
  },
  {
   "cell_type": "code",
   "execution_count": 40,
   "metadata": {},
   "outputs": [
    {
     "name": "stdout",
     "output_type": "stream",
     "text": [
      "Shape of X_train_not_2_4: (955, 30)\n",
      "Shape of y_train_not_2_4: (955,)\n"
     ]
    }
   ],
   "source": [
    "# Filtering out classes '2. NON-COMP' and '4. TEMPORARY'\n",
    "X_val_min = X_val[((y_val == '6. PPD NSL') | (y_val == '8. DEATH')| (y_val == '7. PTD'))]\n",
    "\n",
    "y_val_min = y_val[((y_val == '6. PPD NSL') | (y_val == '8. DEATH')| (y_val == '7. PTD'))]\n",
    "\n",
    "# Print the shapes to confirm the filtering\n",
    "print(\"Shape of X_train_not_2_4:\", X_val_min.shape)\n",
    "print(\"Shape of y_train_not_2_4:\", y_val_min.shape)"
   ]
  },
  {
   "cell_type": "markdown",
   "metadata": {},
   "source": [
    "**Encoding the Target**"
   ]
  },
  {
   "cell_type": "code",
   "execution_count": 41,
   "metadata": {},
   "outputs": [],
   "source": [
    "# Create a LabelEncoder instance\n",
    "encoder = LabelEncoder()\n",
    "\n",
    "# Encode y_train_new and y_val_new\n",
    "y_train_encoded = encoder.fit_transform(y_train_min)  # Fit and transform on y_train_mapped\n",
    "y_val_encoded = encoder.transform(y_val_min)  # Only transform on y_train_mapped"
   ]
  },
  {
   "cell_type": "code",
   "execution_count": 42,
   "metadata": {},
   "outputs": [
    {
     "name": "stdout",
     "output_type": "stream",
     "text": [
      "[0 0 0 ... 0 0 0]\n"
     ]
    },
    {
     "data": {
      "text/plain": [
       "array([0, 0, 0, 0, 0, 0, 0, 0, 0, 1, 0, 0, 2, 0, 0, 0, 0, 2, 0, 0, 2, 0,\n",
       "       0, 0, 0, 0, 0, 0, 0, 0, 0, 0, 0, 0, 0, 0, 0, 0, 0, 0, 0, 0, 0, 0,\n",
       "       0, 0, 0, 0, 2, 2, 0, 0, 0, 0, 0, 0, 0, 0, 0, 0, 0, 2, 0, 0, 0, 0,\n",
       "       0, 0, 0, 0, 0, 0, 1, 0, 0, 0, 0, 1, 0, 0, 0, 0, 0, 0, 0, 0, 0, 0,\n",
       "       0, 0, 0, 0, 0, 0, 0, 1, 0, 2, 0, 0, 0, 0, 0, 0, 2, 0, 0, 2, 0, 0,\n",
       "       0, 0, 0, 0, 0, 0, 0, 0, 0, 0, 0, 0, 0, 0, 0, 0, 0, 0, 0, 0, 0, 0,\n",
       "       0, 0, 0, 0, 2, 2, 2, 0, 0, 0, 0, 0, 0, 0, 0, 0, 0, 0, 0, 2, 2, 0,\n",
       "       0, 0, 0, 0, 0, 0, 1, 0, 0, 0, 0, 2, 0, 0, 0, 0, 2, 2, 0, 0, 0, 0,\n",
       "       0, 0, 0, 2, 1, 0, 0, 0, 0, 0, 0, 0, 0, 2, 0, 0, 0, 0, 2, 1, 0, 0,\n",
       "       2, 0, 0, 0, 0, 0, 0, 2, 0, 0, 0, 2, 0, 0, 0, 0, 0, 0, 0, 0, 0, 0,\n",
       "       0, 1, 0, 1, 0, 1, 0, 0, 0, 0, 0, 0, 2, 2, 0, 0, 0, 2, 0, 0, 0, 0,\n",
       "       0, 1, 0, 0, 2, 0, 0, 0, 0, 0, 2, 0, 0, 0, 0, 0, 0, 0, 0, 0, 0, 0,\n",
       "       0, 0, 0, 0, 0, 0, 0, 0, 0, 0, 2, 0, 0, 0, 0, 0, 2, 0, 0, 0, 0, 0,\n",
       "       0, 0, 0, 0, 0, 0, 0, 0, 0, 0, 0, 0, 0, 0, 0, 0, 0, 2, 0, 0, 2, 0,\n",
       "       0, 0, 0, 0, 0, 2, 2, 0, 0, 0, 0, 0, 0, 0, 0, 0, 0, 0, 2, 0, 0, 0,\n",
       "       0, 0, 0, 0, 0, 0, 0, 0, 2, 0, 0, 0, 0, 0, 0, 0, 0, 0, 0, 2, 0, 0,\n",
       "       0, 0, 0, 0, 0, 2, 0, 0, 0, 0, 0, 0, 0, 0, 0, 0, 0, 0, 0, 0, 0, 0,\n",
       "       0, 0, 0, 0, 1, 0, 0, 0, 0, 2, 0, 0, 0, 0, 0, 0, 2, 0, 0, 0, 0, 0,\n",
       "       2, 0, 0, 0, 0, 0, 0, 0, 0, 0, 0, 0, 0, 2, 1, 0, 0, 0, 0, 0, 0, 0,\n",
       "       0, 0, 0, 0, 0, 0, 0, 0, 0, 0, 0, 0, 0, 0, 0, 0, 0, 0, 0, 0, 0, 0,\n",
       "       0, 0, 2, 0, 0, 0, 0, 0, 0, 2, 0, 0, 0, 0, 0, 0, 0, 0, 0, 2, 0, 0,\n",
       "       0, 0, 0, 0, 2, 0, 0, 0, 2, 0, 0, 0, 0, 0, 0, 0, 0, 0, 0, 0, 0, 0,\n",
       "       0, 0, 0, 0, 0, 0, 0, 0, 0, 0, 0, 0, 0, 0, 0, 0, 0, 2, 2, 1, 0, 0,\n",
       "       0, 0, 0, 0, 0, 0, 0, 0, 0, 0, 0, 0, 0, 0, 0, 0, 0, 2, 0, 2, 0, 0,\n",
       "       0, 0, 0, 0, 0, 0, 0, 0, 0, 0, 0, 0, 0, 0, 0, 1, 0, 0, 0, 0, 0, 2,\n",
       "       2, 0, 0, 0, 0, 0, 0, 0, 0, 2, 0, 0, 0, 2, 2, 0, 0, 0, 0, 0, 2, 0,\n",
       "       0, 0, 0, 0, 0, 0, 2, 0, 0, 0, 0, 2, 0, 0, 2, 2, 0, 0, 0, 0, 0, 0,\n",
       "       0, 0, 0, 0, 0, 0, 0, 0, 0, 0, 0, 0, 0, 0, 0, 2, 0, 0, 0, 0, 0, 0,\n",
       "       0, 0, 0, 0, 0, 0, 0, 0, 0, 0, 0, 0, 0, 0, 0, 0, 0, 0, 0, 0, 0, 0,\n",
       "       0, 0, 2, 0, 0, 0, 0, 2, 0, 0, 0, 0, 0, 0, 2, 0, 0, 0, 0, 0, 0, 0,\n",
       "       2, 2, 0, 0, 0, 0, 2, 0, 0, 2, 0, 0, 1, 0, 2, 0, 2, 0, 0, 0, 0, 1,\n",
       "       0, 0, 0, 0, 0, 0, 0, 0, 0, 0, 0, 0, 0, 0, 0, 2, 0, 0, 0, 0, 0, 2,\n",
       "       0, 0, 0, 0, 0, 0, 0, 0, 0, 0, 0, 0, 0, 0, 0, 0, 0, 0, 0, 0, 0, 0,\n",
       "       0, 0, 1, 0, 0, 0, 0, 0, 0, 0, 0, 0, 0, 0, 0, 0, 2, 0, 0, 0, 0, 0,\n",
       "       0, 0, 0, 0, 2, 0, 0, 0, 0, 0, 0, 0, 0, 0, 0, 0, 0, 0, 0, 0, 0, 0,\n",
       "       0, 2, 0, 0, 0, 0, 0, 0, 0, 0, 0, 0, 0, 0, 0, 0, 2, 0, 0, 0, 2, 0,\n",
       "       0, 0, 0, 0, 0, 0, 0, 1, 0, 0, 0, 0, 0, 0, 0, 2, 2, 0, 0, 0, 0, 0,\n",
       "       0, 2, 0, 0, 2, 0, 0, 0, 0, 0, 0, 2, 0, 0, 0, 0, 0, 0, 0, 0, 0, 0,\n",
       "       0, 0, 0, 0, 0, 0, 0, 0, 0, 0, 0, 0, 0, 2, 0, 0, 0, 0, 0, 0, 0, 0,\n",
       "       0, 0, 0, 0, 0, 0, 0, 0, 0, 0, 0, 0, 0, 0, 2, 0, 0, 0, 0, 0, 0, 0,\n",
       "       0, 0, 0, 0, 0, 0, 0, 0, 0, 0, 0, 0, 0, 0, 0, 0, 0, 0, 2, 0, 0, 2,\n",
       "       0, 0, 0, 0, 0, 0, 0, 0, 0, 0, 0, 2, 0, 0, 2, 0, 0, 0, 0, 0, 0, 0,\n",
       "       2, 0, 0, 0, 0, 0, 0, 0, 0, 0, 0, 0, 0, 2, 2, 0, 0, 0, 0, 0, 0, 2,\n",
       "       0, 0, 0, 0, 0, 0, 0, 0, 2])"
      ]
     },
     "execution_count": 42,
     "metadata": {},
     "output_type": "execute_result"
    }
   ],
   "source": [
    "# Verify that the target is encoded \n",
    "print(f'{y_train_encoded}')\n",
    "y_val_encoded"
   ]
  },
  {
   "cell_type": "markdown",
   "metadata": {},
   "source": [
    "# 4. Feature Selection <a class=\"anchor\" id=\"chapter4\"></a>\n",
    "\n",
    "[Back to ToC](#toc)<br>\n"
   ]
  },
  {
   "cell_type": "markdown",
   "metadata": {},
   "source": [
    "The feature selection process involves summarizing the essential features in the dataset to help the model focus on the most relevant information. Here, we assess the categorical and numerical variables in `X_val_min` by examining unique values, descriptive statistics, and verifying the correctness of categorical bins and continuous feature distributions."
   ]
  },
  {
   "cell_type": "code",
   "execution_count": 43,
   "metadata": {},
   "outputs": [
    {
     "data": {
      "text/html": [
       "<div>\n",
       "<style scoped>\n",
       "    .dataframe tbody tr th:only-of-type {\n",
       "        vertical-align: middle;\n",
       "    }\n",
       "\n",
       "    .dataframe tbody tr th {\n",
       "        vertical-align: top;\n",
       "    }\n",
       "\n",
       "    .dataframe thead th {\n",
       "        text-align: right;\n",
       "    }\n",
       "</style>\n",
       "<table border=\"1\" class=\"dataframe\">\n",
       "  <thead>\n",
       "    <tr style=\"text-align: right;\">\n",
       "      <th></th>\n",
       "      <th>count</th>\n",
       "      <th>mean</th>\n",
       "      <th>std</th>\n",
       "      <th>min</th>\n",
       "      <th>25%</th>\n",
       "      <th>50%</th>\n",
       "      <th>75%</th>\n",
       "      <th>max</th>\n",
       "    </tr>\n",
       "  </thead>\n",
       "  <tbody>\n",
       "    <tr>\n",
       "      <th>Age at Injury</th>\n",
       "      <td>955.0</td>\n",
       "      <td>47.877487</td>\n",
       "      <td>11.551664</td>\n",
       "      <td>19.0</td>\n",
       "      <td>40.0</td>\n",
       "      <td>48.0</td>\n",
       "      <td>57.000000</td>\n",
       "      <td>79.0</td>\n",
       "    </tr>\n",
       "    <tr>\n",
       "      <th>IME-4 Count</th>\n",
       "      <td>955.0</td>\n",
       "      <td>3.921466</td>\n",
       "      <td>3.161136</td>\n",
       "      <td>0.0</td>\n",
       "      <td>2.0</td>\n",
       "      <td>3.0</td>\n",
       "      <td>6.000000</td>\n",
       "      <td>19.0</td>\n",
       "    </tr>\n",
       "    <tr>\n",
       "      <th>Agreement Reached</th>\n",
       "      <td>955.0</td>\n",
       "      <td>0.099476</td>\n",
       "      <td>0.299457</td>\n",
       "      <td>0.0</td>\n",
       "      <td>0.0</td>\n",
       "      <td>0.0</td>\n",
       "      <td>0.000000</td>\n",
       "      <td>1.0</td>\n",
       "    </tr>\n",
       "    <tr>\n",
       "      <th>Income_Category</th>\n",
       "      <td>955.0</td>\n",
       "      <td>1.734031</td>\n",
       "      <td>1.385930</td>\n",
       "      <td>0.0</td>\n",
       "      <td>1.0</td>\n",
       "      <td>1.0</td>\n",
       "      <td>3.000000</td>\n",
       "      <td>4.0</td>\n",
       "    </tr>\n",
       "    <tr>\n",
       "      <th>Accident_Quarter</th>\n",
       "      <td>955.0</td>\n",
       "      <td>2.367539</td>\n",
       "      <td>1.131776</td>\n",
       "      <td>1.0</td>\n",
       "      <td>1.0</td>\n",
       "      <td>2.0</td>\n",
       "      <td>3.000000</td>\n",
       "      <td>4.0</td>\n",
       "    </tr>\n",
       "    <tr>\n",
       "      <th>Accident_Year</th>\n",
       "      <td>955.0</td>\n",
       "      <td>2020.540314</td>\n",
       "      <td>1.314808</td>\n",
       "      <td>2001.0</td>\n",
       "      <td>2020.0</td>\n",
       "      <td>2020.0</td>\n",
       "      <td>2021.000000</td>\n",
       "      <td>2022.0</td>\n",
       "    </tr>\n",
       "    <tr>\n",
       "      <th>Accident Day</th>\n",
       "      <td>955.0</td>\n",
       "      <td>2.544503</td>\n",
       "      <td>1.776524</td>\n",
       "      <td>0.0</td>\n",
       "      <td>1.0</td>\n",
       "      <td>2.0</td>\n",
       "      <td>4.000000</td>\n",
       "      <td>6.0</td>\n",
       "    </tr>\n",
       "    <tr>\n",
       "      <th>Age Group</th>\n",
       "      <td>955.0</td>\n",
       "      <td>0.981152</td>\n",
       "      <td>1.006093</td>\n",
       "      <td>0.0</td>\n",
       "      <td>0.0</td>\n",
       "      <td>1.0</td>\n",
       "      <td>2.000000</td>\n",
       "      <td>3.0</td>\n",
       "    </tr>\n",
       "    <tr>\n",
       "      <th>promptness_category</th>\n",
       "      <td>955.0</td>\n",
       "      <td>4.075393</td>\n",
       "      <td>2.428985</td>\n",
       "      <td>0.0</td>\n",
       "      <td>3.0</td>\n",
       "      <td>4.0</td>\n",
       "      <td>7.000000</td>\n",
       "      <td>7.0</td>\n",
       "    </tr>\n",
       "    <tr>\n",
       "      <th>promptness_C2_category</th>\n",
       "      <td>955.0</td>\n",
       "      <td>3.944503</td>\n",
       "      <td>2.545613</td>\n",
       "      <td>0.0</td>\n",
       "      <td>2.0</td>\n",
       "      <td>4.0</td>\n",
       "      <td>7.000000</td>\n",
       "      <td>7.0</td>\n",
       "    </tr>\n",
       "    <tr>\n",
       "      <th>promptness_C3_category</th>\n",
       "      <td>955.0</td>\n",
       "      <td>3.631414</td>\n",
       "      <td>2.194012</td>\n",
       "      <td>0.0</td>\n",
       "      <td>2.0</td>\n",
       "      <td>4.0</td>\n",
       "      <td>5.000000</td>\n",
       "      <td>7.0</td>\n",
       "    </tr>\n",
       "    <tr>\n",
       "      <th>Industry Risk</th>\n",
       "      <td>955.0</td>\n",
       "      <td>1.326702</td>\n",
       "      <td>0.887881</td>\n",
       "      <td>0.0</td>\n",
       "      <td>0.0</td>\n",
       "      <td>2.0</td>\n",
       "      <td>2.000000</td>\n",
       "      <td>2.0</td>\n",
       "    </tr>\n",
       "    <tr>\n",
       "      <th>Salary_Per_Dependent</th>\n",
       "      <td>955.0</td>\n",
       "      <td>455.476604</td>\n",
       "      <td>480.326458</td>\n",
       "      <td>29.0</td>\n",
       "      <td>172.1</td>\n",
       "      <td>285.2</td>\n",
       "      <td>554.916667</td>\n",
       "      <td>4362.0</td>\n",
       "    </tr>\n",
       "    <tr>\n",
       "      <th>Gender_M</th>\n",
       "      <td>955.0</td>\n",
       "      <td>0.634555</td>\n",
       "      <td>0.481807</td>\n",
       "      <td>0.0</td>\n",
       "      <td>0.0</td>\n",
       "      <td>1.0</td>\n",
       "      <td>1.000000</td>\n",
       "      <td>1.0</td>\n",
       "    </tr>\n",
       "    <tr>\n",
       "      <th>Gender_U</th>\n",
       "      <td>955.0</td>\n",
       "      <td>0.001047</td>\n",
       "      <td>0.032359</td>\n",
       "      <td>0.0</td>\n",
       "      <td>0.0</td>\n",
       "      <td>0.0</td>\n",
       "      <td>0.000000</td>\n",
       "      <td>1.0</td>\n",
       "    </tr>\n",
       "    <tr>\n",
       "      <th>Medical Fee Region_II</th>\n",
       "      <td>955.0</td>\n",
       "      <td>0.152880</td>\n",
       "      <td>0.360060</td>\n",
       "      <td>0.0</td>\n",
       "      <td>0.0</td>\n",
       "      <td>0.0</td>\n",
       "      <td>0.000000</td>\n",
       "      <td>1.0</td>\n",
       "    </tr>\n",
       "    <tr>\n",
       "      <th>Medical Fee Region_III</th>\n",
       "      <td>955.0</td>\n",
       "      <td>0.069110</td>\n",
       "      <td>0.253774</td>\n",
       "      <td>0.0</td>\n",
       "      <td>0.0</td>\n",
       "      <td>0.0</td>\n",
       "      <td>0.000000</td>\n",
       "      <td>1.0</td>\n",
       "    </tr>\n",
       "    <tr>\n",
       "      <th>Medical Fee Region_UK</th>\n",
       "      <td>955.0</td>\n",
       "      <td>0.081675</td>\n",
       "      <td>0.274013</td>\n",
       "      <td>0.0</td>\n",
       "      <td>0.0</td>\n",
       "      <td>0.0</td>\n",
       "      <td>0.000000</td>\n",
       "      <td>1.0</td>\n",
       "    </tr>\n",
       "    <tr>\n",
       "      <th>Carrier_Name_Simplified_freq</th>\n",
       "      <td>955.0</td>\n",
       "      <td>43571.038743</td>\n",
       "      <td>42079.085831</td>\n",
       "      <td>510.0</td>\n",
       "      <td>3899.0</td>\n",
       "      <td>13697.0</td>\n",
       "      <td>88862.000000</td>\n",
       "      <td>93013.0</td>\n",
       "    </tr>\n",
       "    <tr>\n",
       "      <th>Zip_Code_Simplified_freq</th>\n",
       "      <td>955.0</td>\n",
       "      <td>240492.105759</td>\n",
       "      <td>161994.290341</td>\n",
       "      <td>0.0</td>\n",
       "      <td>2320.0</td>\n",
       "      <td>350333.0</td>\n",
       "      <td>350333.000000</td>\n",
       "      <td>350333.0</td>\n",
       "    </tr>\n",
       "    <tr>\n",
       "      <th>Industry Code_freq</th>\n",
       "      <td>955.0</td>\n",
       "      <td>49507.877487</td>\n",
       "      <td>35305.690579</td>\n",
       "      <td>556.0</td>\n",
       "      <td>16943.0</td>\n",
       "      <td>34856.0</td>\n",
       "      <td>99366.000000</td>\n",
       "      <td>99366.0</td>\n",
       "    </tr>\n",
       "    <tr>\n",
       "      <th>County of Injury_freq</th>\n",
       "      <td>955.0</td>\n",
       "      <td>27038.091099</td>\n",
       "      <td>16412.468580</td>\n",
       "      <td>449.0</td>\n",
       "      <td>11243.0</td>\n",
       "      <td>24628.0</td>\n",
       "      <td>42680.000000</td>\n",
       "      <td>48468.0</td>\n",
       "    </tr>\n",
       "    <tr>\n",
       "      <th>District Name_freq</th>\n",
       "      <td>955.0</td>\n",
       "      <td>130824.269110</td>\n",
       "      <td>87384.213238</td>\n",
       "      <td>3191.0</td>\n",
       "      <td>36466.0</td>\n",
       "      <td>216798.0</td>\n",
       "      <td>216798.000000</td>\n",
       "      <td>216798.0</td>\n",
       "    </tr>\n",
       "    <tr>\n",
       "      <th>WCIO Cause of Injury Code_freq</th>\n",
       "      <td>955.0</td>\n",
       "      <td>17693.686911</td>\n",
       "      <td>11367.521526</td>\n",
       "      <td>86.0</td>\n",
       "      <td>8208.0</td>\n",
       "      <td>14632.0</td>\n",
       "      <td>26555.000000</td>\n",
       "      <td>37259.0</td>\n",
       "    </tr>\n",
       "    <tr>\n",
       "      <th>WCIO Nature of Injury Code_freq</th>\n",
       "      <td>955.0</td>\n",
       "      <td>70356.342408</td>\n",
       "      <td>47124.402883</td>\n",
       "      <td>73.0</td>\n",
       "      <td>20663.0</td>\n",
       "      <td>88312.0</td>\n",
       "      <td>122811.000000</td>\n",
       "      <td>122811.0</td>\n",
       "    </tr>\n",
       "    <tr>\n",
       "      <th>WCIO Part Of Body Code_freq</th>\n",
       "      <td>955.0</td>\n",
       "      <td>21583.783246</td>\n",
       "      <td>15126.663761</td>\n",
       "      <td>115.0</td>\n",
       "      <td>6322.0</td>\n",
       "      <td>18172.0</td>\n",
       "      <td>38469.000000</td>\n",
       "      <td>41385.0</td>\n",
       "    </tr>\n",
       "    <tr>\n",
       "      <th>Carrier Name_freq</th>\n",
       "      <td>955.0</td>\n",
       "      <td>29776.979058</td>\n",
       "      <td>38674.948255</td>\n",
       "      <td>2.0</td>\n",
       "      <td>1498.0</td>\n",
       "      <td>6039.0</td>\n",
       "      <td>88862.000000</td>\n",
       "      <td>88862.0</td>\n",
       "    </tr>\n",
       "    <tr>\n",
       "      <th>Body_Part_Category_freq</th>\n",
       "      <td>955.0</td>\n",
       "      <td>72363.458639</td>\n",
       "      <td>39303.874501</td>\n",
       "      <td>9593.0</td>\n",
       "      <td>37241.0</td>\n",
       "      <td>80866.0</td>\n",
       "      <td>96343.000000</td>\n",
       "      <td>142559.0</td>\n",
       "    </tr>\n",
       "    <tr>\n",
       "      <th>Injury_Nature_Category_freq</th>\n",
       "      <td>955.0</td>\n",
       "      <td>358411.242932</td>\n",
       "      <td>125625.499529</td>\n",
       "      <td>10480.0</td>\n",
       "      <td>404174.0</td>\n",
       "      <td>404174.0</td>\n",
       "      <td>404174.000000</td>\n",
       "      <td>404174.0</td>\n",
       "    </tr>\n",
       "    <tr>\n",
       "      <th>Carrier Type Merged_freq</th>\n",
       "      <td>955.0</td>\n",
       "      <td>143998.510995</td>\n",
       "      <td>71622.032083</td>\n",
       "      <td>833.0</td>\n",
       "      <td>88862.0</td>\n",
       "      <td>97456.0</td>\n",
       "      <td>228492.000000</td>\n",
       "      <td>228492.0</td>\n",
       "    </tr>\n",
       "  </tbody>\n",
       "</table>\n",
       "</div>"
      ],
      "text/plain": [
       "                                 count           mean            std      min  \\\n",
       "Age at Injury                    955.0      47.877487      11.551664     19.0   \n",
       "IME-4 Count                      955.0       3.921466       3.161136      0.0   \n",
       "Agreement Reached                955.0       0.099476       0.299457      0.0   \n",
       "Income_Category                  955.0       1.734031       1.385930      0.0   \n",
       "Accident_Quarter                 955.0       2.367539       1.131776      1.0   \n",
       "Accident_Year                    955.0    2020.540314       1.314808   2001.0   \n",
       "Accident Day                     955.0       2.544503       1.776524      0.0   \n",
       "Age Group                        955.0       0.981152       1.006093      0.0   \n",
       "promptness_category              955.0       4.075393       2.428985      0.0   \n",
       "promptness_C2_category           955.0       3.944503       2.545613      0.0   \n",
       "promptness_C3_category           955.0       3.631414       2.194012      0.0   \n",
       "Industry Risk                    955.0       1.326702       0.887881      0.0   \n",
       "Salary_Per_Dependent             955.0     455.476604     480.326458     29.0   \n",
       "Gender_M                         955.0       0.634555       0.481807      0.0   \n",
       "Gender_U                         955.0       0.001047       0.032359      0.0   \n",
       "Medical Fee Region_II            955.0       0.152880       0.360060      0.0   \n",
       "Medical Fee Region_III           955.0       0.069110       0.253774      0.0   \n",
       "Medical Fee Region_UK            955.0       0.081675       0.274013      0.0   \n",
       "Carrier_Name_Simplified_freq     955.0   43571.038743   42079.085831    510.0   \n",
       "Zip_Code_Simplified_freq         955.0  240492.105759  161994.290341      0.0   \n",
       "Industry Code_freq               955.0   49507.877487   35305.690579    556.0   \n",
       "County of Injury_freq            955.0   27038.091099   16412.468580    449.0   \n",
       "District Name_freq               955.0  130824.269110   87384.213238   3191.0   \n",
       "WCIO Cause of Injury Code_freq   955.0   17693.686911   11367.521526     86.0   \n",
       "WCIO Nature of Injury Code_freq  955.0   70356.342408   47124.402883     73.0   \n",
       "WCIO Part Of Body Code_freq      955.0   21583.783246   15126.663761    115.0   \n",
       "Carrier Name_freq                955.0   29776.979058   38674.948255      2.0   \n",
       "Body_Part_Category_freq          955.0   72363.458639   39303.874501   9593.0   \n",
       "Injury_Nature_Category_freq      955.0  358411.242932  125625.499529  10480.0   \n",
       "Carrier Type Merged_freq         955.0  143998.510995   71622.032083    833.0   \n",
       "\n",
       "                                      25%       50%            75%       max  \n",
       "Age at Injury                        40.0      48.0      57.000000      79.0  \n",
       "IME-4 Count                           2.0       3.0       6.000000      19.0  \n",
       "Agreement Reached                     0.0       0.0       0.000000       1.0  \n",
       "Income_Category                       1.0       1.0       3.000000       4.0  \n",
       "Accident_Quarter                      1.0       2.0       3.000000       4.0  \n",
       "Accident_Year                      2020.0    2020.0    2021.000000    2022.0  \n",
       "Accident Day                          1.0       2.0       4.000000       6.0  \n",
       "Age Group                             0.0       1.0       2.000000       3.0  \n",
       "promptness_category                   3.0       4.0       7.000000       7.0  \n",
       "promptness_C2_category                2.0       4.0       7.000000       7.0  \n",
       "promptness_C3_category                2.0       4.0       5.000000       7.0  \n",
       "Industry Risk                         0.0       2.0       2.000000       2.0  \n",
       "Salary_Per_Dependent                172.1     285.2     554.916667    4362.0  \n",
       "Gender_M                              0.0       1.0       1.000000       1.0  \n",
       "Gender_U                              0.0       0.0       0.000000       1.0  \n",
       "Medical Fee Region_II                 0.0       0.0       0.000000       1.0  \n",
       "Medical Fee Region_III                0.0       0.0       0.000000       1.0  \n",
       "Medical Fee Region_UK                 0.0       0.0       0.000000       1.0  \n",
       "Carrier_Name_Simplified_freq       3899.0   13697.0   88862.000000   93013.0  \n",
       "Zip_Code_Simplified_freq           2320.0  350333.0  350333.000000  350333.0  \n",
       "Industry Code_freq                16943.0   34856.0   99366.000000   99366.0  \n",
       "County of Injury_freq             11243.0   24628.0   42680.000000   48468.0  \n",
       "District Name_freq                36466.0  216798.0  216798.000000  216798.0  \n",
       "WCIO Cause of Injury Code_freq     8208.0   14632.0   26555.000000   37259.0  \n",
       "WCIO Nature of Injury Code_freq   20663.0   88312.0  122811.000000  122811.0  \n",
       "WCIO Part Of Body Code_freq        6322.0   18172.0   38469.000000   41385.0  \n",
       "Carrier Name_freq                  1498.0    6039.0   88862.000000   88862.0  \n",
       "Body_Part_Category_freq           37241.0   80866.0   96343.000000  142559.0  \n",
       "Injury_Nature_Category_freq      404174.0  404174.0  404174.000000  404174.0  \n",
       "Carrier Type Merged_freq          88862.0   97456.0  228492.000000  228492.0  "
      ]
     },
     "execution_count": 43,
     "metadata": {},
     "output_type": "execute_result"
    }
   ],
   "source": [
    "# Displaying descriptive statistics for categorical features in the training dataset\n",
    "X_val_min.describe().T"
   ]
  },
  {
   "cell_type": "markdown",
   "metadata": {},
   "source": [
    "In this section we will use the created dictionary in Notebook 3."
   ]
  },
  {
   "cell_type": "code",
   "execution_count": 44,
   "metadata": {},
   "outputs": [
    {
     "name": "stdout",
     "output_type": "stream",
     "text": [
      "Categorical Features (6):\n",
      "['Income_Category', 'Age Group', 'promptness_category', 'promptness_C2_category', 'promptness_C3_category', 'Industry Risk'] \n",
      "\n",
      "Binary Features (5):\n",
      "['Gender_M', 'Gender_U', 'Medical Fee Region_II', 'Medical Fee Region_III', 'Medical Fee Region_UK'] \n",
      "\n",
      "Numerical Features (18):\n",
      "['Age at Injury', 'IME-4 Count', 'Accident_Quarter', 'Accident_Year', 'Accident Day', 'Salary_Per_Dependent', 'Carrier_Name_Simplified_freq', 'Zip_Code_Simplified_freq', 'Industry Code_freq', 'County of Injury_freq', 'District Name_freq', 'WCIO Cause of Injury Code_freq', 'WCIO Nature of Injury Code_freq', 'WCIO Part Of Body Code_freq', 'Carrier Name_freq', 'Body_Part_Category_freq', 'Injury_Nature_Category_freq', 'Carrier Type Merged_freq'] \n",
      "\n"
     ]
    }
   ],
   "source": [
    "# Print summary\n",
    "for category, features in feature_categories.items():\n",
    "    print(f\"{category.capitalize()} Features ({len(features)}):\")\n",
    "    print(features, \"\\n\")"
   ]
  },
  {
   "cell_type": "markdown",
   "metadata": {},
   "source": [
    "## 4.1. Preparing Data</b> <a class=\"anchor\" id=\"section_4_1\"></a>\n",
    "\n",
    "[Back to 4. Feature Selection](#chapter4)<br>\n",
    "\n",
    "\n",
    "To perform feature selection techniques like Lasso, RFE, and feature importance, the numerical features must first be scaled. Scaling ensures that all features have a consistent range, which is particularly important for methods sensitive to feature magnitude.\n",
    "\n",
    "In this step, we will use the StandardScaler to standardize the numerical features in the dataset. This scaling process will be applied to a temporary dataset containing only the numerical features, allowing us to focus on selecting the most relevant features effectively. The scaled dataset will then be used as input for feature selection techniques."
   ]
  },
  {
   "cell_type": "code",
   "execution_count": 45,
   "metadata": {},
   "outputs": [],
   "source": [
    "# Extract numerical features from the dictionary\n",
    "numerical_features = feature_categories[\"numerical\"]\n",
    "\n",
    "# Initialize StandardScaler\n",
    "num_scaler = StandardScaler()\n",
    "\n",
    "# Scale numerical features in X_train\n",
    "X_train_min[numerical_features] = num_scaler.fit_transform(X_train_min[numerical_features])\n",
    "\n",
    "X_train_num_scaled= X_train_min[numerical_features]\n",
    "\n",
    "# Scale numerical features in X_val\n",
    "X_val_min[numerical_features] = num_scaler.transform(X_val_min[numerical_features])\n",
    "\n",
    "X_val_num_scaled= X_val_min[numerical_features]"
   ]
  },
  {
   "cell_type": "markdown",
   "metadata": {},
   "source": [
    "**Variance Check After Scaling**\n",
    "\n",
    "After scaling, we check the variance of each scaled feature to confirm that the features have been scaled properly. Lower variance after scaling indicates that data is normalized and less affected by magnitude differences."
   ]
  },
  {
   "cell_type": "code",
   "execution_count": 46,
   "metadata": {},
   "outputs": [
    {
     "data": {
      "text/plain": [
       "Age at Injury                      1.000262\n",
       "IME-4 Count                        1.000262\n",
       "Accident_Quarter                   1.000262\n",
       "Accident_Year                      1.000262\n",
       "Accident Day                       1.000262\n",
       "Salary_Per_Dependent               1.000262\n",
       "Carrier_Name_Simplified_freq       1.000262\n",
       "Zip_Code_Simplified_freq           1.000262\n",
       "Industry Code_freq                 1.000262\n",
       "County of Injury_freq              1.000262\n",
       "District Name_freq                 1.000262\n",
       "WCIO Cause of Injury Code_freq     1.000262\n",
       "WCIO Nature of Injury Code_freq    1.000262\n",
       "WCIO Part Of Body Code_freq        1.000262\n",
       "Carrier Name_freq                  1.000262\n",
       "Body_Part_Category_freq            1.000262\n",
       "Injury_Nature_Category_freq        1.000262\n",
       "Carrier Type Merged_freq           1.000262\n",
       "dtype: float64"
      ]
     },
     "execution_count": 46,
     "metadata": {},
     "output_type": "execute_result"
    }
   ],
   "source": [
    "# Check variance of scaled data\n",
    "X_train_num_scaled.var()"
   ]
  },
  {
   "cell_type": "markdown",
   "metadata": {},
   "source": [
    "The output shows the variance of each numerical column in the scaled training set. These values help validate that the scaling process has achieved a consistent data distribution across features."
   ]
  },
  {
   "cell_type": "markdown",
   "metadata": {},
   "source": [
    " ## 4.2. Numerical Features</b> <a class=\"anchor\" id=\"section_4_2\"></a>\n",
    " [Back to 4. Feature Selection](#chapter4)<br>\n",
    " "
   ]
  },
  {
   "cell_type": "markdown",
   "metadata": {},
   "source": [
    "### 4.2.1. LASSO Regression <a class=\"anchor\" id=\"sub_section_4_2_1\"></a>\n",
    "\n",
    " [Back to 4.2. Numerical Features](#section_4_2)<br>\n",
    "\n",
    "\n",
    " The LASSO (Least Absolute Shrinkage and Selection Operator) regression is used here for feature selection by fitting a model to the standardized dataset and analyzing the coefficients."
   ]
  },
  {
   "cell_type": "code",
   "execution_count": 47,
   "metadata": {},
   "outputs": [
    {
     "data": {
      "text/plain": [
       "Injury_Nature_Category_freq       -0.190048\n",
       "IME-4 Count                       -0.149575\n",
       "WCIO Nature of Injury Code_freq   -0.103679\n",
       "WCIO Part Of Body Code_freq       -0.081975\n",
       "Industry Code_freq                -0.042379\n",
       "County of Injury_freq             -0.026759\n",
       "WCIO Cause of Injury Code_freq    -0.021336\n",
       "District Name_freq                -0.015711\n",
       "Body_Part_Category_freq           -0.013097\n",
       "Accident_Year                     -0.011896\n",
       "Salary_Per_Dependent               0.001666\n",
       "Accident_Quarter                   0.006128\n",
       "Zip_Code_Simplified_freq           0.016345\n",
       "Carrier Type Merged_freq           0.022112\n",
       "Accident Day                       0.026812\n",
       "Carrier Name_freq                  0.028888\n",
       "Age at Injury                      0.033369\n",
       "Carrier_Name_Simplified_freq       0.033448\n",
       "dtype: float64"
      ]
     },
     "execution_count": 47,
     "metadata": {},
     "output_type": "execute_result"
    }
   ],
   "source": [
    "# Fit regression\n",
    "reg = LassoCV().fit(X_train_num_scaled, y_train_encoded)\n",
    "#get coefficients\n",
    "coef = pd.Series(reg.coef_, index = X_train_num_scaled.columns)\n",
    "# Sort coefficients to observe importance\n",
    "coef.sort_values()"
   ]
  },
  {
   "cell_type": "markdown",
   "metadata": {},
   "source": [
    "This function generates a horizontal bar plot of the feature importance values derived from the LASSO model, helping to visualize which features are prioritized by the model."
   ]
  },
  {
   "cell_type": "code",
   "execution_count": 48,
   "metadata": {},
   "outputs": [
    {
     "data": {
      "image/png": "[encoded data removed]",
      "text/plain": [
       "<Figure size 300x500 with 1 Axes>"
      ]
     },
     "metadata": {},
     "output_type": "display_data"
    }
   ],
   "source": [
    "plot_importance(coef,'Lasso')"
   ]
  },
  {
   "cell_type": "markdown",
   "metadata": {},
   "source": [
    "Let's consider all the values above 0.015."
   ]
  },
  {
   "cell_type": "markdown",
   "metadata": {},
   "source": [
    " ### 4.2.2. Recursive Feature Elimination - RFE <a class=\"anchor\" id=\"sub_section_4_2_2\"></a>\n",
    "\n",
    "  [Back to 4.2. Numerical Features](#section_4_2)<br>\n",
    " \n",
    "\n",
    "RFE is employed here to further validate the important features as identified by LASSO. By sequentially removing the least important features, RFE helps to refine the feature set.\n",
    "\n",
    "The selected features after RFE likely overlap with those identified by LASSO, suggesting consistency in feature importance.\n",
    "Using both LASSO and RFE provides a more robust feature selection by cross-validating the importance of individual features.\n",
    "\n",
    "This block of code performs RFE to identify the best subset of features by iterating over a range of feature numbers. The code aims to maximize model performance on the validation set."
   ]
  },
  {
   "cell_type": "code",
   "execution_count": 50,
   "metadata": {},
   "outputs": [
    {
     "name": "stdout",
     "output_type": "stream",
     "text": [
      "Optimum number of features: 12\n",
      "F1 Macro Score with 12 features: 0.592962\n"
     ]
    }
   ],
   "source": [
    "# RFE using Logistic Regression\n",
    "model = LogisticRegression()\n",
    "\n",
    "#Use the function defined in utils.py\n",
    "best_features, best_score, scores = find_optimal_features_with_rfe(\n",
    "    model, \n",
    "    X_train_num_scaled, \n",
    "    y_train_encoded, \n",
    "    X_val_num_scaled, \n",
    "    y_val_encoded,\n",
    "    max_features=19\n",
    ")"
   ]
  },
  {
   "cell_type": "markdown",
   "metadata": {},
   "source": [
    "\n",
    "The loop evaluates models with 1 to 18 features, tracking the score for each.\n",
    "\n",
    "The output indicates that 12 features yielded the highest validation f1_score score of 0.592962."
   ]
  },
  {
   "cell_type": "markdown",
   "metadata": {},
   "source": [
    "**Applying RFE with the Optimal Number of Features**\n",
    "\n",
    "Once the optimal number of features is identified, the RFE model is finalized with this configuration."
   ]
  },
  {
   "cell_type": "code",
   "execution_count": 54,
   "metadata": {},
   "outputs": [],
   "source": [
    "#rfscv- to select 1st the number of features we should select\n",
    "model = LogisticRegression()\n",
    "rfe = RFE(estimator = model, n_features_to_select = 12)"
   ]
  },
  {
   "cell_type": "code",
   "execution_count": 55,
   "metadata": {},
   "outputs": [],
   "source": [
    "X_rfe= rfe.fit_transform(X=X_train_num_scaled, y=y_train_encoded)"
   ]
  },
  {
   "cell_type": "markdown",
   "metadata": {},
   "source": [
    "This shows the results of the feature selection process, listing the features selected by RFE. The code snippet confirms which features were selected as relevant by the RFE model and displays them in a boolean Series, where True indicates the feature was selected and False means it was not."
   ]
  },
  {
   "cell_type": "code",
   "execution_count": 56,
   "metadata": {},
   "outputs": [
    {
     "data": {
      "text/plain": [
       "Age at Injury                       True\n",
       "IME-4 Count                         True\n",
       "Accident_Quarter                   False\n",
       "Accident_Year                      False\n",
       "Accident Day                        True\n",
       "Salary_Per_Dependent               False\n",
       "Carrier_Name_Simplified_freq        True\n",
       "Zip_Code_Simplified_freq            True\n",
       "Industry Code_freq                  True\n",
       "County of Injury_freq               True\n",
       "District Name_freq                 False\n",
       "WCIO Cause of Injury Code_freq      True\n",
       "WCIO Nature of Injury Code_freq     True\n",
       "WCIO Part Of Body Code_freq         True\n",
       "Carrier Name_freq                   True\n",
       "Body_Part_Category_freq            False\n",
       "Injury_Nature_Category_freq         True\n",
       "Carrier Type Merged_freq           False\n",
       "dtype: bool"
      ]
     },
     "execution_count": 56,
     "metadata": {},
     "output_type": "execute_result"
    }
   ],
   "source": [
    "selected_features = pd.Series(rfe.support_, index = X_train_num_scaled.columns)\n",
    "selected_features"
   ]
  },
  {
   "cell_type": "markdown",
   "metadata": {},
   "source": [
    "### 4.2.3. Feature Importance - Decision Tree <a class=\"anchor\" id=\"sub_section_4_2_3\"></a>\n",
    " [Back to 4.2. Numerical Features](#section_4_2)<br>\n",
    "\n"
   ]
  },
  {
   "cell_type": "code",
   "execution_count": 57,
   "metadata": {},
   "outputs": [],
   "source": [
    "from utils import compare_feature_importances"
   ]
  },
  {
   "cell_type": "code",
   "execution_count": 58,
   "metadata": {},
   "outputs": [
    {
     "data": {
      "image/png": "[encoded data removed]",
      "text/plain": [
       "<Figure size 1300x500 with 1 Axes>"
      ]
     },
     "metadata": {},
     "output_type": "display_data"
    },
    {
     "name": "stdout",
     "output_type": "stream",
     "text": [
      "       gini   entropy               col\n",
      "0  0.024280  0.039396     Age at Injury\n",
      "1  0.406959  0.386150       IME-4 Count\n",
      "2  0.014663  0.012152  Accident_Quarter\n",
      "3  0.004646  0.008333     Accident_Year\n",
      "4  0.009691  0.018464      Accident Day\n"
     ]
    }
   ],
   "source": [
    "# Call the function with your training data\n",
    "zippy = compare_feature_importances(X_train_num_scaled, y_train_encoded)\n",
    "\n",
    "# Access the DataFrame for further analysis if needed\n",
    "print(zippy.head())"
   ]
  },
  {
   "cell_type": "markdown",
   "metadata": {},
   "source": [
    "### 4.2.4. Feature Importance - Random Forest <a class=\"anchor\" id=\"sub_section_4_2_4\"></a>\n",
    "\n",
    " [Back to 4.2. Numerical Features](#section_4_2)<br>\n"
   ]
  },
  {
   "cell_type": "code",
   "execution_count": 59,
   "metadata": {},
   "outputs": [
    {
     "data": {
      "image/png": "[encoded data removed]",
      "text/plain": [
       "<Figure size 1300x500 with 1 Axes>"
      ]
     },
     "metadata": {},
     "output_type": "display_data"
    },
    {
     "name": "stdout",
     "output_type": "stream",
     "text": [
      "       gini   entropy               col\n",
      "0  0.041367  0.043577     Age at Injury\n",
      "1  0.306796  0.272554       IME-4 Count\n",
      "2  0.014944  0.016999  Accident_Quarter\n",
      "3  0.016359  0.015769     Accident_Year\n",
      "4  0.020876  0.021706      Accident Day\n"
     ]
    }
   ],
   "source": [
    "# Call the function with your training data\n",
    "importances = compare_rf_feature_importances(X_train_num_scaled, y_train_encoded)\n",
    "\n",
    "# Access the DataFrame for further analysis if needed\n",
    "print(importances.head())"
   ]
  },
  {
   "cell_type": "markdown",
   "metadata": {},
   "source": [
    "## 4.3. Categorical Features</b> <a class=\"anchor\" id=\"section_4_3\"></a>\n",
    "[Back to 4. Feature Selection](#chapter4)<br>\n",
    "\n",
    "Chi-squared and MIC for the categorical ones."
   ]
  },
  {
   "cell_type": "code",
   "execution_count": 60,
   "metadata": {},
   "outputs": [],
   "source": [
    "X_train_mic_chi2 = X_train_min[feature_categories['categorical'] + feature_categories['binary']]"
   ]
  },
  {
   "cell_type": "code",
   "execution_count": 61,
   "metadata": {},
   "outputs": [
    {
     "data": {
      "text/plain": [
       "(3823, 11)"
      ]
     },
     "execution_count": 61,
     "metadata": {},
     "output_type": "execute_result"
    }
   ],
   "source": [
    "X_train_mic_chi2.shape"
   ]
  },
  {
   "cell_type": "code",
   "execution_count": 62,
   "metadata": {},
   "outputs": [
    {
     "data": {
      "text/plain": [
       "Index(['Income_Category', 'Age Group', 'promptness_category',\n",
       "       'promptness_C2_category', 'promptness_C3_category', 'Industry Risk',\n",
       "       'Gender_M', 'Gender_U', 'Medical Fee Region_II',\n",
       "       'Medical Fee Region_III', 'Medical Fee Region_UK'],\n",
       "      dtype='object')"
      ]
     },
     "execution_count": 62,
     "metadata": {},
     "output_type": "execute_result"
    }
   ],
   "source": [
    "X_train_mic_chi2.columns"
   ]
  },
  {
   "cell_type": "markdown",
   "metadata": {},
   "source": [
    " ### 4.3.1. $\\chi ^2$ Test for Independence <a class=\"anchor\" id=\"sub_section_4_3_1\"></a>\n",
    "\n",
    "[Back to 4.3. Categorical Features](#section_4_3)<br>\n",
    "\n",
    "\n",
    "The Chi-squared test helps us identify the most relevant categorical and binary features by evaluating their independence with the target variable. "
   ]
  },
  {
   "cell_type": "code",
   "execution_count": 63,
   "metadata": {},
   "outputs": [],
   "source": [
    "from utils import select_high_score_features_chi2_no_model"
   ]
  },
  {
   "cell_type": "code",
   "execution_count": 64,
   "metadata": {},
   "outputs": [
    {
     "name": "stdout",
     "output_type": "stream",
     "text": [
      "Top 6 features based on Chi-square scores: ['promptness_C3_category', 'promptness_category', 'promptness_C2_category', 'Gender_M', 'Medical Fee Region_UK', 'Medical Fee Region_II']\n",
      "Corresponding Chi-square scores: [188.16178467204054, 131.02346039453383, 70.90879931407432, 43.57067094906183, 38.32757656267401, 14.876548741734453]\n"
     ]
    }
   ],
   "source": [
    "# Example usage\n",
    "high_score_features_chi2, scores = select_high_score_features_chi2_no_model(\n",
    "    X_train_mic_chi2, \n",
    "    y_train_encoded, \n",
    "    threshold=6\n",
    ")"
   ]
  },
  {
   "cell_type": "code",
   "execution_count": 65,
   "metadata": {},
   "outputs": [
    {
     "data": {
      "text/plain": [
       "['promptness_C3_category',\n",
       " 'promptness_category',\n",
       " 'promptness_C2_category',\n",
       " 'Gender_M',\n",
       " 'Medical Fee Region_UK',\n",
       " 'Medical Fee Region_II']"
      ]
     },
     "execution_count": 65,
     "metadata": {},
     "output_type": "execute_result"
    }
   ],
   "source": [
    "high_score_features_chi2"
   ]
  },
  {
   "cell_type": "markdown",
   "metadata": {},
   "source": [
    " ### 4.3.2. Mutual Information Criterion (MIC) <a class=\"anchor\" id=\"sub_section_4_3_2\"></a>\n",
    "\n",
    " [Back to 4.3. Categorical Features](#section_4_3)<br>\n",
    " \n",
    "\n",
    "The Mutual Information Criterion is used to measure the dependence between each feature and the target variable. By setting a threshold, we retain only the most relevant features."
   ]
  },
  {
   "cell_type": "code",
   "execution_count": 66,
   "metadata": {},
   "outputs": [],
   "source": [
    "from utils import select_high_score_features_MIC"
   ]
  },
  {
   "cell_type": "code",
   "execution_count": 67,
   "metadata": {},
   "outputs": [
    {
     "name": "stdout",
     "output_type": "stream",
     "text": [
      "Top 6 features based on MIC scores: ['promptness_C3_category', 'promptness_C2_category', 'promptness_category', 'Gender_M', 'Medical Fee Region_III', 'Age Group']\n",
      "Corresponding MIC scores: [0.10727515794226417, 0.0520377957199758, 0.0505682976764017, 0.019393824796004377, 0.010296132401758973, 0.005776958738986426]\n"
     ]
    }
   ],
   "source": [
    "# Example usage\n",
    "high_score_features_MIC, scores_MIC = select_high_score_features_MIC(\n",
    "    X_train_mic_chi2, \n",
    "    y_train_encoded, \n",
    "    threshold=6, \n",
    "    random_state=42)"
   ]
  },
  {
   "cell_type": "code",
   "execution_count": 68,
   "metadata": {},
   "outputs": [
    {
     "data": {
      "text/plain": [
       "(3823, 11)"
      ]
     },
     "execution_count": 68,
     "metadata": {},
     "output_type": "execute_result"
    }
   ],
   "source": [
    "X_train_mic_chi2.shape"
   ]
  },
  {
   "cell_type": "code",
   "execution_count": 69,
   "metadata": {},
   "outputs": [
    {
     "data": {
      "text/plain": [
       "['promptness_C3_category',\n",
       " 'promptness_C2_category',\n",
       " 'promptness_category',\n",
       " 'Gender_M',\n",
       " 'Medical Fee Region_III',\n",
       " 'Age Group']"
      ]
     },
     "execution_count": 69,
     "metadata": {},
     "output_type": "execute_result"
    }
   ],
   "source": [
    "high_score_features_MIC"
   ]
  },
  {
   "cell_type": "markdown",
   "metadata": {},
   "source": [
    "**Intersection of Selected Features by Chi-squared and MIC** <br>\n",
    "To identify the most relevant categorical features, we take the intersection of features selected by both Chi-squared and MIC methods."
   ]
  },
  {
   "cell_type": "code",
   "execution_count": 70,
   "metadata": {},
   "outputs": [
    {
     "data": {
      "text/plain": [
       "['promptness_C2_category',\n",
       " 'Gender_M',\n",
       " 'promptness_category',\n",
       " 'promptness_C3_category']"
      ]
     },
     "execution_count": 70,
     "metadata": {},
     "output_type": "execute_result"
    }
   ],
   "source": [
    "# Find common features between Chi-squared and MIC selections\n",
    "common_categorical_features = list(set(high_score_features_chi2).intersection(set(high_score_features_MIC)))\n",
    "features_selected = common_categorical_features  # Final list of selected features\n",
    "features_selected  # Display the list of intersected features"
   ]
  },
  {
   "cell_type": "markdown",
   "metadata": {},
   "source": [
    "## 4.4. Final Features</b> <a class=\"anchor\" id=\"section_4_4\"></a>\n",
    "[Back to 4. Feature Selection](#chapter4)<br>\n",
    "\n",
    "The following table evaluates all numerical features using multiple feature selection techniques: Spearman Correlation, LASSO Regression, RFE, Decision Tree, and Random Forest. Based on these combined insights, a final decision is provided in the \"What to do?\" column."
   ]
  },
  {
   "cell_type": "markdown",
   "metadata": {},
   "source": [
    "\n",
    "\n",
    "| **Predictor**                 | **LASSO**         | **RFE**            | **Decision Tree Importance**   | **Random Forest Importance**  | **What to do?**               |\n",
    "|-------------------------------|-------------------|--------------------|--------------------------------|--------------------------------|--------------------------------|\n",
    "| IME-4 Count                   | Keep              | Keep               | Keep                           | Keep                           | Include                   |\n",
    "| Injury_Nature_Category_freq   | Keep              | Keep               | Discard                        | Keep                           | Include                   |\n",
    "| Body_Part_Category_freq       | Discard           | Keep               | Keep                           | Keep                           | Include                   |\n",
    "| Salary_Per_Dependent          | Discard           | Keep               | Keep                           | Keep                           | Include                   |\n",
    "| Age at Injury                 | Keep              | Keep               | Discard                        | Discard                        | Consider Include                   |\n",
    "| Industry Code_freq            | Keep              | Keep               | Discard                        | Discard                        | Consider Include          |\n",
    "| Accident_Year                 | Discard           | Discard            | Discard                        | Discard                        | Discard                   |\n",
    "| Carrier_Name_Simplified_freq  | Keep              | Keep               | Discard                        | Discard                        | Consider Include                   |\n",
    "| District Name_freq            | Keep              | Keep               | Discard                        | Discard                        | Consider Include          |\n",
    "| Accident_Quarter              | Discard           | Discard            | Discard                        | Discard                        | Discard                  |\n",
    "| Accident Day                  | Keep              | Keep               | Discard                        | Discard                        | Consider Include                  |\n",
    "| Zip_Code_Simplified_freq      | Keep              | Keep               | Discard                        | Discard                        | Consider Include                  |\n",
    "| WCIO Cause of Injury Code_freq| Keep              | Keep               | Discard                        | Keep                           | Include                   |\n",
    "| WCIO Part Of Body Code_freq   | Keep              | Keep               | Keep                           | Keep                           | Include                   |\n",
    "| WCIO Nature of Injury Code_freq| Keep              | Keep               | Keep                           | Keep                           | Include                  |\n",
    "| Carrier Type Merged_freq      | Keep              | Discard            | Discard                        | Discard                        | Discard          |\n",
    "| Carrier Name_freq             | Keep              | Keep               | Discard                        | Discard                        | Consider Include         |\n",
    "| County of Injury_freq         | Keep              | Keep               | Discard                        | Discard                        | Consider Include          |"
   ]
  },
  {
   "cell_type": "markdown",
   "metadata": {},
   "source": [
    "### **Categorical Feature Selection Results**\n",
    "\n",
    "The following table summarizes the decisions for each categorical feature based on **Mutual Information (MIC)** and **Chi-Squared** (X²) results. The retained features will be used in subsequent modeling to enhance predictive performance.\n",
    "\n",
    "| **Feature**              | **X² Results**          | **MIC Results**         | **Decision**               |\n",
    "|---------------------------|-------------------------|-------------------------|----------------------------|\n",
    "| promptness_C2_category | Keep                  | Keep                  | Include               |\n",
    "| promptness_category    | Keep                 | Keep                       | Include                |\n",
    "| promptness_C3_category | Keep                       | Keep                  | Include                |\n",
    "| Age Group              | -                  | Keep                  | Include                |\n",
    "| Income_Category        | -                  | -                  |Exclude                |\n",
    "| Industry Risk         |  -                     | -                  | Exclude              |\n",
    "| Gender_M               | Keep                  | Keep                   | Include                |\n",
    "| Gender_U               | -                       | -                       | Exclude          |\n",
    "| Medical Fee Region_II  | Keep                      | -                       | Consider include in model                |\n",
    "| Medical Fee Region_III | -                       | Keep                      | Include                |\n",
    "| Medical Fee Region_UK  | Keep                       | -                       | Consider include in model                 |\n"
   ]
  },
  {
   "cell_type": "code",
   "execution_count": 41,
   "metadata": {},
   "outputs": [
    {
     "data": {
      "text/plain": [
       "['Age at Injury',\n",
       " 'IME-4 Count',\n",
       " 'Accident_Quarter',\n",
       " 'Accident_Year',\n",
       " 'Accident Day',\n",
       " 'Salary_Per_Dependent',\n",
       " 'Carrier_Name_Simplified_freq',\n",
       " 'Zip_Code_Simplified_freq',\n",
       " 'Industry Code_freq',\n",
       " 'County of Injury_freq',\n",
       " 'District Name_freq',\n",
       " 'WCIO Cause of Injury Code_freq',\n",
       " 'WCIO Nature of Injury Code_freq',\n",
       " 'WCIO Part Of Body Code_freq',\n",
       " 'Carrier Name_freq',\n",
       " 'Body_Part_Category_freq',\n",
       " 'Injury_Nature_Category_freq',\n",
       " 'Carrier Type Merged_freq']"
      ]
     },
     "execution_count": 41,
     "metadata": {},
     "output_type": "execute_result"
    }
   ],
   "source": [
    "numerical_features"
   ]
  },
  {
   "cell_type": "code",
   "execution_count": 71,
   "metadata": {},
   "outputs": [
    {
     "name": "stdout",
     "output_type": "stream",
     "text": [
      "X_train_final shape: (3823, 11)\n",
      "X_val_final shape: (955, 11)\n",
      "X_test_final shape: (387975, 11)\n"
     ]
    }
   ],
   "source": [
    "final_features = [\n",
    "    # Categorical features selected through MIC and chi2\n",
    "    'promptness_C2_category','Gender_M','promptness_category','promptness_C3_category',\n",
    "    # Important numerical features\n",
    "    'IME-4 Count', 'Salary_Per_Dependent', 'WCIO Cause of Injury Code_freq','WCIO Nature of Injury Code_freq',\n",
    "    'WCIO Part Of Body Code_freq','Body_Part_Category_freq','Injury_Nature_Category_freq']\n",
    "\n",
    "\n",
    "# Extracting the final features from the processed datasets\n",
    "X_train_final = X_train_min[final_features]\n",
    "X_val_final = X_val_min[final_features]\n",
    "X_test_final = df_test[final_features]\n",
    "\n",
    "# Print the shape of the final datasets to confirm consistency\n",
    "print(f\"X_train_final shape: {X_train_final.shape}\")\n",
    "print(f\"X_val_final shape: {X_val_final.shape}\")\n",
    "print(f\"X_test_final shape: {X_test_final.shape}\")"
   ]
  },
  {
   "cell_type": "code",
   "execution_count": 72,
   "metadata": {},
   "outputs": [
    {
     "data": {
      "text/plain": [
       "3823"
      ]
     },
     "execution_count": 72,
     "metadata": {},
     "output_type": "execute_result"
    }
   ],
   "source": [
    "len(y_train_encoded)"
   ]
  },
  {
   "cell_type": "code",
   "execution_count": 73,
   "metadata": {},
   "outputs": [
    {
     "data": {
      "text/plain": [
       "955"
      ]
     },
     "execution_count": 73,
     "metadata": {},
     "output_type": "execute_result"
    }
   ],
   "source": [
    "len(y_val_encoded)"
   ]
  },
  {
   "cell_type": "markdown",
   "metadata": {},
   "source": [
    "# 5. Modelling <a class=\"anchor\" id=\"chapter5\"></a>\n",
    "[Back to ToC](#toc)<br>\n",
    "\n",
    "In this section, we focus on predicting the minority classes in our dataset. Since minority class prediction is often challenging due to imbalanced data, we prioritize models that handle such scenarios effectively. The chosen models include ensemble techniques like Random Forest and Gradient Boosting, known for their robustness in classification tasks, along with specialized algorithms like CatBoost and LightGBM, which are designed to handle categorical data efficiently and provide strong performance on imbalanced datasets.\n",
    "\n",
    "## 5.1. Simple Models </b> <a class=\"anchor\" id=\"section_5_1\"></a>\n",
    "\n",
    "[Back to 5. Modelling](#chapter5)<br>\n",
    "\n",
    "Simple models serve as the foundation for understanding the problem and establishing a baseline for performance. These algorithms are straightforward to implement and interpret, making them ideal for initial evaluations, even in imbalanced datasets. In this section, we explore Logistic Regression, Decision Trees, and K-Nearest Neighbors (KNN) classifiers.\n",
    "\n",
    "\n",
    "### 5.1.1. Logistic Regression <a class=\"anchor\" id=\"sub_section_5_1_1\"></a>\n",
    "\n",
    "[Back to 5.1. Simple Models](#section_5_1)<br>\n",
    "\n",
    "Logistic Regression is a simple yet effective model for binary classification tasks. While not tailored for imbalanced datasets, it serves as a baseline to compare more sophisticated methods. while Logistic Regression might not be ideal for imbalanced data, it’s included in the analysis to serve as a benchmark and provide a simple, interpretable comparison point."
   ]
  },
  {
   "cell_type": "code",
   "execution_count": 74,
   "metadata": {},
   "outputs": [
    {
     "name": "stdout",
     "output_type": "stream",
     "text": [
      "___________________________________________________________________________________________________________\n",
      "                                                     TRAIN                                                 \n",
      "-----------------------------------------------------------------------------------------------------------\n",
      "              precision    recall  f1-score   support\n",
      "\n",
      "           0       0.96      0.98      0.97      3369\n",
      "           1       0.00      0.00      0.00        78\n",
      "           2       0.82      0.81      0.81       376\n",
      "\n",
      "    accuracy                           0.94      3823\n",
      "   macro avg       0.59      0.60      0.59      3823\n",
      "weighted avg       0.93      0.94      0.93      3823\n",
      "\n",
      "___________________________________________________________________________________________________________\n",
      "                                                VALIDATION                                                 \n",
      "-----------------------------------------------------------------------------------------------------------\n",
      "              precision    recall  f1-score   support\n",
      "\n",
      "           0       0.96      0.98      0.97       842\n",
      "           1       0.00      0.00      0.00        19\n",
      "           2       0.79      0.82      0.81        94\n",
      "\n",
      "    accuracy                           0.95       955\n",
      "   macro avg       0.59      0.60      0.59       955\n",
      "weighted avg       0.93      0.95      0.94       955\n",
      "\n"
     ]
    },
    {
     "data": {
      "image/png": "[encoded data removed]",
      "text/plain": [
       "<Figure size 1000x400 with 2 Axes>"
      ]
     },
     "metadata": {},
     "output_type": "display_data"
    },
    {
     "name": "stdout",
     "output_type": "stream",
     "text": [
      "Time taken to run the cell: 0.97 seconds\n"
     ]
    }
   ],
   "source": [
    "# Record the start time\n",
    "start_time = time.time()\n",
    "\n",
    "lr_model = LogisticRegression(random_state=42, max_iter=500)\n",
    "\n",
    "# Fit the model to the training data\n",
    "lr_model.fit(X_train_final, y_train_encoded)\n",
    "\n",
    "# Predict on the training and validation data\n",
    "y_pred_lr_train = lr_model.predict(X_train_final)\n",
    "y_pred_lr_val = lr_model.predict(X_val_final)\n",
    "\n",
    "# Evaluate the model\n",
    "metrics(y_train_encoded, y_pred_lr_train, y_val_encoded, y_pred_lr_val)\n",
    "\n",
    "# Record the end time and calculate duration\n",
    "end_time = time.time()\n",
    "print(f\"Time taken to run the cell: {end_time - start_time:.2f} seconds\")\n"
   ]
  },
  {
   "cell_type": "markdown",
   "metadata": {},
   "source": [
    "While Logistic Regression is not particularly suited for imbalanced datasets, we can explore the impact of incorporating class weights to address the imbalance. This approach allows us to evaluate how adjusting the weights improves the model's sensitivity to minority classes. However, given its limitations in handling unbalanced data, our primary focus will remain on optimizing more complex and specialized models better adapted to this type of problem.\n",
    "\n",
    "#### **Class weigths**\n",
    "Class weights are used in machine learning models to address the imbalance in the dataset by assigning a higher penalty to misclassified instances of the minority class. This ensures that the model pays more attention to the underrepresented class during training, which can help improve its predictive performance on imbalanced datasets."
   ]
  },
  {
   "cell_type": "code",
   "execution_count": 75,
   "metadata": {},
   "outputs": [
    {
     "name": "stdout",
     "output_type": "stream",
     "text": [
      "___________________________________________________________________________________________________________\n",
      "                                                     TRAIN                                                 \n",
      "-----------------------------------------------------------------------------------------------------------\n",
      "              precision    recall  f1-score   support\n",
      "\n",
      "           0       0.99      0.71      0.83      3369\n",
      "           1       0.06      0.64      0.11        78\n",
      "           2       0.64      0.92      0.76       376\n",
      "\n",
      "    accuracy                           0.73      3823\n",
      "   macro avg       0.56      0.76      0.56      3823\n",
      "weighted avg       0.94      0.73      0.81      3823\n",
      "\n",
      "___________________________________________________________________________________________________________\n",
      "                                                VALIDATION                                                 \n",
      "-----------------------------------------------------------------------------------------------------------\n",
      "              precision    recall  f1-score   support\n",
      "\n",
      "           0       0.99      0.70      0.82       842\n",
      "           1       0.05      0.63      0.10        19\n",
      "           2       0.63      0.90      0.74        94\n",
      "\n",
      "    accuracy                           0.72       955\n",
      "   macro avg       0.56      0.75      0.55       955\n",
      "weighted avg       0.93      0.72      0.80       955\n",
      "\n"
     ]
    },
    {
     "data": {
      "image/png": "[encoded data removed]",
      "text/plain": [
       "<Figure size 1000x400 with 2 Axes>"
      ]
     },
     "metadata": {},
     "output_type": "display_data"
    },
    {
     "name": "stdout",
     "output_type": "stream",
     "text": [
      "Time taken to run the cell: 0.50 seconds\n"
     ]
    }
   ],
   "source": [
    "from sklearn.linear_model import LogisticRegression\n",
    "import time\n",
    "\n",
    "# Record the start time\n",
    "start_time = time.time()\n",
    "\n",
    "# Initialize the Logistic Regression model with class weights\n",
    "lr_model = LogisticRegression(random_state=42, max_iter=500, class_weight='balanced')\n",
    "\n",
    "# Fit the model to the training data\n",
    "lr_model.fit(X_train_final, y_train_encoded)\n",
    "\n",
    "# Predict on the training and validation data\n",
    "y_pred_lr_train = lr_model.predict(X_train_final)\n",
    "y_pred_lr_val = lr_model.predict(X_val_final)\n",
    "\n",
    "# Evaluate the model\n",
    "metrics(y_train_encoded, y_pred_lr_train, y_val_encoded, y_pred_lr_val)\n",
    "\n",
    "# Record the end time and calculate duration\n",
    "end_time = time.time()\n",
    "print(f\"Time taken to run the cell: {end_time - start_time:.2f} seconds\")"
   ]
  },
  {
   "cell_type": "markdown",
   "metadata": {},
   "source": [
    "Although the F1 score is lower, it is evident that including class weights effectively mitigates the overfitting issue. Moving forward, we will incorporate class weights into the subsequent models to address class imbalance and improve generalization."
   ]
  },
  {
   "cell_type": "markdown",
   "metadata": {},
   "source": [
    "### 5.1.2. Decision Trees <a class=\"anchor\" id=\"sub_section_5_1_2\"></a>\n",
    "\n",
    "[Back to 5.1. Simple Models](#section_5_1)<br>\n",
    "\n",
    "Decision Trees are intuitive models that split the data into branches based on feature thresholds, making decisions that optimize classification purity at each step. They handle imbalanced datasets better with adjustments such as class weights."
   ]
  },
  {
   "cell_type": "code",
   "execution_count": 76,
   "metadata": {},
   "outputs": [
    {
     "name": "stdout",
     "output_type": "stream",
     "text": [
      "___________________________________________________________________________________________________________\n",
      "                                                     TRAIN                                                 \n",
      "-----------------------------------------------------------------------------------------------------------\n",
      "              precision    recall  f1-score   support\n",
      "\n",
      "           0       1.00      1.00      1.00      3369\n",
      "           1       1.00      1.00      1.00        78\n",
      "           2       1.00      1.00      1.00       376\n",
      "\n",
      "    accuracy                           1.00      3823\n",
      "   macro avg       1.00      1.00      1.00      3823\n",
      "weighted avg       1.00      1.00      1.00      3823\n",
      "\n",
      "___________________________________________________________________________________________________________\n",
      "                                                VALIDATION                                                 \n",
      "-----------------------------------------------------------------------------------------------------------\n",
      "              precision    recall  f1-score   support\n",
      "\n",
      "           0       0.96      0.96      0.96       842\n",
      "           1       0.07      0.11      0.09        19\n",
      "           2       0.85      0.78      0.81        94\n",
      "\n",
      "    accuracy                           0.93       955\n",
      "   macro avg       0.63      0.61      0.62       955\n",
      "weighted avg       0.93      0.93      0.93       955\n",
      "\n"
     ]
    },
    {
     "data": {
      "image/png": "[encoded data removed]",
      "text/plain": [
       "<Figure size 1000x400 with 2 Axes>"
      ]
     },
     "metadata": {},
     "output_type": "display_data"
    },
    {
     "name": "stdout",
     "output_type": "stream",
     "text": [
      "Time taken to run the cell: 0.73 seconds\n"
     ]
    }
   ],
   "source": [
    "from sklearn.tree import DecisionTreeClassifier\n",
    "import time\n",
    "\n",
    "# Record the start time\n",
    "start_time = time.time()\n",
    "\n",
    "# Initialize the Decision Tree model\n",
    "dt_model = DecisionTreeClassifier(random_state=42, class_weight='balanced')\n",
    "\n",
    "# Fit the model to the training data\n",
    "dt_model.fit(X_train_final, y_train_encoded)\n",
    "\n",
    "# Predict on the training and validation data\n",
    "y_pred_dt_train = dt_model.predict(X_train_final)\n",
    "y_pred_dt_val = dt_model.predict(X_val_final)\n",
    "\n",
    "# Evaluate the model\n",
    "metrics(y_train_encoded, y_pred_dt_train, y_val_encoded, y_pred_dt_val)\n",
    "\n",
    "# Record the end time and calculate duration\n",
    "end_time = time.time()\n",
    "print(f\"Time taken to run the cell: {end_time - start_time:.2f} seconds\")"
   ]
  },
  {
   "cell_type": "markdown",
   "metadata": {},
   "source": [
    "In this scenario, overfitting remains an issue. To address this, we can manually adjust the class weights to mitigate its effects, ensuring the model places more emphasis on the minority classes during training. This approach involves assigning higher weights to underrepresented classes and lower weights to overrepresented ones. Below is the process for adding manual class weights:"
   ]
  },
  {
   "cell_type": "code",
   "execution_count": 77,
   "metadata": {},
   "outputs": [
    {
     "name": "stdout",
     "output_type": "stream",
     "text": [
      "Computed Class Weights:\n",
      "{0: 0.37825269615118234, 1: 16.337606837606838, 2: 3.3891843971631204}\n"
     ]
    }
   ],
   "source": [
    "from sklearn.utils.class_weight import compute_class_weight\n",
    "import numpy as np\n",
    "\n",
    "# Compute the normal class weights\n",
    "classes = np.unique(y_train_encoded)\n",
    "class_weights = compute_class_weight(class_weight='balanced', classes=classes, y=y_train_encoded)\n",
    "class_weights_dict = dict(zip(classes, class_weights))\n",
    "\n",
    "# Print the computed class weights\n",
    "print(\"Computed Class Weights:\")\n",
    "print(class_weights_dict)"
   ]
  },
  {
   "cell_type": "code",
   "execution_count": 78,
   "metadata": {},
   "outputs": [],
   "source": [
    "manual_class_weights = {\n",
    "    '0': 0.4, \n",
    "    '1': 50, \n",
    "    '2': 3,     \n",
    "}\n",
    "\n",
    "# Get unique classes in y_train_encoded\n",
    "unique_classes = list(set(y_train_encoded))\n",
    "\n",
    "# Ensure class weights only include keys for existing classes\n",
    "adjusted_class_weights = {k: manual_class_weights[k] for k in unique_classes if k in manual_class_weights}"
   ]
  },
  {
   "cell_type": "code",
   "execution_count": 79,
   "metadata": {},
   "outputs": [
    {
     "name": "stdout",
     "output_type": "stream",
     "text": [
      "___________________________________________________________________________________________________________\n",
      "                                                     TRAIN                                                 \n",
      "-----------------------------------------------------------------------------------------------------------\n",
      "              precision    recall  f1-score   support\n",
      "\n",
      "           0       1.00      1.00      1.00      3369\n",
      "           1       1.00      1.00      1.00        78\n",
      "           2       1.00      1.00      1.00       376\n",
      "\n",
      "    accuracy                           1.00      3823\n",
      "   macro avg       1.00      1.00      1.00      3823\n",
      "weighted avg       1.00      1.00      1.00      3823\n",
      "\n",
      "___________________________________________________________________________________________________________\n",
      "                                                VALIDATION                                                 \n",
      "-----------------------------------------------------------------------------------------------------------\n",
      "              precision    recall  f1-score   support\n",
      "\n",
      "           0       0.96      0.96      0.96       842\n",
      "           1       0.10      0.16      0.12        19\n",
      "           2       0.85      0.81      0.83        94\n",
      "\n",
      "    accuracy                           0.93       955\n",
      "   macro avg       0.64      0.64      0.64       955\n",
      "weighted avg       0.93      0.93      0.93       955\n",
      "\n"
     ]
    },
    {
     "data": {
      "image/png": "[encoded data removed]",
      "text/plain": [
       "<Figure size 1000x400 with 2 Axes>"
      ]
     },
     "metadata": {},
     "output_type": "display_data"
    },
    {
     "name": "stdout",
     "output_type": "stream",
     "text": [
      "Time taken to run the cell: 0.90 seconds\n"
     ]
    }
   ],
   "source": [
    "# Record the start time\n",
    "start_time = time.time()\n",
    "\n",
    "# Initialize the Decision Tree model with manual class weights\n",
    "dt_model_class = DecisionTreeClassifier(random_state=42, class_weight=adjusted_class_weights)\n",
    "\n",
    "# Fit the model to the training data\n",
    "dt_model_class.fit(X_train_final, y_train_encoded)\n",
    "\n",
    "# Predict on the training and validation data\n",
    "y_pred_dt_train_class = dt_model_class.predict(X_train_final)\n",
    "y_pred_dt_val_class = dt_model_class.predict(X_val_final)\n",
    "\n",
    "# Evaluate the model\n",
    "metrics(y_train_encoded, y_pred_dt_train_class, y_val_encoded, y_pred_dt_val_class)\n",
    "\n",
    "# Record the end time and calculate duration\n",
    "end_time = time.time()\n",
    "print(f\"Time taken to run the cell: {end_time - start_time:.2f} seconds\")\n"
   ]
  },
  {
   "cell_type": "markdown",
   "metadata": {},
   "source": [
    "**Grid Search**\n",
    "\n",
    "Grid Search is a systematic method for hyperparameter tuning in machine learning models. It tests all possible combinations of specified hyperparameters to find the configuration that yields the best performance on a given validation metric. The process involves:\n",
    "\n",
    "Defining a parameter grid with potential values for each hyperparameter.\n",
    "Evaluating the model's performance using cross-validation for every parameter combination.\n",
    "Selecting the best combination based on a scoring metric (e.g., accuracy, F1-score).\n",
    "While Grid Search can be computationally expensive, it ensures that the best hyperparameter combination is selected systematically."
   ]
  },
  {
   "cell_type": "code",
   "execution_count": null,
   "metadata": {},
   "outputs": [
    {
     "name": "stdout",
     "output_type": "stream",
     "text": [
      "Fitting 5 folds for each of 150 candidates, totalling 750 fits\n",
      "Best Parameters: {'max_depth': 15, 'min_samples_leaf': 2, 'min_samples_split': 10}\n",
      "Best F1-Score: 0.6619\n",
      "Time taken for Grid Search: 7.21 seconds\n"
     ]
    }
   ],
   "source": [
    "from sklearn.model_selection import GridSearchCV\n",
    "from sklearn.tree import DecisionTreeClassifier\n",
    "import time\n",
    "\n",
    "# Define the parameter grid for Grid Search\n",
    "param_grid = {\n",
    "    'max_depth': [3, 5, 10, 15,  None],         # Tree depth\n",
    "    'min_samples_split': [2, 5, 10, 15, 30],      # Minimum samples required to split\n",
    "    'min_samples_leaf': [1, 2, 5, 10, 15, 30]       # Minimum samples required at a leaf node\n",
    "}\n",
    "\n",
    "# Initialize the Decision Tree model\n",
    "dt_model = DecisionTreeClassifier(random_state=42, class_weight=adjusted_class_weights)\n",
    "\n",
    "# Perform Grid Search with cross-validation\n",
    "grid_search = GridSearchCV(\n",
    "    estimator=dt_model,\n",
    "    param_grid=param_grid,\n",
    "    scoring='f1_macro',  # Scoring metric\n",
    "    cv=5,                # Number of folds in cross-validation\n",
    "    n_jobs=-1,           # Use all available CPUs\n",
    "    verbose=1            # Display progress\n",
    ")\n",
    "\n",
    "# Record the start time\n",
    "start_time = time.time()\n",
    "\n",
    "# Fit Grid Search to the training data\n",
    "grid_search.fit(X_train_final, y_train_encoded)\n",
    "\n",
    "# Record the end time\n",
    "end_time = time.time()\n",
    "\n",
    "# Output the best parameters and corresponding score\n",
    "print(\"Best Parameters:\", grid_search.best_params_)\n",
    "print(f\"Best F1-Score: {grid_search.best_score_:.4f}\")\n",
    "print(f\"Time taken for Grid Search: {end_time - start_time:.2f} seconds\")"
   ]
  },
  {
   "cell_type": "code",
   "execution_count": 81,
   "metadata": {},
   "outputs": [],
   "source": [
    "dt_best_model = grid_search.best_estimator_\n"
   ]
  },
  {
   "cell_type": "code",
   "execution_count": 82,
   "metadata": {},
   "outputs": [
    {
     "name": "stdout",
     "output_type": "stream",
     "text": [
      "Metrics for Decision Tree (Training and Validation):\n",
      "___________________________________________________________________________________________________________\n",
      "                                                     TRAIN                                                 \n",
      "-----------------------------------------------------------------------------------------------------------\n",
      "              precision    recall  f1-score   support\n",
      "\n",
      "           0       0.98      0.99      0.99      3369\n",
      "           1       0.72      0.29      0.42        78\n",
      "           2       0.97      0.93      0.95       376\n",
      "\n",
      "    accuracy                           0.97      3823\n",
      "   macro avg       0.89      0.74      0.78      3823\n",
      "weighted avg       0.97      0.97      0.97      3823\n",
      "\n",
      "___________________________________________________________________________________________________________\n",
      "                                                VALIDATION                                                 \n",
      "-----------------------------------------------------------------------------------------------------------\n",
      "              precision    recall  f1-score   support\n",
      "\n",
      "           0       0.97      0.98      0.97       842\n",
      "           1       0.20      0.11      0.14        19\n",
      "           2       0.85      0.84      0.84        94\n",
      "\n",
      "    accuracy                           0.95       955\n",
      "   macro avg       0.67      0.64      0.65       955\n",
      "weighted avg       0.94      0.95      0.94       955\n",
      "\n"
     ]
    },
    {
     "data": {
      "image/png": "[encoded data removed]",
      "text/plain": [
       "<Figure size 1000x400 with 2 Axes>"
      ]
     },
     "metadata": {},
     "output_type": "display_data"
    }
   ],
   "source": [
    "# Fit the model with the best parameters to the training data\n",
    "dt_best_model.fit(X_train_final, y_train_encoded)\n",
    "\n",
    "# Predict on the training and validation datasets\n",
    "y_pred_dt_train = dt_best_model.predict(X_train_final)\n",
    "y_pred_dt_val = dt_best_model.predict(X_val_final)\n",
    "\n",
    "# Evaluate the performance using metrics function\n",
    "print(\"Metrics for Decision Tree (Training and Validation):\")\n",
    "metrics(y_train_encoded, y_pred_dt_train, y_val_encoded, y_pred_dt_val)"
   ]
  },
  {
   "cell_type": "markdown",
   "metadata": {},
   "source": [
    "### 5.1.3. K-Nearest Neighbors (KNN) <a class=\"anchor\" id=\"sub_section_5_1_3\"></a>\n",
    "\n",
    "[Back to 5.1. Simple Models](#section_5_1)<br>\n",
    "\n",
    "\n",
    "KNN is a distance-based algorithm that predicts the class of a data point by considering the majority class among its nearest neighbors. It is sensitive to class imbalance, so preprocessing like scaling and balancing techniques are essential for effective results."
   ]
  },
  {
   "cell_type": "code",
   "execution_count": 83,
   "metadata": {},
   "outputs": [
    {
     "name": "stdout",
     "output_type": "stream",
     "text": [
      "___________________________________________________________________________________________________________\n",
      "                                                     TRAIN                                                 \n",
      "-----------------------------------------------------------------------------------------------------------\n",
      "              precision    recall  f1-score   support\n",
      "\n",
      "           0       0.96      0.98      0.97      3369\n",
      "           1       1.00      0.04      0.07        78\n",
      "           2       0.84      0.84      0.84       376\n",
      "\n",
      "    accuracy                           0.95      3823\n",
      "   macro avg       0.93      0.62      0.63      3823\n",
      "weighted avg       0.95      0.95      0.94      3823\n",
      "\n",
      "___________________________________________________________________________________________________________\n",
      "                                                VALIDATION                                                 \n",
      "-----------------------------------------------------------------------------------------------------------\n",
      "              precision    recall  f1-score   support\n",
      "\n",
      "           0       0.96      0.97      0.97       842\n",
      "           1       0.50      0.05      0.10        19\n",
      "           2       0.76      0.83      0.80        94\n",
      "\n",
      "    accuracy                           0.94       955\n",
      "   macro avg       0.74      0.62      0.62       955\n",
      "weighted avg       0.93      0.94      0.93       955\n",
      "\n"
     ]
    },
    {
     "data": {
      "image/png": "[encoded data removed]",
      "text/plain": [
       "<Figure size 1000x400 with 2 Axes>"
      ]
     },
     "metadata": {},
     "output_type": "display_data"
    },
    {
     "name": "stdout",
     "output_type": "stream",
     "text": [
      "Time taken to run the cell: 0.92 seconds\n"
     ]
    }
   ],
   "source": [
    "from sklearn.neighbors import KNeighborsClassifier\n",
    "from sklearn.preprocessing import StandardScaler\n",
    "from sklearn.pipeline import Pipeline\n",
    "import time\n",
    "\n",
    "# Record the start time\n",
    "start_time = time.time()\n",
    "\n",
    "# Create a pipeline with StandardScaler and KNN\n",
    "knn_pipeline = Pipeline([\n",
    "    ('scaler', StandardScaler()),  # Standardize features\n",
    "    ('knn', KNeighborsClassifier(n_neighbors=5))  # Initialize KNN\n",
    "])\n",
    "\n",
    "# Fit the pipeline to the training data\n",
    "knn_pipeline.fit(X_train_final, y_train_encoded)\n",
    "\n",
    "# Predict on the training and validation data\n",
    "y_pred_knn_train = knn_pipeline.predict(X_train_final)\n",
    "y_pred_knn_val = knn_pipeline.predict(X_val_final)\n",
    "\n",
    "# Evaluate the model\n",
    "metrics(y_train_encoded, y_pred_knn_train, y_val_encoded, y_pred_knn_val)\n",
    "\n",
    "# Record the end time and calculate duration\n",
    "end_time = time.time()\n",
    "print(f\"Time taken to run the cell: {end_time - start_time:.2f} seconds\")"
   ]
  },
  {
   "cell_type": "markdown",
   "metadata": {},
   "source": [
    "## 5.2. Deep Learning Methods</b> <a class=\"anchor\" id=\"section_5_2\"></a>\n",
    "[Back to 5. Modelling](#chapter5)<br>\n",
    "\n",
    "Deep learning methods are powerful tools for capturing complex and non-linear relationships in data. These models are particularly useful for large datasets with intricate patterns, but they require careful tuning to avoid overfitting, especially in imbalanced datasets like ours. One advantage of neural networks is their flexibility to model interactions between features automatically, but they also demand more computational resources and expertise in fine-tuning.\n",
    "\n",
    "Here, we explore a simple feed-forward neural network implemented using the TensorFlow library. To address the imbalance issue in the dataset, we'll apply class weights during training, ensuring that the minority classes are properly accounted for.\n",
    "\n",
    "A feed-forward neural network is one of the most basic forms of neural networks. It consists of input layers, hidden layers with activation functions, and an output layer for predictions. This structure makes it versatile and applicable to binary or multi-class classification problems."
   ]
  },
  {
   "cell_type": "code",
   "execution_count": 85,
   "metadata": {},
   "outputs": [
    {
     "name": "stdout",
     "output_type": "stream",
     "text": [
      "Epoch 1/30\n",
      "60/60 [==============================] - 2s 9ms/step - loss: 0.5001 - accuracy: 0.8300 - val_loss: 0.3178 - val_accuracy: 0.9152\n",
      "Epoch 2/30\n",
      "60/60 [==============================] - 0s 7ms/step - loss: 0.3197 - accuracy: 0.9061 - val_loss: 0.2625 - val_accuracy: 0.9215\n",
      "Epoch 3/30\n",
      "60/60 [==============================] - 0s 3ms/step - loss: 0.2750 - accuracy: 0.9155 - val_loss: 0.2361 - val_accuracy: 0.9277\n",
      "Epoch 4/30\n",
      "60/60 [==============================] - 0s 3ms/step - loss: 0.2498 - accuracy: 0.9223 - val_loss: 0.2223 - val_accuracy: 0.9340\n",
      "Epoch 5/30\n",
      "60/60 [==============================] - 0s 4ms/step - loss: 0.2386 - accuracy: 0.9231 - val_loss: 0.2118 - val_accuracy: 0.9393\n",
      "Epoch 6/30\n",
      "60/60 [==============================] - 0s 3ms/step - loss: 0.2265 - accuracy: 0.9257 - val_loss: 0.2075 - val_accuracy: 0.9403\n",
      "Epoch 7/30\n",
      "60/60 [==============================] - 0s 3ms/step - loss: 0.2233 - accuracy: 0.9275 - val_loss: 0.1975 - val_accuracy: 0.9414\n",
      "Epoch 8/30\n",
      "60/60 [==============================] - 0s 3ms/step - loss: 0.2127 - accuracy: 0.9312 - val_loss: 0.1984 - val_accuracy: 0.9403\n",
      "Epoch 9/30\n",
      "60/60 [==============================] - 0s 5ms/step - loss: 0.2047 - accuracy: 0.9383 - val_loss: 0.1935 - val_accuracy: 0.9414\n",
      "Epoch 10/30\n",
      "60/60 [==============================] - 0s 3ms/step - loss: 0.1988 - accuracy: 0.9377 - val_loss: 0.1910 - val_accuracy: 0.9445\n",
      "Epoch 11/30\n",
      "60/60 [==============================] - 0s 3ms/step - loss: 0.1940 - accuracy: 0.9375 - val_loss: 0.1896 - val_accuracy: 0.9466\n",
      "Epoch 12/30\n",
      "60/60 [==============================] - 0s 4ms/step - loss: 0.1899 - accuracy: 0.9425 - val_loss: 0.1841 - val_accuracy: 0.9487\n",
      "Epoch 13/30\n",
      "60/60 [==============================] - 0s 3ms/step - loss: 0.1931 - accuracy: 0.9406 - val_loss: 0.1849 - val_accuracy: 0.9497\n",
      "Epoch 14/30\n",
      "60/60 [==============================] - 0s 5ms/step - loss: 0.1876 - accuracy: 0.9435 - val_loss: 0.1812 - val_accuracy: 0.9529\n",
      "Epoch 15/30\n",
      "60/60 [==============================] - 0s 5ms/step - loss: 0.1865 - accuracy: 0.9393 - val_loss: 0.1799 - val_accuracy: 0.9455\n",
      "Epoch 16/30\n",
      "60/60 [==============================] - 0s 4ms/step - loss: 0.1894 - accuracy: 0.9432 - val_loss: 0.1781 - val_accuracy: 0.9497\n",
      "Epoch 17/30\n",
      "60/60 [==============================] - 0s 5ms/step - loss: 0.1815 - accuracy: 0.9461 - val_loss: 0.1781 - val_accuracy: 0.9518\n",
      "Epoch 18/30\n",
      "60/60 [==============================] - 0s 5ms/step - loss: 0.1792 - accuracy: 0.9445 - val_loss: 0.1786 - val_accuracy: 0.9550\n",
      "Epoch 19/30\n",
      "60/60 [==============================] - 0s 6ms/step - loss: 0.1843 - accuracy: 0.9435 - val_loss: 0.1773 - val_accuracy: 0.9550\n",
      "Epoch 20/30\n",
      "60/60 [==============================] - 0s 5ms/step - loss: 0.1693 - accuracy: 0.9482 - val_loss: 0.1754 - val_accuracy: 0.9529\n",
      "Epoch 21/30\n",
      "60/60 [==============================] - 0s 6ms/step - loss: 0.1729 - accuracy: 0.9506 - val_loss: 0.1759 - val_accuracy: 0.9550\n",
      "Epoch 22/30\n",
      "60/60 [==============================] - 0s 6ms/step - loss: 0.1702 - accuracy: 0.9485 - val_loss: 0.1739 - val_accuracy: 0.9550\n",
      "Epoch 23/30\n",
      "60/60 [==============================] - 0s 5ms/step - loss: 0.1720 - accuracy: 0.9456 - val_loss: 0.1764 - val_accuracy: 0.9518\n",
      "Epoch 24/30\n",
      "60/60 [==============================] - 0s 3ms/step - loss: 0.1670 - accuracy: 0.9490 - val_loss: 0.1748 - val_accuracy: 0.9518\n",
      "Epoch 25/30\n",
      "60/60 [==============================] - 0s 4ms/step - loss: 0.1747 - accuracy: 0.9456 - val_loss: 0.1807 - val_accuracy: 0.9560\n",
      "Epoch 26/30\n",
      "60/60 [==============================] - 0s 4ms/step - loss: 0.1719 - accuracy: 0.9448 - val_loss: 0.1766 - val_accuracy: 0.9497\n",
      "Epoch 27/30\n",
      "60/60 [==============================] - 0s 6ms/step - loss: 0.1660 - accuracy: 0.9472 - val_loss: 0.1754 - val_accuracy: 0.9539\n",
      "Epoch 28/30\n",
      "60/60 [==============================] - 0s 6ms/step - loss: 0.1651 - accuracy: 0.9508 - val_loss: 0.1743 - val_accuracy: 0.9560\n",
      "Epoch 29/30\n",
      "60/60 [==============================] - 0s 4ms/step - loss: 0.1633 - accuracy: 0.9513 - val_loss: 0.1757 - val_accuracy: 0.9508\n",
      "Epoch 30/30\n",
      "60/60 [==============================] - 0s 6ms/step - loss: 0.1653 - accuracy: 0.9495 - val_loss: 0.1711 - val_accuracy: 0.9529\n",
      "Time taken to train the model: 10.74 seconds\n",
      "120/120 [==============================] - 0s 3ms/step\n",
      "30/30 [==============================] - 0s 3ms/step\n",
      "\n",
      "Metrics for Neural Network:\n",
      "___________________________________________________________________________________________________________\n",
      "                                                     TRAIN                                                 \n",
      "-----------------------------------------------------------------------------------------------------------\n",
      "              precision    recall  f1-score   support\n",
      "\n",
      "           0       0.97      0.99      0.98      3369\n",
      "           1       1.00      0.06      0.12        78\n",
      "           2       0.87      0.86      0.87       376\n",
      "\n",
      "    accuracy                           0.96      3823\n",
      "   macro avg       0.95      0.64      0.65      3823\n",
      "weighted avg       0.96      0.96      0.95      3823\n",
      "\n",
      "___________________________________________________________________________________________________________\n",
      "                                                VALIDATION                                                 \n",
      "-----------------------------------------------------------------------------------------------------------\n",
      "              precision    recall  f1-score   support\n",
      "\n",
      "           0       0.97      0.99      0.98       842\n",
      "           1       0.00      0.00      0.00        19\n",
      "           2       0.84      0.84      0.84        94\n",
      "\n",
      "    accuracy                           0.95       955\n",
      "   macro avg       0.60      0.61      0.61       955\n",
      "weighted avg       0.93      0.95      0.94       955\n",
      "\n"
     ]
    },
    {
     "data": {
      "image/png": "[encoded data removed]",
      "text/plain": [
       "<Figure size 1000x400 with 2 Axes>"
      ]
     },
     "metadata": {},
     "output_type": "display_data"
    }
   ],
   "source": [
    "import tensorflow as tf\n",
    "from sklearn.utils.class_weight import compute_class_weight\n",
    "import numpy as np\n",
    "import time\n",
    "\n",
    "# Define the model\n",
    "def create_model_with_manual_weights(input_dim):\n",
    "    model = tf.keras.Sequential([\n",
    "        tf.keras.layers.Dense(64, activation='relu', input_dim=input_dim),\n",
    "        tf.keras.layers.Dropout(0.3),  # Regularization\n",
    "        tf.keras.layers.Dense(32, activation='relu'),\n",
    "        tf.keras.layers.Dense(len(manual_class_weights), activation='softmax')  # Output layer for multi-class\n",
    "    ])\n",
    "    model.compile(\n",
    "        optimizer='adam',\n",
    "        loss='sparse_categorical_crossentropy',  # Suitable for integer labels\n",
    "        metrics=['accuracy']\n",
    "    )\n",
    "    return model\n",
    "\n",
    "# Record the start time\n",
    "start_time = time.time()\n",
    "\n",
    "# Initialize the model\n",
    "input_dim = X_train_final.shape[1]\n",
    "nn_model_manual_weights = create_model_with_manual_weights(input_dim)\n",
    "\n",
    "# Train the model with corrected manual class weights\n",
    "nn_model_manual_weights.fit(\n",
    "    X_train_final,\n",
    "    y_train_encoded,\n",
    "    validation_data=(X_val_final, y_val_encoded),\n",
    "    epochs=30,\n",
    "    batch_size=64,\n",
    "    verbose=1\n",
    ")\n",
    "\n",
    "# Record the end time\n",
    "end_time = time.time()\n",
    "print(f\"Time taken to train the model: {end_time - start_time:.2f} seconds\")\n",
    "\n",
    "# Predict on training and validation data\n",
    "y_pred_nn_train_manual = np.argmax(nn_model_manual_weights.predict(X_train_final), axis=1)\n",
    "y_pred_nn_val_manual = np.argmax(nn_model_manual_weights.predict(X_val_final), axis=1)\n",
    "\n",
    "# Evaluate using the metrics() function\n",
    "print(\"\\nMetrics for Neural Network:\")\n",
    "metrics(y_train_encoded, y_pred_nn_train_manual, y_val_encoded, y_pred_nn_val_manual)"
   ]
  },
  {
   "cell_type": "markdown",
   "metadata": {},
   "source": [
    "## 5.3. Ensemble Models </b> <a class=\"anchor\" id=\"section_5_3\"></a>\n",
    "\n",
    "[Back to 5. Modelling](#chapter5)<br>\n",
    "\n",
    "Ensemble models combine predictions from multiple base models to improve performance. These methods are robust to overfitting and perform well on imbalanced datasets when combined with appropriate class balancing techniques.\n",
    "\n",
    "### 5.3.1. Bagging <a class=\"anchor\" id=\"sub_section_5_3_1\"></a>\n",
    "\n",
    "[Back to 5.3. Ensemble Models](#section_5_3)<br>\n",
    "\n",
    "Bagging methods, such as Random Forest, aggregate predictions from multiple models trained on bootstrap samples. This reduces variance and enhances generalization.\n",
    "Random Forest is an ensemble learning method that builds multiple decision trees and averages their predictions. It can handle imbalanced datasets relatively well by adjusting class weights."
   ]
  },
  {
   "cell_type": "code",
   "execution_count": 86,
   "metadata": {},
   "outputs": [
    {
     "name": "stdout",
     "output_type": "stream",
     "text": [
      "___________________________________________________________________________________________________________\n",
      "                                                     TRAIN                                                 \n",
      "-----------------------------------------------------------------------------------------------------------\n",
      "              precision    recall  f1-score   support\n",
      "\n",
      "           0       1.00      1.00      1.00      3369\n",
      "           1       1.00      1.00      1.00        78\n",
      "           2       1.00      1.00      1.00       376\n",
      "\n",
      "    accuracy                           1.00      3823\n",
      "   macro avg       1.00      1.00      1.00      3823\n",
      "weighted avg       1.00      1.00      1.00      3823\n",
      "\n",
      "___________________________________________________________________________________________________________\n",
      "                                                VALIDATION                                                 \n",
      "-----------------------------------------------------------------------------------------------------------\n",
      "              precision    recall  f1-score   support\n",
      "\n",
      "           0       0.97      0.99      0.98       842\n",
      "           1       0.00      0.00      0.00        19\n",
      "           2       0.90      0.86      0.88        94\n",
      "\n",
      "    accuracy                           0.96       955\n",
      "   macro avg       0.62      0.62      0.62       955\n",
      "weighted avg       0.94      0.96      0.95       955\n",
      "\n"
     ]
    },
    {
     "data": {
      "image/png": "[encoded data removed]",
      "text/plain": [
       "<Figure size 1000x400 with 2 Axes>"
      ]
     },
     "metadata": {},
     "output_type": "display_data"
    },
    {
     "name": "stdout",
     "output_type": "stream",
     "text": [
      "Time taken to run the cell: 1.55 seconds\n"
     ]
    }
   ],
   "source": [
    "# Record the start time\n",
    "start_time = time.time()\n",
    "\n",
    "rf_model = RandomForestClassifier(random_state=42, class_weight='balanced')\n",
    "\n",
    "# Fit the model to the training data\n",
    "rf_model.fit(X_train_final, y_train_encoded)\n",
    "\n",
    "# Predict on the training and validation data\n",
    "y_pred_rf_train = rf_model.predict(X_train_final)\n",
    "y_pred_rf_val = rf_model.predict(X_val_final)\n",
    "\n",
    "# Evaluate the model\n",
    "metrics(y_train_encoded, y_pred_rf_train, y_val_encoded, y_pred_rf_val)\n",
    "\n",
    "# Record the end time and calculate duration\n",
    "end_time = time.time()\n",
    "print(f\"Time taken to run the cell: {end_time - start_time:.2f} seconds\")\n"
   ]
  },
  {
   "cell_type": "markdown",
   "metadata": {},
   "source": [
    "The Random Forest model, even with the use of class_weight='balanced', continues to show signs of overfitting. This indicates that while class weights have helped mitigate class imbalance to some extent, additional hyperparameter tuning is required to achieve a better balance between performance on the training and validation sets. To address this, we will implement a Grid Search approach, incorporating different combinations of hyperparameters and testing additional manually computed class weights to find the best configuration."
   ]
  },
  {
   "cell_type": "code",
   "execution_count": null,
   "metadata": {},
   "outputs": [
    {
     "name": "stdout",
     "output_type": "stream",
     "text": [
      "Fitting 3 folds for each of 216 candidates, totalling 648 fits\n"
     ]
    }
   ],
   "source": [
    "# from sklearn.ensemble import RandomForestClassifier\n",
    "# from sklearn.model_selection import GridSearchCV\n",
    "# import time\n",
    "\n",
    "# # Define the parameter grid\n",
    "# param_grid = {\n",
    "#     'n_estimators': [100, 200, 500],  # Number of trees in the forest\n",
    "#     'max_depth': [10, 20, 30, None],  # Depth of the trees\n",
    "#     'min_samples_split': [2, 5, 10],  # Minimum samples required to split a node\n",
    "#     'min_samples_leaf': [1, 2, 4],  # Minimum samples required to be a leaf node\n",
    "#     'class_weight': ['balanced', {0: 2.0, 1: 1.0, 2: 0.5, 3: 5.0, 4: 10.0, 5: 20.0}]  # Class weights\n",
    "# }\n",
    "\n",
    "# # Initialize the Random Forest model\n",
    "# rf_model = RandomForestClassifier(random_state=42)\n",
    "\n",
    "# # Initialize GridSearchCV\n",
    "# grid_search = GridSearchCV(\n",
    "#     estimator=rf_model,\n",
    "#     param_grid=param_grid,\n",
    "#     scoring='f1_macro',  # Evaluate using F1-score\n",
    "#     cv=3,  # 3-fold cross-validation\n",
    "#     verbose=2,\n",
    "#     n_jobs=-1  # Use all available cores\n",
    "# )\n",
    "\n",
    "# # Record the start time\n",
    "# start_time = time.time()\n",
    "\n",
    "# # Fit GridSearchCV\n",
    "# grid_search.fit(X_train_final, y_train_encoded)\n",
    "\n",
    "# # Record the end time and calculate duration\n",
    "# end_time = time.time()\n",
    "# print(f\"Time taken to run the grid search: {end_time - start_time:.2f} seconds\")\n",
    "\n",
    "# # Best parameters and performance\n",
    "# print(f\"Best Parameters: {grid_search.best_params_}\")\n",
    "# print(f\"Best F1-Score: {grid_search.best_score_:.4f}\")\n",
    "\n",
    "# best_model_rf = grid.best_estimator_"
   ]
  },
  {
   "cell_type": "code",
   "execution_count": null,
   "metadata": {},
   "outputs": [],
   "source": [
    "# import joblib\n",
    "\n",
    "# # Save the best model to a file\n",
    "# joblib.dump(best_rf_model, '../grid_search_parameters/best_rf_model.pkl')\n",
    "# print(\"Best model saved as 'best_rf_model.pkl'.\")"
   ]
  },
  {
   "cell_type": "code",
   "execution_count": null,
   "metadata": {},
   "outputs": [],
   "source": [
    "# best_rf_model = joblib.load('../grid_search_parameters/best_rf_model.pkl')\n",
    "# print(\"Best model loaded successfully.\")"
   ]
  },
  {
   "cell_type": "code",
   "execution_count": null,
   "metadata": {},
   "outputs": [],
   "source": [
    "# # Predict on the training set\n",
    "# y_pred_rf_train = np.argmax(best_rf_model.predict(X_train_scaled), axis=1)\n",
    "\n",
    "# # Evaluate the best model on the validation set\n",
    "# y_pred_rf_val = best_rf_model.predict(X_val_final)\n",
    "\n",
    "# # Metrics evaluation\n",
    "# metrics(y_train_encoded, y_pred_rf_train, y_val_encoded, y_pred_rf_val)"
   ]
  },
  {
   "cell_type": "markdown",
   "metadata": {},
   "source": [
    "### 5.3.2. Boosting <a class=\"anchor\" id=\"sub_section_5_3_2\"></a>\n",
    "\n",
    "[Back to 5.3. Ensemble Models](#section_5_3)<br>\n",
    "\n",
    "Boosting methods, including XGBoost, LightGBM, and CatBoost, sequentially train models to correct errors from previous iterations. These are powerful tools for imbalanced datasets due to their ability to focus on harder-to-classify examples.\n",
    "\n",
    "\n",
    "#### **XGBoost**\n",
    "\n",
    "XGBoost is a gradient boosting algorithm that is highly effective for classification tasks, especially on imbalanced datasets. It uses regularization to reduce overfitting and improve generalization."
   ]
  },
  {
   "cell_type": "code",
   "execution_count": 87,
   "metadata": {},
   "outputs": [
    {
     "name": "stdout",
     "output_type": "stream",
     "text": [
      "___________________________________________________________________________________________________________\n",
      "                                                     TRAIN                                                 \n",
      "-----------------------------------------------------------------------------------------------------------\n",
      "              precision    recall  f1-score   support\n",
      "\n",
      "           0       1.00      1.00      1.00      3369\n",
      "           1       1.00      1.00      1.00        78\n",
      "           2       1.00      1.00      1.00       376\n",
      "\n",
      "    accuracy                           1.00      3823\n",
      "   macro avg       1.00      1.00      1.00      3823\n",
      "weighted avg       1.00      1.00      1.00      3823\n",
      "\n",
      "___________________________________________________________________________________________________________\n",
      "                                                VALIDATION                                                 \n",
      "-----------------------------------------------------------------------------------------------------------\n",
      "              precision    recall  f1-score   support\n",
      "\n",
      "           0       0.97      0.99      0.98       842\n",
      "           1       0.00      0.00      0.00        19\n",
      "           2       0.89      0.87      0.88        94\n",
      "\n",
      "    accuracy                           0.96       955\n",
      "   macro avg       0.62      0.62      0.62       955\n",
      "weighted avg       0.94      0.96      0.95       955\n",
      "\n"
     ]
    },
    {
     "data": {
      "image/png": "[encoded data removed]",
      "text/plain": [
       "<Figure size 1000x400 with 2 Axes>"
      ]
     },
     "metadata": {},
     "output_type": "display_data"
    },
    {
     "name": "stdout",
     "output_type": "stream",
     "text": [
      "Time taken to run the cell: 0.94 seconds\n"
     ]
    }
   ],
   "source": [
    "# Initialize the XGBoost model\n",
    "from xgboost import XGBClassifier\n",
    "\n",
    "# Record the start time\n",
    "start_time = time.time()\n",
    "\n",
    "xgb_model = XGBClassifier(random_state=42, eval_metric='logloss', use_label_encoder=False)\n",
    "\n",
    "# Fit the model to the training data\n",
    "xgb_model.fit(X_train_final, y_train_encoded)\n",
    "\n",
    "# Predict on the training and validation data\n",
    "y_pred_xgb_train = xgb_model.predict(X_train_final)\n",
    "y_pred_xgb_val = xgb_model.predict(X_val_final)\n",
    "\n",
    "# Evaluate the model\n",
    "metrics(y_train_encoded, y_pred_xgb_train, y_val_encoded, y_pred_xgb_val)\n",
    "\n",
    "# Record the end time and calculate duration\n",
    "end_time = time.time()\n",
    "print(f\"Time taken to run the cell: {end_time - start_time:.2f} seconds\")"
   ]
  },
  {
   "cell_type": "markdown",
   "metadata": {},
   "source": [
    "**SMOTE**\n",
    "\n",
    "To effectively address class imbalance, we combine different over-sampling techniques, such as SMOTE (for numerical features), SMOTENC (for mixed features), ADASYN (Adaptive Synthetic Sampling), and Borderline-SMOTE (a variant focused on borderline cases). These resampling methods are integrated into an XGBoost pipeline with Grid Search for hyperparameter optimization.\n",
    "\n",
    "The key steps involve:\n",
    "\n",
    "Defining Sampling Strategies: Including 'minority', 'not minority', 'not majority', and 'auto'.\n",
    "Integrating Resampling Methods:\n",
    "- SMOTE\n",
    "- SMOTENC\n",
    "- ADASYN\n",
    "- Borderline-SMOTE\n",
    "- Hyperparameter Grid Search: Optimize XGBoost parameters like learning_rate and n_estimators for each sampling technique.\n",
    "- Evaluation: Use F1-Score (macro average) as the scoring metric and evaluate performance across different resampling methods."
   ]
  },
  {
   "cell_type": "code",
   "execution_count": 95,
   "metadata": {},
   "outputs": [
    {
     "name": "stdout",
     "output_type": "stream",
     "text": [
      "Starting Grid Search with Resampling Methods...\n",
      "\n",
      "Running SMOTE with sampling_strategy='minority'...\n",
      "Fitting 5 folds for each of 4 candidates, totalling 20 fits\n",
      "Time taken: 33.62 seconds\n",
      "\n",
      "Running SMOTE with sampling_strategy='not minority'...\n",
      "Fitting 5 folds for each of 4 candidates, totalling 20 fits\n",
      "Time taken: 30.28 seconds\n",
      "\n",
      "Running SMOTE with sampling_strategy='not majority'...\n",
      "Fitting 5 folds for each of 4 candidates, totalling 20 fits\n",
      "Time taken: 34.41 seconds\n",
      "\n",
      "Running SMOTE with sampling_strategy='auto'...\n",
      "Fitting 5 folds for each of 4 candidates, totalling 20 fits\n",
      "Time taken: 33.08 seconds\n",
      "\n",
      "Running ADASYN with sampling_strategy='minority'...\n",
      "Fitting 5 folds for each of 4 candidates, totalling 20 fits\n",
      "Time taken: 47.37 seconds\n",
      "\n",
      "Running ADASYN with sampling_strategy='not minority'...\n",
      "Fitting 5 folds for each of 4 candidates, totalling 20 fits\n",
      "Time taken: 237.70 seconds\n",
      "\n",
      "Running ADASYN with sampling_strategy='not majority'...\n",
      "Fitting 5 folds for each of 4 candidates, totalling 20 fits\n",
      "Time taken: 87.76 seconds\n",
      "\n",
      "Running ADASYN with sampling_strategy='auto'...\n",
      "Fitting 5 folds for each of 4 candidates, totalling 20 fits\n",
      "Time taken: 73.92 seconds\n",
      "\n",
      "Running BorderlineSMOTE with sampling_strategy='minority'...\n",
      "Fitting 5 folds for each of 4 candidates, totalling 20 fits\n",
      "Time taken: 127.60 seconds\n",
      "\n",
      "Running BorderlineSMOTE with sampling_strategy='not minority'...\n",
      "Fitting 5 folds for each of 4 candidates, totalling 20 fits\n",
      "Time taken: 121.14 seconds\n",
      "\n",
      "Running BorderlineSMOTE with sampling_strategy='not majority'...\n",
      "Fitting 5 folds for each of 4 candidates, totalling 20 fits\n",
      "Time taken: 110.85 seconds\n",
      "\n",
      "Running BorderlineSMOTE with sampling_strategy='auto'...\n",
      "Fitting 5 folds for each of 4 candidates, totalling 20 fits\n",
      "Time taken: 195.63 seconds\n",
      "\n",
      "Best Result:\n",
      "{'resampling_method': 'SMOTE', 'sampling_strategy': 'minority', 'best_params': {'model__learning_rate': 0.1, 'model__n_estimators': 100}, 'best_score': 0.695642632468999}\n"
     ]
    }
   ],
   "source": [
    "import time\n",
    "from sklearn.model_selection import GridSearchCV\n",
    "from sklearn.metrics import make_scorer, f1_score\n",
    "from imblearn.over_sampling import SMOTE, SMOTENC, ADASYN, BorderlineSMOTE\n",
    "from imblearn.pipeline import Pipeline  # Import Pipeline from imblearn\n",
    "from xgboost import XGBClassifier\n",
    "\n",
    "# Scoring metric\n",
    "f1_macro = make_scorer(f1_score, average='macro')\n",
    "\n",
    "# Define XGBoost classifier\n",
    "xgb_model = XGBClassifier(random_state=42, eval_metric='logloss', use_label_encoder=False)\n",
    "\n",
    "# Sampling strategies\n",
    "sampling_strategies = ['minority', 'not minority', 'not majority', 'auto']\n",
    "\n",
    "# Define resampling techniques\n",
    "resampling_methods = {\n",
    "    'SMOTE': SMOTE(random_state=42, n_jobs=-1),\n",
    "    # 'SMOTENC': SMOTENC(categorical_features=categorical_indices, random_state=42),\n",
    "    'ADASYN': ADASYN(random_state=42, n_jobs=-1),\n",
    "    'BorderlineSMOTE': BorderlineSMOTE(random_state=42, n_jobs=-1)\n",
    "}\n",
    "\n",
    "# Parameter grid for XGBoost\n",
    "param_grid = {\n",
    "    'model__learning_rate': [0.01, 0.1],\n",
    "    'model__n_estimators': [100, 200]\n",
    "}\n",
    "\n",
    "# Grid search results\n",
    "results = []\n",
    "\n",
    "# Grid Search Loop\n",
    "print(\"Starting Grid Search with Resampling Methods...\\n\")\n",
    "for resampling_name, resampler in resampling_methods.items():\n",
    "    for sampling_strategy in sampling_strategies:\n",
    "        print(f\"Running {resampling_name} with sampling_strategy='{sampling_strategy}'...\")\n",
    "        \n",
    "        # Record start time\n",
    "        start_time = time.time()\n",
    "        \n",
    "        # Pipeline with resampling and model\n",
    "        pipeline = Pipeline([\n",
    "            ('sampling', resampler.set_params(sampling_strategy=sampling_strategy)),\n",
    "            ('model', xgb_model)\n",
    "        ])\n",
    "        \n",
    "        # Grid Search \n",
    "        grid_search = GridSearchCV(\n",
    "            pipeline, param_grid, scoring=f1_macro, verbose=1\n",
    "        )\n",
    "        grid_search.fit(X_train_final, y_train_encoded)\n",
    "        \n",
    "        # Record results\n",
    "        results.append({\n",
    "            'resampling_method': resampling_name,\n",
    "            'sampling_strategy': sampling_strategy,\n",
    "            'best_params': grid_search.best_params_,\n",
    "            'best_score': grid_search.best_score_\n",
    "        })\n",
    "        \n",
    "        print(f\"Time taken: {time.time() - start_time:.2f} seconds\\n\")\n",
    "\n",
    "# Display the best result\n",
    "best_result = max(results, key=lambda x: x['best_score'])\n",
    "print(\"Best Result:\")\n",
    "print(best_result)"
   ]
  },
  {
   "cell_type": "code",
   "execution_count": 52,
   "metadata": {},
   "outputs": [
    {
     "data": {
      "text/plain": [
       "{'resampling_method': 'BorderlineSMOTE',\n",
       " 'sampling_strategy': 'not minority',\n",
       " 'best_params': {'model__learning_rate': 0.1, 'model__n_estimators': 200},\n",
       " 'best_score': 0.5150705052398611}"
      ]
     },
     "execution_count": 52,
     "metadata": {},
     "output_type": "execute_result"
    }
   ],
   "source": [
    "best_result"
   ]
  },
  {
   "cell_type": "code",
   "execution_count": 90,
   "metadata": {},
   "outputs": [
    {
     "name": "stdout",
     "output_type": "stream",
     "text": [
      "___________________________________________________________________________________________________________\n",
      "                                                     TRAIN                                                 \n",
      "-----------------------------------------------------------------------------------------------------------\n",
      "              precision    recall  f1-score   support\n",
      "\n",
      "           0       1.00      1.00      1.00      3369\n",
      "           1       1.00      1.00      1.00        78\n",
      "           2       1.00      1.00      1.00       376\n",
      "\n",
      "    accuracy                           1.00      3823\n",
      "   macro avg       1.00      1.00      1.00      3823\n",
      "weighted avg       1.00      1.00      1.00      3823\n",
      "\n",
      "___________________________________________________________________________________________________________\n",
      "                                                VALIDATION                                                 \n",
      "-----------------------------------------------------------------------------------------------------------\n",
      "              precision    recall  f1-score   support\n",
      "\n",
      "           0       0.97      0.99      0.98       842\n",
      "           1       0.00      0.00      0.00        19\n",
      "           2       0.90      0.86      0.88        94\n",
      "\n",
      "    accuracy                           0.96       955\n",
      "   macro avg       0.62      0.62      0.62       955\n",
      "weighted avg       0.94      0.96      0.95       955\n",
      "\n"
     ]
    },
    {
     "data": {
      "image/png": "[encoded data removed]",
      "text/plain": [
       "<Figure size 1000x400 with 2 Axes>"
      ]
     },
     "metadata": {},
     "output_type": "display_data"
    },
    {
     "name": "stdout",
     "output_type": "stream",
     "text": [
      "\n",
      "Time taken to retrain and evaluate the best model: 1.23 seconds\n"
     ]
    }
   ],
   "source": [
    "from sklearn.metrics import classification_report, confusion_matrix, f1_score\n",
    "from imblearn.over_sampling import BorderlineSMOTE\n",
    "from xgboost import XGBClassifier\n",
    "from imblearn.pipeline import Pipeline\n",
    "import time\n",
    "\n",
    "# Best parameters\n",
    "best_params = {'learning_rate': 0.1, 'n_estimators': 200}\n",
    "best_resampling = BorderlineSMOTE(sampling_strategy='not minority', random_state=42, n_jobs=-1)\n",
    "\n",
    "# Define the pipeline with the best resampling method and XGBoost\n",
    "pipeline = Pipeline([\n",
    "    ('resampling', best_resampling),\n",
    "    ('model', XGBClassifier(**best_params, random_state=42, eval_metric='logloss', use_label_encoder=False))\n",
    "])\n",
    "\n",
    "# Record the start time\n",
    "start_time = time.time()\n",
    "\n",
    "# Fit the pipeline on the training data\n",
    "pipeline.fit(X_train_final, y_train_encoded)\n",
    "\n",
    "# Predict on training and validation data\n",
    "y_pred_train = pipeline.predict(X_train_final)\n",
    "y_pred_val = pipeline.predict(X_val_final)\n",
    "\n",
    "# Compute metrics\n",
    "metrics(y_train_encoded, y_pred_train, y_val_encoded, y_pred_val)\n",
    "\n",
    "# Record the end time\n",
    "end_time = time.time()\n",
    "print(\"\\nTime taken to retrain and evaluate the best model: {:.2f} seconds\".format(end_time - start_time))\n"
   ]
  },
  {
   "cell_type": "markdown",
   "metadata": {},
   "source": [
    "In the current implementation, the XGBoost model shows promising results with a lower degree of overfitting compared to other models. However, there is still room for improvement, particularly in the performance of minority classes. To address this, we will perform a Grid Search to optimize the hyperparameters and improve the model's overall performance."
   ]
  },
  {
   "cell_type": "code",
   "execution_count": null,
   "metadata": {},
   "outputs": [],
   "source": [
    "# from xgboost import XGBClassifier\n",
    "# from sklearn.model_selection import GridSearchCV\n",
    "# import time\n",
    "\n",
    "# # Define the parameter grid\n",
    "# param_grid = {\n",
    "#     'n_estimators': [100, 200, 500],\n",
    "#     'max_depth': [3, 5, 7],\n",
    "#     'learning_rate': [0.01, 0.1, 0.2],\n",
    "#     'subsample': [0.8, 1.0],\n",
    "#     'colsample_bytree': [0.8, 1.0],\n",
    "#     'scale_pos_weight': [1, 2, 5]  # For class imbalance\n",
    "# }\n",
    "\n",
    "# # Initialize the XGBoost model\n",
    "# xgb_model = XGBClassifier(random_state=42, eval_metric='logloss', use_label_encoder=False)\n",
    "\n",
    "# # Initialize GridSearchCV\n",
    "# grid_search = GridSearchCV(\n",
    "#     estimator=xgb_model,\n",
    "#     param_grid=param_grid,\n",
    "#     scoring='f1_macro',  # Evaluate using F1-score\n",
    "#     cv=3,  # 3-fold cross-validation\n",
    "#     verbose=2,\n",
    "#     n_jobs=-1  # Use all available cores\n",
    "# )\n",
    "\n",
    "# # Record the start time\n",
    "# start_time = time.time()\n",
    "\n",
    "# # Fit GridSearchCV\n",
    "# grid_search.fit(X_train_final, y_train_encoded)\n",
    "\n",
    "# # Record the end time and calculate duration\n",
    "# end_time = time.time()\n",
    "# print(f\"Time taken to run the grid search: {end_time - start_time:.2f} seconds\")\n",
    "\n",
    "# # Display the best parameters and F1-score\n",
    "# print(f\"Best Parameters: {grid_search.best_params_}\")\n",
    "# print(f\"Best F1-Score: {grid_search.best_score_:.4f}\")\n",
    "\n",
    "# # Evaluate the best model on the validation set\n",
    "# best_xgb_model = grid_search.best_estimator_\n",
    "# y_pred_xgb_val = best_xgb_model.predict(X_val_final)\n",
    "\n",
    "# # Evaluate metrics on the validation set\n",
    "# metrics(y_train_encoded, y_pred_xgb_train, y_val_encoded, y_pred_xgb_val)"
   ]
  },
  {
   "cell_type": "markdown",
   "metadata": {},
   "source": [
    "#### **LightGBM**\n",
    "\n",
    "LightGBM is a gradient boosting framework designed for fast training and low memory usage. It works well with large datasets and can efficiently handle imbalanced data"
   ]
  },
  {
   "cell_type": "code",
   "execution_count": 91,
   "metadata": {},
   "outputs": [
    {
     "name": "stderr",
     "output_type": "stream",
     "text": [
      "  File \"c:\\Users\\xandg\\anaconda3\\Lib\\site-packages\\joblib\\externals\\loky\\backend\\context.py\", line 217, in _count_physical_cores\n",
      "    raise ValueError(\n"
     ]
    },
    {
     "name": "stdout",
     "output_type": "stream",
     "text": [
      "[LightGBM] [Warning] Found whitespace in feature_names, replace with underlines\n",
      "[LightGBM] [Info] Auto-choosing row-wise multi-threading, the overhead of testing was 0.000448 seconds.\n",
      "You can set `force_row_wise=true` to remove the overhead.\n",
      "And if memory is not enough, you can set `force_col_wise=true`.\n",
      "[LightGBM] [Info] Total Bins 469\n",
      "[LightGBM] [Info] Number of data points in the train set: 3823, number of used features: 11\n",
      "[LightGBM] [Info] Start training from score -1.098612\n",
      "[LightGBM] [Info] Start training from score -1.098612\n",
      "[LightGBM] [Info] Start training from score -1.098612\n",
      "___________________________________________________________________________________________________________\n",
      "                                                     TRAIN                                                 \n",
      "-----------------------------------------------------------------------------------------------------------\n",
      "              precision    recall  f1-score   support\n",
      "\n",
      "           0       1.00      1.00      1.00      3369\n",
      "           1       1.00      1.00      1.00        78\n",
      "           2       1.00      1.00      1.00       376\n",
      "\n",
      "    accuracy                           1.00      3823\n",
      "   macro avg       1.00      1.00      1.00      3823\n",
      "weighted avg       1.00      1.00      1.00      3823\n",
      "\n",
      "___________________________________________________________________________________________________________\n",
      "                                                VALIDATION                                                 \n",
      "-----------------------------------------------------------------------------------------------------------\n",
      "              precision    recall  f1-score   support\n",
      "\n",
      "           0       0.97      0.98      0.98       842\n",
      "           1       0.18      0.11      0.13        19\n",
      "           2       0.89      0.90      0.90        94\n",
      "\n",
      "    accuracy                           0.96       955\n",
      "   macro avg       0.68      0.66      0.67       955\n",
      "weighted avg       0.95      0.96      0.95       955\n",
      "\n"
     ]
    },
    {
     "data": {
      "image/png": "[encoded data removed]",
      "text/plain": [
       "<Figure size 1000x400 with 2 Axes>"
      ]
     },
     "metadata": {},
     "output_type": "display_data"
    },
    {
     "name": "stdout",
     "output_type": "stream",
     "text": [
      "Time taken to run the cell: 1.42 seconds\n"
     ]
    }
   ],
   "source": [
    "# Initialize the LightGBM model\n",
    "from lightgbm import LGBMClassifier\n",
    "\n",
    "# Record the start time\n",
    "start_time = time.time()\n",
    "\n",
    "lgbm_model = LGBMClassifier(random_state=42, class_weight='balanced')\n",
    "\n",
    "# Fit the model to the training data\n",
    "lgbm_model.fit(X_train_final, y_train_encoded)\n",
    "\n",
    "# Predict on the training and validation data\n",
    "y_pred_lgbm_train = lgbm_model.predict(X_train_final)\n",
    "y_pred_lgbm_val = lgbm_model.predict(X_val_final)\n",
    "\n",
    "# Evaluate the model\n",
    "metrics(y_train_encoded, y_pred_lgbm_train, y_val_encoded, y_pred_lgbm_val)\n",
    "\n",
    "# Record the end time and calculate duration\n",
    "end_time = time.time()\n",
    "print(f\"Time taken to run the cell: {end_time - start_time:.2f} seconds\")\n"
   ]
  },
  {
   "cell_type": "markdown",
   "metadata": {},
   "source": [
    "#### **CatBoost**\n",
    "\n",
    "CatBoost is a gradient boosting algorithm specifically optimized for categorical data. It handles imbalanced datasets effectively and reduces the need for extensive preprocessing."
   ]
  },
  {
   "cell_type": "code",
   "execution_count": 92,
   "metadata": {},
   "outputs": [
    {
     "name": "stdout",
     "output_type": "stream",
     "text": [
      "___________________________________________________________________________________________________________\n",
      "                                                     TRAIN                                                 \n",
      "-----------------------------------------------------------------------------------------------------------\n",
      "              precision    recall  f1-score   support\n",
      "\n",
      "           0       1.00      1.00      1.00      3369\n",
      "           1       1.00      0.96      0.98        78\n",
      "           2       1.00      1.00      1.00       376\n",
      "\n",
      "    accuracy                           1.00      3823\n",
      "   macro avg       1.00      0.99      0.99      3823\n",
      "weighted avg       1.00      1.00      1.00      3823\n",
      "\n",
      "___________________________________________________________________________________________________________\n",
      "                                                VALIDATION                                                 \n",
      "-----------------------------------------------------------------------------------------------------------\n",
      "              precision    recall  f1-score   support\n",
      "\n",
      "           0       0.97      0.99      0.98       842\n",
      "           1       0.50      0.05      0.10        19\n",
      "           2       0.90      0.89      0.90        94\n",
      "\n",
      "    accuracy                           0.96       955\n",
      "   macro avg       0.79      0.65      0.66       955\n",
      "weighted avg       0.95      0.96      0.95       955\n",
      "\n"
     ]
    },
    {
     "data": {
      "image/png": "[encoded data removed]",
      "text/plain": [
       "<Figure size 1000x400 with 2 Axes>"
      ]
     },
     "metadata": {},
     "output_type": "display_data"
    },
    {
     "name": "stdout",
     "output_type": "stream",
     "text": [
      "Time taken to run the cell: 6.23 seconds\n"
     ]
    }
   ],
   "source": [
    "# Initialize the CatBoost model\n",
    "from catboost import CatBoostClassifier\n",
    "\n",
    "# Record the start time\n",
    "start_time = time.time()\n",
    "\n",
    "catboost_model = CatBoostClassifier(random_state=42, verbose=0)\n",
    "\n",
    "# Fit the model to the training data\n",
    "catboost_model.fit(X_train_final, y_train_encoded)\n",
    "\n",
    "# Predict on the training and validation data\n",
    "y_pred_catboost_train = catboost_model.predict(X_train_final)\n",
    "y_pred_catboost_val = catboost_model.predict(X_val_final)\n",
    "\n",
    "# Evaluate the model\n",
    "metrics(y_train_encoded, y_pred_catboost_train, y_val_encoded, y_pred_catboost_val)\n",
    "\n",
    "# Record the end time and calculate duration\n",
    "end_time = time.time()\n",
    "print(f\"Time taken to run the cell: {end_time - start_time:.2f} seconds\")\n"
   ]
  },
  {
   "cell_type": "markdown",
   "metadata": {},
   "source": [
    "**GRID SEARCH, SMOTE AND CAT BOOST**"
   ]
  },
  {
   "cell_type": "code",
   "execution_count": 94,
   "metadata": {},
   "outputs": [
    {
     "name": "stdout",
     "output_type": "stream",
     "text": [
      "Starting Grid Search with Resampling Methods...\n",
      "\n",
      "Running Grid Search with SMOTE...\n",
      "Fitting 3 folds for each of 18 candidates, totalling 54 fits\n",
      "Grid Search completed for SMOTE. Time taken: 1284.90 seconds\n",
      "\n",
      "Running Grid Search with ADASYN...\n",
      "Fitting 3 folds for each of 18 candidates, totalling 54 fits\n",
      "Grid Search completed for ADASYN. Time taken: 921.73 seconds\n",
      "\n",
      "Running Grid Search with BorderlineSMOTE...\n",
      "Fitting 3 folds for each of 18 candidates, totalling 54 fits\n",
      "Grid Search completed for BorderlineSMOTE. Time taken: 1073.79 seconds\n",
      "\n",
      "Best Result:\n",
      "{'resampling_method': 'BorderlineSMOTE', 'best_params': {'model__depth': 6, 'model__l2_leaf_reg': 3, 'model__learning_rate': 0.1}, 'best_score': 0.6975023069649436}\n"
     ]
    }
   ],
   "source": [
    "import time\n",
    "from sklearn.model_selection import GridSearchCV\n",
    "from sklearn.metrics import make_scorer, f1_score\n",
    "from imblearn.over_sampling import SMOTE, ADASYN, BorderlineSMOTE\n",
    "from imblearn.pipeline import Pipeline\n",
    "from catboost import CatBoostClassifier\n",
    "\n",
    "# Define the F1 macro scoring metric\n",
    "f1_macro = make_scorer(f1_score, average='macro')\n",
    "\n",
    "# Initialize the CatBoost classifier\n",
    "catboost_model = CatBoostClassifier(verbose=0, random_state=42)\n",
    "\n",
    "# Define resampling methods\n",
    "resampling_methods = {\n",
    "    'SMOTE': SMOTE(random_state=42, n_jobs=-1),\n",
    "    'ADASYN': ADASYN(random_state=42, n_jobs=-1),\n",
    "    'BorderlineSMOTE': BorderlineSMOTE(random_state=42, n_jobs=-1)\n",
    "}\n",
    "\n",
    "# Define the parameter grid for CatBoost\n",
    "param_grid = {\n",
    "    'model__learning_rate': [0.01, 0.1],\n",
    "    'model__depth': [4, 6, 8],\n",
    "    'model__l2_leaf_reg': [1, 3, 5]\n",
    "}\n",
    "\n",
    "# Initialize a list to store grid search results\n",
    "results = []\n",
    "\n",
    "print(\"Starting Grid Search with Resampling Methods...\\n\")\n",
    "\n",
    "# Iterate over each resampling method\n",
    "for resampling_name, resampler in resampling_methods.items():\n",
    "    print(f\"Running Grid Search with {resampling_name}...\")\n",
    "    \n",
    "    # Create a pipeline with the resampling method and the CatBoost model\n",
    "    pipeline = Pipeline([\n",
    "        ('sampling', resampler),\n",
    "        ('model', catboost_model)\n",
    "    ])\n",
    "    \n",
    "    # Start the timer\n",
    "    start_time = time.time()\n",
    "    \n",
    "    # Perform Grid Search\n",
    "    grid_search = GridSearchCV(\n",
    "        pipeline,\n",
    "        param_grid,\n",
    "        scoring=f1_macro,\n",
    "        cv=3,\n",
    "        verbose=1\n",
    "    )\n",
    "    grid_search.fit(X_train_final, y_train_encoded)\n",
    "    \n",
    "    # Record the results for the current resampling method\n",
    "    results.append({\n",
    "        'resampling_method': resampling_name,\n",
    "        'best_params': grid_search.best_params_,\n",
    "        'best_score': grid_search.best_score_\n",
    "    })\n",
    "    \n",
    "    print(f\"Grid Search completed for {resampling_name}. Time taken: {time.time() - start_time:.2f} seconds\\n\")\n",
    "\n",
    "# Identify and display the best result\n",
    "best_result = max(results, key=lambda x: x['best_score'])\n",
    "print(\"Best Result:\")\n",
    "print(best_result)"
   ]
  },
  {
   "cell_type": "markdown",
   "metadata": {},
   "source": [
    "### 5.3.3. Stacking <a class=\"anchor\" id=\"sub_section_5_3_3\"></a>\n",
    "[Back to 5.3. Ensemble Models](#section_5_3)<br>\n",
    "\n",
    "Stacking combines predictions from multiple base models by training a meta-model on their outputs. This leverages the strengths of various algorithms to improve overall performance."
   ]
  },
  {
   "cell_type": "code",
   "execution_count": null,
   "metadata": {},
   "outputs": [],
   "source": [
    "from sklearn.ensemble import StackingClassifier\n",
    "from sklearn.linear_model import LogisticRegression\n",
    "\n",
    "# Define base models\n",
    "base_models = [\n",
    "    ('rf', RandomForestClassifier(random_state=42, class_weight='balanced')),\n",
    "    ('xgb', XGBClassifier(random_state=42, use_label_encoder=False, eval_metric='logloss')),\n",
    "]\n",
    "\n",
    "# Initialize the meta-model\n",
    "meta_model = LogisticRegression(random_state=42)\n",
    "\n",
    "# Initialize the Stacking model\n",
    "stacking_model = StackingClassifier(estimators=base_models, final_estimator=meta_model)\n",
    "\n",
    "# Fit the model to the training data\n",
    "stacking_model.fit(X_train_final, y_train_encoded)\n",
    "\n",
    "# Predict on the training and validation data\n",
    "y_pred_stack_train = stacking_model.predict(X_train_final)\n",
    "y_pred_stack_val = stacking_model.predict(X_val_final)\n",
    "\n",
    "# Evaluate the model\n",
    "metrics(y_train_encoded, y_pred_stack_train, y_val_encoded, y_pred_stack_val)"
   ]
  },
  {
   "cell_type": "markdown",
   "metadata": {},
   "source": [
    "## 5.4. Summary of Models </b> <a class=\"anchor\" id=\"section_5_4\"></a>\n",
    "\n",
    "[Back to 5. Modelling](#chapter5)<br>\n",
    "\n",
    "We focused on a select set of models for multiclass classification as the initial results provided promising performance metrics. Below is the performance table, including F1 scores for training and validation datasets, along with the time taken for each model to run.\n",
    "\n",
    "\n",
    "| **Model**              | **F1 Score (Train)** | **F1 Score (Validation)** | **Time (seconds)** | **Method**                          |\n",
    "|-------------------------|----------------------|----------------------------|---------------------|-------------------------------------|\n",
    "| Logistic Regression     | 0.37                | 0.37                       | 6.55                | -                                   |\n",
    "| Logistic Regression     | 0.35                | 0.35                       | 6.55                | Balanced class weights             |\n",
    "| Decision Trees          | 0.99                | 0.43                       | -                   | -                                   |\n",
    "| Decision Trees          | 0.99                | 0.43                       | -                   | Manual class weights               |\n",
    "| Decision Trees          | 0.75                | 0.46                       | -                   | Grid search                        |\n",
    "| KNN                     | 0.49                | 0.40                       | 69.96               | -                                   |\n",
    "| KNN                     | 0.99                | 0.43                       | 780.82              | SMOTE and Grid Search               |\n",
    "| Neural Networks         | 0.44                | 0.44                       | -                   | Balanced class weights             |\n",
    "| Neural Networks         | -                   | -                          | -                   | Balanced class weights & grid search |\n",
    "| Random Forest           | -                   | -                          | -                   | Balanced class weights             |\n",
    "| Random Forest           | -                   | -                          | -                   | Grid search                        |\n",
    "| XGBoost                 | -                   | -                          | -                   | -                                   |\n",
    "| XGBoost                 | -                   | -                          | -                   | Grid search                        |\n",
    "| LightGBM                | -                   | -                          | -                   | Balanced class weights             |\n",
    "| CatBoost                | -                   | -                          | -                   | -                                   |\n",
    "| Stacking                | -                   | -                          | -                   | -                                   |\n"
   ]
  },
  {
   "cell_type": "markdown",
   "metadata": {},
   "source": [
    "# 6. Loading the Results <a class=\"anchor\" id=\"chapter6\"></a>\n",
    "\n",
    "[Back to ToC](#toc)<br>\n"
   ]
  },
  {
   "cell_type": "code",
   "execution_count": null,
   "metadata": {},
   "outputs": [],
   "source": [
    "# Filter the test data where y_test == 1\n",
    "X_test_filtered = X_test_final.loc[y_test[y_test == 1].index]\n",
    "\n",
    "# Remove non-numeric columns (like 'Final_Predictions') before prediction\n",
    "X_test_filtered_numeric = X_test_filtered.select_dtypes(include=['int', 'float', 'bool', 'category'])\n",
    "\n",
    "# Apply the model to predict on the filtered numeric test data\n",
    "y_pred_test_filtered = gb_model.predict(X_test_filtered_numeric)\n",
    "\n",
    "# Inverse transform the predictions to the original labels\n",
    "label_encoder = LabelEncoder()\n",
    "label_encoder.fit(y_train_min)  # Use the encoder already fitted on training data\n",
    "y_pred_test_original_filtered = label_encoder.inverse_transform(y_pred_test_filtered)\n",
    "\n",
    "# Add the predictions back to the original test dataset\n",
    "X_test_final.loc[y_test[y_test == 1.index, 'Pred_notebook_5'] = y_pred_test_original_filtered\n",
    "\n",
    "# Count the occurrences of each class in the filtered test predictions\n",
    "class_counts_filtered = pd.Series(y_pred_test_original_filtered).value_counts()\n",
    "\n",
    "# Display results\n",
    "print(\"Predicted Class Counts (Original Labels) for y_test == 1:\")\n",
    "print(class_counts_filtered)\n"
   ]
  },
  {
   "cell_type": "code",
   "execution_count": null,
   "metadata": {},
   "outputs": [],
   "source": [
    "# Ensure the index alignment before assigning\n",
    "df_test['Pred_notebook_5'] = X_test_final.loc[df_test.index, 'Pred_notebook_5']\n",
    "\n",
    "# Save the updated DataFrame to a file\n",
    "df_test.to_csv('../Data_Temporary/df_test_predictions_not5.csv', index=True)"
   ]
  }
 ],
 "metadata": {
  "kernelspec": {
   "display_name": "Python 3",
   "language": "python",
   "name": "python3"
  },
  "language_info": {
   "codemirror_mode": {
    "name": "ipython",
    "version": 3
   },
   "file_extension": ".py",
   "mimetype": "text/x-python",
   "name": "python",
   "nbconvert_exporter": "python",
   "pygments_lexer": "ipython3",
   "version": "3.11.3"
  }
 },
 "nbformat": 4,
 "nbformat_minor": 2
}
